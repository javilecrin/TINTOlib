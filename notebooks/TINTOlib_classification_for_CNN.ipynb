{
 "cells": [
  {
   "cell_type": "markdown",
   "metadata": {
    "id": "EybOZ6hSjpCF"
   },
   "source": [
    "<h1><font color=\"#113D68\" size=5>TINTO: Converting Tidy Data into Image for Classification with 2-Dimensional Convolutional Neural Networks</font></h1>\n",
    "\n",
    "\n",
    "\n",
    "<h1><font color=\"#113D68\" size=6>How to read TINTO images</font></h1>\n",
    "\n",
    "<br><br>\n",
    "<div style=\"text-align: right\">\n",
    "<font color=\"#113D68\" size=3>Manuel Castillo-Cara</font><br>\n",
    "<font color=\"#113D68\" size=3>Raúl García-Castro</font><br>\n",
    "<font color=\"#113D68\" size=3>Luis Orozco-Barbosa</font><br>\n",
    "</div>"
   ]
  },
  {
   "cell_type": "markdown",
   "metadata": {
    "id": "2l5nFzsdjpCW"
   },
   "source": [
    "---\n",
    "\n",
    "<a id=\"indice\"></a>\n",
    "<h2><font color=\"#004D7F\" size=5>Index</font></h2>\n",
    "\n",
    "* [0. Context](#section0)\n",
    "* [1. Description](#section1)\n",
    "    * [1.1. Main Features](#section12)\n",
    "    * [1.2. Citation](#section12)\n",
    "* [2. Libraries](#section2)\n",
    "* [3. Data processing](#section3)\n",
    "    * [3.1. Read images](#section31)\n",
    "    * [3.2. Data Curation](#section32)\n",
    "* [4. Pre-modelling phase](#section4)\n",
    "    * [4.1. Resize images](#section41)\n",
    "    * [4.2. Iteradores](#section42)\n",
    "* [5. Modelling with CNN](#section5)\n",
    "    * [5.1. CNN](#section51)\n",
    "    * [5.2. Compile and fit](#section52)\n",
    "    * [5.3. Results](#section53)"
   ]
  },
  {
   "cell_type": "markdown",
   "metadata": {
    "id": "SxTpMExHjpCa"
   },
   "source": [
    "---\n",
    "<a id=\"section0\"></a>\n",
    "# <font color=\"#004D7F\" size=6> 0. Context</font>"
   ]
  },
  {
   "cell_type": "markdown",
   "metadata": {
    "id": "JlVYt3MRrl_V"
   },
   "source": [
    "This is a tutorial on how to read the images created by TINTO and pass them to a very simple pretrained Convolutional Neural Network (CNN). The images must already be created by the TINTO software. See the documentation in GITHUB for how to create the images from tabular data.\n",
    "\n",
    "Remember that when using CNN you can set the training to be done with GPUs to improve performance."
   ]
  },
  {
   "cell_type": "markdown",
   "metadata": {
    "id": "WaA-_OjsjpCe"
   },
   "source": [
    "<div class=\"alert alert-block alert-info\">\n",
    "    \n",
    "<i class=\"fa fa-info-circle\" aria-hidden=\"true\"></i>\n",
    "See the paper from [Information Fusion Journal](https://doi.org/10.1016/j.inffus.2022.10.011)"
   ]
  },
  {
   "cell_type": "markdown",
   "metadata": {
    "id": "28TFDkl5jpCi"
   },
   "source": [
    "<div class=\"alert alert-block alert-info\">\n",
    "    \n",
    "<i class=\"fa fa-info-circle\" aria-hidden=\"true\"></i>\n",
    "See the paper from [SoftwareX](https://doi.org/10.1016/j.softx.2023.101391)"
   ]
  },
  {
   "cell_type": "markdown",
   "metadata": {
    "id": "i3tgsO0BjpCj"
   },
   "source": [
    "<div class=\"alert alert-block alert-info\">\n",
    "    \n",
    "<i class=\"fa fa-info-circle\" aria-hidden=\"true\"></i>\n",
    "You can see all information about TINTO in [GitHub](https://github.com/oeg-upm/TINTO)"
   ]
  },
  {
   "cell_type": "markdown",
   "metadata": {
    "id": "4RKBgDwzjpCl"
   },
   "source": [
    "---\n",
    "<div style=\"text-align: right\"> <font size=5> <a href=\"#indice\"><i class=\"fa fa-arrow-circle-up\" aria-hidden=\"true\" style=\"color:#004D7F\"></i></a></font></div>\n",
    "\n",
    "---"
   ]
  },
  {
   "cell_type": "markdown",
   "metadata": {
    "id": "kpU7pi6yjpCn"
   },
   "source": [
    "<a id=\"section1\"></a>\n",
    "# <font color=\"#004D7F\" size=6> 1. Description</font>"
   ]
  },
  {
   "cell_type": "markdown",
   "metadata": {
    "id": "NL9RoFkEjpCq"
   },
   "source": [
    "The growing interest in the use of algorithms-based machine learning for predictive tasks has generated a large and diverse development of algorithms. However, it is widely known that not all of these algorithms are adapted to efficient solutions in certain tidy data format datasets. For this reason, novel techniques are currently being developed to convert tidy data into images with the aim of using Convolutional Neural Networks (CNNs). TINTO offers the opportunity to convert tidy data into images through the representation of characteristic pixels by implementing two dimensional reduction algorithms: PCA and _t_-SNE. Our proposal also includes a blurring technique, which adds more ordered information to the image and can improve the classification task in CNNs."
   ]
  },
  {
   "cell_type": "markdown",
   "metadata": {
    "id": "HFrF4C89jpCt"
   },
   "source": [
    "---\n",
    "<a id=\"section11\"></a>\n",
    "# <font color=\"#004D7F\" size=5> 1.1. Main Features</font>"
   ]
  },
  {
   "cell_type": "markdown",
   "metadata": {
    "id": "1gruE0_sjpCu"
   },
   "source": [
    "- Supports all CSV data in **[Tidy Data](https://www.jstatsoft.org/article/view/v059i10)** format.\n",
    "- For now, the algorithm converts tabular data for binary and multi-class classification problems into machine learning.\n",
    "- Input data formats:\n",
    "    - **Tabular files**: The input data must be in **[CSV](https://en.wikipedia.org/wiki/Comma-separated_values)**, taking into account the **[Tidy Data](https://www.jstatsoft.org/article/view/v059i10)** format.\n",
    "    - **Tidy Data**: The **target** (variable to be predicted) should be set as the last column of the dataset. Therefore, the first columns will be the features.\n",
    "    - All data must be in numerical form. TINTO does not accept data in string or any other non-numeric format.\n",
    "- Two dimensionality reduction algorithms are used in image creation, **[PCA](https://scikit-learn.org/stable/modules/generated/sklearn.decomposition.PCA.html#sklearn.decomposition.PCA)** and **[*t*-SNE](https://scikit-learn.org/stable/modules/generated/sklearn.manifold.TSNE.html)** from the Scikit-learn Python library.\n",
    "- The synthetic images to be created will be in black and white, i.e. in 1 channel.\n",
    "- The synthetic image **dimensions** can be set as a parameter when creating them.\n",
    "- The synthetic images can be created using **characteristic pixels** or **blurring** painting technique (expressing an overlap of pixels as the **maximum** or **average**).\n",
    "- Runs on **Linux**, **Windows** and **macOS** systems.\n",
    "- Compatible with **[Python](https://www.python.org/)** 3.7 or higher."
   ]
  },
  {
   "cell_type": "markdown",
   "metadata": {
    "id": "Z3EzYcjJjpC6"
   },
   "source": [
    "---\n",
    "<div style=\"text-align: right\"> <font size=5> <a href=\"#indice\"><i class=\"fa fa-arrow-circle-up\" aria-hidden=\"true\" style=\"color:#004D7F\"></i></a></font></div>\n",
    "\n",
    "---"
   ]
  },
  {
   "cell_type": "markdown",
   "metadata": {
    "id": "qwYF5A2njpC8"
   },
   "source": [
    "<a id=\"section2\"></a>\n",
    "# <font color=\"#004D7F\" size=6> 2. Libraries</font>"
   ]
  },
  {
   "cell_type": "markdown",
   "metadata": {
    "id": "5AdHKnWYsEq_"
   },
   "source": [
    "The first thing we need to do is to declare the libraries"
   ]
  },
  {
   "cell_type": "code",
   "execution_count": 11,
   "metadata": {},
   "outputs": [
    {
     "name": "stdout",
     "output_type": "stream",
     "text": [
      "Collecting keras_preprocessing\n",
      "  Downloading Keras_Preprocessing-1.1.2-py2.py3-none-any.whl (42 kB)\n",
      "     ---------------------------------------- 42.6/42.6 kB 2.0 MB/s eta 0:00:00\n",
      "Requirement already satisfied: numpy>=1.9.1 in c:\\users\\borja\\anaconda3\\lib\\site-packages (from keras_preprocessing) (1.23.5)\n",
      "Requirement already satisfied: six>=1.9.0 in c:\\users\\borja\\anaconda3\\lib\\site-packages (from keras_preprocessing) (1.16.0)\n",
      "Installing collected packages: keras_preprocessing\n",
      "Successfully installed keras_preprocessing-1.1.2\n",
      "Note: you may need to restart the kernel to use updated packages.\n"
     ]
    }
   ],
   "source": [
    "pip install keras_preprocessing"
   ]
  },
  {
   "cell_type": "code",
   "execution_count": 48,
   "metadata": {
    "id": "PeeBbGxlpjFp",
    "tags": []
   },
   "outputs": [],
   "source": [
    "import os\n",
    "import pandas as pd\n",
    "import numpy as np\n",
    "from tqdm import tqdm\n",
    "#import cv2\n",
    "import gc\n",
    "import matplotlib.pyplot as plt\n",
    "#import openslide\n",
    "#from openslide.deepzoom import DeepZoomGenerator\n",
    "import tifffile as tifi\n",
    "import sklearn\n",
    "import tensorflow as tf\n",
    "\n",
    "from keras_preprocessing.image import ImageDataGenerator\n",
    "from tensorflow.keras.models import load_model\n",
    "\n",
    "from sklearn.model_selection import train_test_split\n",
    "from tensorflow.keras.applications import vgg16, vgg19, resnet50, mobilenet, inception_resnet_v2, densenet, inception_v3, xception, nasnet, ResNet152V2\n",
    "from tensorflow.keras.models import Sequential, Model, load_model\n",
    "from tensorflow.keras.layers import Dense, Conv2D, MaxPool2D, Flatten, Dropout, BatchNormalization, InputLayer, LayerNormalization\n",
    "from tensorflow.keras.callbacks import ModelCheckpoint, ReduceLROnPlateau, EarlyStopping\n",
    "from tensorflow.keras.optimizers import SGD, Adam, Adadelta, Adamax\n",
    "\n",
    "from imblearn.over_sampling import RandomOverSampler\n",
    "#Models of TINTOlib\n",
    "from TINTOlib.tinto import TINTO\n",
    "from TINTOlib.supertml import SuperTML\n",
    "from TINTOlib.igtd import IGTD\n",
    "from TINTOlib.refined import REFINED\n",
    "from TINTOlib.barGraph import BarGraph\n",
    "from TINTOlib.distanceMatrix import DistanceMatrix\n",
    "from TINTOlib.combination import Combination"
   ]
  },
  {
   "cell_type": "markdown",
   "metadata": {
    "id": "NwS-cKUxjpDQ"
   },
   "source": [
    "---\n",
    "<div style=\"text-align: right\"> <font size=5> <a href=\"#indice\"><i class=\"fa fa-arrow-circle-up\" aria-hidden=\"true\" style=\"color:#004D7F\"></i></a></font></div>\n",
    "\n",
    "---"
   ]
  },
  {
   "cell_type": "markdown",
   "metadata": {
    "id": "aDL4LARWjpDT"
   },
   "source": [
    "<a id=\"section3\"></a>\n",
    "# <font color=\"#004D7F\" size=6> 3. Data processing</font>"
   ]
  },
  {
   "cell_type": "markdown",
   "metadata": {
    "id": "jXcRw78ljpDU"
   },
   "source": [
    "The first thing to do is to read all the images created by TINTO. TINTO creates a folder which contains subfolders corresponding to each target that has the problem. Each image corresponds to a sample of the original dataset."
   ]
  },
  {
   "cell_type": "markdown",
   "metadata": {},
   "source": [
    "<a id=\"section31\"></a>\n",
    "# <font color=\"#004D7F\" size=5> 3.1. Create images with TINTOlib</font>"
   ]
  },
  {
   "cell_type": "code",
   "execution_count": 17,
   "metadata": {},
   "outputs": [
    {
     "name": "stdout",
     "output_type": "stream",
     "text": [
      "C:\\Users\\Borja\\PycharmProjects\\TINTORERA\\tintoimages\\supervised.csv\n"
     ]
    }
   ],
   "source": [
    "#Select the model and the parameters\n",
    "problem_type = \"supervised\"\n",
    "image_model = TINTO(problem= problem_type)\n",
    "\n",
    "#Define the dataset path and the folder where the images will be saved\n",
    "dataset_path = \"C:\\\\Users\\\\Borja\\\\PycharmProjects\\\\TINTORERA\\\\Datasets\\\\cancer.csv \"\n",
    "images_folder = \"C:\\\\Users\\\\Borja\\\\PycharmProjects\\\\TINTORERA\\\\tintoimages\"\n",
    "\n",
    "#Generate thet images\n",
    "image_model.generateImages(dataset_path, images_folder)\n",
    "\n",
    "img_paths = os.path.join(images_folder,problem_type+\".csv\")\n",
    "\n",
    "print(img_paths)\n"
   ]
  },
  {
   "cell_type": "markdown",
   "metadata": {
    "id": "klS9PZsUjpDV"
   },
   "source": [
    "<a id=\"section32\"></a>\n",
    "# <font color=\"#004D7F\" size=5> 3.2. Read images</font>"
   ]
  },
  {
   "cell_type": "markdown",
   "metadata": {
    "id": "COh9Th5jsDei"
   },
   "source": [
    "Read the images path csv"
   ]
  },
  {
   "cell_type": "code",
   "execution_count": 62,
   "metadata": {},
   "outputs": [
    {
     "name": "stdout",
     "output_type": "stream",
     "text": [
      "C:\\Users\\Borja\\PycharmProjects\\TINTORERA\\tintoimages\\01\\000000.png\n",
      "-1.0    357\n",
      "1.0     211\n",
      "Name: class, dtype: int64\n"
     ]
    }
   ],
   "source": [
    "df = pd.read_csv(img_paths)\n",
    "df[\"class\"] = df[\"class\"].astype(str)\n",
    "df[\"images\"]= images_folder + \"\\\\\" + df[\"images\"]\n",
    "\n",
    "print(df[\"images\"][0])\n",
    "print(df[\"class\"].value_counts())"
   ]
  },
  {
   "cell_type": "markdown",
   "metadata": {
    "id": "nb4Dd37rjpDm"
   },
   "source": [
    "<a id=\"section32\"></a>\n",
    "# <font color=\"#004D7F\" size=5> 3.2. Data curation</font>"
   ]
  },
  {
   "cell_type": "markdown",
   "metadata": {
    "id": "9TjBcUbxjpDt"
   },
   "source": [
    "Split in train/test/validation"
   ]
  },
  {
   "cell_type": "code",
   "execution_count": 63,
   "metadata": {
    "id": "BDyHty4-pjF5",
    "tags": []
   },
   "outputs": [],
   "source": [
    "df_x = df.drop('class', axis = 1)\n",
    "df_y = df['class']\n",
    "\n",
    "\n",
    "X_train, X_val, y_train, y_val = train_test_split(df_x, df_y, test_size = 0.40, random_state = 123)\n",
    "X_val, X_test, y_val, y_test = train_test_split(X_val, y_val, test_size = 0.50, random_state = 123)\n"
   ]
  },
  {
   "cell_type": "code",
   "execution_count": 64,
   "metadata": {
    "id": "9Ix84V0ApjF8",
    "tags": []
   },
   "outputs": [],
   "source": [
    "df_train = pd.concat([X_train, y_train], axis = 1)\n",
    "df_test = pd.concat([X_test, y_test], axis = 1)\n",
    "df_val = pd.concat([X_val, y_val], axis = 1)"
   ]
  },
  {
   "cell_type": "code",
   "execution_count": 65,
   "metadata": {
    "id": "mnX_etdYpjF9",
    "tags": []
   },
   "outputs": [
    {
     "name": "stdout",
     "output_type": "stream",
     "text": [
      "-1.0    219\n",
      "1.0     121\n",
      "Name: class, dtype: int64\n",
      " \n",
      " \n",
      "-1.0    71\n",
      "1.0     43\n",
      "Name: class, dtype: int64\n",
      " \n",
      " \n",
      "-1.0    67\n",
      "1.0     47\n",
      "Name: class, dtype: int64\n"
     ]
    }
   ],
   "source": [
    "print(df_train['class'].value_counts())\n",
    "print(' ')\n",
    "print(' ')\n",
    "print(df_test['class'].value_counts())\n",
    "print(' ')\n",
    "print(' ')\n",
    "print(df_val['class'].value_counts())"
   ]
  },
  {
   "cell_type": "markdown",
   "metadata": {
    "id": "_haEKIo7jpD1"
   },
   "source": [
    "---\n",
    "<div style=\"text-align: right\"> <font size=5> <a href=\"#indice\"><i class=\"fa fa-arrow-circle-up\" aria-hidden=\"true\" style=\"color:#004D7F\"></i></a></font></div>\n",
    "\n",
    "---"
   ]
  },
  {
   "cell_type": "markdown",
   "metadata": {
    "id": "uF1lJWbojpD3"
   },
   "source": [
    "<a id=\"section4\"></a>\n",
    "# <font color=\"#004D7F\" size=6> 4. Pre-modelling phase</font>"
   ]
  },
  {
   "cell_type": "markdown",
   "metadata": {
    "id": "Z2JfptcrjpD5"
   },
   "source": [
    "Once the data is ready, we load it into memory with an iterator in order to pass it to the CNN."
   ]
  },
  {
   "cell_type": "markdown",
   "metadata": {
    "id": "a347tUZnjpED"
   },
   "source": [
    "<a id=\"section41\"></a>\n",
    "# <font color=\"#004D7F\" size=5> 4.1. Resize images</font>"
   ]
  },
  {
   "cell_type": "markdown",
   "metadata": {
    "id": "xvXLjHzAjpEE"
   },
   "source": [
    "In our case, as we are going to train with a pre-trained network, we must resize it to the dimensions established by the network. Therefore, if you make a customised CNN, this cell is optional. "
   ]
  },
  {
   "cell_type": "code",
   "execution_count": 66,
   "metadata": {
    "id": "Z0Jbdn_ypjF-",
    "tags": []
   },
   "outputs": [],
   "source": [
    "train_datagen = ImageDataGenerator(rescale = 1./255)\n",
    "valid_datagen = ImageDataGenerator(rescale = 1./255)\n",
    "teste_datagen = ImageDataGenerator(rescale = 1./255)"
   ]
  },
  {
   "cell_type": "code",
   "execution_count": 67,
   "metadata": {
    "id": "ebOBC5iypjGA",
    "tags": []
   },
   "outputs": [
    {
     "name": "stdout",
     "output_type": "stream",
     "text": [
      "(340, 2)\n",
      "(114, 2)\n",
      "(114, 2)\n"
     ]
    }
   ],
   "source": [
    "print(df_train.shape)\n",
    "print(df_val.shape)\n",
    "print(df_test.shape)"
   ]
  },
  {
   "cell_type": "code",
   "execution_count": 68,
   "metadata": {
    "id": "Z3clBH_ypjGB",
    "tags": []
   },
   "outputs": [],
   "source": [
    "image_length = 32\n",
    "image_height = 32"
   ]
  },
  {
   "cell_type": "markdown",
   "metadata": {
    "id": "NjFY9rn2jpEL"
   },
   "source": [
    "<a id=\"section42\"></a>\n",
    "# <font color=\"#004D7F\" size=5> 4.2. Iteradores</font>"
   ]
  },
  {
   "cell_type": "markdown",
   "metadata": {
    "id": "GFYTHIPljpEM"
   },
   "source": [
    "Create iterators for train/test/validation"
   ]
  },
  {
   "cell_type": "code",
   "execution_count": 69,
   "metadata": {
    "id": "inaR7-KxpjGC",
    "tags": []
   },
   "outputs": [
    {
     "name": "stdout",
     "output_type": "stream",
     "text": [
      "Found 340 validated image filenames belonging to 2 classes.\n"
     ]
    }
   ],
   "source": [
    "train_iter = train_datagen.flow_from_dataframe(\n",
    "    df_train, \n",
    "    target_size = (image_length, image_height),\n",
    "    x_col = 'images',\n",
    "    y_col = 'class',\n",
    "    class_mode = 'categorical',\n",
    "    batch_size = 8,\n",
    "    shuffle = True\n",
    ")"
   ]
  },
  {
   "cell_type": "code",
   "execution_count": 70,
   "metadata": {
    "id": "MGPDhsFQpjGE",
    "tags": []
   },
   "outputs": [
    {
     "name": "stdout",
     "output_type": "stream",
     "text": [
      "Found 114 validated image filenames belonging to 2 classes.\n"
     ]
    }
   ],
   "source": [
    "valid_iter = train_datagen.flow_from_dataframe(\n",
    "    df_val, \n",
    "    target_size = (image_length, image_height),\n",
    "    x_col = 'images',\n",
    "    y_col = 'class',\n",
    "    class_mode = 'categorical',\n",
    "    batch_size = 8\n",
    ")"
   ]
  },
  {
   "cell_type": "code",
   "execution_count": 71,
   "metadata": {
    "id": "jkWY-9y3pjGF",
    "tags": []
   },
   "outputs": [
    {
     "name": "stdout",
     "output_type": "stream",
     "text": [
      "Found 114 validated image filenames belonging to 2 classes.\n"
     ]
    }
   ],
   "source": [
    "test_iter = train_datagen.flow_from_dataframe(\n",
    "    df_test, \n",
    "    target_size = (image_length, image_height),\n",
    "    x_col = 'images',\n",
    "    y_col = 'class',\n",
    "    class_mode = 'categorical',\n",
    "    batch_size = 8,\n",
    "    shuffle = True\n",
    ")"
   ]
  },
  {
   "cell_type": "code",
   "execution_count": 72,
   "metadata": {
    "id": "3YzRGsb9pjGG",
    "tags": []
   },
   "outputs": [
    {
     "name": "stdout",
     "output_type": "stream",
     "text": [
      "(32, 32, 3)\n",
      "(32, 32, 3)\n",
      "(32, 32, 3)\n"
     ]
    }
   ],
   "source": [
    "print(train_iter.image_shape)\n",
    "print(valid_iter.image_shape)\n",
    "print(test_iter.image_shape)"
   ]
  },
  {
   "cell_type": "markdown",
   "metadata": {
    "id": "xagy7N7ijpEX"
   },
   "source": [
    "---\n",
    "<div style=\"text-align: right\"> <font size=5> <a href=\"#indice\"><i class=\"fa fa-arrow-circle-up\" aria-hidden=\"true\" style=\"color:#004D7F\"></i></a></font></div>\n",
    "\n",
    "---"
   ]
  },
  {
   "cell_type": "markdown",
   "metadata": {
    "id": "rE0VunQYjpEY"
   },
   "source": [
    "<a id=\"section5\"></a>\n",
    "# <font color=\"#004D7F\" size=6> 5. Modelling with CNN</font>"
   ]
  },
  {
   "cell_type": "markdown",
   "metadata": {
    "id": "MDfs9l-hjpEZ"
   },
   "source": [
    "Now we can start the CNN training. Before that we prepare the algorithm for reading data."
   ]
  },
  {
   "cell_type": "markdown",
   "metadata": {
    "id": "Qn2U90FwjpEe"
   },
   "source": [
    "<a id=\"section51\"></a>\n",
    "# <font color=\"#004D7F\" size=5> 5.1. CNN</font>"
   ]
  },
  {
   "cell_type": "code",
   "execution_count": 73,
   "metadata": {
    "id": "8aRrQsstpjGI",
    "tags": []
   },
   "outputs": [],
   "source": [
    "model = vgg16.VGG16(\n",
    "                    input_shape = (image_length, image_height, 3),\n",
    "                    include_top = False,\n",
    "                    pooling = 'avg',\n",
    "                    weights = 'imagenet'\n",
    "                    )\n",
    "\n",
    "\n",
    "model.trainable = False\n",
    "\n",
    "\n",
    "x = Dense(2,\n",
    "          activation = 'softmax',\n",
    "          name = 'new_output')(model.output) \n",
    "\n",
    "\n",
    "model = Model(model.input, x)"
   ]
  },
  {
   "cell_type": "markdown",
   "metadata": {
    "id": "owmN8gR-jpEh"
   },
   "source": [
    "<a id=\"section52\"></a>\n",
    "# <font color=\"#004D7F\" size=5> 5.2. Compile and fit</font>"
   ]
  },
  {
   "cell_type": "code",
   "execution_count": 74,
   "metadata": {
    "id": "DC3Ft7sppjGI",
    "tags": []
   },
   "outputs": [],
   "source": [
    "METRICS = [\n",
    "      tf.keras.metrics.TruePositives(name = 'tp'),\n",
    "      tf.keras.metrics.FalsePositives(name = 'fp'),\n",
    "      tf.keras.metrics.TrueNegatives(name = 'tn'),\n",
    "      tf.keras.metrics.FalseNegatives(name = 'fn'), \n",
    "      tf.keras.metrics.BinaryAccuracy(name ='accuracy'),\n",
    "      tf.keras.metrics.Precision(name = 'precision'),\n",
    "      tf.keras.metrics.Recall(name = 'recall'),\n",
    "      tf.keras.metrics.AUC(name = 'auc'),\n",
    "]"
   ]
  },
  {
   "cell_type": "code",
   "execution_count": 75,
   "metadata": {
    "id": "RFxZU2q6pjGJ",
    "tags": []
   },
   "outputs": [],
   "source": [
    "model.compile(\n",
    "                #optimizer = sgd,\n",
    "                #optimizer = opt,\n",
    "                optimizer = 'adam',\n",
    "                #optimizer = 'Adadelta',\n",
    "                #optimizer = 'Adamax',\n",
    "                \n",
    "                metrics = METRICS,\n",
    "                #metrics = ['accuracy'],\n",
    "                #metrics = ['mse'],\n",
    "                \n",
    "                #loss = 'binary_crossentropy'\n",
    "                loss = 'categorical_crossentropy'\n",
    "                #loss = 'mean_absolute_error'\n",
    "                #loss = 'mse'\n",
    "                #loss = 'mean_squared_logarithmic_error'\n",
    "                )"
   ]
  },
  {
   "cell_type": "code",
   "execution_count": 76,
   "metadata": {
    "id": "n-0AaerapjGK",
    "scrolled": true,
    "tags": []
   },
   "outputs": [
    {
     "name": "stdout",
     "output_type": "stream",
     "text": [
      "Epoch 1/50\n",
      "42/42 [==============================] - 3s 43ms/step - loss: 0.6308 - tp: 215.0000 - fp: 117.0000 - tn: 215.0000 - fn: 117.0000 - accuracy: 0.6476 - precision: 0.6476 - recall: 0.6476 - auc: 0.7117 - val_loss: 0.6519 - val_tp: 66.0000 - val_fp: 46.0000 - val_tn: 66.0000 - val_fn: 46.0000 - val_accuracy: 0.5893 - val_precision: 0.5893 - val_recall: 0.5893 - val_auc: 0.7508\n",
      "Epoch 2/50\n",
      "42/42 [==============================] - 2s 36ms/step - loss: 0.5815 - tp: 223.0000 - fp: 109.0000 - tn: 223.0000 - fn: 109.0000 - accuracy: 0.6717 - precision: 0.6717 - recall: 0.6717 - auc: 0.7838 - val_loss: 0.5747 - val_tp: 71.0000 - val_fp: 41.0000 - val_tn: 71.0000 - val_fn: 41.0000 - val_accuracy: 0.6339 - val_precision: 0.6339 - val_recall: 0.6339 - val_auc: 0.7864\n",
      "Epoch 3/50\n",
      "42/42 [==============================] - 2s 36ms/step - loss: 0.5548 - tp: 237.0000 - fp: 95.0000 - tn: 237.0000 - fn: 95.0000 - accuracy: 0.7139 - precision: 0.7139 - recall: 0.7139 - auc: 0.7960 - val_loss: 0.5432 - val_tp: 82.0000 - val_fp: 30.0000 - val_tn: 82.0000 - val_fn: 30.0000 - val_accuracy: 0.7321 - val_precision: 0.7321 - val_recall: 0.7321 - val_auc: 0.8183\n",
      "Epoch 4/50\n",
      "42/42 [==============================] - 2s 36ms/step - loss: 0.5067 - tp: 263.0000 - fp: 69.0000 - tn: 263.0000 - fn: 69.0000 - accuracy: 0.7922 - precision: 0.7922 - recall: 0.7922 - auc: 0.8749 - val_loss: 0.5523 - val_tp: 71.0000 - val_fp: 41.0000 - val_tn: 71.0000 - val_fn: 41.0000 - val_accuracy: 0.6339 - val_precision: 0.6339 - val_recall: 0.6339 - val_auc: 0.7946\n",
      "Epoch 5/50\n",
      "42/42 [==============================] - 1s 35ms/step - loss: 0.4829 - tp: 261.0000 - fp: 71.0000 - tn: 261.0000 - fn: 71.0000 - accuracy: 0.7861 - precision: 0.7861 - recall: 0.7861 - auc: 0.8625 - val_loss: 0.4843 - val_tp: 91.0000 - val_fp: 21.0000 - val_tn: 91.0000 - val_fn: 21.0000 - val_accuracy: 0.8125 - val_precision: 0.8125 - val_recall: 0.8125 - val_auc: 0.8988\n",
      "Epoch 6/50\n",
      "42/42 [==============================] - 1s 34ms/step - loss: 0.4766 - tp: 263.0000 - fp: 69.0000 - tn: 263.0000 - fn: 69.0000 - accuracy: 0.7922 - precision: 0.7922 - recall: 0.7922 - auc: 0.8826 - val_loss: 0.4659 - val_tp: 87.0000 - val_fp: 25.0000 - val_tn: 87.0000 - val_fn: 25.0000 - val_accuracy: 0.7768 - val_precision: 0.7768 - val_recall: 0.7768 - val_auc: 0.8918\n",
      "Epoch 7/50\n",
      "42/42 [==============================] - 1s 34ms/step - loss: 0.4480 - tp: 270.0000 - fp: 62.0000 - tn: 270.0000 - fn: 62.0000 - accuracy: 0.8133 - precision: 0.8133 - recall: 0.8133 - auc: 0.9071 - val_loss: 0.4602 - val_tp: 88.0000 - val_fp: 24.0000 - val_tn: 88.0000 - val_fn: 24.0000 - val_accuracy: 0.7857 - val_precision: 0.7857 - val_recall: 0.7857 - val_auc: 0.8769\n",
      "Epoch 8/50\n",
      "42/42 [==============================] - 1s 35ms/step - loss: 0.4363 - tp: 273.0000 - fp: 59.0000 - tn: 273.0000 - fn: 59.0000 - accuracy: 0.8223 - precision: 0.8223 - recall: 0.8223 - auc: 0.9054 - val_loss: 0.4365 - val_tp: 87.0000 - val_fp: 25.0000 - val_tn: 87.0000 - val_fn: 25.0000 - val_accuracy: 0.7768 - val_precision: 0.7768 - val_recall: 0.7768 - val_auc: 0.8982\n",
      "Epoch 9/50\n",
      "42/42 [==============================] - 1s 35ms/step - loss: 0.4251 - tp: 272.0000 - fp: 60.0000 - tn: 272.0000 - fn: 60.0000 - accuracy: 0.8193 - precision: 0.8193 - recall: 0.8193 - auc: 0.9044 - val_loss: 0.4269 - val_tp: 90.0000 - val_fp: 22.0000 - val_tn: 90.0000 - val_fn: 22.0000 - val_accuracy: 0.8036 - val_precision: 0.8036 - val_recall: 0.8036 - val_auc: 0.9056\n",
      "Epoch 10/50\n",
      "42/42 [==============================] - 1s 35ms/step - loss: 0.4087 - tp: 279.0000 - fp: 53.0000 - tn: 279.0000 - fn: 53.0000 - accuracy: 0.8404 - precision: 0.8404 - recall: 0.8404 - auc: 0.9245 - val_loss: 0.4415 - val_tp: 89.0000 - val_fp: 23.0000 - val_tn: 89.0000 - val_fn: 23.0000 - val_accuracy: 0.7946 - val_precision: 0.7946 - val_recall: 0.7946 - val_auc: 0.8781\n",
      "Epoch 11/50\n",
      "42/42 [==============================] - 1s 35ms/step - loss: 0.4061 - tp: 270.0000 - fp: 62.0000 - tn: 270.0000 - fn: 62.0000 - accuracy: 0.8133 - precision: 0.8133 - recall: 0.8133 - auc: 0.9205 - val_loss: 0.4328 - val_tp: 90.0000 - val_fp: 22.0000 - val_tn: 90.0000 - val_fn: 22.0000 - val_accuracy: 0.8036 - val_precision: 0.8036 - val_recall: 0.8036 - val_auc: 0.8822\n",
      "Epoch 12/50\n",
      "42/42 [==============================] - 1s 35ms/step - loss: 0.3889 - tp: 278.0000 - fp: 54.0000 - tn: 278.0000 - fn: 54.0000 - accuracy: 0.8373 - precision: 0.8373 - recall: 0.8373 - auc: 0.9258 - val_loss: 0.4224 - val_tp: 90.0000 - val_fp: 22.0000 - val_tn: 90.0000 - val_fn: 22.0000 - val_accuracy: 0.8036 - val_precision: 0.8036 - val_recall: 0.8036 - val_auc: 0.8903\n",
      "Epoch 13/50\n",
      "42/42 [==============================] - 1s 35ms/step - loss: 0.3827 - tp: 281.0000 - fp: 51.0000 - tn: 281.0000 - fn: 51.0000 - accuracy: 0.8464 - precision: 0.8464 - recall: 0.8464 - auc: 0.9292 - val_loss: 0.4134 - val_tp: 91.0000 - val_fp: 21.0000 - val_tn: 91.0000 - val_fn: 21.0000 - val_accuracy: 0.8125 - val_precision: 0.8125 - val_recall: 0.8125 - val_auc: 0.8944\n",
      "Epoch 14/50\n",
      "42/42 [==============================] - 2s 37ms/step - loss: 0.3717 - tp: 285.0000 - fp: 47.0000 - tn: 285.0000 - fn: 47.0000 - accuracy: 0.8584 - precision: 0.8584 - recall: 0.8584 - auc: 0.9342 - val_loss: 0.3862 - val_tp: 92.0000 - val_fp: 20.0000 - val_tn: 92.0000 - val_fn: 20.0000 - val_accuracy: 0.8214 - val_precision: 0.8214 - val_recall: 0.8214 - val_auc: 0.9146\n",
      "Epoch 15/50\n",
      "42/42 [==============================] - 2s 36ms/step - loss: 0.3721 - tp: 280.0000 - fp: 52.0000 - tn: 280.0000 - fn: 52.0000 - accuracy: 0.8434 - precision: 0.8434 - recall: 0.8434 - auc: 0.9327 - val_loss: 0.3862 - val_tp: 91.0000 - val_fp: 21.0000 - val_tn: 91.0000 - val_fn: 21.0000 - val_accuracy: 0.8125 - val_precision: 0.8125 - val_recall: 0.8125 - val_auc: 0.9126\n",
      "Epoch 16/50\n",
      "42/42 [==============================] - 2s 36ms/step - loss: 0.3657 - tp: 278.0000 - fp: 54.0000 - tn: 278.0000 - fn: 54.0000 - accuracy: 0.8373 - precision: 0.8373 - recall: 0.8373 - auc: 0.9317 - val_loss: 0.3758 - val_tp: 93.0000 - val_fp: 19.0000 - val_tn: 93.0000 - val_fn: 19.0000 - val_accuracy: 0.8304 - val_precision: 0.8304 - val_recall: 0.8304 - val_auc: 0.9169\n",
      "Epoch 17/50\n",
      "42/42 [==============================] - 2s 36ms/step - loss: 0.3571 - tp: 280.0000 - fp: 52.0000 - tn: 280.0000 - fn: 52.0000 - accuracy: 0.8434 - precision: 0.8434 - recall: 0.8434 - auc: 0.9369 - val_loss: 0.3653 - val_tp: 94.0000 - val_fp: 18.0000 - val_tn: 94.0000 - val_fn: 18.0000 - val_accuracy: 0.8393 - val_precision: 0.8393 - val_recall: 0.8393 - val_auc: 0.9253\n",
      "Epoch 18/50\n",
      "42/42 [==============================] - 2s 36ms/step - loss: 0.3432 - tp: 286.0000 - fp: 46.0000 - tn: 286.0000 - fn: 46.0000 - accuracy: 0.8614 - precision: 0.8614 - recall: 0.8614 - auc: 0.9444 - val_loss: 0.3637 - val_tp: 95.0000 - val_fp: 17.0000 - val_tn: 95.0000 - val_fn: 17.0000 - val_accuracy: 0.8482 - val_precision: 0.8482 - val_recall: 0.8482 - val_auc: 0.9263\n",
      "Epoch 19/50\n",
      "42/42 [==============================] - 1s 35ms/step - loss: 0.3477 - tp: 282.0000 - fp: 50.0000 - tn: 282.0000 - fn: 50.0000 - accuracy: 0.8494 - precision: 0.8494 - recall: 0.8494 - auc: 0.9411 - val_loss: 0.3992 - val_tp: 91.0000 - val_fp: 21.0000 - val_tn: 91.0000 - val_fn: 21.0000 - val_accuracy: 0.8125 - val_precision: 0.8125 - val_recall: 0.8125 - val_auc: 0.9005\n",
      "Epoch 20/50\n",
      "42/42 [==============================] - 2s 36ms/step - loss: 0.3362 - tp: 282.0000 - fp: 50.0000 - tn: 282.0000 - fn: 50.0000 - accuracy: 0.8494 - precision: 0.8494 - recall: 0.8494 - auc: 0.9460 - val_loss: 0.3794 - val_tp: 90.0000 - val_fp: 22.0000 - val_tn: 90.0000 - val_fn: 22.0000 - val_accuracy: 0.8036 - val_precision: 0.8036 - val_recall: 0.8036 - val_auc: 0.9120\n",
      "Epoch 21/50\n",
      "42/42 [==============================] - 1s 35ms/step - loss: 0.3368 - tp: 282.0000 - fp: 50.0000 - tn: 282.0000 - fn: 50.0000 - accuracy: 0.8494 - precision: 0.8494 - recall: 0.8494 - auc: 0.9440 - val_loss: 0.3843 - val_tp: 91.0000 - val_fp: 21.0000 - val_tn: 91.0000 - val_fn: 21.0000 - val_accuracy: 0.8125 - val_precision: 0.8125 - val_recall: 0.8125 - val_auc: 0.9083\n",
      "Epoch 22/50\n"
     ]
    },
    {
     "name": "stdout",
     "output_type": "stream",
     "text": [
      "42/42 [==============================] - 1s 35ms/step - loss: 0.3370 - tp: 279.0000 - fp: 53.0000 - tn: 279.0000 - fn: 53.0000 - accuracy: 0.8404 - precision: 0.8404 - recall: 0.8404 - auc: 0.9413 - val_loss: 0.3636 - val_tp: 94.0000 - val_fp: 18.0000 - val_tn: 94.0000 - val_fn: 18.0000 - val_accuracy: 0.8393 - val_precision: 0.8393 - val_recall: 0.8393 - val_auc: 0.9200\n",
      "Epoch 23/50\n",
      "42/42 [==============================] - 1s 36ms/step - loss: 0.3216 - tp: 285.0000 - fp: 47.0000 - tn: 285.0000 - fn: 47.0000 - accuracy: 0.8584 - precision: 0.8584 - recall: 0.8584 - auc: 0.9519 - val_loss: 0.3996 - val_tp: 92.0000 - val_fp: 20.0000 - val_tn: 92.0000 - val_fn: 20.0000 - val_accuracy: 0.8214 - val_precision: 0.8214 - val_recall: 0.8214 - val_auc: 0.9005\n",
      "Epoch 24/50\n",
      "42/42 [==============================] - 2s 36ms/step - loss: 0.3190 - tp: 289.0000 - fp: 43.0000 - tn: 289.0000 - fn: 43.0000 - accuracy: 0.8705 - precision: 0.8705 - recall: 0.8705 - auc: 0.9494 - val_loss: 0.3224 - val_tp: 97.0000 - val_fp: 15.0000 - val_tn: 97.0000 - val_fn: 15.0000 - val_accuracy: 0.8661 - val_precision: 0.8661 - val_recall: 0.8661 - val_auc: 0.9467\n",
      "Epoch 25/50\n",
      "42/42 [==============================] - 1s 36ms/step - loss: 0.3189 - tp: 288.0000 - fp: 44.0000 - tn: 288.0000 - fn: 44.0000 - accuracy: 0.8675 - precision: 0.8675 - recall: 0.8675 - auc: 0.9520 - val_loss: 0.3516 - val_tp: 95.0000 - val_fp: 17.0000 - val_tn: 95.0000 - val_fn: 17.0000 - val_accuracy: 0.8482 - val_precision: 0.8482 - val_recall: 0.8482 - val_auc: 0.9249\n",
      "Epoch 26/50\n",
      "42/42 [==============================] - 2s 36ms/step - loss: 0.3120 - tp: 290.0000 - fp: 42.0000 - tn: 290.0000 - fn: 42.0000 - accuracy: 0.8735 - precision: 0.8735 - recall: 0.8735 - auc: 0.9534 - val_loss: 0.3932 - val_tp: 93.0000 - val_fp: 19.0000 - val_tn: 93.0000 - val_fn: 19.0000 - val_accuracy: 0.8304 - val_precision: 0.8304 - val_recall: 0.8304 - val_auc: 0.9048\n",
      "Epoch 27/50\n",
      "42/42 [==============================] - 1s 35ms/step - loss: 0.3137 - tp: 287.0000 - fp: 45.0000 - tn: 287.0000 - fn: 45.0000 - accuracy: 0.8645 - precision: 0.8645 - recall: 0.8645 - auc: 0.9487 - val_loss: 0.3281 - val_tp: 99.0000 - val_fp: 13.0000 - val_tn: 99.0000 - val_fn: 13.0000 - val_accuracy: 0.8839 - val_precision: 0.8839 - val_recall: 0.8839 - val_auc: 0.9401\n",
      "Epoch 28/50\n",
      "42/42 [==============================] - 1s 35ms/step - loss: 0.3046 - tp: 287.0000 - fp: 45.0000 - tn: 287.0000 - fn: 45.0000 - accuracy: 0.8645 - precision: 0.8645 - recall: 0.8645 - auc: 0.9558 - val_loss: 0.3327 - val_tp: 98.0000 - val_fp: 14.0000 - val_tn: 98.0000 - val_fn: 14.0000 - val_accuracy: 0.8750 - val_precision: 0.8750 - val_recall: 0.8750 - val_auc: 0.9381\n",
      "Epoch 29/50\n",
      "42/42 [==============================] - 1s 35ms/step - loss: 0.3001 - tp: 291.0000 - fp: 41.0000 - tn: 291.0000 - fn: 41.0000 - accuracy: 0.8765 - precision: 0.8765 - recall: 0.8765 - auc: 0.9576 - val_loss: 0.3408 - val_tp: 96.0000 - val_fp: 16.0000 - val_tn: 96.0000 - val_fn: 16.0000 - val_accuracy: 0.8571 - val_precision: 0.8571 - val_recall: 0.8571 - val_auc: 0.9314\n",
      "Epoch 30/50\n",
      "42/42 [==============================] - 1s 35ms/step - loss: 0.2984 - tp: 291.0000 - fp: 41.0000 - tn: 291.0000 - fn: 41.0000 - accuracy: 0.8765 - precision: 0.8765 - recall: 0.8765 - auc: 0.9596 - val_loss: 0.3159 - val_tp: 99.0000 - val_fp: 13.0000 - val_tn: 99.0000 - val_fn: 13.0000 - val_accuracy: 0.8839 - val_precision: 0.8839 - val_recall: 0.8839 - val_auc: 0.9448\n",
      "Epoch 31/50\n",
      "42/42 [==============================] - 1s 35ms/step - loss: 0.2976 - tp: 294.0000 - fp: 38.0000 - tn: 294.0000 - fn: 38.0000 - accuracy: 0.8855 - precision: 0.8855 - recall: 0.8855 - auc: 0.9585 - val_loss: 0.3475 - val_tp: 96.0000 - val_fp: 16.0000 - val_tn: 96.0000 - val_fn: 16.0000 - val_accuracy: 0.8571 - val_precision: 0.8571 - val_recall: 0.8571 - val_auc: 0.9265\n",
      "Epoch 32/50\n",
      "42/42 [==============================] - 1s 35ms/step - loss: 0.2934 - tp: 292.0000 - fp: 40.0000 - tn: 292.0000 - fn: 40.0000 - accuracy: 0.8795 - precision: 0.8795 - recall: 0.8795 - auc: 0.9612 - val_loss: 0.3560 - val_tp: 94.0000 - val_fp: 18.0000 - val_tn: 94.0000 - val_fn: 18.0000 - val_accuracy: 0.8393 - val_precision: 0.8393 - val_recall: 0.8393 - val_auc: 0.9208\n",
      "Epoch 33/50\n",
      "42/42 [==============================] - 1s 35ms/step - loss: 0.2893 - tp: 299.0000 - fp: 37.0000 - tn: 299.0000 - fn: 37.0000 - accuracy: 0.8899 - precision: 0.8899 - recall: 0.8899 - auc: 0.9597 - val_loss: 0.3265 - val_tp: 98.0000 - val_fp: 14.0000 - val_tn: 98.0000 - val_fn: 14.0000 - val_accuracy: 0.8750 - val_precision: 0.8750 - val_recall: 0.8750 - val_auc: 0.9393\n",
      "Epoch 34/50\n",
      "42/42 [==============================] - 1s 35ms/step - loss: 0.2913 - tp: 292.0000 - fp: 40.0000 - tn: 292.0000 - fn: 40.0000 - accuracy: 0.8795 - precision: 0.8795 - recall: 0.8795 - auc: 0.9592 - val_loss: 0.3195 - val_tp: 98.0000 - val_fp: 14.0000 - val_tn: 98.0000 - val_fn: 14.0000 - val_accuracy: 0.8750 - val_precision: 0.8750 - val_recall: 0.8750 - val_auc: 0.9410\n",
      "Epoch 35/50\n",
      "42/42 [==============================] - 1s 36ms/step - loss: 0.2754 - tp: 296.0000 - fp: 36.0000 - tn: 296.0000 - fn: 36.0000 - accuracy: 0.8916 - precision: 0.8916 - recall: 0.8916 - auc: 0.9670 - val_loss: 0.3229 - val_tp: 97.0000 - val_fp: 15.0000 - val_tn: 97.0000 - val_fn: 15.0000 - val_accuracy: 0.8661 - val_precision: 0.8661 - val_recall: 0.8661 - val_auc: 0.9385\n",
      "Epoch 36/50\n",
      "42/42 [==============================] - 2s 37ms/step - loss: 0.2840 - tp: 299.0000 - fp: 33.0000 - tn: 299.0000 - fn: 33.0000 - accuracy: 0.9006 - precision: 0.9006 - recall: 0.9006 - auc: 0.9628 - val_loss: 0.3433 - val_tp: 93.0000 - val_fp: 19.0000 - val_tn: 93.0000 - val_fn: 19.0000 - val_accuracy: 0.8304 - val_precision: 0.8304 - val_recall: 0.8304 - val_auc: 0.9266\n",
      "Epoch 37/50\n",
      "42/42 [==============================] - 2s 36ms/step - loss: 0.2836 - tp: 298.0000 - fp: 34.0000 - tn: 298.0000 - fn: 34.0000 - accuracy: 0.8976 - precision: 0.8976 - recall: 0.8976 - auc: 0.9623 - val_loss: 0.3125 - val_tp: 99.0000 - val_fp: 13.0000 - val_tn: 99.0000 - val_fn: 13.0000 - val_accuracy: 0.8839 - val_precision: 0.8839 - val_recall: 0.8839 - val_auc: 0.9433\n",
      "Epoch 38/50\n",
      "42/42 [==============================] - 2s 36ms/step - loss: 0.2764 - tp: 293.0000 - fp: 39.0000 - tn: 293.0000 - fn: 39.0000 - accuracy: 0.8825 - precision: 0.8825 - recall: 0.8825 - auc: 0.9636 - val_loss: 0.3232 - val_tp: 98.0000 - val_fp: 14.0000 - val_tn: 98.0000 - val_fn: 14.0000 - val_accuracy: 0.8750 - val_precision: 0.8750 - val_recall: 0.8750 - val_auc: 0.9382\n",
      "Epoch 39/50\n",
      "42/42 [==============================] - 2s 37ms/step - loss: 0.2714 - tp: 298.0000 - fp: 34.0000 - tn: 298.0000 - fn: 34.0000 - accuracy: 0.8976 - precision: 0.8976 - recall: 0.8976 - auc: 0.9683 - val_loss: 0.3542 - val_tp: 94.0000 - val_fp: 18.0000 - val_tn: 94.0000 - val_fn: 18.0000 - val_accuracy: 0.8393 - val_precision: 0.8393 - val_recall: 0.8393 - val_auc: 0.9210\n",
      "Epoch 40/50\n",
      "42/42 [==============================] - 2s 36ms/step - loss: 0.2718 - tp: 298.0000 - fp: 34.0000 - tn: 298.0000 - fn: 34.0000 - accuracy: 0.8976 - precision: 0.8976 - recall: 0.8976 - auc: 0.9678 - val_loss: 0.3581 - val_tp: 92.0000 - val_fp: 20.0000 - val_tn: 92.0000 - val_fn: 20.0000 - val_accuracy: 0.8214 - val_precision: 0.8214 - val_recall: 0.8214 - val_auc: 0.9196\n",
      "Epoch 41/50\n",
      "42/42 [==============================] - 2s 36ms/step - loss: 0.2576 - tp: 301.0000 - fp: 31.0000 - tn: 301.0000 - fn: 31.0000 - accuracy: 0.9066 - precision: 0.9066 - recall: 0.9066 - auc: 0.9703 - val_loss: 0.3028 - val_tp: 98.0000 - val_fp: 14.0000 - val_tn: 98.0000 - val_fn: 14.0000 - val_accuracy: 0.8750 - val_precision: 0.8750 - val_recall: 0.8750 - val_auc: 0.9472\n",
      "Epoch 42/50\n",
      "42/42 [==============================] - 1s 35ms/step - loss: 0.2714 - tp: 298.0000 - fp: 34.0000 - tn: 298.0000 - fn: 34.0000 - accuracy: 0.8976 - precision: 0.8976 - recall: 0.8976 - auc: 0.9654 - val_loss: 0.3114 - val_tp: 99.0000 - val_fp: 13.0000 - val_tn: 99.0000 - val_fn: 13.0000 - val_accuracy: 0.8839 - val_precision: 0.8839 - val_recall: 0.8839 - val_auc: 0.9418\n",
      "Epoch 43/50\n"
     ]
    },
    {
     "name": "stdout",
     "output_type": "stream",
     "text": [
      "42/42 [==============================] - 1s 34ms/step - loss: 0.2611 - tp: 301.0000 - fp: 31.0000 - tn: 301.0000 - fn: 31.0000 - accuracy: 0.9066 - precision: 0.9066 - recall: 0.9066 - auc: 0.9703 - val_loss: 0.3431 - val_tp: 96.0000 - val_fp: 16.0000 - val_tn: 96.0000 - val_fn: 16.0000 - val_accuracy: 0.8571 - val_precision: 0.8571 - val_recall: 0.8571 - val_auc: 0.9271\n",
      "Epoch 44/50\n",
      "42/42 [==============================] - 1s 34ms/step - loss: 0.2635 - tp: 297.0000 - fp: 35.0000 - tn: 297.0000 - fn: 35.0000 - accuracy: 0.8946 - precision: 0.8946 - recall: 0.8946 - auc: 0.9665 - val_loss: 0.3113 - val_tp: 99.0000 - val_fp: 13.0000 - val_tn: 99.0000 - val_fn: 13.0000 - val_accuracy: 0.8839 - val_precision: 0.8839 - val_recall: 0.8839 - val_auc: 0.9419\n",
      "Epoch 45/50\n",
      "42/42 [==============================] - 1s 35ms/step - loss: 0.2583 - tp: 294.0000 - fp: 38.0000 - tn: 294.0000 - fn: 38.0000 - accuracy: 0.8855 - precision: 0.8855 - recall: 0.8855 - auc: 0.9676 - val_loss: 0.3180 - val_tp: 98.0000 - val_fp: 14.0000 - val_tn: 98.0000 - val_fn: 14.0000 - val_accuracy: 0.8750 - val_precision: 0.8750 - val_recall: 0.8750 - val_auc: 0.9393\n",
      "Epoch 46/50\n",
      "42/42 [==============================] - 1s 35ms/step - loss: 0.2562 - tp: 301.0000 - fp: 31.0000 - tn: 301.0000 - fn: 31.0000 - accuracy: 0.9066 - precision: 0.9066 - recall: 0.9066 - auc: 0.9700 - val_loss: 0.3289 - val_tp: 97.0000 - val_fp: 15.0000 - val_tn: 97.0000 - val_fn: 15.0000 - val_accuracy: 0.8661 - val_precision: 0.8661 - val_recall: 0.8661 - val_auc: 0.9351\n",
      "Epoch 47/50\n",
      "42/42 [==============================] - 1s 36ms/step - loss: 0.2584 - tp: 301.0000 - fp: 31.0000 - tn: 301.0000 - fn: 31.0000 - accuracy: 0.9066 - precision: 0.9066 - recall: 0.9066 - auc: 0.9693 - val_loss: 0.3096 - val_tp: 99.0000 - val_fp: 13.0000 - val_tn: 99.0000 - val_fn: 13.0000 - val_accuracy: 0.8839 - val_precision: 0.8839 - val_recall: 0.8839 - val_auc: 0.9429\n",
      "Epoch 48/50\n",
      "42/42 [==============================] - 1s 35ms/step - loss: 0.2537 - tp: 299.0000 - fp: 33.0000 - tn: 299.0000 - fn: 33.0000 - accuracy: 0.9006 - precision: 0.9006 - recall: 0.9006 - auc: 0.9710 - val_loss: 0.3202 - val_tp: 97.0000 - val_fp: 15.0000 - val_tn: 97.0000 - val_fn: 15.0000 - val_accuracy: 0.8661 - val_precision: 0.8661 - val_recall: 0.8661 - val_auc: 0.9380\n",
      "Epoch 49/50\n",
      "42/42 [==============================] - 1s 35ms/step - loss: 0.2522 - tp: 300.0000 - fp: 32.0000 - tn: 300.0000 - fn: 32.0000 - accuracy: 0.9036 - precision: 0.9036 - recall: 0.9036 - auc: 0.9715 - val_loss: 0.3103 - val_tp: 99.0000 - val_fp: 13.0000 - val_tn: 99.0000 - val_fn: 13.0000 - val_accuracy: 0.8839 - val_precision: 0.8839 - val_recall: 0.8839 - val_auc: 0.9429\n",
      "Epoch 50/50\n",
      "42/42 [==============================] - 1s 35ms/step - loss: 0.2557 - tp: 299.0000 - fp: 33.0000 - tn: 299.0000 - fn: 33.0000 - accuracy: 0.9006 - precision: 0.9006 - recall: 0.9006 - auc: 0.9686 - val_loss: 0.3067 - val_tp: 99.0000 - val_fp: 13.0000 - val_tn: 99.0000 - val_fn: 13.0000 - val_accuracy: 0.8839 - val_precision: 0.8839 - val_recall: 0.8839 - val_auc: 0.9441\n"
     ]
    }
   ],
   "source": [
    "number_epoch = 50\n",
    "\n",
    "\n",
    "modelfitprogress2 = model.fit(\n",
    "                              train_iter,\n",
    "                              validation_data = valid_iter,\n",
    "                              epochs = number_epoch,\n",
    "                              steps_per_epoch = df_train.shape[0]//train_iter.batch_size,\n",
    "                              validation_steps = df_val.shape[0]//valid_iter.batch_size,\n",
    "                              #callbacks = [reduce_lr, early_stop, checkpoint]\n",
    "                              )"
   ]
  },
  {
   "cell_type": "markdown",
   "metadata": {
    "id": "9R2jytfijpEp"
   },
   "source": [
    "<a id=\"section53\"></a>\n",
    "# <font color=\"#004D7F\" size=5> 5.3. Results</font>"
   ]
  },
  {
   "cell_type": "markdown",
   "metadata": {
    "id": "a-1vHY9rjpEq"
   },
   "source": [
    "Finally, we can evaluate our CNN with the images created by TINTO in any of the ways represented below."
   ]
  },
  {
   "cell_type": "code",
   "execution_count": 77,
   "metadata": {
    "id": "-Ls6_Vu7pjGL",
    "tags": []
   },
   "outputs": [
    {
     "data": {
      "image/png": "[encoded data removed]",
      "text/plain": [
       "<Figure size 640x480 with 1 Axes>"
      ]
     },
     "metadata": {},
     "output_type": "display_data"
    }
   ],
   "source": [
    "plt.plot(modelfitprogress2.history['loss'], color = 'red', label = 'loss')\n",
    "plt.plot(modelfitprogress2.history['val_loss'], color = 'green', label = 'val loss')\n",
    "plt.legend(loc = 'upper right')\n",
    "plt.show()"
   ]
  },
  {
   "cell_type": "code",
   "execution_count": 78,
   "metadata": {
    "id": "TWtsezuVpjGM",
    "tags": []
   },
   "outputs": [
    {
     "data": {
      "image/png": "[encoded data removed]",
      "text/plain": [
       "<Figure size 640x480 with 1 Axes>"
      ]
     },
     "metadata": {},
     "output_type": "display_data"
    }
   ],
   "source": [
    "plt.plot(modelfitprogress2.history['accuracy'], color = 'red', label = 'accuracy')\n",
    "plt.plot(modelfitprogress2.history['val_accuracy'], color = 'green', label = 'val accuracy')\n",
    "plt.legend(loc = 'upper right')\n",
    "plt.show()"
   ]
  },
  {
   "cell_type": "code",
   "execution_count": 79,
   "metadata": {
    "execution": {
     "iopub.execute_input": "2022-11-14T19:27:24.254144Z",
     "iopub.status.busy": "2022-11-14T19:27:24.253678Z",
     "iopub.status.idle": "2022-11-14T19:28:06.367196Z",
     "shell.execute_reply": "2022-11-14T19:28:06.366140Z",
     "shell.execute_reply.started": "2022-11-14T19:27:24.254102Z"
    },
    "id": "MtDLUW_QpjGO"
   },
   "outputs": [
    {
     "name": "stdout",
     "output_type": "stream",
     "text": [
      "14/14 [==============================] - 0s 27ms/step - loss: 0.2871 - tp: 101.0000 - fp: 11.0000 - tn: 101.0000 - fn: 11.0000 - accuracy: 0.9018 - precision: 0.9018 - recall: 0.9018 - auc: 0.9511\n",
      "Loss in validation: 0.28705543279647827 \n",
      "Accuracy in validation: 0.9017857313156128\n"
     ]
    }
   ],
   "source": [
    "score = model.evaluate(valid_iter, steps = df_val.shape[0]//valid_iter.batch_size)\n",
    "print(\"Loss in validation: {} \\nAccuracy in validation: {}\".format(score[0], score[5]))"
   ]
  },
  {
   "cell_type": "code",
   "execution_count": 80,
   "metadata": {
    "execution": {
     "iopub.execute_input": "2022-11-14T19:28:06.369726Z",
     "iopub.status.busy": "2022-11-14T19:28:06.369356Z",
     "iopub.status.idle": "2022-11-14T19:28:47.388501Z",
     "shell.execute_reply": "2022-11-14T19:28:47.387465Z",
     "shell.execute_reply.started": "2022-11-14T19:28:06.369687Z"
    },
    "id": "27tFyGE8pjGO"
   },
   "outputs": [
    {
     "name": "stdout",
     "output_type": "stream",
     "text": [
      "14/14 [==============================] - 0s 27ms/step - loss: 0.2110 - tp: 104.0000 - fp: 8.0000 - tn: 104.0000 - fn: 8.0000 - accuracy: 0.9286 - precision: 0.9286 - recall: 0.9286 - auc: 0.9811\n",
      "Loss in test: 0.21095658838748932 \n",
      "Accuracy in test: 0.9285714030265808\n"
     ]
    }
   ],
   "source": [
    "score = model.evaluate(test_iter, steps = df_test.shape[0]//test_iter.batch_size)\n",
    "print(\"Loss in test: {} \\nAccuracy in test: {}\".format(score[0], score[5]))"
   ]
  },
  {
   "cell_type": "code",
   "execution_count": 81,
   "metadata": {
    "execution": {
     "iopub.execute_input": "2022-11-14T19:28:47.390680Z",
     "iopub.status.busy": "2022-11-14T19:28:47.390269Z",
     "iopub.status.idle": "2022-11-14T19:28:47.397017Z",
     "shell.execute_reply": "2022-11-14T19:28:47.395948Z",
     "shell.execute_reply.started": "2022-11-14T19:28:47.390642Z"
    },
    "id": "35foTsP6pjGP"
   },
   "outputs": [
    {
     "name": "stdout",
     "output_type": "stream",
     "text": [
      "{'-1.0': 0, '1.0': 1}\n",
      "{'-1.0': 0, '1.0': 1}\n",
      "{'-1.0': 0, '1.0': 1}\n"
     ]
    }
   ],
   "source": [
    "print(train_iter.class_indices)\n",
    "print(test_iter.class_indices)\n",
    "print(valid_iter.class_indices)"
   ]
  },
  {
   "cell_type": "code",
   "execution_count": 82,
   "metadata": {
    "execution": {
     "iopub.execute_input": "2022-11-14T19:28:47.400381Z",
     "iopub.status.busy": "2022-11-14T19:28:47.399970Z",
     "iopub.status.idle": "2022-11-14T19:29:08.162682Z",
     "shell.execute_reply": "2022-11-14T19:29:08.161738Z",
     "shell.execute_reply.started": "2022-11-14T19:28:47.400345Z"
    },
    "id": "jL-kTfejpjGQ"
   },
   "outputs": [
    {
     "name": "stdout",
     "output_type": "stream",
     "text": [
      "15/15 [==============================] - 1s 24ms/step\n",
      "[[2.36168817e-01 7.63831198e-01]\n",
      " [7.62721419e-01 2.37278551e-01]\n",
      " [9.99206960e-01 7.93021114e-04]\n",
      " [9.79063928e-01 2.09360681e-02]\n",
      " [7.62205571e-02 9.23779428e-01]\n",
      " [6.28043056e-01 3.71956885e-01]\n",
      " [2.82285124e-01 7.17714906e-01]\n",
      " [9.40484881e-01 5.95150888e-02]\n",
      " [9.72360671e-01 2.76393499e-02]\n",
      " [3.16132635e-01 6.83867395e-01]\n",
      " [6.18427932e-01 3.81572098e-01]\n",
      " [3.17444593e-01 6.82555377e-01]\n",
      " [8.04013968e-01 1.95986047e-01]\n",
      " [2.82466058e-02 9.71753418e-01]\n",
      " [1.60451725e-01 8.39548230e-01]\n",
      " [2.04744279e-01 7.95255721e-01]\n",
      " [8.69735897e-01 1.30264044e-01]\n",
      " [9.71258342e-01 2.87416540e-02]\n",
      " [3.00393194e-01 6.99606836e-01]\n",
      " [2.58230090e-01 7.41769910e-01]\n",
      " [9.14301872e-01 8.56981426e-02]\n",
      " [9.79684114e-01 2.03159004e-02]\n",
      " [4.44803573e-02 9.55519617e-01]\n",
      " [1.42879054e-01 8.57120991e-01]\n",
      " [8.21475029e-01 1.78525016e-01]\n",
      " [9.40858841e-01 5.91411516e-02]\n",
      " [1.01746134e-01 8.98253858e-01]\n",
      " [9.86957967e-01 1.30420653e-02]\n",
      " [6.76931143e-01 3.23068798e-01]\n",
      " [1.86895713e-01 8.13104272e-01]\n",
      " [8.90774071e-01 1.09225929e-01]\n",
      " [3.57436985e-01 6.42562985e-01]\n",
      " [7.84796774e-01 2.15203181e-01]\n",
      " [8.45523179e-01 1.54476821e-01]\n",
      " [9.37903106e-01 6.20969310e-02]\n",
      " [5.26468277e-01 4.73531723e-01]\n",
      " [9.33548689e-01 6.64512962e-02]\n",
      " [1.99890673e-01 8.00109327e-01]\n",
      " [9.84751284e-01 1.52486498e-02]\n",
      " [9.69998837e-01 3.00011281e-02]\n",
      " [7.48692334e-01 2.51307696e-01]\n",
      " [2.31757015e-01 7.68242955e-01]\n",
      " [9.79437172e-01 2.05628406e-02]\n",
      " [2.04978492e-02 9.79502141e-01]\n",
      " [8.46174359e-01 1.53825626e-01]\n",
      " [4.13070083e-01 5.86929917e-01]\n",
      " [9.58323598e-01 4.16764170e-02]\n",
      " [3.38410884e-02 9.66158926e-01]\n",
      " [1.97786286e-01 8.02213728e-01]\n",
      " [9.50694621e-01 4.93054092e-02]\n",
      " [2.03780070e-01 7.96219945e-01]\n",
      " [8.50296199e-01 1.49703845e-01]\n",
      " [9.67509031e-01 3.24910320e-02]\n",
      " [3.02855492e-01 6.97144508e-01]\n",
      " [9.12560463e-01 8.74395296e-02]\n",
      " [9.43204999e-01 5.67950234e-02]\n",
      " [9.67157006e-01 3.28430161e-02]\n",
      " [4.22863588e-02 9.57713664e-01]\n",
      " [9.68539953e-01 3.14600207e-02]\n",
      " [9.87557292e-01 1.24426726e-02]\n",
      " [9.79758501e-01 2.02414747e-02]\n",
      " [1.60202801e-01 8.39797199e-01]\n",
      " [7.60860085e-01 2.39139929e-01]\n",
      " [8.96563053e-01 1.03436992e-01]\n",
      " [9.14290607e-01 8.57093930e-02]\n",
      " [9.53809321e-01 4.61906604e-02]\n",
      " [9.93414402e-01 6.58559939e-03]\n",
      " [9.39632654e-01 6.03673458e-02]\n",
      " [9.64672387e-01 3.53275873e-02]\n",
      " [9.95263457e-01 4.73657390e-03]\n",
      " [8.65531623e-01 1.34468317e-01]\n",
      " [8.82937670e-01 1.17062338e-01]\n",
      " [5.77804521e-02 9.42219555e-01]\n",
      " [6.98086917e-01 3.01913142e-01]\n",
      " [1.43765165e-02 9.85623479e-01]\n",
      " [3.85987669e-01 6.14012301e-01]\n",
      " [6.22815788e-01 3.77184212e-01]\n",
      " [4.73280177e-02 9.52671945e-01]\n",
      " [9.94152129e-01 5.84783405e-03]\n",
      " [2.44278356e-01 7.55721688e-01]\n",
      " [9.09412503e-01 9.05875638e-02]\n",
      " [9.98326361e-01 1.67366944e-03]\n",
      " [9.85146344e-01 1.48536609e-02]\n",
      " [9.79692578e-01 2.03073546e-02]\n",
      " [4.53851163e-01 5.46148837e-01]\n",
      " [4.66896832e-01 5.33103168e-01]\n",
      " [7.36635089e-01 2.63364941e-01]\n",
      " [8.62962723e-01 1.37037262e-01]\n",
      " [1.59288034e-01 8.40711951e-01]\n",
      " [2.65272528e-01 7.34727442e-01]\n",
      " [9.72828209e-01 2.71718036e-02]\n",
      " [9.64246392e-01 3.57535854e-02]\n",
      " [5.91873564e-02 9.40812647e-01]\n",
      " [9.88168955e-01 1.18310750e-02]\n",
      " [9.68534827e-01 3.14652212e-02]\n",
      " [9.85014141e-01 1.49858259e-02]\n",
      " [7.56312609e-01 2.43687421e-01]\n",
      " [9.56054568e-01 4.39455137e-02]\n",
      " [4.79324423e-02 9.52067554e-01]\n",
      " [9.97092128e-01 2.90784216e-03]\n",
      " [3.53011578e-01 6.46988451e-01]\n",
      " [3.02479863e-01 6.97520196e-01]\n",
      " [9.76477325e-01 2.35227253e-02]\n",
      " [9.61566806e-01 3.84331793e-02]\n",
      " [1.03446029e-01 8.96553934e-01]\n",
      " [9.89819825e-01 1.01801949e-02]\n",
      " [9.91288304e-01 8.71161371e-03]\n",
      " [9.99777377e-01 2.22678646e-04]\n",
      " [9.36703324e-01 6.32966980e-02]\n",
      " [5.65951109e-01 4.34048831e-01]\n",
      " [6.53614461e-01 3.46385539e-01]\n",
      " [8.47727120e-01 1.52272955e-01]\n",
      " [1.49293840e-01 8.50706220e-01]\n",
      " [9.95297372e-01 4.70268028e-03]]\n"
     ]
    }
   ],
   "source": [
    "prediction = model.predict(test_iter, steps = np.math.ceil(test_iter.samples/test_iter.batch_size))\n",
    "print(prediction)"
   ]
  },
  {
   "cell_type": "code",
   "execution_count": 83,
   "metadata": {
    "execution": {
     "iopub.execute_input": "2022-11-14T19:29:08.166175Z",
     "iopub.status.busy": "2022-11-14T19:29:08.165895Z",
     "iopub.status.idle": "2022-11-14T19:29:08.174969Z",
     "shell.execute_reply": "2022-11-14T19:29:08.173857Z",
     "shell.execute_reply.started": "2022-11-14T19:29:08.166149Z"
    },
    "id": "C3iyDSREpjGR"
   },
   "outputs": [
    {
     "name": "stdout",
     "output_type": "stream",
     "text": [
      "[1 0 0 0 1 0 1 0 0 1 0 1 0 1 1 1 0 0 1 1 0 0 1 1 0 0 1 0 0 1 0 1 0 0 0 0 0\n",
      " 1 0 0 0 1 0 1 0 1 0 1 1 0 1 0 0 1 0 0 0 1 0 0 0 1 0 0 0 0 0 0 0 0 0 0 1 0\n",
      " 1 1 0 1 0 1 0 0 0 0 1 1 0 0 1 1 0 0 1 0 0 0 0 0 1 0 1 1 0 0 1 0 0 0 0 0 0\n",
      " 0 1 0]\n"
     ]
    }
   ],
   "source": [
    "predicted_classes = np.argmax(prediction, axis = 1)\n",
    "print(predicted_classes)"
   ]
  },
  {
   "cell_type": "code",
   "execution_count": 84,
   "metadata": {
    "execution": {
     "iopub.execute_input": "2022-11-14T19:29:08.177900Z",
     "iopub.status.busy": "2022-11-14T19:29:08.176897Z",
     "iopub.status.idle": "2022-11-14T19:29:08.188572Z",
     "shell.execute_reply": "2022-11-14T19:29:08.187208Z",
     "shell.execute_reply.started": "2022-11-14T19:29:08.177854Z"
    },
    "id": "BYTp8d4YpjGR"
   },
   "outputs": [
    {
     "data": {
      "text/plain": [
       "0    74\n",
       "1    40\n",
       "Name: class, dtype: int64"
      ]
     },
     "execution_count": 84,
     "metadata": {},
     "output_type": "execute_result"
    }
   ],
   "source": [
    "x = pd.DataFrame(predicted_classes, columns = ['class'])\n",
    "x['class'].value_counts()"
   ]
  },
  {
   "cell_type": "code",
   "execution_count": 85,
   "metadata": {
    "execution": {
     "iopub.execute_input": "2022-11-14T19:29:08.191104Z",
     "iopub.status.busy": "2022-11-14T19:29:08.189767Z",
     "iopub.status.idle": "2022-11-14T19:29:08.195644Z",
     "shell.execute_reply": "2022-11-14T19:29:08.194640Z",
     "shell.execute_reply.started": "2022-11-14T19:29:08.191077Z"
    },
    "id": "-9f49cOspjGS"
   },
   "outputs": [],
   "source": [
    "true_classes = test_iter.classes\n",
    "class_labels = list(test_iter.class_indices.keys())  "
   ]
  },
  {
   "cell_type": "code",
   "execution_count": 86,
   "metadata": {
    "execution": {
     "iopub.execute_input": "2022-11-14T19:29:08.198368Z",
     "iopub.status.busy": "2022-11-14T19:29:08.197074Z",
     "iopub.status.idle": "2022-11-14T19:29:08.244822Z",
     "shell.execute_reply": "2022-11-14T19:29:08.243858Z",
     "shell.execute_reply.started": "2022-11-14T19:29:08.198315Z"
    },
    "id": "-2yLinCgpjGS"
   },
   "outputs": [
    {
     "name": "stdout",
     "output_type": "stream",
     "text": [
      "              precision    recall  f1-score   support\n",
      "\n",
      "        -1.0       0.64      0.66      0.65        71\n",
      "         1.0       0.40      0.37      0.39        43\n",
      "\n",
      "    accuracy                           0.55       114\n",
      "   macro avg       0.52      0.52      0.52       114\n",
      "weighted avg       0.55      0.55      0.55       114\n",
      "\n"
     ]
    }
   ],
   "source": [
    "report = sklearn.metrics.classification_report(true_classes, \n",
    "                                               predicted_classes, \n",
    "                                               target_names = class_labels)\n",
    "print(report) "
   ]
  },
  {
   "cell_type": "code",
   "execution_count": 87,
   "metadata": {
    "execution": {
     "iopub.execute_input": "2022-11-14T19:34:28.853362Z",
     "iopub.status.busy": "2022-11-14T19:34:28.852871Z",
     "iopub.status.idle": "2022-11-14T19:34:29.195791Z",
     "shell.execute_reply": "2022-11-14T19:34:29.194763Z",
     "shell.execute_reply.started": "2022-11-14T19:34:28.853309Z"
    },
    "id": "LKLHNkTepjGT"
   },
   "outputs": [
    {
     "data": {
      "text/plain": [
       "<sklearn.metrics._plot.confusion_matrix.ConfusionMatrixDisplay at 0x1f4bf63bd90>"
      ]
     },
     "execution_count": 87,
     "metadata": {},
     "output_type": "execute_result"
    },
    {
     "data": {
      "image/png": "[encoded data removed]",
      "text/plain": [
       "<Figure size 640x480 with 2 Axes>"
      ]
     },
     "metadata": {},
     "output_type": "display_data"
    }
   ],
   "source": [
    "from sklearn.metrics import confusion_matrix\n",
    "cm = confusion_matrix(true_classes, predicted_classes)\n",
    "disp = sklearn.metrics.ConfusionMatrixDisplay(confusion_matrix = cm)\n",
    "disp.plot()"
   ]
  },
  {
   "cell_type": "markdown",
   "metadata": {
    "id": "0ciBS76mpjGU"
   },
   "source": [
    "<div style=\"text-align: right\"> <font size=5> <a href=\"#indice\"><i class=\"fa fa-arrow-circle-up\" aria-hidden=\"true\" style=\"color:#004D7F\"></i></a></font></div>\n",
    "\n",
    "---\n",
    "\n",
    "<div style=\"text-align: right\"> <font size=6><i class=\"fa fa-coffee\" aria-hidden=\"true\" style=\"color:#004D7F\"></i> </font></div>"
   ]
  }
 ],
 "metadata": {
  "colab": {
   "provenance": [
    {
     "file_id": "1plFq1CpEXIdc9LankaLPiOObRg0_y5l2",
     "timestamp": 1684250343977
    }
   ]
  },
  "kernelspec": {
   "display_name": "Python 3 (ipykernel)",
   "language": "python",
   "name": "python3"
  },
  "language_info": {
   "codemirror_mode": {
    "name": "ipython",
    "version": 3
   },
   "file_extension": ".py",
   "mimetype": "text/x-python",
   "name": "python",
   "nbconvert_exporter": "python",
   "pygments_lexer": "ipython3",
   "version": "3.10.9"
  }
 },
 "nbformat": 4,
 "nbformat_minor": 1
}
