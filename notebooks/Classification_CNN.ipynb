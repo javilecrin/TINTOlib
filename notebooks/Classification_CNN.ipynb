{
 "cells": [
  {
   "cell_type": "markdown",
   "metadata": {
    "id": "EybOZ6hSjpCF"
   },
   "source": [
    "<h1><font color=\"#113D68\" size=5>TINTOlib: Converting Tidy Data into Image for Classification with 2-Dimensional Convolutional Neural Networks</font></h1>\n",
    "\n",
    "<br><br>\n",
    "<div style=\"text-align: right\">\n",
    "<font color=\"#113D68\" size=3>Borja Reinoso Hidalgo</font><br>\n",
    "<font color=\"#113D68\" size=3>Manuel Castillo-Cara</font><br>\n",
    "<font color=\"#113D68\" size=3>Raúl García-Castro</font><br>\n",
    "\n",
    "</div>"
   ]
  },
  {
   "cell_type": "markdown",
   "metadata": {
    "id": "2l5nFzsdjpCW"
   },
   "source": [
    "---\n",
    "\n",
    "<a id=\"indice\"></a>\n",
    "<h2><font color=\"#004D7F\" size=5>Index</font></h2>\n",
    "\n",
    "* [0. Context](#section0)\n",
    "* [1. Description](#section1)\n",
    "    * [1.1. Main Features](#section12)\n",
    "* [2. Libraries](#section2)\n",
    "* [3. Data processing](#section3)\n",
    "    * [3.1. Create images](#section31)\n",
    "    * [3.2. Read Images](#section32)\n",
    "* [4. Pre-modelling phase](#section4)\n",
    "    * [4.1. Data curation](#section41)\n",
    "    * [4.2. Resize Images](#section42)\n",
    "    * [4.3. Iterators](#section43)\n",
    "* [5. Modelling hybrid network](#section5)\n",
    "    * [5.1. Hybrid network](#section51)\n",
    "    * [5.2. Compile and fit](#section52)\n",
    "* [6. Results](#section6)"
   ]
  },
  {
   "cell_type": "markdown",
   "metadata": {
    "id": "SxTpMExHjpCa"
   },
   "source": [
    "---\n",
    "<a id=\"section0\"></a>\n",
    "# <font color=\"#004D7F\" size=6> 0. Context</font>"
   ]
  },
  {
   "cell_type": "markdown",
   "metadata": {
    "id": "JlVYt3MRrl_V"
   },
   "source": [
    "This is a tutorial on how to read the images created by TINTO and pass them to a very simple pretrained Convolutional Neural Network (CNN). The images must already be created by the TINTO software. See the documentation in GITHUB for how to create the images from tabular data.\n",
    "\n",
    "Remember that when using CNN you can set the training to be done with GPUs to improve performance."
   ]
  },
  {
   "cell_type": "markdown",
   "metadata": {
    "id": "i3tgsO0BjpCj"
   },
   "source": [
    "<div class=\"alert alert-block alert-info\">\n",
    "    \n",
    "<i class=\"fa fa-info-circle\" aria-hidden=\"true\"></i>\n",
    "You can see all information about TINTOlib in [GitHub](https://github.com/oeg-upm/TINTOlib)"
   ]
  },
  {
   "cell_type": "markdown",
   "metadata": {
    "id": "4RKBgDwzjpCl"
   },
   "source": [
    "---\n",
    "<div style=\"text-align: right\"> <font size=5> <a href=\"#indice\"><i class=\"fa fa-arrow-circle-up\" aria-hidden=\"true\" style=\"color:#004D7F\"></i></a></font></div>\n",
    "\n",
    "---"
   ]
  },
  {
   "cell_type": "markdown",
   "metadata": {
    "id": "kpU7pi6yjpCn"
   },
   "source": [
    "<a id=\"section1\"></a>\n",
    "# <font color=\"#004D7F\" size=6> 1. Description</font>"
   ]
  },
  {
   "cell_type": "markdown",
   "metadata": {
    "id": "NL9RoFkEjpCq"
   },
   "source": [
    "The growing interest in the use of algorithms-based machine learning for predictive tasks has generated a large and diverse development of algorithms. However, it is widely known that not all of these algorithms are adapted to efficient solutions in certain tidy data format datasets. For this reason, novel techniques are currently being developed to convert tidy data into images with the aim of using Convolutional Neural Networks (CNNs). TINTOlib offers the opportunity to convert tidy data into images through several techniques: TINTO, IGTD, REFINED, SuperTML, BarGraph, DistanceMatrix and Combination."
   ]
  },
  {
   "cell_type": "markdown",
   "metadata": {
    "id": "HFrF4C89jpCt"
   },
   "source": [
    "---\n",
    "<a id=\"section11\"></a>\n",
    "# <font color=\"#004D7F\" size=5> 1.1. Main Features</font>"
   ]
  },
  {
   "cell_type": "markdown",
   "metadata": {
    "id": "1gruE0_sjpCu"
   },
   "source": [
    "- Supports all CSV data in **[Tidy Data](https://www.jstatsoft.org/article/view/v059i10)** format.\n",
    "- For now, the algorithm converts tabular data for binary and multi-class classification problems into machine learning.\n",
    "- Input data formats:\n",
    "    - **Tabular files**: The input data could be in **[CSV](https://en.wikipedia.org/wiki/Comma-separated_values)**, taking into account the **[Tidy Data](https://www.jstatsoft.org/article/view/v059i10)** format.\n",
    "    - **Dataframe***: The input data could be in **[Pandas Dataframe](https://pandas.pydata.org/docs/reference/api/pandas.DataFrame.html)**, taking into account the **[Tidy Data](https://www.jstatsoft.org/article/view/v059i10)** format.\n",
    "    - **Tidy Data**: The **target** (variable to be predicted) should be set as the last column of the dataset. Therefore, the first columns will be the features.\n",
    "    - All data must be in numerical form. TINTOlib does not accept data in string or any other non-numeric format.\n",
    "- Runs on **Linux**, **Windows** and **macOS** systems.\n",
    "- Compatible with **[Python](https://www.python.org/)** 3.7 or higher."
   ]
  },
  {
   "cell_type": "markdown",
   "metadata": {
    "id": "Z3EzYcjJjpC6"
   },
   "source": [
    "---\n",
    "<div style=\"text-align: right\"> <font size=5> <a href=\"#indice\"><i class=\"fa fa-arrow-circle-up\" aria-hidden=\"true\" style=\"color:#004D7F\"></i></a></font></div>\n",
    "\n",
    "---"
   ]
  },
  {
   "cell_type": "markdown",
   "metadata": {
    "id": "qwYF5A2njpC8"
   },
   "source": [
    "<a id=\"section2\"></a>\n",
    "# <font color=\"#004D7F\" size=6> 2. Libraries</font>"
   ]
  },
  {
   "cell_type": "markdown",
   "metadata": {
    "id": "5AdHKnWYsEq_"
   },
   "source": [
    "The first thing we need to do is to declare the libraries"
   ]
  },
  {
   "cell_type": "code",
   "execution_count": 1,
   "metadata": {
    "id": "PeeBbGxlpjFp",
    "tags": []
   },
   "outputs": [],
   "source": [
    "import os\n",
    "import pandas as pd\n",
    "import numpy as np\n",
    "from tqdm import tqdm\n",
    "#import cv2\n",
    "import gc\n",
    "import matplotlib.pyplot as plt\n",
    "#import openslide\n",
    "#from openslide.deepzoom import DeepZoomGenerator\n",
    "import tifffile as tifi\n",
    "import sklearn\n",
    "import tensorflow as tf\n",
    "\n",
    "from keras_preprocessing.image import ImageDataGenerator\n",
    "from tensorflow.keras.models import load_model\n",
    "\n",
    "from sklearn.model_selection import train_test_split\n",
    "from tensorflow.keras.applications import vgg16, vgg19, resnet50, mobilenet, inception_resnet_v2, densenet, inception_v3, xception, nasnet, ResNet152V2\n",
    "from tensorflow.keras.models import Sequential, Model, load_model\n",
    "from tensorflow.keras.layers import Dense, Conv2D, MaxPool2D, Flatten, Dropout, BatchNormalization, InputLayer, LayerNormalization\n",
    "from tensorflow.keras.callbacks import ModelCheckpoint, ReduceLROnPlateau, EarlyStopping\n",
    "from tensorflow.keras.optimizers import SGD, Adam, Adadelta, Adamax\n",
    "\n",
    "from imblearn.over_sampling import RandomOverSampler\n",
    "#Models of TINTOlib\n",
    "from TINTOlib.tinto import TINTO\n",
    "from TINTOlib.supertml import SuperTML\n",
    "from TINTOlib.igtd import IGTD\n",
    "from TINTOlib.refined import REFINED\n",
    "from TINTOlib.barGraph import BarGraph\n",
    "from TINTOlib.distanceMatrix import DistanceMatrix\n",
    "from TINTOlib.combination import Combination"
   ]
  },
  {
   "cell_type": "markdown",
   "metadata": {
    "id": "NwS-cKUxjpDQ"
   },
   "source": [
    "---\n",
    "<div style=\"text-align: right\"> <font size=5> <a href=\"#indice\"><i class=\"fa fa-arrow-circle-up\" aria-hidden=\"true\" style=\"color:#004D7F\"></i></a></font></div>\n",
    "\n",
    "---"
   ]
  },
  {
   "cell_type": "markdown",
   "metadata": {
    "id": "aDL4LARWjpDT"
   },
   "source": [
    "<a id=\"section3\"></a>\n",
    "# <font color=\"#004D7F\" size=6> 3. Data processing</font>"
   ]
  },
  {
   "cell_type": "markdown",
   "metadata": {
    "id": "jXcRw78ljpDU"
   },
   "source": [
    "The first thing to do is to read all the images created by TINTO. TINTO creates a folder which contains subfolders corresponding to each target that has the problem. Each image corresponds to a sample of the original dataset."
   ]
  },
  {
   "cell_type": "markdown",
   "metadata": {
    "id": "pLzynCxOpHBX"
   },
   "source": [
    "<a id=\"section31\"></a>\n",
    "# <font color=\"#004D7F\" size=5> 3.1. Create images with TINTOlib</font>"
   ]
  },
  {
   "cell_type": "code",
   "execution_count": null,
   "metadata": {},
   "outputs": [],
   "source": [
    "#Select the model and the parameters\n",
    "problem_type = \"supervised\"\n",
    "image_model = REFINED(problem= problem_type,hcIterations=5)\n",
    "#image_model = TINTO(problem= problem_type,blur=True)\n",
    "\n",
    "#Define the dataset path and the folder where the images will be saved\n",
    "dataset_path = \"cancer.csv\"\n",
    "images_folder = \"classificationtintolib\"\n",
    "\n"
   ]
  },
  {
   "cell_type": "code",
   "execution_count": null,
   "metadata": {},
   "outputs": [],
   "source": [
    "#Read CSV\n",
    "df=pd.read_csv(dataset_path)\n",
    "df = df.drop('id', axis=1)\n",
    "\n",
    "diagnosis_col = df['diagnosis']\n",
    "df = df.drop('diagnosis', axis=1)\n",
    "df['diagnosis'] = diagnosis_col"
   ]
  },
  {
   "cell_type": "code",
   "execution_count": null,
   "metadata": {},
   "outputs": [],
   "source": [
    "#Generate the images\n",
    "image_model.generateImages(df, images_folder)\n",
    "img_paths = os.path.join(images_folder,problem_type+\".csv\")\n",
    "\n",
    "print(img_paths)"
   ]
  },
  {
   "cell_type": "markdown",
   "metadata": {
    "id": "klS9PZsUjpDV"
   },
   "source": [
    "<a id=\"section32\"></a>\n",
    "# <font color=\"#004D7F\" size=5> 3.2. Read images</font>"
   ]
  },
  {
   "cell_type": "markdown",
   "metadata": {
    "id": "COh9Th5jsDei"
   },
   "source": [
    "Read the images path csv"
   ]
  },
  {
   "cell_type": "code",
   "execution_count": null,
   "metadata": {},
   "outputs": [],
   "source": [
    "df = pd.read_csv(img_paths)\n",
    "df[\"class\"] = df[\"class\"].astype(str)\n",
    "df[\"images\"]= images_folder + \"/\" + df[\"images\"]\n",
    "\n",
    "print(df[\"images\"][0])\n",
    "print(df[\"class\"].value_counts())"
   ]
  },
  {
   "cell_type": "markdown",
   "metadata": {},
   "source": [
    "---\n",
    "<div style=\"text-align: right\"> <font size=5> <a href=\"#indice\"><i class=\"fa fa-arrow-circle-up\" aria-hidden=\"true\" style=\"color:#004D7F\"></i></a></font></div>\n",
    "\n",
    "---"
   ]
  },
  {
   "cell_type": "markdown",
   "metadata": {},
   "source": [
    "<a id=\"section4\"></a>\n",
    "# <font color=\"#004D7F\" size=6> 4. Pre-modelling phase</font>"
   ]
  },
  {
   "cell_type": "markdown",
   "metadata": {
    "id": "nb4Dd37rjpDm"
   },
   "source": [
    "<a id=\"section41\"></a>\n",
    "# <font color=\"#004D7F\" size=5> 4.1. Data curation</font>"
   ]
  },
  {
   "cell_type": "markdown",
   "metadata": {
    "id": "9TjBcUbxjpDt"
   },
   "source": [
    "Split in train/test/validation"
   ]
  },
  {
   "cell_type": "code",
   "execution_count": 4,
   "metadata": {
    "id": "BDyHty4-pjF5",
    "tags": []
   },
   "outputs": [],
   "source": [
    "df_x = df.drop('class', axis = 1)\n",
    "df_y = df['class']\n",
    "\n",
    "X_train, X_val, y_train, y_val = train_test_split(df_x, df_y, test_size = 0.40, random_state=42,stratify=df_y)\n",
    "X_val, X_test, y_val, y_test = train_test_split(X_val, y_val, test_size = 0.50, random_state=42,stratify=y_val)\n"
   ]
  },
  {
   "cell_type": "code",
   "execution_count": 5,
   "metadata": {
    "id": "9Ix84V0ApjF8",
    "tags": []
   },
   "outputs": [],
   "source": [
    "df_train = pd.concat([X_train, y_train], axis = 1)\n",
    "df_test = pd.concat([X_test, y_test], axis = 1)\n",
    "df_val = pd.concat([X_val, y_val], axis = 1)"
   ]
  },
  {
   "cell_type": "code",
   "execution_count": 6,
   "metadata": {
    "colab": {
     "base_uri": "https://localhost:8080/"
    },
    "id": "mnX_etdYpjF9",
    "outputId": "9104166d-9c5c-4ed3-b71b-c9aa23461559",
    "tags": []
   },
   "outputs": [
    {
     "name": "stdout",
     "output_type": "stream",
     "text": [
      "5.0    408\n",
      "6.0    383\n",
      "7.0    119\n",
      "Name: class, dtype: int64\n",
      " \n",
      " \n",
      "5.0    137\n",
      "6.0    127\n",
      "7.0     40\n",
      "Name: class, dtype: int64\n",
      " \n",
      " \n",
      "5.0    136\n",
      "6.0    128\n",
      "7.0     40\n",
      "Name: class, dtype: int64\n"
     ]
    }
   ],
   "source": [
    "print(df_train['class'].value_counts())\n",
    "print(' ')\n",
    "print(' ')\n",
    "print(df_test['class'].value_counts())\n",
    "print(' ')\n",
    "print(' ')\n",
    "print(df_val['class'].value_counts())"
   ]
  },
  {
   "cell_type": "markdown",
   "metadata": {
    "id": "a347tUZnjpED"
   },
   "source": [
    "<a id=\"section42\"></a>\n",
    "# <font color=\"#004D7F\" size=5> 4.2. Resize images</font>"
   ]
  },
  {
   "cell_type": "markdown",
   "metadata": {
    "id": "xvXLjHzAjpEE"
   },
   "source": [
    "In our case, as we are going to train with a pre-trained network, we must resize it to the dimensions established by the network. Therefore, if you make a customised CNN, this cell is optional. "
   ]
  },
  {
   "cell_type": "code",
   "execution_count": 7,
   "metadata": {
    "id": "Z0Jbdn_ypjF-",
    "tags": []
   },
   "outputs": [],
   "source": [
    "train_datagen = ImageDataGenerator(rescale = 1./255)\n",
    "valid_datagen = ImageDataGenerator(rescale = 1./255)\n",
    "teste_datagen = ImageDataGenerator(rescale = 1./255)"
   ]
  },
  {
   "cell_type": "code",
   "execution_count": 8,
   "metadata": {
    "colab": {
     "base_uri": "https://localhost:8080/"
    },
    "id": "ebOBC5iypjGA",
    "outputId": "e1bf4be0-f486-460e-9bf6-90a7f87b1939",
    "tags": []
   },
   "outputs": [
    {
     "name": "stdout",
     "output_type": "stream",
     "text": [
      "(910, 2)\n",
      "(304, 2)\n",
      "(304, 2)\n"
     ]
    }
   ],
   "source": [
    "print(df_train.shape)\n",
    "print(df_val.shape)\n",
    "print(df_test.shape)"
   ]
  },
  {
   "cell_type": "markdown",
   "metadata": {
    "id": "NjFY9rn2jpEL"
   },
   "source": [
    "<a id=\"section43\"></a>\n",
    "# <font color=\"#004D7F\" size=5> 4.3. Iterators</font>"
   ]
  },
  {
   "cell_type": "markdown",
   "metadata": {
    "id": "GFYTHIPljpEM"
   },
   "source": [
    "Create iterators for train/test/validation"
   ]
  },
  {
   "cell_type": "code",
   "execution_count": null,
   "metadata": {},
   "outputs": [],
   "source": [
    "pixels = 20"
   ]
  },
  {
   "cell_type": "code",
   "execution_count": 9,
   "metadata": {
    "colab": {
     "base_uri": "https://localhost:8080/"
    },
    "id": "inaR7-KxpjGC",
    "outputId": "21305649-6133-43b8-c3cf-b6fa3faa5573",
    "tags": []
   },
   "outputs": [
    {
     "name": "stdout",
     "output_type": "stream",
     "text": [
      "Found 910 validated image filenames belonging to 3 classes.\n"
     ]
    }
   ],
   "source": [
    "train_iter = train_datagen.flow_from_dataframe(\n",
    "    df_train, \n",
    "    target_size = (pixels, pixels),\n",
    "    x_col = 'images',\n",
    "    y_col = 'class',\n",
    "    class_mode = 'categorical',\n",
    "    color_mode='grayscale',\n",
    "    batch_size = 8,\n",
    "    shuffle = True\n",
    ")"
   ]
  },
  {
   "cell_type": "code",
   "execution_count": 10,
   "metadata": {
    "colab": {
     "base_uri": "https://localhost:8080/"
    },
    "id": "MGPDhsFQpjGE",
    "outputId": "e473d2ba-806a-4a48-c530-2d91305bd9ad",
    "tags": []
   },
   "outputs": [
    {
     "name": "stdout",
     "output_type": "stream",
     "text": [
      "Found 304 validated image filenames belonging to 3 classes.\n"
     ]
    }
   ],
   "source": [
    "valid_iter = train_datagen.flow_from_dataframe(\n",
    "    df_val, \n",
    "    target_size = (pixels, pixels),\n",
    "    x_col = 'images',\n",
    "    y_col = 'class',\n",
    "    class_mode = 'categorical',\n",
    "    color_mode='grayscale',\n",
    "    batch_size = 8,\n",
    "    shuffle = False\n",
    ")"
   ]
  },
  {
   "cell_type": "code",
   "execution_count": 11,
   "metadata": {
    "colab": {
     "base_uri": "https://localhost:8080/"
    },
    "id": "jkWY-9y3pjGF",
    "outputId": "2942429a-0a1f-4a68-91c2-ebd8dc797b8e",
    "tags": []
   },
   "outputs": [
    {
     "name": "stdout",
     "output_type": "stream",
     "text": [
      "Found 304 validated image filenames belonging to 3 classes.\n"
     ]
    }
   ],
   "source": [
    "test_iter = train_datagen.flow_from_dataframe(\n",
    "    df_test, \n",
    "    target_size = (pixels, pixels),\n",
    "    x_col = 'images',\n",
    "    y_col = 'class',\n",
    "    class_mode = 'categorical',\n",
    "    color_mode='grayscale',\n",
    "    batch_size = 8,\n",
    "    shuffle = False\n",
    ")"
   ]
  },
  {
   "cell_type": "code",
   "execution_count": 12,
   "metadata": {
    "colab": {
     "base_uri": "https://localhost:8080/"
    },
    "id": "3YzRGsb9pjGG",
    "outputId": "1edff292-1127-40d6-b68f-1e6a4d92be32",
    "tags": []
   },
   "outputs": [
    {
     "name": "stdout",
     "output_type": "stream",
     "text": [
      "(20, 20, 1)\n",
      "(20, 20, 1)\n",
      "(20, 20, 1)\n"
     ]
    }
   ],
   "source": [
    "print(train_iter.image_shape)\n",
    "print(valid_iter.image_shape)\n",
    "print(test_iter.image_shape)"
   ]
  },
  {
   "cell_type": "markdown",
   "metadata": {
    "id": "xagy7N7ijpEX"
   },
   "source": [
    "---\n",
    "<div style=\"text-align: right\"> <font size=5> <a href=\"#indice\"><i class=\"fa fa-arrow-circle-up\" aria-hidden=\"true\" style=\"color:#004D7F\"></i></a></font></div>\n",
    "\n",
    "---"
   ]
  },
  {
   "cell_type": "markdown",
   "metadata": {
    "id": "rE0VunQYjpEY"
   },
   "source": [
    "<a id=\"section5\"></a>\n",
    "# <font color=\"#004D7F\" size=6> 5. Modelling with CNN</font>"
   ]
  },
  {
   "cell_type": "markdown",
   "metadata": {
    "id": "MDfs9l-hjpEZ"
   },
   "source": [
    "Now we can start the CNN training. Before that we prepare the algorithm for reading data."
   ]
  },
  {
   "cell_type": "markdown",
   "metadata": {
    "id": "Qn2U90FwjpEe"
   },
   "source": [
    "<a id=\"section51\"></a>\n",
    "# <font color=\"#004D7F\" size=5> 5.1. CNN</font>"
   ]
  },
  {
   "cell_type": "code",
   "execution_count": 13,
   "metadata": {
    "id": "Lfd0mkLEwgu3"
   },
   "outputs": [],
   "source": [
    "dropout = 0.5\n",
    "epochs = 200\n",
    "n_class = df['class'].value_counts().count()"
   ]
  },
  {
   "cell_type": "code",
   "execution_count": 14,
   "metadata": {
    "id": "tZl0AETUw1r8"
   },
   "outputs": [],
   "source": [
    "from keras.models import Sequential\n",
    "from keras.layers import Dense\n",
    "from keras.layers import Dropout\n",
    "from keras.layers import Flatten\n",
    "from keras.constraints import maxnorm\n",
    "from keras.optimizers import SGD\n",
    "from keras.layers.convolutional import Conv2D\n",
    "from keras.layers.convolutional import MaxPooling2D\n",
    "from keras.utils import np_utils\n",
    "\n",
    "from keras.layers import Dense, Conv2D, Flatten, Dropout, MaxPooling2D, AveragePooling2D\n",
    "from keras.layers import  BatchNormalization, Activation, Input, Concatenate\n",
    "from keras.utils import plot_model\n",
    "\n",
    "\n"
   ]
  },
  {
   "cell_type": "code",
   "execution_count": 15,
   "metadata": {},
   "outputs": [],
   "source": [
    "from keras.layers import Dense, Conv2D, Flatten, Dropout, MaxPooling2D, AveragePooling2D\n",
    "from keras.layers import  BatchNormalization, Activation, Input, Concatenate\n",
    "from keras.utils import plot_model\n",
    "\n",
    "def cnn_branch(filters,kernel, input_shape):\n",
    "    cnn_model = Sequential()\n",
    "    cnn_model.add(input_shape)\n",
    "\n",
    "    for layer in filters:\n",
    "        cnn_model.add(Conv2D(layer, (kernel, kernel), padding=\"same\"))\n",
    "        cnn_model.add(Activation(\"relu\"))\n",
    "        cnn_model.add(BatchNormalization())\n",
    "        cnn_model.add(MaxPooling2D(pool_size=(2, 2)))\n",
    "        \n",
    "    return cnn_model\n"
   ]
  },
  {
   "cell_type": "code",
   "execution_count": 16,
   "metadata": {},
   "outputs": [],
   "source": [
    "from tensorflow.keras.layers import Input, Activation,MaxPooling2D, concatenate\n",
    "#Input\n",
    "\n",
    "input_shape = Input(shape=(pixels, pixels, 1))\n",
    "filters_cnn = [16,32,64,128] \n",
    "tower_1 = cnn_branch(filters_cnn,3,input_shape)\n",
    "  \n",
    "#Flatten\n",
    "merged = Flatten()(tower_1.output)\n",
    "        \n",
    "#Dense layers\n",
    "\n",
    "out = Dense(128,activation='relu')(merged)\n",
    "out = BatchNormalization()(out)\n",
    "out = Dropout(dropout)(out)\n",
    "out = Dense(64,activation='relu')(out)\n",
    "out = BatchNormalization()(out)\n",
    "out = Dropout(dropout)(out)\n",
    "out = Dense(32,activation='relu')(out)\n",
    "out = BatchNormalization()(out)\n",
    "out = Dropout(dropout)(out)     \n",
    "#Capa final de clasificación\n",
    "out = Dense(n_class, activation='softmax')(out)\n",
    "        \n",
    "  \n",
    "model = Model(input_shape, out)"
   ]
  },
  {
   "cell_type": "code",
   "execution_count": 17,
   "metadata": {
    "id": "DC3Ft7sppjGI",
    "tags": []
   },
   "outputs": [],
   "source": [
    "METRICS = [\n",
    "      tf.keras.metrics.TruePositives(name = 'tp'),\n",
    "      tf.keras.metrics.FalsePositives(name = 'fp'),\n",
    "      tf.keras.metrics.TrueNegatives(name = 'tn'),\n",
    "      tf.keras.metrics.FalseNegatives(name = 'fn'), \n",
    "      tf.keras.metrics.BinaryAccuracy(name ='accuracy'),\n",
    "      tf.keras.metrics.Precision(name = 'precision'),\n",
    "      tf.keras.metrics.Recall(name = 'recall'),\n",
    "      tf.keras.metrics.AUC(name = 'auc'),\n",
    "]"
   ]
  },
  {
   "cell_type": "markdown",
   "metadata": {
    "id": "owmN8gR-jpEh"
   },
   "source": [
    "<a id=\"section52\"></a>\n",
    "# <font color=\"#004D7F\" size=5> 5.2. Compile and fit</font>"
   ]
  },
  {
   "cell_type": "code",
   "execution_count": 18,
   "metadata": {
    "id": "RFxZU2q6pjGJ",
    "tags": []
   },
   "outputs": [],
   "source": [
    "model.compile(\n",
    "                #optimizer = sgd,\n",
    "                #optimizer = opt,\n",
    "                optimizer = 'adam',\n",
    "                #optimizer = 'Adadelta',\n",
    "                #optimizer = 'Adamax',\n",
    "                \n",
    "                metrics = METRICS,\n",
    "                #metrics = ['accuracy'],\n",
    "                #metrics = ['mse'],\n",
    "                \n",
    "                #loss = 'binary_crossentropy'\n",
    "                loss = 'categorical_crossentropy'\n",
    "                #loss = 'mean_absolute_error'\n",
    "                #loss = 'mse'\n",
    "                #loss = 'mean_squared_logarithmic_error'\n",
    "                )"
   ]
  },
  {
   "cell_type": "code",
   "execution_count": null,
   "metadata": {},
   "outputs": [],
   "source": [
    "modelfitprogress = model.fit(\n",
    "                              train_iter,\n",
    "                              validation_data = valid_iter,\n",
    "                              epochs = epochs,\n",
    "                              steps_per_epoch = df_train.shape[0]//train_iter.batch_size,\n",
    "                              validation_steps = df_val.shape[0]//valid_iter.batch_size\n",
    "                              )"
   ]
  },
  {
   "cell_type": "markdown",
   "metadata": {
    "id": "9R2jytfijpEp"
   },
   "source": [
    "<a id=\"section6\"></a>\n",
    "# <font color=\"#004D7F\" size=6> 6. Results</font>"
   ]
  },
  {
   "cell_type": "markdown",
   "metadata": {
    "id": "a-1vHY9rjpEq"
   },
   "source": [
    "Finally, we can evaluate our CNN with the images created by TINTO in any of the ways represented below."
   ]
  },
  {
   "cell_type": "code",
   "execution_count": 20,
   "metadata": {
    "colab": {
     "base_uri": "https://localhost:8080/",
     "height": 430
    },
    "id": "-Ls6_Vu7pjGL",
    "outputId": "35f21788-cd17-4377-9d88-79118f992164",
    "tags": []
   },
   "outputs": [
    {
     "data": {
      "image/png": "[encoded data removed]",
      "text/plain": [
       "<Figure size 640x480 with 1 Axes>"
      ]
     },
     "metadata": {},
     "output_type": "display_data"
    }
   ],
   "source": [
    "plt.plot(modelfitprogress.history['loss'], color = 'red', label = 'loss')\n",
    "plt.plot(modelfitprogress.history['val_loss'], color = 'green', label = 'val loss')\n",
    "plt.legend(loc = 'upper right')\n",
    "plt.ylim(0,1)\n",
    "plt.show()"
   ]
  },
  {
   "cell_type": "code",
   "execution_count": 21,
   "metadata": {
    "colab": {
     "base_uri": "https://localhost:8080/",
     "height": 430
    },
    "id": "TWtsezuVpjGM",
    "outputId": "a06dccf3-da2d-4060-f67f-2046b547707b",
    "tags": []
   },
   "outputs": [
    {
     "data": {
      "image/png": "[encoded data removed]",
      "text/plain": [
       "<Figure size 640x480 with 1 Axes>"
      ]
     },
     "metadata": {},
     "output_type": "display_data"
    }
   ],
   "source": [
    "plt.plot(modelfitprogress.history['accuracy'], color = 'red', label = 'accuracy')\n",
    "plt.plot(modelfitprogress.history['val_accuracy'], color = 'green', label = 'val accuracy')\n",
    "plt.legend(loc = 'upper right')\n",
    "\n",
    "plt.show()"
   ]
  },
  {
   "cell_type": "code",
   "execution_count": 22,
   "metadata": {
    "colab": {
     "base_uri": "https://localhost:8080/"
    },
    "execution": {
     "iopub.execute_input": "2022-11-14T19:27:24.254144Z",
     "iopub.status.busy": "2022-11-14T19:27:24.253678Z",
     "iopub.status.idle": "2022-11-14T19:28:06.367196Z",
     "shell.execute_reply": "2022-11-14T19:28:06.366140Z",
     "shell.execute_reply.started": "2022-11-14T19:27:24.254102Z"
    },
    "id": "MtDLUW_QpjGO",
    "outputId": "1e8c02c1-0256-49cf-bd58-12e60bea38c6"
   },
   "outputs": [
    {
     "name": "stdout",
     "output_type": "stream",
     "text": [
      "38/38 [==============================] - 1s 13ms/step - loss: 1.1119 - tp: 183.0000 - fp: 113.0000 - tn: 495.0000 - fn: 121.0000 - accuracy: 0.7434 - precision: 0.6182 - recall: 0.6020 - auc: 0.8002\n",
      "Loss in validation: 1.1119256019592285 \n",
      "Accuracy in validation: 0.7434210777282715\n"
     ]
    }
   ],
   "source": [
    "score = model.evaluate(valid_iter, steps = df_val.shape[0]//valid_iter.batch_size)\n",
    "print(\"Loss in validation: {} \\nAccuracy in validation: {}\".format(score[0], score[5]))"
   ]
  },
  {
   "cell_type": "code",
   "execution_count": 34,
   "metadata": {
    "colab": {
     "base_uri": "https://localhost:8080/"
    },
    "execution": {
     "iopub.execute_input": "2022-11-14T19:28:06.369726Z",
     "iopub.status.busy": "2022-11-14T19:28:06.369356Z",
     "iopub.status.idle": "2022-11-14T19:28:47.388501Z",
     "shell.execute_reply": "2022-11-14T19:28:47.387465Z",
     "shell.execute_reply.started": "2022-11-14T19:28:06.369687Z"
    },
    "id": "27tFyGE8pjGO",
    "outputId": "51f9d766-3e48-4f24-ea4f-a4e48e380444"
   },
   "outputs": [
    {
     "name": "stdout",
     "output_type": "stream",
     "text": [
      "38/38 [==============================] - 1s 13ms/step - loss: 0.8849 - tp: 207.0000 - fp: 88.0000 - tn: 520.0000 - fn: 97.0000 - accuracy: 0.7971 - precision: 0.7017 - recall: 0.6809 - auc: 0.8509\n",
      "Loss in test: 0.8849334716796875 \n",
      "Accuracy in test: 0.797149121761322\n"
     ]
    }
   ],
   "source": [
    "score_test = model.evaluate(test_iter, steps = df_test.shape[0]//test_iter.batch_size)\n",
    "print(\"Loss in test: {} \\nAccuracy in test: {}\".format(score_test[0], score_test[5]))"
   ]
  },
  {
   "cell_type": "code",
   "execution_count": 39,
   "metadata": {
    "scrolled": false
   },
   "outputs": [
    {
     "data": {
      "text/plain": [
       "0.701694905757904"
      ]
     },
     "execution_count": 39,
     "metadata": {},
     "output_type": "execute_result"
    }
   ],
   "source": [
    "score_test[6]"
   ]
  },
  {
   "cell_type": "code",
   "execution_count": null,
   "metadata": {},
   "outputs": [],
   "source": [
    "#test_images = next(test_iter)[0]\n",
    "prediction = model.predict(test_iter, steps = np.math.ceil(test_iter.samples/test_iter.batch_size))\n",
    "#prediction = model.predict(test_images)\n",
    "print(prediction)"
   ]
  },
  {
   "cell_type": "code",
   "execution_count": 27,
   "metadata": {
    "colab": {
     "base_uri": "https://localhost:8080/"
    },
    "execution": {
     "iopub.execute_input": "2022-11-14T19:29:08.177900Z",
     "iopub.status.busy": "2022-11-14T19:29:08.176897Z",
     "iopub.status.idle": "2022-11-14T19:29:08.188572Z",
     "shell.execute_reply": "2022-11-14T19:29:08.187208Z",
     "shell.execute_reply.started": "2022-11-14T19:29:08.177854Z"
    },
    "id": "BYTp8d4YpjGR",
    "outputId": "22648669-538c-49bf-af8b-480de783c177"
   },
   "outputs": [
    {
     "data": {
      "text/plain": [
       "0    139\n",
       "1    126\n",
       "2     39\n",
       "Name: class, dtype: int64"
      ]
     },
     "execution_count": 27,
     "metadata": {},
     "output_type": "execute_result"
    }
   ],
   "source": [
    "x = pd.DataFrame(predicted_classes, columns = ['class'])\n",
    "x['class'].value_counts()"
   ]
  },
  {
   "cell_type": "code",
   "execution_count": 28,
   "metadata": {
    "execution": {
     "iopub.execute_input": "2022-11-14T19:29:08.191104Z",
     "iopub.status.busy": "2022-11-14T19:29:08.189767Z",
     "iopub.status.idle": "2022-11-14T19:29:08.195644Z",
     "shell.execute_reply": "2022-11-14T19:29:08.194640Z",
     "shell.execute_reply.started": "2022-11-14T19:29:08.191077Z"
    },
    "id": "-9f49cOspjGS"
   },
   "outputs": [],
   "source": [
    "true_classes = test_iter.classes\n",
    "class_labels = list(test_iter.class_indices.keys())  "
   ]
  },
  {
   "cell_type": "code",
   "execution_count": 40,
   "metadata": {},
   "outputs": [
    {
     "name": "stdout",
     "output_type": "stream",
     "text": [
      "Test accuracy: 0.797149121761322\n",
      "Test AUC: 0.8509078621864319\n",
      "Test precision: 0.701694905757904\n",
      "Test recall: 0.6809210777282715\n"
     ]
    }
   ],
   "source": [
    "from sklearn.metrics import roc_auc_score,accuracy_score,precision_score, recall_score\n",
    "\n",
    "test_accuracy = score_test[5]\n",
    "test_auc = score_test[8]\n",
    "test_precision = score_test[6]\n",
    "test_recall = score_test[7]\n",
    "\n",
    "print(\"Test accuracy:\",test_accuracy)\n",
    "print(\"Test AUC:\",test_auc)\n",
    "print(\"Test precision:\",test_precision)\n",
    "print(\"Test recall:\",test_recall)"
   ]
  },
  {
   "cell_type": "code",
   "execution_count": null,
   "metadata": {},
   "outputs": [],
   "source": [
    "train_accuracy = modelfitprogress.history[\"accuracy\"][-1]\n",
    "train_auc = modelfitprogress.history[\"auc\"][-1]\n",
    "train_precision = modelfitprogress.history[\"precision\"][-1]\n",
    "train_recall = modelfitprogress.history[\"recall\"][-1]\n",
    "train_loss = modelfitprogress.history[\"loss\"][-1]\n",
    "\n",
    "print(\"Train accuracy:\",train_accuracy)\n",
    "print(\"Train AUC:\",train_auc)\n",
    "print(\"Train precision:\",train_precision)\n",
    "print(\"Train recall:\",train_recall)\n",
    "print(\"Train loss:\",train_loss)"
   ]
  },
  {
   "cell_type": "code",
   "execution_count": null,
   "metadata": {},
   "outputs": [],
   "source": [
    "validation_accuracy = modelfitprogress.history[\"val_accuracy\"][-1]\n",
    "validation_auc = modelfitprogress.history[\"val_auc\"][-1]\n",
    "validation_precision = modelfitprogress.history[\"val_precision\"][-1]\n",
    "validation_recall = modelfitprogress.history[\"val_recall\"][-1]\n",
    "validation_loss = modelfitprogress.history[\"val_loss\"][-1]\n",
    "\n",
    "print(\"Validation accuracy:\",validation_accuracy)\n",
    "print(\"Validation AUC:\",validation_auc)\n",
    "print(\"Validation precision:\",validation_precision)\n",
    "print(\"Validation recall:\",validation_recall)\n",
    "print(\"Validation loss:\",validation_loss)"
   ]
  },
  {
   "cell_type": "markdown",
   "metadata": {
    "id": "0ciBS76mpjGU"
   },
   "source": [
    "<div style=\"text-align: right\"> <font size=5> <a href=\"#indice\"><i class=\"fa fa-arrow-circle-up\" aria-hidden=\"true\" style=\"color:#004D7F\"></i></a></font></div>\n",
    "\n",
    "---\n",
    "\n",
    "<div style=\"text-align: right\"> <font size=6><i class=\"fa fa-coffee\" aria-hidden=\"true\" style=\"color:#004D7F\"></i> </font></div>"
   ]
  }
 ],
 "metadata": {
  "accelerator": "GPU",
  "colab": {
   "gpuType": "T4",
   "provenance": []
  },
  "kernelspec": {
   "display_name": "Python 3 (ipykernel)",
   "language": "python",
   "name": "python3"
  },
  "language_info": {
   "codemirror_mode": {
    "name": "ipython",
    "version": 3
   },
   "file_extension": ".py",
   "mimetype": "text/x-python",
   "name": "python",
   "nbconvert_exporter": "python",
   "pygments_lexer": "ipython3",
   "version": "3.9.13"
  }
 },
 "nbformat": 4,
 "nbformat_minor": 1
}
