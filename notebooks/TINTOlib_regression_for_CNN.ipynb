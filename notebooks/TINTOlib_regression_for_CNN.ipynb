{
 "cells": [
  {
   "cell_type": "markdown",
   "metadata": {
    "id": "EybOZ6hSjpCF"
   },
   "source": [
    "<h1><font color=\"#113D68\" size=5>TINTO: Converting Tidy Data into Image for Classification with 2-Dimensional Convolutional Neural Networks</font></h1>\n",
    "\n",
    "\n",
    "\n",
    "<h1><font color=\"#113D68\" size=6>How to read TINTO images</font></h1>\n",
    "\n",
    "<br><br>\n",
    "<div style=\"text-align: right\">\n",
    "<font color=\"#113D68\" size=3>Manuel Castillo-Cara</font><br>\n",
    "<font color=\"#113D68\" size=3>Raúl García-Castro</font><br>\n",
    "<font color=\"#113D68\" size=3>Luis Orozco-Barbosa</font><br>\n",
    "</div>"
   ]
  },
  {
   "cell_type": "markdown",
   "metadata": {
    "id": "2l5nFzsdjpCW"
   },
   "source": [
    "---\n",
    "\n",
    "<a id=\"indice\"></a>\n",
    "<h2><font color=\"#004D7F\" size=5>Index</font></h2>\n",
    "\n",
    "* [0. Context](#section0)\n",
    "* [1. Description](#section1)\n",
    "    * [1.1. Main Features](#section12)\n",
    "    * [1.2. Citation](#section12)\n",
    "* [2. Libraries](#section2)\n",
    "* [3. Data processing](#section3)\n",
    "    * [3.1. Read images](#section31)\n",
    "    * [3.2. Data Curation](#section32)\n",
    "* [4. Pre-modelling phase](#section4)\n",
    "    * [4.1. Resize images](#section41)\n",
    "    * [4.2. Iteradores](#section42)\n",
    "* [5. Modelling with CNN](#section5)\n",
    "    * [5.1. CNN](#section51)\n",
    "    * [5.2. Compile and fit](#section52)\n",
    "    * [5.3. Results](#section53)"
   ]
  },
  {
   "cell_type": "markdown",
   "metadata": {
    "id": "SxTpMExHjpCa"
   },
   "source": [
    "---\n",
    "<a id=\"section0\"></a>\n",
    "# <font color=\"#004D7F\" size=6> 0. Context</font>"
   ]
  },
  {
   "cell_type": "markdown",
   "metadata": {
    "id": "JlVYt3MRrl_V"
   },
   "source": [
    "This is a tutorial on how to read the images created by TINTO and pass them to a very simple pretrained Convolutional Neural Network (CNN). The images must already be created by the TINTO software. See the documentation in GITHUB for how to create the images from tabular data.\n",
    "\n",
    "Remember that when using CNN you can set the training to be done with GPUs to improve performance."
   ]
  },
  {
   "cell_type": "markdown",
   "metadata": {
    "id": "WaA-_OjsjpCe"
   },
   "source": [
    "<div class=\"alert alert-block alert-info\">\n",
    "    \n",
    "<i class=\"fa fa-info-circle\" aria-hidden=\"true\"></i>\n",
    "See the paper from [Information Fusion Journal](https://doi.org/10.1016/j.inffus.2022.10.011)"
   ]
  },
  {
   "cell_type": "markdown",
   "metadata": {
    "id": "28TFDkl5jpCi"
   },
   "source": [
    "<div class=\"alert alert-block alert-info\">\n",
    "    \n",
    "<i class=\"fa fa-info-circle\" aria-hidden=\"true\"></i>\n",
    "See the paper from [SoftwareX](https://doi.org/10.1016/j.softx.2023.101391)"
   ]
  },
  {
   "cell_type": "markdown",
   "metadata": {
    "id": "i3tgsO0BjpCj"
   },
   "source": [
    "<div class=\"alert alert-block alert-info\">\n",
    "    \n",
    "<i class=\"fa fa-info-circle\" aria-hidden=\"true\"></i>\n",
    "You can see all information about TINTO in [GitHub](https://github.com/oeg-upm/TINTO)"
   ]
  },
  {
   "cell_type": "markdown",
   "metadata": {
    "id": "4RKBgDwzjpCl"
   },
   "source": [
    "---\n",
    "<div style=\"text-align: right\"> <font size=5> <a href=\"#indice\"><i class=\"fa fa-arrow-circle-up\" aria-hidden=\"true\" style=\"color:#004D7F\"></i></a></font></div>\n",
    "\n",
    "---"
   ]
  },
  {
   "cell_type": "markdown",
   "metadata": {
    "id": "kpU7pi6yjpCn"
   },
   "source": [
    "<a id=\"section1\"></a>\n",
    "# <font color=\"#004D7F\" size=6> 1. Description</font>"
   ]
  },
  {
   "cell_type": "markdown",
   "metadata": {
    "id": "NL9RoFkEjpCq"
   },
   "source": [
    "The growing interest in the use of algorithms-based machine learning for predictive tasks has generated a large and diverse development of algorithms. However, it is widely known that not all of these algorithms are adapted to efficient solutions in certain tidy data format datasets. For this reason, novel techniques are currently being developed to convert tidy data into images with the aim of using Convolutional Neural Networks (CNNs). TINTO offers the opportunity to convert tidy data into images through the representation of characteristic pixels by implementing two dimensional reduction algorithms: PCA and _t_-SNE. Our proposal also includes a blurring technique, which adds more ordered information to the image and can improve the classification task in CNNs."
   ]
  },
  {
   "cell_type": "markdown",
   "metadata": {
    "id": "HFrF4C89jpCt"
   },
   "source": [
    "---\n",
    "<a id=\"section11\"></a>\n",
    "# <font color=\"#004D7F\" size=5> 1.1. Main Features</font>"
   ]
  },
  {
   "cell_type": "markdown",
   "metadata": {
    "id": "1gruE0_sjpCu"
   },
   "source": [
    "- Supports all CSV data in **[Tidy Data](https://www.jstatsoft.org/article/view/v059i10)** format.\n",
    "- For now, the algorithm converts tabular data for binary and multi-class classification problems into machine learning.\n",
    "- Input data formats:\n",
    "    - **Tabular files**: The input data must be in **[CSV](https://en.wikipedia.org/wiki/Comma-separated_values)**, taking into account the **[Tidy Data](https://www.jstatsoft.org/article/view/v059i10)** format.\n",
    "    - **Tidy Data**: The **target** (variable to be predicted) should be set as the last column of the dataset. Therefore, the first columns will be the features.\n",
    "    - All data must be in numerical form. TINTO does not accept data in string or any other non-numeric format.\n",
    "- Two dimensionality reduction algorithms are used in image creation, **[PCA](https://scikit-learn.org/stable/modules/generated/sklearn.decomposition.PCA.html#sklearn.decomposition.PCA)** and **[*t*-SNE](https://scikit-learn.org/stable/modules/generated/sklearn.manifold.TSNE.html)** from the Scikit-learn Python library.\n",
    "- The synthetic images to be created will be in black and white, i.e. in 1 channel.\n",
    "- The synthetic image **dimensions** can be set as a parameter when creating them.\n",
    "- The synthetic images can be created using **characteristic pixels** or **blurring** painting technique (expressing an overlap of pixels as the **maximum** or **average**).\n",
    "- Runs on **Linux**, **Windows** and **macOS** systems.\n",
    "- Compatible with **[Python](https://www.python.org/)** 3.7 or higher."
   ]
  },
  {
   "cell_type": "markdown",
   "metadata": {
    "id": "Z3EzYcjJjpC6"
   },
   "source": [
    "---\n",
    "<div style=\"text-align: right\"> <font size=5> <a href=\"#indice\"><i class=\"fa fa-arrow-circle-up\" aria-hidden=\"true\" style=\"color:#004D7F\"></i></a></font></div>\n",
    "\n",
    "---"
   ]
  },
  {
   "cell_type": "markdown",
   "metadata": {
    "id": "qwYF5A2njpC8"
   },
   "source": [
    "<a id=\"section2\"></a>\n",
    "# <font color=\"#004D7F\" size=6> 2. Libraries</font>"
   ]
  },
  {
   "cell_type": "markdown",
   "metadata": {
    "id": "5AdHKnWYsEq_"
   },
   "source": [
    "The first thing we need to do is to declare the libraries"
   ]
  },
  {
   "cell_type": "code",
   "execution_count": 82,
   "metadata": {
    "id": "PeeBbGxlpjFp",
    "tags": []
   },
   "outputs": [],
   "source": [
    "import os\n",
    "import pandas as pd\n",
    "import numpy as np\n",
    "from tqdm import tqdm\n",
    "#import cv2\n",
    "import gc\n",
    "import matplotlib.pyplot as plt\n",
    "#import openslide\n",
    "#from openslide.deepzoom import DeepZoomGenerator\n",
    "import tifffile as tifi\n",
    "import sklearn\n",
    "import tensorflow as tf\n",
    "\n",
    "from sklearn.metrics import mean_absolute_error, mean_squared_error, r2_score,mean_absolute_percentage_error\n",
    "\n",
    "from keras_preprocessing.image import ImageDataGenerator\n",
    "from tensorflow.keras.models import load_model\n",
    "\n",
    "from sklearn.model_selection import train_test_split\n",
    "from tensorflow.keras.applications import vgg16, vgg19, resnet50, mobilenet, inception_resnet_v2, densenet, inception_v3, xception, nasnet, ResNet152V2\n",
    "from tensorflow.keras.models import Sequential, Model, load_model\n",
    "from tensorflow.keras.layers import Dense, Conv2D, MaxPool2D, Flatten, Dropout, BatchNormalization, InputLayer, LayerNormalization\n",
    "from tensorflow.keras.callbacks import ModelCheckpoint, ReduceLROnPlateau, EarlyStopping\n",
    "from tensorflow.keras.optimizers import SGD, Adam, Adadelta, Adamax\n",
    "from tensorflow.keras import layers, models, Model\n",
    "from tensorflow.keras.losses import MeanAbsoluteError, MeanAbsolutePercentageError\n",
    "\n",
    "from imblearn.over_sampling import RandomOverSampler\n",
    "#Models of TINTOlib\n",
    "from TINTOlib.tinto import TINTO\n",
    "from TINTOlib.supertml import SuperTML\n",
    "from TINTOlib.igtd import IGTD\n",
    "from TINTOlib.refined import REFINED\n",
    "from TINTOlib.barGraph import BarGraph\n",
    "from TINTOlib.distanceMatrix import DistanceMatrix\n",
    "from TINTOlib.combination import Combination"
   ]
  },
  {
   "cell_type": "markdown",
   "metadata": {
    "id": "NwS-cKUxjpDQ"
   },
   "source": [
    "---\n",
    "<div style=\"text-align: right\"> <font size=5> <a href=\"#indice\"><i class=\"fa fa-arrow-circle-up\" aria-hidden=\"true\" style=\"color:#004D7F\"></i></a></font></div>\n",
    "\n",
    "---"
   ]
  },
  {
   "cell_type": "markdown",
   "metadata": {
    "id": "aDL4LARWjpDT"
   },
   "source": [
    "<a id=\"section3\"></a>\n",
    "# <font color=\"#004D7F\" size=6> 3. Data processing</font>"
   ]
  },
  {
   "cell_type": "markdown",
   "metadata": {
    "id": "jXcRw78ljpDU"
   },
   "source": [
    "The first thing to do is to read all the images created by TINTO. TINTO creates a folder which contains subfolders corresponding to each target that has the problem. Each image corresponds to a sample of the original dataset."
   ]
  },
  {
   "cell_type": "markdown",
   "metadata": {},
   "source": [
    "<a id=\"section31\"></a>\n",
    "# <font color=\"#004D7F\" size=5> 3.1. Create images with TINTOlib</font>"
   ]
  },
  {
   "cell_type": "code",
   "execution_count": 2,
   "metadata": {},
   "outputs": [],
   "source": [
    "#Select the model and the parameters\n",
    "problem_type = \"regression\"\n",
    "image_model = TINTO(problem= problem_type)\n",
    "\n",
    "#Define the dataset path and the folder where the images will be saved\n",
    "dataset_path = \"C:\\\\Users\\\\Borja\\\\PycharmProjects\\\\TINTORERA\\\\Datasets\\\\boston.csv \"\n",
    "images_folder = \"C:\\\\Users\\\\Borja\\\\PycharmProjects\\\\TINTORERA\\\\tintoimagesregression\"\n",
    "\n",
    "\n"
   ]
  },
  {
   "cell_type": "markdown",
   "metadata": {},
   "source": [
    "Normalize dataset"
   ]
  },
  {
   "cell_type": "code",
   "execution_count": 3,
   "metadata": {},
   "outputs": [
    {
     "data": {
      "text/html": [
       "<div>\n",
       "<style scoped>\n",
       "    .dataframe tbody tr th:only-of-type {\n",
       "        vertical-align: middle;\n",
       "    }\n",
       "\n",
       "    .dataframe tbody tr th {\n",
       "        vertical-align: top;\n",
       "    }\n",
       "\n",
       "    .dataframe thead th {\n",
       "        text-align: right;\n",
       "    }\n",
       "</style>\n",
       "<table border=\"1\" class=\"dataframe\">\n",
       "  <thead>\n",
       "    <tr style=\"text-align: right;\">\n",
       "      <th></th>\n",
       "      <th>CRIM</th>\n",
       "      <th>ZN</th>\n",
       "      <th>INDUS</th>\n",
       "      <th>CHAS</th>\n",
       "      <th>NOX</th>\n",
       "      <th>RM</th>\n",
       "      <th>AGE</th>\n",
       "      <th>DIS</th>\n",
       "      <th>RAD</th>\n",
       "      <th>TAX</th>\n",
       "      <th>PTRATIO</th>\n",
       "      <th>B</th>\n",
       "      <th>LSTAT</th>\n",
       "      <th>MEDV</th>\n",
       "    </tr>\n",
       "  </thead>\n",
       "  <tbody>\n",
       "    <tr>\n",
       "      <th>0</th>\n",
       "      <td>0.00632</td>\n",
       "      <td>18.0</td>\n",
       "      <td>2.31</td>\n",
       "      <td>0</td>\n",
       "      <td>0.538</td>\n",
       "      <td>6.575</td>\n",
       "      <td>65.2</td>\n",
       "      <td>4.0900</td>\n",
       "      <td>1</td>\n",
       "      <td>296.0</td>\n",
       "      <td>15.3</td>\n",
       "      <td>396.9</td>\n",
       "      <td>4.98</td>\n",
       "      <td>24.0</td>\n",
       "    </tr>\n",
       "    <tr>\n",
       "      <th>1</th>\n",
       "      <td>0.02731</td>\n",
       "      <td>0.0</td>\n",
       "      <td>7.07</td>\n",
       "      <td>0</td>\n",
       "      <td>0.469</td>\n",
       "      <td>6.421</td>\n",
       "      <td>78.9</td>\n",
       "      <td>4.9671</td>\n",
       "      <td>2</td>\n",
       "      <td>242.0</td>\n",
       "      <td>17.8</td>\n",
       "      <td>396.9</td>\n",
       "      <td>9.14</td>\n",
       "      <td>21.6</td>\n",
       "    </tr>\n",
       "  </tbody>\n",
       "</table>\n",
       "</div>"
      ],
      "text/plain": [
       "      CRIM    ZN  INDUS  CHAS    NOX     RM   AGE     DIS  RAD    TAX  \\\n",
       "0  0.00632  18.0   2.31     0  0.538  6.575  65.2  4.0900    1  296.0   \n",
       "1  0.02731   0.0   7.07     0  0.469  6.421  78.9  4.9671    2  242.0   \n",
       "\n",
       "   PTRATIO      B  LSTAT  MEDV  \n",
       "0     15.3  396.9   4.98  24.0  \n",
       "1     17.8  396.9   9.14  21.6  "
      ]
     },
     "execution_count": 3,
     "metadata": {},
     "output_type": "execute_result"
    }
   ],
   "source": [
    "df = pd.read_csv(dataset_path)\n",
    "df.head(2)"
   ]
  },
  {
   "cell_type": "code",
   "execution_count": 4,
   "metadata": {},
   "outputs": [
    {
     "data": {
      "text/html": [
       "<div>\n",
       "<style scoped>\n",
       "    .dataframe tbody tr th:only-of-type {\n",
       "        vertical-align: middle;\n",
       "    }\n",
       "\n",
       "    .dataframe tbody tr th {\n",
       "        vertical-align: top;\n",
       "    }\n",
       "\n",
       "    .dataframe thead th {\n",
       "        text-align: right;\n",
       "    }\n",
       "</style>\n",
       "<table border=\"1\" class=\"dataframe\">\n",
       "  <thead>\n",
       "    <tr style=\"text-align: right;\">\n",
       "      <th></th>\n",
       "      <th>CRIM</th>\n",
       "      <th>ZN</th>\n",
       "      <th>INDUS</th>\n",
       "      <th>CHAS</th>\n",
       "      <th>NOX</th>\n",
       "      <th>RM</th>\n",
       "      <th>AGE</th>\n",
       "      <th>DIS</th>\n",
       "      <th>RAD</th>\n",
       "      <th>TAX</th>\n",
       "      <th>PTRATIO</th>\n",
       "      <th>B</th>\n",
       "      <th>LSTAT</th>\n",
       "      <th>MEDV</th>\n",
       "    </tr>\n",
       "  </thead>\n",
       "  <tbody>\n",
       "    <tr>\n",
       "      <th>0</th>\n",
       "      <td>0.000000</td>\n",
       "      <td>0.18</td>\n",
       "      <td>0.067815</td>\n",
       "      <td>0.0</td>\n",
       "      <td>0.314815</td>\n",
       "      <td>0.577505</td>\n",
       "      <td>0.641607</td>\n",
       "      <td>0.269203</td>\n",
       "      <td>0.000000</td>\n",
       "      <td>0.208015</td>\n",
       "      <td>0.287234</td>\n",
       "      <td>1.0</td>\n",
       "      <td>0.08968</td>\n",
       "      <td>24.0</td>\n",
       "    </tr>\n",
       "    <tr>\n",
       "      <th>1</th>\n",
       "      <td>0.000236</td>\n",
       "      <td>0.00</td>\n",
       "      <td>0.242302</td>\n",
       "      <td>0.0</td>\n",
       "      <td>0.172840</td>\n",
       "      <td>0.547998</td>\n",
       "      <td>0.782698</td>\n",
       "      <td>0.348962</td>\n",
       "      <td>0.043478</td>\n",
       "      <td>0.104962</td>\n",
       "      <td>0.553191</td>\n",
       "      <td>1.0</td>\n",
       "      <td>0.20447</td>\n",
       "      <td>21.6</td>\n",
       "    </tr>\n",
       "  </tbody>\n",
       "</table>\n",
       "</div>"
      ],
      "text/plain": [
       "       CRIM    ZN     INDUS  CHAS       NOX        RM       AGE       DIS  \\\n",
       "0  0.000000  0.18  0.067815   0.0  0.314815  0.577505  0.641607  0.269203   \n",
       "1  0.000236  0.00  0.242302   0.0  0.172840  0.547998  0.782698  0.348962   \n",
       "\n",
       "        RAD       TAX   PTRATIO    B    LSTAT  MEDV  \n",
       "0  0.000000  0.208015  0.287234  1.0  0.08968  24.0  \n",
       "1  0.043478  0.104962  0.553191  1.0  0.20447  21.6  "
      ]
     },
     "execution_count": 4,
     "metadata": {},
     "output_type": "execute_result"
    }
   ],
   "source": [
    "# Select all the attributes to normalize\n",
    "columns_to_normalize = df.columns[:-1]\n",
    "\n",
    "# Normalize between 0 and 1\n",
    "df_normalized = (df[columns_to_normalize] - df[columns_to_normalize].min()) / (df[columns_to_normalize].max() - df[columns_to_normalize].min())\n",
    "\n",
    "# Combine the attributes and the label\n",
    "df_normalized = pd.concat([df_normalized, df[df.columns[-1]]], axis=1)\n",
    "\n",
    "df_normalized.head(2)\n"
   ]
  },
  {
   "cell_type": "code",
   "execution_count": 5,
   "metadata": {},
   "outputs": [
    {
     "name": "stdout",
     "output_type": "stream",
     "text": [
      "C:\\Users\\Borja\\PycharmProjects\\TINTORERA\\tintoimagesregression\\regression.csv\n"
     ]
    }
   ],
   "source": [
    "#Generate thet images\n",
    "image_model.generateImages(df_normalized, images_folder)\n",
    "\n",
    "img_paths = os.path.join(images_folder,problem_type+\".csv\")\n",
    "\n",
    "\n",
    "\n",
    "print(img_paths)"
   ]
  },
  {
   "cell_type": "markdown",
   "metadata": {
    "id": "klS9PZsUjpDV"
   },
   "source": [
    "<a id=\"section32\"></a>\n",
    "# <font color=\"#004D7F\" size=5> 3.2. Read images</font>"
   ]
  },
  {
   "cell_type": "markdown",
   "metadata": {
    "id": "COh9Th5jsDei"
   },
   "source": [
    "Read the images path csv"
   ]
  },
  {
   "cell_type": "code",
   "execution_count": 6,
   "metadata": {},
   "outputs": [
    {
     "name": "stdout",
     "output_type": "stream",
     "text": [
      "C:\\Users\\Borja\\PycharmProjects\\TINTORERA\\tintoimagesregression\\images\\000000.png\n"
     ]
    }
   ],
   "source": [
    "df = pd.read_csv(img_paths)\n",
    "#df[\"values\"] = df[\"class\"].astype(str)\n",
    "df[\"images\"]= images_folder + \"\\\\\" + df[\"images\"]\n",
    "\n",
    "print(df[\"images\"][0])"
   ]
  },
  {
   "cell_type": "markdown",
   "metadata": {
    "id": "nb4Dd37rjpDm"
   },
   "source": [
    "<a id=\"section32\"></a>\n",
    "# <font color=\"#004D7F\" size=5> 3.2. Data curation</font>"
   ]
  },
  {
   "cell_type": "markdown",
   "metadata": {
    "id": "9TjBcUbxjpDt"
   },
   "source": [
    "Split in train/test/validation"
   ]
  },
  {
   "cell_type": "code",
   "execution_count": 7,
   "metadata": {
    "id": "BDyHty4-pjF5",
    "tags": []
   },
   "outputs": [],
   "source": [
    "df_x = df.drop('values', axis = 1)\n",
    "df_y = df['values']\n",
    "\n",
    "\n",
    "X_train, X_val, y_train, y_val = train_test_split(df_x, df_y, test_size = 0.40, random_state = 123)\n",
    "X_val, X_test, y_val, y_test = train_test_split(X_val, y_val, test_size = 0.50, random_state = 123)\n"
   ]
  },
  {
   "cell_type": "code",
   "execution_count": 8,
   "metadata": {
    "id": "9Ix84V0ApjF8",
    "tags": []
   },
   "outputs": [],
   "source": [
    "df_train = pd.concat([X_train, y_train], axis = 1)\n",
    "df_test = pd.concat([X_test, y_test], axis = 1)\n",
    "df_val = pd.concat([X_val, y_val], axis = 1)"
   ]
  },
  {
   "cell_type": "code",
   "execution_count": 16,
   "metadata": {},
   "outputs": [],
   "source": [
    "def get_mean_baseline(train: pd.DataFrame, val: pd.DataFrame) -> float:\n",
    "    \"\"\"Calculates the mean MAE and MAPE baselines by taking the mean values of the training data as prediction for the\n",
    "    validation target feature.\n",
    "\n",
    "    Parameters\n",
    "    ----------\n",
    "    train : pd.DataFrame\n",
    "        Pandas DataFrame containing your training data.\n",
    "    val : pd.DataFrame\n",
    "        Pandas DataFrame containing your validation data.\n",
    "\n",
    "    Returns\n",
    "    -------\n",
    "    float\n",
    "        MAPE value.\n",
    "    \"\"\"\n",
    "    y_hat = train[\"values\"].mean()\n",
    "    val[\"y_hat\"] = y_hat\n",
    "    mae = MeanAbsoluteError()\n",
    "    mae = mae(val[\"values\"], val[\"y_hat\"]).numpy()  # type: ignore\n",
    "    mape = MeanAbsolutePercentageError()\n",
    "    mape = mape(val[\"values\"], val[\"y_hat\"]).numpy()  # type: ignore\n",
    "\n",
    "    print(mae)\n",
    "    print(\"mean baseline MAPE: \", mape)\n",
    "\n",
    "    return mape\n"
   ]
  },
  {
   "cell_type": "code",
   "execution_count": 19,
   "metadata": {},
   "outputs": [
    {
     "name": "stdout",
     "output_type": "stream",
     "text": [
      "6.802192595497172\n",
      "mean baseline MAPE:  34.144190628535455\n"
     ]
    }
   ],
   "source": [
    " mean_baseline = get_mean_baseline(df_train, df_val)"
   ]
  },
  {
   "cell_type": "markdown",
   "metadata": {
    "id": "_haEKIo7jpD1"
   },
   "source": [
    "---\n",
    "<div style=\"text-align: right\"> <font size=5> <a href=\"#indice\"><i class=\"fa fa-arrow-circle-up\" aria-hidden=\"true\" style=\"color:#004D7F\"></i></a></font></div>\n",
    "\n",
    "---"
   ]
  },
  {
   "cell_type": "markdown",
   "metadata": {
    "id": "uF1lJWbojpD3"
   },
   "source": [
    "<a id=\"section4\"></a>\n",
    "# <font color=\"#004D7F\" size=6> 4. Pre-modelling phase</font>"
   ]
  },
  {
   "cell_type": "markdown",
   "metadata": {
    "id": "Z2JfptcrjpD5"
   },
   "source": [
    "Once the data is ready, we load it into memory with an iterator in order to pass it to the CNN."
   ]
  },
  {
   "cell_type": "markdown",
   "metadata": {
    "id": "a347tUZnjpED"
   },
   "source": [
    "<a id=\"section41\"></a>\n",
    "# <font color=\"#004D7F\" size=5> 4.1. Resize images</font>"
   ]
  },
  {
   "cell_type": "markdown",
   "metadata": {
    "id": "xvXLjHzAjpEE"
   },
   "source": [
    "In our case, as we are going to train with a pre-trained network, we must resize it to the dimensions established by the network. Therefore, if you make a customised CNN, this cell is optional. "
   ]
  },
  {
   "cell_type": "code",
   "execution_count": 9,
   "metadata": {
    "id": "Z0Jbdn_ypjF-",
    "tags": []
   },
   "outputs": [],
   "source": [
    "train_datagen = ImageDataGenerator(rescale = 1./255)\n",
    "valid_datagen = ImageDataGenerator(rescale = 1./255)\n",
    "teste_datagen = ImageDataGenerator(rescale = 1./255)"
   ]
  },
  {
   "cell_type": "code",
   "execution_count": 10,
   "metadata": {
    "id": "ebOBC5iypjGA",
    "tags": []
   },
   "outputs": [
    {
     "name": "stdout",
     "output_type": "stream",
     "text": [
      "(303, 2)\n",
      "(101, 2)\n",
      "(102, 2)\n"
     ]
    }
   ],
   "source": [
    "print(df_train.shape)\n",
    "print(df_val.shape)\n",
    "print(df_test.shape)"
   ]
  },
  {
   "cell_type": "code",
   "execution_count": 11,
   "metadata": {
    "id": "Z3clBH_ypjGB",
    "tags": []
   },
   "outputs": [],
   "source": [
    "image_length = 32\n",
    "image_height = 32"
   ]
  },
  {
   "cell_type": "markdown",
   "metadata": {
    "id": "NjFY9rn2jpEL"
   },
   "source": [
    "<a id=\"section42\"></a>\n",
    "# <font color=\"#004D7F\" size=5> 4.2. Iteradores</font>"
   ]
  },
  {
   "cell_type": "markdown",
   "metadata": {
    "id": "GFYTHIPljpEM"
   },
   "source": [
    "Create iterators for train/test/validation"
   ]
  },
  {
   "cell_type": "code",
   "execution_count": 12,
   "metadata": {
    "id": "inaR7-KxpjGC",
    "tags": []
   },
   "outputs": [
    {
     "name": "stdout",
     "output_type": "stream",
     "text": [
      "Found 303 validated image filenames.\n"
     ]
    }
   ],
   "source": [
    "train_iter = train_datagen.flow_from_dataframe(\n",
    "    df_train, \n",
    "    target_size = (image_length, image_height),\n",
    "    x_col = 'images',\n",
    "    y_col = 'values',\n",
    "    class_mode = 'raw',\n",
    "    batch_size = 8,\n",
    "    shuffle = True\n",
    ")"
   ]
  },
  {
   "cell_type": "code",
   "execution_count": 13,
   "metadata": {
    "id": "MGPDhsFQpjGE",
    "tags": []
   },
   "outputs": [
    {
     "name": "stdout",
     "output_type": "stream",
     "text": [
      "Found 101 validated image filenames.\n"
     ]
    }
   ],
   "source": [
    "valid_iter = train_datagen.flow_from_dataframe(\n",
    "    df_val, \n",
    "    target_size = (image_length, image_height),\n",
    "    x_col = 'images',\n",
    "    y_col = 'values',\n",
    "    class_mode = 'raw',\n",
    "    batch_size = 8\n",
    ")"
   ]
  },
  {
   "cell_type": "code",
   "execution_count": 14,
   "metadata": {
    "id": "jkWY-9y3pjGF",
    "tags": []
   },
   "outputs": [
    {
     "name": "stdout",
     "output_type": "stream",
     "text": [
      "Found 102 validated image filenames.\n"
     ]
    }
   ],
   "source": [
    "test_iter = train_datagen.flow_from_dataframe(\n",
    "    df_test, \n",
    "    target_size = (image_length, image_height),\n",
    "    x_col = 'images',\n",
    "    y_col = 'values',\n",
    "    class_mode = 'raw',\n",
    "    batch_size = 8,\n",
    "    shuffle = True\n",
    ")"
   ]
  },
  {
   "cell_type": "code",
   "execution_count": 15,
   "metadata": {
    "id": "3YzRGsb9pjGG",
    "tags": []
   },
   "outputs": [
    {
     "name": "stdout",
     "output_type": "stream",
     "text": [
      "(32, 32, 3)\n",
      "(32, 32, 3)\n",
      "(32, 32, 3)\n"
     ]
    }
   ],
   "source": [
    "print(train_iter.image_shape)\n",
    "print(valid_iter.image_shape)\n",
    "print(test_iter.image_shape)"
   ]
  },
  {
   "cell_type": "markdown",
   "metadata": {
    "id": "xagy7N7ijpEX"
   },
   "source": [
    "---\n",
    "<div style=\"text-align: right\"> <font size=5> <a href=\"#indice\"><i class=\"fa fa-arrow-circle-up\" aria-hidden=\"true\" style=\"color:#004D7F\"></i></a></font></div>\n",
    "\n",
    "---"
   ]
  },
  {
   "cell_type": "markdown",
   "metadata": {
    "id": "rE0VunQYjpEY"
   },
   "source": [
    "<a id=\"section5\"></a>\n",
    "# <font color=\"#004D7F\" size=6> 5. Modelling with CNN</font>"
   ]
  },
  {
   "cell_type": "markdown",
   "metadata": {
    "id": "MDfs9l-hjpEZ"
   },
   "source": [
    "Now we can start the CNN training. Before that we prepare the algorithm for reading data."
   ]
  },
  {
   "cell_type": "markdown",
   "metadata": {
    "id": "Qn2U90FwjpEe"
   },
   "source": [
    "<a id=\"section51\"></a>\n",
    "# <font color=\"#004D7F\" size=5> 5.1. CNN</font>"
   ]
  },
  {
   "cell_type": "code",
   "execution_count": 20,
   "metadata": {
    "id": "8aRrQsstpjGI",
    "tags": []
   },
   "outputs": [
    {
     "data": {
      "text/plain": [
       "\"x = Dense(2,\\n          activation = 'relu',\\n          name = 'new_output')(model.output) \\n\\n\\nmodel = Model(model.input, x)\""
      ]
     },
     "execution_count": 20,
     "metadata": {},
     "output_type": "execute_result"
    }
   ],
   "source": [
    "\"\"\"model = vgg16.VGG16(\n",
    "                    input_shape = (image_length, image_height, 3),\n",
    "                    include_top = False,\n",
    "                    pooling = 'avg',\n",
    "                    weights = 'imagenet'\n",
    "                    )\n",
    "\n",
    "\n",
    "model.trainable = False\"\"\"\n",
    "\n",
    "model = models.Sequential()\n",
    "model.add(layers.Conv2D(32, (3, 3), activation=\"relu\", input_shape=(32, 32, 3)))\n",
    "model.add(layers.MaxPooling2D((2, 2)))\n",
    "model.add(layers.Conv2D(64, (3, 3), activation=\"relu\"))\n",
    "model.add(layers.MaxPooling2D((2, 2)))\n",
    "model.add(layers.Conv2D(64, (3, 3), activation=\"relu\"))\n",
    "\n",
    "model.add(layers.Flatten())\n",
    "model.add(layers.Dense(64, activation=\"relu\"))\n",
    "model.add(layers.Dense(1))\n",
    "\n",
    "\"\"\"x = Dense(2,\n",
    "          activation = 'relu',\n",
    "          name = 'new_output')(model.output) \n",
    "\n",
    "\n",
    "model = Model(model.input, x)\"\"\""
   ]
  },
  {
   "cell_type": "markdown",
   "metadata": {
    "id": "owmN8gR-jpEh"
   },
   "source": [
    "<a id=\"section52\"></a>\n",
    "# <font color=\"#004D7F\" size=5> 5.2. Compile and fit</font>"
   ]
  },
  {
   "cell_type": "code",
   "execution_count": 21,
   "metadata": {
    "id": "DC3Ft7sppjGI",
    "tags": []
   },
   "outputs": [],
   "source": [
    "METRICS = [\n",
    "      tf.keras.metrics.MeanAbsoluteError(name = 'MAE'),\n",
    "      tf.keras.metrics.MeanAbsolutePercentageError(name = 'MAPE'),\n",
    "]"
   ]
  },
  {
   "cell_type": "code",
   "execution_count": 22,
   "metadata": {
    "id": "RFxZU2q6pjGJ",
    "tags": []
   },
   "outputs": [],
   "source": [
    "model.compile(\n",
    "                #optimizer = sgd,\n",
    "                #optimizer = opt,\n",
    "                optimizer = 'adam',\n",
    "                #optimizer = 'Adadelta',\n",
    "                #optimizer = 'Adamax',\n",
    "                \n",
    "                metrics = METRICS,\n",
    "                #metrics = ['accuracy'],\n",
    "                #metrics = ['mse'],\n",
    "                \n",
    "                #loss = 'binary_crossentropy'\n",
    "                loss = 'mean_absolute_error'\n",
    "                #loss = 'mean_absolute_error'\n",
    "                #loss = 'mse'\n",
    "                #loss = 'mean_squared_logarithmic_error'\n",
    "                )"
   ]
  },
  {
   "cell_type": "code",
   "execution_count": 23,
   "metadata": {
    "id": "n-0AaerapjGK",
    "scrolled": true,
    "tags": []
   },
   "outputs": [
    {
     "name": "stdout",
     "output_type": "stream",
     "text": [
      "Epoch 1/50\n",
      "37/37 [==============================] - 2s 44ms/step - loss: 9.6082 - MAE: 9.6082 - MAPE: 46.8688 - val_loss: 6.8013 - val_MAE: 6.8013 - val_MAPE: 32.5634\n",
      "Epoch 2/50\n",
      "37/37 [==============================] - 0s 7ms/step - loss: 6.8047 - MAE: 6.8047 - MAPE: 36.0083 - val_loss: 6.9761 - val_MAE: 6.9761 - val_MAPE: 30.0294\n",
      "Epoch 3/50\n",
      "37/37 [==============================] - 0s 8ms/step - loss: 6.5601 - MAE: 6.5601 - MAPE: 34.3156 - val_loss: 7.5719 - val_MAE: 7.5719 - val_MAPE: 30.5689\n",
      "Epoch 4/50\n",
      "37/37 [==============================] - 0s 7ms/step - loss: 6.5865 - MAE: 6.5865 - MAPE: 34.6181 - val_loss: 6.1575 - val_MAE: 6.1575 - val_MAPE: 29.0449\n",
      "Epoch 5/50\n",
      "37/37 [==============================] - 0s 8ms/step - loss: 6.3347 - MAE: 6.3347 - MAPE: 32.7271 - val_loss: 7.5861 - val_MAE: 7.5861 - val_MAPE: 29.3189\n",
      "Epoch 6/50\n",
      "37/37 [==============================] - 0s 8ms/step - loss: 5.7672 - MAE: 5.7672 - MAPE: 27.7093 - val_loss: 6.2547 - val_MAE: 6.2547 - val_MAPE: 24.1813\n",
      "Epoch 7/50\n",
      "37/37 [==============================] - 0s 8ms/step - loss: 5.3455 - MAE: 5.3455 - MAPE: 24.4814 - val_loss: 5.5726 - val_MAE: 5.5726 - val_MAPE: 24.0505\n",
      "Epoch 8/50\n",
      "37/37 [==============================] - 0s 8ms/step - loss: 5.6049 - MAE: 5.6049 - MAPE: 26.5618 - val_loss: 5.1559 - val_MAE: 5.1559 - val_MAPE: 22.8647\n",
      "Epoch 9/50\n",
      "37/37 [==============================] - 0s 7ms/step - loss: 5.0110 - MAE: 5.0110 - MAPE: 22.2196 - val_loss: 5.8504 - val_MAE: 5.8504 - val_MAPE: 23.4793\n",
      "Epoch 10/50\n",
      "37/37 [==============================] - 0s 7ms/step - loss: 4.7178 - MAE: 4.7178 - MAPE: 22.0554 - val_loss: 5.1835 - val_MAE: 5.1835 - val_MAPE: 21.2575\n",
      "Epoch 11/50\n",
      "37/37 [==============================] - 0s 7ms/step - loss: 4.8622 - MAE: 4.8622 - MAPE: 22.1246 - val_loss: 4.2377 - val_MAE: 4.2377 - val_MAPE: 18.8831\n",
      "Epoch 12/50\n",
      "37/37 [==============================] - 0s 8ms/step - loss: 4.2766 - MAE: 4.2766 - MAPE: 19.1925 - val_loss: 4.4293 - val_MAE: 4.4293 - val_MAPE: 19.3359\n",
      "Epoch 13/50\n",
      "37/37 [==============================] - 0s 7ms/step - loss: 4.0674 - MAE: 4.0674 - MAPE: 19.9331 - val_loss: 5.3813 - val_MAE: 5.3813 - val_MAPE: 21.2535\n",
      "Epoch 14/50\n",
      "37/37 [==============================] - 0s 7ms/step - loss: 3.8897 - MAE: 3.8897 - MAPE: 17.7452 - val_loss: 4.0523 - val_MAE: 4.0523 - val_MAPE: 19.3129\n",
      "Epoch 15/50\n",
      "37/37 [==============================] - 0s 7ms/step - loss: 3.2825 - MAE: 3.2825 - MAPE: 16.6157 - val_loss: 4.5853 - val_MAE: 4.5853 - val_MAPE: 18.5795\n",
      "Epoch 16/50\n",
      "37/37 [==============================] - 0s 7ms/step - loss: 3.4390 - MAE: 3.4390 - MAPE: 17.4291 - val_loss: 3.4913 - val_MAE: 3.4913 - val_MAPE: 16.1353\n",
      "Epoch 17/50\n",
      "37/37 [==============================] - 0s 7ms/step - loss: 3.1726 - MAE: 3.1726 - MAPE: 15.7676 - val_loss: 4.6705 - val_MAE: 4.6705 - val_MAPE: 26.5667\n",
      "Epoch 18/50\n",
      "37/37 [==============================] - 0s 7ms/step - loss: 3.3877 - MAE: 3.3877 - MAPE: 16.9845 - val_loss: 4.3160 - val_MAE: 4.3160 - val_MAPE: 18.0472\n",
      "Epoch 19/50\n",
      "37/37 [==============================] - 0s 7ms/step - loss: 3.3657 - MAE: 3.3657 - MAPE: 17.2567 - val_loss: 3.0029 - val_MAE: 3.0029 - val_MAPE: 14.6555\n",
      "Epoch 20/50\n",
      "37/37 [==============================] - 0s 7ms/step - loss: 2.7125 - MAE: 2.7125 - MAPE: 14.4920 - val_loss: 3.4023 - val_MAE: 3.4023 - val_MAPE: 15.0828\n",
      "Epoch 21/50\n",
      "37/37 [==============================] - 0s 7ms/step - loss: 2.6937 - MAE: 2.6937 - MAPE: 14.1848 - val_loss: 3.2561 - val_MAE: 3.2561 - val_MAPE: 15.5070\n",
      "Epoch 22/50\n",
      "37/37 [==============================] - 0s 7ms/step - loss: 2.7353 - MAE: 2.7353 - MAPE: 14.2093 - val_loss: 3.6399 - val_MAE: 3.6399 - val_MAPE: 17.8107\n",
      "Epoch 23/50\n",
      "37/37 [==============================] - 0s 7ms/step - loss: 3.3118 - MAE: 3.3118 - MAPE: 16.3693 - val_loss: 3.8539 - val_MAE: 3.8539 - val_MAPE: 16.2395\n",
      "Epoch 24/50\n",
      "37/37 [==============================] - 0s 7ms/step - loss: 2.8824 - MAE: 2.8824 - MAPE: 15.0332 - val_loss: 3.1351 - val_MAE: 3.1351 - val_MAPE: 14.5675\n",
      "Epoch 25/50\n",
      "37/37 [==============================] - 0s 7ms/step - loss: 2.7852 - MAE: 2.7852 - MAPE: 14.7877 - val_loss: 3.2853 - val_MAE: 3.2853 - val_MAPE: 15.6617\n",
      "Epoch 26/50\n",
      "37/37 [==============================] - 0s 7ms/step - loss: 2.8457 - MAE: 2.8457 - MAPE: 14.6420 - val_loss: 3.3395 - val_MAE: 3.3395 - val_MAPE: 14.7663\n",
      "Epoch 27/50\n",
      "37/37 [==============================] - 0s 7ms/step - loss: 2.6237 - MAE: 2.6237 - MAPE: 12.6445 - val_loss: 3.2718 - val_MAE: 3.2718 - val_MAPE: 14.8157\n",
      "Epoch 28/50\n",
      "37/37 [==============================] - 0s 7ms/step - loss: 2.8008 - MAE: 2.8008 - MAPE: 14.3441 - val_loss: 3.0998 - val_MAE: 3.0998 - val_MAPE: 14.5037\n",
      "Epoch 29/50\n",
      "37/37 [==============================] - 0s 7ms/step - loss: 2.7819 - MAE: 2.7819 - MAPE: 14.3297 - val_loss: 4.0156 - val_MAE: 4.0156 - val_MAPE: 16.8637\n",
      "Epoch 30/50\n",
      "37/37 [==============================] - 0s 7ms/step - loss: 2.7912 - MAE: 2.7912 - MAPE: 13.9148 - val_loss: 3.1646 - val_MAE: 3.1646 - val_MAPE: 14.3476\n",
      "Epoch 31/50\n",
      "37/37 [==============================] - 0s 7ms/step - loss: 2.8449 - MAE: 2.8449 - MAPE: 14.6344 - val_loss: 3.3287 - val_MAE: 3.3287 - val_MAPE: 15.1341\n",
      "Epoch 32/50\n",
      "37/37 [==============================] - 0s 7ms/step - loss: 3.1363 - MAE: 3.1363 - MAPE: 16.2407 - val_loss: 3.0657 - val_MAE: 3.0657 - val_MAPE: 14.1336\n",
      "Epoch 33/50\n",
      "37/37 [==============================] - 0s 7ms/step - loss: 2.7758 - MAE: 2.7758 - MAPE: 14.0018 - val_loss: 3.7470 - val_MAE: 3.7470 - val_MAPE: 15.9006\n",
      "Epoch 34/50\n",
      "37/37 [==============================] - 0s 7ms/step - loss: 2.7168 - MAE: 2.7168 - MAPE: 13.3258 - val_loss: 3.0386 - val_MAE: 3.0386 - val_MAPE: 14.1774\n",
      "Epoch 35/50\n",
      "37/37 [==============================] - 0s 7ms/step - loss: 2.7798 - MAE: 2.7798 - MAPE: 13.5310 - val_loss: 2.9518 - val_MAE: 2.9518 - val_MAPE: 12.8727\n",
      "Epoch 36/50\n",
      "37/37 [==============================] - 0s 7ms/step - loss: 2.5898 - MAE: 2.5898 - MAPE: 13.3680 - val_loss: 3.2264 - val_MAE: 3.2264 - val_MAPE: 14.6030\n",
      "Epoch 37/50\n",
      "37/37 [==============================] - 0s 7ms/step - loss: 2.6041 - MAE: 2.6041 - MAPE: 13.2523 - val_loss: 3.1783 - val_MAE: 3.1783 - val_MAPE: 16.1002\n",
      "Epoch 38/50\n",
      "37/37 [==============================] - 0s 7ms/step - loss: 2.5596 - MAE: 2.5596 - MAPE: 13.4037 - val_loss: 3.1885 - val_MAE: 3.1885 - val_MAPE: 14.4377\n",
      "Epoch 39/50\n",
      "37/37 [==============================] - 0s 7ms/step - loss: 2.5107 - MAE: 2.5107 - MAPE: 12.4058 - val_loss: 2.9259 - val_MAE: 2.9259 - val_MAPE: 14.1588\n",
      "Epoch 40/50\n",
      "37/37 [==============================] - 0s 7ms/step - loss: 2.5167 - MAE: 2.5167 - MAPE: 12.7722 - val_loss: 3.1813 - val_MAE: 3.1813 - val_MAPE: 14.8857\n",
      "Epoch 41/50\n",
      "37/37 [==============================] - 0s 7ms/step - loss: 2.4994 - MAE: 2.4994 - MAPE: 12.7293 - val_loss: 3.2067 - val_MAE: 3.2067 - val_MAPE: 16.3676\n",
      "Epoch 42/50\n",
      "37/37 [==============================] - 0s 7ms/step - loss: 2.8908 - MAE: 2.8908 - MAPE: 14.2310 - val_loss: 4.4402 - val_MAE: 4.4402 - val_MAPE: 24.3505\n",
      "Epoch 43/50\n",
      "37/37 [==============================] - 0s 7ms/step - loss: 2.9492 - MAE: 2.9492 - MAPE: 15.0098 - val_loss: 3.5572 - val_MAE: 3.5572 - val_MAPE: 15.6272\n",
      "Epoch 44/50\n",
      "37/37 [==============================] - 0s 7ms/step - loss: 3.0614 - MAE: 3.0614 - MAPE: 15.6526 - val_loss: 3.3658 - val_MAE: 3.3658 - val_MAPE: 14.6873\n",
      "Epoch 45/50\n",
      "37/37 [==============================] - 0s 7ms/step - loss: 2.6112 - MAE: 2.6112 - MAPE: 12.7811 - val_loss: 2.8560 - val_MAE: 2.8560 - val_MAPE: 13.7109\n",
      "Epoch 46/50\n",
      "37/37 [==============================] - 0s 7ms/step - loss: 2.6437 - MAE: 2.6437 - MAPE: 13.1178 - val_loss: 3.9357 - val_MAE: 3.9357 - val_MAPE: 16.4462\n",
      "Epoch 47/50\n",
      "37/37 [==============================] - 0s 7ms/step - loss: 2.6742 - MAE: 2.6742 - MAPE: 13.2346 - val_loss: 2.9373 - val_MAE: 2.9373 - val_MAPE: 14.1009\n",
      "Epoch 48/50\n",
      "37/37 [==============================] - 0s 7ms/step - loss: 2.4910 - MAE: 2.4910 - MAPE: 12.8002 - val_loss: 2.9291 - val_MAE: 2.9291 - val_MAPE: 13.0341\n",
      "Epoch 49/50\n",
      "37/37 [==============================] - 0s 7ms/step - loss: 2.4547 - MAE: 2.4547 - MAPE: 12.2280 - val_loss: 2.7643 - val_MAE: 2.7643 - val_MAPE: 12.8251\n",
      "Epoch 50/50\n",
      "37/37 [==============================] - 0s 7ms/step - loss: 2.3686 - MAE: 2.3686 - MAPE: 11.4513 - val_loss: 2.6581 - val_MAE: 2.6581 - val_MAPE: 12.7730\n"
     ]
    }
   ],
   "source": [
    "number_epoch = 50\n",
    "\n",
    "\n",
    "modelfitprogress2 = model.fit(\n",
    "                              train_iter,\n",
    "                              validation_data = valid_iter,\n",
    "                              epochs = number_epoch,\n",
    "                              steps_per_epoch = df_train.shape[0]//train_iter.batch_size,\n",
    "                              validation_steps = df_val.shape[0]//valid_iter.batch_size,\n",
    "                              #callbacks = [reduce_lr, early_stop, checkpoint]\n",
    "                              )"
   ]
  },
  {
   "cell_type": "markdown",
   "metadata": {
    "id": "9R2jytfijpEp"
   },
   "source": [
    "<a id=\"section53\"></a>\n",
    "# <font color=\"#004D7F\" size=5> 5.3. Results</font>"
   ]
  },
  {
   "cell_type": "markdown",
   "metadata": {
    "id": "a-1vHY9rjpEq"
   },
   "source": [
    "Finally, we can evaluate our CNN with the images created by TINTO in any of the ways represented below."
   ]
  },
  {
   "cell_type": "code",
   "execution_count": 66,
   "metadata": {},
   "outputs": [
    {
     "data": {
      "image/png": "[encoded data removed]",
      "text/plain": [
       "<Figure size 640x480 with 1 Axes>"
      ]
     },
     "metadata": {},
     "output_type": "display_data"
    }
   ],
   "source": [
    "import seaborn as sns\n",
    "\n",
    "# create a dictionary for each model history and loss type\n",
    "dict1 = {\n",
    "    \"MAPE\": modelfitprogress2.history[\"MAPE\"],\n",
    "\n",
    "}\n",
    "dict2 = {\n",
    "    \"MAPE\": modelfitprogress2.history[\"val_MAPE\"],\n",
    "\n",
    "}\n",
    "\n",
    "\n",
    "s1 = pd.DataFrame(dict1)\n",
    "s2 = pd.DataFrame(dict2)\n",
    "\n",
    "fig, ax = plt.subplots()\n",
    "\n",
    "sns.lineplot(x=range(len(s1[\"MAPE\"])), y=s1[\"MAPE\"], ax=ax, label='train')\n",
    "sns.lineplot(x=range(len(s2[\"MAPE\"])), y= s2[\"MAPE\"], ax=ax, label='validation')\n",
    "\n",
    "\n",
    "\n",
    "ax.set_xlabel('Epoch')\n",
    "ax.set_ylabel('MAPE')\n",
    "\n",
    "ax.set_ylim(0,100)\n",
    "\n",
    "#Mean baseline\n",
    "ax.axhline(y=mean_baseline, linestyle='dotted', color='red', label = 'mean_baseline')\n",
    "\n",
    "ax.legend()\n",
    "plt.savefig(\"training_validation.png\")\n",
    "plt.show()\n",
    "\n",
    "#https://rosenfelder.ai/keras-regression-efficient-net/"
   ]
  },
  {
   "cell_type": "markdown",
   "metadata": {},
   "source": [
    "TESTING METRICS"
   ]
  },
  {
   "cell_type": "code",
   "execution_count": 77,
   "metadata": {
    "execution": {
     "iopub.execute_input": "2022-11-14T19:28:47.400381Z",
     "iopub.status.busy": "2022-11-14T19:28:47.399970Z",
     "iopub.status.idle": "2022-11-14T19:29:08.162682Z",
     "shell.execute_reply": "2022-11-14T19:29:08.161738Z",
     "shell.execute_reply.started": "2022-11-14T19:28:47.400345Z"
    },
    "id": "jL-kTfejpjGQ"
   },
   "outputs": [
    {
     "name": "stdout",
     "output_type": "stream",
     "text": [
      "13/13 [==============================] - 0s 4ms/step\n"
     ]
    }
   ],
   "source": [
    "prediction = model.predict(test_iter, steps = np.math.ceil(test_iter.samples/test_iter.batch_size))\n",
    "real_values= df_test[\"values\"].values"
   ]
  },
  {
   "cell_type": "code",
   "execution_count": 84,
   "metadata": {},
   "outputs": [
    {
     "name": "stdout",
     "output_type": "stream",
     "text": [
      "Mean Absolute Percentage Error: 0.512841002645782\n",
      "Mean Absolute Error: 9.820836467368931\n",
      "Mean Squared Error: 160.66480409648116\n",
      "Root Mean Squared Error: 12.675362089363805\n",
      "R2 Score: -1.048925082326294\n"
     ]
    }
   ],
   "source": [
    "mape = mean_absolute_percentage_error(real_values, prediction)\n",
    "mae = mean_absolute_error(real_values, prediction)\n",
    "mse = mean_squared_error(real_values, prediction)\n",
    "rmse = mean_squared_error(real_values, prediction, squared=False)\n",
    "r2 = r2_score(real_values, prediction)\n",
    "\n",
    "# Print the evaluation metrics\n",
    "print(\"Mean Absolute Percentage Error:\", mape)\n",
    "print(\"Mean Absolute Error:\", mae)\n",
    "print(\"Mean Squared Error:\", mse)\n",
    "print(\"Root Mean Squared Error:\", rmse)\n",
    "print(\"R2 Score:\", r2)"
   ]
  },
  {
   "cell_type": "markdown",
   "metadata": {
    "id": "0ciBS76mpjGU"
   },
   "source": [
    "<div style=\"text-align: right\"> <font size=5> <a href=\"#indice\"><i class=\"fa fa-arrow-circle-up\" aria-hidden=\"true\" style=\"color:#004D7F\"></i></a></font></div>\n",
    "\n",
    "---\n",
    "\n",
    "<div style=\"text-align: right\"> <font size=6><i class=\"fa fa-coffee\" aria-hidden=\"true\" style=\"color:#004D7F\"></i> </font></div>"
   ]
  }
 ],
 "metadata": {
  "colab": {
   "provenance": [
    {
     "file_id": "1plFq1CpEXIdc9LankaLPiOObRg0_y5l2",
     "timestamp": 1684250343977
    }
   ]
  },
  "kernelspec": {
   "display_name": "Python 3 (ipykernel)",
   "language": "python",
   "name": "python3"
  },
  "language_info": {
   "codemirror_mode": {
    "name": "ipython",
    "version": 3
   },
   "file_extension": ".py",
   "mimetype": "text/x-python",
   "name": "python",
   "nbconvert_exporter": "python",
   "pygments_lexer": "ipython3",
   "version": "3.10.9"
  }
 },
 "nbformat": 4,
 "nbformat_minor": 1
}
