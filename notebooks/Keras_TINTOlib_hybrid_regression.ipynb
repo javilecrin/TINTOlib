{
 "cells": [
  {
   "cell_type": "markdown",
   "metadata": {
    "id": "EybOZ6hSjpCF"
   },
   "source": [
    "<h1><font color=\"#113D68\" size=5>TINTOlib: Converting Tidy Data into Image for Classification with 2-Dimensional Convolutional Neural Networks</font></h1>\n",
    "\n",
    "\n",
    "\n",
    "<h1><font color=\"#113D68\" size=6>How to read TINTO images</font></h1>\n",
    "\n",
    "<br><br>\n",
    "<div style=\"text-align: right\">\n",
    "<font color=\"#113D68\" size=3>Manuel Castillo-Cara</font><br>\n",
    "<font color=\"#113D68\" size=3>Raúl García-Castro</font><br>\n",
    "<font color=\"#113D68\" size=3>Luis Orozco-Barbosa</font><br>\n",
    "</div>"
   ]
  },
  {
   "cell_type": "markdown",
   "metadata": {
    "id": "2l5nFzsdjpCW"
   },
   "source": [
    "---\n",
    "\n",
    "<a id=\"indice\"></a>\n",
    "<h2><font color=\"#004D7F\" size=5>Index</font></h2>\n",
    "\n",
    "* [0. Context](#section0)\n",
    "* [1. Description](#section1)\n",
    "    * [1.1. Main Features](#section12)\n",
    "    * [1.2. Citation](#section12)\n",
    "* [2. Libraries](#section2)\n",
    "* [3. Data processing](#section3)\n",
    "    * [3.1. Read images](#section31)\n",
    "    * [3.2. Data Curation](#section32)\n",
    "* [4. Pre-modelling phase](#section4)\n",
    "    * [4.1. Resize images](#section41)\n",
    "    * [4.2. Iteradores](#section42)\n",
    "* [5. Modelling with CNN](#section5)\n",
    "    * [5.1. CNN](#section51)\n",
    "    * [5.2. Compile and fit](#section52)\n",
    "    * [5.3. Results](#section53)"
   ]
  },
  {
   "cell_type": "markdown",
   "metadata": {
    "id": "SxTpMExHjpCa"
   },
   "source": [
    "---\n",
    "<a id=\"section0\"></a>\n",
    "# <font color=\"#004D7F\" size=6> 0. Context</font>"
   ]
  },
  {
   "cell_type": "markdown",
   "metadata": {
    "id": "JlVYt3MRrl_V"
   },
   "source": [
    "This is a tutorial on how to read the images created by TINTO and pass them to a very simple pretrained Convolutional Neural Network (CNN). The images must already be created by the TINTO software. See the documentation in GITHUB for how to create the images from tabular data.\n",
    "\n",
    "Remember that when using CNN you can set the training to be done with GPUs to improve performance."
   ]
  },
  {
   "cell_type": "markdown",
   "metadata": {
    "id": "WaA-_OjsjpCe"
   },
   "source": [
    "<div class=\"alert alert-block alert-info\">\n",
    "    \n",
    "<i class=\"fa fa-info-circle\" aria-hidden=\"true\"></i>\n",
    "See the paper from [Information Fusion Journal](https://doi.org/10.1016/j.inffus.2022.10.011)"
   ]
  },
  {
   "cell_type": "markdown",
   "metadata": {
    "id": "28TFDkl5jpCi"
   },
   "source": [
    "<div class=\"alert alert-block alert-info\">\n",
    "    \n",
    "<i class=\"fa fa-info-circle\" aria-hidden=\"true\"></i>\n",
    "See the paper from [SoftwareX](https://doi.org/10.1016/j.softx.2023.101391)"
   ]
  },
  {
   "cell_type": "markdown",
   "metadata": {
    "id": "i3tgsO0BjpCj"
   },
   "source": [
    "<div class=\"alert alert-block alert-info\">\n",
    "    \n",
    "<i class=\"fa fa-info-circle\" aria-hidden=\"true\"></i>\n",
    "You can see all information about TINTO in [GitHub](https://github.com/oeg-upm/TINTO)"
   ]
  },
  {
   "cell_type": "markdown",
   "metadata": {
    "id": "4RKBgDwzjpCl"
   },
   "source": [
    "---\n",
    "<div style=\"text-align: right\"> <font size=5> <a href=\"#indice\"><i class=\"fa fa-arrow-circle-up\" aria-hidden=\"true\" style=\"color:#004D7F\"></i></a></font></div>\n",
    "\n",
    "---"
   ]
  },
  {
   "cell_type": "markdown",
   "metadata": {
    "id": "kpU7pi6yjpCn"
   },
   "source": [
    "<a id=\"section1\"></a>\n",
    "# <font color=\"#004D7F\" size=6> 1. Description</font>"
   ]
  },
  {
   "cell_type": "markdown",
   "metadata": {
    "id": "NL9RoFkEjpCq"
   },
   "source": [
    "The growing interest in the use of algorithms-based machine learning for predictive tasks has generated a large and diverse development of algorithms. However, it is widely known that not all of these algorithms are adapted to efficient solutions in certain tidy data format datasets. For this reason, novel techniques are currently being developed to convert tidy data into images with the aim of using Convolutional Neural Networks (CNNs). TINTO offers the opportunity to convert tidy data into images through the representation of characteristic pixels by implementing two dimensional reduction algorithms: PCA and _t_-SNE. Our proposal also includes a blurring technique, which adds more ordered information to the image and can improve the classification task in CNNs."
   ]
  },
  {
   "cell_type": "markdown",
   "metadata": {
    "id": "HFrF4C89jpCt"
   },
   "source": [
    "---\n",
    "<a id=\"section11\"></a>\n",
    "# <font color=\"#004D7F\" size=5> 1.1. Main Features</font>"
   ]
  },
  {
   "cell_type": "markdown",
   "metadata": {
    "id": "1gruE0_sjpCu"
   },
   "source": [
    "- Supports all CSV data in **[Tidy Data](https://www.jstatsoft.org/article/view/v059i10)** format.\n",
    "- For now, the algorithm converts tabular data for binary and multi-class classification problems into machine learning.\n",
    "- Input data formats:\n",
    "    - **Tabular files**: The input data must be in **[CSV](https://en.wikipedia.org/wiki/Comma-separated_values)**, taking into account the **[Tidy Data](https://www.jstatsoft.org/article/view/v059i10)** format.\n",
    "    - **Tidy Data**: The **target** (variable to be predicted) should be set as the last column of the dataset. Therefore, the first columns will be the features.\n",
    "    - All data must be in numerical form. TINTO does not accept data in string or any other non-numeric format.\n",
    "- Two dimensionality reduction algorithms are used in image creation, **[PCA](https://scikit-learn.org/stable/modules/generated/sklearn.decomposition.PCA.html#sklearn.decomposition.PCA)** and **[*t*-SNE](https://scikit-learn.org/stable/modules/generated/sklearn.manifold.TSNE.html)** from the Scikit-learn Python library.\n",
    "- The synthetic images to be created will be in black and white, i.e. in 1 channel.\n",
    "- The synthetic image **dimensions** can be set as a parameter when creating them.\n",
    "- The synthetic images can be created using **characteristic pixels** or **blurring** painting technique (expressing an overlap of pixels as the **maximum** or **average**).\n",
    "- Runs on **Linux**, **Windows** and **macOS** systems.\n",
    "- Compatible with **[Python](https://www.python.org/)** 3.7 or higher."
   ]
  },
  {
   "cell_type": "markdown",
   "metadata": {
    "id": "Z3EzYcjJjpC6"
   },
   "source": [
    "---\n",
    "<div style=\"text-align: right\"> <font size=5> <a href=\"#indice\"><i class=\"fa fa-arrow-circle-up\" aria-hidden=\"true\" style=\"color:#004D7F\"></i></a></font></div>\n",
    "\n",
    "---"
   ]
  },
  {
   "cell_type": "markdown",
   "metadata": {
    "id": "qwYF5A2njpC8"
   },
   "source": [
    "<a id=\"section2\"></a>\n",
    "# <font color=\"#004D7F\" size=6> 2. Libraries</font>"
   ]
  },
  {
   "cell_type": "markdown",
   "metadata": {
    "id": "5AdHKnWYsEq_"
   },
   "source": [
    "The first thing we need to do is to declare the libraries"
   ]
  },
  {
   "cell_type": "code",
   "execution_count": 166,
   "metadata": {
    "id": "PeeBbGxlpjFp",
    "tags": []
   },
   "outputs": [],
   "source": [
    "import os\n",
    "import pandas as pd\n",
    "import numpy as np\n",
    "from tqdm import tqdm\n",
    "#import cv2\n",
    "import gc\n",
    "import matplotlib.pyplot as plt\n",
    "#import openslide\n",
    "#from openslide.deepzoom import DeepZoomGenerator\n",
    "import tifffile as tifi\n",
    "import sklearn\n",
    "import tensorflow as tf\n",
    "import seaborn as sns\n",
    "from PIL import Image\n",
    "\n",
    "\n",
    "from sklearn.metrics import mean_absolute_error, mean_squared_error, r2_score,mean_absolute_percentage_error\n",
    "\n",
    "from keras_preprocessing.image import ImageDataGenerator\n",
    "from tensorflow.keras.models import load_model\n",
    "\n",
    "from sklearn.model_selection import train_test_split\n",
    "from tensorflow.keras.applications import vgg16, vgg19, resnet50, mobilenet, inception_resnet_v2, densenet, inception_v3, xception, nasnet, ResNet152V2\n",
    "from tensorflow.keras.models import Sequential, Model, load_model\n",
    "from tensorflow.keras.layers import Dense, Conv2D, MaxPool2D, Flatten, Dropout, BatchNormalization, InputLayer, LayerNormalization\n",
    "from tensorflow.keras.callbacks import ModelCheckpoint, ReduceLROnPlateau, EarlyStopping\n",
    "from tensorflow.keras.optimizers import SGD, Adam, Adadelta, Adamax\n",
    "from tensorflow.keras import layers, models, Model\n",
    "from tensorflow.keras.losses import MeanAbsoluteError, MeanAbsolutePercentageError\n",
    "from tensorflow.keras.layers import Input, Activation,MaxPooling2D, concatenate\n",
    "\n",
    "from torchmetrics import MeanAbsolutePercentageError\n",
    "import torch\n",
    "import torch.nn as nn\n",
    "from torch.utils.data import Dataset, DataLoader, random_split\n",
    "from torchvision import transforms\n",
    "\n",
    "import pytorch_lightning as pl\n",
    "from pytorch_lightning.loggers  import TensorBoardLogger\n",
    "from pytorch_lightning.callbacks.early_stopping import EarlyStopping\n",
    "\n",
    "\n",
    "from imblearn.over_sampling import RandomOverSampler\n",
    "\n",
    "#Models of TINTOlib\n",
    "from TINTOlib.tinto import TINTO\n",
    "from TINTOlib.supertml import SuperTML\n",
    "from TINTOlib.igtd import IGTD\n",
    "from TINTOlib.refined import REFINED\n",
    "from TINTOlib.barGraph import BarGraph\n",
    "from TINTOlib.distanceMatrix import DistanceMatrix\n",
    "from TINTOlib.combination import Combination"
   ]
  },
  {
   "cell_type": "markdown",
   "metadata": {
    "id": "NwS-cKUxjpDQ"
   },
   "source": [
    "---\n",
    "<div style=\"text-align: right\"> <font size=5> <a href=\"#indice\"><i class=\"fa fa-arrow-circle-up\" aria-hidden=\"true\" style=\"color:#004D7F\"></i></a></font></div>\n",
    "\n",
    "---"
   ]
  },
  {
   "cell_type": "markdown",
   "metadata": {
    "id": "aDL4LARWjpDT"
   },
   "source": [
    "<a id=\"section3\"></a>\n",
    "# <font color=\"#004D7F\" size=6> 3. Data processing</font>"
   ]
  },
  {
   "cell_type": "markdown",
   "metadata": {
    "id": "jXcRw78ljpDU"
   },
   "source": [
    "The first thing to do is to read all the images created by TINTO. TINTO creates a folder which contains subfolders corresponding to each target that has the problem. Each image corresponds to a sample of the original dataset."
   ]
  },
  {
   "cell_type": "markdown",
   "metadata": {},
   "source": [
    "<a id=\"section31\"></a>\n",
    "# <font color=\"#004D7F\" size=5> 3.1. Create images with TINTOlib</font>"
   ]
  },
  {
   "cell_type": "code",
   "execution_count": 113,
   "metadata": {},
   "outputs": [],
   "source": [
    "#Select the model and the parameters\n",
    "problem_type = \"regression\"\n",
    "image_model = TINTO(problem= problem_type,pixels=64,blur=True)\n",
    "\n",
    "#Define the dataset path and the folder where the images will be saved\n",
    "dataset_path = \"C:\\\\Users\\\\Borja\\\\PycharmProjects\\\\TINTORERA\\\\Datasets\\\\boston.csv \"\n",
    "images_folder = \"C:\\\\Users\\\\Borja\\\\PycharmProjects\\\\TINTORERA\\\\tintoimagesregression\"\n",
    "\n",
    "\n"
   ]
  },
  {
   "cell_type": "markdown",
   "metadata": {},
   "source": [
    "Normalize dataset"
   ]
  },
  {
   "cell_type": "code",
   "execution_count": 114,
   "metadata": {},
   "outputs": [
    {
     "data": {
      "text/html": [
       "<div>\n",
       "<style scoped>\n",
       "    .dataframe tbody tr th:only-of-type {\n",
       "        vertical-align: middle;\n",
       "    }\n",
       "\n",
       "    .dataframe tbody tr th {\n",
       "        vertical-align: top;\n",
       "    }\n",
       "\n",
       "    .dataframe thead th {\n",
       "        text-align: right;\n",
       "    }\n",
       "</style>\n",
       "<table border=\"1\" class=\"dataframe\">\n",
       "  <thead>\n",
       "    <tr style=\"text-align: right;\">\n",
       "      <th></th>\n",
       "      <th>CRIM</th>\n",
       "      <th>ZN</th>\n",
       "      <th>INDUS</th>\n",
       "      <th>CHAS</th>\n",
       "      <th>NOX</th>\n",
       "      <th>RM</th>\n",
       "      <th>AGE</th>\n",
       "      <th>DIS</th>\n",
       "      <th>RAD</th>\n",
       "      <th>TAX</th>\n",
       "      <th>PTRATIO</th>\n",
       "      <th>B</th>\n",
       "      <th>LSTAT</th>\n",
       "      <th>MEDV</th>\n",
       "    </tr>\n",
       "  </thead>\n",
       "  <tbody>\n",
       "    <tr>\n",
       "      <th>0</th>\n",
       "      <td>0.00632</td>\n",
       "      <td>18.0</td>\n",
       "      <td>2.31</td>\n",
       "      <td>0</td>\n",
       "      <td>0.538</td>\n",
       "      <td>6.575</td>\n",
       "      <td>65.2</td>\n",
       "      <td>4.0900</td>\n",
       "      <td>1</td>\n",
       "      <td>296.0</td>\n",
       "      <td>15.3</td>\n",
       "      <td>396.9</td>\n",
       "      <td>4.98</td>\n",
       "      <td>24.0</td>\n",
       "    </tr>\n",
       "    <tr>\n",
       "      <th>1</th>\n",
       "      <td>0.02731</td>\n",
       "      <td>0.0</td>\n",
       "      <td>7.07</td>\n",
       "      <td>0</td>\n",
       "      <td>0.469</td>\n",
       "      <td>6.421</td>\n",
       "      <td>78.9</td>\n",
       "      <td>4.9671</td>\n",
       "      <td>2</td>\n",
       "      <td>242.0</td>\n",
       "      <td>17.8</td>\n",
       "      <td>396.9</td>\n",
       "      <td>9.14</td>\n",
       "      <td>21.6</td>\n",
       "    </tr>\n",
       "  </tbody>\n",
       "</table>\n",
       "</div>"
      ],
      "text/plain": [
       "      CRIM    ZN  INDUS  CHAS    NOX     RM   AGE     DIS  RAD    TAX  \\\n",
       "0  0.00632  18.0   2.31     0  0.538  6.575  65.2  4.0900    1  296.0   \n",
       "1  0.02731   0.0   7.07     0  0.469  6.421  78.9  4.9671    2  242.0   \n",
       "\n",
       "   PTRATIO      B  LSTAT  MEDV  \n",
       "0     15.3  396.9   4.98  24.0  \n",
       "1     17.8  396.9   9.14  21.6  "
      ]
     },
     "execution_count": 114,
     "metadata": {},
     "output_type": "execute_result"
    }
   ],
   "source": [
    "df = pd.read_csv(dataset_path)\n",
    "df.head(2)"
   ]
  },
  {
   "cell_type": "code",
   "execution_count": 115,
   "metadata": {},
   "outputs": [
    {
     "data": {
      "text/html": [
       "<div>\n",
       "<style scoped>\n",
       "    .dataframe tbody tr th:only-of-type {\n",
       "        vertical-align: middle;\n",
       "    }\n",
       "\n",
       "    .dataframe tbody tr th {\n",
       "        vertical-align: top;\n",
       "    }\n",
       "\n",
       "    .dataframe thead th {\n",
       "        text-align: right;\n",
       "    }\n",
       "</style>\n",
       "<table border=\"1\" class=\"dataframe\">\n",
       "  <thead>\n",
       "    <tr style=\"text-align: right;\">\n",
       "      <th></th>\n",
       "      <th>CRIM</th>\n",
       "      <th>ZN</th>\n",
       "      <th>INDUS</th>\n",
       "      <th>CHAS</th>\n",
       "      <th>NOX</th>\n",
       "      <th>RM</th>\n",
       "      <th>AGE</th>\n",
       "      <th>DIS</th>\n",
       "      <th>RAD</th>\n",
       "      <th>TAX</th>\n",
       "      <th>PTRATIO</th>\n",
       "      <th>B</th>\n",
       "      <th>LSTAT</th>\n",
       "      <th>MEDV</th>\n",
       "    </tr>\n",
       "  </thead>\n",
       "  <tbody>\n",
       "    <tr>\n",
       "      <th>0</th>\n",
       "      <td>0.000000</td>\n",
       "      <td>0.18</td>\n",
       "      <td>0.067815</td>\n",
       "      <td>0.0</td>\n",
       "      <td>0.314815</td>\n",
       "      <td>0.577505</td>\n",
       "      <td>0.641607</td>\n",
       "      <td>0.269203</td>\n",
       "      <td>0.000000</td>\n",
       "      <td>0.208015</td>\n",
       "      <td>0.287234</td>\n",
       "      <td>1.0</td>\n",
       "      <td>0.08968</td>\n",
       "      <td>24.0</td>\n",
       "    </tr>\n",
       "    <tr>\n",
       "      <th>1</th>\n",
       "      <td>0.000236</td>\n",
       "      <td>0.00</td>\n",
       "      <td>0.242302</td>\n",
       "      <td>0.0</td>\n",
       "      <td>0.172840</td>\n",
       "      <td>0.547998</td>\n",
       "      <td>0.782698</td>\n",
       "      <td>0.348962</td>\n",
       "      <td>0.043478</td>\n",
       "      <td>0.104962</td>\n",
       "      <td>0.553191</td>\n",
       "      <td>1.0</td>\n",
       "      <td>0.20447</td>\n",
       "      <td>21.6</td>\n",
       "    </tr>\n",
       "  </tbody>\n",
       "</table>\n",
       "</div>"
      ],
      "text/plain": [
       "       CRIM    ZN     INDUS  CHAS       NOX        RM       AGE       DIS  \\\n",
       "0  0.000000  0.18  0.067815   0.0  0.314815  0.577505  0.641607  0.269203   \n",
       "1  0.000236  0.00  0.242302   0.0  0.172840  0.547998  0.782698  0.348962   \n",
       "\n",
       "        RAD       TAX   PTRATIO    B    LSTAT  MEDV  \n",
       "0  0.000000  0.208015  0.287234  1.0  0.08968  24.0  \n",
       "1  0.043478  0.104962  0.553191  1.0  0.20447  21.6  "
      ]
     },
     "execution_count": 115,
     "metadata": {},
     "output_type": "execute_result"
    }
   ],
   "source": [
    "# Select all the attributes to normalize\n",
    "columns_to_normalize = df.columns[:-1]\n",
    "\n",
    "# Normalize between 0 and 1\n",
    "df_normalized = (df[columns_to_normalize] - df[columns_to_normalize].min()) / (df[columns_to_normalize].max() - df[columns_to_normalize].min())\n",
    "\n",
    "# Combine the attributes and the label\n",
    "df_normalized = pd.concat([df_normalized, df[df.columns[-1]]], axis=1)\n",
    "\n",
    "df_normalized.head(2)\n"
   ]
  },
  {
   "cell_type": "code",
   "execution_count": 116,
   "metadata": {},
   "outputs": [
    {
     "name": "stdout",
     "output_type": "stream",
     "text": [
      "C:\\Users\\Borja\\PycharmProjects\\TINTORERA\\tintoimagesregression\\regression.csv\n"
     ]
    }
   ],
   "source": [
    "#Generate thet images\n",
    "image_model.generateImages(df_normalized, images_folder)\n",
    "\n",
    "img_paths = os.path.join(images_folder,problem_type+\".csv\")\n",
    "\n",
    "\n",
    "\n",
    "print(img_paths)"
   ]
  },
  {
   "cell_type": "markdown",
   "metadata": {
    "id": "klS9PZsUjpDV"
   },
   "source": [
    "<a id=\"section32\"></a>\n",
    "# <font color=\"#004D7F\" size=5> 3.2. Read images</font>"
   ]
  },
  {
   "cell_type": "code",
   "execution_count": 117,
   "metadata": {},
   "outputs": [
    {
     "name": "stdout",
     "output_type": "stream",
     "text": [
      "0      24.0\n",
      "1      21.6\n",
      "2      34.7\n",
      "3      33.4\n",
      "4      36.2\n",
      "       ... \n",
      "501    22.4\n",
      "502    20.6\n",
      "503    23.9\n",
      "504    22.0\n",
      "505    11.9\n",
      "Name: values, Length: 506, dtype: float64\n"
     ]
    }
   ],
   "source": [
    "imgs = pd.read_csv(img_paths)\n",
    "\n",
    "imgs[\"images\"]= images_folder + \"\\\\\" + imgs[\"images\"]\n",
    "\n",
    "combined_dataset = pd.concat([imgs,df_normalized],axis=1)\n",
    "combined_dataset\n",
    "\n",
    "df_x = combined_dataset.drop(\"MEDV\",axis=1).drop(\"values\",axis=1)\n",
    "df_y = combined_dataset[\"values\"]\n",
    "\n",
    "print(df_y)"
   ]
  },
  {
   "cell_type": "markdown",
   "metadata": {
    "id": "_haEKIo7jpD1"
   },
   "source": [
    "---\n",
    "<div style=\"text-align: right\"> <font size=5> <a href=\"#indice\"><i class=\"fa fa-arrow-circle-up\" aria-hidden=\"true\" style=\"color:#004D7F\"></i></a></font></div>\n",
    "\n",
    "---"
   ]
  },
  {
   "cell_type": "markdown",
   "metadata": {
    "id": "uF1lJWbojpD3"
   },
   "source": [
    "<a id=\"section4\"></a>\n",
    "# <font color=\"#004D7F\" size=6> 4. Pre-modelling phase</font>"
   ]
  },
  {
   "cell_type": "code",
   "execution_count": 124,
   "metadata": {},
   "outputs": [
    {
     "name": "stdout",
     "output_type": "stream",
     "text": [
      "(64, 64, 3)\n",
      "13\n",
      "303 303 303\n",
      "101 101 101\n"
     ]
    }
   ],
   "source": [
    "import cv2\n",
    "X_train, X_val, y_train, y_val = train_test_split(df_x, df_y, test_size = 0.40, random_state = 123)\n",
    "X_val, X_test, y_val, y_test = train_test_split(X_val, y_val, test_size = 0.50, random_state = 123)\n",
    "\n",
    "X_train_num = X_train.drop(\"images\",axis=1)\n",
    "X_val_num = X_val.drop(\"images\",axis=1)\n",
    "X_test_num = X_test.drop(\"images\",axis=1)\n",
    "\n",
    "X_train_img = np.array([cv2.imread(img) for img in X_train[\"images\"]])\n",
    "X_val_img = np.array([cv2.imread(img) for img in X_val[\"images\"]])\n",
    "X_test_img = np.array([cv2.imread(img) for img in X_test[\"images\"]])\n",
    "\n",
    "\n",
    "print(X_train_img[0].shape)\n",
    "print(len(X_train_num.columns))\n",
    "\n",
    "print(len(X_train_num),len(y_train),len(X_train_img))\n",
    "print(len(X_val_num),len(y_val),len(X_val_img))"
   ]
  },
  {
   "cell_type": "markdown",
   "metadata": {},
   "source": [
    "<a id=\"section5\"></a>\n",
    "# <font color=\"#004D7F\" size=6> 5. Modeling hybrid network</font>"
   ]
  },
  {
   "cell_type": "code",
   "execution_count": 168,
   "metadata": {},
   "outputs": [],
   "source": [
    "dropout = 0.5"
   ]
  },
  {
   "cell_type": "code",
   "execution_count": 169,
   "metadata": {},
   "outputs": [],
   "source": [
    "filters_ffnn = [64,32,16]\n",
    "\n",
    "ff_inputs = Input(shape = (13,))\n",
    "ff_x = ff_inputs\n",
    "\n",
    "for layer in filters_ffnn:\n",
    "    ff_x = Dense(layer, activation=\"relu\")(ff_x)\n",
    "    ff_x = Activation(\"relu\")(ff_x)\n",
    "    ff_x = BatchNormalization()(ff_x)\n",
    "    ff_x = Dropout(dropout)(ff_x)\n",
    "    \n",
    "ff_model = Model(inputs=ff_inputs, outputs=ff_x)"
   ]
  },
  {
   "cell_type": "code",
   "execution_count": 172,
   "metadata": {},
   "outputs": [],
   "source": [
    "filters_cnn = [64,32,16]\n",
    "        \n",
    "cnn_inputs = Input(shape = (64,64,3))\n",
    "cnn_x= cnn_inputs\n",
    "for layer in filters_cnn:\n",
    "    cnn_x = Conv2D(layer, (3, 3), padding=\"same\")(cnn_x)\n",
    "    cnn_x = Activation(\"relu\")(cnn_x)\n",
    "    cnn_x = BatchNormalization()(cnn_x)\n",
    "    cnn_x = MaxPooling2D(pool_size=(2, 2))(cnn_x)\n",
    "\n",
    "# flatten the volume, then FC => RELU => BN => DROPOUT\n",
    "cnn_x = Flatten()(cnn_x)\n",
    "cnn_x = Dense(16)(cnn_x)\n",
    "cnn_x = Activation(\"relu\")(cnn_x)\n",
    "cnn_x = BatchNormalization()(cnn_x)\n",
    "cnn_x = Dropout(dropout)(cnn_x)\n",
    "\n",
    "# apply another FC layer, this one to match the number of nodes\n",
    "# coming out of the MLP\n",
    "cnn_x = Dense(16)(cnn_x)\n",
    "cnn_x = Activation(\"relu\")(cnn_x)\n",
    "\n",
    "# construct the CNN\n",
    "cnn_model = Model(cnn_inputs, cnn_x)"
   ]
  },
  {
   "cell_type": "code",
   "execution_count": 173,
   "metadata": {},
   "outputs": [],
   "source": [
    "combinedInput = concatenate([ff_model.output, cnn_model.output])\n",
    "x = Dense(32, activation=\"relu\")(combinedInput)\n",
    "x = Dense(1, activation=\"linear\")(x)\n",
    "\n",
    "model = Model(inputs=[ff_model.input, cnn_model.input], outputs=x)"
   ]
  },
  {
   "cell_type": "code",
   "execution_count": 174,
   "metadata": {},
   "outputs": [],
   "source": [
    "METRICS = [\n",
    "    tf.keras.metrics.MeanSquaredError(name = 'mse'),\n",
    "    tf.keras.metrics.MeanAbsoluteError(name = 'mae'),\n",
    "]"
   ]
  },
  {
   "cell_type": "code",
   "execution_count": 175,
   "metadata": {},
   "outputs": [],
   "source": [
    "opt = Adam(learning_rate=1e-3)\n",
    "model.compile(\n",
    "    loss=\"mean_absolute_percentage_error\", \n",
    "    optimizer=opt,\n",
    "    metrics = METRICS\n",
    ")"
   ]
  },
  {
   "cell_type": "code",
   "execution_count": 176,
   "metadata": {},
   "outputs": [],
   "source": [
    "# Define EarlyStopping callback\n",
    "early_stopping = EarlyStopping(monitor='val_loss', patience=50)"
   ]
  },
  {
   "cell_type": "code",
   "execution_count": 178,
   "metadata": {},
   "outputs": [
    {
     "name": "stdout",
     "output_type": "stream",
     "text": [
      "Epoch 1/100\n",
      "38/38 [==============================] - 4s 49ms/step - loss: 91.7007 - mse: 528.3000 - mae: 20.9069 - val_loss: 34.8777 - val_mse: 156.4361 - val_mae: 9.0872\n",
      "Epoch 2/100\n",
      "38/38 [==============================] - 2s 44ms/step - loss: 78.6251 - mse: 442.7474 - mae: 18.5466 - val_loss: 141.7005 - val_mse: 666.1413 - val_mae: 24.2102\n",
      "Epoch 3/100\n",
      "38/38 [==============================] - 2s 43ms/step - loss: 67.0531 - mse: 354.7157 - mae: 16.0482 - val_loss: 327.7643 - val_mse: 3726.6643 - val_mae: 60.2869\n",
      "Epoch 4/100\n",
      "38/38 [==============================] - 2s 43ms/step - loss: 48.9221 - mse: 230.0018 - mae: 11.9190 - val_loss: 610.5790 - val_mse: 13388.6855 - val_mae: 115.3175\n",
      "Epoch 5/100\n",
      "38/38 [==============================] - 2s 42ms/step - loss: 36.4235 - mse: 133.1440 - mae: 8.3263 - val_loss: 1677.6366 - val_mse: 104206.7891 - val_mae: 322.6629\n",
      "Epoch 6/100\n",
      "38/38 [==============================] - 2s 42ms/step - loss: 32.6706 - mse: 91.2627 - mae: 7.2519 - val_loss: 948.7164 - val_mse: 33105.4883 - val_mae: 181.7585\n",
      "Epoch 7/100\n",
      "38/38 [==============================] - 2s 46ms/step - loss: 30.4368 - mse: 93.5224 - mae: 6.8122 - val_loss: 820.0744 - val_mse: 24586.4453 - val_mae: 156.5703\n",
      "Epoch 8/100\n",
      "38/38 [==============================] - 2s 45ms/step - loss: 28.9317 - mse: 75.2999 - mae: 6.2550 - val_loss: 370.1221 - val_mse: 4880.3667 - val_mae: 69.3971\n",
      "Epoch 9/100\n",
      "38/38 [==============================] - 2s 43ms/step - loss: 27.4808 - mse: 72.4837 - mae: 6.1098 - val_loss: 371.6019 - val_mse: 4866.9604 - val_mae: 69.2210\n",
      "Epoch 10/100\n",
      "38/38 [==============================] - 2s 42ms/step - loss: 26.3237 - mse: 70.7948 - mae: 5.8719 - val_loss: 319.4922 - val_mse: 3553.3818 - val_mae: 58.9022\n",
      "Epoch 11/100\n",
      "38/38 [==============================] - 2s 42ms/step - loss: 27.5553 - mse: 73.6957 - mae: 6.1685 - val_loss: 22.5900 - val_mse: 67.8165 - val_mae: 5.2741\n",
      "Epoch 12/100\n",
      "38/38 [==============================] - 2s 43ms/step - loss: 26.0789 - mse: 59.6431 - mae: 5.5946 - val_loss: 462.1562 - val_mse: 7344.4565 - val_mae: 83.3833\n",
      "Epoch 13/100\n",
      "38/38 [==============================] - 2s 43ms/step - loss: 24.5843 - mse: 56.3506 - mae: 5.4382 - val_loss: 424.5635 - val_mse: 6326.5815 - val_mae: 78.4205\n",
      "Epoch 14/100\n",
      "38/38 [==============================] - 2s 44ms/step - loss: 24.7591 - mse: 58.2431 - mae: 5.4035 - val_loss: 895.4627 - val_mse: 28947.6543 - val_mae: 169.5379\n",
      "Epoch 15/100\n",
      "38/38 [==============================] - 2s 45ms/step - loss: 25.8756 - mse: 61.1136 - mae: 5.7324 - val_loss: 127.5853 - val_mse: 996.7430 - val_mae: 19.7044\n",
      "Epoch 16/100\n",
      "38/38 [==============================] - 2s 42ms/step - loss: 24.9010 - mse: 57.6017 - mae: 5.4325 - val_loss: 2674.5217 - val_mse: 270507.3750 - val_mae: 519.9702\n",
      "Epoch 17/100\n",
      "38/38 [==============================] - 2s 43ms/step - loss: 25.5559 - mse: 69.1026 - mae: 5.8515 - val_loss: 1568.8743 - val_mse: 92843.0703 - val_mae: 304.5349\n",
      "Epoch 18/100\n",
      "38/38 [==============================] - 2s 43ms/step - loss: 23.9714 - mse: 61.4084 - mae: 5.2565 - val_loss: 65.2536 - val_mse: 390.5266 - val_mae: 11.5944\n",
      "Epoch 19/100\n",
      "38/38 [==============================] - 2s 43ms/step - loss: 24.3788 - mse: 54.8655 - mae: 5.1975 - val_loss: 17.1356 - val_mse: 54.1398 - val_mae: 4.3584\n",
      "Epoch 20/100\n",
      "38/38 [==============================] - 2s 43ms/step - loss: 25.0000 - mse: 58.9309 - mae: 5.3371 - val_loss: 17.0678 - val_mse: 43.6838 - val_mae: 4.0382\n",
      "Epoch 21/100\n",
      "38/38 [==============================] - 2s 44ms/step - loss: 24.8091 - mse: 57.8324 - mae: 5.3880 - val_loss: 22.0148 - val_mse: 67.4593 - val_mae: 5.1372\n",
      "Epoch 22/100\n",
      "38/38 [==============================] - 2s 42ms/step - loss: 25.3611 - mse: 56.9740 - mae: 5.3147 - val_loss: 18.2014 - val_mse: 51.5268 - val_mae: 4.4059\n",
      "Epoch 23/100\n",
      "38/38 [==============================] - 2s 43ms/step - loss: 24.2089 - mse: 56.2129 - mae: 5.2546 - val_loss: 16.4563 - val_mse: 49.8929 - val_mae: 4.2332\n",
      "Epoch 24/100\n",
      "38/38 [==============================] - 2s 42ms/step - loss: 24.2053 - mse: 52.2623 - mae: 5.2222 - val_loss: 842.9756 - val_mse: 25124.1328 - val_mae: 152.8330\n",
      "Epoch 25/100\n",
      "38/38 [==============================] - 2s 44ms/step - loss: 24.0857 - mse: 59.4811 - mae: 5.2067 - val_loss: 23.3255 - val_mse: 90.3910 - val_mae: 6.1760\n",
      "Epoch 26/100\n",
      "38/38 [==============================] - 2s 45ms/step - loss: 24.2317 - mse: 60.6058 - mae: 5.3774 - val_loss: 691.3843 - val_mse: 16880.6387 - val_mae: 128.3067\n",
      "Epoch 27/100\n",
      "38/38 [==============================] - 2s 45ms/step - loss: 22.1049 - mse: 48.6260 - mae: 4.8563 - val_loss: 28.8702 - val_mse: 112.4698 - val_mae: 7.6784\n",
      "Epoch 28/100\n",
      "38/38 [==============================] - 2s 43ms/step - loss: 23.0136 - mse: 50.7951 - mae: 4.9487 - val_loss: 33.2590 - val_mse: 128.2103 - val_mae: 8.6041\n",
      "Epoch 29/100\n",
      "38/38 [==============================] - 2s 42ms/step - loss: 24.0786 - mse: 64.2260 - mae: 5.5187 - val_loss: 36.5469 - val_mse: 135.2026 - val_mae: 9.1867\n",
      "Epoch 30/100\n",
      "38/38 [==============================] - 2s 41ms/step - loss: 23.5143 - mse: 55.9468 - mae: 5.2795 - val_loss: 30.0906 - val_mse: 108.5780 - val_mae: 7.7117\n",
      "Epoch 31/100\n",
      "38/38 [==============================] - 2s 43ms/step - loss: 24.4879 - mse: 57.2422 - mae: 5.4678 - val_loss: 24.6043 - val_mse: 82.8778 - val_mae: 6.3005\n",
      "Epoch 32/100\n",
      "38/38 [==============================] - 2s 44ms/step - loss: 22.4866 - mse: 55.7235 - mae: 5.0542 - val_loss: 27.3322 - val_mse: 93.5674 - val_mae: 7.1065\n",
      "Epoch 33/100\n",
      "38/38 [==============================] - 2s 43ms/step - loss: 24.2050 - mse: 54.8422 - mae: 5.2625 - val_loss: 40.8283 - val_mse: 148.9515 - val_mae: 10.0411\n",
      "Epoch 34/100\n",
      "38/38 [==============================] - 2s 44ms/step - loss: 22.7963 - mse: 54.2705 - mae: 5.0680 - val_loss: 33.1402 - val_mse: 133.1498 - val_mae: 8.7694\n",
      "Epoch 35/100\n",
      "38/38 [==============================] - 2s 43ms/step - loss: 21.3152 - mse: 49.0170 - mae: 4.7311 - val_loss: 35.4945 - val_mse: 143.2591 - val_mae: 9.2851\n",
      "Epoch 36/100\n",
      "38/38 [==============================] - 2s 42ms/step - loss: 23.1434 - mse: 54.4827 - mae: 4.9930 - val_loss: 19.6566 - val_mse: 65.4473 - val_mae: 5.2418\n",
      "Epoch 37/100\n",
      "38/38 [==============================] - 2s 44ms/step - loss: 21.2486 - mse: 52.0681 - mae: 4.7859 - val_loss: 16.2947 - val_mse: 44.2904 - val_mae: 4.0902\n",
      "Epoch 38/100\n",
      "38/38 [==============================] - 2s 43ms/step - loss: 21.0672 - mse: 48.8402 - mae: 4.7464 - val_loss: 19.4338 - val_mse: 60.5418 - val_mae: 5.1724\n",
      "Epoch 39/100\n",
      "38/38 [==============================] - 2s 43ms/step - loss: 22.0870 - mse: 51.6470 - mae: 4.9987 - val_loss: 21.3827 - val_mse: 68.3302 - val_mae: 5.6131\n",
      "Epoch 40/100\n",
      "38/38 [==============================] - 2s 44ms/step - loss: 21.9386 - mse: 50.1729 - mae: 4.9444 - val_loss: 22.7174 - val_mse: 64.2224 - val_mae: 5.6385\n",
      "Epoch 41/100\n",
      "38/38 [==============================] - 2s 42ms/step - loss: 21.1767 - mse: 49.1876 - mae: 4.7326 - val_loss: 17.8155 - val_mse: 41.9511 - val_mae: 4.2533\n",
      "Epoch 42/100\n",
      "38/38 [==============================] - 2s 42ms/step - loss: 21.1055 - mse: 47.7779 - mae: 4.7460 - val_loss: 21.7558 - val_mse: 57.5848 - val_mae: 5.3203\n",
      "Epoch 43/100\n",
      "38/38 [==============================] - 2s 41ms/step - loss: 23.0443 - mse: 55.5325 - mae: 5.0644 - val_loss: 24.0994 - val_mse: 75.6301 - val_mae: 6.1377\n",
      "Epoch 44/100\n",
      "38/38 [==============================] - 2s 44ms/step - loss: 22.5392 - mse: 47.9899 - mae: 5.0519 - val_loss: 18.4085 - val_mse: 44.1256 - val_mae: 4.3226\n",
      "Epoch 45/100\n",
      "38/38 [==============================] - 2s 45ms/step - loss: 20.2561 - mse: 43.0560 - mae: 4.5268 - val_loss: 636.5228 - val_mse: 14933.5059 - val_mae: 120.7800\n",
      "Epoch 46/100\n",
      "38/38 [==============================] - 2s 44ms/step - loss: 22.4729 - mse: 45.4086 - mae: 4.7986 - val_loss: 30.1237 - val_mse: 79.4520 - val_mae: 5.6725\n",
      "Epoch 47/100\n",
      "38/38 [==============================] - 2s 44ms/step - loss: 21.1426 - mse: 44.2071 - mae: 4.5512 - val_loss: 27.8227 - val_mse: 50.0517 - val_mae: 5.7634\n",
      "Epoch 48/100\n",
      "38/38 [==============================] - 2s 41ms/step - loss: 21.9034 - mse: 48.7120 - mae: 4.6793 - val_loss: 16.3981 - val_mse: 35.5925 - val_mae: 3.8503\n"
     ]
    },
    {
     "name": "stdout",
     "output_type": "stream",
     "text": [
      "Epoch 49/100\n",
      "38/38 [==============================] - 2s 41ms/step - loss: 22.1178 - mse: 59.0318 - mae: 5.0383 - val_loss: 15.6536 - val_mse: 39.4360 - val_mae: 3.9150\n",
      "Epoch 50/100\n",
      "38/38 [==============================] - 2s 43ms/step - loss: 21.9347 - mse: 52.6677 - mae: 4.9118 - val_loss: 24.3006 - val_mse: 43.2504 - val_mae: 5.1930\n",
      "Epoch 51/100\n",
      "38/38 [==============================] - 2s 44ms/step - loss: 21.8175 - mse: 49.5063 - mae: 4.7901 - val_loss: 922.8684 - val_mse: 29846.7305 - val_mae: 163.1944\n",
      "Epoch 52/100\n",
      "38/38 [==============================] - 2s 43ms/step - loss: 21.8803 - mse: 51.9409 - mae: 4.9816 - val_loss: 17.3948 - val_mse: 34.0802 - val_mae: 3.9154\n",
      "Epoch 53/100\n",
      "38/38 [==============================] - 2s 43ms/step - loss: 21.9897 - mse: 52.0781 - mae: 4.9831 - val_loss: 35.8401 - val_mse: 131.8886 - val_mae: 9.0512\n",
      "Epoch 54/100\n",
      "38/38 [==============================] - 2s 42ms/step - loss: 20.9371 - mse: 46.7231 - mae: 4.6579 - val_loss: 33.8035 - val_mse: 115.4250 - val_mae: 8.5525\n",
      "Epoch 55/100\n",
      "38/38 [==============================] - 2s 42ms/step - loss: 22.4015 - mse: 52.7191 - mae: 4.8650 - val_loss: 28.7516 - val_mse: 108.9703 - val_mae: 7.6077\n",
      "Epoch 56/100\n",
      "38/38 [==============================] - 2s 44ms/step - loss: 20.4848 - mse: 43.0332 - mae: 4.4634 - val_loss: 27.4176 - val_mse: 104.5642 - val_mae: 7.1992\n",
      "Epoch 57/100\n",
      "38/38 [==============================] - 2s 44ms/step - loss: 21.1041 - mse: 43.2802 - mae: 4.6035 - val_loss: 35.4641 - val_mse: 121.5855 - val_mae: 8.7092\n",
      "Epoch 58/100\n",
      "38/38 [==============================] - 2s 44ms/step - loss: 22.1874 - mse: 47.1113 - mae: 4.8640 - val_loss: 27.2491 - val_mse: 84.2565 - val_mae: 6.9038\n",
      "Epoch 59/100\n",
      "38/38 [==============================] - 2s 44ms/step - loss: 21.3633 - mse: 48.0693 - mae: 4.8231 - val_loss: 19.4541 - val_mse: 57.4633 - val_mae: 4.9841\n",
      "Epoch 60/100\n",
      "38/38 [==============================] - 2s 42ms/step - loss: 20.9562 - mse: 51.4631 - mae: 4.7857 - val_loss: 25.1595 - val_mse: 88.1010 - val_mae: 6.2070\n",
      "Epoch 61/100\n",
      "38/38 [==============================] - 2s 42ms/step - loss: 22.7411 - mse: 50.1202 - mae: 4.9658 - val_loss: 1984.8181 - val_mse: 139859.3438 - val_mae: 369.9714\n",
      "Epoch 62/100\n",
      "38/38 [==============================] - 2s 41ms/step - loss: 19.9226 - mse: 45.8166 - mae: 4.5720 - val_loss: 446.6808 - val_mse: 8261.1328 - val_mae: 69.7407\n",
      "Epoch 63/100\n",
      "38/38 [==============================] - 2s 44ms/step - loss: 19.5641 - mse: 39.1211 - mae: 4.3192 - val_loss: 23.2518 - val_mse: 40.6003 - val_mae: 4.8748\n",
      "Epoch 64/100\n",
      "38/38 [==============================] - 2s 44ms/step - loss: 20.8766 - mse: 46.9332 - mae: 4.6535 - val_loss: 18.2821 - val_mse: 46.0618 - val_mae: 4.3536\n",
      "Epoch 65/100\n",
      "38/38 [==============================] - 2s 45ms/step - loss: 22.1023 - mse: 57.2729 - mae: 5.0129 - val_loss: 2143.6672 - val_mse: 166856.8906 - val_mae: 407.3677\n",
      "Epoch 66/100\n",
      "38/38 [==============================] - 2s 43ms/step - loss: 21.1428 - mse: 56.9951 - mae: 4.9844 - val_loss: 2619.9968 - val_mse: 253062.3438 - val_mae: 502.5010\n",
      "Epoch 67/100\n",
      "38/38 [==============================] - 2s 44ms/step - loss: 20.9892 - mse: 48.4115 - mae: 4.6070 - val_loss: 748.8835 - val_mse: 19689.7285 - val_mae: 136.9789\n",
      "Epoch 68/100\n",
      "38/38 [==============================] - 2s 42ms/step - loss: 20.8271 - mse: 46.2768 - mae: 4.5951 - val_loss: 15.7131 - val_mse: 40.7049 - val_mae: 3.9477\n",
      "Epoch 69/100\n",
      "38/38 [==============================] - 2s 43ms/step - loss: 21.7926 - mse: 51.5297 - mae: 4.7052 - val_loss: 16.1984 - val_mse: 42.3174 - val_mae: 4.0412\n",
      "Epoch 70/100\n",
      "38/38 [==============================] - 2s 44ms/step - loss: 19.6847 - mse: 45.2050 - mae: 4.5237 - val_loss: 35.4703 - val_mse: 121.6756 - val_mae: 8.7936\n",
      "Epoch 71/100\n",
      "38/38 [==============================] - 2s 43ms/step - loss: 21.3224 - mse: 49.6899 - mae: 4.6498 - val_loss: 31.4095 - val_mse: 111.8300 - val_mae: 8.0101\n",
      "Epoch 72/100\n",
      "38/38 [==============================] - 2s 43ms/step - loss: 21.3692 - mse: 49.4536 - mae: 4.7600 - val_loss: 120.8251 - val_mse: 1994.7267 - val_mae: 16.0925\n",
      "Epoch 73/100\n",
      "38/38 [==============================] - 2s 43ms/step - loss: 20.2216 - mse: 49.7450 - mae: 4.6470 - val_loss: 20.2462 - val_mse: 59.2758 - val_mae: 5.1186\n",
      "Epoch 74/100\n",
      "38/38 [==============================] - 2s 43ms/step - loss: 21.5765 - mse: 53.7942 - mae: 4.9412 - val_loss: 22.5664 - val_mse: 66.8607 - val_mae: 5.7324\n",
      "Epoch 75/100\n",
      "38/38 [==============================] - 2s 44ms/step - loss: 21.1770 - mse: 45.7411 - mae: 4.6130 - val_loss: 19.4146 - val_mse: 62.7822 - val_mae: 5.1893\n",
      "Epoch 76/100\n",
      "38/38 [==============================] - 2s 44ms/step - loss: 18.8142 - mse: 38.8135 - mae: 4.2152 - val_loss: 16.6983 - val_mse: 41.8923 - val_mae: 4.0549\n",
      "Epoch 77/100\n",
      "38/38 [==============================] - 2s 44ms/step - loss: 21.2776 - mse: 51.5054 - mae: 4.7374 - val_loss: 27.5404 - val_mse: 102.5542 - val_mae: 7.2714\n",
      "Epoch 78/100\n",
      "38/38 [==============================] - 2s 42ms/step - loss: 21.0257 - mse: 46.1484 - mae: 4.6840 - val_loss: 18.1309 - val_mse: 48.5014 - val_mae: 4.5773\n",
      "Epoch 79/100\n",
      "38/38 [==============================] - 2s 43ms/step - loss: 19.0016 - mse: 43.8339 - mae: 4.2674 - val_loss: 385.0912 - val_mse: 5435.1479 - val_mae: 67.8065\n",
      "Epoch 80/100\n",
      "38/38 [==============================] - 2s 43ms/step - loss: 20.3718 - mse: 44.2001 - mae: 4.4783 - val_loss: 1029.0551 - val_mse: 38756.8359 - val_mae: 195.3608\n",
      "Epoch 81/100\n",
      "38/38 [==============================] - 2s 42ms/step - loss: 19.1990 - mse: 37.4672 - mae: 4.3124 - val_loss: 970.0625 - val_mse: 33372.5977 - val_mae: 179.4628\n",
      "Epoch 82/100\n",
      "38/38 [==============================] - 2s 44ms/step - loss: 19.9733 - mse: 48.5237 - mae: 4.6104 - val_loss: 836.2620 - val_mse: 25318.3809 - val_mae: 156.2700\n",
      "Epoch 83/100\n",
      "38/38 [==============================] - 2s 44ms/step - loss: 19.8634 - mse: 43.8192 - mae: 4.3367 - val_loss: 15.7534 - val_mse: 39.6898 - val_mae: 3.8586\n",
      "Epoch 84/100\n",
      "38/38 [==============================] - 2s 45ms/step - loss: 19.1188 - mse: 41.6864 - mae: 4.3443 - val_loss: 1201.1393 - val_mse: 52674.2344 - val_mae: 228.1330\n",
      "Epoch 85/100\n",
      "38/38 [==============================] - 2s 43ms/step - loss: 20.5303 - mse: 43.9844 - mae: 4.5109 - val_loss: 27.2310 - val_mse: 106.3736 - val_mae: 7.2897\n",
      "Epoch 86/100\n",
      "38/38 [==============================] - 2s 43ms/step - loss: 20.1175 - mse: 43.7735 - mae: 4.5073 - val_loss: 29.1411 - val_mse: 115.6981 - val_mae: 7.7953\n",
      "Epoch 87/100\n",
      "38/38 [==============================] - 2s 43ms/step - loss: 21.6355 - mse: 47.6973 - mae: 4.7859 - val_loss: 23.3715 - val_mse: 78.3587 - val_mae: 6.2062\n",
      "Epoch 88/100\n",
      "38/38 [==============================] - 2s 44ms/step - loss: 20.0653 - mse: 46.0368 - mae: 4.4959 - val_loss: 175.4848 - val_mse: 1435.4746 - val_mae: 29.3176\n",
      "Epoch 89/100\n",
      "38/38 [==============================] - 2s 42ms/step - loss: 21.0268 - mse: 48.1888 - mae: 4.5915 - val_loss: 19.0396 - val_mse: 60.4378 - val_mae: 5.0530\n",
      "Epoch 90/100\n",
      "38/38 [==============================] - 2s 45ms/step - loss: 22.1184 - mse: 46.8863 - mae: 4.6588 - val_loss: 14.8676 - val_mse: 36.9548 - val_mae: 3.7615\n",
      "Epoch 91/100\n",
      "38/38 [==============================] - 2s 42ms/step - loss: 20.0247 - mse: 42.1015 - mae: 4.2982 - val_loss: 2716.8337 - val_mse: 275240.0625 - val_mae: 524.0140\n",
      "Epoch 92/100\n",
      "38/38 [==============================] - 2s 42ms/step - loss: 19.1010 - mse: 42.5098 - mae: 4.3262 - val_loss: 19.2280 - val_mse: 41.5783 - val_mae: 4.4103\n",
      "Epoch 93/100\n",
      "38/38 [==============================] - 2s 42ms/step - loss: 19.2274 - mse: 43.0715 - mae: 4.3373 - val_loss: 23.5302 - val_mse: 67.2702 - val_mae: 5.8121\n",
      "Epoch 94/100\n",
      "38/38 [==============================] - 2s 46ms/step - loss: 18.5334 - mse: 35.1323 - mae: 4.0310 - val_loss: 22.0674 - val_mse: 63.3421 - val_mae: 5.5165\n",
      "Epoch 95/100\n",
      "38/38 [==============================] - 2s 45ms/step - loss: 19.5090 - mse: 44.2030 - mae: 4.3575 - val_loss: 25.0402 - val_mse: 90.5716 - val_mae: 6.6349\n",
      "Epoch 96/100\n",
      "38/38 [==============================] - 2s 46ms/step - loss: 19.9348 - mse: 50.9351 - mae: 4.5958 - val_loss: 21.4637 - val_mse: 70.9785 - val_mae: 5.7259\n"
     ]
    },
    {
     "name": "stdout",
     "output_type": "stream",
     "text": [
      "Epoch 97/100\n",
      "38/38 [==============================] - 2s 41ms/step - loss: 20.1839 - mse: 44.9330 - mae: 4.4083 - val_loss: 27.5350 - val_mse: 75.7318 - val_mae: 5.5251\n",
      "Epoch 98/100\n",
      "38/38 [==============================] - 2s 43ms/step - loss: 19.4099 - mse: 44.7647 - mae: 4.4128 - val_loss: 19.5826 - val_mse: 64.9500 - val_mae: 5.1684\n",
      "Epoch 99/100\n",
      "38/38 [==============================] - 2s 42ms/step - loss: 21.5101 - mse: 49.1938 - mae: 4.7893 - val_loss: 17.3451 - val_mse: 49.7326 - val_mae: 4.4465\n",
      "Epoch 100/100\n",
      "38/38 [==============================] - 2s 43ms/step - loss: 19.0289 - mse: 41.7557 - mae: 4.2929 - val_loss: 16.0026 - val_mse: 39.2961 - val_mae: 3.9129\n"
     ]
    }
   ],
   "source": [
    "model_history=model.fit(\n",
    "    x=[X_train_num, X_train_img], y=y_train,\n",
    "    validation_data=([X_val_num, X_val_img], y_val),\n",
    "    epochs=100 , \n",
    "    batch_size=8,\n",
    "    #steps_per_epoch = X_train_num.shape[0]//batch_size,\n",
    "    #validation_steps = X_train_num.shape[0]//batch_size,\n",
    "    #callbacks=[early_stopping]\n",
    ")"
   ]
  },
  {
   "cell_type": "code",
   "execution_count": 182,
   "metadata": {},
   "outputs": [
    {
     "name": "stdout",
     "output_type": "stream",
     "text": [
      "dict_keys(['loss', 'mse', 'mae', 'val_loss', 'val_mse', 'val_mae'])\n"
     ]
    }
   ],
   "source": [
    "print(model_history.history.keys())"
   ]
  },
  {
   "cell_type": "markdown",
   "metadata": {},
   "source": [
    "<a id=\"section6\"></a>\n",
    "# <font color=\"#004D7F\" size=6> 6. Results</font>"
   ]
  },
  {
   "cell_type": "code",
   "execution_count": 181,
   "metadata": {},
   "outputs": [
    {
     "data": {
      "image/png": "[encoded data removed]",
      "text/plain": [
       "<Figure size 640x480 with 1 Axes>"
      ]
     },
     "metadata": {},
     "output_type": "display_data"
    }
   ],
   "source": [
    "plt.plot(model_history.history['loss'], color = 'red', label = 'loss')\n",
    "plt.plot(model_history.history['val_loss'], color = 'green', label = 'val loss')\n",
    "plt.legend(loc = 'upper right')\n",
    "plt.show()"
   ]
  },
  {
   "cell_type": "code",
   "execution_count": 185,
   "metadata": {},
   "outputs": [
    {
     "data": {
      "image/png": "[encoded data removed]",
      "text/plain": [
       "<Figure size 640x480 with 1 Axes>"
      ]
     },
     "metadata": {},
     "output_type": "display_data"
    }
   ],
   "source": [
    "plt.plot(model_history.history['mse'], color = 'red', label = 'mse')\n",
    "plt.plot(model_history.history['val_mse'], color = 'green', label = 'val mse')\n",
    "plt.legend(loc = 'upper right')\n",
    "plt.show()"
   ]
  },
  {
   "cell_type": "code",
   "execution_count": 186,
   "metadata": {},
   "outputs": [
    {
     "data": {
      "image/png": "[encoded data removed]",
      "text/plain": [
       "<Figure size 640x480 with 1 Axes>"
      ]
     },
     "metadata": {},
     "output_type": "display_data"
    }
   ],
   "source": [
    "plt.plot(model_history.history['mae'], color = 'red', label = 'mae')\n",
    "plt.plot(model_history.history['val_mae'], color = 'green', label = 'val mae')\n",
    "plt.legend(loc = 'upper right')\n",
    "plt.show()"
   ]
  },
  {
   "cell_type": "code",
   "execution_count": 187,
   "metadata": {},
   "outputs": [
    {
     "name": "stdout",
     "output_type": "stream",
     "text": [
      "4/4 [==============================] - 0s 21ms/step\n",
      "Mean Absolute Percentage Error: 0.16339477314565906\n",
      "Mean Absolute Error: 3.6962418743208345\n",
      "Mean Squared Error: 28.844506480370704\n",
      "Root Mean Squared Error: 5.370708191697879\n",
      "R2 Score: 0.6321519629186212\n"
     ]
    }
   ],
   "source": [
    "prediction = model.predict([X_test_num,X_test_img])\n",
    "\n",
    "mape = mean_absolute_percentage_error(y_test, prediction)\n",
    "mae = mean_absolute_error(y_test, prediction)\n",
    "mse = mean_squared_error(y_test, prediction)\n",
    "rmse = mean_squared_error(y_test, prediction, squared=False)\n",
    "r2 = r2_score(y_test, prediction)\n",
    "\n",
    "# Print the evaluation metrics\n",
    "print(\"Mean Absolute Percentage Error:\", mape)\n",
    "print(\"Mean Absolute Error:\", mae)\n",
    "print(\"Mean Squared Error:\", mse)\n",
    "print(\"Root Mean Squared Error:\", rmse)\n",
    "print(\"R2 Score:\", r2)\n"
   ]
  },
  {
   "cell_type": "markdown",
   "metadata": {
    "id": "0ciBS76mpjGU"
   },
   "source": [
    "<div style=\"text-align: right\"> <font size=5> <a href=\"#indice\"><i class=\"fa fa-arrow-circle-up\" aria-hidden=\"true\" style=\"color:#004D7F\"></i></a></font></div>\n",
    "\n",
    "---\n",
    "\n",
    "<div style=\"text-align: right\"> <font size=6><i class=\"fa fa-coffee\" aria-hidden=\"true\" style=\"color:#004D7F\"></i> </font></div>"
   ]
  },
  {
   "cell_type": "code",
   "execution_count": null,
   "metadata": {},
   "outputs": [],
   "source": []
  },
  {
   "cell_type": "code",
   "execution_count": null,
   "metadata": {},
   "outputs": [],
   "source": []
  },
  {
   "cell_type": "code",
   "execution_count": null,
   "metadata": {},
   "outputs": [],
   "source": []
  }
 ],
 "metadata": {
  "colab": {
   "provenance": [
    {
     "file_id": "1plFq1CpEXIdc9LankaLPiOObRg0_y5l2",
     "timestamp": 1684250343977
    }
   ]
  },
  "kernelspec": {
   "display_name": "Python 3 (ipykernel)",
   "language": "python",
   "name": "python3"
  },
  "language_info": {
   "codemirror_mode": {
    "name": "ipython",
    "version": 3
   },
   "file_extension": ".py",
   "mimetype": "text/x-python",
   "name": "python",
   "nbconvert_exporter": "python",
   "pygments_lexer": "ipython3",
   "version": "3.10.9"
  }
 },
 "nbformat": 4,
 "nbformat_minor": 1
}
