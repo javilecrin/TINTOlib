{
 "cells": [
  {
   "cell_type": "markdown",
   "metadata": {
    "id": "EybOZ6hSjpCF"
   },
   "source": [
    "<h1><font color=\"#113D68\" size=5>TINTOlib: Converting Tidy Data into Image for Classification with 2-Dimensional Convolutional Neural Networks</font></h1>\n",
    "\n",
    "\n",
    "\n",
    "<h1><font color=\"#113D68\" size=6>How to read TINTO images</font></h1>\n",
    "\n",
    "<br><br>\n",
    "<div style=\"text-align: right\">\n",
    "<font color=\"#113D68\" size=3>Manuel Castillo-Cara</font><br>\n",
    "<font color=\"#113D68\" size=3>Raúl García-Castro</font><br>\n",
    "<font color=\"#113D68\" size=3>Luis Orozco-Barbosa</font><br>\n",
    "</div>"
   ]
  },
  {
   "cell_type": "markdown",
   "metadata": {
    "id": "2l5nFzsdjpCW"
   },
   "source": [
    "---\n",
    "\n",
    "<a id=\"indice\"></a>\n",
    "<h2><font color=\"#004D7F\" size=5>Index</font></h2>\n",
    "\n",
    "* [0. Context](#section0)\n",
    "* [1. Description](#section1)\n",
    "    * [1.1. Main Features](#section12)\n",
    "    * [1.2. Citation](#section12)\n",
    "* [2. Libraries](#section2)\n",
    "* [3. Data processing](#section3)\n",
    "    * [3.1. Read images](#section31)\n",
    "    * [3.2. Data Curation](#section32)\n",
    "* [4. Pre-modelling phase](#section4)\n",
    "    * [4.1. Resize images](#section41)\n",
    "    * [4.2. Iteradores](#section42)\n",
    "* [5. Modelling with CNN](#section5)\n",
    "    * [5.1. CNN](#section51)\n",
    "    * [5.2. Compile and fit](#section52)\n",
    "    * [5.3. Results](#section53)"
   ]
  },
  {
   "cell_type": "markdown",
   "metadata": {
    "id": "SxTpMExHjpCa"
   },
   "source": [
    "---\n",
    "<a id=\"section0\"></a>\n",
    "# <font color=\"#004D7F\" size=6> 0. Context</font>"
   ]
  },
  {
   "cell_type": "markdown",
   "metadata": {
    "id": "JlVYt3MRrl_V"
   },
   "source": [
    "This is a tutorial on how to read the images created by TINTO and pass them to a very simple pretrained Convolutional Neural Network (CNN). The images must already be created by the TINTO software. See the documentation in GITHUB for how to create the images from tabular data.\n",
    "\n",
    "Remember that when using CNN you can set the training to be done with GPUs to improve performance."
   ]
  },
  {
   "cell_type": "markdown",
   "metadata": {
    "id": "WaA-_OjsjpCe"
   },
   "source": [
    "<div class=\"alert alert-block alert-info\">\n",
    "    \n",
    "<i class=\"fa fa-info-circle\" aria-hidden=\"true\"></i>\n",
    "See the paper from [Information Fusion Journal](https://doi.org/10.1016/j.inffus.2022.10.011)"
   ]
  },
  {
   "cell_type": "markdown",
   "metadata": {
    "id": "28TFDkl5jpCi"
   },
   "source": [
    "<div class=\"alert alert-block alert-info\">\n",
    "    \n",
    "<i class=\"fa fa-info-circle\" aria-hidden=\"true\"></i>\n",
    "See the paper from [SoftwareX](https://doi.org/10.1016/j.softx.2023.101391)"
   ]
  },
  {
   "cell_type": "markdown",
   "metadata": {
    "id": "i3tgsO0BjpCj"
   },
   "source": [
    "<div class=\"alert alert-block alert-info\">\n",
    "    \n",
    "<i class=\"fa fa-info-circle\" aria-hidden=\"true\"></i>\n",
    "You can see all information about TINTO in [GitHub](https://github.com/oeg-upm/TINTO)"
   ]
  },
  {
   "cell_type": "markdown",
   "metadata": {
    "id": "4RKBgDwzjpCl"
   },
   "source": [
    "---\n",
    "<div style=\"text-align: right\"> <font size=5> <a href=\"#indice\"><i class=\"fa fa-arrow-circle-up\" aria-hidden=\"true\" style=\"color:#004D7F\"></i></a></font></div>\n",
    "\n",
    "---"
   ]
  },
  {
   "cell_type": "markdown",
   "metadata": {
    "id": "kpU7pi6yjpCn"
   },
   "source": [
    "<a id=\"section1\"></a>\n",
    "# <font color=\"#004D7F\" size=6> 1. Description</font>"
   ]
  },
  {
   "cell_type": "markdown",
   "metadata": {
    "id": "NL9RoFkEjpCq"
   },
   "source": [
    "The growing interest in the use of algorithms-based machine learning for predictive tasks has generated a large and diverse development of algorithms. However, it is widely known that not all of these algorithms are adapted to efficient solutions in certain tidy data format datasets. For this reason, novel techniques are currently being developed to convert tidy data into images with the aim of using Convolutional Neural Networks (CNNs). TINTO offers the opportunity to convert tidy data into images through the representation of characteristic pixels by implementing two dimensional reduction algorithms: PCA and _t_-SNE. Our proposal also includes a blurring technique, which adds more ordered information to the image and can improve the classification task in CNNs."
   ]
  },
  {
   "cell_type": "markdown",
   "metadata": {
    "id": "HFrF4C89jpCt"
   },
   "source": [
    "---\n",
    "<a id=\"section11\"></a>\n",
    "# <font color=\"#004D7F\" size=5> 1.1. Main Features</font>"
   ]
  },
  {
   "cell_type": "markdown",
   "metadata": {
    "id": "1gruE0_sjpCu"
   },
   "source": [
    "- Supports all CSV data in **[Tidy Data](https://www.jstatsoft.org/article/view/v059i10)** format.\n",
    "- For now, the algorithm converts tabular data for binary and multi-class classification problems into machine learning.\n",
    "- Input data formats:\n",
    "    - **Tabular files**: The input data must be in **[CSV](https://en.wikipedia.org/wiki/Comma-separated_values)**, taking into account the **[Tidy Data](https://www.jstatsoft.org/article/view/v059i10)** format.\n",
    "    - **Tidy Data**: The **target** (variable to be predicted) should be set as the last column of the dataset. Therefore, the first columns will be the features.\n",
    "    - All data must be in numerical form. TINTO does not accept data in string or any other non-numeric format.\n",
    "- Two dimensionality reduction algorithms are used in image creation, **[PCA](https://scikit-learn.org/stable/modules/generated/sklearn.decomposition.PCA.html#sklearn.decomposition.PCA)** and **[*t*-SNE](https://scikit-learn.org/stable/modules/generated/sklearn.manifold.TSNE.html)** from the Scikit-learn Python library.\n",
    "- The synthetic images to be created will be in black and white, i.e. in 1 channel.\n",
    "- The synthetic image **dimensions** can be set as a parameter when creating them.\n",
    "- The synthetic images can be created using **characteristic pixels** or **blurring** painting technique (expressing an overlap of pixels as the **maximum** or **average**).\n",
    "- Runs on **Linux**, **Windows** and **macOS** systems.\n",
    "- Compatible with **[Python](https://www.python.org/)** 3.7 or higher."
   ]
  },
  {
   "cell_type": "markdown",
   "metadata": {
    "id": "Z3EzYcjJjpC6"
   },
   "source": [
    "---\n",
    "<div style=\"text-align: right\"> <font size=5> <a href=\"#indice\"><i class=\"fa fa-arrow-circle-up\" aria-hidden=\"true\" style=\"color:#004D7F\"></i></a></font></div>\n",
    "\n",
    "---"
   ]
  },
  {
   "cell_type": "markdown",
   "metadata": {
    "id": "qwYF5A2njpC8"
   },
   "source": [
    "<a id=\"section2\"></a>\n",
    "# <font color=\"#004D7F\" size=6> 2. Libraries</font>"
   ]
  },
  {
   "cell_type": "markdown",
   "metadata": {
    "id": "5AdHKnWYsEq_"
   },
   "source": [
    "The first thing we need to do is to declare the libraries"
   ]
  },
  {
   "cell_type": "code",
   "execution_count": 2,
   "metadata": {
    "id": "PeeBbGxlpjFp",
    "tags": []
   },
   "outputs": [],
   "source": [
    "import os\n",
    "import pandas as pd\n",
    "import numpy as np\n",
    "from tqdm import tqdm\n",
    "#import cv2\n",
    "import gc\n",
    "import matplotlib.pyplot as plt\n",
    "#import openslide\n",
    "#from openslide.deepzoom import DeepZoomGenerator\n",
    "import tifffile as tifi\n",
    "import sklearn\n",
    "import tensorflow as tf\n",
    "import seaborn as sns\n",
    "from PIL import Image\n",
    "\n",
    "\n",
    "from sklearn.metrics import mean_absolute_error, mean_squared_error, r2_score,mean_absolute_percentage_error\n",
    "\n",
    "from keras_preprocessing.image import ImageDataGenerator\n",
    "from tensorflow.keras.models import load_model\n",
    "\n",
    "from sklearn.model_selection import train_test_split\n",
    "from tensorflow.keras.applications import vgg16, vgg19, resnet50, mobilenet, inception_resnet_v2, densenet, inception_v3, xception, nasnet, ResNet152V2\n",
    "from tensorflow.keras.models import Sequential, Model, load_model\n",
    "from tensorflow.keras.layers import Dense, Conv2D, MaxPool2D, Flatten, Dropout, BatchNormalization, InputLayer, LayerNormalization\n",
    "from tensorflow.keras.callbacks import ModelCheckpoint, ReduceLROnPlateau, EarlyStopping\n",
    "from tensorflow.keras.optimizers import SGD, Adam, Adadelta, Adamax\n",
    "from tensorflow.keras import layers, models, Model\n",
    "from tensorflow.keras.losses import MeanAbsoluteError, MeanAbsolutePercentageError\n",
    "from tensorflow.keras.layers import Input, Activation,MaxPooling2D, concatenate\n",
    "\n",
    "from torchmetrics import MeanAbsolutePercentageError\n",
    "import torch\n",
    "import torch.nn as nn\n",
    "from torch.utils.data import Dataset, DataLoader, random_split\n",
    "from torchvision import transforms\n",
    "\n",
    "import pytorch_lightning as pl\n",
    "from pytorch_lightning.loggers  import TensorBoardLogger\n",
    "from pytorch_lightning.callbacks.early_stopping import EarlyStopping\n",
    "\n",
    "\n",
    "from imblearn.over_sampling import RandomOverSampler\n",
    "\n",
    "#Models of TINTOlib\n",
    "from TINTOlib.tinto import TINTO\n",
    "from TINTOlib.supertml import SuperTML\n",
    "from TINTOlib.igtd import IGTD\n",
    "from TINTOlib.refined import REFINED\n",
    "from TINTOlib.barGraph import BarGraph\n",
    "from TINTOlib.distanceMatrix import DistanceMatrix\n",
    "from TINTOlib.combination import Combination"
   ]
  },
  {
   "cell_type": "markdown",
   "metadata": {
    "id": "NwS-cKUxjpDQ"
   },
   "source": [
    "---\n",
    "<div style=\"text-align: right\"> <font size=5> <a href=\"#indice\"><i class=\"fa fa-arrow-circle-up\" aria-hidden=\"true\" style=\"color:#004D7F\"></i></a></font></div>\n",
    "\n",
    "---"
   ]
  },
  {
   "cell_type": "markdown",
   "metadata": {
    "id": "aDL4LARWjpDT"
   },
   "source": [
    "<a id=\"section3\"></a>\n",
    "# <font color=\"#004D7F\" size=6> 3. Data processing</font>"
   ]
  },
  {
   "cell_type": "markdown",
   "metadata": {
    "id": "jXcRw78ljpDU"
   },
   "source": [
    "The first thing to do is to read all the images created by TINTO. TINTO creates a folder which contains subfolders corresponding to each target that has the problem. Each image corresponds to a sample of the original dataset."
   ]
  },
  {
   "cell_type": "markdown",
   "metadata": {},
   "source": [
    "<a id=\"section31\"></a>\n",
    "# <font color=\"#004D7F\" size=5> 3.1. Create images with TINTOlib</font>"
   ]
  },
  {
   "cell_type": "code",
   "execution_count": 14,
   "metadata": {},
   "outputs": [],
   "source": [
    "#Select the model and the parameters\n",
    "problem_type = \"supervised\"\n",
    "image_model = TINTO(problem= problem_type,pixels=64,blur=True)\n",
    "\n",
    "#Define the dataset path and the folder where the images will be saved\n",
    "dataset_path = \"C:\\\\Users\\\\Borja\\\\PycharmProjects\\\\TINTORERA\\\\Datasets\\\\cancer.csv \"\n",
    "images_folder = \"C:\\\\Users\\\\Borja\\\\PycharmProjects\\\\TINTORERA\\\\tintoimagesregression\"\n",
    "\n",
    "\n"
   ]
  },
  {
   "cell_type": "markdown",
   "metadata": {},
   "source": [
    "Normalize dataset"
   ]
  },
  {
   "cell_type": "code",
   "execution_count": 4,
   "metadata": {},
   "outputs": [
    {
     "data": {
      "text/html": [
       "<div>\n",
       "<style scoped>\n",
       "    .dataframe tbody tr th:only-of-type {\n",
       "        vertical-align: middle;\n",
       "    }\n",
       "\n",
       "    .dataframe tbody tr th {\n",
       "        vertical-align: top;\n",
       "    }\n",
       "\n",
       "    .dataframe thead th {\n",
       "        text-align: right;\n",
       "    }\n",
       "</style>\n",
       "<table border=\"1\" class=\"dataframe\">\n",
       "  <thead>\n",
       "    <tr style=\"text-align: right;\">\n",
       "      <th></th>\n",
       "      <th>0</th>\n",
       "      <th>1</th>\n",
       "      <th>2</th>\n",
       "      <th>3</th>\n",
       "      <th>4</th>\n",
       "      <th>5</th>\n",
       "      <th>6</th>\n",
       "      <th>7</th>\n",
       "      <th>8</th>\n",
       "      <th>9</th>\n",
       "      <th>...</th>\n",
       "      <th>21</th>\n",
       "      <th>22</th>\n",
       "      <th>23</th>\n",
       "      <th>24</th>\n",
       "      <th>25</th>\n",
       "      <th>26</th>\n",
       "      <th>27</th>\n",
       "      <th>28</th>\n",
       "      <th>29</th>\n",
       "      <th>45</th>\n",
       "    </tr>\n",
       "  </thead>\n",
       "  <tbody>\n",
       "    <tr>\n",
       "      <th>0</th>\n",
       "      <td>0.643144</td>\n",
       "      <td>0.272574</td>\n",
       "      <td>0.615783</td>\n",
       "      <td>0.501591</td>\n",
       "      <td>0.289880</td>\n",
       "      <td>0.181768</td>\n",
       "      <td>0.203608</td>\n",
       "      <td>0.348757</td>\n",
       "      <td>0.379798</td>\n",
       "      <td>0.141323</td>\n",
       "      <td>...</td>\n",
       "      <td>0.303571</td>\n",
       "      <td>0.539818</td>\n",
       "      <td>0.435214</td>\n",
       "      <td>0.347553</td>\n",
       "      <td>0.154563</td>\n",
       "      <td>0.192971</td>\n",
       "      <td>0.639175</td>\n",
       "      <td>0.233590</td>\n",
       "      <td>0.222878</td>\n",
       "      <td>1.0</td>\n",
       "    </tr>\n",
       "    <tr>\n",
       "      <th>1</th>\n",
       "      <td>0.601496</td>\n",
       "      <td>0.390260</td>\n",
       "      <td>0.595743</td>\n",
       "      <td>0.449417</td>\n",
       "      <td>0.514309</td>\n",
       "      <td>0.431017</td>\n",
       "      <td>0.462512</td>\n",
       "      <td>0.635686</td>\n",
       "      <td>0.509596</td>\n",
       "      <td>0.211247</td>\n",
       "      <td>...</td>\n",
       "      <td>0.360075</td>\n",
       "      <td>0.508442</td>\n",
       "      <td>0.374508</td>\n",
       "      <td>0.483590</td>\n",
       "      <td>0.385375</td>\n",
       "      <td>0.359744</td>\n",
       "      <td>0.835052</td>\n",
       "      <td>0.403706</td>\n",
       "      <td>0.213433</td>\n",
       "      <td>1.0</td>\n",
       "    </tr>\n",
       "  </tbody>\n",
       "</table>\n",
       "<p>2 rows × 31 columns</p>\n",
       "</div>"
      ],
      "text/plain": [
       "          0         1         2         3         4         5         6  \\\n",
       "0  0.643144  0.272574  0.615783  0.501591  0.289880  0.181768  0.203608   \n",
       "1  0.601496  0.390260  0.595743  0.449417  0.514309  0.431017  0.462512   \n",
       "\n",
       "          7         8         9  ...        21        22        23        24  \\\n",
       "0  0.348757  0.379798  0.141323  ...  0.303571  0.539818  0.435214  0.347553   \n",
       "1  0.635686  0.509596  0.211247  ...  0.360075  0.508442  0.374508  0.483590   \n",
       "\n",
       "         25        26        27        28        29   45  \n",
       "0  0.154563  0.192971  0.639175  0.233590  0.222878  1.0  \n",
       "1  0.385375  0.359744  0.835052  0.403706  0.213433  1.0  \n",
       "\n",
       "[2 rows x 31 columns]"
      ]
     },
     "execution_count": 4,
     "metadata": {},
     "output_type": "execute_result"
    }
   ],
   "source": [
    "df = pd.read_csv(dataset_path)\n",
    "df.head(2)"
   ]
  },
  {
   "cell_type": "code",
   "execution_count": 15,
   "metadata": {},
   "outputs": [
    {
     "data": {
      "text/html": [
       "<div>\n",
       "<style scoped>\n",
       "    .dataframe tbody tr th:only-of-type {\n",
       "        vertical-align: middle;\n",
       "    }\n",
       "\n",
       "    .dataframe tbody tr th {\n",
       "        vertical-align: top;\n",
       "    }\n",
       "\n",
       "    .dataframe thead th {\n",
       "        text-align: right;\n",
       "    }\n",
       "</style>\n",
       "<table border=\"1\" class=\"dataframe\">\n",
       "  <thead>\n",
       "    <tr style=\"text-align: right;\">\n",
       "      <th></th>\n",
       "      <th>0</th>\n",
       "      <th>1</th>\n",
       "      <th>2</th>\n",
       "      <th>3</th>\n",
       "      <th>4</th>\n",
       "      <th>5</th>\n",
       "      <th>6</th>\n",
       "      <th>7</th>\n",
       "      <th>8</th>\n",
       "      <th>9</th>\n",
       "      <th>...</th>\n",
       "      <th>21</th>\n",
       "      <th>22</th>\n",
       "      <th>23</th>\n",
       "      <th>24</th>\n",
       "      <th>25</th>\n",
       "      <th>26</th>\n",
       "      <th>27</th>\n",
       "      <th>28</th>\n",
       "      <th>29</th>\n",
       "      <th>45</th>\n",
       "    </tr>\n",
       "  </thead>\n",
       "  <tbody>\n",
       "    <tr>\n",
       "      <th>0</th>\n",
       "      <td>0.643144</td>\n",
       "      <td>0.272574</td>\n",
       "      <td>0.615783</td>\n",
       "      <td>0.501591</td>\n",
       "      <td>0.289880</td>\n",
       "      <td>0.181768</td>\n",
       "      <td>0.203608</td>\n",
       "      <td>0.348757</td>\n",
       "      <td>0.379798</td>\n",
       "      <td>0.141323</td>\n",
       "      <td>...</td>\n",
       "      <td>0.303571</td>\n",
       "      <td>0.539818</td>\n",
       "      <td>0.435214</td>\n",
       "      <td>0.347553</td>\n",
       "      <td>0.154563</td>\n",
       "      <td>0.192971</td>\n",
       "      <td>0.639175</td>\n",
       "      <td>0.233590</td>\n",
       "      <td>0.222878</td>\n",
       "      <td>1.0</td>\n",
       "    </tr>\n",
       "    <tr>\n",
       "      <th>1</th>\n",
       "      <td>0.601496</td>\n",
       "      <td>0.390260</td>\n",
       "      <td>0.595743</td>\n",
       "      <td>0.449417</td>\n",
       "      <td>0.514309</td>\n",
       "      <td>0.431017</td>\n",
       "      <td>0.462512</td>\n",
       "      <td>0.635686</td>\n",
       "      <td>0.509596</td>\n",
       "      <td>0.211247</td>\n",
       "      <td>...</td>\n",
       "      <td>0.360075</td>\n",
       "      <td>0.508442</td>\n",
       "      <td>0.374508</td>\n",
       "      <td>0.483590</td>\n",
       "      <td>0.385375</td>\n",
       "      <td>0.359744</td>\n",
       "      <td>0.835052</td>\n",
       "      <td>0.403706</td>\n",
       "      <td>0.213433</td>\n",
       "      <td>1.0</td>\n",
       "    </tr>\n",
       "  </tbody>\n",
       "</table>\n",
       "<p>2 rows × 31 columns</p>\n",
       "</div>"
      ],
      "text/plain": [
       "          0         1         2         3         4         5         6  \\\n",
       "0  0.643144  0.272574  0.615783  0.501591  0.289880  0.181768  0.203608   \n",
       "1  0.601496  0.390260  0.595743  0.449417  0.514309  0.431017  0.462512   \n",
       "\n",
       "          7         8         9  ...        21        22        23        24  \\\n",
       "0  0.348757  0.379798  0.141323  ...  0.303571  0.539818  0.435214  0.347553   \n",
       "1  0.635686  0.509596  0.211247  ...  0.360075  0.508442  0.374508  0.483590   \n",
       "\n",
       "         25        26        27        28        29   45  \n",
       "0  0.154563  0.192971  0.639175  0.233590  0.222878  1.0  \n",
       "1  0.385375  0.359744  0.835052  0.403706  0.213433  1.0  \n",
       "\n",
       "[2 rows x 31 columns]"
      ]
     },
     "execution_count": 15,
     "metadata": {},
     "output_type": "execute_result"
    }
   ],
   "source": [
    "# Select all the attributes to normalize\n",
    "columns_to_normalize = df.columns[:-1]\n",
    "\n",
    "\n",
    "# Normalize between 0 and 1\n",
    "df_normalized = (df[columns_to_normalize] - df[columns_to_normalize].min()) / (df[columns_to_normalize].max() - df[columns_to_normalize].min())\n",
    "\n",
    "# Combine the attributes and the label\n",
    "df_normalized = pd.concat([df_normalized, df[df.columns[-1]]], axis=1)\n",
    "\n",
    "df_normalized.head(2)\n"
   ]
  },
  {
   "cell_type": "code",
   "execution_count": 16,
   "metadata": {},
   "outputs": [
    {
     "name": "stdout",
     "output_type": "stream",
     "text": [
      "C:\\Users\\Borja\\PycharmProjects\\TINTORERA\\tintoimagesregression\\supervised.csv\n"
     ]
    }
   ],
   "source": [
    "#Generate thet images\n",
    "image_model.generateImages(df_normalized, images_folder)\n",
    "\n",
    "img_paths = os.path.join(images_folder,problem_type+\".csv\")\n",
    "\n",
    "\n",
    "\n",
    "print(img_paths)"
   ]
  },
  {
   "cell_type": "markdown",
   "metadata": {
    "id": "klS9PZsUjpDV"
   },
   "source": [
    "<a id=\"section32\"></a>\n",
    "# <font color=\"#004D7F\" size=5> 3.2. Read images</font>"
   ]
  },
  {
   "cell_type": "code",
   "execution_count": 60,
   "metadata": {},
   "outputs": [
    {
     "data": {
      "text/html": [
       "<div>\n",
       "<style scoped>\n",
       "    .dataframe tbody tr th:only-of-type {\n",
       "        vertical-align: middle;\n",
       "    }\n",
       "\n",
       "    .dataframe tbody tr th {\n",
       "        vertical-align: top;\n",
       "    }\n",
       "\n",
       "    .dataframe thead th {\n",
       "        text-align: right;\n",
       "    }\n",
       "</style>\n",
       "<table border=\"1\" class=\"dataframe\">\n",
       "  <thead>\n",
       "    <tr style=\"text-align: right;\">\n",
       "      <th></th>\n",
       "      <th>images</th>\n",
       "      <th>0</th>\n",
       "      <th>1</th>\n",
       "      <th>2</th>\n",
       "      <th>3</th>\n",
       "      <th>4</th>\n",
       "      <th>5</th>\n",
       "      <th>6</th>\n",
       "      <th>7</th>\n",
       "      <th>8</th>\n",
       "      <th>...</th>\n",
       "      <th>20</th>\n",
       "      <th>21</th>\n",
       "      <th>22</th>\n",
       "      <th>23</th>\n",
       "      <th>24</th>\n",
       "      <th>25</th>\n",
       "      <th>26</th>\n",
       "      <th>27</th>\n",
       "      <th>28</th>\n",
       "      <th>29</th>\n",
       "    </tr>\n",
       "  </thead>\n",
       "  <tbody>\n",
       "    <tr>\n",
       "      <th>0</th>\n",
       "      <td>C:\\Users\\Borja\\PycharmProjects\\TINTORERA\\tinto...</td>\n",
       "      <td>0.643144</td>\n",
       "      <td>0.272574</td>\n",
       "      <td>0.615783</td>\n",
       "      <td>0.501591</td>\n",
       "      <td>0.289880</td>\n",
       "      <td>0.181768</td>\n",
       "      <td>0.203608</td>\n",
       "      <td>0.348757</td>\n",
       "      <td>0.379798</td>\n",
       "      <td>...</td>\n",
       "      <td>0.606901</td>\n",
       "      <td>0.303571</td>\n",
       "      <td>0.539818</td>\n",
       "      <td>0.435214</td>\n",
       "      <td>0.347553</td>\n",
       "      <td>0.154563</td>\n",
       "      <td>0.192971</td>\n",
       "      <td>0.639175</td>\n",
       "      <td>0.233590</td>\n",
       "      <td>0.222878</td>\n",
       "    </tr>\n",
       "    <tr>\n",
       "      <th>1</th>\n",
       "      <td>C:\\Users\\Borja\\PycharmProjects\\TINTORERA\\tinto...</td>\n",
       "      <td>0.601496</td>\n",
       "      <td>0.390260</td>\n",
       "      <td>0.595743</td>\n",
       "      <td>0.449417</td>\n",
       "      <td>0.514309</td>\n",
       "      <td>0.431017</td>\n",
       "      <td>0.462512</td>\n",
       "      <td>0.635686</td>\n",
       "      <td>0.509596</td>\n",
       "      <td>...</td>\n",
       "      <td>0.556386</td>\n",
       "      <td>0.360075</td>\n",
       "      <td>0.508442</td>\n",
       "      <td>0.374508</td>\n",
       "      <td>0.483590</td>\n",
       "      <td>0.385375</td>\n",
       "      <td>0.359744</td>\n",
       "      <td>0.835052</td>\n",
       "      <td>0.403706</td>\n",
       "      <td>0.213433</td>\n",
       "    </tr>\n",
       "  </tbody>\n",
       "</table>\n",
       "<p>2 rows × 31 columns</p>\n",
       "</div>"
      ],
      "text/plain": [
       "                                              images         0         1  \\\n",
       "0  C:\\Users\\Borja\\PycharmProjects\\TINTORERA\\tinto...  0.643144  0.272574   \n",
       "1  C:\\Users\\Borja\\PycharmProjects\\TINTORERA\\tinto...  0.601496  0.390260   \n",
       "\n",
       "          2         3         4         5         6         7         8  ...  \\\n",
       "0  0.615783  0.501591  0.289880  0.181768  0.203608  0.348757  0.379798  ...   \n",
       "1  0.595743  0.449417  0.514309  0.431017  0.462512  0.635686  0.509596  ...   \n",
       "\n",
       "         20        21        22        23        24        25        26  \\\n",
       "0  0.606901  0.303571  0.539818  0.435214  0.347553  0.154563  0.192971   \n",
       "1  0.556386  0.360075  0.508442  0.374508  0.483590  0.385375  0.359744   \n",
       "\n",
       "         27        28        29  \n",
       "0  0.639175  0.233590  0.222878  \n",
       "1  0.835052  0.403706  0.213433  \n",
       "\n",
       "[2 rows x 31 columns]"
      ]
     },
     "execution_count": 60,
     "metadata": {},
     "output_type": "execute_result"
    }
   ],
   "source": [
    "imgs = pd.read_csv(img_paths)\n",
    "\n",
    "imgs[\"images\"]= images_folder + \"\\\\\" + imgs[\"images\"]\n",
    "\n",
    "combined_dataset = pd.concat([imgs,df_normalized[columns_to_normalize]],axis=1)\n",
    "combined_dataset\n",
    "\n",
    "df_x = combined_dataset.drop(\"class\",axis=1)\n",
    "df_y = combined_dataset[\"class\"].replace(-1, 0)\n",
    "\n",
    "df_x.head(2)"
   ]
  },
  {
   "cell_type": "markdown",
   "metadata": {
    "id": "_haEKIo7jpD1"
   },
   "source": [
    "---\n",
    "<div style=\"text-align: right\"> <font size=5> <a href=\"#indice\"><i class=\"fa fa-arrow-circle-up\" aria-hidden=\"true\" style=\"color:#004D7F\"></i></a></font></div>\n",
    "\n",
    "---"
   ]
  },
  {
   "cell_type": "markdown",
   "metadata": {
    "id": "uF1lJWbojpD3"
   },
   "source": [
    "<a id=\"section4\"></a>\n",
    "# <font color=\"#004D7F\" size=6> 4. Pre-modelling phase</font>"
   ]
  },
  {
   "cell_type": "code",
   "execution_count": 61,
   "metadata": {},
   "outputs": [
    {
     "name": "stdout",
     "output_type": "stream",
     "text": [
      "(64, 64, 3)\n",
      "30\n",
      "340 340 340\n",
      "114 114 114\n"
     ]
    }
   ],
   "source": [
    "import cv2\n",
    "X_train, X_val, y_train, y_val = train_test_split(df_x, df_y, test_size = 0.40, random_state = 123)\n",
    "X_val, X_test, y_val, y_test = train_test_split(X_val, y_val, test_size = 0.50, random_state = 123)\n",
    "\n",
    "X_train_num = X_train.drop(\"images\",axis=1)\n",
    "X_val_num = X_val.drop(\"images\",axis=1)\n",
    "X_test_num = X_test.drop(\"images\",axis=1)\n",
    "\n",
    "X_train_img = np.array([cv2.imread(img) for img in X_train[\"images\"]])\n",
    "X_val_img = np.array([cv2.imread(img) for img in X_val[\"images\"]])\n",
    "X_test_img = np.array([cv2.imread(img) for img in X_test[\"images\"]])\n",
    "\n",
    "\n",
    "print(X_train_img[0].shape)\n",
    "print(len(X_train_num.columns))\n",
    "\n",
    "print(len(X_train_num),len(y_train),len(X_train_img))\n",
    "print(len(X_val_num),len(y_val),len(X_val_img))"
   ]
  },
  {
   "cell_type": "markdown",
   "metadata": {},
   "source": [
    "<a id=\"section5\"></a>\n",
    "# <font color=\"#004D7F\" size=6> 5. Modeling hybrid network</font>"
   ]
  },
  {
   "cell_type": "code",
   "execution_count": 62,
   "metadata": {},
   "outputs": [],
   "source": [
    "dropout = 0.5"
   ]
  },
  {
   "cell_type": "code",
   "execution_count": 63,
   "metadata": {},
   "outputs": [],
   "source": [
    "filters_ffnn = [64,32,16]\n",
    "\n",
    "ff_inputs = Input(shape = (30,))\n",
    "ff_x = ff_inputs\n",
    "\n",
    "for layer in filters_ffnn:\n",
    "    ff_x = Dense(layer, activation=\"relu\")(ff_x)\n",
    "    ff_x = Activation(\"relu\")(ff_x)\n",
    "    ff_x = BatchNormalization()(ff_x)\n",
    "    ff_x = Dropout(dropout)(ff_x)\n",
    "    \n",
    "ff_model = Model(inputs=ff_inputs, outputs=ff_x)"
   ]
  },
  {
   "cell_type": "code",
   "execution_count": 64,
   "metadata": {},
   "outputs": [],
   "source": [
    "filters_cnn = [64,32,16]\n",
    "        \n",
    "cnn_inputs = Input(shape = (64,64,3))\n",
    "cnn_x= cnn_inputs\n",
    "for layer in filters_cnn:\n",
    "    cnn_x = Conv2D(layer, (3, 3), padding=\"same\")(cnn_x)\n",
    "    cnn_x = Activation(\"relu\")(cnn_x)\n",
    "    cnn_x = BatchNormalization()(cnn_x)\n",
    "    cnn_x = MaxPooling2D(pool_size=(2, 2))(cnn_x)\n",
    "\n",
    "# flatten the volume, then FC => RELU => BN => DROPOUT\n",
    "cnn_x = Flatten()(cnn_x)\n",
    "cnn_x = Dense(16)(cnn_x)\n",
    "cnn_x = Activation(\"relu\")(cnn_x)\n",
    "cnn_x = BatchNormalization()(cnn_x)\n",
    "cnn_x = Dropout(dropout)(cnn_x)\n",
    "\n",
    "# apply another FC layer, this one to match the number of nodes\n",
    "# coming out of the MLP\n",
    "cnn_x = Dense(16)(cnn_x)\n",
    "cnn_x = Activation(\"relu\")(cnn_x)\n",
    "\n",
    "# construct the CNN\n",
    "cnn_model = Model(cnn_inputs, cnn_x)"
   ]
  },
  {
   "cell_type": "code",
   "execution_count": 65,
   "metadata": {},
   "outputs": [],
   "source": [
    "combinedInput = concatenate([ff_model.output, cnn_model.output])\n",
    "x = Dense(32, activation=\"relu\")(combinedInput)\n",
    "x = Dense(1, activation=\"sigmoid\")(x)\n",
    "\n",
    "model = Model(inputs=[ff_model.input, cnn_model.input], outputs=x)"
   ]
  },
  {
   "cell_type": "code",
   "execution_count": 66,
   "metadata": {},
   "outputs": [],
   "source": [
    "METRICS = [\n",
    "    tf.keras.metrics.TruePositives(name = 'tp'),\n",
    "    tf.keras.metrics.FalsePositives(name = 'fp'),\n",
    "    tf.keras.metrics.TrueNegatives(name = 'tn'),\n",
    "    tf.keras.metrics.FalseNegatives(name = 'fn'), \n",
    "    tf.keras.metrics.BinaryAccuracy(name ='accuracy'),\n",
    "    tf.keras.metrics.Precision(name = 'precision'),\n",
    "    tf.keras.metrics.Recall(name = 'recall'),\n",
    "    tf.keras.metrics.AUC(name = 'auc'),\n",
    "]"
   ]
  },
  {
   "cell_type": "code",
   "execution_count": 67,
   "metadata": {},
   "outputs": [],
   "source": [
    "opt = Adam(learning_rate=1e-3)\n",
    "model.compile(\n",
    "    loss=\"binary_crossentropy\", \n",
    "    optimizer=opt,\n",
    "    metrics = METRICS\n",
    ")"
   ]
  },
  {
   "cell_type": "code",
   "execution_count": 68,
   "metadata": {},
   "outputs": [],
   "source": [
    "# Define EarlyStopping callback\n",
    "early_stopping = EarlyStopping(monitor='val_loss', patience=50)"
   ]
  },
  {
   "cell_type": "code",
   "execution_count": 69,
   "metadata": {},
   "outputs": [
    {
     "name": "stdout",
     "output_type": "stream",
     "text": [
      "Epoch 1/100\n",
      "43/43 [==============================] - 5s 52ms/step - loss: 0.9287 - tp: 113.0000 - fp: 158.0000 - tn: 61.0000 - fn: 8.0000 - accuracy: 0.5118 - precision: 0.4170 - recall: 0.9339 - auc: 0.6414 - val_loss: 1.2331 - val_tp: 47.0000 - val_fp: 67.0000 - val_tn: 0.0000e+00 - val_fn: 0.0000e+00 - val_accuracy: 0.4123 - val_precision: 0.4123 - val_recall: 1.0000 - val_auc: 0.7587\n",
      "Epoch 2/100\n",
      "43/43 [==============================] - 2s 41ms/step - loss: 0.5384 - tp: 91.0000 - fp: 62.0000 - tn: 157.0000 - fn: 30.0000 - accuracy: 0.7294 - precision: 0.5948 - recall: 0.7521 - auc: 0.8020 - val_loss: 0.7635 - val_tp: 47.0000 - val_fp: 67.0000 - val_tn: 0.0000e+00 - val_fn: 0.0000e+00 - val_accuracy: 0.4123 - val_precision: 0.4123 - val_recall: 1.0000 - val_auc: 0.9230\n",
      "Epoch 3/100\n",
      "43/43 [==============================] - 2s 41ms/step - loss: 0.4629 - tp: 85.0000 - fp: 34.0000 - tn: 185.0000 - fn: 36.0000 - accuracy: 0.7941 - precision: 0.7143 - recall: 0.7025 - auc: 0.8579 - val_loss: 0.6875 - val_tp: 47.0000 - val_fp: 63.0000 - val_tn: 4.0000 - val_fn: 0.0000e+00 - val_accuracy: 0.4474 - val_precision: 0.4273 - val_recall: 1.0000 - val_auc: 0.9598\n",
      "Epoch 4/100\n",
      "43/43 [==============================] - 2s 42ms/step - loss: 0.4202 - tp: 93.0000 - fp: 34.0000 - tn: 185.0000 - fn: 28.0000 - accuracy: 0.8176 - precision: 0.7323 - recall: 0.7686 - auc: 0.8862 - val_loss: 0.5934 - val_tp: 46.0000 - val_fp: 26.0000 - val_tn: 41.0000 - val_fn: 1.0000 - val_accuracy: 0.7632 - val_precision: 0.6389 - val_recall: 0.9787 - val_auc: 0.9538\n",
      "Epoch 5/100\n",
      "43/43 [==============================] - 2s 42ms/step - loss: 0.3209 - tp: 108.0000 - fp: 25.0000 - tn: 194.0000 - fn: 13.0000 - accuracy: 0.8882 - precision: 0.8120 - recall: 0.8926 - auc: 0.9438 - val_loss: 0.8247 - val_tp: 47.0000 - val_fp: 67.0000 - val_tn: 0.0000e+00 - val_fn: 0.0000e+00 - val_accuracy: 0.4123 - val_precision: 0.4123 - val_recall: 1.0000 - val_auc: 0.9360\n",
      "Epoch 6/100\n",
      "43/43 [==============================] - 2s 43ms/step - loss: 0.3848 - tp: 97.0000 - fp: 33.0000 - tn: 186.0000 - fn: 24.0000 - accuracy: 0.8324 - precision: 0.7462 - recall: 0.8017 - auc: 0.9036 - val_loss: 0.5204 - val_tp: 40.0000 - val_fp: 15.0000 - val_tn: 52.0000 - val_fn: 7.0000 - val_accuracy: 0.8070 - val_precision: 0.7273 - val_recall: 0.8511 - val_auc: 0.9006\n",
      "Epoch 7/100\n",
      "43/43 [==============================] - 2s 43ms/step - loss: 0.2677 - tp: 100.0000 - fp: 14.0000 - tn: 205.0000 - fn: 21.0000 - accuracy: 0.8971 - precision: 0.8772 - recall: 0.8264 - auc: 0.9588 - val_loss: 0.4018 - val_tp: 38.0000 - val_fp: 3.0000 - val_tn: 64.0000 - val_fn: 9.0000 - val_accuracy: 0.8947 - val_precision: 0.9268 - val_recall: 0.8085 - val_auc: 0.9330\n",
      "Epoch 8/100\n",
      "43/43 [==============================] - 2s 44ms/step - loss: 0.2647 - tp: 103.0000 - fp: 17.0000 - tn: 202.0000 - fn: 18.0000 - accuracy: 0.8971 - precision: 0.8583 - recall: 0.8512 - auc: 0.9553 - val_loss: 1.6279 - val_tp: 47.0000 - val_fp: 67.0000 - val_tn: 0.0000e+00 - val_fn: 0.0000e+00 - val_accuracy: 0.4123 - val_precision: 0.4123 - val_recall: 1.0000 - val_auc: 0.9676\n",
      "Epoch 9/100\n",
      "43/43 [==============================] - 2s 44ms/step - loss: 0.2923 - tp: 92.0000 - fp: 19.0000 - tn: 200.0000 - fn: 29.0000 - accuracy: 0.8588 - precision: 0.8288 - recall: 0.7603 - auc: 0.9417 - val_loss: 4.9872 - val_tp: 47.0000 - val_fp: 67.0000 - val_tn: 0.0000e+00 - val_fn: 0.0000e+00 - val_accuracy: 0.4123 - val_precision: 0.4123 - val_recall: 1.0000 - val_auc: 0.5000\n",
      "Epoch 10/100\n",
      "43/43 [==============================] - 2s 43ms/step - loss: 0.3486 - tp: 96.0000 - fp: 21.0000 - tn: 198.0000 - fn: 25.0000 - accuracy: 0.8647 - precision: 0.8205 - recall: 0.7934 - auc: 0.9201 - val_loss: 1.4224 - val_tp: 47.0000 - val_fp: 66.0000 - val_tn: 1.0000 - val_fn: 0.0000e+00 - val_accuracy: 0.4211 - val_precision: 0.4159 - val_recall: 1.0000 - val_auc: 0.9738\n",
      "Epoch 11/100\n",
      "43/43 [==============================] - 2s 42ms/step - loss: 0.2793 - tp: 103.0000 - fp: 21.0000 - tn: 198.0000 - fn: 18.0000 - accuracy: 0.8853 - precision: 0.8306 - recall: 0.8512 - auc: 0.9477 - val_loss: 1.0836 - val_tp: 47.0000 - val_fp: 59.0000 - val_tn: 8.0000 - val_fn: 0.0000e+00 - val_accuracy: 0.4825 - val_precision: 0.4434 - val_recall: 1.0000 - val_auc: 0.9856\n",
      "Epoch 12/100\n",
      "43/43 [==============================] - 2s 42ms/step - loss: 0.1890 - tp: 112.0000 - fp: 14.0000 - tn: 205.0000 - fn: 9.0000 - accuracy: 0.9324 - precision: 0.8889 - recall: 0.9256 - auc: 0.9767 - val_loss: 1.3634 - val_tp: 47.0000 - val_fp: 66.0000 - val_tn: 1.0000 - val_fn: 0.0000e+00 - val_accuracy: 0.4211 - val_precision: 0.4159 - val_recall: 1.0000 - val_auc: 0.9859\n",
      "Epoch 13/100\n",
      "43/43 [==============================] - 2s 43ms/step - loss: 0.1803 - tp: 105.0000 - fp: 11.0000 - tn: 208.0000 - fn: 16.0000 - accuracy: 0.9206 - precision: 0.9052 - recall: 0.8678 - auc: 0.9800 - val_loss: 1.1808 - val_tp: 47.0000 - val_fp: 66.0000 - val_tn: 1.0000 - val_fn: 0.0000e+00 - val_accuracy: 0.4211 - val_precision: 0.4159 - val_recall: 1.0000 - val_auc: 0.9827\n",
      "Epoch 14/100\n",
      "43/43 [==============================] - 2s 43ms/step - loss: 0.2281 - tp: 106.0000 - fp: 16.0000 - tn: 203.0000 - fn: 15.0000 - accuracy: 0.9088 - precision: 0.8689 - recall: 0.8760 - auc: 0.9658 - val_loss: 12.4471 - val_tp: 47.0000 - val_fp: 67.0000 - val_tn: 0.0000e+00 - val_fn: 0.0000e+00 - val_accuracy: 0.4123 - val_precision: 0.4123 - val_recall: 1.0000 - val_auc: 0.5000\n",
      "Epoch 15/100\n",
      "43/43 [==============================] - 2s 42ms/step - loss: 0.2432 - tp: 105.0000 - fp: 14.0000 - tn: 205.0000 - fn: 16.0000 - accuracy: 0.9118 - precision: 0.8824 - recall: 0.8678 - auc: 0.9607 - val_loss: 3.4730 - val_tp: 47.0000 - val_fp: 67.0000 - val_tn: 0.0000e+00 - val_fn: 0.0000e+00 - val_accuracy: 0.4123 - val_precision: 0.4123 - val_recall: 1.0000 - val_auc: 0.6343\n",
      "Epoch 16/100\n",
      "43/43 [==============================] - 2s 41ms/step - loss: 0.2033 - tp: 104.0000 - fp: 11.0000 - tn: 208.0000 - fn: 17.0000 - accuracy: 0.9176 - precision: 0.9043 - recall: 0.8595 - auc: 0.9705 - val_loss: 0.9127 - val_tp: 47.0000 - val_fp: 59.0000 - val_tn: 8.0000 - val_fn: 0.0000e+00 - val_accuracy: 0.4825 - val_precision: 0.4434 - val_recall: 1.0000 - val_auc: 0.9781\n",
      "Epoch 17/100\n",
      "43/43 [==============================] - 2s 42ms/step - loss: 0.2394 - tp: 106.0000 - fp: 17.0000 - tn: 202.0000 - fn: 15.0000 - accuracy: 0.9059 - precision: 0.8618 - recall: 0.8760 - auc: 0.9614 - val_loss: 0.9027 - val_tp: 47.0000 - val_fp: 46.0000 - val_tn: 21.0000 - val_fn: 0.0000e+00 - val_accuracy: 0.5965 - val_precision: 0.5054 - val_recall: 1.0000 - val_auc: 0.9760\n",
      "Epoch 18/100\n",
      "43/43 [==============================] - 2s 44ms/step - loss: 0.2449 - tp: 101.0000 - fp: 13.0000 - tn: 206.0000 - fn: 20.0000 - accuracy: 0.9029 - precision: 0.8860 - recall: 0.8347 - auc: 0.9597 - val_loss: 0.6861 - val_tp: 47.0000 - val_fp: 45.0000 - val_tn: 22.0000 - val_fn: 0.0000e+00 - val_accuracy: 0.6053 - val_precision: 0.5109 - val_recall: 1.0000 - val_auc: 0.9744\n",
      "Epoch 19/100\n",
      "43/43 [==============================] - 2s 44ms/step - loss: 0.1965 - tp: 108.0000 - fp: 16.0000 - tn: 203.0000 - fn: 13.0000 - accuracy: 0.9147 - precision: 0.8710 - recall: 0.8926 - auc: 0.9743 - val_loss: 0.4922 - val_tp: 47.0000 - val_fp: 32.0000 - val_tn: 35.0000 - val_fn: 0.0000e+00 - val_accuracy: 0.7193 - val_precision: 0.5949 - val_recall: 1.0000 - val_auc: 0.9852\n",
      "Epoch 20/100\n",
      "43/43 [==============================] - 2s 43ms/step - loss: 0.2334 - tp: 105.0000 - fp: 16.0000 - tn: 203.0000 - fn: 16.0000 - accuracy: 0.9059 - precision: 0.8678 - recall: 0.8678 - auc: 0.9645 - val_loss: 0.7122 - val_tp: 13.0000 - val_fp: 0.0000e+00 - val_tn: 67.0000 - val_fn: 34.0000 - val_accuracy: 0.7018 - val_precision: 1.0000 - val_recall: 0.2766 - val_auc: 0.9382\n",
      "Epoch 21/100\n",
      "43/43 [==============================] - 2s 41ms/step - loss: 0.1911 - tp: 103.0000 - fp: 9.0000 - tn: 210.0000 - fn: 18.0000 - accuracy: 0.9206 - precision: 0.9196 - recall: 0.8512 - auc: 0.9763 - val_loss: 0.4452 - val_tp: 46.0000 - val_fp: 28.0000 - val_tn: 39.0000 - val_fn: 1.0000 - val_accuracy: 0.7456 - val_precision: 0.6216 - val_recall: 0.9787 - val_auc: 0.9743\n",
      "Epoch 22/100\n"
     ]
    },
    {
     "name": "stdout",
     "output_type": "stream",
     "text": [
      "43/43 [==============================] - 2s 41ms/step - loss: 0.2242 - tp: 107.0000 - fp: 13.0000 - tn: 206.0000 - fn: 14.0000 - accuracy: 0.9206 - precision: 0.8917 - recall: 0.8843 - auc: 0.9657 - val_loss: 0.8849 - val_tp: 47.0000 - val_fp: 59.0000 - val_tn: 8.0000 - val_fn: 0.0000e+00 - val_accuracy: 0.4825 - val_precision: 0.4434 - val_recall: 1.0000 - val_auc: 0.9655\n",
      "Epoch 23/100\n",
      "43/43 [==============================] - 2s 42ms/step - loss: 0.2398 - tp: 108.0000 - fp: 16.0000 - tn: 203.0000 - fn: 13.0000 - accuracy: 0.9147 - precision: 0.8710 - recall: 0.8926 - auc: 0.9610 - val_loss: 0.8068 - val_tp: 47.0000 - val_fp: 46.0000 - val_tn: 21.0000 - val_fn: 0.0000e+00 - val_accuracy: 0.5965 - val_precision: 0.5054 - val_recall: 1.0000 - val_auc: 0.8685\n",
      "Epoch 24/100\n",
      "43/43 [==============================] - 2s 43ms/step - loss: 0.1728 - tp: 107.0000 - fp: 12.0000 - tn: 207.0000 - fn: 14.0000 - accuracy: 0.9235 - precision: 0.8992 - recall: 0.8843 - auc: 0.9799 - val_loss: 0.6321 - val_tp: 47.0000 - val_fp: 41.0000 - val_tn: 26.0000 - val_fn: 0.0000e+00 - val_accuracy: 0.6404 - val_precision: 0.5341 - val_recall: 1.0000 - val_auc: 0.9751\n",
      "Epoch 25/100\n",
      "43/43 [==============================] - 2s 43ms/step - loss: 0.2020 - tp: 107.0000 - fp: 14.0000 - tn: 205.0000 - fn: 14.0000 - accuracy: 0.9176 - precision: 0.8843 - recall: 0.8843 - auc: 0.9725 - val_loss: 0.9631 - val_tp: 47.0000 - val_fp: 46.0000 - val_tn: 21.0000 - val_fn: 0.0000e+00 - val_accuracy: 0.5965 - val_precision: 0.5054 - val_recall: 1.0000 - val_auc: 0.9557\n",
      "Epoch 26/100\n",
      "43/43 [==============================] - 2s 43ms/step - loss: 0.2519 - tp: 105.0000 - fp: 17.0000 - tn: 202.0000 - fn: 16.0000 - accuracy: 0.9029 - precision: 0.8607 - recall: 0.8678 - auc: 0.9598 - val_loss: 3.0470 - val_tp: 47.0000 - val_fp: 66.0000 - val_tn: 1.0000 - val_fn: 0.0000e+00 - val_accuracy: 0.4211 - val_precision: 0.4159 - val_recall: 1.0000 - val_auc: 0.7404\n",
      "Epoch 27/100\n",
      "43/43 [==============================] - 2s 42ms/step - loss: 0.1570 - tp: 109.0000 - fp: 11.0000 - tn: 208.0000 - fn: 12.0000 - accuracy: 0.9324 - precision: 0.9083 - recall: 0.9008 - auc: 0.9849 - val_loss: 0.5973 - val_tp: 47.0000 - val_fp: 34.0000 - val_tn: 33.0000 - val_fn: 0.0000e+00 - val_accuracy: 0.7018 - val_precision: 0.5802 - val_recall: 1.0000 - val_auc: 0.9825\n",
      "Epoch 28/100\n",
      "43/43 [==============================] - 2s 42ms/step - loss: 0.1665 - tp: 106.0000 - fp: 11.0000 - tn: 208.0000 - fn: 15.0000 - accuracy: 0.9235 - precision: 0.9060 - recall: 0.8760 - auc: 0.9828 - val_loss: 0.4415 - val_tp: 46.0000 - val_fp: 21.0000 - val_tn: 46.0000 - val_fn: 1.0000 - val_accuracy: 0.8070 - val_precision: 0.6866 - val_recall: 0.9787 - val_auc: 0.9589\n",
      "Epoch 29/100\n",
      "43/43 [==============================] - 2s 42ms/step - loss: 0.2038 - tp: 110.0000 - fp: 15.0000 - tn: 204.0000 - fn: 11.0000 - accuracy: 0.9235 - precision: 0.8800 - recall: 0.9091 - auc: 0.9712 - val_loss: 0.5385 - val_tp: 46.0000 - val_fp: 35.0000 - val_tn: 32.0000 - val_fn: 1.0000 - val_accuracy: 0.6842 - val_precision: 0.5679 - val_recall: 0.9787 - val_auc: 0.9659\n",
      "Epoch 30/100\n",
      "43/43 [==============================] - 2s 43ms/step - loss: 0.2863 - tp: 99.0000 - fp: 16.0000 - tn: 203.0000 - fn: 22.0000 - accuracy: 0.8882 - precision: 0.8609 - recall: 0.8182 - auc: 0.9471 - val_loss: 7.6297 - val_tp: 47.0000 - val_fp: 67.0000 - val_tn: 0.0000e+00 - val_fn: 0.0000e+00 - val_accuracy: 0.4123 - val_precision: 0.4123 - val_recall: 1.0000 - val_auc: 0.5075\n",
      "Epoch 31/100\n",
      "43/43 [==============================] - 2s 43ms/step - loss: 0.2246 - tp: 108.0000 - fp: 18.0000 - tn: 201.0000 - fn: 13.0000 - accuracy: 0.9088 - precision: 0.8571 - recall: 0.8926 - auc: 0.9669 - val_loss: 1.2810 - val_tp: 47.0000 - val_fp: 64.0000 - val_tn: 3.0000 - val_fn: 0.0000e+00 - val_accuracy: 0.4386 - val_precision: 0.4234 - val_recall: 1.0000 - val_auc: 0.9767\n",
      "Epoch 32/100\n",
      "43/43 [==============================] - 2s 41ms/step - loss: 0.1641 - tp: 110.0000 - fp: 10.0000 - tn: 209.0000 - fn: 11.0000 - accuracy: 0.9382 - precision: 0.9167 - recall: 0.9091 - auc: 0.9839 - val_loss: 0.4503 - val_tp: 46.0000 - val_fp: 28.0000 - val_tn: 39.0000 - val_fn: 1.0000 - val_accuracy: 0.7456 - val_precision: 0.6216 - val_recall: 0.9787 - val_auc: 0.9725\n",
      "Epoch 33/100\n",
      "43/43 [==============================] - 2s 41ms/step - loss: 0.1572 - tp: 106.0000 - fp: 8.0000 - tn: 211.0000 - fn: 15.0000 - accuracy: 0.9324 - precision: 0.9298 - recall: 0.8760 - auc: 0.9843 - val_loss: 0.6600 - val_tp: 46.0000 - val_fp: 37.0000 - val_tn: 30.0000 - val_fn: 1.0000 - val_accuracy: 0.6667 - val_precision: 0.5542 - val_recall: 0.9787 - val_auc: 0.9698\n",
      "Epoch 34/100\n",
      "43/43 [==============================] - 2s 41ms/step - loss: 0.1854 - tp: 103.0000 - fp: 12.0000 - tn: 207.0000 - fn: 18.0000 - accuracy: 0.9118 - precision: 0.8957 - recall: 0.8512 - auc: 0.9775 - val_loss: 0.7360 - val_tp: 47.0000 - val_fp: 44.0000 - val_tn: 23.0000 - val_fn: 0.0000e+00 - val_accuracy: 0.6140 - val_precision: 0.5165 - val_recall: 1.0000 - val_auc: 0.9881\n",
      "Epoch 35/100\n",
      "43/43 [==============================] - 2s 44ms/step - loss: 0.2857 - tp: 103.0000 - fp: 9.0000 - tn: 210.0000 - fn: 18.0000 - accuracy: 0.9206 - precision: 0.9196 - recall: 0.8512 - auc: 0.9446 - val_loss: 0.2308 - val_tp: 41.0000 - val_fp: 4.0000 - val_tn: 63.0000 - val_fn: 6.0000 - val_accuracy: 0.9123 - val_precision: 0.9111 - val_recall: 0.8723 - val_auc: 0.9716\n",
      "Epoch 36/100\n",
      "43/43 [==============================] - 2s 44ms/step - loss: 0.1707 - tp: 106.0000 - fp: 9.0000 - tn: 210.0000 - fn: 15.0000 - accuracy: 0.9294 - precision: 0.9217 - recall: 0.8760 - auc: 0.9815 - val_loss: 0.2109 - val_tp: 43.0000 - val_fp: 5.0000 - val_tn: 62.0000 - val_fn: 4.0000 - val_accuracy: 0.9211 - val_precision: 0.8958 - val_recall: 0.9149 - val_auc: 0.9725\n",
      "Epoch 37/100\n",
      "43/43 [==============================] - 2s 44ms/step - loss: 0.2312 - tp: 107.0000 - fp: 19.0000 - tn: 200.0000 - fn: 14.0000 - accuracy: 0.9029 - precision: 0.8492 - recall: 0.8843 - auc: 0.9677 - val_loss: 0.2965 - val_tp: 34.0000 - val_fp: 0.0000e+00 - val_tn: 67.0000 - val_fn: 13.0000 - val_accuracy: 0.8860 - val_precision: 1.0000 - val_recall: 0.7234 - val_auc: 0.9795\n",
      "Epoch 38/100\n",
      "43/43 [==============================] - 2s 42ms/step - loss: 0.2164 - tp: 104.0000 - fp: 15.0000 - tn: 204.0000 - fn: 17.0000 - accuracy: 0.9059 - precision: 0.8739 - recall: 0.8595 - auc: 0.9665 - val_loss: 1.6275 - val_tp: 47.0000 - val_fp: 65.0000 - val_tn: 2.0000 - val_fn: 0.0000e+00 - val_accuracy: 0.4298 - val_precision: 0.4196 - val_recall: 1.0000 - val_auc: 0.9665\n",
      "Epoch 39/100\n",
      "43/43 [==============================] - 2s 41ms/step - loss: 0.2316 - tp: 101.0000 - fp: 8.0000 - tn: 211.0000 - fn: 20.0000 - accuracy: 0.9176 - precision: 0.9266 - recall: 0.8347 - auc: 0.9609 - val_loss: 0.8352 - val_tp: 46.0000 - val_fp: 47.0000 - val_tn: 20.0000 - val_fn: 1.0000 - val_accuracy: 0.5789 - val_precision: 0.4946 - val_recall: 0.9787 - val_auc: 0.9792\n",
      "Epoch 40/100\n",
      "43/43 [==============================] - 2s 42ms/step - loss: 0.1639 - tp: 109.0000 - fp: 9.0000 - tn: 210.0000 - fn: 12.0000 - accuracy: 0.9382 - precision: 0.9237 - recall: 0.9008 - auc: 0.9827 - val_loss: 0.6472 - val_tp: 47.0000 - val_fp: 40.0000 - val_tn: 27.0000 - val_fn: 0.0000e+00 - val_accuracy: 0.6491 - val_precision: 0.5402 - val_recall: 1.0000 - val_auc: 0.9803\n",
      "Epoch 41/100\n",
      "43/43 [==============================] - 2s 45ms/step - loss: 0.1482 - tp: 113.0000 - fp: 11.0000 - tn: 208.0000 - fn: 8.0000 - accuracy: 0.9441 - precision: 0.9113 - recall: 0.9339 - auc: 0.9850 - val_loss: 0.5574 - val_tp: 47.0000 - val_fp: 36.0000 - val_tn: 31.0000 - val_fn: 0.0000e+00 - val_accuracy: 0.6842 - val_precision: 0.5663 - val_recall: 1.0000 - val_auc: 0.9852\n",
      "Epoch 42/100\n",
      "43/43 [==============================] - 2s 44ms/step - loss: 0.2823 - tp: 100.0000 - fp: 21.0000 - tn: 198.0000 - fn: 21.0000 - accuracy: 0.8765 - precision: 0.8264 - recall: 0.8264 - auc: 0.9473 - val_loss: 0.5182 - val_tp: 40.0000 - val_fp: 26.0000 - val_tn: 41.0000 - val_fn: 7.0000 - val_accuracy: 0.7105 - val_precision: 0.6061 - val_recall: 0.8511 - val_auc: 0.8657\n",
      "Epoch 43/100\n"
     ]
    },
    {
     "name": "stdout",
     "output_type": "stream",
     "text": [
      "43/43 [==============================] - 2s 42ms/step - loss: 0.2460 - tp: 105.0000 - fp: 9.0000 - tn: 210.0000 - fn: 16.0000 - accuracy: 0.9265 - precision: 0.9211 - recall: 0.8678 - auc: 0.9545 - val_loss: 0.3379 - val_tp: 46.0000 - val_fp: 15.0000 - val_tn: 52.0000 - val_fn: 1.0000 - val_accuracy: 0.8596 - val_precision: 0.7541 - val_recall: 0.9787 - val_auc: 0.9836\n",
      "Epoch 44/100\n",
      "43/43 [==============================] - 2s 42ms/step - loss: 0.1901 - tp: 108.0000 - fp: 11.0000 - tn: 208.0000 - fn: 13.0000 - accuracy: 0.9294 - precision: 0.9076 - recall: 0.8926 - auc: 0.9754 - val_loss: 0.2351 - val_tp: 41.0000 - val_fp: 1.0000 - val_tn: 66.0000 - val_fn: 6.0000 - val_accuracy: 0.9386 - val_precision: 0.9762 - val_recall: 0.8723 - val_auc: 0.9717\n",
      "Epoch 45/100\n",
      "43/43 [==============================] - 2s 42ms/step - loss: 0.1768 - tp: 115.0000 - fp: 13.0000 - tn: 206.0000 - fn: 6.0000 - accuracy: 0.9441 - precision: 0.8984 - recall: 0.9504 - auc: 0.9785 - val_loss: 0.1439 - val_tp: 43.0000 - val_fp: 2.0000 - val_tn: 65.0000 - val_fn: 4.0000 - val_accuracy: 0.9474 - val_precision: 0.9556 - val_recall: 0.9149 - val_auc: 0.9836\n",
      "Epoch 46/100\n",
      "43/43 [==============================] - 2s 44ms/step - loss: 0.2292 - tp: 103.0000 - fp: 9.0000 - tn: 210.0000 - fn: 18.0000 - accuracy: 0.9206 - precision: 0.9196 - recall: 0.8512 - auc: 0.9616 - val_loss: 0.3533 - val_tp: 32.0000 - val_fp: 0.0000e+00 - val_tn: 67.0000 - val_fn: 15.0000 - val_accuracy: 0.8684 - val_precision: 1.0000 - val_recall: 0.6809 - val_auc: 0.9749\n",
      "Epoch 47/100\n",
      "43/43 [==============================] - 2s 43ms/step - loss: 0.2103 - tp: 101.0000 - fp: 10.0000 - tn: 209.0000 - fn: 20.0000 - accuracy: 0.9118 - precision: 0.9099 - recall: 0.8347 - auc: 0.9712 - val_loss: 0.2535 - val_tp: 46.0000 - val_fp: 7.0000 - val_tn: 60.0000 - val_fn: 1.0000 - val_accuracy: 0.9298 - val_precision: 0.8679 - val_recall: 0.9787 - val_auc: 0.9813\n",
      "Epoch 48/100\n",
      "43/43 [==============================] - 2s 43ms/step - loss: 0.1577 - tp: 102.0000 - fp: 7.0000 - tn: 212.0000 - fn: 19.0000 - accuracy: 0.9235 - precision: 0.9358 - recall: 0.8430 - auc: 0.9825 - val_loss: 1.1904 - val_tp: 28.0000 - val_fp: 1.0000 - val_tn: 66.0000 - val_fn: 19.0000 - val_accuracy: 0.8246 - val_precision: 0.9655 - val_recall: 0.5957 - val_auc: 0.8584\n",
      "Epoch 49/100\n",
      "43/43 [==============================] - 2s 41ms/step - loss: 0.1589 - tp: 112.0000 - fp: 11.0000 - tn: 208.0000 - fn: 9.0000 - accuracy: 0.9412 - precision: 0.9106 - recall: 0.9256 - auc: 0.9829 - val_loss: 0.2584 - val_tp: 36.0000 - val_fp: 0.0000e+00 - val_tn: 67.0000 - val_fn: 11.0000 - val_accuracy: 0.9035 - val_precision: 1.0000 - val_recall: 0.7660 - val_auc: 0.9821\n",
      "Epoch 50/100\n",
      "43/43 [==============================] - 2s 41ms/step - loss: 0.1891 - tp: 109.0000 - fp: 14.0000 - tn: 205.0000 - fn: 12.0000 - accuracy: 0.9235 - precision: 0.8862 - recall: 0.9008 - auc: 0.9762 - val_loss: 0.3357 - val_tp: 47.0000 - val_fp: 18.0000 - val_tn: 49.0000 - val_fn: 0.0000e+00 - val_accuracy: 0.8421 - val_precision: 0.7231 - val_recall: 1.0000 - val_auc: 0.9876\n",
      "Epoch 51/100\n",
      "43/43 [==============================] - 2s 42ms/step - loss: 0.1866 - tp: 112.0000 - fp: 12.0000 - tn: 207.0000 - fn: 9.0000 - accuracy: 0.9382 - precision: 0.9032 - recall: 0.9256 - auc: 0.9779 - val_loss: 0.5848 - val_tp: 12.0000 - val_fp: 0.0000e+00 - val_tn: 67.0000 - val_fn: 35.0000 - val_accuracy: 0.6930 - val_precision: 1.0000 - val_recall: 0.2553 - val_auc: 0.9744\n",
      "Epoch 52/100\n",
      "43/43 [==============================] - 2s 44ms/step - loss: 0.1709 - tp: 104.0000 - fp: 11.0000 - tn: 208.0000 - fn: 17.0000 - accuracy: 0.9176 - precision: 0.9043 - recall: 0.8595 - auc: 0.9803 - val_loss: 0.3974 - val_tp: 20.0000 - val_fp: 0.0000e+00 - val_tn: 67.0000 - val_fn: 27.0000 - val_accuracy: 0.7632 - val_precision: 1.0000 - val_recall: 0.4255 - val_auc: 0.9743\n",
      "Epoch 53/100\n",
      "43/43 [==============================] - 2s 45ms/step - loss: 0.1445 - tp: 111.0000 - fp: 8.0000 - tn: 211.0000 - fn: 10.0000 - accuracy: 0.9471 - precision: 0.9328 - recall: 0.9174 - auc: 0.9864 - val_loss: 0.2304 - val_tp: 41.0000 - val_fp: 0.0000e+00 - val_tn: 67.0000 - val_fn: 6.0000 - val_accuracy: 0.9474 - val_precision: 1.0000 - val_recall: 0.8723 - val_auc: 0.9790\n",
      "Epoch 54/100\n",
      "43/43 [==============================] - 2s 43ms/step - loss: 0.1597 - tp: 111.0000 - fp: 12.0000 - tn: 207.0000 - fn: 10.0000 - accuracy: 0.9353 - precision: 0.9024 - recall: 0.9174 - auc: 0.9833 - val_loss: 0.2220 - val_tp: 36.0000 - val_fp: 0.0000e+00 - val_tn: 67.0000 - val_fn: 11.0000 - val_accuracy: 0.9035 - val_precision: 1.0000 - val_recall: 0.7660 - val_auc: 0.9876\n",
      "Epoch 55/100\n",
      "43/43 [==============================] - 2s 42ms/step - loss: 0.1605 - tp: 113.0000 - fp: 10.0000 - tn: 209.0000 - fn: 8.0000 - accuracy: 0.9471 - precision: 0.9187 - recall: 0.9339 - auc: 0.9823 - val_loss: 0.2885 - val_tp: 36.0000 - val_fp: 0.0000e+00 - val_tn: 67.0000 - val_fn: 11.0000 - val_accuracy: 0.9035 - val_precision: 1.0000 - val_recall: 0.7660 - val_auc: 0.9714\n",
      "Epoch 56/100\n",
      "43/43 [==============================] - 2s 42ms/step - loss: 0.1592 - tp: 110.0000 - fp: 9.0000 - tn: 210.0000 - fn: 11.0000 - accuracy: 0.9412 - precision: 0.9244 - recall: 0.9091 - auc: 0.9825 - val_loss: 0.4331 - val_tp: 46.0000 - val_fp: 25.0000 - val_tn: 42.0000 - val_fn: 1.0000 - val_accuracy: 0.7719 - val_precision: 0.6479 - val_recall: 0.9787 - val_auc: 0.9825\n",
      "Epoch 57/100\n",
      "43/43 [==============================] - 2s 43ms/step - loss: 0.1678 - tp: 106.0000 - fp: 7.0000 - tn: 212.0000 - fn: 15.0000 - accuracy: 0.9353 - precision: 0.9381 - recall: 0.8760 - auc: 0.9820 - val_loss: 0.3490 - val_tp: 29.0000 - val_fp: 0.0000e+00 - val_tn: 67.0000 - val_fn: 18.0000 - val_accuracy: 0.8421 - val_precision: 1.0000 - val_recall: 0.6170 - val_auc: 0.9622\n",
      "Epoch 58/100\n",
      "43/43 [==============================] - 2s 43ms/step - loss: 0.2451 - tp: 101.0000 - fp: 14.0000 - tn: 205.0000 - fn: 20.0000 - accuracy: 0.9000 - precision: 0.8783 - recall: 0.8347 - auc: 0.9593 - val_loss: 1.1077 - val_tp: 5.0000 - val_fp: 0.0000e+00 - val_tn: 67.0000 - val_fn: 42.0000 - val_accuracy: 0.6316 - val_precision: 1.0000 - val_recall: 0.1064 - val_auc: 0.9844\n",
      "Epoch 59/100\n",
      "43/43 [==============================] - 2s 43ms/step - loss: 0.2291 - tp: 105.0000 - fp: 17.0000 - tn: 202.0000 - fn: 16.0000 - accuracy: 0.9029 - precision: 0.8607 - recall: 0.8678 - auc: 0.9643 - val_loss: 0.6675 - val_tp: 47.0000 - val_fp: 32.0000 - val_tn: 35.0000 - val_fn: 0.0000e+00 - val_accuracy: 0.7193 - val_precision: 0.5949 - val_recall: 1.0000 - val_auc: 0.9851\n",
      "Epoch 60/100\n",
      "43/43 [==============================] - 2s 42ms/step - loss: 0.1771 - tp: 114.0000 - fp: 14.0000 - tn: 205.0000 - fn: 7.0000 - accuracy: 0.9382 - precision: 0.8906 - recall: 0.9421 - auc: 0.9790 - val_loss: 0.2121 - val_tp: 42.0000 - val_fp: 0.0000e+00 - val_tn: 67.0000 - val_fn: 5.0000 - val_accuracy: 0.9561 - val_precision: 1.0000 - val_recall: 0.8936 - val_auc: 0.9863\n",
      "Epoch 61/100\n",
      "43/43 [==============================] - 2s 43ms/step - loss: 0.1974 - tp: 104.0000 - fp: 15.0000 - tn: 204.0000 - fn: 17.0000 - accuracy: 0.9059 - precision: 0.8739 - recall: 0.8595 - auc: 0.9740 - val_loss: 2.8062 - val_tp: 1.0000 - val_fp: 0.0000e+00 - val_tn: 67.0000 - val_fn: 46.0000 - val_accuracy: 0.5965 - val_precision: 1.0000 - val_recall: 0.0213 - val_auc: 0.5638\n",
      "Epoch 62/100\n",
      "43/43 [==============================] - 2s 44ms/step - loss: 0.2046 - tp: 109.0000 - fp: 12.0000 - tn: 207.0000 - fn: 12.0000 - accuracy: 0.9294 - precision: 0.9008 - recall: 0.9008 - auc: 0.9731 - val_loss: 0.1898 - val_tp: 42.0000 - val_fp: 2.0000 - val_tn: 65.0000 - val_fn: 5.0000 - val_accuracy: 0.9386 - val_precision: 0.9545 - val_recall: 0.8936 - val_auc: 0.9782\n",
      "Epoch 63/100\n",
      "43/43 [==============================] - 2s 45ms/step - loss: 0.1486 - tp: 111.0000 - fp: 7.0000 - tn: 212.0000 - fn: 10.0000 - accuracy: 0.9500 - precision: 0.9407 - recall: 0.9174 - auc: 0.9858 - val_loss: 0.2730 - val_tp: 46.0000 - val_fp: 11.0000 - val_tn: 56.0000 - val_fn: 1.0000 - val_accuracy: 0.8947 - val_precision: 0.8070 - val_recall: 0.9787 - val_auc: 0.9776\n",
      "Epoch 64/100\n"
     ]
    },
    {
     "name": "stdout",
     "output_type": "stream",
     "text": [
      "43/43 [==============================] - 2s 43ms/step - loss: 0.1312 - tp: 111.0000 - fp: 4.0000 - tn: 215.0000 - fn: 10.0000 - accuracy: 0.9588 - precision: 0.9652 - recall: 0.9174 - auc: 0.9882 - val_loss: 0.2158 - val_tp: 46.0000 - val_fp: 7.0000 - val_tn: 60.0000 - val_fn: 1.0000 - val_accuracy: 0.9298 - val_precision: 0.8679 - val_recall: 0.9787 - val_auc: 0.9819\n",
      "Epoch 65/100\n",
      "43/43 [==============================] - 2s 42ms/step - loss: 0.2101 - tp: 109.0000 - fp: 16.0000 - tn: 203.0000 - fn: 12.0000 - accuracy: 0.9176 - precision: 0.8720 - recall: 0.9008 - auc: 0.9752 - val_loss: 0.2238 - val_tp: 44.0000 - val_fp: 5.0000 - val_tn: 62.0000 - val_fn: 3.0000 - val_accuracy: 0.9298 - val_precision: 0.8980 - val_recall: 0.9362 - val_auc: 0.9833\n",
      "Epoch 66/100\n",
      "43/43 [==============================] - 2s 42ms/step - loss: 0.1521 - tp: 112.0000 - fp: 9.0000 - tn: 210.0000 - fn: 9.0000 - accuracy: 0.9471 - precision: 0.9256 - recall: 0.9256 - auc: 0.9834 - val_loss: 0.4358 - val_tp: 16.0000 - val_fp: 0.0000e+00 - val_tn: 67.0000 - val_fn: 31.0000 - val_accuracy: 0.7281 - val_precision: 1.0000 - val_recall: 0.3404 - val_auc: 0.9829\n",
      "Epoch 67/100\n",
      "43/43 [==============================] - 2s 42ms/step - loss: 0.1330 - tp: 111.0000 - fp: 5.0000 - tn: 214.0000 - fn: 10.0000 - accuracy: 0.9559 - precision: 0.9569 - recall: 0.9174 - auc: 0.9859 - val_loss: 0.3596 - val_tp: 47.0000 - val_fp: 23.0000 - val_tn: 44.0000 - val_fn: 0.0000e+00 - val_accuracy: 0.7982 - val_precision: 0.6714 - val_recall: 1.0000 - val_auc: 0.9878\n",
      "Epoch 68/100\n",
      "43/43 [==============================] - 2s 43ms/step - loss: 0.2384 - tp: 105.0000 - fp: 13.0000 - tn: 206.0000 - fn: 16.0000 - accuracy: 0.9147 - precision: 0.8898 - recall: 0.8678 - auc: 0.9643 - val_loss: 0.2067 - val_tp: 41.0000 - val_fp: 2.0000 - val_tn: 65.0000 - val_fn: 6.0000 - val_accuracy: 0.9298 - val_precision: 0.9535 - val_recall: 0.8723 - val_auc: 0.9913\n",
      "Epoch 69/100\n",
      "43/43 [==============================] - 2s 44ms/step - loss: 0.2243 - tp: 110.0000 - fp: 12.0000 - tn: 207.0000 - fn: 11.0000 - accuracy: 0.9324 - precision: 0.9016 - recall: 0.9091 - auc: 0.9736 - val_loss: 0.3754 - val_tp: 47.0000 - val_fp: 25.0000 - val_tn: 42.0000 - val_fn: 0.0000e+00 - val_accuracy: 0.7807 - val_precision: 0.6528 - val_recall: 1.0000 - val_auc: 0.9935\n",
      "Epoch 70/100\n",
      "43/43 [==============================] - 2s 44ms/step - loss: 0.1709 - tp: 110.0000 - fp: 14.0000 - tn: 205.0000 - fn: 11.0000 - accuracy: 0.9265 - precision: 0.8871 - recall: 0.9091 - auc: 0.9814 - val_loss: 0.3567 - val_tp: 47.0000 - val_fp: 22.0000 - val_tn: 45.0000 - val_fn: 0.0000e+00 - val_accuracy: 0.8070 - val_precision: 0.6812 - val_recall: 1.0000 - val_auc: 0.9905\n",
      "Epoch 71/100\n",
      "43/43 [==============================] - 2s 42ms/step - loss: 0.1614 - tp: 109.0000 - fp: 9.0000 - tn: 210.0000 - fn: 12.0000 - accuracy: 0.9382 - precision: 0.9237 - recall: 0.9008 - auc: 0.9827 - val_loss: 0.4360 - val_tp: 47.0000 - val_fp: 24.0000 - val_tn: 43.0000 - val_fn: 0.0000e+00 - val_accuracy: 0.7895 - val_precision: 0.6620 - val_recall: 1.0000 - val_auc: 0.9824\n",
      "Epoch 72/100\n",
      "43/43 [==============================] - 2s 42ms/step - loss: 0.2326 - tp: 108.0000 - fp: 14.0000 - tn: 205.0000 - fn: 13.0000 - accuracy: 0.9206 - precision: 0.8852 - recall: 0.8926 - auc: 0.9609 - val_loss: 0.7889 - val_tp: 47.0000 - val_fp: 40.0000 - val_tn: 27.0000 - val_fn: 0.0000e+00 - val_accuracy: 0.6491 - val_precision: 0.5402 - val_recall: 1.0000 - val_auc: 0.9825\n",
      "Epoch 73/100\n",
      "43/43 [==============================] - 2s 42ms/step - loss: 0.1562 - tp: 111.0000 - fp: 14.0000 - tn: 205.0000 - fn: 10.0000 - accuracy: 0.9294 - precision: 0.8880 - recall: 0.9174 - auc: 0.9843 - val_loss: 0.3107 - val_tp: 47.0000 - val_fp: 19.0000 - val_tn: 48.0000 - val_fn: 0.0000e+00 - val_accuracy: 0.8333 - val_precision: 0.7121 - val_recall: 1.0000 - val_auc: 0.9913\n",
      "Epoch 74/100\n",
      "43/43 [==============================] - 2s 43ms/step - loss: 0.1441 - tp: 108.0000 - fp: 7.0000 - tn: 212.0000 - fn: 13.0000 - accuracy: 0.9412 - precision: 0.9391 - recall: 0.8926 - auc: 0.9866 - val_loss: 0.1859 - val_tp: 45.0000 - val_fp: 6.0000 - val_tn: 61.0000 - val_fn: 2.0000 - val_accuracy: 0.9298 - val_precision: 0.8824 - val_recall: 0.9574 - val_auc: 0.9814\n",
      "Epoch 75/100\n",
      "43/43 [==============================] - 2s 43ms/step - loss: 0.2431 - tp: 104.0000 - fp: 8.0000 - tn: 211.0000 - fn: 17.0000 - accuracy: 0.9265 - precision: 0.9286 - recall: 0.8595 - auc: 0.9578 - val_loss: 0.1219 - val_tp: 46.0000 - val_fp: 2.0000 - val_tn: 65.0000 - val_fn: 1.0000 - val_accuracy: 0.9737 - val_precision: 0.9583 - val_recall: 0.9787 - val_auc: 0.9932\n",
      "Epoch 76/100\n",
      "43/43 [==============================] - 2s 43ms/step - loss: 0.1482 - tp: 112.0000 - fp: 17.0000 - tn: 202.0000 - fn: 9.0000 - accuracy: 0.9235 - precision: 0.8682 - recall: 0.9256 - auc: 0.9876 - val_loss: 0.1461 - val_tp: 44.0000 - val_fp: 2.0000 - val_tn: 65.0000 - val_fn: 3.0000 - val_accuracy: 0.9561 - val_precision: 0.9565 - val_recall: 0.9362 - val_auc: 0.9898\n",
      "Epoch 77/100\n",
      "43/43 [==============================] - 2s 41ms/step - loss: 0.1242 - tp: 114.0000 - fp: 9.0000 - tn: 210.0000 - fn: 7.0000 - accuracy: 0.9529 - precision: 0.9268 - recall: 0.9421 - auc: 0.9913 - val_loss: 0.3053 - val_tp: 47.0000 - val_fp: 14.0000 - val_tn: 53.0000 - val_fn: 0.0000e+00 - val_accuracy: 0.8772 - val_precision: 0.7705 - val_recall: 1.0000 - val_auc: 0.9925\n",
      "Epoch 78/100\n",
      "43/43 [==============================] - 2s 42ms/step - loss: 0.2028 - tp: 111.0000 - fp: 15.0000 - tn: 204.0000 - fn: 10.0000 - accuracy: 0.9265 - precision: 0.8810 - recall: 0.9174 - auc: 0.9727 - val_loss: 0.1931 - val_tp: 41.0000 - val_fp: 1.0000 - val_tn: 66.0000 - val_fn: 6.0000 - val_accuracy: 0.9386 - val_precision: 0.9762 - val_recall: 0.8723 - val_auc: 0.9836\n",
      "Epoch 79/100\n",
      "43/43 [==============================] - 2s 44ms/step - loss: 0.1736 - tp: 109.0000 - fp: 12.0000 - tn: 207.0000 - fn: 12.0000 - accuracy: 0.9294 - precision: 0.9008 - recall: 0.9008 - auc: 0.9797 - val_loss: 0.3925 - val_tp: 25.0000 - val_fp: 0.0000e+00 - val_tn: 67.0000 - val_fn: 22.0000 - val_accuracy: 0.8070 - val_precision: 1.0000 - val_recall: 0.5319 - val_auc: 0.9813\n",
      "Epoch 80/100\n",
      "43/43 [==============================] - 2s 44ms/step - loss: 0.1899 - tp: 105.0000 - fp: 9.0000 - tn: 210.0000 - fn: 16.0000 - accuracy: 0.9265 - precision: 0.9211 - recall: 0.8678 - auc: 0.9731 - val_loss: 1.1723 - val_tp: 5.0000 - val_fp: 0.0000e+00 - val_tn: 67.0000 - val_fn: 42.0000 - val_accuracy: 0.6316 - val_precision: 1.0000 - val_recall: 0.1064 - val_auc: 0.9719\n",
      "Epoch 81/100\n",
      "43/43 [==============================] - 2s 44ms/step - loss: 0.1901 - tp: 111.0000 - fp: 9.0000 - tn: 210.0000 - fn: 10.0000 - accuracy: 0.9441 - precision: 0.9250 - recall: 0.9174 - auc: 0.9722 - val_loss: 1.4030 - val_tp: 4.0000 - val_fp: 0.0000e+00 - val_tn: 67.0000 - val_fn: 43.0000 - val_accuracy: 0.6228 - val_precision: 1.0000 - val_recall: 0.0851 - val_auc: 0.9571\n",
      "Epoch 82/100\n",
      "43/43 [==============================] - 2s 41ms/step - loss: 0.2257 - tp: 108.0000 - fp: 14.0000 - tn: 205.0000 - fn: 13.0000 - accuracy: 0.9206 - precision: 0.8852 - recall: 0.8926 - auc: 0.9655 - val_loss: 1.3603 - val_tp: 6.0000 - val_fp: 0.0000e+00 - val_tn: 67.0000 - val_fn: 41.0000 - val_accuracy: 0.6404 - val_precision: 1.0000 - val_recall: 0.1277 - val_auc: 0.9630\n",
      "Epoch 83/100\n",
      "43/43 [==============================] - 2s 41ms/step - loss: 0.2527 - tp: 102.0000 - fp: 14.0000 - tn: 205.0000 - fn: 19.0000 - accuracy: 0.9029 - precision: 0.8793 - recall: 0.8430 - auc: 0.9591 - val_loss: 1.0622 - val_tp: 2.0000 - val_fp: 0.0000e+00 - val_tn: 67.0000 - val_fn: 45.0000 - val_accuracy: 0.6053 - val_precision: 1.0000 - val_recall: 0.0426 - val_auc: 0.9805\n",
      "Epoch 84/100\n",
      "43/43 [==============================] - 2s 42ms/step - loss: 0.2337 - tp: 101.0000 - fp: 10.0000 - tn: 209.0000 - fn: 20.0000 - accuracy: 0.9118 - precision: 0.9099 - recall: 0.8347 - auc: 0.9637 - val_loss: 0.2661 - val_tp: 41.0000 - val_fp: 3.0000 - val_tn: 64.0000 - val_fn: 6.0000 - val_accuracy: 0.9211 - val_precision: 0.9318 - val_recall: 0.8723 - val_auc: 0.9832\n",
      "Epoch 85/100\n"
     ]
    },
    {
     "name": "stdout",
     "output_type": "stream",
     "text": [
      "43/43 [==============================] - 2s 43ms/step - loss: 0.1626 - tp: 111.0000 - fp: 10.0000 - tn: 209.0000 - fn: 10.0000 - accuracy: 0.9412 - precision: 0.9174 - recall: 0.9174 - auc: 0.9827 - val_loss: 0.8125 - val_tp: 11.0000 - val_fp: 0.0000e+00 - val_tn: 67.0000 - val_fn: 36.0000 - val_accuracy: 0.6842 - val_precision: 1.0000 - val_recall: 0.2340 - val_auc: 0.9814\n",
      "Epoch 86/100\n",
      "43/43 [==============================] - 2s 43ms/step - loss: 0.1769 - tp: 114.0000 - fp: 17.0000 - tn: 202.0000 - fn: 7.0000 - accuracy: 0.9294 - precision: 0.8702 - recall: 0.9421 - auc: 0.9785 - val_loss: 0.1635 - val_tp: 42.0000 - val_fp: 1.0000 - val_tn: 66.0000 - val_fn: 5.0000 - val_accuracy: 0.9474 - val_precision: 0.9767 - val_recall: 0.8936 - val_auc: 0.9836\n",
      "Epoch 87/100\n",
      "43/43 [==============================] - 2s 43ms/step - loss: 0.1877 - tp: 107.0000 - fp: 9.0000 - tn: 210.0000 - fn: 14.0000 - accuracy: 0.9324 - precision: 0.9224 - recall: 0.8843 - auc: 0.9756 - val_loss: 0.3019 - val_tp: 34.0000 - val_fp: 0.0000e+00 - val_tn: 67.0000 - val_fn: 13.0000 - val_accuracy: 0.8860 - val_precision: 1.0000 - val_recall: 0.7234 - val_auc: 0.9921\n",
      "Epoch 88/100\n",
      "43/43 [==============================] - 2s 43ms/step - loss: 0.1284 - tp: 112.0000 - fp: 9.0000 - tn: 210.0000 - fn: 9.0000 - accuracy: 0.9471 - precision: 0.9256 - recall: 0.9256 - auc: 0.9902 - val_loss: 0.5229 - val_tp: 18.0000 - val_fp: 0.0000e+00 - val_tn: 67.0000 - val_fn: 29.0000 - val_accuracy: 0.7456 - val_precision: 1.0000 - val_recall: 0.3830 - val_auc: 0.9811\n",
      "Epoch 89/100\n",
      "43/43 [==============================] - 2s 43ms/step - loss: 0.1529 - tp: 118.0000 - fp: 14.0000 - tn: 205.0000 - fn: 3.0000 - accuracy: 0.9500 - precision: 0.8939 - recall: 0.9752 - auc: 0.9834 - val_loss: 0.1242 - val_tp: 43.0000 - val_fp: 0.0000e+00 - val_tn: 67.0000 - val_fn: 4.0000 - val_accuracy: 0.9649 - val_precision: 1.0000 - val_recall: 0.9149 - val_auc: 0.9894\n",
      "Epoch 90/100\n",
      "43/43 [==============================] - 2s 43ms/step - loss: 0.1303 - tp: 112.0000 - fp: 7.0000 - tn: 212.0000 - fn: 9.0000 - accuracy: 0.9529 - precision: 0.9412 - recall: 0.9256 - auc: 0.9903 - val_loss: 0.5672 - val_tp: 14.0000 - val_fp: 0.0000e+00 - val_tn: 67.0000 - val_fn: 33.0000 - val_accuracy: 0.7105 - val_precision: 1.0000 - val_recall: 0.2979 - val_auc: 0.9736\n",
      "Epoch 91/100\n",
      "43/43 [==============================] - 2s 44ms/step - loss: 0.1938 - tp: 105.0000 - fp: 8.0000 - tn: 211.0000 - fn: 16.0000 - accuracy: 0.9294 - precision: 0.9292 - recall: 0.8678 - auc: 0.9742 - val_loss: 0.1922 - val_tp: 42.0000 - val_fp: 2.0000 - val_tn: 65.0000 - val_fn: 5.0000 - val_accuracy: 0.9386 - val_precision: 0.9545 - val_recall: 0.8936 - val_auc: 0.9760\n",
      "Epoch 92/100\n",
      "43/43 [==============================] - 2s 43ms/step - loss: 0.1719 - tp: 111.0000 - fp: 11.0000 - tn: 208.0000 - fn: 10.0000 - accuracy: 0.9382 - precision: 0.9098 - recall: 0.9174 - auc: 0.9804 - val_loss: 0.3690 - val_tp: 46.0000 - val_fp: 19.0000 - val_tn: 48.0000 - val_fn: 1.0000 - val_accuracy: 0.8246 - val_precision: 0.7077 - val_recall: 0.9787 - val_auc: 0.9765\n",
      "Epoch 93/100\n",
      "43/43 [==============================] - 2s 42ms/step - loss: 0.2087 - tp: 110.0000 - fp: 14.0000 - tn: 205.0000 - fn: 11.0000 - accuracy: 0.9265 - precision: 0.8871 - recall: 0.9091 - auc: 0.9698 - val_loss: 0.2336 - val_tp: 40.0000 - val_fp: 2.0000 - val_tn: 65.0000 - val_fn: 7.0000 - val_accuracy: 0.9211 - val_precision: 0.9524 - val_recall: 0.8511 - val_auc: 0.9867\n",
      "Epoch 94/100\n",
      "43/43 [==============================] - 2s 41ms/step - loss: 0.1575 - tp: 111.0000 - fp: 8.0000 - tn: 211.0000 - fn: 10.0000 - accuracy: 0.9471 - precision: 0.9328 - recall: 0.9174 - auc: 0.9803 - val_loss: 0.3669 - val_tp: 22.0000 - val_fp: 0.0000e+00 - val_tn: 67.0000 - val_fn: 25.0000 - val_accuracy: 0.7807 - val_precision: 1.0000 - val_recall: 0.4681 - val_auc: 0.9854\n",
      "Epoch 95/100\n",
      "43/43 [==============================] - 2s 41ms/step - loss: 0.1337 - tp: 110.0000 - fp: 5.0000 - tn: 214.0000 - fn: 11.0000 - accuracy: 0.9529 - precision: 0.9565 - recall: 0.9091 - auc: 0.9878 - val_loss: 0.6614 - val_tp: 11.0000 - val_fp: 0.0000e+00 - val_tn: 67.0000 - val_fn: 36.0000 - val_accuracy: 0.6842 - val_precision: 1.0000 - val_recall: 0.2340 - val_auc: 0.9721\n",
      "Epoch 96/100\n",
      "43/43 [==============================] - 2s 44ms/step - loss: 0.1683 - tp: 109.0000 - fp: 7.0000 - tn: 212.0000 - fn: 12.0000 - accuracy: 0.9441 - precision: 0.9397 - recall: 0.9008 - auc: 0.9778 - val_loss: 0.2044 - val_tp: 39.0000 - val_fp: 1.0000 - val_tn: 66.0000 - val_fn: 8.0000 - val_accuracy: 0.9211 - val_precision: 0.9750 - val_recall: 0.8298 - val_auc: 0.9865\n",
      "Epoch 97/100\n",
      "43/43 [==============================] - 2s 44ms/step - loss: 0.1601 - tp: 106.0000 - fp: 9.0000 - tn: 210.0000 - fn: 15.0000 - accuracy: 0.9294 - precision: 0.9217 - recall: 0.8760 - auc: 0.9820 - val_loss: 0.1943 - val_tp: 41.0000 - val_fp: 1.0000 - val_tn: 66.0000 - val_fn: 6.0000 - val_accuracy: 0.9386 - val_precision: 0.9762 - val_recall: 0.8723 - val_auc: 0.9784\n",
      "Epoch 98/100\n",
      "43/43 [==============================] - 2s 44ms/step - loss: 0.1402 - tp: 113.0000 - fp: 10.0000 - tn: 209.0000 - fn: 8.0000 - accuracy: 0.9471 - precision: 0.9187 - recall: 0.9339 - auc: 0.9862 - val_loss: 0.5930 - val_tp: 16.0000 - val_fp: 0.0000e+00 - val_tn: 67.0000 - val_fn: 31.0000 - val_accuracy: 0.7281 - val_precision: 1.0000 - val_recall: 0.3404 - val_auc: 0.9740\n",
      "Epoch 99/100\n",
      "43/43 [==============================] - 2s 41ms/step - loss: 0.1577 - tp: 111.0000 - fp: 12.0000 - tn: 207.0000 - fn: 10.0000 - accuracy: 0.9353 - precision: 0.9024 - recall: 0.9174 - auc: 0.9837 - val_loss: 0.9797 - val_tp: 9.0000 - val_fp: 0.0000e+00 - val_tn: 67.0000 - val_fn: 38.0000 - val_accuracy: 0.6667 - val_precision: 1.0000 - val_recall: 0.1915 - val_auc: 0.9657\n",
      "Epoch 100/100\n",
      "43/43 [==============================] - 2s 42ms/step - loss: 0.1835 - tp: 110.0000 - fp: 12.0000 - tn: 207.0000 - fn: 11.0000 - accuracy: 0.9324 - precision: 0.9016 - recall: 0.9091 - auc: 0.9772 - val_loss: 0.3371 - val_tp: 45.0000 - val_fp: 16.0000 - val_tn: 51.0000 - val_fn: 2.0000 - val_accuracy: 0.8421 - val_precision: 0.7377 - val_recall: 0.9574 - val_auc: 0.9541\n"
     ]
    }
   ],
   "source": [
    "model_history=model.fit(\n",
    "    x=[X_train_num, X_train_img], y=y_train,\n",
    "    validation_data=([X_val_num, X_val_img], y_val),\n",
    "    epochs=100 , \n",
    "    batch_size=8,\n",
    "    #steps_per_epoch = X_train_num.shape[0]//batch_size,\n",
    "    #validation_steps = X_train_num.shape[0]//batch_size,\n",
    "    #callbacks=[early_stopping]\n",
    ")"
   ]
  },
  {
   "cell_type": "code",
   "execution_count": 70,
   "metadata": {},
   "outputs": [
    {
     "name": "stdout",
     "output_type": "stream",
     "text": [
      "dict_keys(['loss', 'tp', 'fp', 'tn', 'fn', 'accuracy', 'precision', 'recall', 'auc', 'val_loss', 'val_tp', 'val_fp', 'val_tn', 'val_fn', 'val_accuracy', 'val_precision', 'val_recall', 'val_auc'])\n"
     ]
    }
   ],
   "source": [
    "print(model_history.history.keys())"
   ]
  },
  {
   "cell_type": "markdown",
   "metadata": {},
   "source": [
    "<a id=\"section6\"></a>\n",
    "# <font color=\"#004D7F\" size=6> 6. Results</font>"
   ]
  },
  {
   "cell_type": "code",
   "execution_count": 71,
   "metadata": {},
   "outputs": [
    {
     "data": {
      "image/png": "[encoded data removed]",
      "text/plain": [
       "<Figure size 640x480 with 1 Axes>"
      ]
     },
     "metadata": {},
     "output_type": "display_data"
    }
   ],
   "source": [
    "plt.plot(model_history.history['loss'], color = 'red', label = 'loss')\n",
    "plt.plot(model_history.history['val_loss'], color = 'green', label = 'val loss')\n",
    "plt.legend(loc = 'upper right')\n",
    "plt.show()"
   ]
  },
  {
   "cell_type": "code",
   "execution_count": 72,
   "metadata": {},
   "outputs": [
    {
     "data": {
      "image/png": "[encoded data removed]",
      "text/plain": [
       "<Figure size 640x480 with 1 Axes>"
      ]
     },
     "metadata": {},
     "output_type": "display_data"
    }
   ],
   "source": [
    "plt.plot(model_history.history['accuracy'], color = 'red', label = 'accuracy')\n",
    "plt.plot(model_history.history['val_accuracy'], color = 'green', label = 'val accuracy')\n",
    "plt.legend(loc = 'upper right')\n",
    "plt.show()"
   ]
  },
  {
   "cell_type": "code",
   "execution_count": null,
   "metadata": {},
   "outputs": [],
   "source": [
    "prediction = model.predict([X_test_num,X_test_img],)\n",
    "real_values= df_test[\"values\"].values"
   ]
  },
  {
   "cell_type": "code",
   "execution_count": null,
   "metadata": {},
   "outputs": [],
   "source": []
  },
  {
   "cell_type": "markdown",
   "metadata": {
    "id": "0ciBS76mpjGU"
   },
   "source": [
    "<div style=\"text-align: right\"> <font size=5> <a href=\"#indice\"><i class=\"fa fa-arrow-circle-up\" aria-hidden=\"true\" style=\"color:#004D7F\"></i></a></font></div>\n",
    "\n",
    "---\n",
    "\n",
    "<div style=\"text-align: right\"> <font size=6><i class=\"fa fa-coffee\" aria-hidden=\"true\" style=\"color:#004D7F\"></i> </font></div>"
   ]
  },
  {
   "cell_type": "code",
   "execution_count": null,
   "metadata": {},
   "outputs": [],
   "source": []
  },
  {
   "cell_type": "code",
   "execution_count": null,
   "metadata": {},
   "outputs": [],
   "source": []
  },
  {
   "cell_type": "code",
   "execution_count": null,
   "metadata": {},
   "outputs": [],
   "source": []
  }
 ],
 "metadata": {
  "colab": {
   "provenance": [
    {
     "file_id": "1plFq1CpEXIdc9LankaLPiOObRg0_y5l2",
     "timestamp": 1684250343977
    }
   ]
  },
  "kernelspec": {
   "display_name": "Python 3 (ipykernel)",
   "language": "python",
   "name": "python3"
  },
  "language_info": {
   "codemirror_mode": {
    "name": "ipython",
    "version": 3
   },
   "file_extension": ".py",
   "mimetype": "text/x-python",
   "name": "python",
   "nbconvert_exporter": "python",
   "pygments_lexer": "ipython3",
   "version": "3.10.9"
  }
 },
 "nbformat": 4,
 "nbformat_minor": 1
}
