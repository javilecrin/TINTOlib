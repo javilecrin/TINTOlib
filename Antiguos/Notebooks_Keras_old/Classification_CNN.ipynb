{
 "cells": [
  {
   "cell_type": "markdown",
   "metadata": {
    "id": "EybOZ6hSjpCF"
   },
   "source": [
    "<h1><font color=\"#113D68\" size=6>TINTOlib: Converting Tidy Data into Image for 2-Dimensional Convolutional Neural Networks</font></h1>\n",
    "\n",
    "<h1><font color=\"#113D68\" size=5>Template Classification Machine Learning problem with a CNN</font></h1>\n",
    "\n",
    "<br><br>\n",
    "<div style=\"text-align: right\">\n",
    "<font color=\"#113D68\" size=3>Manuel Castillo-Cara</font><br>\n",
    "<font color=\"#113D68\" size=3>Raúl García-Castro</font><br>\n",
    "\n",
    "</div>\n",
    "\n",
    "---"
   ]
  },
  {
   "cell_type": "markdown",
   "metadata": {
    "id": "i3tgsO0BjpCj"
   },
   "source": [
    "<div class=\"alert alert-block alert-info\">\n",
    "    \n",
    "<i class=\"fa fa-info-circle\" aria-hidden=\"true\"></i>\n",
    "More information about [Manuel Castillo-Cara](https://www.manuelcastillo.eu/)"
   ]
  },
  {
   "cell_type": "markdown",
   "metadata": {
    "id": "i3tgsO0BjpCj"
   },
   "source": [
    "<div class=\"alert alert-block alert-info\">\n",
    "    \n",
    "<i class=\"fa fa-info-circle\" aria-hidden=\"true\"></i>\n",
    "More information about [Raúl García-Castro](http://www.garcia-castro.com/)"
   ]
  },
  {
   "cell_type": "markdown",
   "metadata": {
    "id": "2l5nFzsdjpCW"
   },
   "source": [
    "---\n",
    "\n",
    "<a id=\"indice\"></a>\n",
    "<h2><font color=\"#004D7F\" size=5>Index</font></h2>\n",
    "\n",
    "* [0. Context](#section0)\n",
    "* [1. Description](#section1)\n",
    "    * [1.1. Main Features](#section11)\n",
    "    * [1.2. Citation](#section12)\n",
    "    * [1.3. Documentation and License](#section13)\n",
    "* [2. Libraries](#section2)\n",
    "    * [2.1. System setup](#section21)\n",
    "    * [2.2. Invoke the libraries](#section22)\n",
    "* [3. Data processing](#section3)\n",
    "    * [3.1. TINTOlib methods](#section31)\n",
    "    * [3.2. Read the dataset](#section32)\n",
    "    * [3.3. Generate images](#section33)\n",
    "    * [3.4. Read images](#section34)\n",
    "* [4. Pre-modelling phase](#section4)\n",
    "    * [4.1. Data curation](#section41)\n",
    "    * [4.2. Resize Images](#section42)\n",
    "    * [4.3. Iterators](#section43)\n",
    "* [5. Modelling with CNN](#section5)\n",
    "    * [5.1. CNN](#section51)\n",
    "    * [5.2. Compile and fit](#section52)\n",
    "* [6. Results](#section6)\n",
    "    * [6.1. Train/Validation representation](#section61)\n",
    "    * [6.2. Validation/Test evaluation](#section62)\n",
    "    * [6.3. Sklearn metrics evaluation](#section63)"
   ]
  },
  {
   "cell_type": "markdown",
   "metadata": {
    "id": "SxTpMExHjpCa"
   },
   "source": [
    "---\n",
    "<a id=\"section0\"></a>\n",
    "# <font color=\"#004D7F\" size=6> 0. Context</font>"
   ]
  },
  {
   "cell_type": "markdown",
   "metadata": {
    "id": "JlVYt3MRrl_V"
   },
   "source": [
    "This is a tutorial on how to read the images created by TINTO and pass them to a very simple pretrained Convolutional Neural Network (CNN). The images must already be created by the TINTOlib software. See the documentation in GITHUB for how to create the images from tabular data.\n",
    "\n",
    "Remember that when using CNN you can set the training to be done with GPUs to improve performance."
   ]
  },
  {
   "cell_type": "markdown",
   "metadata": {},
   "source": [
    "<div class=\"alert alert-block alert-info\">\n",
    "\n",
    "<i class=\"fa fa-info-circle\" aria-hidden=\"true\"></i>\n",
    "You can see all information about TINTOlib code in [GitHub](https://github.com/oeg-upm/TINTOlib)"
   ]
  },
  {
   "cell_type": "markdown",
   "metadata": {},
   "source": [
    "<div class=\"alert alert-block alert-info\">\n",
    "\n",
    "<i class=\"fa fa-info-circle\" aria-hidden=\"true\"></i>\n",
    "You can see all information about TINTOlib documentation in [PyPI](https://tintolib.readthedocs.io/en/latest/installation.html)"
   ]
  },
  {
   "cell_type": "markdown",
   "metadata": {
    "id": "4RKBgDwzjpCl"
   },
   "source": [
    "---\n",
    "<div style=\"text-align: right\"> <font size=5> <a href=\"#indice\"><i class=\"fa fa-arrow-circle-up\" aria-hidden=\"true\" style=\"color:#004D7F\"></i></a></font></div>\n",
    "\n",
    "---"
   ]
  },
  {
   "cell_type": "markdown",
   "metadata": {
    "id": "kpU7pi6yjpCn"
   },
   "source": [
    "<a id=\"section1\"></a>\n",
    "# <font color=\"#004D7F\" size=6> 1. Description</font>"
   ]
  },
  {
   "cell_type": "markdown",
   "metadata": {
    "id": "NL9RoFkEjpCq"
   },
   "source": [
    "The growing interest in the use of algorithms-based machine learning for predictive tasks has generated a large and diverse development of algorithms. However, it is widely known that not all of these algorithms are adapted to efficient solutions in certain tidy data format datasets. For this reason, novel techniques are currently being developed to convert tidy data into images with the aim of using Convolutional Neural Networks (CNNs). TINTOlib offers the opportunity to convert tidy data into images through several techniques: TINTO, IGTD, REFINED, SuperTML, BarGraph, DistanceMatrix and Combination."
   ]
  },
  {
   "cell_type": "markdown",
   "metadata": {
    "id": "HFrF4C89jpCt"
   },
   "source": [
    "---\n",
    "<a id=\"section11\"></a>\n",
    "# <font color=\"#004D7F\" size=5> 1.1. Main Features</font>"
   ]
  },
  {
   "cell_type": "markdown",
   "metadata": {
    "id": "1gruE0_sjpCu"
   },
   "source": [
    "- Supports all CSV data in **[Tidy Data](https://www.jstatsoft.org/article/view/v059i10)** format.\n",
    "- For now, the algorithm converts tabular data for binary and multi-class classification problems into machine learning.\n",
    "- Input data formats:\n",
    "    - **Tabular files**: The input data could be in **[CSV](https://en.wikipedia.org/wiki/Comma-separated_values)**, taking into account the **[Tidy Data](https://www.jstatsoft.org/article/view/v059i10)** format.\n",
    "    - **Dataframe***: The input data could be in **[Pandas Dataframe](https://pandas.pydata.org/docs/reference/api/pandas.DataFrame.html)**, taking into account the **[Tidy Data](https://www.jstatsoft.org/article/view/v059i10)** format.\n",
    "    - **Tidy Data**: The **target** (variable to be predicted) should be set as the last column of the dataset. Therefore, the first columns will be the features.\n",
    "    - All data must be in numerical form. TINTOlib does not accept data in string or any other non-numeric format.\n",
    "- Runs on **Linux**, **Windows** and **macOS** systems.\n",
    "- Compatible with **[Python](https://www.python.org/)** 3.7 or higher."
   ]
  },
  {
   "cell_type": "markdown",
   "metadata": {},
   "source": [
    "---\n",
    "<a id=\"section12\"></a>\n",
    "# <font color=\"#004D7F\" size=5> 1.2. Citation</font>"
   ]
  },
  {
   "cell_type": "markdown",
   "metadata": {},
   "source": [
    "**TINTOlib** is an python library that makes **Synthetic Images** from [Tidy Data](https://www.jstatsoft.org/article/view/v059i10) (also knows as **Tabular Data**).\n",
    "\n",
    "**Citing TINTO**: If you used TINTO in your work, please cite the **[SoftwareX](https://doi.org/10.1016/j.softx.2023.101391)**:\n",
    "\n",
    "```bib\n",
    "@article{softwarex_TINTO,\n",
    "    title = {TINTO: Converting Tidy Data into Image for Classification\n",
    "            with 2-Dimensional Convolutional Neural Networks},\n",
    "    journal = {SoftwareX},\n",
    "    author = {Manuel Castillo-Cara and Reewos Talla-Chumpitaz and\n",
    "              Raúl García-Castro and Luis Orozco-Barbosa},\n",
    "    year = {2023},\n",
    "    pages = {101391},\n",
    "    issn = {2352-7110},\n",
    "    doi = {https://doi.org/10.1016/j.softx.2023.101391}\n",
    "}\n",
    "```\n",
    "\n",
    "And use-case developed in **[INFFUS Paper](https://doi.org/10.1016/j.inffus.2022.10.011)**\n",
    "\n",
    "```bib\n",
    "@article{inffus_TINTO,\n",
    "    title = {A novel deep learning approach using blurring image\n",
    "            techniques for Bluetooth-based indoor localisation},\n",
    "    journal = {Information Fusion},\n",
    "    author = {Reewos Talla-Chumpitaz and Manuel Castillo-Cara and\n",
    "              Luis Orozco-Barbosa and Raúl García-Castro},\n",
    "    volume = {91},\n",
    "    pages = {173-186},\n",
    "    year = {2023},\n",
    "    issn = {1566-2535},\n",
    "    doi = {https://doi.org/10.1016/j.inffus.2022.10.011}\n",
    "}\n",
    "```"
   ]
  },
  {
   "cell_type": "markdown",
   "metadata": {},
   "source": [
    "---\n",
    "<a id=\"section13\"></a>\n",
    "# <font color=\"#004D7F\" size=5> 1.3. Documentation and License</font>"
   ]
  },
  {
   "cell_type": "markdown",
   "metadata": {},
   "source": [
    "TINTOlib has a wide range of documentation on both GitHub and PiPY. \n",
    "\n",
    "Moreover, TINTOlib is free and open software with Apache 2.0 license."
   ]
  },
  {
   "cell_type": "markdown",
   "metadata": {},
   "source": [
    "<div class=\"alert alert-block alert-info\">\n",
    "\n",
    "<i class=\"fa fa-info-circle\" aria-hidden=\"true\"></i>\n",
    "You can see all information about TINTOlib code in [GitHub](https://github.com/oeg-upm/TINTOlib)"
   ]
  },
  {
   "cell_type": "markdown",
   "metadata": {},
   "source": [
    "<div class=\"alert alert-block alert-info\">\n",
    "\n",
    "<i class=\"fa fa-info-circle\" aria-hidden=\"true\"></i>\n",
    "You can see all information about TINTOlib documentation in [PyPI](https://tintolib.readthedocs.io/en/latest/installation.html)"
   ]
  },
  {
   "cell_type": "markdown",
   "metadata": {
    "id": "Z3EzYcjJjpC6"
   },
   "source": [
    "---\n",
    "<div style=\"text-align: right\"> <font size=5> <a href=\"#indice\"><i class=\"fa fa-arrow-circle-up\" aria-hidden=\"true\" style=\"color:#004D7F\"></i></a></font></div>\n",
    "\n",
    "---"
   ]
  },
  {
   "cell_type": "markdown",
   "metadata": {
    "id": "qwYF5A2njpC8"
   },
   "source": [
    "<a id=\"section2\"></a>\n",
    "# <font color=\"#004D7F\" size=6> 2. Libraries</font>"
   ]
  },
  {
   "cell_type": "markdown",
   "metadata": {
    "id": "HFrF4C89jpCt"
   },
   "source": [
    "---\n",
    "<a id=\"section21\"></a>\n",
    "# <font color=\"#004D7F\" size=5> 2.1. System setup</font>"
   ]
  },
  {
   "cell_type": "markdown",
   "metadata": {},
   "source": [
    "Before installing the libraries you must have the `mpi4py` package installed on the native (Linux) system. This link shows how to install it: \n",
    "- [mpi4py in Linux](https://www.geeksforgeeks.org/how-to-install-python3-mpi4py-package-on-linux/)"
   ]
  },
  {
   "cell_type": "markdown",
   "metadata": {},
   "source": [
    "For example, in Linux:\n",
    "\n",
    "```\n",
    "    sudo apt-get install python3\n",
    "    sudo apt install python3-pip\n",
    "    sudo apt install python3-mpi4py\n",
    "```\n",
    "\n",
    "If you are in Windows, Mac or, also, Linux, you can install from PyPI if you want:\n",
    "```\n",
    "    sudo pip3 install mpi4py\n",
    "```"
   ]
  },
  {
   "cell_type": "markdown",
   "metadata": {},
   "source": [
    "<div class=\"alert alert-block alert-info\">\n",
    "    \n",
    "<i class=\"fa fa-info-circle\" aria-hidden=\"true\"></i>\n",
    "Note that you must **restart the kernel or the system** so that it can load the libraries. "
   ]
  },
  {
   "cell_type": "markdown",
   "metadata": {},
   "source": [
    "Now, once you have installed `mpi4py` you can install the PyPI libraries and dependences."
   ]
  },
  {
   "cell_type": "code",
   "execution_count": 1,
   "metadata": {},
   "outputs": [
    {
     "name": "stdout",
     "output_type": "stream",
     "text": [
      "Requirement already satisfied: torchmetrics in c:\\users\\jiayu\\anaconda3\\envs\\tinto-hnn\\lib\\site-packages (1.3.0.post0)\n",
      "Requirement already satisfied: pytorch_lightning in c:\\users\\jiayu\\anaconda3\\envs\\tinto-hnn\\lib\\site-packages (2.1.3)\n",
      "Requirement already satisfied: TINTOlib in c:\\users\\jiayu\\anaconda3\\envs\\tinto-hnn\\lib\\site-packages (0.0.14)\n",
      "Requirement already satisfied: imblearn in c:\\users\\jiayu\\anaconda3\\envs\\tinto-hnn\\lib\\site-packages (0.0)\n",
      "Requirement already satisfied: keras_preprocessing in c:\\users\\jiayu\\anaconda3\\envs\\tinto-hnn\\lib\\site-packages (1.1.2)\n",
      "Requirement already satisfied: mpi4py in c:\\users\\jiayu\\anaconda3\\envs\\tinto-hnn\\lib\\site-packages (3.1.5)\n",
      "Requirement already satisfied: numpy>1.20.0 in c:\\users\\jiayu\\anaconda3\\envs\\tinto-hnn\\lib\\site-packages (from torchmetrics) (1.24.3)\n",
      "Requirement already satisfied: packaging>17.1 in c:\\users\\jiayu\\anaconda3\\envs\\tinto-hnn\\lib\\site-packages (from torchmetrics) (23.2)\n",
      "Requirement already satisfied: torch>=1.10.0 in c:\\users\\jiayu\\anaconda3\\envs\\tinto-hnn\\lib\\site-packages (from torchmetrics) (2.2.0+cu118)\n",
      "Requirement already satisfied: lightning-utilities>=0.8.0 in c:\\users\\jiayu\\anaconda3\\envs\\tinto-hnn\\lib\\site-packages (from torchmetrics) (0.10.1)\n",
      "Requirement already satisfied: tqdm>=4.57.0 in c:\\users\\jiayu\\appdata\\roaming\\python\\python311\\site-packages (from pytorch_lightning) (4.66.1)\n",
      "Requirement already satisfied: PyYAML>=5.4 in c:\\users\\jiayu\\anaconda3\\envs\\tinto-hnn\\lib\\site-packages (from pytorch_lightning) (6.0.1)\n",
      "Requirement already satisfied: fsspec>=2022.5.0 in c:\\users\\jiayu\\anaconda3\\envs\\tinto-hnn\\lib\\site-packages (from fsspec[http]>=2022.5.0->pytorch_lightning) (2023.12.2)\n",
      "Requirement already satisfied: typing-extensions>=4.0.0 in c:\\users\\jiayu\\anaconda3\\envs\\tinto-hnn\\lib\\site-packages (from pytorch_lightning) (4.8.0)\n",
      "Requirement already satisfied: imbalanced-learn in c:\\users\\jiayu\\anaconda3\\envs\\tinto-hnn\\lib\\site-packages (from imblearn) (0.12.0)\n",
      "Requirement already satisfied: six>=1.9.0 in c:\\users\\jiayu\\anaconda3\\envs\\tinto-hnn\\lib\\site-packages (from keras_preprocessing) (1.16.0)\n",
      "Requirement already satisfied: requests in c:\\users\\jiayu\\appdata\\roaming\\python\\python311\\site-packages (from fsspec[http]>=2022.5.0->pytorch_lightning) (2.31.0)\n",
      "Requirement already satisfied: aiohttp!=4.0.0a0,!=4.0.0a1 in c:\\users\\jiayu\\anaconda3\\envs\\tinto-hnn\\lib\\site-packages (from fsspec[http]>=2022.5.0->pytorch_lightning) (3.9.3)\n",
      "Requirement already satisfied: setuptools in c:\\users\\jiayu\\anaconda3\\envs\\tinto-hnn\\lib\\site-packages (from lightning-utilities>=0.8.0->torchmetrics) (68.2.2)\n",
      "Requirement already satisfied: filelock in c:\\users\\jiayu\\anaconda3\\envs\\tinto-hnn\\lib\\site-packages (from torch>=1.10.0->torchmetrics) (3.13.1)\n",
      "Requirement already satisfied: sympy in c:\\users\\jiayu\\anaconda3\\envs\\tinto-hnn\\lib\\site-packages (from torch>=1.10.0->torchmetrics) (1.12)\n",
      "Requirement already satisfied: networkx in c:\\users\\jiayu\\anaconda3\\envs\\tinto-hnn\\lib\\site-packages (from torch>=1.10.0->torchmetrics) (3.3)\n",
      "Requirement already satisfied: jinja2 in c:\\users\\jiayu\\anaconda3\\envs\\tinto-hnn\\lib\\site-packages (from torch>=1.10.0->torchmetrics) (3.1.3)\n",
      "Requirement already satisfied: colorama in c:\\users\\jiayu\\appdata\\roaming\\python\\python311\\site-packages (from tqdm>=4.57.0->pytorch_lightning) (0.4.6)\n",
      "Requirement already satisfied: scipy>=1.5.0 in c:\\users\\jiayu\\appdata\\roaming\\python\\python311\\site-packages (from imbalanced-learn->imblearn) (1.11.2)\n",
      "Requirement already satisfied: scikit-learn>=1.0.2 in c:\\users\\jiayu\\anaconda3\\envs\\tinto-hnn\\lib\\site-packages (from imbalanced-learn->imblearn) (1.4.0)\n",
      "Requirement already satisfied: joblib>=1.1.1 in c:\\users\\jiayu\\anaconda3\\envs\\tinto-hnn\\lib\\site-packages (from imbalanced-learn->imblearn) (1.3.2)\n",
      "Requirement already satisfied: threadpoolctl>=2.0.0 in c:\\users\\jiayu\\anaconda3\\envs\\tinto-hnn\\lib\\site-packages (from imbalanced-learn->imblearn) (3.2.0)\n",
      "Requirement already satisfied: aiosignal>=1.1.2 in c:\\users\\jiayu\\anaconda3\\envs\\tinto-hnn\\lib\\site-packages (from aiohttp!=4.0.0a0,!=4.0.0a1->fsspec[http]>=2022.5.0->pytorch_lightning) (1.3.1)\n",
      "Requirement already satisfied: attrs>=17.3.0 in c:\\users\\jiayu\\anaconda3\\envs\\tinto-hnn\\lib\\site-packages (from aiohttp!=4.0.0a0,!=4.0.0a1->fsspec[http]>=2022.5.0->pytorch_lightning) (23.2.0)\n",
      "Requirement already satisfied: frozenlist>=1.1.1 in c:\\users\\jiayu\\anaconda3\\envs\\tinto-hnn\\lib\\site-packages (from aiohttp!=4.0.0a0,!=4.0.0a1->fsspec[http]>=2022.5.0->pytorch_lightning) (1.4.1)\n",
      "Requirement already satisfied: multidict<7.0,>=4.5 in c:\\users\\jiayu\\anaconda3\\envs\\tinto-hnn\\lib\\site-packages (from aiohttp!=4.0.0a0,!=4.0.0a1->fsspec[http]>=2022.5.0->pytorch_lightning) (6.0.4)\n",
      "Requirement already satisfied: yarl<2.0,>=1.0 in c:\\users\\jiayu\\anaconda3\\envs\\tinto-hnn\\lib\\site-packages (from aiohttp!=4.0.0a0,!=4.0.0a1->fsspec[http]>=2022.5.0->pytorch_lightning) (1.9.4)\n",
      "Requirement already satisfied: MarkupSafe>=2.0 in c:\\users\\jiayu\\appdata\\roaming\\python\\python311\\site-packages (from jinja2->torch>=1.10.0->torchmetrics) (2.1.3)\n",
      "Requirement already satisfied: charset-normalizer<4,>=2 in c:\\users\\jiayu\\anaconda3\\envs\\tinto-hnn\\lib\\site-packages (from requests->fsspec[http]>=2022.5.0->pytorch_lightning) (3.3.2)\n",
      "Requirement already satisfied: idna<4,>=2.5 in c:\\users\\jiayu\\appdata\\roaming\\python\\python311\\site-packages (from requests->fsspec[http]>=2022.5.0->pytorch_lightning) (3.4)\n",
      "Requirement already satisfied: urllib3<3,>=1.21.1 in c:\\users\\jiayu\\anaconda3\\envs\\tinto-hnn\\lib\\site-packages (from requests->fsspec[http]>=2022.5.0->pytorch_lightning) (2.2.1)\n",
      "Requirement already satisfied: certifi>=2017.4.17 in c:\\users\\jiayu\\appdata\\roaming\\python\\python311\\site-packages (from requests->fsspec[http]>=2022.5.0->pytorch_lightning) (2023.7.22)\n",
      "Requirement already satisfied: mpmath>=0.19 in c:\\users\\jiayu\\anaconda3\\envs\\tinto-hnn\\lib\\site-packages (from sympy->torch>=1.10.0->torchmetrics) (1.3.0)\n"
     ]
    }
   ],
   "source": [
    "!pip install torchmetrics pytorch_lightning TINTOlib imblearn keras_preprocessing mpi4py"
   ]
  },
  {
   "cell_type": "markdown",
   "metadata": {},
   "source": [
    "<div class=\"alert alert-block alert-info\">\n",
    "    \n",
    "<i class=\"fa fa-info-circle\" aria-hidden=\"true\"></i>\n",
    "Note that you must **restart the kernel** so that it can load the libraries. "
   ]
  },
  {
   "cell_type": "markdown",
   "metadata": {
    "id": "HFrF4C89jpCt"
   },
   "source": [
    "---\n",
    "<a id=\"section22\"></a>\n",
    "# <font color=\"#004D7F\" size=5> 2.2. Invoke the libraries</font>"
   ]
  },
  {
   "cell_type": "markdown",
   "metadata": {
    "id": "5AdHKnWYsEq_"
   },
   "source": [
    "The first thing we need to do is to declare the libraries"
   ]
  },
  {
   "cell_type": "code",
   "execution_count": 4,
   "metadata": {
    "id": "PeeBbGxlpjFp",
    "tags": []
   },
   "outputs": [],
   "source": [
    "import os\n",
    "import pandas as pd\n",
    "import numpy as np\n",
    "from tqdm import tqdm\n",
    "#import cv2\n",
    "import gc\n",
    "import matplotlib.pyplot as plt\n",
    "#import openslide\n",
    "#from openslide.deepzoom import DeepZoomGenerator\n",
    "import tifffile as tifi\n",
    "import sklearn\n",
    "import tensorflow as tf\n",
    "\n",
    "from keras_preprocessing.image import ImageDataGenerator\n",
    "from tensorflow.keras.models import load_model\n",
    "\n",
    "from sklearn.model_selection import train_test_split\n",
    "from tensorflow.keras.applications import vgg16, vgg19, resnet50, mobilenet, inception_resnet_v2, densenet, inception_v3, xception, nasnet, ResNet152V2\n",
    "from tensorflow.keras.models import Sequential, Model, load_model\n",
    "from tensorflow.keras.layers import Dense, Conv2D, MaxPool2D, Flatten, Dropout, BatchNormalization, InputLayer, LayerNormalization\n",
    "from tensorflow.keras.callbacks import ModelCheckpoint, ReduceLROnPlateau, EarlyStopping\n",
    "from tensorflow.keras.optimizers import SGD, Adam, Adadelta, Adamax\n",
    "\n",
    "#from imblearn.over_sampling import RandomOverSampler\n",
    "#Models of TINTOlib\n",
    "from TINTOlib.tinto import TINTO\n",
    "from TINTOlib.supertml import SuperTML\n",
    "from TINTOlib.igtd import IGTD\n",
    "from TINTOlib.refined import REFINED\n",
    "from TINTOlib.barGraph import BarGraph\n",
    "from TINTOlib.distanceMatrix import DistanceMatrix\n",
    "from TINTOlib.combination import Combination"
   ]
  },
  {
   "cell_type": "markdown",
   "metadata": {
    "id": "NwS-cKUxjpDQ"
   },
   "source": [
    "---\n",
    "<div style=\"text-align: right\"> <font size=5> <a href=\"#indice\"><i class=\"fa fa-arrow-circle-up\" aria-hidden=\"true\" style=\"color:#004D7F\"></i></a></font></div>\n",
    "\n",
    "---"
   ]
  },
  {
   "cell_type": "markdown",
   "metadata": {
    "id": "aDL4LARWjpDT"
   },
   "source": [
    "<a id=\"section3\"></a>\n",
    "# <font color=\"#004D7F\" size=6> 3. Data processing</font>"
   ]
  },
  {
   "cell_type": "markdown",
   "metadata": {
    "id": "pLzynCxOpHBX"
   },
   "source": [
    "---\n",
    "<a id=\"section31\"></a>\n",
    "# <font color=\"#004D7F\" size=5> 3.1. TINTOlib methods</font>"
   ]
  },
  {
   "cell_type": "markdown",
   "metadata": {},
   "source": [
    "We prepare the declaration of the classes with the TINTOlib method we want to transform. Note that TINTOlib has several methods and we will have to choose one of them since each method generates different images.\n",
    "\n",
    "In addition, we establish the paths where the dataset is located and also the folder where the images will be created."
   ]
  },
  {
   "cell_type": "code",
   "execution_count": 5,
   "metadata": {},
   "outputs": [],
   "source": [
    "#Select the model and the parameters\n",
    "problem_type = \"supervised\"\n",
    "#image_model = REFINED(problem= problem_type,hcIterations=5)\n",
    "image_model = TINTO(problem= problem_type,blur=True)\n",
    "#image_model = IGTD(problem= problem_type)\n",
    "#image_model = BarGraph(problem= problem_type)\n",
    "#image_model = DistanceMatrix(problem= problem_type)\n",
    "#image_model = Combination(problem= problem_type)\n",
    "\n",
    "#Define the dataset path and the folder where the images will be saved\n",
    "dataset_path = \"../sample_data/cancer.csv\"\n",
    "images_folder = \"../HyNNImages/Classification/images_cancer_TINTO\"\n",
    "\n"
   ]
  },
  {
   "cell_type": "markdown",
   "metadata": {},
   "source": [
    "<div class=\"alert alert-block alert-info\">\n",
    "\n",
    "<i class=\"fa fa-info-circle\" aria-hidden=\"true\"></i>\n",
    "You can see all TINTOlib method in the [PyPI documentation](https://tintolib.readthedocs.io/en/latest/installation.html)"
   ]
  },
  {
   "cell_type": "markdown",
   "metadata": {
    "id": "pLzynCxOpHBX"
   },
   "source": [
    "---\n",
    "<a id=\"section32\"></a>\n",
    "# <font color=\"#004D7F\" size=5> 3.2. Read the dataset</font>"
   ]
  },
  {
   "cell_type": "markdown",
   "metadata": {},
   "source": [
    "In this part, we proceed to read the dataset according to the path specified above and also standardize the name that the target will have, in this case, it will be called _class_"
   ]
  },
  {
   "cell_type": "code",
   "execution_count": 6,
   "metadata": {
    "scrolled": true
   },
   "outputs": [
    {
     "data": {
      "text/html": [
       "<div>\n",
       "<style scoped>\n",
       "    .dataframe tbody tr th:only-of-type {\n",
       "        vertical-align: middle;\n",
       "    }\n",
       "\n",
       "    .dataframe tbody tr th {\n",
       "        vertical-align: top;\n",
       "    }\n",
       "\n",
       "    .dataframe thead th {\n",
       "        text-align: right;\n",
       "    }\n",
       "</style>\n",
       "<table border=\"1\" class=\"dataframe\">\n",
       "  <thead>\n",
       "    <tr style=\"text-align: right;\">\n",
       "      <th></th>\n",
       "      <th>0</th>\n",
       "      <th>1</th>\n",
       "      <th>2</th>\n",
       "      <th>3</th>\n",
       "      <th>4</th>\n",
       "      <th>5</th>\n",
       "      <th>6</th>\n",
       "      <th>7</th>\n",
       "      <th>8</th>\n",
       "      <th>9</th>\n",
       "      <th>...</th>\n",
       "      <th>21</th>\n",
       "      <th>22</th>\n",
       "      <th>23</th>\n",
       "      <th>24</th>\n",
       "      <th>25</th>\n",
       "      <th>26</th>\n",
       "      <th>27</th>\n",
       "      <th>28</th>\n",
       "      <th>29</th>\n",
       "      <th>class</th>\n",
       "    </tr>\n",
       "  </thead>\n",
       "  <tbody>\n",
       "    <tr>\n",
       "      <th>0</th>\n",
       "      <td>0.643144</td>\n",
       "      <td>0.272574</td>\n",
       "      <td>0.615783</td>\n",
       "      <td>0.501591</td>\n",
       "      <td>0.289880</td>\n",
       "      <td>0.181768</td>\n",
       "      <td>0.203608</td>\n",
       "      <td>0.348757</td>\n",
       "      <td>0.379798</td>\n",
       "      <td>0.141323</td>\n",
       "      <td>...</td>\n",
       "      <td>0.303571</td>\n",
       "      <td>0.539818</td>\n",
       "      <td>0.435214</td>\n",
       "      <td>0.347553</td>\n",
       "      <td>0.154563</td>\n",
       "      <td>0.192971</td>\n",
       "      <td>0.639175</td>\n",
       "      <td>0.233590</td>\n",
       "      <td>0.222878</td>\n",
       "      <td>1.0</td>\n",
       "    </tr>\n",
       "    <tr>\n",
       "      <th>1</th>\n",
       "      <td>0.601496</td>\n",
       "      <td>0.390260</td>\n",
       "      <td>0.595743</td>\n",
       "      <td>0.449417</td>\n",
       "      <td>0.514309</td>\n",
       "      <td>0.431017</td>\n",
       "      <td>0.462512</td>\n",
       "      <td>0.635686</td>\n",
       "      <td>0.509596</td>\n",
       "      <td>0.211247</td>\n",
       "      <td>...</td>\n",
       "      <td>0.360075</td>\n",
       "      <td>0.508442</td>\n",
       "      <td>0.374508</td>\n",
       "      <td>0.483590</td>\n",
       "      <td>0.385375</td>\n",
       "      <td>0.359744</td>\n",
       "      <td>0.835052</td>\n",
       "      <td>0.403706</td>\n",
       "      <td>0.213433</td>\n",
       "      <td>1.0</td>\n",
       "    </tr>\n",
       "    <tr>\n",
       "      <th>2</th>\n",
       "      <td>0.210090</td>\n",
       "      <td>0.360839</td>\n",
       "      <td>0.233501</td>\n",
       "      <td>0.102906</td>\n",
       "      <td>0.811321</td>\n",
       "      <td>0.811361</td>\n",
       "      <td>0.565604</td>\n",
       "      <td>0.522863</td>\n",
       "      <td>0.776263</td>\n",
       "      <td>1.000000</td>\n",
       "      <td>...</td>\n",
       "      <td>0.385928</td>\n",
       "      <td>0.241347</td>\n",
       "      <td>0.094008</td>\n",
       "      <td>0.915472</td>\n",
       "      <td>0.814012</td>\n",
       "      <td>0.548642</td>\n",
       "      <td>0.884880</td>\n",
       "      <td>1.000000</td>\n",
       "      <td>0.773711</td>\n",
       "      <td>1.0</td>\n",
       "    </tr>\n",
       "    <tr>\n",
       "      <th>3</th>\n",
       "      <td>0.629893</td>\n",
       "      <td>0.156578</td>\n",
       "      <td>0.630986</td>\n",
       "      <td>0.489290</td>\n",
       "      <td>0.430351</td>\n",
       "      <td>0.347893</td>\n",
       "      <td>0.463918</td>\n",
       "      <td>0.518390</td>\n",
       "      <td>0.378283</td>\n",
       "      <td>0.186816</td>\n",
       "      <td>...</td>\n",
       "      <td>0.123934</td>\n",
       "      <td>0.506948</td>\n",
       "      <td>0.341575</td>\n",
       "      <td>0.437364</td>\n",
       "      <td>0.172415</td>\n",
       "      <td>0.319489</td>\n",
       "      <td>0.558419</td>\n",
       "      <td>0.157500</td>\n",
       "      <td>0.142595</td>\n",
       "      <td>1.0</td>\n",
       "    </tr>\n",
       "    <tr>\n",
       "      <th>4</th>\n",
       "      <td>0.258839</td>\n",
       "      <td>0.202570</td>\n",
       "      <td>0.267984</td>\n",
       "      <td>0.141506</td>\n",
       "      <td>0.678613</td>\n",
       "      <td>0.461996</td>\n",
       "      <td>0.369728</td>\n",
       "      <td>0.402038</td>\n",
       "      <td>0.518687</td>\n",
       "      <td>0.551179</td>\n",
       "      <td>...</td>\n",
       "      <td>0.312633</td>\n",
       "      <td>0.263908</td>\n",
       "      <td>0.136748</td>\n",
       "      <td>0.712739</td>\n",
       "      <td>0.482784</td>\n",
       "      <td>0.427716</td>\n",
       "      <td>0.598282</td>\n",
       "      <td>0.477035</td>\n",
       "      <td>0.454939</td>\n",
       "      <td>1.0</td>\n",
       "    </tr>\n",
       "    <tr>\n",
       "      <th>...</th>\n",
       "      <td>...</td>\n",
       "      <td>...</td>\n",
       "      <td>...</td>\n",
       "      <td>...</td>\n",
       "      <td>...</td>\n",
       "      <td>...</td>\n",
       "      <td>...</td>\n",
       "      <td>...</td>\n",
       "      <td>...</td>\n",
       "      <td>...</td>\n",
       "      <td>...</td>\n",
       "      <td>...</td>\n",
       "      <td>...</td>\n",
       "      <td>...</td>\n",
       "      <td>...</td>\n",
       "      <td>...</td>\n",
       "      <td>...</td>\n",
       "      <td>...</td>\n",
       "      <td>...</td>\n",
       "      <td>...</td>\n",
       "      <td>...</td>\n",
       "    </tr>\n",
       "    <tr>\n",
       "      <th>563</th>\n",
       "      <td>0.690000</td>\n",
       "      <td>0.428813</td>\n",
       "      <td>0.678668</td>\n",
       "      <td>0.566490</td>\n",
       "      <td>0.526948</td>\n",
       "      <td>0.296055</td>\n",
       "      <td>0.571462</td>\n",
       "      <td>0.690358</td>\n",
       "      <td>0.336364</td>\n",
       "      <td>0.132056</td>\n",
       "      <td>...</td>\n",
       "      <td>0.383262</td>\n",
       "      <td>0.576174</td>\n",
       "      <td>0.452664</td>\n",
       "      <td>0.461137</td>\n",
       "      <td>0.178527</td>\n",
       "      <td>0.328035</td>\n",
       "      <td>0.761512</td>\n",
       "      <td>0.097575</td>\n",
       "      <td>0.105667</td>\n",
       "      <td>1.0</td>\n",
       "    </tr>\n",
       "    <tr>\n",
       "      <th>564</th>\n",
       "      <td>0.622320</td>\n",
       "      <td>0.626987</td>\n",
       "      <td>0.604036</td>\n",
       "      <td>0.474019</td>\n",
       "      <td>0.407782</td>\n",
       "      <td>0.257714</td>\n",
       "      <td>0.337395</td>\n",
       "      <td>0.486630</td>\n",
       "      <td>0.349495</td>\n",
       "      <td>0.113100</td>\n",
       "      <td>...</td>\n",
       "      <td>0.699094</td>\n",
       "      <td>0.520892</td>\n",
       "      <td>0.379915</td>\n",
       "      <td>0.300007</td>\n",
       "      <td>0.159997</td>\n",
       "      <td>0.256789</td>\n",
       "      <td>0.559450</td>\n",
       "      <td>0.198502</td>\n",
       "      <td>0.074315</td>\n",
       "      <td>1.0</td>\n",
       "    </tr>\n",
       "    <tr>\n",
       "      <th>565</th>\n",
       "      <td>0.455251</td>\n",
       "      <td>0.621238</td>\n",
       "      <td>0.445788</td>\n",
       "      <td>0.303118</td>\n",
       "      <td>0.288165</td>\n",
       "      <td>0.254340</td>\n",
       "      <td>0.216753</td>\n",
       "      <td>0.263519</td>\n",
       "      <td>0.267677</td>\n",
       "      <td>0.137321</td>\n",
       "      <td>...</td>\n",
       "      <td>0.589019</td>\n",
       "      <td>0.379949</td>\n",
       "      <td>0.230731</td>\n",
       "      <td>0.282177</td>\n",
       "      <td>0.273705</td>\n",
       "      <td>0.271805</td>\n",
       "      <td>0.487285</td>\n",
       "      <td>0.128721</td>\n",
       "      <td>0.151909</td>\n",
       "      <td>1.0</td>\n",
       "    </tr>\n",
       "    <tr>\n",
       "      <th>566</th>\n",
       "      <td>0.644564</td>\n",
       "      <td>0.663510</td>\n",
       "      <td>0.665538</td>\n",
       "      <td>0.475716</td>\n",
       "      <td>0.588336</td>\n",
       "      <td>0.790197</td>\n",
       "      <td>0.823336</td>\n",
       "      <td>0.755467</td>\n",
       "      <td>0.675253</td>\n",
       "      <td>0.425442</td>\n",
       "      <td>...</td>\n",
       "      <td>0.730277</td>\n",
       "      <td>0.668310</td>\n",
       "      <td>0.402035</td>\n",
       "      <td>0.619626</td>\n",
       "      <td>0.815758</td>\n",
       "      <td>0.749760</td>\n",
       "      <td>0.910653</td>\n",
       "      <td>0.497142</td>\n",
       "      <td>0.452315</td>\n",
       "      <td>1.0</td>\n",
       "    </tr>\n",
       "    <tr>\n",
       "      <th>567</th>\n",
       "      <td>0.036869</td>\n",
       "      <td>0.501522</td>\n",
       "      <td>0.028540</td>\n",
       "      <td>0.015907</td>\n",
       "      <td>0.000000</td>\n",
       "      <td>0.074351</td>\n",
       "      <td>0.000000</td>\n",
       "      <td>0.000000</td>\n",
       "      <td>0.266162</td>\n",
       "      <td>0.187026</td>\n",
       "      <td>...</td>\n",
       "      <td>0.489072</td>\n",
       "      <td>0.043578</td>\n",
       "      <td>0.020497</td>\n",
       "      <td>0.124084</td>\n",
       "      <td>0.036043</td>\n",
       "      <td>0.000000</td>\n",
       "      <td>0.000000</td>\n",
       "      <td>0.257441</td>\n",
       "      <td>0.100682</td>\n",
       "      <td>-1.0</td>\n",
       "    </tr>\n",
       "  </tbody>\n",
       "</table>\n",
       "<p>568 rows × 31 columns</p>\n",
       "</div>"
      ],
      "text/plain": [
       "            0         1         2         3         4         5         6  \\\n",
       "0    0.643144  0.272574  0.615783  0.501591  0.289880  0.181768  0.203608   \n",
       "1    0.601496  0.390260  0.595743  0.449417  0.514309  0.431017  0.462512   \n",
       "2    0.210090  0.360839  0.233501  0.102906  0.811321  0.811361  0.565604   \n",
       "3    0.629893  0.156578  0.630986  0.489290  0.430351  0.347893  0.463918   \n",
       "4    0.258839  0.202570  0.267984  0.141506  0.678613  0.461996  0.369728   \n",
       "..        ...       ...       ...       ...       ...       ...       ...   \n",
       "563  0.690000  0.428813  0.678668  0.566490  0.526948  0.296055  0.571462   \n",
       "564  0.622320  0.626987  0.604036  0.474019  0.407782  0.257714  0.337395   \n",
       "565  0.455251  0.621238  0.445788  0.303118  0.288165  0.254340  0.216753   \n",
       "566  0.644564  0.663510  0.665538  0.475716  0.588336  0.790197  0.823336   \n",
       "567  0.036869  0.501522  0.028540  0.015907  0.000000  0.074351  0.000000   \n",
       "\n",
       "            7         8         9  ...        21        22        23  \\\n",
       "0    0.348757  0.379798  0.141323  ...  0.303571  0.539818  0.435214   \n",
       "1    0.635686  0.509596  0.211247  ...  0.360075  0.508442  0.374508   \n",
       "2    0.522863  0.776263  1.000000  ...  0.385928  0.241347  0.094008   \n",
       "3    0.518390  0.378283  0.186816  ...  0.123934  0.506948  0.341575   \n",
       "4    0.402038  0.518687  0.551179  ...  0.312633  0.263908  0.136748   \n",
       "..        ...       ...       ...  ...       ...       ...       ...   \n",
       "563  0.690358  0.336364  0.132056  ...  0.383262  0.576174  0.452664   \n",
       "564  0.486630  0.349495  0.113100  ...  0.699094  0.520892  0.379915   \n",
       "565  0.263519  0.267677  0.137321  ...  0.589019  0.379949  0.230731   \n",
       "566  0.755467  0.675253  0.425442  ...  0.730277  0.668310  0.402035   \n",
       "567  0.000000  0.266162  0.187026  ...  0.489072  0.043578  0.020497   \n",
       "\n",
       "           24        25        26        27        28        29  class  \n",
       "0    0.347553  0.154563  0.192971  0.639175  0.233590  0.222878    1.0  \n",
       "1    0.483590  0.385375  0.359744  0.835052  0.403706  0.213433    1.0  \n",
       "2    0.915472  0.814012  0.548642  0.884880  1.000000  0.773711    1.0  \n",
       "3    0.437364  0.172415  0.319489  0.558419  0.157500  0.142595    1.0  \n",
       "4    0.712739  0.482784  0.427716  0.598282  0.477035  0.454939    1.0  \n",
       "..        ...       ...       ...       ...       ...       ...    ...  \n",
       "563  0.461137  0.178527  0.328035  0.761512  0.097575  0.105667    1.0  \n",
       "564  0.300007  0.159997  0.256789  0.559450  0.198502  0.074315    1.0  \n",
       "565  0.282177  0.273705  0.271805  0.487285  0.128721  0.151909    1.0  \n",
       "566  0.619626  0.815758  0.749760  0.910653  0.497142  0.452315    1.0  \n",
       "567  0.124084  0.036043  0.000000  0.000000  0.257441  0.100682   -1.0  \n",
       "\n",
       "[568 rows x 31 columns]"
      ]
     },
     "execution_count": 6,
     "metadata": {},
     "output_type": "execute_result"
    }
   ],
   "source": [
    "#Read CSV\n",
    "df=pd.read_csv(dataset_path)\n",
    "\n",
    "diagnosis_col = df.iloc[:,-1]\n",
    "df = df.iloc[: , :-1]\n",
    "df['class'] = diagnosis_col\n",
    "df"
   ]
  },
  {
   "cell_type": "markdown",
   "metadata": {
    "id": "pLzynCxOpHBX"
   },
   "source": [
    "---\n",
    "<a id=\"section33\"></a>\n",
    "# <font color=\"#004D7F\" size=5> 3.3. Generate images</font>"
   ]
  },
  {
   "cell_type": "markdown",
   "metadata": {},
   "source": [
    "Now we can generate the images with the `generateImages()` generic function. Likewise, we create a dataset that will have the path of each of the samples with the corresponding image created for it. \n",
    "\n",
    "Note that each image is created based on a row, therefore, each numerical sample of the dataset will correspond to a particular image. In other words, we will have the same number of images as samples/rows."
   ]
  },
  {
   "cell_type": "code",
   "execution_count": 7,
   "metadata": {},
   "outputs": [
    {
     "name": "stdout",
     "output_type": "stream",
     "text": [
      "../HyNNImages/Classification/images_cancer_TINTO/supervised.csv\n"
     ]
    }
   ],
   "source": [
    "import os\n",
    "\n",
    "# Generate the images if the folder does not exist\n",
    "if not os.path.exists(images_folder):\n",
    "    #Generate thet images\n",
    "    image_model.generateImages(df, images_folder)\n",
    "else:\n",
    "    print(\"The images are already generated\")\n",
    "\n",
    "img_paths = os.path.join(images_folder,problem_type+\".csv\")\n",
    "\n",
    "print(img_paths)"
   ]
  },
  {
   "cell_type": "markdown",
   "metadata": {
    "id": "klS9PZsUjpDV"
   },
   "source": [
    "<a id=\"section34\"></a>\n",
    "# <font color=\"#004D7F\" size=5> 3.4. Read images</font>"
   ]
  },
  {
   "cell_type": "markdown",
   "metadata": {
    "id": "COh9Th5jsDei"
   },
   "source": [
    "Once the images have been created we can read them. In this particular case, by using a pure CNN, we will use the images only to train our model."
   ]
  },
  {
   "cell_type": "code",
   "execution_count": 8,
   "metadata": {},
   "outputs": [
    {
     "name": "stdout",
     "output_type": "stream",
     "text": [
      "../HyNNImages/Classification/images_cancer_TINTO/01/000000.png\n",
      "class\n",
      "-1.0    357\n",
      "1.0     211\n",
      "Name: count, dtype: int64\n"
     ]
    }
   ],
   "source": [
    "df = pd.read_csv(img_paths)\n",
    "df[\"class\"] = df[\"class\"].astype(str)\n",
    "df[\"images\"]= images_folder + \"/\" + df[\"images\"]\n",
    "\n",
    "print(df[\"images\"][0])\n",
    "print(df[\"class\"].value_counts())"
   ]
  },
  {
   "cell_type": "markdown",
   "metadata": {},
   "source": [
    "---\n",
    "<div style=\"text-align: right\"> <font size=5> <a href=\"#indice\"><i class=\"fa fa-arrow-circle-up\" aria-hidden=\"true\" style=\"color:#004D7F\"></i></a></font></div>\n",
    "\n",
    "---"
   ]
  },
  {
   "cell_type": "markdown",
   "metadata": {},
   "source": [
    "<a id=\"section4\"></a>\n",
    "# <font color=\"#004D7F\" size=6> 4. Pre-modelling phase</font>"
   ]
  },
  {
   "cell_type": "markdown",
   "metadata": {},
   "source": [
    "Once the data is ready, we load it into memory with an iterator in order to pass it to the CNN."
   ]
  },
  {
   "cell_type": "markdown",
   "metadata": {
    "id": "nb4Dd37rjpDm"
   },
   "source": [
    "---\n",
    "<a id=\"section41\"></a>\n",
    "# <font color=\"#004D7F\" size=5> 4.1. Data curation</font>"
   ]
  },
  {
   "cell_type": "markdown",
   "metadata": {
    "id": "9TjBcUbxjpDt"
   },
   "source": [
    "Split in train/test/validation"
   ]
  },
  {
   "cell_type": "code",
   "execution_count": 9,
   "metadata": {
    "id": "BDyHty4-pjF5",
    "tags": []
   },
   "outputs": [],
   "source": [
    "df_x = df.drop('class', axis = 1)\n",
    "df_y = df['class']\n",
    "\n",
    "X_train, X_val, y_train, y_val = train_test_split(df_x, df_y, test_size = 0.40, random_state=42,stratify=df_y)\n",
    "X_val, X_test, y_val, y_test = train_test_split(X_val, y_val, test_size = 0.50, random_state=42,stratify=y_val)\n"
   ]
  },
  {
   "cell_type": "code",
   "execution_count": 10,
   "metadata": {},
   "outputs": [
    {
     "data": {
      "text/plain": [
       "56      1.0\n",
       "523    -1.0\n",
       "449    -1.0\n",
       "472    -1.0\n",
       "420    -1.0\n",
       "       ... \n",
       "191    -1.0\n",
       "36     -1.0\n",
       "414    -1.0\n",
       "457    -1.0\n",
       "475    -1.0\n",
       "Name: class, Length: 340, dtype: object"
      ]
     },
     "execution_count": 10,
     "metadata": {},
     "output_type": "execute_result"
    }
   ],
   "source": [
    "y_train"
   ]
  },
  {
   "cell_type": "code",
   "execution_count": 11,
   "metadata": {
    "id": "9Ix84V0ApjF8",
    "tags": []
   },
   "outputs": [],
   "source": [
    "df_train = pd.concat([X_train, y_train], axis = 1)\n",
    "df_test = pd.concat([X_test, y_test], axis = 1)\n",
    "df_val = pd.concat([X_val, y_val], axis = 1)"
   ]
  },
  {
   "cell_type": "code",
   "execution_count": 12,
   "metadata": {
    "colab": {
     "base_uri": "https://localhost:8080/"
    },
    "id": "mnX_etdYpjF9",
    "outputId": "9104166d-9c5c-4ed3-b71b-c9aa23461559",
    "tags": []
   },
   "outputs": [
    {
     "name": "stdout",
     "output_type": "stream",
     "text": [
      "class\n",
      "-1.0    214\n",
      "1.0     126\n",
      "Name: count, dtype: int64\n",
      " \n",
      " \n",
      "class\n",
      "-1.0    72\n",
      "1.0     42\n",
      "Name: count, dtype: int64\n",
      " \n",
      " \n",
      "class\n",
      "-1.0    71\n",
      "1.0     43\n",
      "Name: count, dtype: int64\n"
     ]
    }
   ],
   "source": [
    "print(df_train['class'].value_counts())\n",
    "print(' ')\n",
    "print(' ')\n",
    "print(df_test['class'].value_counts())\n",
    "print(' ')\n",
    "print(' ')\n",
    "print(df_val['class'].value_counts())"
   ]
  },
  {
   "cell_type": "markdown",
   "metadata": {
    "id": "a347tUZnjpED"
   },
   "source": [
    "---\n",
    "<a id=\"section42\"></a>\n",
    "# <font color=\"#004D7F\" size=5> 4.2. Resize images</font>"
   ]
  },
  {
   "cell_type": "markdown",
   "metadata": {
    "id": "xvXLjHzAjpEE"
   },
   "source": [
    "In our case, as we are going to train with a pre-trained network, we must resize it to the dimensions established by the network. Therefore, if you make a customised CNN, this cell is optional. "
   ]
  },
  {
   "cell_type": "code",
   "execution_count": 13,
   "metadata": {
    "id": "Z0Jbdn_ypjF-",
    "tags": []
   },
   "outputs": [],
   "source": [
    "train_datagen = ImageDataGenerator(rescale = 1./255)\n",
    "valid_datagen = ImageDataGenerator(rescale = 1./255)\n",
    "teste_datagen = ImageDataGenerator(rescale = 1./255)"
   ]
  },
  {
   "cell_type": "code",
   "execution_count": 14,
   "metadata": {
    "colab": {
     "base_uri": "https://localhost:8080/"
    },
    "id": "ebOBC5iypjGA",
    "outputId": "e1bf4be0-f486-460e-9bf6-90a7f87b1939",
    "tags": []
   },
   "outputs": [
    {
     "name": "stdout",
     "output_type": "stream",
     "text": [
      "(340, 2)\n",
      "(114, 2)\n",
      "(114, 2)\n"
     ]
    }
   ],
   "source": [
    "print(df_train.shape)\n",
    "print(df_val.shape)\n",
    "print(df_test.shape)"
   ]
  },
  {
   "cell_type": "markdown",
   "metadata": {
    "id": "NjFY9rn2jpEL"
   },
   "source": [
    "---\n",
    "<a id=\"section43\"></a>\n",
    "# <font color=\"#004D7F\" size=5> 4.3. Iterators</font>"
   ]
  },
  {
   "cell_type": "markdown",
   "metadata": {},
   "source": [
    "Note that each method generates images of **different pixel size**. For example:\n",
    "- `TINTO` method has a parameter that you can specify the size in pixels which by default is 20. \n",
    "- Other parameters such as `Combined` generates the size automatically and you must obtain them from the _shape_ of the images."
   ]
  },
  {
   "cell_type": "code",
   "execution_count": 15,
   "metadata": {},
   "outputs": [],
   "source": [
    "pixels = 20"
   ]
  },
  {
   "cell_type": "markdown",
   "metadata": {},
   "source": [
    "<div class=\"alert alert-block alert-info\">\n",
    "\n",
    "<i class=\"fa fa-info-circle\" aria-hidden=\"true\"></i>\n",
    "You can see all information about TINTOlib documentation in [PyPI](https://tintolib.readthedocs.io/en/latest/installation.html)"
   ]
  },
  {
   "cell_type": "markdown",
   "metadata": {
    "id": "GFYTHIPljpEM"
   },
   "source": [
    "Create iterators for train/test/validation"
   ]
  },
  {
   "cell_type": "code",
   "execution_count": 16,
   "metadata": {
    "colab": {
     "base_uri": "https://localhost:8080/"
    },
    "id": "inaR7-KxpjGC",
    "outputId": "21305649-6133-43b8-c3cf-b6fa3faa5573",
    "tags": []
   },
   "outputs": [
    {
     "name": "stdout",
     "output_type": "stream",
     "text": [
      "Found 340 validated image filenames belonging to 2 classes.\n"
     ]
    }
   ],
   "source": [
    "train_iter = train_datagen.flow_from_dataframe(\n",
    "    df_train, \n",
    "    target_size = (pixels, pixels),\n",
    "    x_col = 'images',\n",
    "    y_col = 'class',\n",
    "    class_mode = 'categorical',\n",
    "    #class_mode = 'binary',\n",
    "    #color_mode='grayscale',\n",
    "    color_mode='rgb',\n",
    "    batch_size = 8,\n",
    "    shuffle = True\n",
    ")"
   ]
  },
  {
   "cell_type": "code",
   "execution_count": 17,
   "metadata": {
    "colab": {
     "base_uri": "https://localhost:8080/"
    },
    "id": "MGPDhsFQpjGE",
    "outputId": "e473d2ba-806a-4a48-c530-2d91305bd9ad",
    "tags": []
   },
   "outputs": [
    {
     "name": "stdout",
     "output_type": "stream",
     "text": [
      "Found 114 validated image filenames belonging to 2 classes.\n"
     ]
    }
   ],
   "source": [
    "valid_iter = train_datagen.flow_from_dataframe(\n",
    "    df_val, \n",
    "    target_size = (pixels, pixels),\n",
    "    x_col = 'images',\n",
    "    y_col = 'class',\n",
    "    class_mode = 'categorical',\n",
    "    #class_mode = 'binary',\n",
    "    #color_mode='grayscale',\n",
    "    color_mode='rgb',\n",
    "    batch_size = 8,\n",
    "    shuffle = False\n",
    ")"
   ]
  },
  {
   "cell_type": "code",
   "execution_count": 18,
   "metadata": {
    "colab": {
     "base_uri": "https://localhost:8080/"
    },
    "id": "jkWY-9y3pjGF",
    "outputId": "2942429a-0a1f-4a68-91c2-ebd8dc797b8e",
    "tags": []
   },
   "outputs": [
    {
     "name": "stdout",
     "output_type": "stream",
     "text": [
      "Found 114 validated image filenames belonging to 2 classes.\n"
     ]
    }
   ],
   "source": [
    "test_iter = train_datagen.flow_from_dataframe(\n",
    "    df_test, \n",
    "    target_size = (pixels, pixels),\n",
    "    x_col = 'images',\n",
    "    y_col = 'class',\n",
    "    class_mode = 'categorical',\n",
    "    #class_mode = 'binary',\n",
    "    #color_mode='grayscale',\n",
    "    color_mode='rgb',\n",
    "    batch_size = 8,\n",
    "    shuffle = False\n",
    ")"
   ]
  },
  {
   "cell_type": "code",
   "execution_count": 19,
   "metadata": {
    "colab": {
     "base_uri": "https://localhost:8080/"
    },
    "id": "3YzRGsb9pjGG",
    "outputId": "1edff292-1127-40d6-b68f-1e6a4d92be32",
    "tags": []
   },
   "outputs": [
    {
     "name": "stdout",
     "output_type": "stream",
     "text": [
      "(20, 20, 3)\n",
      "(20, 20, 3)\n",
      "(20, 20, 3)\n"
     ]
    }
   ],
   "source": [
    "print(train_iter.image_shape)\n",
    "print(valid_iter.image_shape)\n",
    "print(test_iter.image_shape)"
   ]
  },
  {
   "cell_type": "markdown",
   "metadata": {
    "id": "xagy7N7ijpEX"
   },
   "source": [
    "---\n",
    "<div style=\"text-align: right\"> <font size=5> <a href=\"#indice\"><i class=\"fa fa-arrow-circle-up\" aria-hidden=\"true\" style=\"color:#004D7F\"></i></a></font></div>\n",
    "\n",
    "---"
   ]
  },
  {
   "cell_type": "markdown",
   "metadata": {
    "id": "rE0VunQYjpEY"
   },
   "source": [
    "<a id=\"section5\"></a>\n",
    "# <font color=\"#004D7F\" size=6> 5. Modelling with CNN</font>"
   ]
  },
  {
   "cell_type": "markdown",
   "metadata": {
    "id": "MDfs9l-hjpEZ"
   },
   "source": [
    "Now we can start the CNN training. Before that we prepare the algorithm for reading data."
   ]
  },
  {
   "cell_type": "markdown",
   "metadata": {
    "id": "Qn2U90FwjpEe"
   },
   "source": [
    "<a id=\"section51\"></a>\n",
    "# <font color=\"#004D7F\" size=5> 5.1. CNN</font>"
   ]
  },
  {
   "cell_type": "markdown",
   "metadata": {},
   "source": [
    "This is an example of a simple CNN. Note that we are not looking for the optimization of the CNN but to show an example of TINTOlib execution."
   ]
  },
  {
   "cell_type": "code",
   "execution_count": 20,
   "metadata": {
    "id": "tZl0AETUw1r8"
   },
   "outputs": [],
   "source": [
    "from keras.models import Sequential\n",
    "from keras.optimizers import SGD\n",
    "from keras.layers import Dense, Conv2D, Flatten, Dropout, MaxPooling2D, AveragePooling2D\n",
    "from keras.layers import  BatchNormalization, Activation, Input, Concatenate\n",
    "\n",
    "dropout = 0.5\n",
    "epochs = 50\n",
    "n_class = df['class'].value_counts().count()"
   ]
  },
  {
   "cell_type": "code",
   "execution_count": 21,
   "metadata": {},
   "outputs": [
    {
     "name": "stderr",
     "output_type": "stream",
     "text": [
      "2024-07-24 11:49:42.458041: I metal_plugin/src/device/metal_device.cc:1154] Metal device set to: Apple M3 Pro\n",
      "2024-07-24 11:49:42.458076: I metal_plugin/src/device/metal_device.cc:296] systemMemory: 36.00 GB\n",
      "2024-07-24 11:49:42.458082: I metal_plugin/src/device/metal_device.cc:313] maxCacheSize: 13.50 GB\n",
      "2024-07-24 11:49:42.458107: I tensorflow/core/common_runtime/pluggable_device/pluggable_device_factory.cc:305] Could not identify NUMA node of platform GPU ID 0, defaulting to 0. Your kernel may not have been built with NUMA support.\n",
      "2024-07-24 11:49:42.458347: I tensorflow/core/common_runtime/pluggable_device/pluggable_device_factory.cc:271] Created TensorFlow device (/job:localhost/replica:0/task:0/device:GPU:0 with 0 MB memory) -> physical PluggableDevice (device: 0, name: METAL, pci bus id: <undefined>)\n"
     ]
    }
   ],
   "source": [
    "#Entrada\n",
    "input_shape = Input(shape=(pixels, pixels,3))\n",
    "        \n",
    "#Inicio de rama 1\n",
    "tower_1 = Conv2D(16, (3,3), activation='relu',padding=\"same\")(input_shape)\n",
    "tower_1 = BatchNormalization()(tower_1)\n",
    "tower_1 = Activation('relu')(tower_1)\n",
    "tower_1 = MaxPooling2D(2,2)(tower_1)\n",
    "#tower_1 = Dropou(0.5)(tower_1)\n",
    "        \n",
    "tower_1 = Conv2D(32, (3,3), activation='relu',padding=\"same\")(tower_1)\n",
    "tower_1 = BatchNormalization()(tower_1)\n",
    "tower_1 = Activation('relu')(tower_1)\n",
    "tower_1 = MaxPooling2D(2,2)(tower_1)\n",
    "#tower_1 = Dropou(0.5)(tower_1)\n",
    "        \n",
    "tower_1 = Conv2D(64, (3,3), activation='relu',padding=\"same\")(tower_1)\n",
    "tower_1 = BatchNormalization()(tower_1)\n",
    "tower_1 = Activation('relu')(tower_1)\n",
    "tower_1 = MaxPooling2D(2,2)(tower_1)\n",
    "#tower_1 = Dropou(0.5)(tower_1)\n",
    "        \n",
    "tower_1 = Conv2D(64, (3,3), activation='relu',padding=\"same\")(tower_1)\n",
    "tower_1 = BatchNormalization()(tower_1)\n",
    "tower_1 = Activation('relu')(tower_1)\n",
    "tower_1 = MaxPooling2D(2,2)(tower_1)\n",
    "#tower_1 = Dropou(0.5)(tower_1)\n",
    "#Fin de rama 1\n",
    "        \n",
    "#Inicio de rama 2\n",
    "tower_2 = Conv2D(16, (5,5), activation='relu',padding=\"same\")(input_shape)\n",
    "tower_2 = BatchNormalization()(tower_2)\n",
    "tower_2 = Activation('relu')(tower_2)\n",
    "tower_2 = AveragePooling2D(2,2)(tower_2)\n",
    "#tower_2 = Dropou(0.5)(tower_2)\n",
    "        \n",
    "tower_2 = Conv2D(32, (5,5), activation='relu',padding=\"same\")(tower_2)\n",
    "tower_2 = BatchNormalization()(tower_2)\n",
    "tower_2 = Activation('relu')(tower_2)\n",
    "tower_2 = AveragePooling2D(2,2)(tower_2)\n",
    "#tower_2 = Dropou(0.5)(tower_2)\n",
    "        \n",
    "tower_2 = Conv2D(64, (5,5), activation='relu',padding=\"same\")(tower_2)\n",
    "tower_2 = BatchNormalization()(tower_2)\n",
    "tower_2 = Activation('relu')(tower_2)\n",
    "tower_2 = AveragePooling2D(2,2)(tower_2)\n",
    "#tower_2 = Dropou(0.5)(tower_2)\n",
    "        \n",
    "tower_2 = Conv2D(64, (5,5), activation='relu',padding=\"same\")(tower_2)\n",
    "tower_2 = BatchNormalization()(tower_2)\n",
    "tower_2 = Activation('relu')(tower_2)\n",
    "tower_2 = AveragePooling2D(2,2)(tower_2)\n",
    "#tower_2 = Dropou(0.5)(tower_2)\n",
    "#Fin de rama 2\n",
    "            \n",
    "#Concatenación de las 2 ramas\n",
    "merged = Concatenate(axis=1)([tower_1, tower_2])\n",
    "        \n",
    "#Aplanamiento\n",
    "merged = Flatten()(merged)\n",
    "        \n",
    "#Capas adicionales\n",
    "out = Dense(256, activation='relu')(merged)\n",
    "out = Dense(128, activation='sigmoid')(out)\n",
    "out = Dense(64, activation='sigmoid')(out)\n",
    "out = Dense(32, activation='sigmoid')(out)\n",
    "        \n",
    "#Capa final de clasificación\n",
    "out = Dense(n_class, activation='softmax')(out)\n",
    "        \n",
    "model = Model(input_shape, out)"
   ]
  },
  {
   "cell_type": "code",
   "execution_count": 22,
   "metadata": {},
   "outputs": [
    {
     "data": {
      "text/html": [
       "<pre style=\"white-space:pre;overflow-x:auto;line-height:normal;font-family:Menlo,'DejaVu Sans Mono',consolas,'Courier New',monospace\"><span style=\"font-weight: bold\">Model: \"functional_1\"</span>\n",
       "</pre>\n"
      ],
      "text/plain": [
       "\u001b[1mModel: \"functional_1\"\u001b[0m\n"
      ]
     },
     "metadata": {},
     "output_type": "display_data"
    },
    {
     "data": {
      "text/html": [
       "<pre style=\"white-space:pre;overflow-x:auto;line-height:normal;font-family:Menlo,'DejaVu Sans Mono',consolas,'Courier New',monospace\">┏━━━━━━━━━━━━━━━━━━━━━┳━━━━━━━━━━━━━━━━━━━┳━━━━━━━━━━━━┳━━━━━━━━━━━━━━━━━━━┓\n",
       "┃<span style=\"font-weight: bold\"> Layer (type)        </span>┃<span style=\"font-weight: bold\"> Output Shape      </span>┃<span style=\"font-weight: bold\">    Param # </span>┃<span style=\"font-weight: bold\"> Connected to      </span>┃\n",
       "┡━━━━━━━━━━━━━━━━━━━━━╇━━━━━━━━━━━━━━━━━━━╇━━━━━━━━━━━━╇━━━━━━━━━━━━━━━━━━━┩\n",
       "│ input_layer         │ (<span style=\"color: #00d7ff; text-decoration-color: #00d7ff\">None</span>, <span style=\"color: #00af00; text-decoration-color: #00af00\">20</span>, <span style=\"color: #00af00; text-decoration-color: #00af00\">20</span>, <span style=\"color: #00af00; text-decoration-color: #00af00\">3</span>) │          <span style=\"color: #00af00; text-decoration-color: #00af00\">0</span> │ -                 │\n",
       "│ (<span style=\"color: #0087ff; text-decoration-color: #0087ff\">InputLayer</span>)        │                   │            │                   │\n",
       "├─────────────────────┼───────────────────┼────────────┼───────────────────┤\n",
       "│ conv2d (<span style=\"color: #0087ff; text-decoration-color: #0087ff\">Conv2D</span>)     │ (<span style=\"color: #00d7ff; text-decoration-color: #00d7ff\">None</span>, <span style=\"color: #00af00; text-decoration-color: #00af00\">20</span>, <span style=\"color: #00af00; text-decoration-color: #00af00\">20</span>,    │        <span style=\"color: #00af00; text-decoration-color: #00af00\">448</span> │ input_layer[<span style=\"color: #00af00; text-decoration-color: #00af00\">0</span>][<span style=\"color: #00af00; text-decoration-color: #00af00\">0</span>] │\n",
       "│                     │ <span style=\"color: #00af00; text-decoration-color: #00af00\">16</span>)               │            │                   │\n",
       "├─────────────────────┼───────────────────┼────────────┼───────────────────┤\n",
       "│ conv2d_4 (<span style=\"color: #0087ff; text-decoration-color: #0087ff\">Conv2D</span>)   │ (<span style=\"color: #00d7ff; text-decoration-color: #00d7ff\">None</span>, <span style=\"color: #00af00; text-decoration-color: #00af00\">20</span>, <span style=\"color: #00af00; text-decoration-color: #00af00\">20</span>,    │      <span style=\"color: #00af00; text-decoration-color: #00af00\">1,216</span> │ input_layer[<span style=\"color: #00af00; text-decoration-color: #00af00\">0</span>][<span style=\"color: #00af00; text-decoration-color: #00af00\">0</span>] │\n",
       "│                     │ <span style=\"color: #00af00; text-decoration-color: #00af00\">16</span>)               │            │                   │\n",
       "├─────────────────────┼───────────────────┼────────────┼───────────────────┤\n",
       "│ batch_normalization │ (<span style=\"color: #00d7ff; text-decoration-color: #00d7ff\">None</span>, <span style=\"color: #00af00; text-decoration-color: #00af00\">20</span>, <span style=\"color: #00af00; text-decoration-color: #00af00\">20</span>,    │         <span style=\"color: #00af00; text-decoration-color: #00af00\">64</span> │ conv2d[<span style=\"color: #00af00; text-decoration-color: #00af00\">0</span>][<span style=\"color: #00af00; text-decoration-color: #00af00\">0</span>]      │\n",
       "│ (<span style=\"color: #0087ff; text-decoration-color: #0087ff\">BatchNormalizatio…</span> │ <span style=\"color: #00af00; text-decoration-color: #00af00\">16</span>)               │            │                   │\n",
       "├─────────────────────┼───────────────────┼────────────┼───────────────────┤\n",
       "│ batch_normalizatio… │ (<span style=\"color: #00d7ff; text-decoration-color: #00d7ff\">None</span>, <span style=\"color: #00af00; text-decoration-color: #00af00\">20</span>, <span style=\"color: #00af00; text-decoration-color: #00af00\">20</span>,    │         <span style=\"color: #00af00; text-decoration-color: #00af00\">64</span> │ conv2d_4[<span style=\"color: #00af00; text-decoration-color: #00af00\">0</span>][<span style=\"color: #00af00; text-decoration-color: #00af00\">0</span>]    │\n",
       "│ (<span style=\"color: #0087ff; text-decoration-color: #0087ff\">BatchNormalizatio…</span> │ <span style=\"color: #00af00; text-decoration-color: #00af00\">16</span>)               │            │                   │\n",
       "├─────────────────────┼───────────────────┼────────────┼───────────────────┤\n",
       "│ activation          │ (<span style=\"color: #00d7ff; text-decoration-color: #00d7ff\">None</span>, <span style=\"color: #00af00; text-decoration-color: #00af00\">20</span>, <span style=\"color: #00af00; text-decoration-color: #00af00\">20</span>,    │          <span style=\"color: #00af00; text-decoration-color: #00af00\">0</span> │ batch_normalizat… │\n",
       "│ (<span style=\"color: #0087ff; text-decoration-color: #0087ff\">Activation</span>)        │ <span style=\"color: #00af00; text-decoration-color: #00af00\">16</span>)               │            │                   │\n",
       "├─────────────────────┼───────────────────┼────────────┼───────────────────┤\n",
       "│ activation_4        │ (<span style=\"color: #00d7ff; text-decoration-color: #00d7ff\">None</span>, <span style=\"color: #00af00; text-decoration-color: #00af00\">20</span>, <span style=\"color: #00af00; text-decoration-color: #00af00\">20</span>,    │          <span style=\"color: #00af00; text-decoration-color: #00af00\">0</span> │ batch_normalizat… │\n",
       "│ (<span style=\"color: #0087ff; text-decoration-color: #0087ff\">Activation</span>)        │ <span style=\"color: #00af00; text-decoration-color: #00af00\">16</span>)               │            │                   │\n",
       "├─────────────────────┼───────────────────┼────────────┼───────────────────┤\n",
       "│ max_pooling2d       │ (<span style=\"color: #00d7ff; text-decoration-color: #00d7ff\">None</span>, <span style=\"color: #00af00; text-decoration-color: #00af00\">10</span>, <span style=\"color: #00af00; text-decoration-color: #00af00\">10</span>,    │          <span style=\"color: #00af00; text-decoration-color: #00af00\">0</span> │ activation[<span style=\"color: #00af00; text-decoration-color: #00af00\">0</span>][<span style=\"color: #00af00; text-decoration-color: #00af00\">0</span>]  │\n",
       "│ (<span style=\"color: #0087ff; text-decoration-color: #0087ff\">MaxPooling2D</span>)      │ <span style=\"color: #00af00; text-decoration-color: #00af00\">16</span>)               │            │                   │\n",
       "├─────────────────────┼───────────────────┼────────────┼───────────────────┤\n",
       "│ average_pooling2d   │ (<span style=\"color: #00d7ff; text-decoration-color: #00d7ff\">None</span>, <span style=\"color: #00af00; text-decoration-color: #00af00\">10</span>, <span style=\"color: #00af00; text-decoration-color: #00af00\">10</span>,    │          <span style=\"color: #00af00; text-decoration-color: #00af00\">0</span> │ activation_4[<span style=\"color: #00af00; text-decoration-color: #00af00\">0</span>][<span style=\"color: #00af00; text-decoration-color: #00af00\">…</span> │\n",
       "│ (<span style=\"color: #0087ff; text-decoration-color: #0087ff\">AveragePooling2D</span>)  │ <span style=\"color: #00af00; text-decoration-color: #00af00\">16</span>)               │            │                   │\n",
       "├─────────────────────┼───────────────────┼────────────┼───────────────────┤\n",
       "│ conv2d_1 (<span style=\"color: #0087ff; text-decoration-color: #0087ff\">Conv2D</span>)   │ (<span style=\"color: #00d7ff; text-decoration-color: #00d7ff\">None</span>, <span style=\"color: #00af00; text-decoration-color: #00af00\">10</span>, <span style=\"color: #00af00; text-decoration-color: #00af00\">10</span>,    │      <span style=\"color: #00af00; text-decoration-color: #00af00\">4,640</span> │ max_pooling2d[<span style=\"color: #00af00; text-decoration-color: #00af00\">0</span>]… │\n",
       "│                     │ <span style=\"color: #00af00; text-decoration-color: #00af00\">32</span>)               │            │                   │\n",
       "├─────────────────────┼───────────────────┼────────────┼───────────────────┤\n",
       "│ conv2d_5 (<span style=\"color: #0087ff; text-decoration-color: #0087ff\">Conv2D</span>)   │ (<span style=\"color: #00d7ff; text-decoration-color: #00d7ff\">None</span>, <span style=\"color: #00af00; text-decoration-color: #00af00\">10</span>, <span style=\"color: #00af00; text-decoration-color: #00af00\">10</span>,    │     <span style=\"color: #00af00; text-decoration-color: #00af00\">12,832</span> │ average_pooling2… │\n",
       "│                     │ <span style=\"color: #00af00; text-decoration-color: #00af00\">32</span>)               │            │                   │\n",
       "├─────────────────────┼───────────────────┼────────────┼───────────────────┤\n",
       "│ batch_normalizatio… │ (<span style=\"color: #00d7ff; text-decoration-color: #00d7ff\">None</span>, <span style=\"color: #00af00; text-decoration-color: #00af00\">10</span>, <span style=\"color: #00af00; text-decoration-color: #00af00\">10</span>,    │        <span style=\"color: #00af00; text-decoration-color: #00af00\">128</span> │ conv2d_1[<span style=\"color: #00af00; text-decoration-color: #00af00\">0</span>][<span style=\"color: #00af00; text-decoration-color: #00af00\">0</span>]    │\n",
       "│ (<span style=\"color: #0087ff; text-decoration-color: #0087ff\">BatchNormalizatio…</span> │ <span style=\"color: #00af00; text-decoration-color: #00af00\">32</span>)               │            │                   │\n",
       "├─────────────────────┼───────────────────┼────────────┼───────────────────┤\n",
       "│ batch_normalizatio… │ (<span style=\"color: #00d7ff; text-decoration-color: #00d7ff\">None</span>, <span style=\"color: #00af00; text-decoration-color: #00af00\">10</span>, <span style=\"color: #00af00; text-decoration-color: #00af00\">10</span>,    │        <span style=\"color: #00af00; text-decoration-color: #00af00\">128</span> │ conv2d_5[<span style=\"color: #00af00; text-decoration-color: #00af00\">0</span>][<span style=\"color: #00af00; text-decoration-color: #00af00\">0</span>]    │\n",
       "│ (<span style=\"color: #0087ff; text-decoration-color: #0087ff\">BatchNormalizatio…</span> │ <span style=\"color: #00af00; text-decoration-color: #00af00\">32</span>)               │            │                   │\n",
       "├─────────────────────┼───────────────────┼────────────┼───────────────────┤\n",
       "│ activation_1        │ (<span style=\"color: #00d7ff; text-decoration-color: #00d7ff\">None</span>, <span style=\"color: #00af00; text-decoration-color: #00af00\">10</span>, <span style=\"color: #00af00; text-decoration-color: #00af00\">10</span>,    │          <span style=\"color: #00af00; text-decoration-color: #00af00\">0</span> │ batch_normalizat… │\n",
       "│ (<span style=\"color: #0087ff; text-decoration-color: #0087ff\">Activation</span>)        │ <span style=\"color: #00af00; text-decoration-color: #00af00\">32</span>)               │            │                   │\n",
       "├─────────────────────┼───────────────────┼────────────┼───────────────────┤\n",
       "│ activation_5        │ (<span style=\"color: #00d7ff; text-decoration-color: #00d7ff\">None</span>, <span style=\"color: #00af00; text-decoration-color: #00af00\">10</span>, <span style=\"color: #00af00; text-decoration-color: #00af00\">10</span>,    │          <span style=\"color: #00af00; text-decoration-color: #00af00\">0</span> │ batch_normalizat… │\n",
       "│ (<span style=\"color: #0087ff; text-decoration-color: #0087ff\">Activation</span>)        │ <span style=\"color: #00af00; text-decoration-color: #00af00\">32</span>)               │            │                   │\n",
       "├─────────────────────┼───────────────────┼────────────┼───────────────────┤\n",
       "│ max_pooling2d_1     │ (<span style=\"color: #00d7ff; text-decoration-color: #00d7ff\">None</span>, <span style=\"color: #00af00; text-decoration-color: #00af00\">5</span>, <span style=\"color: #00af00; text-decoration-color: #00af00\">5</span>, <span style=\"color: #00af00; text-decoration-color: #00af00\">32</span>)  │          <span style=\"color: #00af00; text-decoration-color: #00af00\">0</span> │ activation_1[<span style=\"color: #00af00; text-decoration-color: #00af00\">0</span>][<span style=\"color: #00af00; text-decoration-color: #00af00\">…</span> │\n",
       "│ (<span style=\"color: #0087ff; text-decoration-color: #0087ff\">MaxPooling2D</span>)      │                   │            │                   │\n",
       "├─────────────────────┼───────────────────┼────────────┼───────────────────┤\n",
       "│ average_pooling2d_1 │ (<span style=\"color: #00d7ff; text-decoration-color: #00d7ff\">None</span>, <span style=\"color: #00af00; text-decoration-color: #00af00\">5</span>, <span style=\"color: #00af00; text-decoration-color: #00af00\">5</span>, <span style=\"color: #00af00; text-decoration-color: #00af00\">32</span>)  │          <span style=\"color: #00af00; text-decoration-color: #00af00\">0</span> │ activation_5[<span style=\"color: #00af00; text-decoration-color: #00af00\">0</span>][<span style=\"color: #00af00; text-decoration-color: #00af00\">…</span> │\n",
       "│ (<span style=\"color: #0087ff; text-decoration-color: #0087ff\">AveragePooling2D</span>)  │                   │            │                   │\n",
       "├─────────────────────┼───────────────────┼────────────┼───────────────────┤\n",
       "│ conv2d_2 (<span style=\"color: #0087ff; text-decoration-color: #0087ff\">Conv2D</span>)   │ (<span style=\"color: #00d7ff; text-decoration-color: #00d7ff\">None</span>, <span style=\"color: #00af00; text-decoration-color: #00af00\">5</span>, <span style=\"color: #00af00; text-decoration-color: #00af00\">5</span>, <span style=\"color: #00af00; text-decoration-color: #00af00\">64</span>)  │     <span style=\"color: #00af00; text-decoration-color: #00af00\">18,496</span> │ max_pooling2d_1[<span style=\"color: #00af00; text-decoration-color: #00af00\">…</span> │\n",
       "├─────────────────────┼───────────────────┼────────────┼───────────────────┤\n",
       "│ conv2d_6 (<span style=\"color: #0087ff; text-decoration-color: #0087ff\">Conv2D</span>)   │ (<span style=\"color: #00d7ff; text-decoration-color: #00d7ff\">None</span>, <span style=\"color: #00af00; text-decoration-color: #00af00\">5</span>, <span style=\"color: #00af00; text-decoration-color: #00af00\">5</span>, <span style=\"color: #00af00; text-decoration-color: #00af00\">64</span>)  │     <span style=\"color: #00af00; text-decoration-color: #00af00\">51,264</span> │ average_pooling2… │\n",
       "├─────────────────────┼───────────────────┼────────────┼───────────────────┤\n",
       "│ batch_normalizatio… │ (<span style=\"color: #00d7ff; text-decoration-color: #00d7ff\">None</span>, <span style=\"color: #00af00; text-decoration-color: #00af00\">5</span>, <span style=\"color: #00af00; text-decoration-color: #00af00\">5</span>, <span style=\"color: #00af00; text-decoration-color: #00af00\">64</span>)  │        <span style=\"color: #00af00; text-decoration-color: #00af00\">256</span> │ conv2d_2[<span style=\"color: #00af00; text-decoration-color: #00af00\">0</span>][<span style=\"color: #00af00; text-decoration-color: #00af00\">0</span>]    │\n",
       "│ (<span style=\"color: #0087ff; text-decoration-color: #0087ff\">BatchNormalizatio…</span> │                   │            │                   │\n",
       "├─────────────────────┼───────────────────┼────────────┼───────────────────┤\n",
       "│ batch_normalizatio… │ (<span style=\"color: #00d7ff; text-decoration-color: #00d7ff\">None</span>, <span style=\"color: #00af00; text-decoration-color: #00af00\">5</span>, <span style=\"color: #00af00; text-decoration-color: #00af00\">5</span>, <span style=\"color: #00af00; text-decoration-color: #00af00\">64</span>)  │        <span style=\"color: #00af00; text-decoration-color: #00af00\">256</span> │ conv2d_6[<span style=\"color: #00af00; text-decoration-color: #00af00\">0</span>][<span style=\"color: #00af00; text-decoration-color: #00af00\">0</span>]    │\n",
       "│ (<span style=\"color: #0087ff; text-decoration-color: #0087ff\">BatchNormalizatio…</span> │                   │            │                   │\n",
       "├─────────────────────┼───────────────────┼────────────┼───────────────────┤\n",
       "│ activation_2        │ (<span style=\"color: #00d7ff; text-decoration-color: #00d7ff\">None</span>, <span style=\"color: #00af00; text-decoration-color: #00af00\">5</span>, <span style=\"color: #00af00; text-decoration-color: #00af00\">5</span>, <span style=\"color: #00af00; text-decoration-color: #00af00\">64</span>)  │          <span style=\"color: #00af00; text-decoration-color: #00af00\">0</span> │ batch_normalizat… │\n",
       "│ (<span style=\"color: #0087ff; text-decoration-color: #0087ff\">Activation</span>)        │                   │            │                   │\n",
       "├─────────────────────┼───────────────────┼────────────┼───────────────────┤\n",
       "│ activation_6        │ (<span style=\"color: #00d7ff; text-decoration-color: #00d7ff\">None</span>, <span style=\"color: #00af00; text-decoration-color: #00af00\">5</span>, <span style=\"color: #00af00; text-decoration-color: #00af00\">5</span>, <span style=\"color: #00af00; text-decoration-color: #00af00\">64</span>)  │          <span style=\"color: #00af00; text-decoration-color: #00af00\">0</span> │ batch_normalizat… │\n",
       "│ (<span style=\"color: #0087ff; text-decoration-color: #0087ff\">Activation</span>)        │                   │            │                   │\n",
       "├─────────────────────┼───────────────────┼────────────┼───────────────────┤\n",
       "│ max_pooling2d_2     │ (<span style=\"color: #00d7ff; text-decoration-color: #00d7ff\">None</span>, <span style=\"color: #00af00; text-decoration-color: #00af00\">2</span>, <span style=\"color: #00af00; text-decoration-color: #00af00\">2</span>, <span style=\"color: #00af00; text-decoration-color: #00af00\">64</span>)  │          <span style=\"color: #00af00; text-decoration-color: #00af00\">0</span> │ activation_2[<span style=\"color: #00af00; text-decoration-color: #00af00\">0</span>][<span style=\"color: #00af00; text-decoration-color: #00af00\">…</span> │\n",
       "│ (<span style=\"color: #0087ff; text-decoration-color: #0087ff\">MaxPooling2D</span>)      │                   │            │                   │\n",
       "├─────────────────────┼───────────────────┼────────────┼───────────────────┤\n",
       "│ average_pooling2d_2 │ (<span style=\"color: #00d7ff; text-decoration-color: #00d7ff\">None</span>, <span style=\"color: #00af00; text-decoration-color: #00af00\">2</span>, <span style=\"color: #00af00; text-decoration-color: #00af00\">2</span>, <span style=\"color: #00af00; text-decoration-color: #00af00\">64</span>)  │          <span style=\"color: #00af00; text-decoration-color: #00af00\">0</span> │ activation_6[<span style=\"color: #00af00; text-decoration-color: #00af00\">0</span>][<span style=\"color: #00af00; text-decoration-color: #00af00\">…</span> │\n",
       "│ (<span style=\"color: #0087ff; text-decoration-color: #0087ff\">AveragePooling2D</span>)  │                   │            │                   │\n",
       "├─────────────────────┼───────────────────┼────────────┼───────────────────┤\n",
       "│ conv2d_3 (<span style=\"color: #0087ff; text-decoration-color: #0087ff\">Conv2D</span>)   │ (<span style=\"color: #00d7ff; text-decoration-color: #00d7ff\">None</span>, <span style=\"color: #00af00; text-decoration-color: #00af00\">2</span>, <span style=\"color: #00af00; text-decoration-color: #00af00\">2</span>, <span style=\"color: #00af00; text-decoration-color: #00af00\">64</span>)  │     <span style=\"color: #00af00; text-decoration-color: #00af00\">36,928</span> │ max_pooling2d_2[<span style=\"color: #00af00; text-decoration-color: #00af00\">…</span> │\n",
       "├─────────────────────┼───────────────────┼────────────┼───────────────────┤\n",
       "│ conv2d_7 (<span style=\"color: #0087ff; text-decoration-color: #0087ff\">Conv2D</span>)   │ (<span style=\"color: #00d7ff; text-decoration-color: #00d7ff\">None</span>, <span style=\"color: #00af00; text-decoration-color: #00af00\">2</span>, <span style=\"color: #00af00; text-decoration-color: #00af00\">2</span>, <span style=\"color: #00af00; text-decoration-color: #00af00\">64</span>)  │    <span style=\"color: #00af00; text-decoration-color: #00af00\">102,464</span> │ average_pooling2… │\n",
       "├─────────────────────┼───────────────────┼────────────┼───────────────────┤\n",
       "│ batch_normalizatio… │ (<span style=\"color: #00d7ff; text-decoration-color: #00d7ff\">None</span>, <span style=\"color: #00af00; text-decoration-color: #00af00\">2</span>, <span style=\"color: #00af00; text-decoration-color: #00af00\">2</span>, <span style=\"color: #00af00; text-decoration-color: #00af00\">64</span>)  │        <span style=\"color: #00af00; text-decoration-color: #00af00\">256</span> │ conv2d_3[<span style=\"color: #00af00; text-decoration-color: #00af00\">0</span>][<span style=\"color: #00af00; text-decoration-color: #00af00\">0</span>]    │\n",
       "│ (<span style=\"color: #0087ff; text-decoration-color: #0087ff\">BatchNormalizatio…</span> │                   │            │                   │\n",
       "├─────────────────────┼───────────────────┼────────────┼───────────────────┤\n",
       "│ batch_normalizatio… │ (<span style=\"color: #00d7ff; text-decoration-color: #00d7ff\">None</span>, <span style=\"color: #00af00; text-decoration-color: #00af00\">2</span>, <span style=\"color: #00af00; text-decoration-color: #00af00\">2</span>, <span style=\"color: #00af00; text-decoration-color: #00af00\">64</span>)  │        <span style=\"color: #00af00; text-decoration-color: #00af00\">256</span> │ conv2d_7[<span style=\"color: #00af00; text-decoration-color: #00af00\">0</span>][<span style=\"color: #00af00; text-decoration-color: #00af00\">0</span>]    │\n",
       "│ (<span style=\"color: #0087ff; text-decoration-color: #0087ff\">BatchNormalizatio…</span> │                   │            │                   │\n",
       "├─────────────────────┼───────────────────┼────────────┼───────────────────┤\n",
       "│ activation_3        │ (<span style=\"color: #00d7ff; text-decoration-color: #00d7ff\">None</span>, <span style=\"color: #00af00; text-decoration-color: #00af00\">2</span>, <span style=\"color: #00af00; text-decoration-color: #00af00\">2</span>, <span style=\"color: #00af00; text-decoration-color: #00af00\">64</span>)  │          <span style=\"color: #00af00; text-decoration-color: #00af00\">0</span> │ batch_normalizat… │\n",
       "│ (<span style=\"color: #0087ff; text-decoration-color: #0087ff\">Activation</span>)        │                   │            │                   │\n",
       "├─────────────────────┼───────────────────┼────────────┼───────────────────┤\n",
       "│ activation_7        │ (<span style=\"color: #00d7ff; text-decoration-color: #00d7ff\">None</span>, <span style=\"color: #00af00; text-decoration-color: #00af00\">2</span>, <span style=\"color: #00af00; text-decoration-color: #00af00\">2</span>, <span style=\"color: #00af00; text-decoration-color: #00af00\">64</span>)  │          <span style=\"color: #00af00; text-decoration-color: #00af00\">0</span> │ batch_normalizat… │\n",
       "│ (<span style=\"color: #0087ff; text-decoration-color: #0087ff\">Activation</span>)        │                   │            │                   │\n",
       "├─────────────────────┼───────────────────┼────────────┼───────────────────┤\n",
       "│ max_pooling2d_3     │ (<span style=\"color: #00d7ff; text-decoration-color: #00d7ff\">None</span>, <span style=\"color: #00af00; text-decoration-color: #00af00\">1</span>, <span style=\"color: #00af00; text-decoration-color: #00af00\">1</span>, <span style=\"color: #00af00; text-decoration-color: #00af00\">64</span>)  │          <span style=\"color: #00af00; text-decoration-color: #00af00\">0</span> │ activation_3[<span style=\"color: #00af00; text-decoration-color: #00af00\">0</span>][<span style=\"color: #00af00; text-decoration-color: #00af00\">…</span> │\n",
       "│ (<span style=\"color: #0087ff; text-decoration-color: #0087ff\">MaxPooling2D</span>)      │                   │            │                   │\n",
       "├─────────────────────┼───────────────────┼────────────┼───────────────────┤\n",
       "│ average_pooling2d_3 │ (<span style=\"color: #00d7ff; text-decoration-color: #00d7ff\">None</span>, <span style=\"color: #00af00; text-decoration-color: #00af00\">1</span>, <span style=\"color: #00af00; text-decoration-color: #00af00\">1</span>, <span style=\"color: #00af00; text-decoration-color: #00af00\">64</span>)  │          <span style=\"color: #00af00; text-decoration-color: #00af00\">0</span> │ activation_7[<span style=\"color: #00af00; text-decoration-color: #00af00\">0</span>][<span style=\"color: #00af00; text-decoration-color: #00af00\">…</span> │\n",
       "│ (<span style=\"color: #0087ff; text-decoration-color: #0087ff\">AveragePooling2D</span>)  │                   │            │                   │\n",
       "├─────────────────────┼───────────────────┼────────────┼───────────────────┤\n",
       "│ concatenate         │ (<span style=\"color: #00d7ff; text-decoration-color: #00d7ff\">None</span>, <span style=\"color: #00af00; text-decoration-color: #00af00\">2</span>, <span style=\"color: #00af00; text-decoration-color: #00af00\">1</span>, <span style=\"color: #00af00; text-decoration-color: #00af00\">64</span>)  │          <span style=\"color: #00af00; text-decoration-color: #00af00\">0</span> │ max_pooling2d_3[<span style=\"color: #00af00; text-decoration-color: #00af00\">…</span> │\n",
       "│ (<span style=\"color: #0087ff; text-decoration-color: #0087ff\">Concatenate</span>)       │                   │            │ average_pooling2… │\n",
       "├─────────────────────┼───────────────────┼────────────┼───────────────────┤\n",
       "│ flatten (<span style=\"color: #0087ff; text-decoration-color: #0087ff\">Flatten</span>)   │ (<span style=\"color: #00d7ff; text-decoration-color: #00d7ff\">None</span>, <span style=\"color: #00af00; text-decoration-color: #00af00\">128</span>)       │          <span style=\"color: #00af00; text-decoration-color: #00af00\">0</span> │ concatenate[<span style=\"color: #00af00; text-decoration-color: #00af00\">0</span>][<span style=\"color: #00af00; text-decoration-color: #00af00\">0</span>] │\n",
       "├─────────────────────┼───────────────────┼────────────┼───────────────────┤\n",
       "│ dense (<span style=\"color: #0087ff; text-decoration-color: #0087ff\">Dense</span>)       │ (<span style=\"color: #00d7ff; text-decoration-color: #00d7ff\">None</span>, <span style=\"color: #00af00; text-decoration-color: #00af00\">256</span>)       │     <span style=\"color: #00af00; text-decoration-color: #00af00\">33,024</span> │ flatten[<span style=\"color: #00af00; text-decoration-color: #00af00\">0</span>][<span style=\"color: #00af00; text-decoration-color: #00af00\">0</span>]     │\n",
       "├─────────────────────┼───────────────────┼────────────┼───────────────────┤\n",
       "│ dense_1 (<span style=\"color: #0087ff; text-decoration-color: #0087ff\">Dense</span>)     │ (<span style=\"color: #00d7ff; text-decoration-color: #00d7ff\">None</span>, <span style=\"color: #00af00; text-decoration-color: #00af00\">128</span>)       │     <span style=\"color: #00af00; text-decoration-color: #00af00\">32,896</span> │ dense[<span style=\"color: #00af00; text-decoration-color: #00af00\">0</span>][<span style=\"color: #00af00; text-decoration-color: #00af00\">0</span>]       │\n",
       "├─────────────────────┼───────────────────┼────────────┼───────────────────┤\n",
       "│ dense_2 (<span style=\"color: #0087ff; text-decoration-color: #0087ff\">Dense</span>)     │ (<span style=\"color: #00d7ff; text-decoration-color: #00d7ff\">None</span>, <span style=\"color: #00af00; text-decoration-color: #00af00\">64</span>)        │      <span style=\"color: #00af00; text-decoration-color: #00af00\">8,256</span> │ dense_1[<span style=\"color: #00af00; text-decoration-color: #00af00\">0</span>][<span style=\"color: #00af00; text-decoration-color: #00af00\">0</span>]     │\n",
       "├─────────────────────┼───────────────────┼────────────┼───────────────────┤\n",
       "│ dense_3 (<span style=\"color: #0087ff; text-decoration-color: #0087ff\">Dense</span>)     │ (<span style=\"color: #00d7ff; text-decoration-color: #00d7ff\">None</span>, <span style=\"color: #00af00; text-decoration-color: #00af00\">32</span>)        │      <span style=\"color: #00af00; text-decoration-color: #00af00\">2,080</span> │ dense_2[<span style=\"color: #00af00; text-decoration-color: #00af00\">0</span>][<span style=\"color: #00af00; text-decoration-color: #00af00\">0</span>]     │\n",
       "├─────────────────────┼───────────────────┼────────────┼───────────────────┤\n",
       "│ dense_4 (<span style=\"color: #0087ff; text-decoration-color: #0087ff\">Dense</span>)     │ (<span style=\"color: #00d7ff; text-decoration-color: #00d7ff\">None</span>, <span style=\"color: #00af00; text-decoration-color: #00af00\">2</span>)         │         <span style=\"color: #00af00; text-decoration-color: #00af00\">66</span> │ dense_3[<span style=\"color: #00af00; text-decoration-color: #00af00\">0</span>][<span style=\"color: #00af00; text-decoration-color: #00af00\">0</span>]     │\n",
       "└─────────────────────┴───────────────────┴────────────┴───────────────────┘\n",
       "</pre>\n"
      ],
      "text/plain": [
       "┏━━━━━━━━━━━━━━━━━━━━━┳━━━━━━━━━━━━━━━━━━━┳━━━━━━━━━━━━┳━━━━━━━━━━━━━━━━━━━┓\n",
       "┃\u001b[1m \u001b[0m\u001b[1mLayer (type)       \u001b[0m\u001b[1m \u001b[0m┃\u001b[1m \u001b[0m\u001b[1mOutput Shape     \u001b[0m\u001b[1m \u001b[0m┃\u001b[1m \u001b[0m\u001b[1m   Param #\u001b[0m\u001b[1m \u001b[0m┃\u001b[1m \u001b[0m\u001b[1mConnected to     \u001b[0m\u001b[1m \u001b[0m┃\n",
       "┡━━━━━━━━━━━━━━━━━━━━━╇━━━━━━━━━━━━━━━━━━━╇━━━━━━━━━━━━╇━━━━━━━━━━━━━━━━━━━┩\n",
       "│ input_layer         │ (\u001b[38;5;45mNone\u001b[0m, \u001b[38;5;34m20\u001b[0m, \u001b[38;5;34m20\u001b[0m, \u001b[38;5;34m3\u001b[0m) │          \u001b[38;5;34m0\u001b[0m │ -                 │\n",
       "│ (\u001b[38;5;33mInputLayer\u001b[0m)        │                   │            │                   │\n",
       "├─────────────────────┼───────────────────┼────────────┼───────────────────┤\n",
       "│ conv2d (\u001b[38;5;33mConv2D\u001b[0m)     │ (\u001b[38;5;45mNone\u001b[0m, \u001b[38;5;34m20\u001b[0m, \u001b[38;5;34m20\u001b[0m,    │        \u001b[38;5;34m448\u001b[0m │ input_layer[\u001b[38;5;34m0\u001b[0m][\u001b[38;5;34m0\u001b[0m] │\n",
       "│                     │ \u001b[38;5;34m16\u001b[0m)               │            │                   │\n",
       "├─────────────────────┼───────────────────┼────────────┼───────────────────┤\n",
       "│ conv2d_4 (\u001b[38;5;33mConv2D\u001b[0m)   │ (\u001b[38;5;45mNone\u001b[0m, \u001b[38;5;34m20\u001b[0m, \u001b[38;5;34m20\u001b[0m,    │      \u001b[38;5;34m1,216\u001b[0m │ input_layer[\u001b[38;5;34m0\u001b[0m][\u001b[38;5;34m0\u001b[0m] │\n",
       "│                     │ \u001b[38;5;34m16\u001b[0m)               │            │                   │\n",
       "├─────────────────────┼───────────────────┼────────────┼───────────────────┤\n",
       "│ batch_normalization │ (\u001b[38;5;45mNone\u001b[0m, \u001b[38;5;34m20\u001b[0m, \u001b[38;5;34m20\u001b[0m,    │         \u001b[38;5;34m64\u001b[0m │ conv2d[\u001b[38;5;34m0\u001b[0m][\u001b[38;5;34m0\u001b[0m]      │\n",
       "│ (\u001b[38;5;33mBatchNormalizatio…\u001b[0m │ \u001b[38;5;34m16\u001b[0m)               │            │                   │\n",
       "├─────────────────────┼───────────────────┼────────────┼───────────────────┤\n",
       "│ batch_normalizatio… │ (\u001b[38;5;45mNone\u001b[0m, \u001b[38;5;34m20\u001b[0m, \u001b[38;5;34m20\u001b[0m,    │         \u001b[38;5;34m64\u001b[0m │ conv2d_4[\u001b[38;5;34m0\u001b[0m][\u001b[38;5;34m0\u001b[0m]    │\n",
       "│ (\u001b[38;5;33mBatchNormalizatio…\u001b[0m │ \u001b[38;5;34m16\u001b[0m)               │            │                   │\n",
       "├─────────────────────┼───────────────────┼────────────┼───────────────────┤\n",
       "│ activation          │ (\u001b[38;5;45mNone\u001b[0m, \u001b[38;5;34m20\u001b[0m, \u001b[38;5;34m20\u001b[0m,    │          \u001b[38;5;34m0\u001b[0m │ batch_normalizat… │\n",
       "│ (\u001b[38;5;33mActivation\u001b[0m)        │ \u001b[38;5;34m16\u001b[0m)               │            │                   │\n",
       "├─────────────────────┼───────────────────┼────────────┼───────────────────┤\n",
       "│ activation_4        │ (\u001b[38;5;45mNone\u001b[0m, \u001b[38;5;34m20\u001b[0m, \u001b[38;5;34m20\u001b[0m,    │          \u001b[38;5;34m0\u001b[0m │ batch_normalizat… │\n",
       "│ (\u001b[38;5;33mActivation\u001b[0m)        │ \u001b[38;5;34m16\u001b[0m)               │            │                   │\n",
       "├─────────────────────┼───────────────────┼────────────┼───────────────────┤\n",
       "│ max_pooling2d       │ (\u001b[38;5;45mNone\u001b[0m, \u001b[38;5;34m10\u001b[0m, \u001b[38;5;34m10\u001b[0m,    │          \u001b[38;5;34m0\u001b[0m │ activation[\u001b[38;5;34m0\u001b[0m][\u001b[38;5;34m0\u001b[0m]  │\n",
       "│ (\u001b[38;5;33mMaxPooling2D\u001b[0m)      │ \u001b[38;5;34m16\u001b[0m)               │            │                   │\n",
       "├─────────────────────┼───────────────────┼────────────┼───────────────────┤\n",
       "│ average_pooling2d   │ (\u001b[38;5;45mNone\u001b[0m, \u001b[38;5;34m10\u001b[0m, \u001b[38;5;34m10\u001b[0m,    │          \u001b[38;5;34m0\u001b[0m │ activation_4[\u001b[38;5;34m0\u001b[0m][\u001b[38;5;34m…\u001b[0m │\n",
       "│ (\u001b[38;5;33mAveragePooling2D\u001b[0m)  │ \u001b[38;5;34m16\u001b[0m)               │            │                   │\n",
       "├─────────────────────┼───────────────────┼────────────┼───────────────────┤\n",
       "│ conv2d_1 (\u001b[38;5;33mConv2D\u001b[0m)   │ (\u001b[38;5;45mNone\u001b[0m, \u001b[38;5;34m10\u001b[0m, \u001b[38;5;34m10\u001b[0m,    │      \u001b[38;5;34m4,640\u001b[0m │ max_pooling2d[\u001b[38;5;34m0\u001b[0m]… │\n",
       "│                     │ \u001b[38;5;34m32\u001b[0m)               │            │                   │\n",
       "├─────────────────────┼───────────────────┼────────────┼───────────────────┤\n",
       "│ conv2d_5 (\u001b[38;5;33mConv2D\u001b[0m)   │ (\u001b[38;5;45mNone\u001b[0m, \u001b[38;5;34m10\u001b[0m, \u001b[38;5;34m10\u001b[0m,    │     \u001b[38;5;34m12,832\u001b[0m │ average_pooling2… │\n",
       "│                     │ \u001b[38;5;34m32\u001b[0m)               │            │                   │\n",
       "├─────────────────────┼───────────────────┼────────────┼───────────────────┤\n",
       "│ batch_normalizatio… │ (\u001b[38;5;45mNone\u001b[0m, \u001b[38;5;34m10\u001b[0m, \u001b[38;5;34m10\u001b[0m,    │        \u001b[38;5;34m128\u001b[0m │ conv2d_1[\u001b[38;5;34m0\u001b[0m][\u001b[38;5;34m0\u001b[0m]    │\n",
       "│ (\u001b[38;5;33mBatchNormalizatio…\u001b[0m │ \u001b[38;5;34m32\u001b[0m)               │            │                   │\n",
       "├─────────────────────┼───────────────────┼────────────┼───────────────────┤\n",
       "│ batch_normalizatio… │ (\u001b[38;5;45mNone\u001b[0m, \u001b[38;5;34m10\u001b[0m, \u001b[38;5;34m10\u001b[0m,    │        \u001b[38;5;34m128\u001b[0m │ conv2d_5[\u001b[38;5;34m0\u001b[0m][\u001b[38;5;34m0\u001b[0m]    │\n",
       "│ (\u001b[38;5;33mBatchNormalizatio…\u001b[0m │ \u001b[38;5;34m32\u001b[0m)               │            │                   │\n",
       "├─────────────────────┼───────────────────┼────────────┼───────────────────┤\n",
       "│ activation_1        │ (\u001b[38;5;45mNone\u001b[0m, \u001b[38;5;34m10\u001b[0m, \u001b[38;5;34m10\u001b[0m,    │          \u001b[38;5;34m0\u001b[0m │ batch_normalizat… │\n",
       "│ (\u001b[38;5;33mActivation\u001b[0m)        │ \u001b[38;5;34m32\u001b[0m)               │            │                   │\n",
       "├─────────────────────┼───────────────────┼────────────┼───────────────────┤\n",
       "│ activation_5        │ (\u001b[38;5;45mNone\u001b[0m, \u001b[38;5;34m10\u001b[0m, \u001b[38;5;34m10\u001b[0m,    │          \u001b[38;5;34m0\u001b[0m │ batch_normalizat… │\n",
       "│ (\u001b[38;5;33mActivation\u001b[0m)        │ \u001b[38;5;34m32\u001b[0m)               │            │                   │\n",
       "├─────────────────────┼───────────────────┼────────────┼───────────────────┤\n",
       "│ max_pooling2d_1     │ (\u001b[38;5;45mNone\u001b[0m, \u001b[38;5;34m5\u001b[0m, \u001b[38;5;34m5\u001b[0m, \u001b[38;5;34m32\u001b[0m)  │          \u001b[38;5;34m0\u001b[0m │ activation_1[\u001b[38;5;34m0\u001b[0m][\u001b[38;5;34m…\u001b[0m │\n",
       "│ (\u001b[38;5;33mMaxPooling2D\u001b[0m)      │                   │            │                   │\n",
       "├─────────────────────┼───────────────────┼────────────┼───────────────────┤\n",
       "│ average_pooling2d_1 │ (\u001b[38;5;45mNone\u001b[0m, \u001b[38;5;34m5\u001b[0m, \u001b[38;5;34m5\u001b[0m, \u001b[38;5;34m32\u001b[0m)  │          \u001b[38;5;34m0\u001b[0m │ activation_5[\u001b[38;5;34m0\u001b[0m][\u001b[38;5;34m…\u001b[0m │\n",
       "│ (\u001b[38;5;33mAveragePooling2D\u001b[0m)  │                   │            │                   │\n",
       "├─────────────────────┼───────────────────┼────────────┼───────────────────┤\n",
       "│ conv2d_2 (\u001b[38;5;33mConv2D\u001b[0m)   │ (\u001b[38;5;45mNone\u001b[0m, \u001b[38;5;34m5\u001b[0m, \u001b[38;5;34m5\u001b[0m, \u001b[38;5;34m64\u001b[0m)  │     \u001b[38;5;34m18,496\u001b[0m │ max_pooling2d_1[\u001b[38;5;34m…\u001b[0m │\n",
       "├─────────────────────┼───────────────────┼────────────┼───────────────────┤\n",
       "│ conv2d_6 (\u001b[38;5;33mConv2D\u001b[0m)   │ (\u001b[38;5;45mNone\u001b[0m, \u001b[38;5;34m5\u001b[0m, \u001b[38;5;34m5\u001b[0m, \u001b[38;5;34m64\u001b[0m)  │     \u001b[38;5;34m51,264\u001b[0m │ average_pooling2… │\n",
       "├─────────────────────┼───────────────────┼────────────┼───────────────────┤\n",
       "│ batch_normalizatio… │ (\u001b[38;5;45mNone\u001b[0m, \u001b[38;5;34m5\u001b[0m, \u001b[38;5;34m5\u001b[0m, \u001b[38;5;34m64\u001b[0m)  │        \u001b[38;5;34m256\u001b[0m │ conv2d_2[\u001b[38;5;34m0\u001b[0m][\u001b[38;5;34m0\u001b[0m]    │\n",
       "│ (\u001b[38;5;33mBatchNormalizatio…\u001b[0m │                   │            │                   │\n",
       "├─────────────────────┼───────────────────┼────────────┼───────────────────┤\n",
       "│ batch_normalizatio… │ (\u001b[38;5;45mNone\u001b[0m, \u001b[38;5;34m5\u001b[0m, \u001b[38;5;34m5\u001b[0m, \u001b[38;5;34m64\u001b[0m)  │        \u001b[38;5;34m256\u001b[0m │ conv2d_6[\u001b[38;5;34m0\u001b[0m][\u001b[38;5;34m0\u001b[0m]    │\n",
       "│ (\u001b[38;5;33mBatchNormalizatio…\u001b[0m │                   │            │                   │\n",
       "├─────────────────────┼───────────────────┼────────────┼───────────────────┤\n",
       "│ activation_2        │ (\u001b[38;5;45mNone\u001b[0m, \u001b[38;5;34m5\u001b[0m, \u001b[38;5;34m5\u001b[0m, \u001b[38;5;34m64\u001b[0m)  │          \u001b[38;5;34m0\u001b[0m │ batch_normalizat… │\n",
       "│ (\u001b[38;5;33mActivation\u001b[0m)        │                   │            │                   │\n",
       "├─────────────────────┼───────────────────┼────────────┼───────────────────┤\n",
       "│ activation_6        │ (\u001b[38;5;45mNone\u001b[0m, \u001b[38;5;34m5\u001b[0m, \u001b[38;5;34m5\u001b[0m, \u001b[38;5;34m64\u001b[0m)  │          \u001b[38;5;34m0\u001b[0m │ batch_normalizat… │\n",
       "│ (\u001b[38;5;33mActivation\u001b[0m)        │                   │            │                   │\n",
       "├─────────────────────┼───────────────────┼────────────┼───────────────────┤\n",
       "│ max_pooling2d_2     │ (\u001b[38;5;45mNone\u001b[0m, \u001b[38;5;34m2\u001b[0m, \u001b[38;5;34m2\u001b[0m, \u001b[38;5;34m64\u001b[0m)  │          \u001b[38;5;34m0\u001b[0m │ activation_2[\u001b[38;5;34m0\u001b[0m][\u001b[38;5;34m…\u001b[0m │\n",
       "│ (\u001b[38;5;33mMaxPooling2D\u001b[0m)      │                   │            │                   │\n",
       "├─────────────────────┼───────────────────┼────────────┼───────────────────┤\n",
       "│ average_pooling2d_2 │ (\u001b[38;5;45mNone\u001b[0m, \u001b[38;5;34m2\u001b[0m, \u001b[38;5;34m2\u001b[0m, \u001b[38;5;34m64\u001b[0m)  │          \u001b[38;5;34m0\u001b[0m │ activation_6[\u001b[38;5;34m0\u001b[0m][\u001b[38;5;34m…\u001b[0m │\n",
       "│ (\u001b[38;5;33mAveragePooling2D\u001b[0m)  │                   │            │                   │\n",
       "├─────────────────────┼───────────────────┼────────────┼───────────────────┤\n",
       "│ conv2d_3 (\u001b[38;5;33mConv2D\u001b[0m)   │ (\u001b[38;5;45mNone\u001b[0m, \u001b[38;5;34m2\u001b[0m, \u001b[38;5;34m2\u001b[0m, \u001b[38;5;34m64\u001b[0m)  │     \u001b[38;5;34m36,928\u001b[0m │ max_pooling2d_2[\u001b[38;5;34m…\u001b[0m │\n",
       "├─────────────────────┼───────────────────┼────────────┼───────────────────┤\n",
       "│ conv2d_7 (\u001b[38;5;33mConv2D\u001b[0m)   │ (\u001b[38;5;45mNone\u001b[0m, \u001b[38;5;34m2\u001b[0m, \u001b[38;5;34m2\u001b[0m, \u001b[38;5;34m64\u001b[0m)  │    \u001b[38;5;34m102,464\u001b[0m │ average_pooling2… │\n",
       "├─────────────────────┼───────────────────┼────────────┼───────────────────┤\n",
       "│ batch_normalizatio… │ (\u001b[38;5;45mNone\u001b[0m, \u001b[38;5;34m2\u001b[0m, \u001b[38;5;34m2\u001b[0m, \u001b[38;5;34m64\u001b[0m)  │        \u001b[38;5;34m256\u001b[0m │ conv2d_3[\u001b[38;5;34m0\u001b[0m][\u001b[38;5;34m0\u001b[0m]    │\n",
       "│ (\u001b[38;5;33mBatchNormalizatio…\u001b[0m │                   │            │                   │\n",
       "├─────────────────────┼───────────────────┼────────────┼───────────────────┤\n",
       "│ batch_normalizatio… │ (\u001b[38;5;45mNone\u001b[0m, \u001b[38;5;34m2\u001b[0m, \u001b[38;5;34m2\u001b[0m, \u001b[38;5;34m64\u001b[0m)  │        \u001b[38;5;34m256\u001b[0m │ conv2d_7[\u001b[38;5;34m0\u001b[0m][\u001b[38;5;34m0\u001b[0m]    │\n",
       "│ (\u001b[38;5;33mBatchNormalizatio…\u001b[0m │                   │            │                   │\n",
       "├─────────────────────┼───────────────────┼────────────┼───────────────────┤\n",
       "│ activation_3        │ (\u001b[38;5;45mNone\u001b[0m, \u001b[38;5;34m2\u001b[0m, \u001b[38;5;34m2\u001b[0m, \u001b[38;5;34m64\u001b[0m)  │          \u001b[38;5;34m0\u001b[0m │ batch_normalizat… │\n",
       "│ (\u001b[38;5;33mActivation\u001b[0m)        │                   │            │                   │\n",
       "├─────────────────────┼───────────────────┼────────────┼───────────────────┤\n",
       "│ activation_7        │ (\u001b[38;5;45mNone\u001b[0m, \u001b[38;5;34m2\u001b[0m, \u001b[38;5;34m2\u001b[0m, \u001b[38;5;34m64\u001b[0m)  │          \u001b[38;5;34m0\u001b[0m │ batch_normalizat… │\n",
       "│ (\u001b[38;5;33mActivation\u001b[0m)        │                   │            │                   │\n",
       "├─────────────────────┼───────────────────┼────────────┼───────────────────┤\n",
       "│ max_pooling2d_3     │ (\u001b[38;5;45mNone\u001b[0m, \u001b[38;5;34m1\u001b[0m, \u001b[38;5;34m1\u001b[0m, \u001b[38;5;34m64\u001b[0m)  │          \u001b[38;5;34m0\u001b[0m │ activation_3[\u001b[38;5;34m0\u001b[0m][\u001b[38;5;34m…\u001b[0m │\n",
       "│ (\u001b[38;5;33mMaxPooling2D\u001b[0m)      │                   │            │                   │\n",
       "├─────────────────────┼───────────────────┼────────────┼───────────────────┤\n",
       "│ average_pooling2d_3 │ (\u001b[38;5;45mNone\u001b[0m, \u001b[38;5;34m1\u001b[0m, \u001b[38;5;34m1\u001b[0m, \u001b[38;5;34m64\u001b[0m)  │          \u001b[38;5;34m0\u001b[0m │ activation_7[\u001b[38;5;34m0\u001b[0m][\u001b[38;5;34m…\u001b[0m │\n",
       "│ (\u001b[38;5;33mAveragePooling2D\u001b[0m)  │                   │            │                   │\n",
       "├─────────────────────┼───────────────────┼────────────┼───────────────────┤\n",
       "│ concatenate         │ (\u001b[38;5;45mNone\u001b[0m, \u001b[38;5;34m2\u001b[0m, \u001b[38;5;34m1\u001b[0m, \u001b[38;5;34m64\u001b[0m)  │          \u001b[38;5;34m0\u001b[0m │ max_pooling2d_3[\u001b[38;5;34m…\u001b[0m │\n",
       "│ (\u001b[38;5;33mConcatenate\u001b[0m)       │                   │            │ average_pooling2… │\n",
       "├─────────────────────┼───────────────────┼────────────┼───────────────────┤\n",
       "│ flatten (\u001b[38;5;33mFlatten\u001b[0m)   │ (\u001b[38;5;45mNone\u001b[0m, \u001b[38;5;34m128\u001b[0m)       │          \u001b[38;5;34m0\u001b[0m │ concatenate[\u001b[38;5;34m0\u001b[0m][\u001b[38;5;34m0\u001b[0m] │\n",
       "├─────────────────────┼───────────────────┼────────────┼───────────────────┤\n",
       "│ dense (\u001b[38;5;33mDense\u001b[0m)       │ (\u001b[38;5;45mNone\u001b[0m, \u001b[38;5;34m256\u001b[0m)       │     \u001b[38;5;34m33,024\u001b[0m │ flatten[\u001b[38;5;34m0\u001b[0m][\u001b[38;5;34m0\u001b[0m]     │\n",
       "├─────────────────────┼───────────────────┼────────────┼───────────────────┤\n",
       "│ dense_1 (\u001b[38;5;33mDense\u001b[0m)     │ (\u001b[38;5;45mNone\u001b[0m, \u001b[38;5;34m128\u001b[0m)       │     \u001b[38;5;34m32,896\u001b[0m │ dense[\u001b[38;5;34m0\u001b[0m][\u001b[38;5;34m0\u001b[0m]       │\n",
       "├─────────────────────┼───────────────────┼────────────┼───────────────────┤\n",
       "│ dense_2 (\u001b[38;5;33mDense\u001b[0m)     │ (\u001b[38;5;45mNone\u001b[0m, \u001b[38;5;34m64\u001b[0m)        │      \u001b[38;5;34m8,256\u001b[0m │ dense_1[\u001b[38;5;34m0\u001b[0m][\u001b[38;5;34m0\u001b[0m]     │\n",
       "├─────────────────────┼───────────────────┼────────────┼───────────────────┤\n",
       "│ dense_3 (\u001b[38;5;33mDense\u001b[0m)     │ (\u001b[38;5;45mNone\u001b[0m, \u001b[38;5;34m32\u001b[0m)        │      \u001b[38;5;34m2,080\u001b[0m │ dense_2[\u001b[38;5;34m0\u001b[0m][\u001b[38;5;34m0\u001b[0m]     │\n",
       "├─────────────────────┼───────────────────┼────────────┼───────────────────┤\n",
       "│ dense_4 (\u001b[38;5;33mDense\u001b[0m)     │ (\u001b[38;5;45mNone\u001b[0m, \u001b[38;5;34m2\u001b[0m)         │         \u001b[38;5;34m66\u001b[0m │ dense_3[\u001b[38;5;34m0\u001b[0m][\u001b[38;5;34m0\u001b[0m]     │\n",
       "└─────────────────────┴───────────────────┴────────────┴───────────────────┘\n"
      ]
     },
     "metadata": {},
     "output_type": "display_data"
    },
    {
     "data": {
      "text/html": [
       "<pre style=\"white-space:pre;overflow-x:auto;line-height:normal;font-family:Menlo,'DejaVu Sans Mono',consolas,'Courier New',monospace\"><span style=\"font-weight: bold\"> Total params: </span><span style=\"color: #00af00; text-decoration-color: #00af00\">306,018</span> (1.17 MB)\n",
       "</pre>\n"
      ],
      "text/plain": [
       "\u001b[1m Total params: \u001b[0m\u001b[38;5;34m306,018\u001b[0m (1.17 MB)\n"
      ]
     },
     "metadata": {},
     "output_type": "display_data"
    },
    {
     "data": {
      "text/html": [
       "<pre style=\"white-space:pre;overflow-x:auto;line-height:normal;font-family:Menlo,'DejaVu Sans Mono',consolas,'Courier New',monospace\"><span style=\"font-weight: bold\"> Trainable params: </span><span style=\"color: #00af00; text-decoration-color: #00af00\">305,314</span> (1.16 MB)\n",
       "</pre>\n"
      ],
      "text/plain": [
       "\u001b[1m Trainable params: \u001b[0m\u001b[38;5;34m305,314\u001b[0m (1.16 MB)\n"
      ]
     },
     "metadata": {},
     "output_type": "display_data"
    },
    {
     "data": {
      "text/html": [
       "<pre style=\"white-space:pre;overflow-x:auto;line-height:normal;font-family:Menlo,'DejaVu Sans Mono',consolas,'Courier New',monospace\"><span style=\"font-weight: bold\"> Non-trainable params: </span><span style=\"color: #00af00; text-decoration-color: #00af00\">704</span> (2.75 KB)\n",
       "</pre>\n"
      ],
      "text/plain": [
       "\u001b[1m Non-trainable params: \u001b[0m\u001b[38;5;34m704\u001b[0m (2.75 KB)\n"
      ]
     },
     "metadata": {},
     "output_type": "display_data"
    },
    {
     "data": {
      "image/png": "[encoded data removed]",
      "text/plain": [
       "<IPython.core.display.Image object>"
      ]
     },
     "execution_count": 22,
     "metadata": {},
     "output_type": "execute_result"
    }
   ],
   "source": [
    "from keras.utils import plot_model\n",
    "model.summary()\n",
    "plot_model(model)"
   ]
  },
  {
   "cell_type": "code",
   "execution_count": 23,
   "metadata": {
    "id": "DC3Ft7sppjGI",
    "tags": []
   },
   "outputs": [],
   "source": [
    "METRICS = [\n",
    "      tf.keras.metrics.TruePositives(name = 'tp'),\n",
    "      tf.keras.metrics.FalsePositives(name = 'fp'),\n",
    "      tf.keras.metrics.TrueNegatives(name = 'tn'),\n",
    "      tf.keras.metrics.FalseNegatives(name = 'fn'), \n",
    "      tf.keras.metrics.BinaryAccuracy(name ='accuracy'),\n",
    "      tf.keras.metrics.Precision(name = 'precision'),\n",
    "      tf.keras.metrics.Recall(name = 'recall'),\n",
    "      tf.keras.metrics.AUC(name = 'auc'),\n",
    "]"
   ]
  },
  {
   "cell_type": "markdown",
   "metadata": {
    "id": "owmN8gR-jpEh"
   },
   "source": [
    "<a id=\"section52\"></a>\n",
    "# <font color=\"#004D7F\" size=5> 5.2. Compile and fit</font>"
   ]
  },
  {
   "cell_type": "markdown",
   "metadata": {},
   "source": [
    "Note to **specify the loss** depending on whether you have a binary or multiclass classification problem."
   ]
  },
  {
   "cell_type": "code",
   "execution_count": 24,
   "metadata": {
    "id": "RFxZU2q6pjGJ",
    "tags": []
   },
   "outputs": [],
   "source": [
    "#opt = Adam(learning_rate=1e-3)\n",
    "model.compile(\n",
    "                #optimizer = sgd,\n",
    "                optimizer = 'adam',\n",
    "                #optimizer = 'Adadelta',\n",
    "                #optimizer = 'Adamax',\n",
    "                #optimizer = opt,\n",
    "                metrics = METRICS,\n",
    "                #metrics = ['accuracy'],\n",
    "                \n",
    "                #loss = 'binary_crossentropy'\n",
    "                loss = 'categorical_crossentropy'\n",
    "                )"
   ]
  },
  {
   "cell_type": "code",
   "execution_count": 25,
   "metadata": {
    "scrolled": true
   },
   "outputs": [
    {
     "name": "stdout",
     "output_type": "stream",
     "text": [
      "Epoch 1/50\n"
     ]
    },
    {
     "name": "stderr",
     "output_type": "stream",
     "text": [
      "2024-07-24 11:49:47.044998: I tensorflow/core/grappler/optimizers/custom_graph_optimizer_registry.cc:117] Plugin optimizer for device_type GPU is enabled.\n",
      "/Users/manwest/Library/Python/3.9/lib/python/site-packages/keras/src/trainers/data_adapters/py_dataset_adapter.py:121: UserWarning: Your `PyDataset` class should call `super().__init__(**kwargs)` in its constructor. `**kwargs` can include `workers`, `use_multiprocessing`, `max_queue_size`. Do not pass these arguments to `fit()`, as they will be ignored.\n",
      "  self._warn_if_super_not_called()\n"
     ]
    },
    {
     "name": "stdout",
     "output_type": "stream",
     "text": [
      "\u001b[1m42/42\u001b[0m \u001b[32m━━━━━━━━━━━━━━━━━━━━\u001b[0m\u001b[37m\u001b[0m \u001b[1m13s\u001b[0m 188ms/step - accuracy: 0.7043 - auc: 0.7231 - fn: 51.0000 - fp: 51.0000 - loss: 0.6129 - precision: 0.7043 - recall: 0.7043 - tn: 124.6279 - tp: 124.6279 - val_accuracy: 0.6161 - val_auc: 0.7725 - val_fn: 43.0000 - val_fp: 43.0000 - val_loss: 0.6942 - val_precision: 0.6161 - val_recall: 0.6161 - val_tn: 69.0000 - val_tp: 69.0000\n",
      "Epoch 2/50\n",
      "\u001b[1m 1/42\u001b[0m \u001b[37m━━━━━━━━━━━━━━━━━━━━\u001b[0m \u001b[1m4s\u001b[0m 99ms/step - accuracy: 0.6250 - auc: 0.6719 - fn: 3.0000 - fp: 3.0000 - loss: 0.6580 - precision: 0.6250 - recall: 0.6250 - tn: 5.0000 - tp: 5.0000"
     ]
    },
    {
     "name": "stderr",
     "output_type": "stream",
     "text": [
      "2024-07-24 11:49:58.784768: I tensorflow/core/framework/local_rendezvous.cc:404] Local rendezvous is aborting with status: OUT_OF_RANGE: End of sequence\n",
      "\t [[{{node IteratorGetNext}}]]\n",
      "2024-07-24 11:49:58.784780: I tensorflow/core/framework/local_rendezvous.cc:404] Local rendezvous is aborting with status: OUT_OF_RANGE: End of sequence\n",
      "\t [[{{node IteratorGetNext}}]]\n",
      "\t [[IteratorGetNext/_88]]\n",
      "2024-07-24 11:49:58.784787: I tensorflow/core/framework/local_rendezvous.cc:423] Local rendezvous recv item cancelled. Key hash: 16317458952785476389\n",
      "2024-07-24 11:49:58.784791: I tensorflow/core/framework/local_rendezvous.cc:423] Local rendezvous recv item cancelled. Key hash: 1383065497949799395\n",
      "2024-07-24 11:49:58.784811: I tensorflow/core/framework/local_rendezvous.cc:423] Local rendezvous recv item cancelled. Key hash: 4739365245678462033\n",
      "2024-07-24 11:49:58.784816: I tensorflow/core/framework/local_rendezvous.cc:423] Local rendezvous recv item cancelled. Key hash: 11684161685995054627\n",
      "2024-07-24 11:49:58.784822: I tensorflow/core/framework/local_rendezvous.cc:423] Local rendezvous recv item cancelled. Key hash: 15768608472279910053\n",
      "2024-07-24 11:49:58.784825: I tensorflow/core/framework/local_rendezvous.cc:423] Local rendezvous recv item cancelled. Key hash: 8469731028185146937\n",
      "2024-07-24 11:49:58.784829: I tensorflow/core/framework/local_rendezvous.cc:423] Local rendezvous recv item cancelled. Key hash: 4281185063899729373\n",
      "2024-07-24 11:49:58.784832: I tensorflow/core/framework/local_rendezvous.cc:423] Local rendezvous recv item cancelled. Key hash: 16092320404970843963\n",
      "2024-07-24 11:49:58.784835: I tensorflow/core/framework/local_rendezvous.cc:423] Local rendezvous recv item cancelled. Key hash: 2349617577263575655\n",
      "2024-07-24 11:49:58.784839: I tensorflow/core/framework/local_rendezvous.cc:423] Local rendezvous recv item cancelled. Key hash: 7802115701858047337\n",
      "2024-07-24 11:49:58.784842: I tensorflow/core/framework/local_rendezvous.cc:423] Local rendezvous recv item cancelled. Key hash: 10733042269836195989\n",
      "2024-07-24 11:49:58.784845: I tensorflow/core/framework/local_rendezvous.cc:423] Local rendezvous recv item cancelled. Key hash: 18255673518761351433\n",
      "2024-07-24 11:49:58.784849: I tensorflow/core/framework/local_rendezvous.cc:423] Local rendezvous recv item cancelled. Key hash: 13173938544141080941\n",
      "2024-07-24 11:49:58.784854: I tensorflow/core/framework/local_rendezvous.cc:423] Local rendezvous recv item cancelled. Key hash: 13464291270602971939\n",
      "2024-07-24 11:49:58.784858: I tensorflow/core/framework/local_rendezvous.cc:423] Local rendezvous recv item cancelled. Key hash: 17657021932063267605\n",
      "2024-07-24 11:49:58.784862: I tensorflow/core/framework/local_rendezvous.cc:423] Local rendezvous recv item cancelled. Key hash: 1087108310457809581\n",
      "2024-07-24 11:49:58.784866: I tensorflow/core/framework/local_rendezvous.cc:423] Local rendezvous recv item cancelled. Key hash: 3893306221038018165\n",
      "2024-07-24 11:49:58.785651: I tensorflow/core/framework/local_rendezvous.cc:423] Local rendezvous recv item cancelled. Key hash: 15319518697530224520\n",
      "2024-07-24 11:49:58.785658: I tensorflow/core/framework/local_rendezvous.cc:423] Local rendezvous recv item cancelled. Key hash: 7016282629459583218\n",
      "2024-07-24 11:49:58.785662: I tensorflow/core/framework/local_rendezvous.cc:423] Local rendezvous recv item cancelled. Key hash: 1880315956935049566\n",
      "2024-07-24 11:49:58.785666: I tensorflow/core/framework/local_rendezvous.cc:423] Local rendezvous recv item cancelled. Key hash: 679328862287852262\n",
      "2024-07-24 11:49:58.785670: I tensorflow/core/framework/local_rendezvous.cc:423] Local rendezvous recv item cancelled. Key hash: 3596561802965554440\n",
      "2024-07-24 11:49:58.785674: I tensorflow/core/framework/local_rendezvous.cc:423] Local rendezvous recv item cancelled. Key hash: 4879958333095786416\n",
      "2024-07-24 11:49:58.785694: I tensorflow/core/framework/local_rendezvous.cc:423] Local rendezvous recv item cancelled. Key hash: 15380519210499254842\n",
      "2024-07-24 11:49:58.785698: I tensorflow/core/framework/local_rendezvous.cc:423] Local rendezvous recv item cancelled. Key hash: 2841459043334593302\n",
      "2024-07-24 11:49:58.785702: I tensorflow/core/framework/local_rendezvous.cc:423] Local rendezvous recv item cancelled. Key hash: 2930600443816971478\n",
      "2024-07-24 11:49:58.785707: I tensorflow/core/framework/local_rendezvous.cc:423] Local rendezvous recv item cancelled. Key hash: 15546760133480648130\n",
      "2024-07-24 11:49:58.785711: I tensorflow/core/framework/local_rendezvous.cc:423] Local rendezvous recv item cancelled. Key hash: 3244677876467179166\n",
      "2024-07-24 11:49:58.785714: I tensorflow/core/framework/local_rendezvous.cc:423] Local rendezvous recv item cancelled. Key hash: 15198039565944991606\n",
      "/Library/Developer/CommandLineTools/Library/Frameworks/Python3.framework/Versions/3.9/lib/python3.9/contextlib.py:135: UserWarning: Your input ran out of data; interrupting training. Make sure that your dataset or generator can generate at least `steps_per_epoch * epochs` batches. You may need to use the `.repeat()` function when building your dataset.\n",
      "  self.gen.throw(type, value, traceback)\n"
     ]
    },
    {
     "name": "stdout",
     "output_type": "stream",
     "text": [
      "\u001b[1m42/42\u001b[0m \u001b[32m━━━━━━━━━━━━━━━━━━━━\u001b[0m\u001b[37m\u001b[0m \u001b[1m0s\u001b[0m 6ms/step - accuracy: 0.6250 - auc: 0.6719 - fn: 3.0000 - fp: 3.0000 - loss: 0.6580 - precision: 0.6250 - recall: 0.6250 - tn: 5.0000 - tp: 5.0000 - val_accuracy: 1.0000 - val_auc: 1.0000 - val_fn: 0.0000e+00 - val_fp: 0.0000e+00 - val_loss: 0.2767 - val_precision: 1.0000 - val_recall: 1.0000 - val_tn: 2.0000 - val_tp: 2.0000\n",
      "Epoch 3/50\n",
      "\u001b[1m 1/42\u001b[0m \u001b[37m━━━━━━━━━━━━━━━━━━━━\u001b[0m \u001b[1m4s\u001b[0m 108ms/step - accuracy: 0.5000 - auc: 0.7500 - fn: 4.0000 - fp: 4.0000 - loss: 0.6794 - precision: 0.5000 - recall: 0.5000 - tn: 4.0000 - tp: 4.0000"
     ]
    },
    {
     "name": "stderr",
     "output_type": "stream",
     "text": [
      "2024-07-24 11:49:58.992000: I tensorflow/core/framework/local_rendezvous.cc:404] Local rendezvous is aborting with status: OUT_OF_RANGE: End of sequence\n",
      "\t [[{{node IteratorGetNext}}]]\n",
      "\t [[Ceil/_18]]\n",
      "2024-07-24 11:49:58.992014: I tensorflow/core/framework/local_rendezvous.cc:423] Local rendezvous recv item cancelled. Key hash: 6607121185723691025\n",
      "2024-07-24 11:49:58.992019: I tensorflow/core/framework/local_rendezvous.cc:423] Local rendezvous recv item cancelled. Key hash: 15978958992807019649\n",
      "2024-07-24 11:49:58.992023: I tensorflow/core/framework/local_rendezvous.cc:423] Local rendezvous recv item cancelled. Key hash: 4177715030164683947\n",
      "2024-07-24 11:49:58.992031: I tensorflow/core/framework/local_rendezvous.cc:423] Local rendezvous recv item cancelled. Key hash: 2676786092006941010\n",
      "2024-07-24 11:49:58.992034: I tensorflow/core/framework/local_rendezvous.cc:423] Local rendezvous recv item cancelled. Key hash: 8004857405651504014\n",
      "2024-07-24 11:49:58.992038: I tensorflow/core/framework/local_rendezvous.cc:423] Local rendezvous recv item cancelled. Key hash: 3760928453833737392\n",
      "2024-07-24 11:49:58.992041: I tensorflow/core/framework/local_rendezvous.cc:423] Local rendezvous recv item cancelled. Key hash: 17016518748549149906\n",
      "2024-07-24 11:49:58.992044: I tensorflow/core/framework/local_rendezvous.cc:423] Local rendezvous recv item cancelled. Key hash: 10141221434822991174\n",
      "2024-07-24 11:49:58.992047: I tensorflow/core/framework/local_rendezvous.cc:423] Local rendezvous recv item cancelled. Key hash: 13917000608837317702\n"
     ]
    },
    {
     "name": "stdout",
     "output_type": "stream",
     "text": [
      "\u001b[1m42/42\u001b[0m \u001b[32m━━━━━━━━━━━━━━━━━━━━\u001b[0m\u001b[37m\u001b[0m \u001b[1m5s\u001b[0m 123ms/step - accuracy: 0.8040 - auc: 0.9019 - fn: 29.6977 - fp: 29.6977 - loss: 0.4349 - precision: 0.8040 - recall: 0.8040 - tn: 145.2791 - tp: 145.2791 - val_accuracy: 0.6161 - val_auc: 0.7679 - val_fn: 43.0000 - val_fp: 43.0000 - val_loss: 0.9870 - val_precision: 0.6161 - val_recall: 0.6161 - val_tn: 69.0000 - val_tp: 69.0000\n",
      "Epoch 4/50\n",
      "\u001b[1m42/42\u001b[0m \u001b[32m━━━━━━━━━━━━━━━━━━━━\u001b[0m\u001b[37m\u001b[0m \u001b[1m0s\u001b[0m 1ms/step - accuracy: 0.7500 - auc: 0.9062 - fn: 2.0000 - fp: 2.0000 - loss: 0.4543 - precision: 0.7500 - recall: 0.7500 - tn: 6.0000 - tp: 6.0000 - val_accuracy: 1.0000 - val_auc: 1.0000 - val_fn: 0.0000e+00 - val_fp: 0.0000e+00 - val_loss: 0.0822 - val_precision: 1.0000 - val_recall: 1.0000 - val_tn: 2.0000 - val_tp: 2.0000\n",
      "Epoch 5/50\n",
      "\u001b[1m 1/42\u001b[0m \u001b[37m━━━━━━━━━━━━━━━━━━━━\u001b[0m \u001b[1m4s\u001b[0m 105ms/step - accuracy: 0.7500 - auc: 0.9062 - fn: 2.0000 - fp: 2.0000 - loss: 0.4163 - precision: 0.7500 - recall: 0.7500 - tn: 6.0000 - tp: 6.0000"
     ]
    },
    {
     "name": "stderr",
     "output_type": "stream",
     "text": [
      "2024-07-24 11:50:04.301455: I tensorflow/core/framework/local_rendezvous.cc:423] Local rendezvous recv item cancelled. Key hash: 7016282629459583218\n",
      "2024-07-24 11:50:04.301465: I tensorflow/core/framework/local_rendezvous.cc:423] Local rendezvous recv item cancelled. Key hash: 1880315956935049566\n",
      "2024-07-24 11:50:04.301470: I tensorflow/core/framework/local_rendezvous.cc:423] Local rendezvous recv item cancelled. Key hash: 947237233035207760\n",
      "2024-07-24 11:50:04.301474: I tensorflow/core/framework/local_rendezvous.cc:423] Local rendezvous recv item cancelled. Key hash: 1383065497949799395\n",
      "2024-07-24 11:50:04.301483: I tensorflow/core/framework/local_rendezvous.cc:423] Local rendezvous recv item cancelled. Key hash: 15768608472279910053\n",
      "2024-07-24 11:50:04.301486: I tensorflow/core/framework/local_rendezvous.cc:423] Local rendezvous recv item cancelled. Key hash: 2930600443816971478\n",
      "2024-07-24 11:50:04.301499: I tensorflow/core/framework/local_rendezvous.cc:423] Local rendezvous recv item cancelled. Key hash: 15546760133480648130\n",
      "2024-07-24 11:50:04.301504: I tensorflow/core/framework/local_rendezvous.cc:423] Local rendezvous recv item cancelled. Key hash: 11952574714831047347\n",
      "2024-07-24 11:50:04.301513: I tensorflow/core/framework/local_rendezvous.cc:423] Local rendezvous recv item cancelled. Key hash: 4281185063899729373\n",
      "2024-07-24 11:50:04.301517: I tensorflow/core/framework/local_rendezvous.cc:423] Local rendezvous recv item cancelled. Key hash: 15319518697530224520\n",
      "2024-07-24 11:50:04.301527: I tensorflow/core/framework/local_rendezvous.cc:423] Local rendezvous recv item cancelled. Key hash: 15198039565944991606\n",
      "2024-07-24 11:50:04.301532: I tensorflow/core/framework/local_rendezvous.cc:423] Local rendezvous recv item cancelled. Key hash: 15546636043995320706\n",
      "2024-07-24 11:50:04.301534: I tensorflow/core/framework/local_rendezvous.cc:423] Local rendezvous recv item cancelled. Key hash: 9143851637127959719\n",
      "2024-07-24 11:50:04.301539: I tensorflow/core/framework/local_rendezvous.cc:423] Local rendezvous recv item cancelled. Key hash: 679328862287852262\n",
      "2024-07-24 11:50:04.301543: I tensorflow/core/framework/local_rendezvous.cc:423] Local rendezvous recv item cancelled. Key hash: 7802115701858047337\n",
      "2024-07-24 11:50:04.301546: I tensorflow/core/framework/local_rendezvous.cc:423] Local rendezvous recv item cancelled. Key hash: 4879958333095786416\n",
      "2024-07-24 11:50:04.301552: I tensorflow/core/framework/local_rendezvous.cc:423] Local rendezvous recv item cancelled. Key hash: 14805946176245020548\n",
      "2024-07-24 11:50:04.301556: I tensorflow/core/framework/local_rendezvous.cc:423] Local rendezvous recv item cancelled. Key hash: 13173938544141080941\n",
      "2024-07-24 11:50:04.301562: I tensorflow/core/framework/local_rendezvous.cc:423] Local rendezvous recv item cancelled. Key hash: 10063160773300312710\n",
      "2024-07-24 11:50:04.301571: I tensorflow/core/framework/local_rendezvous.cc:423] Local rendezvous recv item cancelled. Key hash: 2841459043334593302\n",
      "2024-07-24 11:50:04.301576: I tensorflow/core/framework/local_rendezvous.cc:423] Local rendezvous recv item cancelled. Key hash: 11538265683497572899\n",
      "2024-07-24 11:50:04.301582: I tensorflow/core/framework/local_rendezvous.cc:423] Local rendezvous recv item cancelled. Key hash: 3244677876467179166\n",
      "2024-07-24 11:50:04.301586: I tensorflow/core/framework/local_rendezvous.cc:423] Local rendezvous recv item cancelled. Key hash: 17657021932063267605\n",
      "2024-07-24 11:50:04.301589: I tensorflow/core/framework/local_rendezvous.cc:423] Local rendezvous recv item cancelled. Key hash: 14104454438421348292\n",
      "2024-07-24 11:50:04.301592: I tensorflow/core/framework/local_rendezvous.cc:423] Local rendezvous recv item cancelled. Key hash: 13464291270602971939\n",
      "2024-07-24 11:50:04.301597: I tensorflow/core/framework/local_rendezvous.cc:423] Local rendezvous recv item cancelled. Key hash: 4709750447546522785\n",
      "2024-07-24 11:50:04.301601: I tensorflow/core/framework/local_rendezvous.cc:423] Local rendezvous recv item cancelled. Key hash: 3893306221038018165\n",
      "2024-07-24 11:50:04.301605: I tensorflow/core/framework/local_rendezvous.cc:423] Local rendezvous recv item cancelled. Key hash: 4536186900066541325\n",
      "2024-07-24 11:50:04.301609: I tensorflow/core/framework/local_rendezvous.cc:423] Local rendezvous recv item cancelled. Key hash: 6544545264921141537\n",
      "2024-07-24 11:50:04.301612: I tensorflow/core/framework/local_rendezvous.cc:423] Local rendezvous recv item cancelled. Key hash: 8716015658963821305\n",
      "2024-07-24 11:50:04.301616: I tensorflow/core/framework/local_rendezvous.cc:423] Local rendezvous recv item cancelled. Key hash: 18255673518761351433\n",
      "2024-07-24 11:50:04.301619: I tensorflow/core/framework/local_rendezvous.cc:423] Local rendezvous recv item cancelled. Key hash: 4739365245678462033\n",
      "2024-07-24 11:50:04.301623: I tensorflow/core/framework/local_rendezvous.cc:423] Local rendezvous recv item cancelled. Key hash: 11684161685995054627\n",
      "2024-07-24 11:50:04.301626: I tensorflow/core/framework/local_rendezvous.cc:423] Local rendezvous recv item cancelled. Key hash: 8469731028185146937\n",
      "2024-07-24 11:50:04.301630: I tensorflow/core/framework/local_rendezvous.cc:423] Local rendezvous recv item cancelled. Key hash: 2690217201294355223\n",
      "2024-07-24 11:50:04.301633: I tensorflow/core/framework/local_rendezvous.cc:423] Local rendezvous recv item cancelled. Key hash: 3898680181337681583\n",
      "2024-07-24 11:50:04.301638: I tensorflow/core/framework/local_rendezvous.cc:423] Local rendezvous recv item cancelled. Key hash: 16092320404970843963\n",
      "2024-07-24 11:50:04.301641: I tensorflow/core/framework/local_rendezvous.cc:423] Local rendezvous recv item cancelled. Key hash: 8063543133116231471\n",
      "2024-07-24 11:50:04.301644: I tensorflow/core/framework/local_rendezvous.cc:423] Local rendezvous recv item cancelled. Key hash: 2265985148321886681\n",
      "2024-07-24 11:50:04.301647: I tensorflow/core/framework/local_rendezvous.cc:423] Local rendezvous recv item cancelled. Key hash: 2349617577263575655\n",
      "2024-07-24 11:50:04.301649: I tensorflow/core/framework/local_rendezvous.cc:423] Local rendezvous recv item cancelled. Key hash: 7297141620674244705\n",
      "2024-07-24 11:50:04.301652: I tensorflow/core/framework/local_rendezvous.cc:423] Local rendezvous recv item cancelled. Key hash: 444809279914062789\n",
      "2024-07-24 11:50:04.301655: I tensorflow/core/framework/local_rendezvous.cc:423] Local rendezvous recv item cancelled. Key hash: 10733042269836195989\n",
      "2024-07-24 11:50:04.301658: I tensorflow/core/framework/local_rendezvous.cc:423] Local rendezvous recv item cancelled. Key hash: 1087108310457809581\n",
      "2024-07-24 11:50:04.301661: I tensorflow/core/framework/local_rendezvous.cc:423] Local rendezvous recv item cancelled. Key hash: 7883339172097817469\n",
      "2024-07-24 11:50:04.301664: I tensorflow/core/framework/local_rendezvous.cc:423] Local rendezvous recv item cancelled. Key hash: 16317458952785476389\n",
      "2024-07-24 11:50:04.301669: I tensorflow/core/framework/local_rendezvous.cc:423] Local rendezvous recv item cancelled. Key hash: 6771233482863263613\n",
      "2024-07-24 11:50:04.328481: I tensorflow/core/framework/local_rendezvous.cc:404] Local rendezvous is aborting with status: OUT_OF_RANGE: End of sequence\n",
      "\t [[{{node IteratorGetNext}}]]\n",
      "\t [[Cumsum_1/_32]]\n",
      "2024-07-24 11:50:04.328497: I tensorflow/core/framework/local_rendezvous.cc:423] Local rendezvous recv item cancelled. Key hash: 6607121185723691025\n",
      "2024-07-24 11:50:04.328501: I tensorflow/core/framework/local_rendezvous.cc:423] Local rendezvous recv item cancelled. Key hash: 15978958992807019649\n",
      "2024-07-24 11:50:04.328506: I tensorflow/core/framework/local_rendezvous.cc:423] Local rendezvous recv item cancelled. Key hash: 4177715030164683947\n",
      "2024-07-24 11:50:04.328512: I tensorflow/core/framework/local_rendezvous.cc:423] Local rendezvous recv item cancelled. Key hash: 13917000608837317702\n",
      "2024-07-24 11:50:04.328516: I tensorflow/core/framework/local_rendezvous.cc:423] Local rendezvous recv item cancelled. Key hash: 8004857405651504014\n",
      "2024-07-24 11:50:04.328520: I tensorflow/core/framework/local_rendezvous.cc:423] Local rendezvous recv item cancelled. Key hash: 3760928453833737392\n",
      "2024-07-24 11:50:04.328522: I tensorflow/core/framework/local_rendezvous.cc:423] Local rendezvous recv item cancelled. Key hash: 10141221434822991174\n",
      "2024-07-24 11:50:04.328525: I tensorflow/core/framework/local_rendezvous.cc:423] Local rendezvous recv item cancelled. Key hash: 17016518748549149906\n"
     ]
    },
    {
     "name": "stdout",
     "output_type": "stream",
     "text": [
      "\u001b[1m42/42\u001b[0m \u001b[32m━━━━━━━━━━━━━━━━━━━━\u001b[0m\u001b[37m\u001b[0m \u001b[1m5s\u001b[0m 114ms/step - accuracy: 0.8145 - auc: 0.8900 - fn: 30.0233 - fp: 30.0233 - loss: 0.4217 - precision: 0.8145 - recall: 0.8145 - tn: 141.8837 - tp: 141.8837 - val_accuracy: 0.6161 - val_auc: 0.7799 - val_fn: 43.0000 - val_fp: 43.0000 - val_loss: 0.8652 - val_precision: 0.6161 - val_recall: 0.6161 - val_tn: 69.0000 - val_tp: 69.0000\n",
      "Epoch 6/50\n",
      "\u001b[1m42/42\u001b[0m \u001b[32m━━━━━━━━━━━━━━━━━━━━\u001b[0m\u001b[37m\u001b[0m \u001b[1m0s\u001b[0m 1ms/step - accuracy: 0.8750 - auc: 0.9219 - fn: 1.0000 - fp: 1.0000 - loss: 0.3506 - precision: 0.8750 - recall: 0.8750 - tn: 7.0000 - tp: 7.0000 - val_accuracy: 1.0000 - val_auc: 1.0000 - val_fn: 0.0000e+00 - val_fp: 0.0000e+00 - val_loss: 0.1069 - val_precision: 1.0000 - val_recall: 1.0000 - val_tn: 2.0000 - val_tp: 2.0000\n",
      "Epoch 7/50\n",
      "\u001b[1m 1/42\u001b[0m \u001b[37m━━━━━━━━━━━━━━━━━━━━\u001b[0m \u001b[1m4s\u001b[0m 108ms/step - accuracy: 0.8750 - auc: 0.9844 - fn: 1.0000 - fp: 1.0000 - loss: 0.2405 - precision: 0.8750 - recall: 0.8750 - tn: 7.0000 - tp: 7.0000"
     ]
    },
    {
     "name": "stderr",
     "output_type": "stream",
     "text": [
      "2024-07-24 11:50:09.288467: I tensorflow/core/framework/local_rendezvous.cc:423] Local rendezvous recv item cancelled. Key hash: 7016282629459583218\n",
      "2024-07-24 11:50:09.288479: I tensorflow/core/framework/local_rendezvous.cc:423] Local rendezvous recv item cancelled. Key hash: 1880315956935049566\n",
      "2024-07-24 11:50:09.288483: I tensorflow/core/framework/local_rendezvous.cc:423] Local rendezvous recv item cancelled. Key hash: 9112748500218708278\n",
      "2024-07-24 11:50:09.288486: I tensorflow/core/framework/local_rendezvous.cc:423] Local rendezvous recv item cancelled. Key hash: 947237233035207760\n",
      "2024-07-24 11:50:09.288490: I tensorflow/core/framework/local_rendezvous.cc:423] Local rendezvous recv item cancelled. Key hash: 2930600443816971478\n",
      "2024-07-24 11:50:09.288547: I tensorflow/core/framework/local_rendezvous.cc:423] Local rendezvous recv item cancelled. Key hash: 15546760133480648130\n",
      "2024-07-24 11:50:09.288552: I tensorflow/core/framework/local_rendezvous.cc:423] Local rendezvous recv item cancelled. Key hash: 4536186900066541325\n",
      "2024-07-24 11:50:09.288563: I tensorflow/core/framework/local_rendezvous.cc:423] Local rendezvous recv item cancelled. Key hash: 15319518697530224520\n",
      "2024-07-24 11:50:09.288573: I tensorflow/core/framework/local_rendezvous.cc:423] Local rendezvous recv item cancelled. Key hash: 17657021932063267605\n",
      "2024-07-24 11:50:09.288578: I tensorflow/core/framework/local_rendezvous.cc:423] Local rendezvous recv item cancelled. Key hash: 15198039565944991606\n",
      "2024-07-24 11:50:09.288585: I tensorflow/core/framework/local_rendezvous.cc:423] Local rendezvous recv item cancelled. Key hash: 4709750447546522785\n",
      "2024-07-24 11:50:09.288589: I tensorflow/core/framework/local_rendezvous.cc:423] Local rendezvous recv item cancelled. Key hash: 15546636043995320706\n",
      "2024-07-24 11:50:09.288594: I tensorflow/core/framework/local_rendezvous.cc:423] Local rendezvous recv item cancelled. Key hash: 1383065497949799395\n",
      "2024-07-24 11:50:09.288598: I tensorflow/core/framework/local_rendezvous.cc:423] Local rendezvous recv item cancelled. Key hash: 679328862287852262\n",
      "2024-07-24 11:50:09.288601: I tensorflow/core/framework/local_rendezvous.cc:423] Local rendezvous recv item cancelled. Key hash: 4739365245678462033\n",
      "2024-07-24 11:50:09.288605: I tensorflow/core/framework/local_rendezvous.cc:423] Local rendezvous recv item cancelled. Key hash: 4879958333095786416\n",
      "2024-07-24 11:50:09.288609: I tensorflow/core/framework/local_rendezvous.cc:423] Local rendezvous recv item cancelled. Key hash: 11684161685995054627\n",
      "2024-07-24 11:50:09.288612: I tensorflow/core/framework/local_rendezvous.cc:423] Local rendezvous recv item cancelled. Key hash: 10063160773300312710\n",
      "2024-07-24 11:50:09.288615: I tensorflow/core/framework/local_rendezvous.cc:423] Local rendezvous recv item cancelled. Key hash: 15768608472279910053\n",
      "2024-07-24 11:50:09.288620: I tensorflow/core/framework/local_rendezvous.cc:423] Local rendezvous recv item cancelled. Key hash: 2841459043334593302\n",
      "2024-07-24 11:50:09.288628: I tensorflow/core/framework/local_rendezvous.cc:423] Local rendezvous recv item cancelled. Key hash: 3244677876467179166\n",
      "2024-07-24 11:50:09.288631: I tensorflow/core/framework/local_rendezvous.cc:423] Local rendezvous recv item cancelled. Key hash: 18255673518761351433\n",
      "2024-07-24 11:50:09.288640: I tensorflow/core/framework/local_rendezvous.cc:423] Local rendezvous recv item cancelled. Key hash: 11952574714831047347\n",
      "2024-07-24 11:50:09.288642: I tensorflow/core/framework/local_rendezvous.cc:423] Local rendezvous recv item cancelled. Key hash: 14104454438421348292\n",
      "2024-07-24 11:50:09.288649: I tensorflow/core/framework/local_rendezvous.cc:423] Local rendezvous recv item cancelled. Key hash: 2690217201294355223\n",
      "2024-07-24 11:50:09.288652: I tensorflow/core/framework/local_rendezvous.cc:423] Local rendezvous recv item cancelled. Key hash: 6544545264921141537\n",
      "2024-07-24 11:50:09.288654: I tensorflow/core/framework/local_rendezvous.cc:423] Local rendezvous recv item cancelled. Key hash: 4281185063899729373\n",
      "2024-07-24 11:50:09.288658: I tensorflow/core/framework/local_rendezvous.cc:423] Local rendezvous recv item cancelled. Key hash: 8716015658963821305\n",
      "2024-07-24 11:50:09.288659: I tensorflow/core/framework/local_rendezvous.cc:423] Local rendezvous recv item cancelled. Key hash: 16092320404970843963\n",
      "2024-07-24 11:50:09.288662: I tensorflow/core/framework/local_rendezvous.cc:423] Local rendezvous recv item cancelled. Key hash: 444809279914062789\n",
      "2024-07-24 11:50:09.288668: I tensorflow/core/framework/local_rendezvous.cc:423] Local rendezvous recv item cancelled. Key hash: 9143851637127959719\n",
      "2024-07-24 11:50:09.288671: I tensorflow/core/framework/local_rendezvous.cc:423] Local rendezvous recv item cancelled. Key hash: 7297141620674244705\n",
      "2024-07-24 11:50:09.288687: I tensorflow/core/framework/local_rendezvous.cc:423] Local rendezvous recv item cancelled. Key hash: 3893306221038018165\n",
      "2024-07-24 11:50:09.288695: I tensorflow/core/framework/local_rendezvous.cc:423] Local rendezvous recv item cancelled. Key hash: 2265985148321886681\n",
      "2024-07-24 11:50:09.288707: I tensorflow/core/framework/local_rendezvous.cc:423] Local rendezvous recv item cancelled. Key hash: 2349617577263575655\n",
      "2024-07-24 11:50:09.288712: I tensorflow/core/framework/local_rendezvous.cc:423] Local rendezvous recv item cancelled. Key hash: 7802115701858047337\n",
      "2024-07-24 11:50:09.288715: I tensorflow/core/framework/local_rendezvous.cc:423] Local rendezvous recv item cancelled. Key hash: 10733042269836195989\n",
      "2024-07-24 11:50:09.288721: I tensorflow/core/framework/local_rendezvous.cc:423] Local rendezvous recv item cancelled. Key hash: 13173938544141080941\n",
      "2024-07-24 11:50:09.288724: I tensorflow/core/framework/local_rendezvous.cc:423] Local rendezvous recv item cancelled. Key hash: 1087108310457809581\n",
      "2024-07-24 11:50:09.288727: I tensorflow/core/framework/local_rendezvous.cc:423] Local rendezvous recv item cancelled. Key hash: 13464291270602971939\n",
      "2024-07-24 11:50:09.288730: I tensorflow/core/framework/local_rendezvous.cc:423] Local rendezvous recv item cancelled. Key hash: 16317458952785476389\n",
      "2024-07-24 11:50:09.288733: I tensorflow/core/framework/local_rendezvous.cc:423] Local rendezvous recv item cancelled. Key hash: 11538265683497572899\n",
      "2024-07-24 11:50:09.288737: I tensorflow/core/framework/local_rendezvous.cc:423] Local rendezvous recv item cancelled. Key hash: 7883339172097817469\n",
      "2024-07-24 11:50:09.288742: I tensorflow/core/framework/local_rendezvous.cc:423] Local rendezvous recv item cancelled. Key hash: 6771233482863263613\n",
      "2024-07-24 11:50:09.315489: I tensorflow/core/framework/local_rendezvous.cc:423] Local rendezvous recv item cancelled. Key hash: 17016518748549149906\n",
      "2024-07-24 11:50:09.315503: I tensorflow/core/framework/local_rendezvous.cc:423] Local rendezvous recv item cancelled. Key hash: 13917000608837317702\n",
      "2024-07-24 11:50:09.315506: I tensorflow/core/framework/local_rendezvous.cc:423] Local rendezvous recv item cancelled. Key hash: 6607121185723691025\n",
      "2024-07-24 11:50:09.315519: I tensorflow/core/framework/local_rendezvous.cc:423] Local rendezvous recv item cancelled. Key hash: 15978958992807019649\n",
      "2024-07-24 11:50:09.315525: I tensorflow/core/framework/local_rendezvous.cc:423] Local rendezvous recv item cancelled. Key hash: 4177715030164683947\n",
      "2024-07-24 11:50:09.315528: I tensorflow/core/framework/local_rendezvous.cc:423] Local rendezvous recv item cancelled. Key hash: 10141221434822991174\n",
      "2024-07-24 11:50:09.315534: I tensorflow/core/framework/local_rendezvous.cc:423] Local rendezvous recv item cancelled. Key hash: 3760928453833737392\n"
     ]
    },
    {
     "name": "stdout",
     "output_type": "stream",
     "text": [
      "\u001b[1m42/42\u001b[0m \u001b[32m━━━━━━━━━━━━━━━━━━━━\u001b[0m\u001b[37m\u001b[0m \u001b[1m5s\u001b[0m 118ms/step - accuracy: 0.8588 - auc: 0.9339 - fn: 24.5116 - fp: 24.5116 - loss: 0.3478 - precision: 0.8588 - recall: 0.8588 - tn: 148.7907 - tp: 148.7907 - val_accuracy: 0.6161 - val_auc: 0.7688 - val_fn: 43.0000 - val_fp: 43.0000 - val_loss: 0.6130 - val_precision: 0.6161 - val_recall: 0.6161 - val_tn: 69.0000 - val_tp: 69.0000\n",
      "Epoch 8/50\n",
      "\u001b[1m42/42\u001b[0m \u001b[32m━━━━━━━━━━━━━━━━━━━━\u001b[0m\u001b[37m\u001b[0m \u001b[1m0s\u001b[0m 1ms/step - accuracy: 0.6250 - auc: 0.7656 - fn: 3.0000 - fp: 3.0000 - loss: 0.6491 - precision: 0.6250 - recall: 0.6250 - tn: 5.0000 - tp: 5.0000 - val_accuracy: 1.0000 - val_auc: 1.0000 - val_fn: 0.0000e+00 - val_fp: 0.0000e+00 - val_loss: 0.3865 - val_precision: 1.0000 - val_recall: 1.0000 - val_tn: 2.0000 - val_tp: 2.0000\n",
      "Epoch 9/50\n",
      "\u001b[1m 1/42\u001b[0m \u001b[37m━━━━━━━━━━━━━━━━━━━━\u001b[0m \u001b[1m4s\u001b[0m 107ms/step - accuracy: 1.0000 - auc: 1.0000 - fn: 0.0000e+00 - fp: 0.0000e+00 - loss: 0.1090 - precision: 1.0000 - recall: 1.0000 - tn: 8.0000 - tp: 8.0000"
     ]
    },
    {
     "name": "stderr",
     "output_type": "stream",
     "text": [
      "2024-07-24 11:50:14.436018: I tensorflow/core/framework/local_rendezvous.cc:423] Local rendezvous recv item cancelled. Key hash: 7016282629459583218\n",
      "2024-07-24 11:50:14.436030: I tensorflow/core/framework/local_rendezvous.cc:423] Local rendezvous recv item cancelled. Key hash: 1880315956935049566\n",
      "2024-07-24 11:50:14.436034: I tensorflow/core/framework/local_rendezvous.cc:423] Local rendezvous recv item cancelled. Key hash: 679328862287852262\n",
      "2024-07-24 11:50:14.436041: I tensorflow/core/framework/local_rendezvous.cc:423] Local rendezvous recv item cancelled. Key hash: 1383065497949799395\n",
      "2024-07-24 11:50:14.436045: I tensorflow/core/framework/local_rendezvous.cc:423] Local rendezvous recv item cancelled. Key hash: 4739365245678462033\n",
      "2024-07-24 11:50:14.436049: I tensorflow/core/framework/local_rendezvous.cc:423] Local rendezvous recv item cancelled. Key hash: 11684161685995054627\n",
      "2024-07-24 11:50:14.436054: I tensorflow/core/framework/local_rendezvous.cc:423] Local rendezvous recv item cancelled. Key hash: 4281185063899729373\n",
      "2024-07-24 11:50:14.436059: I tensorflow/core/framework/local_rendezvous.cc:423] Local rendezvous recv item cancelled. Key hash: 16092320404970843963\n",
      "2024-07-24 11:50:14.436062: I tensorflow/core/framework/local_rendezvous.cc:423] Local rendezvous recv item cancelled. Key hash: 9143851637127959719\n",
      "2024-07-24 11:50:14.436066: I tensorflow/core/framework/local_rendezvous.cc:423] Local rendezvous recv item cancelled. Key hash: 7802115701858047337\n",
      "2024-07-24 11:50:14.436071: I tensorflow/core/framework/local_rendezvous.cc:423] Local rendezvous recv item cancelled. Key hash: 10733042269836195989\n",
      "2024-07-24 11:50:14.436074: I tensorflow/core/framework/local_rendezvous.cc:423] Local rendezvous recv item cancelled. Key hash: 13173938544141080941\n",
      "2024-07-24 11:50:14.436079: I tensorflow/core/framework/local_rendezvous.cc:423] Local rendezvous recv item cancelled. Key hash: 13464291270602971939\n",
      "2024-07-24 11:50:14.436082: I tensorflow/core/framework/local_rendezvous.cc:423] Local rendezvous recv item cancelled. Key hash: 17657021932063267605\n",
      "2024-07-24 11:50:14.436086: I tensorflow/core/framework/local_rendezvous.cc:423] Local rendezvous recv item cancelled. Key hash: 3893306221038018165\n",
      "2024-07-24 11:50:14.436089: I tensorflow/core/framework/local_rendezvous.cc:423] Local rendezvous recv item cancelled. Key hash: 6771233482863263613\n",
      "2024-07-24 11:50:14.436129: I tensorflow/core/framework/local_rendezvous.cc:423] Local rendezvous recv item cancelled. Key hash: 15319518697530224520\n",
      "2024-07-24 11:50:14.436134: I tensorflow/core/framework/local_rendezvous.cc:423] Local rendezvous recv item cancelled. Key hash: 4879958333095786416\n",
      "2024-07-24 11:50:14.436137: I tensorflow/core/framework/local_rendezvous.cc:423] Local rendezvous recv item cancelled. Key hash: 2841459043334593302\n",
      "2024-07-24 11:50:14.436142: I tensorflow/core/framework/local_rendezvous.cc:423] Local rendezvous recv item cancelled. Key hash: 2930600443816971478\n",
      "2024-07-24 11:50:14.436146: I tensorflow/core/framework/local_rendezvous.cc:423] Local rendezvous recv item cancelled. Key hash: 15546760133480648130\n",
      "2024-07-24 11:50:14.436150: I tensorflow/core/framework/local_rendezvous.cc:423] Local rendezvous recv item cancelled. Key hash: 3244677876467179166\n",
      "2024-07-24 11:50:14.436154: I tensorflow/core/framework/local_rendezvous.cc:423] Local rendezvous recv item cancelled. Key hash: 15198039565944991606\n",
      "2024-07-24 11:50:14.466509: I tensorflow/core/framework/local_rendezvous.cc:404] Local rendezvous is aborting with status: OUT_OF_RANGE: End of sequence\n",
      "\t [[{{node IteratorGetNext}}]]\n",
      "\t [[Cumsum_1/_32]]\n",
      "2024-07-24 11:50:14.466526: I tensorflow/core/framework/local_rendezvous.cc:423] Local rendezvous recv item cancelled. Key hash: 6607121185723691025\n",
      "2024-07-24 11:50:14.466530: I tensorflow/core/framework/local_rendezvous.cc:423] Local rendezvous recv item cancelled. Key hash: 15978958992807019649\n",
      "2024-07-24 11:50:14.466535: I tensorflow/core/framework/local_rendezvous.cc:423] Local rendezvous recv item cancelled. Key hash: 4177715030164683947\n",
      "2024-07-24 11:50:14.466541: I tensorflow/core/framework/local_rendezvous.cc:423] Local rendezvous recv item cancelled. Key hash: 13917000608837317702\n",
      "2024-07-24 11:50:14.466545: I tensorflow/core/framework/local_rendezvous.cc:423] Local rendezvous recv item cancelled. Key hash: 8004857405651504014\n",
      "2024-07-24 11:50:14.466548: I tensorflow/core/framework/local_rendezvous.cc:423] Local rendezvous recv item cancelled. Key hash: 3760928453833737392\n",
      "2024-07-24 11:50:14.466551: I tensorflow/core/framework/local_rendezvous.cc:423] Local rendezvous recv item cancelled. Key hash: 10141221434822991174\n",
      "2024-07-24 11:50:14.466553: I tensorflow/core/framework/local_rendezvous.cc:423] Local rendezvous recv item cancelled. Key hash: 17016518748549149906\n"
     ]
    },
    {
     "name": "stdout",
     "output_type": "stream",
     "text": [
      "\u001b[1m42/42\u001b[0m \u001b[32m━━━━━━━━━━━━━━━━━━━━\u001b[0m\u001b[37m\u001b[0m \u001b[1m5s\u001b[0m 115ms/step - accuracy: 0.9130 - auc: 0.9660 - fn: 17.3953 - fp: 17.3953 - loss: 0.2536 - precision: 0.9130 - recall: 0.9130 - tn: 155.7209 - tp: 155.7209 - val_accuracy: 0.6161 - val_auc: 0.7803 - val_fn: 43.0000 - val_fp: 43.0000 - val_loss: 0.6129 - val_precision: 0.6161 - val_recall: 0.6161 - val_tn: 69.0000 - val_tp: 69.0000\n",
      "Epoch 10/50\n",
      "\u001b[1m42/42\u001b[0m \u001b[32m━━━━━━━━━━━━━━━━━━━━\u001b[0m\u001b[37m\u001b[0m \u001b[1m0s\u001b[0m 1ms/step - accuracy: 1.0000 - auc: 1.0000 - fn: 0.0000e+00 - fp: 0.0000e+00 - loss: 0.2311 - precision: 1.0000 - recall: 1.0000 - tn: 8.0000 - tp: 8.0000 - val_accuracy: 1.0000 - val_auc: 1.0000 - val_fn: 0.0000e+00 - val_fp: 0.0000e+00 - val_loss: 0.2031 - val_precision: 1.0000 - val_recall: 1.0000 - val_tn: 2.0000 - val_tp: 2.0000\n",
      "Epoch 11/50\n",
      "\u001b[1m 1/42\u001b[0m \u001b[37m━━━━━━━━━━━━━━━━━━━━\u001b[0m \u001b[1m4s\u001b[0m 111ms/step - accuracy: 0.7500 - auc: 0.8438 - fn: 2.0000 - fp: 2.0000 - loss: 0.5414 - precision: 0.7500 - recall: 0.7500 - tn: 6.0000 - tp: 6.0000"
     ]
    },
    {
     "name": "stderr",
     "output_type": "stream",
     "text": [
      "2024-07-24 11:50:19.428314: I tensorflow/core/framework/local_rendezvous.cc:423] Local rendezvous recv item cancelled. Key hash: 7016282629459583218\n",
      "2024-07-24 11:50:19.428329: I tensorflow/core/framework/local_rendezvous.cc:423] Local rendezvous recv item cancelled. Key hash: 1880315956935049566\n",
      "2024-07-24 11:50:19.428333: I tensorflow/core/framework/local_rendezvous.cc:423] Local rendezvous recv item cancelled. Key hash: 679328862287852262\n",
      "2024-07-24 11:50:19.428350: I tensorflow/core/framework/local_rendezvous.cc:423] Local rendezvous recv item cancelled. Key hash: 9112748500218708278\n",
      "2024-07-24 11:50:19.428357: I tensorflow/core/framework/local_rendezvous.cc:423] Local rendezvous recv item cancelled. Key hash: 947237233035207760\n",
      "2024-07-24 11:50:19.428358: I tensorflow/core/framework/local_rendezvous.cc:423] Local rendezvous recv item cancelled. Key hash: 3244677876467179166\n",
      "2024-07-24 11:50:19.428363: I tensorflow/core/framework/local_rendezvous.cc:423] Local rendezvous recv item cancelled. Key hash: 4879958333095786416\n",
      "2024-07-24 11:50:19.428368: I tensorflow/core/framework/local_rendezvous.cc:423] Local rendezvous recv item cancelled. Key hash: 2841459043334593302\n",
      "2024-07-24 11:50:19.428373: I tensorflow/core/framework/local_rendezvous.cc:423] Local rendezvous recv item cancelled. Key hash: 2930600443816971478\n",
      "2024-07-24 11:50:19.428376: I tensorflow/core/framework/local_rendezvous.cc:423] Local rendezvous recv item cancelled. Key hash: 15546760133480648130\n",
      "2024-07-24 11:50:19.428379: I tensorflow/core/framework/local_rendezvous.cc:423] Local rendezvous recv item cancelled. Key hash: 14104454438421348292\n",
      "2024-07-24 11:50:19.428383: I tensorflow/core/framework/local_rendezvous.cc:423] Local rendezvous recv item cancelled. Key hash: 1087108310457809581\n",
      "2024-07-24 11:50:19.428386: I tensorflow/core/framework/local_rendezvous.cc:423] Local rendezvous recv item cancelled. Key hash: 11538265683497572899\n",
      "2024-07-24 11:50:19.428389: I tensorflow/core/framework/local_rendezvous.cc:423] Local rendezvous recv item cancelled. Key hash: 6771233482863263613\n",
      "2024-07-24 11:50:19.428398: I tensorflow/core/framework/local_rendezvous.cc:423] Local rendezvous recv item cancelled. Key hash: 6544545264921141537\n",
      "2024-07-24 11:50:19.428406: I tensorflow/core/framework/local_rendezvous.cc:423] Local rendezvous recv item cancelled. Key hash: 1383065497949799395\n",
      "2024-07-24 11:50:19.428409: I tensorflow/core/framework/local_rendezvous.cc:423] Local rendezvous recv item cancelled. Key hash: 4739365245678462033\n",
      "2024-07-24 11:50:19.428413: I tensorflow/core/framework/local_rendezvous.cc:423] Local rendezvous recv item cancelled. Key hash: 7883339172097817469\n",
      "2024-07-24 11:50:19.428416: I tensorflow/core/framework/local_rendezvous.cc:423] Local rendezvous recv item cancelled. Key hash: 15768608472279910053\n",
      "2024-07-24 11:50:19.428419: I tensorflow/core/framework/local_rendezvous.cc:423] Local rendezvous recv item cancelled. Key hash: 8469731028185146937\n",
      "2024-07-24 11:50:19.428423: I tensorflow/core/framework/local_rendezvous.cc:423] Local rendezvous recv item cancelled. Key hash: 11684161685995054627\n",
      "2024-07-24 11:50:19.428426: I tensorflow/core/framework/local_rendezvous.cc:423] Local rendezvous recv item cancelled. Key hash: 4281185063899729373\n",
      "2024-07-24 11:50:19.428429: I tensorflow/core/framework/local_rendezvous.cc:423] Local rendezvous recv item cancelled. Key hash: 16092320404970843963\n",
      "2024-07-24 11:50:19.428432: I tensorflow/core/framework/local_rendezvous.cc:423] Local rendezvous recv item cancelled. Key hash: 7297141620674244705\n",
      "2024-07-24 11:50:19.428435: I tensorflow/core/framework/local_rendezvous.cc:423] Local rendezvous recv item cancelled. Key hash: 2265985148321886681\n",
      "2024-07-24 11:50:19.428439: I tensorflow/core/framework/local_rendezvous.cc:423] Local rendezvous recv item cancelled. Key hash: 2349617577263575655\n",
      "2024-07-24 11:50:19.428442: I tensorflow/core/framework/local_rendezvous.cc:423] Local rendezvous recv item cancelled. Key hash: 444809279914062789\n",
      "2024-07-24 11:50:19.428445: I tensorflow/core/framework/local_rendezvous.cc:423] Local rendezvous recv item cancelled. Key hash: 9143851637127959719\n",
      "2024-07-24 11:50:19.428448: I tensorflow/core/framework/local_rendezvous.cc:423] Local rendezvous recv item cancelled. Key hash: 7802115701858047337\n",
      "2024-07-24 11:50:19.428451: I tensorflow/core/framework/local_rendezvous.cc:423] Local rendezvous recv item cancelled. Key hash: 10733042269836195989\n",
      "2024-07-24 11:50:19.428455: I tensorflow/core/framework/local_rendezvous.cc:423] Local rendezvous recv item cancelled. Key hash: 13173938544141080941\n",
      "2024-07-24 11:50:19.428458: I tensorflow/core/framework/local_rendezvous.cc:423] Local rendezvous recv item cancelled. Key hash: 17657021932063267605\n",
      "2024-07-24 11:50:19.428461: I tensorflow/core/framework/local_rendezvous.cc:423] Local rendezvous recv item cancelled. Key hash: 13464291270602971939\n",
      "2024-07-24 11:50:19.428465: I tensorflow/core/framework/local_rendezvous.cc:423] Local rendezvous recv item cancelled. Key hash: 16317458952785476389\n",
      "2024-07-24 11:50:19.428472: I tensorflow/core/framework/local_rendezvous.cc:423] Local rendezvous recv item cancelled. Key hash: 3893306221038018165\n",
      "2024-07-24 11:50:19.465765: I tensorflow/core/framework/local_rendezvous.cc:423] Local rendezvous recv item cancelled. Key hash: 17016518748549149906\n",
      "2024-07-24 11:50:19.465780: I tensorflow/core/framework/local_rendezvous.cc:423] Local rendezvous recv item cancelled. Key hash: 3760928453833737392\n",
      "2024-07-24 11:50:19.465790: I tensorflow/core/framework/local_rendezvous.cc:423] Local rendezvous recv item cancelled. Key hash: 10141221434822991174\n",
      "2024-07-24 11:50:19.465792: I tensorflow/core/framework/local_rendezvous.cc:423] Local rendezvous recv item cancelled. Key hash: 15978958992807019649\n",
      "2024-07-24 11:50:19.465805: I tensorflow/core/framework/local_rendezvous.cc:423] Local rendezvous recv item cancelled. Key hash: 13917000608837317702\n"
     ]
    },
    {
     "name": "stdout",
     "output_type": "stream",
     "text": [
      "\u001b[1m42/42\u001b[0m \u001b[32m━━━━━━━━━━━━━━━━━━━━\u001b[0m\u001b[37m\u001b[0m \u001b[1m5s\u001b[0m 119ms/step - accuracy: 0.8703 - auc: 0.9396 - fn: 21.6047 - fp: 21.6047 - loss: 0.3165 - precision: 0.8703 - recall: 0.8703 - tn: 153.2791 - tp: 153.2791 - val_accuracy: 0.6161 - val_auc: 0.7699 - val_fn: 43.0000 - val_fp: 43.0000 - val_loss: 0.6072 - val_precision: 0.6161 - val_recall: 0.6161 - val_tn: 69.0000 - val_tp: 69.0000\n",
      "Epoch 12/50\n",
      "\u001b[1m42/42\u001b[0m \u001b[32m━━━━━━━━━━━━━━━━━━━━\u001b[0m\u001b[37m\u001b[0m \u001b[1m0s\u001b[0m 1ms/step - accuracy: 1.0000 - auc: 1.0000 - fn: 0.0000e+00 - fp: 0.0000e+00 - loss: 0.0867 - precision: 1.0000 - recall: 1.0000 - tn: 8.0000 - tp: 8.0000 - val_accuracy: 1.0000 - val_auc: 1.0000 - val_fn: 0.0000e+00 - val_fp: 0.0000e+00 - val_loss: 0.2604 - val_precision: 1.0000 - val_recall: 1.0000 - val_tn: 2.0000 - val_tp: 2.0000\n",
      "Epoch 13/50\n",
      "\u001b[1m 1/42\u001b[0m \u001b[37m━━━━━━━━━━━━━━━━━━━━\u001b[0m \u001b[1m4s\u001b[0m 109ms/step - accuracy: 0.8750 - auc: 0.9531 - fn: 1.0000 - fp: 1.0000 - loss: 0.2716 - precision: 0.8750 - recall: 0.8750 - tn: 7.0000 - tp: 7.0000"
     ]
    },
    {
     "name": "stderr",
     "output_type": "stream",
     "text": [
      "2024-07-24 11:50:24.603303: I tensorflow/core/framework/local_rendezvous.cc:423] Local rendezvous recv item cancelled. Key hash: 7016282629459583218\n",
      "2024-07-24 11:50:24.603317: I tensorflow/core/framework/local_rendezvous.cc:423] Local rendezvous recv item cancelled. Key hash: 1880315956935049566\n",
      "2024-07-24 11:50:24.603322: I tensorflow/core/framework/local_rendezvous.cc:423] Local rendezvous recv item cancelled. Key hash: 9112748500218708278\n",
      "2024-07-24 11:50:24.603327: I tensorflow/core/framework/local_rendezvous.cc:423] Local rendezvous recv item cancelled. Key hash: 7735001053712973906\n",
      "2024-07-24 11:50:24.603332: I tensorflow/core/framework/local_rendezvous.cc:423] Local rendezvous recv item cancelled. Key hash: 947237233035207760\n",
      "2024-07-24 11:50:24.603336: I tensorflow/core/framework/local_rendezvous.cc:423] Local rendezvous recv item cancelled. Key hash: 15380519210499254842\n",
      "2024-07-24 11:50:24.603337: I tensorflow/core/framework/local_rendezvous.cc:423] Local rendezvous recv item cancelled. Key hash: 1383065497949799395\n",
      "2024-07-24 11:50:24.603349: I tensorflow/core/framework/local_rendezvous.cc:423] Local rendezvous recv item cancelled. Key hash: 15768608472279910053\n",
      "2024-07-24 11:50:24.603355: I tensorflow/core/framework/local_rendezvous.cc:423] Local rendezvous recv item cancelled. Key hash: 11952574714831047347\n",
      "2024-07-24 11:50:24.603358: I tensorflow/core/framework/local_rendezvous.cc:423] Local rendezvous recv item cancelled. Key hash: 2930600443816971478\n",
      "2024-07-24 11:50:24.603366: I tensorflow/core/framework/local_rendezvous.cc:423] Local rendezvous recv item cancelled. Key hash: 15546760133480648130\n",
      "2024-07-24 11:50:24.603368: I tensorflow/core/framework/local_rendezvous.cc:423] Local rendezvous recv item cancelled. Key hash: 4281185063899729373\n",
      "2024-07-24 11:50:24.603378: I tensorflow/core/framework/local_rendezvous.cc:423] Local rendezvous recv item cancelled. Key hash: 12260003450537799090\n",
      "2024-07-24 11:50:24.603382: I tensorflow/core/framework/local_rendezvous.cc:423] Local rendezvous recv item cancelled. Key hash: 9143851637127959719\n",
      "2024-07-24 11:50:24.603386: I tensorflow/core/framework/local_rendezvous.cc:423] Local rendezvous recv item cancelled. Key hash: 15319518697530224520\n",
      "2024-07-24 11:50:24.603388: I tensorflow/core/framework/local_rendezvous.cc:423] Local rendezvous recv item cancelled. Key hash: 7802115701858047337\n",
      "2024-07-24 11:50:24.603391: I tensorflow/core/framework/local_rendezvous.cc:423] Local rendezvous recv item cancelled. Key hash: 15198039565944991606\n",
      "2024-07-24 11:50:24.603396: I tensorflow/core/framework/local_rendezvous.cc:423] Local rendezvous recv item cancelled. Key hash: 13173938544141080941\n",
      "2024-07-24 11:50:24.603402: I tensorflow/core/framework/local_rendezvous.cc:423] Local rendezvous recv item cancelled. Key hash: 18255673518761351433\n",
      "2024-07-24 11:50:24.603406: I tensorflow/core/framework/local_rendezvous.cc:423] Local rendezvous recv item cancelled. Key hash: 679328862287852262\n",
      "2024-07-24 11:50:24.603413: I tensorflow/core/framework/local_rendezvous.cc:423] Local rendezvous recv item cancelled. Key hash: 17657021932063267605\n",
      "2024-07-24 11:50:24.603426: I tensorflow/core/framework/local_rendezvous.cc:423] Local rendezvous recv item cancelled. Key hash: 13464291270602971939\n",
      "2024-07-24 11:50:24.603432: I tensorflow/core/framework/local_rendezvous.cc:423] Local rendezvous recv item cancelled. Key hash: 3596561802965554440\n",
      "2024-07-24 11:50:24.603440: I tensorflow/core/framework/local_rendezvous.cc:423] Local rendezvous recv item cancelled. Key hash: 4879958333095786416\n",
      "2024-07-24 11:50:24.603443: I tensorflow/core/framework/local_rendezvous.cc:423] Local rendezvous recv item cancelled. Key hash: 3893306221038018165\n",
      "2024-07-24 11:50:24.603450: I tensorflow/core/framework/local_rendezvous.cc:423] Local rendezvous recv item cancelled. Key hash: 14805946176245020548\n",
      "2024-07-24 11:50:24.603457: I tensorflow/core/framework/local_rendezvous.cc:423] Local rendezvous recv item cancelled. Key hash: 7471080692649586480\n",
      "2024-07-24 11:50:24.603460: I tensorflow/core/framework/local_rendezvous.cc:423] Local rendezvous recv item cancelled. Key hash: 4536186900066541325\n",
      "2024-07-24 11:50:24.603466: I tensorflow/core/framework/local_rendezvous.cc:423] Local rendezvous recv item cancelled. Key hash: 2841459043334593302\n",
      "2024-07-24 11:50:24.603468: I tensorflow/core/framework/local_rendezvous.cc:423] Local rendezvous recv item cancelled. Key hash: 6544545264921141537\n",
      "2024-07-24 11:50:24.603471: I tensorflow/core/framework/local_rendezvous.cc:423] Local rendezvous recv item cancelled. Key hash: 18358648176830536558\n",
      "2024-07-24 11:50:24.603474: I tensorflow/core/framework/local_rendezvous.cc:423] Local rendezvous recv item cancelled. Key hash: 8716015658963821305\n",
      "2024-07-24 11:50:24.603476: I tensorflow/core/framework/local_rendezvous.cc:423] Local rendezvous recv item cancelled. Key hash: 5960441218906963302\n",
      "2024-07-24 11:50:24.603479: I tensorflow/core/framework/local_rendezvous.cc:423] Local rendezvous recv item cancelled. Key hash: 4739365245678462033\n",
      "2024-07-24 11:50:24.603480: I tensorflow/core/framework/local_rendezvous.cc:423] Local rendezvous recv item cancelled. Key hash: 3244677876467179166\n",
      "2024-07-24 11:50:24.603483: I tensorflow/core/framework/local_rendezvous.cc:423] Local rendezvous recv item cancelled. Key hash: 11684161685995054627\n",
      "2024-07-24 11:50:24.603488: I tensorflow/core/framework/local_rendezvous.cc:423] Local rendezvous recv item cancelled. Key hash: 14104454438421348292\n",
      "2024-07-24 11:50:24.603492: I tensorflow/core/framework/local_rendezvous.cc:423] Local rendezvous recv item cancelled. Key hash: 3898680181337681583\n",
      "2024-07-24 11:50:24.603496: I tensorflow/core/framework/local_rendezvous.cc:423] Local rendezvous recv item cancelled. Key hash: 7297141620674244705\n",
      "2024-07-24 11:50:24.603499: I tensorflow/core/framework/local_rendezvous.cc:423] Local rendezvous recv item cancelled. Key hash: 16092320404970843963\n",
      "2024-07-24 11:50:24.603501: I tensorflow/core/framework/local_rendezvous.cc:423] Local rendezvous recv item cancelled. Key hash: 2265985148321886681\n",
      "2024-07-24 11:50:24.603503: I tensorflow/core/framework/local_rendezvous.cc:423] Local rendezvous recv item cancelled. Key hash: 8063543133116231471\n",
      "2024-07-24 11:50:24.603506: I tensorflow/core/framework/local_rendezvous.cc:423] Local rendezvous recv item cancelled. Key hash: 8469731028185146937\n",
      "2024-07-24 11:50:24.603507: I tensorflow/core/framework/local_rendezvous.cc:423] Local rendezvous recv item cancelled. Key hash: 2349617577263575655\n",
      "2024-07-24 11:50:24.603510: I tensorflow/core/framework/local_rendezvous.cc:423] Local rendezvous recv item cancelled. Key hash: 11538265683497572899\n",
      "2024-07-24 11:50:24.603513: I tensorflow/core/framework/local_rendezvous.cc:423] Local rendezvous recv item cancelled. Key hash: 444809279914062789\n",
      "2024-07-24 11:50:24.603515: I tensorflow/core/framework/local_rendezvous.cc:423] Local rendezvous recv item cancelled. Key hash: 7883339172097817469\n",
      "2024-07-24 11:50:24.603517: I tensorflow/core/framework/local_rendezvous.cc:423] Local rendezvous recv item cancelled. Key hash: 859836513747203897\n",
      "2024-07-24 11:50:24.603520: I tensorflow/core/framework/local_rendezvous.cc:423] Local rendezvous recv item cancelled. Key hash: 4709750447546522785\n",
      "2024-07-24 11:50:24.603521: I tensorflow/core/framework/local_rendezvous.cc:423] Local rendezvous recv item cancelled. Key hash: 10733042269836195989\n",
      "2024-07-24 11:50:24.603524: I tensorflow/core/framework/local_rendezvous.cc:423] Local rendezvous recv item cancelled. Key hash: 2690217201294355223\n",
      "2024-07-24 11:50:24.603532: I tensorflow/core/framework/local_rendezvous.cc:423] Local rendezvous recv item cancelled. Key hash: 17914613602436512017\n",
      "2024-07-24 11:50:24.603545: I tensorflow/core/framework/local_rendezvous.cc:423] Local rendezvous recv item cancelled. Key hash: 1087108310457809581\n",
      "2024-07-24 11:50:24.603551: I tensorflow/core/framework/local_rendezvous.cc:423] Local rendezvous recv item cancelled. Key hash: 16317458952785476389\n",
      "2024-07-24 11:50:24.603555: I tensorflow/core/framework/local_rendezvous.cc:423] Local rendezvous recv item cancelled. Key hash: 6800600665730497323\n",
      "2024-07-24 11:50:24.603558: I tensorflow/core/framework/local_rendezvous.cc:423] Local rendezvous recv item cancelled. Key hash: 17646930667787712373\n",
      "2024-07-24 11:50:24.603569: I tensorflow/core/framework/local_rendezvous.cc:423] Local rendezvous recv item cancelled. Key hash: 6771233482863263613\n",
      "2024-07-24 11:50:24.628004: I tensorflow/core/framework/local_rendezvous.cc:423] Local rendezvous recv item cancelled. Key hash: 17016518748549149906\n",
      "2024-07-24 11:50:24.628015: I tensorflow/core/framework/local_rendezvous.cc:423] Local rendezvous recv item cancelled. Key hash: 13917000608837317702\n",
      "2024-07-24 11:50:24.628018: I tensorflow/core/framework/local_rendezvous.cc:423] Local rendezvous recv item cancelled. Key hash: 6607121185723691025\n",
      "2024-07-24 11:50:24.628027: I tensorflow/core/framework/local_rendezvous.cc:423] Local rendezvous recv item cancelled. Key hash: 15978958992807019649\n",
      "2024-07-24 11:50:24.628029: I tensorflow/core/framework/local_rendezvous.cc:423] Local rendezvous recv item cancelled. Key hash: 10141221434822991174\n",
      "2024-07-24 11:50:24.628036: I tensorflow/core/framework/local_rendezvous.cc:423] Local rendezvous recv item cancelled. Key hash: 3760928453833737392\n"
     ]
    },
    {
     "name": "stdout",
     "output_type": "stream",
     "text": [
      "\u001b[1m42/42\u001b[0m \u001b[32m━━━━━━━━━━━━━━━━━━━━\u001b[0m\u001b[37m\u001b[0m \u001b[1m5s\u001b[0m 116ms/step - accuracy: 0.9050 - auc: 0.9573 - fn: 16.1395 - fp: 16.1395 - loss: 0.2559 - precision: 0.9050 - recall: 0.9050 - tn: 157.3488 - tp: 157.3488 - val_accuracy: 0.6250 - val_auc: 0.7880 - val_fn: 42.0000 - val_fp: 42.0000 - val_loss: 0.9652 - val_precision: 0.6250 - val_recall: 0.6250 - val_tn: 70.0000 - val_tp: 70.0000\n",
      "Epoch 14/50\n",
      "\u001b[1m42/42\u001b[0m \u001b[32m━━━━━━━━━━━━━━━━━━━━\u001b[0m\u001b[37m\u001b[0m \u001b[1m0s\u001b[0m 1ms/step - accuracy: 1.0000 - auc: 1.0000 - fn: 0.0000e+00 - fp: 0.0000e+00 - loss: 0.1346 - precision: 1.0000 - recall: 1.0000 - tn: 8.0000 - tp: 8.0000 - val_accuracy: 1.0000 - val_auc: 1.0000 - val_fn: 0.0000e+00 - val_fp: 0.0000e+00 - val_loss: 0.0565 - val_precision: 1.0000 - val_recall: 1.0000 - val_tn: 2.0000 - val_tp: 2.0000\n",
      "Epoch 15/50\n",
      "\u001b[1m 1/42\u001b[0m \u001b[37m━━━━━━━━━━━━━━━━━━━━\u001b[0m \u001b[1m4s\u001b[0m 109ms/step - accuracy: 1.0000 - auc: 1.0000 - fn: 0.0000e+00 - fp: 0.0000e+00 - loss: 0.0536 - precision: 1.0000 - recall: 1.0000 - tn: 8.0000 - tp: 8.0000"
     ]
    },
    {
     "name": "stderr",
     "output_type": "stream",
     "text": [
      "2024-07-24 11:50:29.626625: I tensorflow/core/framework/local_rendezvous.cc:423] Local rendezvous recv item cancelled. Key hash: 1383065497949799395\n",
      "2024-07-24 11:50:29.626638: I tensorflow/core/framework/local_rendezvous.cc:423] Local rendezvous recv item cancelled. Key hash: 7735001053712973906\n",
      "2024-07-24 11:50:29.626649: I tensorflow/core/framework/local_rendezvous.cc:423] Local rendezvous recv item cancelled. Key hash: 1880315956935049566\n",
      "2024-07-24 11:50:29.626653: I tensorflow/core/framework/local_rendezvous.cc:423] Local rendezvous recv item cancelled. Key hash: 15768608472279910053\n",
      "2024-07-24 11:50:29.626663: I tensorflow/core/framework/local_rendezvous.cc:423] Local rendezvous recv item cancelled. Key hash: 11952574714831047347\n",
      "2024-07-24 11:50:29.626668: I tensorflow/core/framework/local_rendezvous.cc:423] Local rendezvous recv item cancelled. Key hash: 9112748500218708278\n",
      "2024-07-24 11:50:29.626676: I tensorflow/core/framework/local_rendezvous.cc:423] Local rendezvous recv item cancelled. Key hash: 4281185063899729373\n",
      "2024-07-24 11:50:29.626687: I tensorflow/core/framework/local_rendezvous.cc:423] Local rendezvous recv item cancelled. Key hash: 9143851637127959719\n",
      "2024-07-24 11:50:29.626692: I tensorflow/core/framework/local_rendezvous.cc:423] Local rendezvous recv item cancelled. Key hash: 7802115701858047337\n",
      "2024-07-24 11:50:29.626697: I tensorflow/core/framework/local_rendezvous.cc:423] Local rendezvous recv item cancelled. Key hash: 18255673518761351433\n",
      "2024-07-24 11:50:29.626702: I tensorflow/core/framework/local_rendezvous.cc:423] Local rendezvous recv item cancelled. Key hash: 11538265683497572899\n",
      "2024-07-24 11:50:29.626706: I tensorflow/core/framework/local_rendezvous.cc:423] Local rendezvous recv item cancelled. Key hash: 10774896904204926938\n",
      "2024-07-24 11:50:29.626717: I tensorflow/core/framework/local_rendezvous.cc:423] Local rendezvous recv item cancelled. Key hash: 17657021932063267605\n",
      "2024-07-24 11:50:29.626725: I tensorflow/core/framework/local_rendezvous.cc:423] Local rendezvous recv item cancelled. Key hash: 4709750447546522785\n",
      "2024-07-24 11:50:29.626729: I tensorflow/core/framework/local_rendezvous.cc:423] Local rendezvous recv item cancelled. Key hash: 13464291270602971939\n",
      "2024-07-24 11:50:29.626731: I tensorflow/core/framework/local_rendezvous.cc:423] Local rendezvous recv item cancelled. Key hash: 2930600443816971478\n",
      "2024-07-24 11:50:29.626738: I tensorflow/core/framework/local_rendezvous.cc:423] Local rendezvous recv item cancelled. Key hash: 13173938544141080941\n",
      "2024-07-24 11:50:29.626742: I tensorflow/core/framework/local_rendezvous.cc:423] Local rendezvous recv item cancelled. Key hash: 15546760133480648130\n",
      "2024-07-24 11:50:29.626747: I tensorflow/core/framework/local_rendezvous.cc:423] Local rendezvous recv item cancelled. Key hash: 4536186900066541325\n",
      "2024-07-24 11:50:29.626751: I tensorflow/core/framework/local_rendezvous.cc:423] Local rendezvous recv item cancelled. Key hash: 11192976704570593080\n",
      "2024-07-24 11:50:29.626757: I tensorflow/core/framework/local_rendezvous.cc:423] Local rendezvous recv item cancelled. Key hash: 3893306221038018165\n",
      "2024-07-24 11:50:29.626762: I tensorflow/core/framework/local_rendezvous.cc:423] Local rendezvous recv item cancelled. Key hash: 15546636043995320706\n",
      "2024-07-24 11:50:29.626768: I tensorflow/core/framework/local_rendezvous.cc:423] Local rendezvous recv item cancelled. Key hash: 8716015658963821305\n",
      "2024-07-24 11:50:29.626772: I tensorflow/core/framework/local_rendezvous.cc:423] Local rendezvous recv item cancelled. Key hash: 11247894964737659160\n",
      "2024-07-24 11:50:29.626776: I tensorflow/core/framework/local_rendezvous.cc:423] Local rendezvous recv item cancelled. Key hash: 13227134449558905445\n",
      "2024-07-24 11:50:29.626780: I tensorflow/core/framework/local_rendezvous.cc:423] Local rendezvous recv item cancelled. Key hash: 3596561802965554440\n",
      "2024-07-24 11:50:29.626784: I tensorflow/core/framework/local_rendezvous.cc:423] Local rendezvous recv item cancelled. Key hash: 4739365245678462033\n",
      "2024-07-24 11:50:29.626788: I tensorflow/core/framework/local_rendezvous.cc:423] Local rendezvous recv item cancelled. Key hash: 11684161685995054627\n",
      "2024-07-24 11:50:29.626792: I tensorflow/core/framework/local_rendezvous.cc:423] Local rendezvous recv item cancelled. Key hash: 8469731028185146937\n",
      "2024-07-24 11:50:29.626796: I tensorflow/core/framework/local_rendezvous.cc:423] Local rendezvous recv item cancelled. Key hash: 10063160773300312710\n",
      "2024-07-24 11:50:29.626803: I tensorflow/core/framework/local_rendezvous.cc:423] Local rendezvous recv item cancelled. Key hash: 2841459043334593302\n",
      "2024-07-24 11:50:29.626805: I tensorflow/core/framework/local_rendezvous.cc:423] Local rendezvous recv item cancelled. Key hash: 3898680181337681583\n",
      "2024-07-24 11:50:29.626812: I tensorflow/core/framework/local_rendezvous.cc:423] Local rendezvous recv item cancelled. Key hash: 18358648176830536558\n",
      "2024-07-24 11:50:29.626814: I tensorflow/core/framework/local_rendezvous.cc:423] Local rendezvous recv item cancelled. Key hash: 16092320404970843963\n",
      "2024-07-24 11:50:29.626817: I tensorflow/core/framework/local_rendezvous.cc:423] Local rendezvous recv item cancelled. Key hash: 3244677876467179166\n",
      "2024-07-24 11:50:29.626819: I tensorflow/core/framework/local_rendezvous.cc:423] Local rendezvous recv item cancelled. Key hash: 7297141620674244705\n",
      "2024-07-24 11:50:29.626824: I tensorflow/core/framework/local_rendezvous.cc:423] Local rendezvous recv item cancelled. Key hash: 7016282629459583218\n",
      "2024-07-24 11:50:29.626829: I tensorflow/core/framework/local_rendezvous.cc:423] Local rendezvous recv item cancelled. Key hash: 2265985148321886681\n",
      "2024-07-24 11:50:29.626834: I tensorflow/core/framework/local_rendezvous.cc:423] Local rendezvous recv item cancelled. Key hash: 4341340968854807014\n",
      "2024-07-24 11:50:29.626838: I tensorflow/core/framework/local_rendezvous.cc:423] Local rendezvous recv item cancelled. Key hash: 2349617577263575655\n",
      "2024-07-24 11:50:29.626844: I tensorflow/core/framework/local_rendezvous.cc:423] Local rendezvous recv item cancelled. Key hash: 947237233035207760\n",
      "2024-07-24 11:50:29.626848: I tensorflow/core/framework/local_rendezvous.cc:423] Local rendezvous recv item cancelled. Key hash: 444809279914062789\n",
      "2024-07-24 11:50:29.626853: I tensorflow/core/framework/local_rendezvous.cc:423] Local rendezvous recv item cancelled. Key hash: 10520248598898357819\n",
      "2024-07-24 11:50:29.626859: I tensorflow/core/framework/local_rendezvous.cc:423] Local rendezvous recv item cancelled. Key hash: 859836513747203897\n",
      "2024-07-24 11:50:29.626863: I tensorflow/core/framework/local_rendezvous.cc:423] Local rendezvous recv item cancelled. Key hash: 15380519210499254842\n",
      "2024-07-24 11:50:29.626870: I tensorflow/core/framework/local_rendezvous.cc:423] Local rendezvous recv item cancelled. Key hash: 12260003450537799090\n",
      "2024-07-24 11:50:29.626872: I tensorflow/core/framework/local_rendezvous.cc:423] Local rendezvous recv item cancelled. Key hash: 10733042269836195989\n",
      "2024-07-24 11:50:29.626879: I tensorflow/core/framework/local_rendezvous.cc:423] Local rendezvous recv item cancelled. Key hash: 15319518697530224520\n",
      "2024-07-24 11:50:29.626883: I tensorflow/core/framework/local_rendezvous.cc:423] Local rendezvous recv item cancelled. Key hash: 17914613602436512017\n",
      "2024-07-24 11:50:29.626887: I tensorflow/core/framework/local_rendezvous.cc:423] Local rendezvous recv item cancelled. Key hash: 15198039565944991606\n",
      "2024-07-24 11:50:29.626891: I tensorflow/core/framework/local_rendezvous.cc:423] Local rendezvous recv item cancelled. Key hash: 17646930667787712373\n",
      "2024-07-24 11:50:29.626894: I tensorflow/core/framework/local_rendezvous.cc:423] Local rendezvous recv item cancelled. Key hash: 679328862287852262\n",
      "2024-07-24 11:50:29.626898: I tensorflow/core/framework/local_rendezvous.cc:423] Local rendezvous recv item cancelled. Key hash: 6800600665730497323\n",
      "2024-07-24 11:50:29.626905: I tensorflow/core/framework/local_rendezvous.cc:423] Local rendezvous recv item cancelled. Key hash: 7883339172097817469\n",
      "2024-07-24 11:50:29.626907: I tensorflow/core/framework/local_rendezvous.cc:423] Local rendezvous recv item cancelled. Key hash: 2816867156590179222\n",
      "2024-07-24 11:50:29.626911: I tensorflow/core/framework/local_rendezvous.cc:423] Local rendezvous recv item cancelled. Key hash: 1087108310457809581\n",
      "2024-07-24 11:50:29.626915: I tensorflow/core/framework/local_rendezvous.cc:423] Local rendezvous recv item cancelled. Key hash: 2243463833139901712\n",
      "2024-07-24 11:50:29.626918: I tensorflow/core/framework/local_rendezvous.cc:423] Local rendezvous recv item cancelled. Key hash: 16317458952785476389\n",
      "2024-07-24 11:50:29.626923: I tensorflow/core/framework/local_rendezvous.cc:423] Local rendezvous recv item cancelled. Key hash: 6771233482863263613\n",
      "2024-07-24 11:50:29.626927: I tensorflow/core/framework/local_rendezvous.cc:423] Local rendezvous recv item cancelled. Key hash: 4879958333095786416\n",
      "2024-07-24 11:50:29.626932: I tensorflow/core/framework/local_rendezvous.cc:423] Local rendezvous recv item cancelled. Key hash: 14805946176245020548\n",
      "2024-07-24 11:50:29.626935: I tensorflow/core/framework/local_rendezvous.cc:423] Local rendezvous recv item cancelled. Key hash: 7471080692649586480\n",
      "2024-07-24 11:50:29.626938: I tensorflow/core/framework/local_rendezvous.cc:423] Local rendezvous recv item cancelled. Key hash: 5960441218906963302\n",
      "2024-07-24 11:50:29.626941: I tensorflow/core/framework/local_rendezvous.cc:423] Local rendezvous recv item cancelled. Key hash: 14104454438421348292\n",
      "2024-07-24 11:50:29.652661: I tensorflow/core/framework/local_rendezvous.cc:423] Local rendezvous recv item cancelled. Key hash: 6607121185723691025\n",
      "2024-07-24 11:50:29.652672: I tensorflow/core/framework/local_rendezvous.cc:423] Local rendezvous recv item cancelled. Key hash: 15978958992807019649\n",
      "2024-07-24 11:50:29.652678: I tensorflow/core/framework/local_rendezvous.cc:423] Local rendezvous recv item cancelled. Key hash: 4177715030164683947\n",
      "2024-07-24 11:50:29.652684: I tensorflow/core/framework/local_rendezvous.cc:423] Local rendezvous recv item cancelled. Key hash: 13917000608837317702\n",
      "2024-07-24 11:50:29.652687: I tensorflow/core/framework/local_rendezvous.cc:423] Local rendezvous recv item cancelled. Key hash: 8004857405651504014\n",
      "2024-07-24 11:50:29.652691: I tensorflow/core/framework/local_rendezvous.cc:423] Local rendezvous recv item cancelled. Key hash: 3760928453833737392\n",
      "2024-07-24 11:50:29.652694: I tensorflow/core/framework/local_rendezvous.cc:423] Local rendezvous recv item cancelled. Key hash: 10141221434822991174\n",
      "2024-07-24 11:50:29.652696: I tensorflow/core/framework/local_rendezvous.cc:423] Local rendezvous recv item cancelled. Key hash: 17016518748549149906\n"
     ]
    },
    {
     "name": "stdout",
     "output_type": "stream",
     "text": [
      "\u001b[1m42/42\u001b[0m \u001b[32m━━━━━━━━━━━━━━━━━━━━\u001b[0m\u001b[37m\u001b[0m \u001b[1m5s\u001b[0m 129ms/step - accuracy: 0.9560 - auc: 0.9828 - fn: 9.5581 - fp: 9.5581 - loss: 0.1580 - precision: 0.9560 - recall: 0.9560 - tn: 163.3721 - tp: 163.3721 - val_accuracy: 0.7143 - val_auc: 0.8393 - val_fn: 32.0000 - val_fp: 32.0000 - val_loss: 0.5482 - val_precision: 0.7143 - val_recall: 0.7143 - val_tn: 80.0000 - val_tp: 80.0000\n",
      "Epoch 16/50\n",
      "\u001b[1m42/42\u001b[0m \u001b[32m━━━━━━━━━━━━━━━━━━━━\u001b[0m\u001b[37m\u001b[0m \u001b[1m0s\u001b[0m 1ms/step - accuracy: 1.0000 - auc: 1.0000 - fn: 0.0000e+00 - fp: 0.0000e+00 - loss: 0.1219 - precision: 1.0000 - recall: 1.0000 - tn: 8.0000 - tp: 8.0000 - val_accuracy: 1.0000 - val_auc: 1.0000 - val_fn: 0.0000e+00 - val_fp: 0.0000e+00 - val_loss: 0.1660 - val_precision: 1.0000 - val_recall: 1.0000 - val_tn: 2.0000 - val_tp: 2.0000\n",
      "Epoch 17/50\n",
      "\u001b[1m 1/42\u001b[0m \u001b[37m━━━━━━━━━━━━━━━━━━━━\u001b[0m \u001b[1m4s\u001b[0m 108ms/step - accuracy: 0.8750 - auc: 0.9531 - fn: 1.0000 - fp: 1.0000 - loss: 0.2953 - precision: 0.8750 - recall: 0.8750 - tn: 7.0000 - tp: 7.0000"
     ]
    },
    {
     "name": "stderr",
     "output_type": "stream",
     "text": [
      "2024-07-24 11:50:35.219428: I tensorflow/core/framework/local_rendezvous.cc:423] Local rendezvous recv item cancelled. Key hash: 4536186900066541325\n",
      "2024-07-24 11:50:35.219443: I tensorflow/core/framework/local_rendezvous.cc:423] Local rendezvous recv item cancelled. Key hash: 1383065497949799395\n",
      "2024-07-24 11:50:35.219456: I tensorflow/core/framework/local_rendezvous.cc:423] Local rendezvous recv item cancelled. Key hash: 11684161685995054627\n",
      "2024-07-24 11:50:35.219460: I tensorflow/core/framework/local_rendezvous.cc:423] Local rendezvous recv item cancelled. Key hash: 15768608472279910053\n",
      "2024-07-24 11:50:35.219463: I tensorflow/core/framework/local_rendezvous.cc:423] Local rendezvous recv item cancelled. Key hash: 2690217201294355223\n",
      "2024-07-24 11:50:35.219466: I tensorflow/core/framework/local_rendezvous.cc:423] Local rendezvous recv item cancelled. Key hash: 7735001053712973906\n",
      "2024-07-24 11:50:35.219489: I tensorflow/core/framework/local_rendezvous.cc:423] Local rendezvous recv item cancelled. Key hash: 4281185063899729373\n",
      "2024-07-24 11:50:35.219496: I tensorflow/core/framework/local_rendezvous.cc:423] Local rendezvous recv item cancelled. Key hash: 9112748500218708278\n",
      "2024-07-24 11:50:35.219505: I tensorflow/core/framework/local_rendezvous.cc:423] Local rendezvous recv item cancelled. Key hash: 16092320404970843963\n",
      "2024-07-24 11:50:35.219516: I tensorflow/core/framework/local_rendezvous.cc:423] Local rendezvous recv item cancelled. Key hash: 8063543133116231471\n",
      "2024-07-24 11:50:35.219521: I tensorflow/core/framework/local_rendezvous.cc:423] Local rendezvous recv item cancelled. Key hash: 947237233035207760\n",
      "2024-07-24 11:50:35.219530: I tensorflow/core/framework/local_rendezvous.cc:423] Local rendezvous recv item cancelled. Key hash: 7802115701858047337\n",
      "2024-07-24 11:50:35.219544: I tensorflow/core/framework/local_rendezvous.cc:423] Local rendezvous recv item cancelled. Key hash: 859836513747203897\n",
      "2024-07-24 11:50:35.219551: I tensorflow/core/framework/local_rendezvous.cc:423] Local rendezvous recv item cancelled. Key hash: 10733042269836195989\n",
      "2024-07-24 11:50:35.219553: I tensorflow/core/framework/local_rendezvous.cc:423] Local rendezvous recv item cancelled. Key hash: 15380519210499254842\n",
      "2024-07-24 11:50:35.219561: I tensorflow/core/framework/local_rendezvous.cc:423] Local rendezvous recv item cancelled. Key hash: 18255673518761351433\n",
      "2024-07-24 11:50:35.219565: I tensorflow/core/framework/local_rendezvous.cc:423] Local rendezvous recv item cancelled. Key hash: 12260003450537799090\n",
      "2024-07-24 11:50:35.219571: I tensorflow/core/framework/local_rendezvous.cc:423] Local rendezvous recv item cancelled. Key hash: 13173938544141080941\n",
      "2024-07-24 11:50:35.219575: I tensorflow/core/framework/local_rendezvous.cc:423] Local rendezvous recv item cancelled. Key hash: 15546760133480648130\n",
      "2024-07-24 11:50:35.219582: I tensorflow/core/framework/local_rendezvous.cc:423] Local rendezvous recv item cancelled. Key hash: 17657021932063267605\n",
      "2024-07-24 11:50:35.219587: I tensorflow/core/framework/local_rendezvous.cc:423] Local rendezvous recv item cancelled. Key hash: 15198039565944991606\n",
      "2024-07-24 11:50:35.219590: I tensorflow/core/framework/local_rendezvous.cc:423] Local rendezvous recv item cancelled. Key hash: 6800600665730497323\n",
      "2024-07-24 11:50:35.219594: I tensorflow/core/framework/local_rendezvous.cc:423] Local rendezvous recv item cancelled. Key hash: 15319518697530224520\n",
      "2024-07-24 11:50:35.219598: I tensorflow/core/framework/local_rendezvous.cc:423] Local rendezvous recv item cancelled. Key hash: 17646930667787712373\n",
      "2024-07-24 11:50:35.219602: I tensorflow/core/framework/local_rendezvous.cc:423] Local rendezvous recv item cancelled. Key hash: 15546636043995320706\n",
      "2024-07-24 11:50:35.219607: I tensorflow/core/framework/local_rendezvous.cc:423] Local rendezvous recv item cancelled. Key hash: 679328862287852262\n",
      "2024-07-24 11:50:35.219610: I tensorflow/core/framework/local_rendezvous.cc:423] Local rendezvous recv item cancelled. Key hash: 13464291270602971939\n",
      "2024-07-24 11:50:35.219617: I tensorflow/core/framework/local_rendezvous.cc:423] Local rendezvous recv item cancelled. Key hash: 6771233482863263613\n",
      "2024-07-24 11:50:35.219619: I tensorflow/core/framework/local_rendezvous.cc:423] Local rendezvous recv item cancelled. Key hash: 3596561802965554440\n",
      "2024-07-24 11:50:35.219626: I tensorflow/core/framework/local_rendezvous.cc:423] Local rendezvous recv item cancelled. Key hash: 4879958333095786416\n",
      "2024-07-24 11:50:35.219630: I tensorflow/core/framework/local_rendezvous.cc:423] Local rendezvous recv item cancelled. Key hash: 14805946176245020548\n",
      "2024-07-24 11:50:35.219634: I tensorflow/core/framework/local_rendezvous.cc:423] Local rendezvous recv item cancelled. Key hash: 7471080692649586480\n",
      "2024-07-24 11:50:35.219637: I tensorflow/core/framework/local_rendezvous.cc:423] Local rendezvous recv item cancelled. Key hash: 10063160773300312710\n",
      "2024-07-24 11:50:35.219642: I tensorflow/core/framework/local_rendezvous.cc:423] Local rendezvous recv item cancelled. Key hash: 2841459043334593302\n",
      "2024-07-24 11:50:35.219645: I tensorflow/core/framework/local_rendezvous.cc:423] Local rendezvous recv item cancelled. Key hash: 18358648176830536558\n",
      "2024-07-24 11:50:35.219649: I tensorflow/core/framework/local_rendezvous.cc:423] Local rendezvous recv item cancelled. Key hash: 5960441218906963302\n",
      "2024-07-24 11:50:35.219652: I tensorflow/core/framework/local_rendezvous.cc:423] Local rendezvous recv item cancelled. Key hash: 3244677876467179166\n",
      "2024-07-24 11:50:35.219655: I tensorflow/core/framework/local_rendezvous.cc:423] Local rendezvous recv item cancelled. Key hash: 14104454438421348292\n",
      "2024-07-24 11:50:35.246254: I tensorflow/core/framework/local_rendezvous.cc:404] Local rendezvous is aborting with status: OUT_OF_RANGE: End of sequence\n",
      "\t [[{{node IteratorGetNext}}]]\n",
      "\t [[IteratorGetNext/_4]]\n",
      "2024-07-24 11:50:35.246268: I tensorflow/core/framework/local_rendezvous.cc:423] Local rendezvous recv item cancelled. Key hash: 6607121185723691025\n",
      "2024-07-24 11:50:35.246273: I tensorflow/core/framework/local_rendezvous.cc:423] Local rendezvous recv item cancelled. Key hash: 13917000608837317702\n",
      "2024-07-24 11:50:35.246284: I tensorflow/core/framework/local_rendezvous.cc:423] Local rendezvous recv item cancelled. Key hash: 3760928453833737392\n",
      "2024-07-24 11:50:35.246289: I tensorflow/core/framework/local_rendezvous.cc:423] Local rendezvous recv item cancelled. Key hash: 15978958992807019649\n",
      "2024-07-24 11:50:35.246297: I tensorflow/core/framework/local_rendezvous.cc:423] Local rendezvous recv item cancelled. Key hash: 4177715030164683947\n",
      "2024-07-24 11:50:35.246299: I tensorflow/core/framework/local_rendezvous.cc:423] Local rendezvous recv item cancelled. Key hash: 10141221434822991174\n",
      "2024-07-24 11:50:35.246306: I tensorflow/core/framework/local_rendezvous.cc:423] Local rendezvous recv item cancelled. Key hash: 17016518748549149906\n"
     ]
    },
    {
     "name": "stdout",
     "output_type": "stream",
     "text": [
      "\u001b[1m42/42\u001b[0m \u001b[32m━━━━━━━━━━━━━━━━━━━━\u001b[0m\u001b[37m\u001b[0m \u001b[1m5s\u001b[0m 122ms/step - accuracy: 0.9021 - auc: 0.9588 - fn: 17.5116 - fp: 17.5116 - loss: 0.2693 - precision: 0.9021 - recall: 0.9021 - tn: 157.0000 - tp: 157.0000 - val_accuracy: 0.6696 - val_auc: 0.8278 - val_fn: 37.0000 - val_fp: 37.0000 - val_loss: 0.6667 - val_precision: 0.6696 - val_recall: 0.6696 - val_tn: 75.0000 - val_tp: 75.0000\n",
      "Epoch 18/50\n",
      "\u001b[1m42/42\u001b[0m \u001b[32m━━━━━━━━━━━━━━━━━━━━\u001b[0m\u001b[37m\u001b[0m \u001b[1m0s\u001b[0m 1ms/step - accuracy: 0.7500 - auc: 0.8438 - fn: 2.0000 - fp: 2.0000 - loss: 0.5614 - precision: 0.7500 - recall: 0.7500 - tn: 6.0000 - tp: 6.0000 - val_accuracy: 1.0000 - val_auc: 1.0000 - val_fn: 0.0000e+00 - val_fp: 0.0000e+00 - val_loss: 0.1379 - val_precision: 1.0000 - val_recall: 1.0000 - val_tn: 2.0000 - val_tp: 2.0000\n",
      "Epoch 19/50\n",
      "\u001b[1m 1/42\u001b[0m \u001b[37m━━━━━━━━━━━━━━━━━━━━\u001b[0m \u001b[1m5s\u001b[0m 125ms/step - accuracy: 1.0000 - auc: 1.0000 - fn: 0.0000e+00 - fp: 0.0000e+00 - loss: 0.0686 - precision: 1.0000 - recall: 1.0000 - tn: 8.0000 - tp: 8.0000"
     ]
    },
    {
     "name": "stderr",
     "output_type": "stream",
     "text": [
      "2024-07-24 11:50:40.499178: I tensorflow/core/framework/local_rendezvous.cc:423] Local rendezvous recv item cancelled. Key hash: 13464291270602971939\n",
      "2024-07-24 11:50:40.499195: I tensorflow/core/framework/local_rendezvous.cc:423] Local rendezvous recv item cancelled. Key hash: 1383065497949799395\n",
      "2024-07-24 11:50:40.499199: I tensorflow/core/framework/local_rendezvous.cc:423] Local rendezvous recv item cancelled. Key hash: 4739365245678462033\n",
      "2024-07-24 11:50:40.499203: I tensorflow/core/framework/local_rendezvous.cc:423] Local rendezvous recv item cancelled. Key hash: 8469731028185146937\n",
      "2024-07-24 11:50:40.499207: I tensorflow/core/framework/local_rendezvous.cc:423] Local rendezvous recv item cancelled. Key hash: 7016282629459583218\n",
      "2024-07-24 11:50:40.499217: I tensorflow/core/framework/local_rendezvous.cc:423] Local rendezvous recv item cancelled. Key hash: 1880315956935049566\n",
      "2024-07-24 11:50:40.499222: I tensorflow/core/framework/local_rendezvous.cc:423] Local rendezvous recv item cancelled. Key hash: 11684161685995054627\n",
      "2024-07-24 11:50:40.499229: I tensorflow/core/framework/local_rendezvous.cc:423] Local rendezvous recv item cancelled. Key hash: 15380519210499254842\n",
      "2024-07-24 11:50:40.499240: I tensorflow/core/framework/local_rendezvous.cc:423] Local rendezvous recv item cancelled. Key hash: 15768608472279910053\n",
      "2024-07-24 11:50:40.499248: I tensorflow/core/framework/local_rendezvous.cc:423] Local rendezvous recv item cancelled. Key hash: 11952574714831047347\n",
      "2024-07-24 11:50:40.499250: I tensorflow/core/framework/local_rendezvous.cc:423] Local rendezvous recv item cancelled. Key hash: 2930600443816971478\n",
      "2024-07-24 11:50:40.499257: I tensorflow/core/framework/local_rendezvous.cc:423] Local rendezvous recv item cancelled. Key hash: 2690217201294355223\n",
      "2024-07-24 11:50:40.499260: I tensorflow/core/framework/local_rendezvous.cc:423] Local rendezvous recv item cancelled. Key hash: 15546760133480648130\n",
      "2024-07-24 11:50:40.499263: I tensorflow/core/framework/local_rendezvous.cc:423] Local rendezvous recv item cancelled. Key hash: 4281185063899729373\n",
      "2024-07-24 11:50:40.499268: I tensorflow/core/framework/local_rendezvous.cc:423] Local rendezvous recv item cancelled. Key hash: 15319518697530224520\n",
      "2024-07-24 11:50:40.499273: I tensorflow/core/framework/local_rendezvous.cc:423] Local rendezvous recv item cancelled. Key hash: 3898680181337681583\n",
      "2024-07-24 11:50:40.499282: I tensorflow/core/framework/local_rendezvous.cc:423] Local rendezvous recv item cancelled. Key hash: 8063543133116231471\n",
      "2024-07-24 11:50:40.499287: I tensorflow/core/framework/local_rendezvous.cc:423] Local rendezvous recv item cancelled. Key hash: 7297141620674244705\n",
      "2024-07-24 11:50:40.499291: I tensorflow/core/framework/local_rendezvous.cc:423] Local rendezvous recv item cancelled. Key hash: 2349617577263575655\n",
      "2024-07-24 11:50:40.499298: I tensorflow/core/framework/local_rendezvous.cc:423] Local rendezvous recv item cancelled. Key hash: 444809279914062789\n",
      "2024-07-24 11:50:40.499302: I tensorflow/core/framework/local_rendezvous.cc:423] Local rendezvous recv item cancelled. Key hash: 15198039565944991606\n",
      "2024-07-24 11:50:40.499312: I tensorflow/core/framework/local_rendezvous.cc:423] Local rendezvous recv item cancelled. Key hash: 3596561802965554440\n",
      "2024-07-24 11:50:40.499319: I tensorflow/core/framework/local_rendezvous.cc:423] Local rendezvous recv item cancelled. Key hash: 4879958333095786416\n",
      "2024-07-24 11:50:40.499322: I tensorflow/core/framework/local_rendezvous.cc:423] Local rendezvous recv item cancelled. Key hash: 7802115701858047337\n",
      "2024-07-24 11:50:40.499330: I tensorflow/core/framework/local_rendezvous.cc:423] Local rendezvous recv item cancelled. Key hash: 10733042269836195989\n",
      "2024-07-24 11:50:40.499332: I tensorflow/core/framework/local_rendezvous.cc:423] Local rendezvous recv item cancelled. Key hash: 10063160773300312710\n",
      "2024-07-24 11:50:40.499338: I tensorflow/core/framework/local_rendezvous.cc:423] Local rendezvous recv item cancelled. Key hash: 13173938544141080941\n",
      "2024-07-24 11:50:40.499343: I tensorflow/core/framework/local_rendezvous.cc:423] Local rendezvous recv item cancelled. Key hash: 18358648176830536558\n",
      "2024-07-24 11:50:40.499347: I tensorflow/core/framework/local_rendezvous.cc:423] Local rendezvous recv item cancelled. Key hash: 18255673518761351433\n",
      "2024-07-24 11:50:40.499352: I tensorflow/core/framework/local_rendezvous.cc:423] Local rendezvous recv item cancelled. Key hash: 2841459043334593302\n",
      "2024-07-24 11:50:40.499356: I tensorflow/core/framework/local_rendezvous.cc:423] Local rendezvous recv item cancelled. Key hash: 17657021932063267605\n",
      "2024-07-24 11:50:40.499360: I tensorflow/core/framework/local_rendezvous.cc:423] Local rendezvous recv item cancelled. Key hash: 3244677876467179166\n",
      "2024-07-24 11:50:40.499363: I tensorflow/core/framework/local_rendezvous.cc:423] Local rendezvous recv item cancelled. Key hash: 16317458952785476389\n",
      "2024-07-24 11:50:40.499368: I tensorflow/core/framework/local_rendezvous.cc:423] Local rendezvous recv item cancelled. Key hash: 4709750447546522785\n",
      "2024-07-24 11:50:40.499370: I tensorflow/core/framework/local_rendezvous.cc:423] Local rendezvous recv item cancelled. Key hash: 2265985148321886681\n",
      "2024-07-24 11:50:40.499377: I tensorflow/core/framework/local_rendezvous.cc:423] Local rendezvous recv item cancelled. Key hash: 3893306221038018165\n",
      "2024-07-24 11:50:40.499382: I tensorflow/core/framework/local_rendezvous.cc:423] Local rendezvous recv item cancelled. Key hash: 6544545264921141537\n",
      "2024-07-24 11:50:40.499386: I tensorflow/core/framework/local_rendezvous.cc:423] Local rendezvous recv item cancelled. Key hash: 4536186900066541325\n",
      "2024-07-24 11:50:40.499391: I tensorflow/core/framework/local_rendezvous.cc:423] Local rendezvous recv item cancelled. Key hash: 8716015658963821305\n",
      "2024-07-24 11:50:40.499397: I tensorflow/core/framework/local_rendezvous.cc:423] Local rendezvous recv item cancelled. Key hash: 9143851637127959719\n",
      "2024-07-24 11:50:40.499401: I tensorflow/core/framework/local_rendezvous.cc:423] Local rendezvous recv item cancelled. Key hash: 1087108310457809581\n",
      "2024-07-24 11:50:40.499405: I tensorflow/core/framework/local_rendezvous.cc:423] Local rendezvous recv item cancelled. Key hash: 7883339172097817469\n",
      "2024-07-24 11:50:40.499407: I tensorflow/core/framework/local_rendezvous.cc:423] Local rendezvous recv item cancelled. Key hash: 16092320404970843963\n",
      "2024-07-24 11:50:40.525827: I tensorflow/core/framework/local_rendezvous.cc:423] Local rendezvous recv item cancelled. Key hash: 6607121185723691025\n",
      "2024-07-24 11:50:40.525841: I tensorflow/core/framework/local_rendezvous.cc:423] Local rendezvous recv item cancelled. Key hash: 15978958992807019649\n",
      "2024-07-24 11:50:40.525853: I tensorflow/core/framework/local_rendezvous.cc:423] Local rendezvous recv item cancelled. Key hash: 4177715030164683947\n",
      "2024-07-24 11:50:40.525859: I tensorflow/core/framework/local_rendezvous.cc:423] Local rendezvous recv item cancelled. Key hash: 17016518748549149906\n",
      "2024-07-24 11:50:40.525868: I tensorflow/core/framework/local_rendezvous.cc:423] Local rendezvous recv item cancelled. Key hash: 3760928453833737392\n",
      "2024-07-24 11:50:40.525871: I tensorflow/core/framework/local_rendezvous.cc:423] Local rendezvous recv item cancelled. Key hash: 10141221434822991174\n",
      "2024-07-24 11:50:40.525875: I tensorflow/core/framework/local_rendezvous.cc:423] Local rendezvous recv item cancelled. Key hash: 13917000608837317702\n"
     ]
    },
    {
     "name": "stdout",
     "output_type": "stream",
     "text": [
      "\u001b[1m42/42\u001b[0m \u001b[32m━━━━━━━━━━━━━━━━━━━━\u001b[0m\u001b[37m\u001b[0m \u001b[1m5s\u001b[0m 126ms/step - accuracy: 0.9596 - auc: 0.9833 - fn: 8.9302 - fp: 8.9302 - loss: 0.1655 - precision: 0.9596 - recall: 0.9596 - tn: 162.9767 - tp: 162.9767 - val_accuracy: 0.7768 - val_auc: 0.8789 - val_fn: 25.0000 - val_fp: 25.0000 - val_loss: 0.4386 - val_precision: 0.7768 - val_recall: 0.7768 - val_tn: 87.0000 - val_tp: 87.0000\n",
      "Epoch 20/50\n",
      "\u001b[1m42/42\u001b[0m \u001b[32m━━━━━━━━━━━━━━━━━━━━\u001b[0m\u001b[37m\u001b[0m \u001b[1m0s\u001b[0m 1ms/step - accuracy: 1.0000 - auc: 1.0000 - fn: 0.0000e+00 - fp: 0.0000e+00 - loss: 0.1064 - precision: 1.0000 - recall: 1.0000 - tn: 8.0000 - tp: 8.0000 - val_accuracy: 1.0000 - val_auc: 1.0000 - val_fn: 0.0000e+00 - val_fp: 0.0000e+00 - val_loss: 0.2641 - val_precision: 1.0000 - val_recall: 1.0000 - val_tn: 2.0000 - val_tp: 2.0000\n",
      "Epoch 21/50\n",
      "\u001b[1m 1/42\u001b[0m \u001b[37m━━━━━━━━━━━━━━━━━━━━\u001b[0m \u001b[1m4s\u001b[0m 121ms/step - accuracy: 1.0000 - auc: 1.0000 - fn: 0.0000e+00 - fp: 0.0000e+00 - loss: 0.0926 - precision: 1.0000 - recall: 1.0000 - tn: 8.0000 - tp: 8.0000"
     ]
    },
    {
     "name": "stderr",
     "output_type": "stream",
     "text": [
      "2024-07-24 11:50:45.956337: I tensorflow/core/framework/local_rendezvous.cc:423] Local rendezvous recv item cancelled. Key hash: 1383065497949799395\n",
      "2024-07-24 11:50:45.956351: I tensorflow/core/framework/local_rendezvous.cc:423] Local rendezvous recv item cancelled. Key hash: 15768608472279910053\n",
      "2024-07-24 11:50:45.956356: I tensorflow/core/framework/local_rendezvous.cc:423] Local rendezvous recv item cancelled. Key hash: 7016282629459583218\n",
      "2024-07-24 11:50:45.956368: I tensorflow/core/framework/local_rendezvous.cc:423] Local rendezvous recv item cancelled. Key hash: 1880315956935049566\n",
      "2024-07-24 11:50:45.956372: I tensorflow/core/framework/local_rendezvous.cc:423] Local rendezvous recv item cancelled. Key hash: 4281185063899729373\n",
      "2024-07-24 11:50:45.956377: I tensorflow/core/framework/local_rendezvous.cc:423] Local rendezvous recv item cancelled. Key hash: 9112748500218708278\n",
      "2024-07-24 11:50:45.956382: I tensorflow/core/framework/local_rendezvous.cc:423] Local rendezvous recv item cancelled. Key hash: 9143851637127959719\n",
      "2024-07-24 11:50:45.956386: I tensorflow/core/framework/local_rendezvous.cc:423] Local rendezvous recv item cancelled. Key hash: 7735001053712973906\n",
      "2024-07-24 11:50:45.956391: I tensorflow/core/framework/local_rendezvous.cc:423] Local rendezvous recv item cancelled. Key hash: 7802115701858047337\n",
      "2024-07-24 11:50:45.956396: I tensorflow/core/framework/local_rendezvous.cc:423] Local rendezvous recv item cancelled. Key hash: 947237233035207760\n",
      "2024-07-24 11:50:45.956401: I tensorflow/core/framework/local_rendezvous.cc:423] Local rendezvous recv item cancelled. Key hash: 13173938544141080941\n",
      "2024-07-24 11:50:45.956405: I tensorflow/core/framework/local_rendezvous.cc:423] Local rendezvous recv item cancelled. Key hash: 15380519210499254842\n",
      "2024-07-24 11:50:45.956410: I tensorflow/core/framework/local_rendezvous.cc:423] Local rendezvous recv item cancelled. Key hash: 11538265683497572899\n",
      "2024-07-24 11:50:45.956416: I tensorflow/core/framework/local_rendezvous.cc:423] Local rendezvous recv item cancelled. Key hash: 17657021932063267605\n",
      "2024-07-24 11:50:45.956419: I tensorflow/core/framework/local_rendezvous.cc:423] Local rendezvous recv item cancelled. Key hash: 2930600443816971478\n",
      "2024-07-24 11:50:45.956426: I tensorflow/core/framework/local_rendezvous.cc:423] Local rendezvous recv item cancelled. Key hash: 13464291270602971939\n",
      "2024-07-24 11:50:45.956438: I tensorflow/core/framework/local_rendezvous.cc:423] Local rendezvous recv item cancelled. Key hash: 15546760133480648130\n",
      "2024-07-24 11:50:45.956444: I tensorflow/core/framework/local_rendezvous.cc:423] Local rendezvous recv item cancelled. Key hash: 4709750447546522785\n",
      "2024-07-24 11:50:45.956449: I tensorflow/core/framework/local_rendezvous.cc:423] Local rendezvous recv item cancelled. Key hash: 12260003450537799090\n",
      "2024-07-24 11:50:45.956454: I tensorflow/core/framework/local_rendezvous.cc:423] Local rendezvous recv item cancelled. Key hash: 3893306221038018165\n",
      "2024-07-24 11:50:45.956458: I tensorflow/core/framework/local_rendezvous.cc:423] Local rendezvous recv item cancelled. Key hash: 15319518697530224520\n",
      "2024-07-24 11:50:45.956463: I tensorflow/core/framework/local_rendezvous.cc:423] Local rendezvous recv item cancelled. Key hash: 4536186900066541325\n",
      "2024-07-24 11:50:45.956468: I tensorflow/core/framework/local_rendezvous.cc:423] Local rendezvous recv item cancelled. Key hash: 6544545264921141537\n",
      "2024-07-24 11:50:45.956473: I tensorflow/core/framework/local_rendezvous.cc:423] Local rendezvous recv item cancelled. Key hash: 15198039565944991606\n",
      "2024-07-24 11:50:45.956479: I tensorflow/core/framework/local_rendezvous.cc:423] Local rendezvous recv item cancelled. Key hash: 8716015658963821305\n",
      "2024-07-24 11:50:45.956483: I tensorflow/core/framework/local_rendezvous.cc:423] Local rendezvous recv item cancelled. Key hash: 15546636043995320706\n",
      "2024-07-24 11:50:45.956488: I tensorflow/core/framework/local_rendezvous.cc:423] Local rendezvous recv item cancelled. Key hash: 18255673518761351433\n",
      "2024-07-24 11:50:45.956492: I tensorflow/core/framework/local_rendezvous.cc:423] Local rendezvous recv item cancelled. Key hash: 679328862287852262\n",
      "2024-07-24 11:50:45.956497: I tensorflow/core/framework/local_rendezvous.cc:423] Local rendezvous recv item cancelled. Key hash: 4739365245678462033\n",
      "2024-07-24 11:50:45.956502: I tensorflow/core/framework/local_rendezvous.cc:423] Local rendezvous recv item cancelled. Key hash: 3596561802965554440\n",
      "2024-07-24 11:50:45.956505: I tensorflow/core/framework/local_rendezvous.cc:423] Local rendezvous recv item cancelled. Key hash: 11684161685995054627\n",
      "2024-07-24 11:50:45.956509: I tensorflow/core/framework/local_rendezvous.cc:423] Local rendezvous recv item cancelled. Key hash: 4879958333095786416\n",
      "2024-07-24 11:50:45.956515: I tensorflow/core/framework/local_rendezvous.cc:423] Local rendezvous recv item cancelled. Key hash: 2690217201294355223\n",
      "2024-07-24 11:50:45.956527: I tensorflow/core/framework/local_rendezvous.cc:423] Local rendezvous recv item cancelled. Key hash: 3898680181337681583\n",
      "2024-07-24 11:50:45.956533: I tensorflow/core/framework/local_rendezvous.cc:423] Local rendezvous recv item cancelled. Key hash: 8063543133116231471\n",
      "2024-07-24 11:50:45.956536: I tensorflow/core/framework/local_rendezvous.cc:423] Local rendezvous recv item cancelled. Key hash: 14805946176245020548\n",
      "2024-07-24 11:50:45.956542: I tensorflow/core/framework/local_rendezvous.cc:423] Local rendezvous recv item cancelled. Key hash: 7297141620674244705\n",
      "2024-07-24 11:50:45.956547: I tensorflow/core/framework/local_rendezvous.cc:423] Local rendezvous recv item cancelled. Key hash: 10063160773300312710\n",
      "2024-07-24 11:50:45.956550: I tensorflow/core/framework/local_rendezvous.cc:423] Local rendezvous recv item cancelled. Key hash: 2265985148321886681\n",
      "2024-07-24 11:50:45.956555: I tensorflow/core/framework/local_rendezvous.cc:423] Local rendezvous recv item cancelled. Key hash: 18358648176830536558\n",
      "2024-07-24 11:50:45.956558: I tensorflow/core/framework/local_rendezvous.cc:423] Local rendezvous recv item cancelled. Key hash: 2349617577263575655\n",
      "2024-07-24 11:50:45.956563: I tensorflow/core/framework/local_rendezvous.cc:423] Local rendezvous recv item cancelled. Key hash: 2841459043334593302\n",
      "2024-07-24 11:50:45.956568: I tensorflow/core/framework/local_rendezvous.cc:423] Local rendezvous recv item cancelled. Key hash: 444809279914062789\n",
      "2024-07-24 11:50:45.956572: I tensorflow/core/framework/local_rendezvous.cc:423] Local rendezvous recv item cancelled. Key hash: 5960441218906963302\n",
      "2024-07-24 11:50:45.956575: I tensorflow/core/framework/local_rendezvous.cc:423] Local rendezvous recv item cancelled. Key hash: 16092320404970843963\n",
      "2024-07-24 11:50:45.956580: I tensorflow/core/framework/local_rendezvous.cc:423] Local rendezvous recv item cancelled. Key hash: 3244677876467179166\n",
      "2024-07-24 11:50:45.956584: I tensorflow/core/framework/local_rendezvous.cc:423] Local rendezvous recv item cancelled. Key hash: 859836513747203897\n",
      "2024-07-24 11:50:45.956587: I tensorflow/core/framework/local_rendezvous.cc:423] Local rendezvous recv item cancelled. Key hash: 14104454438421348292\n",
      "2024-07-24 11:50:45.956591: I tensorflow/core/framework/local_rendezvous.cc:423] Local rendezvous recv item cancelled. Key hash: 10733042269836195989\n",
      "2024-07-24 11:50:45.956595: I tensorflow/core/framework/local_rendezvous.cc:423] Local rendezvous recv item cancelled. Key hash: 1087108310457809581\n",
      "2024-07-24 11:50:45.956599: I tensorflow/core/framework/local_rendezvous.cc:423] Local rendezvous recv item cancelled. Key hash: 16317458952785476389\n",
      "2024-07-24 11:50:45.956607: I tensorflow/core/framework/local_rendezvous.cc:423] Local rendezvous recv item cancelled. Key hash: 7883339172097817469\n",
      "2024-07-24 11:50:45.956619: I tensorflow/core/framework/local_rendezvous.cc:423] Local rendezvous recv item cancelled. Key hash: 11952574714831047347\n",
      "2024-07-24 11:50:45.956625: I tensorflow/core/framework/local_rendezvous.cc:423] Local rendezvous recv item cancelled. Key hash: 8469731028185146937\n",
      "2024-07-24 11:50:45.956629: I tensorflow/core/framework/local_rendezvous.cc:423] Local rendezvous recv item cancelled. Key hash: 6771233482863263613\n",
      "2024-07-24 11:50:45.989588: I tensorflow/core/framework/local_rendezvous.cc:423] Local rendezvous recv item cancelled. Key hash: 6607121185723691025\n",
      "2024-07-24 11:50:45.989600: I tensorflow/core/framework/local_rendezvous.cc:423] Local rendezvous recv item cancelled. Key hash: 15978958992807019649\n",
      "2024-07-24 11:50:45.989605: I tensorflow/core/framework/local_rendezvous.cc:423] Local rendezvous recv item cancelled. Key hash: 4177715030164683947\n",
      "2024-07-24 11:50:45.989610: I tensorflow/core/framework/local_rendezvous.cc:423] Local rendezvous recv item cancelled. Key hash: 13917000608837317702\n",
      "2024-07-24 11:50:45.989613: I tensorflow/core/framework/local_rendezvous.cc:423] Local rendezvous recv item cancelled. Key hash: 3760928453833737392\n",
      "2024-07-24 11:50:45.989616: I tensorflow/core/framework/local_rendezvous.cc:423] Local rendezvous recv item cancelled. Key hash: 10141221434822991174\n",
      "2024-07-24 11:50:45.989618: I tensorflow/core/framework/local_rendezvous.cc:423] Local rendezvous recv item cancelled. Key hash: 17016518748549149906\n"
     ]
    },
    {
     "name": "stdout",
     "output_type": "stream",
     "text": [
      "\u001b[1m42/42\u001b[0m \u001b[32m━━━━━━━━━━━━━━━━━━━━\u001b[0m\u001b[37m\u001b[0m \u001b[1m5s\u001b[0m 121ms/step - accuracy: 0.8862 - auc: 0.9347 - fn: 23.2791 - fp: 23.2791 - loss: 0.3215 - precision: 0.8862 - recall: 0.8862 - tn: 150.7674 - tp: 150.7674 - val_accuracy: 0.7589 - val_auc: 0.8353 - val_fn: 27.0000 - val_fp: 27.0000 - val_loss: 0.5332 - val_precision: 0.7589 - val_recall: 0.7589 - val_tn: 85.0000 - val_tp: 85.0000\n",
      "Epoch 22/50\n",
      "\u001b[1m42/42\u001b[0m \u001b[32m━━━━━━━━━━━━━━━━━━━━\u001b[0m\u001b[37m\u001b[0m \u001b[1m0s\u001b[0m 1ms/step - accuracy: 0.8750 - auc: 0.9531 - fn: 1.0000 - fp: 1.0000 - loss: 0.3006 - precision: 0.8750 - recall: 0.8750 - tn: 7.0000 - tp: 7.0000 - val_accuracy: 1.0000 - val_auc: 1.0000 - val_fn: 0.0000e+00 - val_fp: 0.0000e+00 - val_loss: 0.3959 - val_precision: 1.0000 - val_recall: 1.0000 - val_tn: 2.0000 - val_tp: 2.0000\n",
      "Epoch 23/50\n",
      "\u001b[1m 1/42\u001b[0m \u001b[37m━━━━━━━━━━━━━━━━━━━━\u001b[0m \u001b[1m4s\u001b[0m 107ms/step - accuracy: 1.0000 - auc: 1.0000 - fn: 0.0000e+00 - fp: 0.0000e+00 - loss: 0.1277 - precision: 1.0000 - recall: 1.0000 - tn: 8.0000 - tp: 8.0000"
     ]
    },
    {
     "name": "stderr",
     "output_type": "stream",
     "text": [
      "2024-07-24 11:50:51.240229: I tensorflow/core/framework/local_rendezvous.cc:423] Local rendezvous recv item cancelled. Key hash: 7016282629459583218\n",
      "2024-07-24 11:50:51.240242: I tensorflow/core/framework/local_rendezvous.cc:423] Local rendezvous recv item cancelled. Key hash: 9112748500218708278\n",
      "2024-07-24 11:50:51.240246: I tensorflow/core/framework/local_rendezvous.cc:423] Local rendezvous recv item cancelled. Key hash: 1880315956935049566\n",
      "2024-07-24 11:50:51.240250: I tensorflow/core/framework/local_rendezvous.cc:423] Local rendezvous recv item cancelled. Key hash: 947237233035207760\n",
      "2024-07-24 11:50:51.240258: I tensorflow/core/framework/local_rendezvous.cc:423] Local rendezvous recv item cancelled. Key hash: 15546636043995320706\n",
      "2024-07-24 11:50:51.240262: I tensorflow/core/framework/local_rendezvous.cc:423] Local rendezvous recv item cancelled. Key hash: 4709750447546522785\n",
      "2024-07-24 11:50:51.240267: I tensorflow/core/framework/local_rendezvous.cc:423] Local rendezvous recv item cancelled. Key hash: 1383065497949799395\n",
      "2024-07-24 11:50:51.240270: I tensorflow/core/framework/local_rendezvous.cc:423] Local rendezvous recv item cancelled. Key hash: 15768608472279910053\n",
      "2024-07-24 11:50:51.240273: I tensorflow/core/framework/local_rendezvous.cc:423] Local rendezvous recv item cancelled. Key hash: 11952574714831047347\n",
      "2024-07-24 11:50:51.240276: I tensorflow/core/framework/local_rendezvous.cc:423] Local rendezvous recv item cancelled. Key hash: 4281185063899729373\n",
      "2024-07-24 11:50:51.240280: I tensorflow/core/framework/local_rendezvous.cc:423] Local rendezvous recv item cancelled. Key hash: 9143851637127959719\n",
      "2024-07-24 11:50:51.240282: I tensorflow/core/framework/local_rendezvous.cc:423] Local rendezvous recv item cancelled. Key hash: 7802115701858047337\n",
      "2024-07-24 11:50:51.240285: I tensorflow/core/framework/local_rendezvous.cc:423] Local rendezvous recv item cancelled. Key hash: 13173938544141080941\n",
      "2024-07-24 11:50:51.240288: I tensorflow/core/framework/local_rendezvous.cc:423] Local rendezvous recv item cancelled. Key hash: 18255673518761351433\n",
      "2024-07-24 11:50:51.240291: I tensorflow/core/framework/local_rendezvous.cc:423] Local rendezvous recv item cancelled. Key hash: 13464291270602971939\n",
      "2024-07-24 11:50:51.240294: I tensorflow/core/framework/local_rendezvous.cc:423] Local rendezvous recv item cancelled. Key hash: 17657021932063267605\n",
      "2024-07-24 11:50:51.240297: I tensorflow/core/framework/local_rendezvous.cc:423] Local rendezvous recv item cancelled. Key hash: 11538265683497572899\n",
      "2024-07-24 11:50:51.240300: I tensorflow/core/framework/local_rendezvous.cc:423] Local rendezvous recv item cancelled. Key hash: 3893306221038018165\n",
      "2024-07-24 11:50:51.240304: I tensorflow/core/framework/local_rendezvous.cc:423] Local rendezvous recv item cancelled. Key hash: 4536186900066541325\n",
      "2024-07-24 11:50:51.240308: I tensorflow/core/framework/local_rendezvous.cc:423] Local rendezvous recv item cancelled. Key hash: 6544545264921141537\n",
      "2024-07-24 11:50:51.240311: I tensorflow/core/framework/local_rendezvous.cc:423] Local rendezvous recv item cancelled. Key hash: 8716015658963821305\n",
      "2024-07-24 11:50:51.240314: I tensorflow/core/framework/local_rendezvous.cc:423] Local rendezvous recv item cancelled. Key hash: 4739365245678462033\n",
      "2024-07-24 11:50:51.240318: I tensorflow/core/framework/local_rendezvous.cc:423] Local rendezvous recv item cancelled. Key hash: 11684161685995054627\n",
      "2024-07-24 11:50:51.240321: I tensorflow/core/framework/local_rendezvous.cc:423] Local rendezvous recv item cancelled. Key hash: 8469731028185146937\n",
      "2024-07-24 11:50:51.240326: I tensorflow/core/framework/local_rendezvous.cc:423] Local rendezvous recv item cancelled. Key hash: 2690217201294355223\n",
      "2024-07-24 11:50:51.240330: I tensorflow/core/framework/local_rendezvous.cc:423] Local rendezvous recv item cancelled. Key hash: 3898680181337681583\n",
      "2024-07-24 11:50:51.240334: I tensorflow/core/framework/local_rendezvous.cc:423] Local rendezvous recv item cancelled. Key hash: 8063543133116231471\n",
      "2024-07-24 11:50:51.240337: I tensorflow/core/framework/local_rendezvous.cc:423] Local rendezvous recv item cancelled. Key hash: 7297141620674244705\n",
      "2024-07-24 11:50:51.240340: I tensorflow/core/framework/local_rendezvous.cc:423] Local rendezvous recv item cancelled. Key hash: 2265985148321886681\n",
      "2024-07-24 11:50:51.240344: I tensorflow/core/framework/local_rendezvous.cc:423] Local rendezvous recv item cancelled. Key hash: 2349617577263575655\n",
      "2024-07-24 11:50:51.240347: I tensorflow/core/framework/local_rendezvous.cc:423] Local rendezvous recv item cancelled. Key hash: 444809279914062789\n",
      "2024-07-24 11:50:51.240351: I tensorflow/core/framework/local_rendezvous.cc:423] Local rendezvous recv item cancelled. Key hash: 16092320404970843963\n",
      "2024-07-24 11:50:51.240355: I tensorflow/core/framework/local_rendezvous.cc:423] Local rendezvous recv item cancelled. Key hash: 10733042269836195989\n",
      "2024-07-24 11:50:51.240359: I tensorflow/core/framework/local_rendezvous.cc:423] Local rendezvous recv item cancelled. Key hash: 1087108310457809581\n",
      "2024-07-24 11:50:51.240362: I tensorflow/core/framework/local_rendezvous.cc:423] Local rendezvous recv item cancelled. Key hash: 16317458952785476389\n",
      "2024-07-24 11:50:51.240366: I tensorflow/core/framework/local_rendezvous.cc:423] Local rendezvous recv item cancelled. Key hash: 7883339172097817469\n",
      "2024-07-24 11:50:51.240370: I tensorflow/core/framework/local_rendezvous.cc:423] Local rendezvous recv item cancelled. Key hash: 6771233482863263613\n",
      "2024-07-24 11:50:51.240383: I tensorflow/core/framework/local_rendezvous.cc:423] Local rendezvous recv item cancelled. Key hash: 15380519210499254842\n",
      "2024-07-24 11:50:51.240387: I tensorflow/core/framework/local_rendezvous.cc:423] Local rendezvous recv item cancelled. Key hash: 2930600443816971478\n",
      "2024-07-24 11:50:51.240390: I tensorflow/core/framework/local_rendezvous.cc:423] Local rendezvous recv item cancelled. Key hash: 15546760133480648130\n",
      "2024-07-24 11:50:51.240394: I tensorflow/core/framework/local_rendezvous.cc:423] Local rendezvous recv item cancelled. Key hash: 15319518697530224520\n",
      "2024-07-24 11:50:51.240397: I tensorflow/core/framework/local_rendezvous.cc:423] Local rendezvous recv item cancelled. Key hash: 15198039565944991606\n",
      "2024-07-24 11:50:51.240401: I tensorflow/core/framework/local_rendezvous.cc:423] Local rendezvous recv item cancelled. Key hash: 679328862287852262\n",
      "2024-07-24 11:50:51.240404: I tensorflow/core/framework/local_rendezvous.cc:423] Local rendezvous recv item cancelled. Key hash: 3596561802965554440\n",
      "2024-07-24 11:50:51.240408: I tensorflow/core/framework/local_rendezvous.cc:423] Local rendezvous recv item cancelled. Key hash: 4879958333095786416\n",
      "2024-07-24 11:50:51.240411: I tensorflow/core/framework/local_rendezvous.cc:423] Local rendezvous recv item cancelled. Key hash: 14805946176245020548\n",
      "2024-07-24 11:50:51.240415: I tensorflow/core/framework/local_rendezvous.cc:423] Local rendezvous recv item cancelled. Key hash: 10063160773300312710\n",
      "2024-07-24 11:50:51.240418: I tensorflow/core/framework/local_rendezvous.cc:423] Local rendezvous recv item cancelled. Key hash: 2841459043334593302\n",
      "2024-07-24 11:50:51.240421: I tensorflow/core/framework/local_rendezvous.cc:423] Local rendezvous recv item cancelled. Key hash: 18358648176830536558\n",
      "2024-07-24 11:50:51.240424: I tensorflow/core/framework/local_rendezvous.cc:423] Local rendezvous recv item cancelled. Key hash: 3244677876467179166\n",
      "2024-07-24 11:50:51.265288: I tensorflow/core/framework/local_rendezvous.cc:423] Local rendezvous recv item cancelled. Key hash: 15978958992807019649\n",
      "2024-07-24 11:50:51.265304: I tensorflow/core/framework/local_rendezvous.cc:423] Local rendezvous recv item cancelled. Key hash: 3760928453833737392\n",
      "2024-07-24 11:50:51.265313: I tensorflow/core/framework/local_rendezvous.cc:423] Local rendezvous recv item cancelled. Key hash: 17016518748549149906\n",
      "2024-07-24 11:50:51.265317: I tensorflow/core/framework/local_rendezvous.cc:423] Local rendezvous recv item cancelled. Key hash: 10141221434822991174\n",
      "2024-07-24 11:50:51.265321: I tensorflow/core/framework/local_rendezvous.cc:423] Local rendezvous recv item cancelled. Key hash: 13917000608837317702\n"
     ]
    },
    {
     "name": "stdout",
     "output_type": "stream",
     "text": [
      "\u001b[1m42/42\u001b[0m \u001b[32m━━━━━━━━━━━━━━━━━━━━\u001b[0m\u001b[37m\u001b[0m \u001b[1m5s\u001b[0m 115ms/step - accuracy: 0.9322 - auc: 0.9762 - fn: 13.3256 - fp: 13.3256 - loss: 0.2052 - precision: 0.9322 - recall: 0.9322 - tn: 161.7442 - tp: 161.7442 - val_accuracy: 0.7411 - val_auc: 0.7930 - val_fn: 29.0000 - val_fp: 29.0000 - val_loss: 0.5503 - val_precision: 0.7411 - val_recall: 0.7411 - val_tn: 83.0000 - val_tp: 83.0000\n",
      "Epoch 24/50\n",
      "\u001b[1m42/42\u001b[0m \u001b[32m━━━━━━━━━━━━━━━━━━━━\u001b[0m\u001b[37m\u001b[0m \u001b[1m0s\u001b[0m 1ms/step - accuracy: 1.0000 - auc: 1.0000 - fn: 0.0000e+00 - fp: 0.0000e+00 - loss: 0.1199 - precision: 1.0000 - recall: 1.0000 - tn: 8.0000 - tp: 8.0000 - val_accuracy: 0.0000e+00 - val_auc: 0.0000e+00 - val_fn: 2.0000 - val_fp: 2.0000 - val_loss: 1.3584 - val_precision: 0.0000e+00 - val_recall: 0.0000e+00 - val_tn: 0.0000e+00 - val_tp: 0.0000e+00\n",
      "Epoch 25/50\n",
      "\u001b[1m 1/42\u001b[0m \u001b[37m━━━━━━━━━━━━━━━━━━━━\u001b[0m \u001b[1m4s\u001b[0m 110ms/step - accuracy: 0.8750 - auc: 0.9844 - fn: 1.0000 - fp: 1.0000 - loss: 0.2261 - precision: 0.8750 - recall: 0.8750 - tn: 7.0000 - tp: 7.0000"
     ]
    },
    {
     "name": "stderr",
     "output_type": "stream",
     "text": [
      "2024-07-24 11:50:56.248052: I tensorflow/core/framework/local_rendezvous.cc:423] Local rendezvous recv item cancelled. Key hash: 7016282629459583218\n",
      "2024-07-24 11:50:56.248082: I tensorflow/core/framework/local_rendezvous.cc:423] Local rendezvous recv item cancelled. Key hash: 1880315956935049566\n",
      "2024-07-24 11:50:56.248090: I tensorflow/core/framework/local_rendezvous.cc:423] Local rendezvous recv item cancelled. Key hash: 15380519210499254842\n",
      "2024-07-24 11:50:56.248099: I tensorflow/core/framework/local_rendezvous.cc:423] Local rendezvous recv item cancelled. Key hash: 2930600443816971478\n",
      "2024-07-24 11:50:56.248102: I tensorflow/core/framework/local_rendezvous.cc:423] Local rendezvous recv item cancelled. Key hash: 679328862287852262\n",
      "2024-07-24 11:50:56.248110: I tensorflow/core/framework/local_rendezvous.cc:423] Local rendezvous recv item cancelled. Key hash: 15198039565944991606\n",
      "2024-07-24 11:50:56.248116: I tensorflow/core/framework/local_rendezvous.cc:423] Local rendezvous recv item cancelled. Key hash: 6544545264921141537\n",
      "2024-07-24 11:50:56.248121: I tensorflow/core/framework/local_rendezvous.cc:423] Local rendezvous recv item cancelled. Key hash: 1383065497949799395\n",
      "2024-07-24 11:50:56.248125: I tensorflow/core/framework/local_rendezvous.cc:423] Local rendezvous recv item cancelled. Key hash: 4739365245678462033\n",
      "2024-07-24 11:50:56.248130: I tensorflow/core/framework/local_rendezvous.cc:423] Local rendezvous recv item cancelled. Key hash: 9112748500218708278\n",
      "2024-07-24 11:50:56.248143: I tensorflow/core/framework/local_rendezvous.cc:423] Local rendezvous recv item cancelled. Key hash: 11684161685995054627\n",
      "2024-07-24 11:50:56.248156: I tensorflow/core/framework/local_rendezvous.cc:423] Local rendezvous recv item cancelled. Key hash: 14104454438421348292\n",
      "2024-07-24 11:50:56.248164: I tensorflow/core/framework/local_rendezvous.cc:423] Local rendezvous recv item cancelled. Key hash: 15768608472279910053\n",
      "2024-07-24 11:50:56.248170: I tensorflow/core/framework/local_rendezvous.cc:423] Local rendezvous recv item cancelled. Key hash: 4879958333095786416\n",
      "2024-07-24 11:50:56.248179: I tensorflow/core/framework/local_rendezvous.cc:423] Local rendezvous recv item cancelled. Key hash: 3893306221038018165\n",
      "2024-07-24 11:50:56.248184: I tensorflow/core/framework/local_rendezvous.cc:423] Local rendezvous recv item cancelled. Key hash: 2841459043334593302\n",
      "2024-07-24 11:50:56.248190: I tensorflow/core/framework/local_rendezvous.cc:423] Local rendezvous recv item cancelled. Key hash: 8469731028185146937\n",
      "2024-07-24 11:50:56.248196: I tensorflow/core/framework/local_rendezvous.cc:423] Local rendezvous recv item cancelled. Key hash: 4281185063899729373\n",
      "2024-07-24 11:50:56.248199: I tensorflow/core/framework/local_rendezvous.cc:423] Local rendezvous recv item cancelled. Key hash: 15546760133480648130\n",
      "2024-07-24 11:50:56.248204: I tensorflow/core/framework/local_rendezvous.cc:423] Local rendezvous recv item cancelled. Key hash: 16092320404970843963\n",
      "2024-07-24 11:50:56.248209: I tensorflow/core/framework/local_rendezvous.cc:423] Local rendezvous recv item cancelled. Key hash: 3244677876467179166\n",
      "2024-07-24 11:50:56.248215: I tensorflow/core/framework/local_rendezvous.cc:423] Local rendezvous recv item cancelled. Key hash: 15319518697530224520\n",
      "2024-07-24 11:50:56.248224: I tensorflow/core/framework/local_rendezvous.cc:423] Local rendezvous recv item cancelled. Key hash: 2265985148321886681\n",
      "2024-07-24 11:50:56.248229: I tensorflow/core/framework/local_rendezvous.cc:423] Local rendezvous recv item cancelled. Key hash: 2349617577263575655\n",
      "2024-07-24 11:50:56.248232: I tensorflow/core/framework/local_rendezvous.cc:423] Local rendezvous recv item cancelled. Key hash: 9143851637127959719\n",
      "2024-07-24 11:50:56.248235: I tensorflow/core/framework/local_rendezvous.cc:423] Local rendezvous recv item cancelled. Key hash: 7802115701858047337\n",
      "2024-07-24 11:50:56.248238: I tensorflow/core/framework/local_rendezvous.cc:423] Local rendezvous recv item cancelled. Key hash: 10733042269836195989\n",
      "2024-07-24 11:50:56.248241: I tensorflow/core/framework/local_rendezvous.cc:423] Local rendezvous recv item cancelled. Key hash: 13173938544141080941\n",
      "2024-07-24 11:50:56.248244: I tensorflow/core/framework/local_rendezvous.cc:423] Local rendezvous recv item cancelled. Key hash: 1087108310457809581\n",
      "2024-07-24 11:50:56.248247: I tensorflow/core/framework/local_rendezvous.cc:423] Local rendezvous recv item cancelled. Key hash: 17657021932063267605\n",
      "2024-07-24 11:50:56.248250: I tensorflow/core/framework/local_rendezvous.cc:423] Local rendezvous recv item cancelled. Key hash: 18255673518761351433\n",
      "2024-07-24 11:50:56.248253: I tensorflow/core/framework/local_rendezvous.cc:423] Local rendezvous recv item cancelled. Key hash: 11538265683497572899\n",
      "2024-07-24 11:50:56.248256: I tensorflow/core/framework/local_rendezvous.cc:423] Local rendezvous recv item cancelled. Key hash: 13464291270602971939\n",
      "2024-07-24 11:50:56.248261: I tensorflow/core/framework/local_rendezvous.cc:423] Local rendezvous recv item cancelled. Key hash: 6771233482863263613\n",
      "2024-07-24 11:50:56.272249: I tensorflow/core/framework/local_rendezvous.cc:423] Local rendezvous recv item cancelled. Key hash: 6607121185723691025\n",
      "2024-07-24 11:50:56.272259: I tensorflow/core/framework/local_rendezvous.cc:423] Local rendezvous recv item cancelled. Key hash: 4631733359777217515\n",
      "2024-07-24 11:50:56.272263: I tensorflow/core/framework/local_rendezvous.cc:423] Local rendezvous recv item cancelled. Key hash: 15978958992807019649\n",
      "2024-07-24 11:50:56.272267: I tensorflow/core/framework/local_rendezvous.cc:423] Local rendezvous recv item cancelled. Key hash: 4177715030164683947\n",
      "2024-07-24 11:50:56.272271: I tensorflow/core/framework/local_rendezvous.cc:423] Local rendezvous recv item cancelled. Key hash: 2676786092006941010\n",
      "2024-07-24 11:50:56.272274: I tensorflow/core/framework/local_rendezvous.cc:423] Local rendezvous recv item cancelled. Key hash: 17016518748549149906\n",
      "2024-07-24 11:50:56.272277: I tensorflow/core/framework/local_rendezvous.cc:423] Local rendezvous recv item cancelled. Key hash: 3760928453833737392\n",
      "2024-07-24 11:50:56.272280: I tensorflow/core/framework/local_rendezvous.cc:423] Local rendezvous recv item cancelled. Key hash: 13917000608837317702\n",
      "2024-07-24 11:50:56.272283: I tensorflow/core/framework/local_rendezvous.cc:423] Local rendezvous recv item cancelled. Key hash: 8004857405651504014\n",
      "2024-07-24 11:50:56.272286: I tensorflow/core/framework/local_rendezvous.cc:423] Local rendezvous recv item cancelled. Key hash: 10141221434822991174\n",
      "2024-07-24 11:50:56.272288: I tensorflow/core/framework/local_rendezvous.cc:423] Local rendezvous recv item cancelled. Key hash: 3202418254770757024\n"
     ]
    },
    {
     "name": "stdout",
     "output_type": "stream",
     "text": [
      "\u001b[1m42/42\u001b[0m \u001b[32m━━━━━━━━━━━━━━━━━━━━\u001b[0m\u001b[37m\u001b[0m \u001b[1m5s\u001b[0m 114ms/step - accuracy: 0.9268 - auc: 0.9813 - fn: 13.4884 - fp: 13.4884 - loss: 0.1968 - precision: 0.9268 - recall: 0.9268 - tn: 161.3023 - tp: 161.3023 - val_accuracy: 0.6161 - val_auc: 0.7206 - val_fn: 43.0000 - val_fp: 43.0000 - val_loss: 1.3146 - val_precision: 0.6161 - val_recall: 0.6161 - val_tn: 69.0000 - val_tp: 69.0000\n",
      "Epoch 26/50\n",
      "\u001b[1m42/42\u001b[0m \u001b[32m━━━━━━━━━━━━━━━━━━━━\u001b[0m\u001b[37m\u001b[0m \u001b[1m0s\u001b[0m 1ms/step - accuracy: 1.0000 - auc: 1.0000 - fn: 0.0000e+00 - fp: 0.0000e+00 - loss: 0.0514 - precision: 1.0000 - recall: 1.0000 - tn: 8.0000 - tp: 8.0000 - val_accuracy: 1.0000 - val_auc: 1.0000 - val_fn: 0.0000e+00 - val_fp: 0.0000e+00 - val_loss: 0.0218 - val_precision: 1.0000 - val_recall: 1.0000 - val_tn: 2.0000 - val_tp: 2.0000\n",
      "Epoch 27/50\n",
      "\u001b[1m 1/42\u001b[0m \u001b[37m━━━━━━━━━━━━━━━━━━━━\u001b[0m \u001b[1m4s\u001b[0m 110ms/step - accuracy: 0.8750 - auc: 0.9531 - fn: 1.0000 - fp: 1.0000 - loss: 0.2586 - precision: 0.8750 - recall: 0.8750 - tn: 7.0000 - tp: 7.0000"
     ]
    },
    {
     "name": "stderr",
     "output_type": "stream",
     "text": [
      "2024-07-24 11:51:01.184974: I tensorflow/core/framework/local_rendezvous.cc:423] Local rendezvous recv item cancelled. Key hash: 2349617577263575655\n",
      "2024-07-24 11:51:01.184986: I tensorflow/core/framework/local_rendezvous.cc:423] Local rendezvous recv item cancelled. Key hash: 1383065497949799395\n",
      "2024-07-24 11:51:01.185000: I tensorflow/core/framework/local_rendezvous.cc:423] Local rendezvous recv item cancelled. Key hash: 7802115701858047337\n",
      "2024-07-24 11:51:01.185006: I tensorflow/core/framework/local_rendezvous.cc:423] Local rendezvous recv item cancelled. Key hash: 11684161685995054627\n",
      "2024-07-24 11:51:01.185011: I tensorflow/core/framework/local_rendezvous.cc:423] Local rendezvous recv item cancelled. Key hash: 15768608472279910053\n",
      "2024-07-24 11:51:01.185015: I tensorflow/core/framework/local_rendezvous.cc:423] Local rendezvous recv item cancelled. Key hash: 10733042269836195989\n",
      "2024-07-24 11:51:01.185019: I tensorflow/core/framework/local_rendezvous.cc:423] Local rendezvous recv item cancelled. Key hash: 13173938544141080941\n",
      "2024-07-24 11:51:01.185024: I tensorflow/core/framework/local_rendezvous.cc:423] Local rendezvous recv item cancelled. Key hash: 17657021932063267605\n",
      "2024-07-24 11:51:01.185027: I tensorflow/core/framework/local_rendezvous.cc:423] Local rendezvous recv item cancelled. Key hash: 16317458952785476389\n",
      "2024-07-24 11:51:01.185030: I tensorflow/core/framework/local_rendezvous.cc:423] Local rendezvous recv item cancelled. Key hash: 3893306221038018165\n",
      "2024-07-24 11:51:01.185046: I tensorflow/core/framework/local_rendezvous.cc:423] Local rendezvous recv item cancelled. Key hash: 15319518697530224520\n",
      "2024-07-24 11:51:01.185050: I tensorflow/core/framework/local_rendezvous.cc:423] Local rendezvous recv item cancelled. Key hash: 7016282629459583218\n",
      "2024-07-24 11:51:01.185055: I tensorflow/core/framework/local_rendezvous.cc:423] Local rendezvous recv item cancelled. Key hash: 1880315956935049566\n",
      "2024-07-24 11:51:01.185059: I tensorflow/core/framework/local_rendezvous.cc:423] Local rendezvous recv item cancelled. Key hash: 4879958333095786416\n",
      "2024-07-24 11:51:01.185063: I tensorflow/core/framework/local_rendezvous.cc:423] Local rendezvous recv item cancelled. Key hash: 2841459043334593302\n",
      "2024-07-24 11:51:01.185067: I tensorflow/core/framework/local_rendezvous.cc:423] Local rendezvous recv item cancelled. Key hash: 2930600443816971478\n",
      "2024-07-24 11:51:01.185070: I tensorflow/core/framework/local_rendezvous.cc:423] Local rendezvous recv item cancelled. Key hash: 15546760133480648130\n",
      "2024-07-24 11:51:01.185073: I tensorflow/core/framework/local_rendezvous.cc:423] Local rendezvous recv item cancelled. Key hash: 3244677876467179166\n",
      "2024-07-24 11:51:01.185077: I tensorflow/core/framework/local_rendezvous.cc:423] Local rendezvous recv item cancelled. Key hash: 15198039565944991606\n",
      "2024-07-24 11:51:01.209167: I tensorflow/core/framework/local_rendezvous.cc:423] Local rendezvous recv item cancelled. Key hash: 6607121185723691025\n",
      "2024-07-24 11:51:01.209177: I tensorflow/core/framework/local_rendezvous.cc:423] Local rendezvous recv item cancelled. Key hash: 15978958992807019649\n",
      "2024-07-24 11:51:01.209182: I tensorflow/core/framework/local_rendezvous.cc:423] Local rendezvous recv item cancelled. Key hash: 4177715030164683947\n",
      "2024-07-24 11:51:01.209188: I tensorflow/core/framework/local_rendezvous.cc:423] Local rendezvous recv item cancelled. Key hash: 8004857405651504014\n",
      "2024-07-24 11:51:01.209191: I tensorflow/core/framework/local_rendezvous.cc:423] Local rendezvous recv item cancelled. Key hash: 17016518748549149906\n",
      "2024-07-24 11:51:01.209194: I tensorflow/core/framework/local_rendezvous.cc:423] Local rendezvous recv item cancelled. Key hash: 13917000608837317702\n",
      "2024-07-24 11:51:01.209198: I tensorflow/core/framework/local_rendezvous.cc:423] Local rendezvous recv item cancelled. Key hash: 10141221434822991174\n",
      "2024-07-24 11:51:01.209201: I tensorflow/core/framework/local_rendezvous.cc:423] Local rendezvous recv item cancelled. Key hash: 3760928453833737392\n"
     ]
    },
    {
     "name": "stdout",
     "output_type": "stream",
     "text": [
      "\u001b[1m42/42\u001b[0m \u001b[32m━━━━━━━━━━━━━━━━━━━━\u001b[0m\u001b[37m\u001b[0m \u001b[1m5s\u001b[0m 114ms/step - accuracy: 0.9251 - auc: 0.9723 - fn: 12.6279 - fp: 12.6279 - loss: 0.2089 - precision: 0.9251 - recall: 0.9251 - tn: 162.6279 - tp: 162.6279 - val_accuracy: 0.8036 - val_auc: 0.9091 - val_fn: 22.0000 - val_fp: 22.0000 - val_loss: 0.4838 - val_precision: 0.8036 - val_recall: 0.8036 - val_tn: 90.0000 - val_tp: 90.0000\n",
      "Epoch 28/50\n",
      "\u001b[1m42/42\u001b[0m \u001b[32m━━━━━━━━━━━━━━━━━━━━\u001b[0m\u001b[37m\u001b[0m \u001b[1m0s\u001b[0m 1ms/step - accuracy: 0.8750 - auc: 0.9844 - fn: 1.0000 - fp: 1.0000 - loss: 0.2677 - precision: 0.8750 - recall: 0.8750 - tn: 7.0000 - tp: 7.0000 - val_accuracy: 1.0000 - val_auc: 1.0000 - val_fn: 0.0000e+00 - val_fp: 0.0000e+00 - val_loss: 0.0581 - val_precision: 1.0000 - val_recall: 1.0000 - val_tn: 2.0000 - val_tp: 2.0000\n",
      "Epoch 29/50\n",
      "\u001b[1m 1/42\u001b[0m \u001b[37m━━━━━━━━━━━━━━━━━━━━\u001b[0m \u001b[1m4s\u001b[0m 111ms/step - accuracy: 1.0000 - auc: 1.0000 - fn: 0.0000e+00 - fp: 0.0000e+00 - loss: 0.0314 - precision: 1.0000 - recall: 1.0000 - tn: 8.0000 - tp: 8.0000"
     ]
    },
    {
     "name": "stderr",
     "output_type": "stream",
     "text": [
      "2024-07-24 11:51:06.137726: I tensorflow/core/framework/local_rendezvous.cc:423] Local rendezvous recv item cancelled. Key hash: 13873257553497889789\n",
      "2024-07-24 11:51:06.137738: I tensorflow/core/framework/local_rendezvous.cc:423] Local rendezvous recv item cancelled. Key hash: 13227134449558905445\n",
      "2024-07-24 11:51:06.137742: I tensorflow/core/framework/local_rendezvous.cc:423] Local rendezvous recv item cancelled. Key hash: 1383065497949799395\n",
      "2024-07-24 11:51:06.137745: I tensorflow/core/framework/local_rendezvous.cc:423] Local rendezvous recv item cancelled. Key hash: 149999946745906399\n",
      "2024-07-24 11:51:06.137748: I tensorflow/core/framework/local_rendezvous.cc:423] Local rendezvous recv item cancelled. Key hash: 13464291270602971939\n",
      "2024-07-24 11:51:06.137751: I tensorflow/core/framework/local_rendezvous.cc:423] Local rendezvous recv item cancelled. Key hash: 11684161685995054627\n",
      "2024-07-24 11:51:06.137754: I tensorflow/core/framework/local_rendezvous.cc:423] Local rendezvous recv item cancelled. Key hash: 15768608472279910053\n",
      "2024-07-24 11:51:06.137757: I tensorflow/core/framework/local_rendezvous.cc:423] Local rendezvous recv item cancelled. Key hash: 13026322867528223039\n",
      "2024-07-24 11:51:06.137760: I tensorflow/core/framework/local_rendezvous.cc:423] Local rendezvous recv item cancelled. Key hash: 16317458952785476389\n",
      "2024-07-24 11:51:06.137764: I tensorflow/core/framework/local_rendezvous.cc:423] Local rendezvous recv item cancelled. Key hash: 4281185063899729373\n",
      "2024-07-24 11:51:06.137767: I tensorflow/core/framework/local_rendezvous.cc:423] Local rendezvous recv item cancelled. Key hash: 4739365245678462033\n",
      "2024-07-24 11:51:06.137770: I tensorflow/core/framework/local_rendezvous.cc:423] Local rendezvous recv item cancelled. Key hash: 5131613399427723007\n",
      "2024-07-24 11:51:06.137773: I tensorflow/core/framework/local_rendezvous.cc:423] Local rendezvous recv item cancelled. Key hash: 2349617577263575655\n",
      "2024-07-24 11:51:06.137777: I tensorflow/core/framework/local_rendezvous.cc:423] Local rendezvous recv item cancelled. Key hash: 9143851637127959719\n",
      "2024-07-24 11:51:06.137780: I tensorflow/core/framework/local_rendezvous.cc:423] Local rendezvous recv item cancelled. Key hash: 7802115701858047337\n",
      "2024-07-24 11:51:06.137783: I tensorflow/core/framework/local_rendezvous.cc:423] Local rendezvous recv item cancelled. Key hash: 10520248598898357819\n",
      "2024-07-24 11:51:06.137786: I tensorflow/core/framework/local_rendezvous.cc:423] Local rendezvous recv item cancelled. Key hash: 859836513747203897\n",
      "2024-07-24 11:51:06.137789: I tensorflow/core/framework/local_rendezvous.cc:423] Local rendezvous recv item cancelled. Key hash: 10733042269836195989\n",
      "2024-07-24 11:51:06.137793: I tensorflow/core/framework/local_rendezvous.cc:423] Local rendezvous recv item cancelled. Key hash: 18255673518761351433\n",
      "2024-07-24 11:51:06.137796: I tensorflow/core/framework/local_rendezvous.cc:423] Local rendezvous recv item cancelled. Key hash: 17646930667787712373\n",
      "2024-07-24 11:51:06.137799: I tensorflow/core/framework/local_rendezvous.cc:423] Local rendezvous recv item cancelled. Key hash: 6800600665730497323\n",
      "2024-07-24 11:51:06.137802: I tensorflow/core/framework/local_rendezvous.cc:423] Local rendezvous recv item cancelled. Key hash: 17914613602436512017\n",
      "2024-07-24 11:51:06.137804: I tensorflow/core/framework/local_rendezvous.cc:423] Local rendezvous recv item cancelled. Key hash: 13670548993989351233\n",
      "2024-07-24 11:51:06.137807: I tensorflow/core/framework/local_rendezvous.cc:423] Local rendezvous recv item cancelled. Key hash: 17657021932063267605\n",
      "2024-07-24 11:51:06.137810: I tensorflow/core/framework/local_rendezvous.cc:423] Local rendezvous recv item cancelled. Key hash: 3893306221038018165\n",
      "2024-07-24 11:51:06.137829: I tensorflow/core/framework/local_rendezvous.cc:423] Local rendezvous recv item cancelled. Key hash: 7735001053712973906\n",
      "2024-07-24 11:51:06.137832: I tensorflow/core/framework/local_rendezvous.cc:423] Local rendezvous recv item cancelled. Key hash: 4341340968854807014\n",
      "2024-07-24 11:51:06.137834: I tensorflow/core/framework/local_rendezvous.cc:423] Local rendezvous recv item cancelled. Key hash: 12827042147541664042\n",
      "2024-07-24 11:51:06.137837: I tensorflow/core/framework/local_rendezvous.cc:423] Local rendezvous recv item cancelled. Key hash: 7016282629459583218\n",
      "2024-07-24 11:51:06.137840: I tensorflow/core/framework/local_rendezvous.cc:423] Local rendezvous recv item cancelled. Key hash: 1880315956935049566\n",
      "2024-07-24 11:51:06.137843: I tensorflow/core/framework/local_rendezvous.cc:423] Local rendezvous recv item cancelled. Key hash: 15380519210499254842\n",
      "2024-07-24 11:51:06.137846: I tensorflow/core/framework/local_rendezvous.cc:423] Local rendezvous recv item cancelled. Key hash: 2930600443816971478\n",
      "2024-07-24 11:51:06.137848: I tensorflow/core/framework/local_rendezvous.cc:423] Local rendezvous recv item cancelled. Key hash: 12260003450537799090\n",
      "2024-07-24 11:51:06.137851: I tensorflow/core/framework/local_rendezvous.cc:423] Local rendezvous recv item cancelled. Key hash: 15546760133480648130\n",
      "2024-07-24 11:51:06.137854: I tensorflow/core/framework/local_rendezvous.cc:423] Local rendezvous recv item cancelled. Key hash: 15319518697530224520\n",
      "2024-07-24 11:51:06.137856: I tensorflow/core/framework/local_rendezvous.cc:423] Local rendezvous recv item cancelled. Key hash: 7471080692649586480\n",
      "2024-07-24 11:51:06.137860: I tensorflow/core/framework/local_rendezvous.cc:423] Local rendezvous recv item cancelled. Key hash: 11247894964737659160\n",
      "2024-07-24 11:51:06.137863: I tensorflow/core/framework/local_rendezvous.cc:423] Local rendezvous recv item cancelled. Key hash: 15198039565944991606\n",
      "2024-07-24 11:51:06.137867: I tensorflow/core/framework/local_rendezvous.cc:423] Local rendezvous recv item cancelled. Key hash: 2816867156590179222\n",
      "2024-07-24 11:51:06.137870: I tensorflow/core/framework/local_rendezvous.cc:423] Local rendezvous recv item cancelled. Key hash: 3596561802965554440\n",
      "2024-07-24 11:51:06.137873: I tensorflow/core/framework/local_rendezvous.cc:423] Local rendezvous recv item cancelled. Key hash: 2243463833139901712\n",
      "2024-07-24 11:51:06.137876: I tensorflow/core/framework/local_rendezvous.cc:423] Local rendezvous recv item cancelled. Key hash: 4879958333095786416\n",
      "2024-07-24 11:51:06.137879: I tensorflow/core/framework/local_rendezvous.cc:423] Local rendezvous recv item cancelled. Key hash: 11192976704570593080\n",
      "2024-07-24 11:51:06.137882: I tensorflow/core/framework/local_rendezvous.cc:423] Local rendezvous recv item cancelled. Key hash: 2841459043334593302\n",
      "2024-07-24 11:51:06.137885: I tensorflow/core/framework/local_rendezvous.cc:423] Local rendezvous recv item cancelled. Key hash: 15819242049399331882\n",
      "2024-07-24 11:51:06.137889: I tensorflow/core/framework/local_rendezvous.cc:423] Local rendezvous recv item cancelled. Key hash: 5960441218906963302\n",
      "2024-07-24 11:51:06.137892: I tensorflow/core/framework/local_rendezvous.cc:423] Local rendezvous recv item cancelled. Key hash: 3244677876467179166\n",
      "2024-07-24 11:51:06.137895: I tensorflow/core/framework/local_rendezvous.cc:423] Local rendezvous recv item cancelled. Key hash: 10774896904204926938\n",
      "2024-07-24 11:51:06.162566: I tensorflow/core/framework/local_rendezvous.cc:423] Local rendezvous recv item cancelled. Key hash: 15978958992807019649\n",
      "2024-07-24 11:51:06.162580: I tensorflow/core/framework/local_rendezvous.cc:423] Local rendezvous recv item cancelled. Key hash: 13917000608837317702\n",
      "2024-07-24 11:51:06.162584: I tensorflow/core/framework/local_rendezvous.cc:423] Local rendezvous recv item cancelled. Key hash: 3760928453833737392\n",
      "2024-07-24 11:51:06.162589: I tensorflow/core/framework/local_rendezvous.cc:423] Local rendezvous recv item cancelled. Key hash: 10141221434822991174\n",
      "2024-07-24 11:51:06.162592: I tensorflow/core/framework/local_rendezvous.cc:423] Local rendezvous recv item cancelled. Key hash: 17016518748549149906\n"
     ]
    },
    {
     "name": "stdout",
     "output_type": "stream",
     "text": [
      "\u001b[1m42/42\u001b[0m \u001b[32m━━━━━━━━━━━━━━━━━━━━\u001b[0m\u001b[37m\u001b[0m \u001b[1m5s\u001b[0m 114ms/step - accuracy: 0.9296 - auc: 0.9885 - fn: 13.9070 - fp: 13.9070 - loss: 0.1482 - precision: 0.9296 - recall: 0.9296 - tn: 161.6279 - tp: 161.6279 - val_accuracy: 0.9375 - val_auc: 0.9779 - val_fn: 7.0000 - val_fp: 7.0000 - val_loss: 0.2027 - val_precision: 0.9375 - val_recall: 0.9375 - val_tn: 105.0000 - val_tp: 105.0000\n",
      "Epoch 30/50\n",
      "\u001b[1m42/42\u001b[0m \u001b[32m━━━━━━━━━━━━━━━━━━━━\u001b[0m\u001b[37m\u001b[0m \u001b[1m0s\u001b[0m 1ms/step - accuracy: 1.0000 - auc: 1.0000 - fn: 0.0000e+00 - fp: 0.0000e+00 - loss: 0.0366 - precision: 1.0000 - recall: 1.0000 - tn: 8.0000 - tp: 8.0000 - val_accuracy: 0.5000 - val_auc: 0.7500 - val_fn: 1.0000 - val_fp: 1.0000 - val_loss: 0.4258 - val_precision: 0.5000 - val_recall: 0.5000 - val_tn: 1.0000 - val_tp: 1.0000\n",
      "Epoch 31/50\n",
      "\u001b[1m 1/42\u001b[0m \u001b[37m━━━━━━━━━━━━━━━━━━━━\u001b[0m \u001b[1m4s\u001b[0m 111ms/step - accuracy: 1.0000 - auc: 1.0000 - fn: 0.0000e+00 - fp: 0.0000e+00 - loss: 0.0287 - precision: 1.0000 - recall: 1.0000 - tn: 8.0000 - tp: 8.0000"
     ]
    },
    {
     "name": "stderr",
     "output_type": "stream",
     "text": [
      "2024-07-24 11:51:11.095140: I tensorflow/core/framework/local_rendezvous.cc:423] Local rendezvous recv item cancelled. Key hash: 7735001053712973906\n",
      "2024-07-24 11:51:11.095152: I tensorflow/core/framework/local_rendezvous.cc:423] Local rendezvous recv item cancelled. Key hash: 7016282629459583218\n",
      "2024-07-24 11:51:11.095157: I tensorflow/core/framework/local_rendezvous.cc:423] Local rendezvous recv item cancelled. Key hash: 1880315956935049566\n",
      "2024-07-24 11:51:11.095161: I tensorflow/core/framework/local_rendezvous.cc:423] Local rendezvous recv item cancelled. Key hash: 15380519210499254842\n",
      "2024-07-24 11:51:11.095164: I tensorflow/core/framework/local_rendezvous.cc:423] Local rendezvous recv item cancelled. Key hash: 679328862287852262\n",
      "2024-07-24 11:51:11.095171: I tensorflow/core/framework/local_rendezvous.cc:423] Local rendezvous recv item cancelled. Key hash: 18358648176830536558\n",
      "2024-07-24 11:51:11.095178: I tensorflow/core/framework/local_rendezvous.cc:423] Local rendezvous recv item cancelled. Key hash: 15546760133480648130\n",
      "2024-07-24 11:51:11.095190: I tensorflow/core/framework/local_rendezvous.cc:423] Local rendezvous recv item cancelled. Key hash: 12260003450537799090\n",
      "2024-07-24 11:51:11.095194: I tensorflow/core/framework/local_rendezvous.cc:423] Local rendezvous recv item cancelled. Key hash: 2930600443816971478\n",
      "2024-07-24 11:51:11.095206: I tensorflow/core/framework/local_rendezvous.cc:423] Local rendezvous recv item cancelled. Key hash: 16317458952785476389\n",
      "2024-07-24 11:51:11.095211: I tensorflow/core/framework/local_rendezvous.cc:423] Local rendezvous recv item cancelled. Key hash: 15319518697530224520\n",
      "2024-07-24 11:51:11.095224: I tensorflow/core/framework/local_rendezvous.cc:423] Local rendezvous recv item cancelled. Key hash: 15198039565944991606\n",
      "2024-07-24 11:51:11.095229: I tensorflow/core/framework/local_rendezvous.cc:423] Local rendezvous recv item cancelled. Key hash: 1383065497949799395\n",
      "2024-07-24 11:51:11.095236: I tensorflow/core/framework/local_rendezvous.cc:423] Local rendezvous recv item cancelled. Key hash: 7471080692649586480\n",
      "2024-07-24 11:51:11.095241: I tensorflow/core/framework/local_rendezvous.cc:423] Local rendezvous recv item cancelled. Key hash: 15768608472279910053\n",
      "2024-07-24 11:51:11.095246: I tensorflow/core/framework/local_rendezvous.cc:423] Local rendezvous recv item cancelled. Key hash: 11952574714831047347\n",
      "2024-07-24 11:51:11.095251: I tensorflow/core/framework/local_rendezvous.cc:423] Local rendezvous recv item cancelled. Key hash: 3596561802965554440\n",
      "2024-07-24 11:51:11.095256: I tensorflow/core/framework/local_rendezvous.cc:423] Local rendezvous recv item cancelled. Key hash: 4281185063899729373\n",
      "2024-07-24 11:51:11.095260: I tensorflow/core/framework/local_rendezvous.cc:423] Local rendezvous recv item cancelled. Key hash: 2243463833139901712\n",
      "2024-07-24 11:51:11.095266: I tensorflow/core/framework/local_rendezvous.cc:423] Local rendezvous recv item cancelled. Key hash: 9143851637127959719\n",
      "2024-07-24 11:51:11.095271: I tensorflow/core/framework/local_rendezvous.cc:423] Local rendezvous recv item cancelled. Key hash: 4879958333095786416\n",
      "2024-07-24 11:51:11.095276: I tensorflow/core/framework/local_rendezvous.cc:423] Local rendezvous recv item cancelled. Key hash: 11192976704570593080\n",
      "2024-07-24 11:51:11.095278: I tensorflow/core/framework/local_rendezvous.cc:423] Local rendezvous recv item cancelled. Key hash: 7802115701858047337\n",
      "2024-07-24 11:51:11.095280: I tensorflow/core/framework/local_rendezvous.cc:423] Local rendezvous recv item cancelled. Key hash: 2841459043334593302\n",
      "2024-07-24 11:51:11.095282: I tensorflow/core/framework/local_rendezvous.cc:423] Local rendezvous recv item cancelled. Key hash: 13173938544141080941\n",
      "2024-07-24 11:51:11.095285: I tensorflow/core/framework/local_rendezvous.cc:423] Local rendezvous recv item cancelled. Key hash: 5960441218906963302\n",
      "2024-07-24 11:51:11.095286: I tensorflow/core/framework/local_rendezvous.cc:423] Local rendezvous recv item cancelled. Key hash: 18255673518761351433\n",
      "2024-07-24 11:51:11.095290: I tensorflow/core/framework/local_rendezvous.cc:423] Local rendezvous recv item cancelled. Key hash: 3244677876467179166\n",
      "2024-07-24 11:51:11.095294: I tensorflow/core/framework/local_rendezvous.cc:423] Local rendezvous recv item cancelled. Key hash: 17657021932063267605\n",
      "2024-07-24 11:51:11.095299: I tensorflow/core/framework/local_rendezvous.cc:423] Local rendezvous recv item cancelled. Key hash: 13464291270602971939\n",
      "2024-07-24 11:51:11.095303: I tensorflow/core/framework/local_rendezvous.cc:423] Local rendezvous recv item cancelled. Key hash: 11538265683497572899\n",
      "2024-07-24 11:51:11.095307: I tensorflow/core/framework/local_rendezvous.cc:423] Local rendezvous recv item cancelled. Key hash: 3893306221038018165\n",
      "2024-07-24 11:51:11.095310: I tensorflow/core/framework/local_rendezvous.cc:423] Local rendezvous recv item cancelled. Key hash: 4709750447546522785\n",
      "2024-07-24 11:51:11.095314: I tensorflow/core/framework/local_rendezvous.cc:423] Local rendezvous recv item cancelled. Key hash: 6544545264921141537\n",
      "2024-07-24 11:51:11.095318: I tensorflow/core/framework/local_rendezvous.cc:423] Local rendezvous recv item cancelled. Key hash: 13227134449558905445\n",
      "2024-07-24 11:51:11.095321: I tensorflow/core/framework/local_rendezvous.cc:423] Local rendezvous recv item cancelled. Key hash: 8716015658963821305\n",
      "2024-07-24 11:51:11.095324: I tensorflow/core/framework/local_rendezvous.cc:423] Local rendezvous recv item cancelled. Key hash: 4739365245678462033\n",
      "2024-07-24 11:51:11.095331: I tensorflow/core/framework/local_rendezvous.cc:423] Local rendezvous recv item cancelled. Key hash: 11684161685995054627\n",
      "2024-07-24 11:51:11.095334: I tensorflow/core/framework/local_rendezvous.cc:423] Local rendezvous recv item cancelled. Key hash: 8469731028185146937\n",
      "2024-07-24 11:51:11.095340: I tensorflow/core/framework/local_rendezvous.cc:423] Local rendezvous recv item cancelled. Key hash: 3898680181337681583\n",
      "2024-07-24 11:51:11.095348: I tensorflow/core/framework/local_rendezvous.cc:423] Local rendezvous recv item cancelled. Key hash: 16092320404970843963\n",
      "2024-07-24 11:51:11.095352: I tensorflow/core/framework/local_rendezvous.cc:423] Local rendezvous recv item cancelled. Key hash: 7297141620674244705\n",
      "2024-07-24 11:51:11.095355: I tensorflow/core/framework/local_rendezvous.cc:423] Local rendezvous recv item cancelled. Key hash: 2265985148321886681\n",
      "2024-07-24 11:51:11.095358: I tensorflow/core/framework/local_rendezvous.cc:423] Local rendezvous recv item cancelled. Key hash: 2349617577263575655\n",
      "2024-07-24 11:51:11.095360: I tensorflow/core/framework/local_rendezvous.cc:423] Local rendezvous recv item cancelled. Key hash: 444809279914062789\n",
      "2024-07-24 11:51:11.095363: I tensorflow/core/framework/local_rendezvous.cc:423] Local rendezvous recv item cancelled. Key hash: 10520248598898357819\n",
      "2024-07-24 11:51:11.095366: I tensorflow/core/framework/local_rendezvous.cc:423] Local rendezvous recv item cancelled. Key hash: 17646930667787712373\n",
      "2024-07-24 11:51:11.095369: I tensorflow/core/framework/local_rendezvous.cc:423] Local rendezvous recv item cancelled. Key hash: 859836513747203897\n",
      "2024-07-24 11:51:11.095372: I tensorflow/core/framework/local_rendezvous.cc:423] Local rendezvous recv item cancelled. Key hash: 17914613602436512017\n",
      "2024-07-24 11:51:11.095375: I tensorflow/core/framework/local_rendezvous.cc:423] Local rendezvous recv item cancelled. Key hash: 1087108310457809581\n",
      "2024-07-24 11:51:11.095378: I tensorflow/core/framework/local_rendezvous.cc:423] Local rendezvous recv item cancelled. Key hash: 6800600665730497323\n",
      "2024-07-24 11:51:11.095382: I tensorflow/core/framework/local_rendezvous.cc:423] Local rendezvous recv item cancelled. Key hash: 7883339172097817469\n",
      "2024-07-24 11:51:11.095386: I tensorflow/core/framework/local_rendezvous.cc:423] Local rendezvous recv item cancelled. Key hash: 10733042269836195989\n",
      "2024-07-24 11:51:11.119622: I tensorflow/core/framework/local_rendezvous.cc:423] Local rendezvous recv item cancelled. Key hash: 6607121185723691025\n",
      "2024-07-24 11:51:11.119633: I tensorflow/core/framework/local_rendezvous.cc:423] Local rendezvous recv item cancelled. Key hash: 15978958992807019649\n",
      "2024-07-24 11:51:11.119637: I tensorflow/core/framework/local_rendezvous.cc:423] Local rendezvous recv item cancelled. Key hash: 4177715030164683947\n",
      "2024-07-24 11:51:11.119646: I tensorflow/core/framework/local_rendezvous.cc:423] Local rendezvous recv item cancelled. Key hash: 8004857405651504014\n",
      "2024-07-24 11:51:11.119650: I tensorflow/core/framework/local_rendezvous.cc:423] Local rendezvous recv item cancelled. Key hash: 3760928453833737392\n",
      "2024-07-24 11:51:11.119653: I tensorflow/core/framework/local_rendezvous.cc:423] Local rendezvous recv item cancelled. Key hash: 10141221434822991174\n",
      "2024-07-24 11:51:11.119656: I tensorflow/core/framework/local_rendezvous.cc:423] Local rendezvous recv item cancelled. Key hash: 13917000608837317702\n"
     ]
    },
    {
     "name": "stdout",
     "output_type": "stream",
     "text": [
      "\u001b[1m42/42\u001b[0m \u001b[32m━━━━━━━━━━━━━━━━━━━━\u001b[0m\u001b[37m\u001b[0m \u001b[1m5s\u001b[0m 114ms/step - accuracy: 0.9200 - auc: 0.9805 - fn: 13.3721 - fp: 13.3721 - loss: 0.1868 - precision: 0.9200 - recall: 0.9200 - tn: 160.5814 - tp: 160.5814 - val_accuracy: 0.4554 - val_auc: 0.5997 - val_fn: 61.0000 - val_fp: 61.0000 - val_loss: 1.1715 - val_precision: 0.4554 - val_recall: 0.4554 - val_tn: 51.0000 - val_tp: 51.0000\n",
      "Epoch 32/50\n",
      "\u001b[1m42/42\u001b[0m \u001b[32m━━━━━━━━━━━━━━━━━━━━\u001b[0m\u001b[37m\u001b[0m \u001b[1m0s\u001b[0m 1ms/step - accuracy: 0.8750 - auc: 0.9531 - fn: 1.0000 - fp: 1.0000 - loss: 0.2855 - precision: 0.8750 - recall: 0.8750 - tn: 7.0000 - tp: 7.0000 - val_accuracy: 0.0000e+00 - val_auc: 0.0000e+00 - val_fn: 2.0000 - val_fp: 2.0000 - val_loss: 2.4639 - val_precision: 0.0000e+00 - val_recall: 0.0000e+00 - val_tn: 0.0000e+00 - val_tp: 0.0000e+00\n",
      "Epoch 33/50\n",
      "\u001b[1m 1/42\u001b[0m \u001b[37m━━━━━━━━━━━━━━━━━━━━\u001b[0m \u001b[1m5s\u001b[0m 123ms/step - accuracy: 1.0000 - auc: 1.0000 - fn: 0.0000e+00 - fp: 0.0000e+00 - loss: 0.0652 - precision: 1.0000 - recall: 1.0000 - tn: 8.0000 - tp: 8.0000"
     ]
    },
    {
     "name": "stderr",
     "output_type": "stream",
     "text": [
      "2024-07-24 11:51:16.081501: I tensorflow/core/framework/local_rendezvous.cc:423] Local rendezvous recv item cancelled. Key hash: 3050035880234516977\n",
      "2024-07-24 11:51:16.081514: I tensorflow/core/framework/local_rendezvous.cc:423] Local rendezvous recv item cancelled. Key hash: 1383065497949799395\n",
      "2024-07-24 11:51:16.081519: I tensorflow/core/framework/local_rendezvous.cc:423] Local rendezvous recv item cancelled. Key hash: 149999946745906399\n",
      "2024-07-24 11:51:16.081523: I tensorflow/core/framework/local_rendezvous.cc:423] Local rendezvous recv item cancelled. Key hash: 15768608472279910053\n",
      "2024-07-24 11:51:16.081527: I tensorflow/core/framework/local_rendezvous.cc:423] Local rendezvous recv item cancelled. Key hash: 11952574714831047347\n",
      "2024-07-24 11:51:16.081530: I tensorflow/core/framework/local_rendezvous.cc:423] Local rendezvous recv item cancelled. Key hash: 4281185063899729373\n",
      "2024-07-24 11:51:16.081533: I tensorflow/core/framework/local_rendezvous.cc:423] Local rendezvous recv item cancelled. Key hash: 16524221271096136085\n",
      "2024-07-24 11:51:16.081536: I tensorflow/core/framework/local_rendezvous.cc:423] Local rendezvous recv item cancelled. Key hash: 8541442506498905243\n",
      "2024-07-24 11:51:16.081539: I tensorflow/core/framework/local_rendezvous.cc:423] Local rendezvous recv item cancelled. Key hash: 7802115701858047337\n",
      "2024-07-24 11:51:16.081542: I tensorflow/core/framework/local_rendezvous.cc:423] Local rendezvous recv item cancelled. Key hash: 13670548993989351233\n",
      "2024-07-24 11:51:16.081546: I tensorflow/core/framework/local_rendezvous.cc:423] Local rendezvous recv item cancelled. Key hash: 18255673518761351433\n",
      "2024-07-24 11:51:16.081549: I tensorflow/core/framework/local_rendezvous.cc:423] Local rendezvous recv item cancelled. Key hash: 13173938544141080941\n",
      "2024-07-24 11:51:16.081553: I tensorflow/core/framework/local_rendezvous.cc:423] Local rendezvous recv item cancelled. Key hash: 17657021932063267605\n",
      "2024-07-24 11:51:16.081579: I tensorflow/core/framework/local_rendezvous.cc:423] Local rendezvous recv item cancelled. Key hash: 13873257553497889789\n",
      "2024-07-24 11:51:16.081584: I tensorflow/core/framework/local_rendezvous.cc:423] Local rendezvous recv item cancelled. Key hash: 3893306221038018165\n",
      "2024-07-24 11:51:16.081587: I tensorflow/core/framework/local_rendezvous.cc:423] Local rendezvous recv item cancelled. Key hash: 4536186900066541325\n",
      "2024-07-24 11:51:16.081591: I tensorflow/core/framework/local_rendezvous.cc:423] Local rendezvous recv item cancelled. Key hash: 18030872472782148619\n",
      "2024-07-24 11:51:16.081594: I tensorflow/core/framework/local_rendezvous.cc:423] Local rendezvous recv item cancelled. Key hash: 4739365245678462033\n",
      "2024-07-24 11:51:16.081597: I tensorflow/core/framework/local_rendezvous.cc:423] Local rendezvous recv item cancelled. Key hash: 2690217201294355223\n",
      "2024-07-24 11:51:16.081601: I tensorflow/core/framework/local_rendezvous.cc:423] Local rendezvous recv item cancelled. Key hash: 5131613399427723007\n",
      "2024-07-24 11:51:16.081604: I tensorflow/core/framework/local_rendezvous.cc:423] Local rendezvous recv item cancelled. Key hash: 16092320404970843963\n",
      "2024-07-24 11:51:16.081607: I tensorflow/core/framework/local_rendezvous.cc:423] Local rendezvous recv item cancelled. Key hash: 7297141620674244705\n",
      "2024-07-24 11:51:16.081610: I tensorflow/core/framework/local_rendezvous.cc:423] Local rendezvous recv item cancelled. Key hash: 2349617577263575655\n",
      "2024-07-24 11:51:16.081612: I tensorflow/core/framework/local_rendezvous.cc:423] Local rendezvous recv item cancelled. Key hash: 444809279914062789\n",
      "2024-07-24 11:51:16.081616: I tensorflow/core/framework/local_rendezvous.cc:423] Local rendezvous recv item cancelled. Key hash: 4840471092487861615\n",
      "2024-07-24 11:51:16.081619: I tensorflow/core/framework/local_rendezvous.cc:423] Local rendezvous recv item cancelled. Key hash: 10520248598898357819\n",
      "2024-07-24 11:51:16.081621: I tensorflow/core/framework/local_rendezvous.cc:423] Local rendezvous recv item cancelled. Key hash: 10733042269836195989\n",
      "2024-07-24 11:51:16.081625: I tensorflow/core/framework/local_rendezvous.cc:423] Local rendezvous recv item cancelled. Key hash: 16317458952785476389\n",
      "2024-07-24 11:51:16.081628: I tensorflow/core/framework/local_rendezvous.cc:423] Local rendezvous recv item cancelled. Key hash: 6800600665730497323\n",
      "2024-07-24 11:51:16.081631: I tensorflow/core/framework/local_rendezvous.cc:423] Local rendezvous recv item cancelled. Key hash: 6771233482863263613\n",
      "2024-07-24 11:51:16.081634: I tensorflow/core/framework/local_rendezvous.cc:423] Local rendezvous recv item cancelled. Key hash: 10670404013362563107\n",
      "2024-07-24 11:51:16.081637: I tensorflow/core/framework/local_rendezvous.cc:423] Local rendezvous recv item cancelled. Key hash: 13026322867528223039\n",
      "2024-07-24 11:51:16.081640: I tensorflow/core/framework/local_rendezvous.cc:423] Local rendezvous recv item cancelled. Key hash: 9381795494667504571\n",
      "2024-07-24 11:51:16.081643: I tensorflow/core/framework/local_rendezvous.cc:423] Local rendezvous recv item cancelled. Key hash: 9143851637127959719\n",
      "2024-07-24 11:51:16.081647: I tensorflow/core/framework/local_rendezvous.cc:423] Local rendezvous recv item cancelled. Key hash: 11538265683497572899\n",
      "2024-07-24 11:51:16.081650: I tensorflow/core/framework/local_rendezvous.cc:423] Local rendezvous recv item cancelled. Key hash: 13464291270602971939\n",
      "2024-07-24 11:51:16.081652: I tensorflow/core/framework/local_rendezvous.cc:423] Local rendezvous recv item cancelled. Key hash: 4709750447546522785\n",
      "2024-07-24 11:51:16.081656: I tensorflow/core/framework/local_rendezvous.cc:423] Local rendezvous recv item cancelled. Key hash: 8262041486658297191\n",
      "2024-07-24 11:51:16.081659: I tensorflow/core/framework/local_rendezvous.cc:423] Local rendezvous recv item cancelled. Key hash: 4777828083902209831\n",
      "2024-07-24 11:51:16.081663: I tensorflow/core/framework/local_rendezvous.cc:423] Local rendezvous recv item cancelled. Key hash: 6544545264921141537\n",
      "2024-07-24 11:51:16.081666: I tensorflow/core/framework/local_rendezvous.cc:423] Local rendezvous recv item cancelled. Key hash: 13227134449558905445\n",
      "2024-07-24 11:51:16.081668: I tensorflow/core/framework/local_rendezvous.cc:423] Local rendezvous recv item cancelled. Key hash: 8716015658963821305\n",
      "2024-07-24 11:51:16.081671: I tensorflow/core/framework/local_rendezvous.cc:423] Local rendezvous recv item cancelled. Key hash: 11684161685995054627\n",
      "2024-07-24 11:51:16.081674: I tensorflow/core/framework/local_rendezvous.cc:423] Local rendezvous recv item cancelled. Key hash: 8469731028185146937\n",
      "2024-07-24 11:51:16.081677: I tensorflow/core/framework/local_rendezvous.cc:423] Local rendezvous recv item cancelled. Key hash: 3898680181337681583\n",
      "2024-07-24 11:51:16.081683: I tensorflow/core/framework/local_rendezvous.cc:423] Local rendezvous recv item cancelled. Key hash: 8063543133116231471\n",
      "2024-07-24 11:51:16.081686: I tensorflow/core/framework/local_rendezvous.cc:423] Local rendezvous recv item cancelled. Key hash: 16014177841547866169\n",
      "2024-07-24 11:51:16.081689: I tensorflow/core/framework/local_rendezvous.cc:423] Local rendezvous recv item cancelled. Key hash: 2665888165495304467\n",
      "2024-07-24 11:51:16.081692: I tensorflow/core/framework/local_rendezvous.cc:423] Local rendezvous recv item cancelled. Key hash: 2265985148321886681\n",
      "2024-07-24 11:51:16.081695: I tensorflow/core/framework/local_rendezvous.cc:423] Local rendezvous recv item cancelled. Key hash: 859836513747203897\n",
      "2024-07-24 11:51:16.081698: I tensorflow/core/framework/local_rendezvous.cc:423] Local rendezvous recv item cancelled. Key hash: 17646930667787712373\n",
      "2024-07-24 11:51:16.081702: I tensorflow/core/framework/local_rendezvous.cc:423] Local rendezvous recv item cancelled. Key hash: 17914613602436512017\n",
      "2024-07-24 11:51:16.081704: I tensorflow/core/framework/local_rendezvous.cc:423] Local rendezvous recv item cancelled. Key hash: 1087108310457809581\n",
      "2024-07-24 11:51:16.081707: I tensorflow/core/framework/local_rendezvous.cc:423] Local rendezvous recv item cancelled. Key hash: 7883339172097817469\n",
      "2024-07-24 11:51:16.081717: I tensorflow/core/framework/local_rendezvous.cc:423] Local rendezvous recv item cancelled. Key hash: 7735001053712973906\n",
      "2024-07-24 11:51:16.081721: I tensorflow/core/framework/local_rendezvous.cc:423] Local rendezvous recv item cancelled. Key hash: 12827042147541664042\n",
      "2024-07-24 11:51:16.081724: I tensorflow/core/framework/local_rendezvous.cc:423] Local rendezvous recv item cancelled. Key hash: 7260642555033977430\n",
      "2024-07-24 11:51:16.081730: I tensorflow/core/framework/local_rendezvous.cc:423] Local rendezvous recv item cancelled. Key hash: 6498216093875864150\n",
      "2024-07-24 11:51:16.081733: I tensorflow/core/framework/local_rendezvous.cc:423] Local rendezvous recv item cancelled. Key hash: 1880315956935049566\n",
      "2024-07-24 11:51:16.081736: I tensorflow/core/framework/local_rendezvous.cc:423] Local rendezvous recv item cancelled. Key hash: 4861491106363246060\n",
      "2024-07-24 11:51:16.081739: I tensorflow/core/framework/local_rendezvous.cc:423] Local rendezvous recv item cancelled. Key hash: 4602843177711748576\n",
      "2024-07-24 11:51:16.081742: I tensorflow/core/framework/local_rendezvous.cc:423] Local rendezvous recv item cancelled. Key hash: 9112748500218708278\n",
      "2024-07-24 11:51:16.081745: I tensorflow/core/framework/local_rendezvous.cc:423] Local rendezvous recv item cancelled. Key hash: 5156641150975281488\n",
      "2024-07-24 11:51:16.081748: I tensorflow/core/framework/local_rendezvous.cc:423] Local rendezvous recv item cancelled. Key hash: 8403591431237716832\n",
      "2024-07-24 11:51:16.081751: I tensorflow/core/framework/local_rendezvous.cc:423] Local rendezvous recv item cancelled. Key hash: 2930600443816971478\n",
      "2024-07-24 11:51:16.081754: I tensorflow/core/framework/local_rendezvous.cc:423] Local rendezvous recv item cancelled. Key hash: 15546760133480648130\n",
      "2024-07-24 11:51:16.081757: I tensorflow/core/framework/local_rendezvous.cc:423] Local rendezvous recv item cancelled. Key hash: 14104454438421348292\n",
      "2024-07-24 11:51:16.081760: I tensorflow/core/framework/local_rendezvous.cc:423] Local rendezvous recv item cancelled. Key hash: 11192976704570593080\n",
      "2024-07-24 11:51:16.081763: I tensorflow/core/framework/local_rendezvous.cc:423] Local rendezvous recv item cancelled. Key hash: 11247894964737659160\n",
      "2024-07-24 11:51:16.081766: I tensorflow/core/framework/local_rendezvous.cc:423] Local rendezvous recv item cancelled. Key hash: 12764707415127917312\n",
      "2024-07-24 11:51:16.081769: I tensorflow/core/framework/local_rendezvous.cc:423] Local rendezvous recv item cancelled. Key hash: 14805946176245020548\n",
      "2024-07-24 11:51:16.081772: I tensorflow/core/framework/local_rendezvous.cc:423] Local rendezvous recv item cancelled. Key hash: 15546636043995320706\n",
      "2024-07-24 11:51:16.081776: I tensorflow/core/framework/local_rendezvous.cc:423] Local rendezvous recv item cancelled. Key hash: 3596561802965554440\n",
      "2024-07-24 11:51:16.081779: I tensorflow/core/framework/local_rendezvous.cc:423] Local rendezvous recv item cancelled. Key hash: 10063160773300312710\n",
      "2024-07-24 11:51:16.081782: I tensorflow/core/framework/local_rendezvous.cc:423] Local rendezvous recv item cancelled. Key hash: 2841459043334593302\n",
      "2024-07-24 11:51:16.081785: I tensorflow/core/framework/local_rendezvous.cc:423] Local rendezvous recv item cancelled. Key hash: 15819242049399331882\n",
      "2024-07-24 11:51:16.081788: I tensorflow/core/framework/local_rendezvous.cc:423] Local rendezvous recv item cancelled. Key hash: 3244677876467179166\n",
      "2024-07-24 11:51:16.081791: I tensorflow/core/framework/local_rendezvous.cc:423] Local rendezvous recv item cancelled. Key hash: 7016282629459583218\n",
      "2024-07-24 11:51:16.081794: I tensorflow/core/framework/local_rendezvous.cc:423] Local rendezvous recv item cancelled. Key hash: 4341340968854807014\n",
      "2024-07-24 11:51:16.081797: I tensorflow/core/framework/local_rendezvous.cc:423] Local rendezvous recv item cancelled. Key hash: 947237233035207760\n",
      "2024-07-24 11:51:16.081800: I tensorflow/core/framework/local_rendezvous.cc:423] Local rendezvous recv item cancelled. Key hash: 18358648176830536558\n",
      "2024-07-24 11:51:16.081803: I tensorflow/core/framework/local_rendezvous.cc:423] Local rendezvous recv item cancelled. Key hash: 10311235366467299524\n",
      "2024-07-24 11:51:16.081806: I tensorflow/core/framework/local_rendezvous.cc:423] Local rendezvous recv item cancelled. Key hash: 8482320713554798656\n",
      "2024-07-24 11:51:16.081809: I tensorflow/core/framework/local_rendezvous.cc:423] Local rendezvous recv item cancelled. Key hash: 15380519210499254842\n",
      "2024-07-24 11:51:16.081812: I tensorflow/core/framework/local_rendezvous.cc:423] Local rendezvous recv item cancelled. Key hash: 12260003450537799090\n",
      "2024-07-24 11:51:16.081815: I tensorflow/core/framework/local_rendezvous.cc:423] Local rendezvous recv item cancelled. Key hash: 15319518697530224520\n",
      "2024-07-24 11:51:16.081818: I tensorflow/core/framework/local_rendezvous.cc:423] Local rendezvous recv item cancelled. Key hash: 7471080692649586480\n",
      "2024-07-24 11:51:16.081821: I tensorflow/core/framework/local_rendezvous.cc:423] Local rendezvous recv item cancelled. Key hash: 15198039565944991606\n",
      "2024-07-24 11:51:16.081823: I tensorflow/core/framework/local_rendezvous.cc:423] Local rendezvous recv item cancelled. Key hash: 2816867156590179222\n",
      "2024-07-24 11:51:16.081826: I tensorflow/core/framework/local_rendezvous.cc:423] Local rendezvous recv item cancelled. Key hash: 2243463833139901712\n",
      "2024-07-24 11:51:16.081829: I tensorflow/core/framework/local_rendezvous.cc:423] Local rendezvous recv item cancelled. Key hash: 4879958333095786416\n",
      "2024-07-24 11:51:16.081832: I tensorflow/core/framework/local_rendezvous.cc:423] Local rendezvous recv item cancelled. Key hash: 10701422774416045850\n",
      "2024-07-24 11:51:16.081835: I tensorflow/core/framework/local_rendezvous.cc:423] Local rendezvous recv item cancelled. Key hash: 14927179321873545272\n",
      "2024-07-24 11:51:16.081838: I tensorflow/core/framework/local_rendezvous.cc:423] Local rendezvous recv item cancelled. Key hash: 16038843183127197452\n",
      "2024-07-24 11:51:16.081840: I tensorflow/core/framework/local_rendezvous.cc:423] Local rendezvous recv item cancelled. Key hash: 11589471263274105456\n",
      "2024-07-24 11:51:16.081844: I tensorflow/core/framework/local_rendezvous.cc:423] Local rendezvous recv item cancelled. Key hash: 679328862287852262\n",
      "2024-07-24 11:51:16.081846: I tensorflow/core/framework/local_rendezvous.cc:423] Local rendezvous recv item cancelled. Key hash: 5960441218906963302\n",
      "2024-07-24 11:51:16.081849: I tensorflow/core/framework/local_rendezvous.cc:423] Local rendezvous recv item cancelled. Key hash: 10774896904204926938\n",
      "2024-07-24 11:51:16.105858: I tensorflow/core/framework/local_rendezvous.cc:404] Local rendezvous is aborting with status: OUT_OF_RANGE: End of sequence\n",
      "\t [[{{node IteratorGetNext}}]]\n",
      "\t [[Cumsum_1/_32]]\n",
      "2024-07-24 11:51:16.105871: I tensorflow/core/framework/local_rendezvous.cc:423] Local rendezvous recv item cancelled. Key hash: 15978958992807019649\n",
      "2024-07-24 11:51:16.105878: I tensorflow/core/framework/local_rendezvous.cc:423] Local rendezvous recv item cancelled. Key hash: 13917000608837317702\n",
      "2024-07-24 11:51:16.105881: I tensorflow/core/framework/local_rendezvous.cc:423] Local rendezvous recv item cancelled. Key hash: 17016518748549149906\n",
      "2024-07-24 11:51:16.105884: I tensorflow/core/framework/local_rendezvous.cc:423] Local rendezvous recv item cancelled. Key hash: 10141221434822991174\n",
      "2024-07-24 11:51:16.105887: I tensorflow/core/framework/local_rendezvous.cc:423] Local rendezvous recv item cancelled. Key hash: 3760928453833737392\n"
     ]
    },
    {
     "name": "stdout",
     "output_type": "stream",
     "text": [
      "\u001b[1m42/42\u001b[0m \u001b[32m━━━━━━━━━━━━━━━━━━━━\u001b[0m\u001b[37m\u001b[0m \u001b[1m5s\u001b[0m 112ms/step - accuracy: 0.9420 - auc: 0.9844 - fn: 11.8605 - fp: 11.8605 - loss: 0.1610 - precision: 0.9420 - recall: 0.9420 - tn: 163.6744 - tp: 163.6744 - val_accuracy: 0.7589 - val_auc: 0.8537 - val_fn: 27.0000 - val_fp: 27.0000 - val_loss: 0.6230 - val_precision: 0.7589 - val_recall: 0.7589 - val_tn: 85.0000 - val_tp: 85.0000\n",
      "Epoch 34/50\n",
      "\u001b[1m42/42\u001b[0m \u001b[32m━━━━━━━━━━━━━━━━━━━━\u001b[0m\u001b[37m\u001b[0m \u001b[1m0s\u001b[0m 1ms/step - accuracy: 0.8750 - auc: 0.9531 - fn: 1.0000 - fp: 1.0000 - loss: 0.2312 - precision: 0.8750 - recall: 0.8750 - tn: 7.0000 - tp: 7.0000 - val_accuracy: 1.0000 - val_auc: 1.0000 - val_fn: 0.0000e+00 - val_fp: 0.0000e+00 - val_loss: 0.0483 - val_precision: 1.0000 - val_recall: 1.0000 - val_tn: 2.0000 - val_tp: 2.0000\n",
      "Epoch 35/50\n",
      "\u001b[1m 1/42\u001b[0m \u001b[37m━━━━━━━━━━━━━━━━━━━━\u001b[0m \u001b[1m4s\u001b[0m 106ms/step - accuracy: 1.0000 - auc: 1.0000 - fn: 0.0000e+00 - fp: 0.0000e+00 - loss: 0.0330 - precision: 1.0000 - recall: 1.0000 - tn: 8.0000 - tp: 8.0000"
     ]
    },
    {
     "name": "stderr",
     "output_type": "stream",
     "text": [
      "2024-07-24 11:51:20.976671: I tensorflow/core/framework/local_rendezvous.cc:423] Local rendezvous recv item cancelled. Key hash: 2841459043334593302\n",
      "2024-07-24 11:51:20.976684: I tensorflow/core/framework/local_rendezvous.cc:423] Local rendezvous recv item cancelled. Key hash: 15546760133480648130\n",
      "2024-07-24 11:51:20.976689: I tensorflow/core/framework/local_rendezvous.cc:423] Local rendezvous recv item cancelled. Key hash: 3244677876467179166\n",
      "2024-07-24 11:51:20.976696: I tensorflow/core/framework/local_rendezvous.cc:423] Local rendezvous recv item cancelled. Key hash: 4879958333095786416\n",
      "2024-07-24 11:51:20.976707: I tensorflow/core/framework/local_rendezvous.cc:423] Local rendezvous recv item cancelled. Key hash: 10733042269836195989\n",
      "2024-07-24 11:51:20.976711: I tensorflow/core/framework/local_rendezvous.cc:423] Local rendezvous recv item cancelled. Key hash: 13464291270602971939\n",
      "2024-07-24 11:51:20.976715: I tensorflow/core/framework/local_rendezvous.cc:423] Local rendezvous recv item cancelled. Key hash: 1383065497949799395\n",
      "2024-07-24 11:51:20.976719: I tensorflow/core/framework/local_rendezvous.cc:423] Local rendezvous recv item cancelled. Key hash: 7802115701858047337\n",
      "2024-07-24 11:51:21.001010: I tensorflow/core/framework/local_rendezvous.cc:423] Local rendezvous recv item cancelled. Key hash: 6607121185723691025\n",
      "2024-07-24 11:51:21.001025: I tensorflow/core/framework/local_rendezvous.cc:423] Local rendezvous recv item cancelled. Key hash: 15978958992807019649\n",
      "2024-07-24 11:51:21.001029: I tensorflow/core/framework/local_rendezvous.cc:423] Local rendezvous recv item cancelled. Key hash: 4177715030164683947\n",
      "2024-07-24 11:51:21.001037: I tensorflow/core/framework/local_rendezvous.cc:423] Local rendezvous recv item cancelled. Key hash: 2676786092006941010\n",
      "2024-07-24 11:51:21.001046: I tensorflow/core/framework/local_rendezvous.cc:423] Local rendezvous recv item cancelled. Key hash: 13917000608837317702\n",
      "2024-07-24 11:51:21.001051: I tensorflow/core/framework/local_rendezvous.cc:423] Local rendezvous recv item cancelled. Key hash: 8004857405651504014\n",
      "2024-07-24 11:51:21.001055: I tensorflow/core/framework/local_rendezvous.cc:423] Local rendezvous recv item cancelled. Key hash: 3760928453833737392\n",
      "2024-07-24 11:51:21.001059: I tensorflow/core/framework/local_rendezvous.cc:423] Local rendezvous recv item cancelled. Key hash: 10141221434822991174\n",
      "2024-07-24 11:51:21.001062: I tensorflow/core/framework/local_rendezvous.cc:423] Local rendezvous recv item cancelled. Key hash: 17016518748549149906\n"
     ]
    },
    {
     "name": "stdout",
     "output_type": "stream",
     "text": [
      "\u001b[1m42/42\u001b[0m \u001b[32m━━━━━━━━━━━━━━━━━━━━\u001b[0m\u001b[37m\u001b[0m \u001b[1m5s\u001b[0m 115ms/step - accuracy: 0.9469 - auc: 0.9867 - fn: 10.0698 - fp: 10.0698 - loss: 0.1600 - precision: 0.9469 - recall: 0.9469 - tn: 162.1163 - tp: 162.1163 - val_accuracy: 0.7143 - val_auc: 0.8359 - val_fn: 32.0000 - val_fp: 32.0000 - val_loss: 0.9164 - val_precision: 0.7143 - val_recall: 0.7143 - val_tn: 80.0000 - val_tp: 80.0000\n",
      "Epoch 36/50\n",
      "\u001b[1m42/42\u001b[0m \u001b[32m━━━━━━━━━━━━━━━━━━━━\u001b[0m\u001b[37m\u001b[0m \u001b[1m0s\u001b[0m 1ms/step - accuracy: 1.0000 - auc: 1.0000 - fn: 0.0000e+00 - fp: 0.0000e+00 - loss: 0.0470 - precision: 1.0000 - recall: 1.0000 - tn: 8.0000 - tp: 8.0000 - val_accuracy: 1.0000 - val_auc: 1.0000 - val_fn: 0.0000e+00 - val_fp: 0.0000e+00 - val_loss: 0.0449 - val_precision: 1.0000 - val_recall: 1.0000 - val_tn: 2.0000 - val_tp: 2.0000\n",
      "Epoch 37/50\n",
      "\u001b[1m 1/42\u001b[0m \u001b[37m━━━━━━━━━━━━━━━━━━━━\u001b[0m \u001b[1m5s\u001b[0m 123ms/step - accuracy: 1.0000 - auc: 1.0000 - fn: 0.0000e+00 - fp: 0.0000e+00 - loss: 0.0259 - precision: 1.0000 - recall: 1.0000 - tn: 8.0000 - tp: 8.0000"
     ]
    },
    {
     "name": "stderr",
     "output_type": "stream",
     "text": [
      "2024-07-24 11:51:25.952902: I tensorflow/core/framework/local_rendezvous.cc:423] Local rendezvous recv item cancelled. Key hash: 7016282629459583218\n",
      "2024-07-24 11:51:25.952916: I tensorflow/core/framework/local_rendezvous.cc:423] Local rendezvous recv item cancelled. Key hash: 6800600665730497323\n",
      "2024-07-24 11:51:25.952928: I tensorflow/core/framework/local_rendezvous.cc:423] Local rendezvous recv item cancelled. Key hash: 13227134449558905445\n",
      "2024-07-24 11:51:25.952933: I tensorflow/core/framework/local_rendezvous.cc:423] Local rendezvous recv item cancelled. Key hash: 1383065497949799395\n",
      "2024-07-24 11:51:25.952937: I tensorflow/core/framework/local_rendezvous.cc:423] Local rendezvous recv item cancelled. Key hash: 4739365245678462033\n",
      "2024-07-24 11:51:25.952940: I tensorflow/core/framework/local_rendezvous.cc:423] Local rendezvous recv item cancelled. Key hash: 11684161685995054627\n",
      "2024-07-24 11:51:25.952941: I tensorflow/core/framework/local_rendezvous.cc:423] Local rendezvous recv item cancelled. Key hash: 1880315956935049566\n",
      "2024-07-24 11:51:25.952951: I tensorflow/core/framework/local_rendezvous.cc:423] Local rendezvous recv item cancelled. Key hash: 15768608472279910053\n",
      "2024-07-24 11:51:25.952955: I tensorflow/core/framework/local_rendezvous.cc:423] Local rendezvous recv item cancelled. Key hash: 7735001053712973906\n",
      "2024-07-24 11:51:25.952961: I tensorflow/core/framework/local_rendezvous.cc:423] Local rendezvous recv item cancelled. Key hash: 15380519210499254842\n",
      "2024-07-24 11:51:25.952963: I tensorflow/core/framework/local_rendezvous.cc:423] Local rendezvous recv item cancelled. Key hash: 3893306221038018165\n",
      "2024-07-24 11:51:25.952965: I tensorflow/core/framework/local_rendezvous.cc:423] Local rendezvous recv item cancelled. Key hash: 2930600443816971478\n",
      "2024-07-24 11:51:25.952967: I tensorflow/core/framework/local_rendezvous.cc:423] Local rendezvous recv item cancelled. Key hash: 17646930667787712373\n",
      "2024-07-24 11:51:25.952969: I tensorflow/core/framework/local_rendezvous.cc:423] Local rendezvous recv item cancelled. Key hash: 15546760133480648130\n",
      "2024-07-24 11:51:25.952971: I tensorflow/core/framework/local_rendezvous.cc:423] Local rendezvous recv item cancelled. Key hash: 4281185063899729373\n",
      "2024-07-24 11:51:25.952973: I tensorflow/core/framework/local_rendezvous.cc:423] Local rendezvous recv item cancelled. Key hash: 12260003450537799090\n",
      "2024-07-24 11:51:25.952975: I tensorflow/core/framework/local_rendezvous.cc:423] Local rendezvous recv item cancelled. Key hash: 2265985148321886681\n",
      "2024-07-24 11:51:25.952981: I tensorflow/core/framework/local_rendezvous.cc:423] Local rendezvous recv item cancelled. Key hash: 2349617577263575655\n",
      "2024-07-24 11:51:25.952987: I tensorflow/core/framework/local_rendezvous.cc:423] Local rendezvous recv item cancelled. Key hash: 15319518697530224520\n",
      "2024-07-24 11:51:25.952996: I tensorflow/core/framework/local_rendezvous.cc:423] Local rendezvous recv item cancelled. Key hash: 7802115701858047337\n",
      "2024-07-24 11:51:25.953004: I tensorflow/core/framework/local_rendezvous.cc:423] Local rendezvous recv item cancelled. Key hash: 859836513747203897\n",
      "2024-07-24 11:51:25.953007: I tensorflow/core/framework/local_rendezvous.cc:423] Local rendezvous recv item cancelled. Key hash: 15198039565944991606\n",
      "2024-07-24 11:51:25.953013: I tensorflow/core/framework/local_rendezvous.cc:423] Local rendezvous recv item cancelled. Key hash: 10733042269836195989\n",
      "2024-07-24 11:51:25.953016: I tensorflow/core/framework/local_rendezvous.cc:423] Local rendezvous recv item cancelled. Key hash: 7471080692649586480\n",
      "2024-07-24 11:51:25.953018: I tensorflow/core/framework/local_rendezvous.cc:423] Local rendezvous recv item cancelled. Key hash: 13173938544141080941\n",
      "2024-07-24 11:51:25.953020: I tensorflow/core/framework/local_rendezvous.cc:423] Local rendezvous recv item cancelled. Key hash: 3596561802965554440\n",
      "2024-07-24 11:51:25.953023: I tensorflow/core/framework/local_rendezvous.cc:423] Local rendezvous recv item cancelled. Key hash: 18255673518761351433\n",
      "2024-07-24 11:51:25.953024: I tensorflow/core/framework/local_rendezvous.cc:423] Local rendezvous recv item cancelled. Key hash: 4879958333095786416\n",
      "2024-07-24 11:51:25.953027: I tensorflow/core/framework/local_rendezvous.cc:423] Local rendezvous recv item cancelled. Key hash: 17657021932063267605\n",
      "2024-07-24 11:51:25.953028: I tensorflow/core/framework/local_rendezvous.cc:423] Local rendezvous recv item cancelled. Key hash: 2841459043334593302\n",
      "2024-07-24 11:51:25.953030: I tensorflow/core/framework/local_rendezvous.cc:423] Local rendezvous recv item cancelled. Key hash: 16317458952785476389\n",
      "2024-07-24 11:51:25.953033: I tensorflow/core/framework/local_rendezvous.cc:423] Local rendezvous recv item cancelled. Key hash: 5960441218906963302\n",
      "2024-07-24 11:51:25.953035: I tensorflow/core/framework/local_rendezvous.cc:423] Local rendezvous recv item cancelled. Key hash: 1087108310457809581\n",
      "2024-07-24 11:51:25.953044: I tensorflow/core/framework/local_rendezvous.cc:423] Local rendezvous recv item cancelled. Key hash: 7883339172097817469\n",
      "2024-07-24 11:51:25.953047: I tensorflow/core/framework/local_rendezvous.cc:423] Local rendezvous recv item cancelled. Key hash: 3244677876467179166\n",
      "2024-07-24 11:51:25.953056: I tensorflow/core/framework/local_rendezvous.cc:423] Local rendezvous recv item cancelled. Key hash: 17914613602436512017\n",
      "2024-07-24 11:51:25.953068: I tensorflow/core/framework/local_rendezvous.cc:423] Local rendezvous recv item cancelled. Key hash: 7297141620674244705\n",
      "2024-07-24 11:51:25.953074: I tensorflow/core/framework/local_rendezvous.cc:423] Local rendezvous recv item cancelled. Key hash: 6544545264921141537\n",
      "2024-07-24 11:51:25.953079: I tensorflow/core/framework/local_rendezvous.cc:423] Local rendezvous recv item cancelled. Key hash: 444809279914062789\n",
      "2024-07-24 11:51:25.953082: I tensorflow/core/framework/local_rendezvous.cc:423] Local rendezvous recv item cancelled. Key hash: 9143851637127959719\n",
      "2024-07-24 11:51:25.953087: I tensorflow/core/framework/local_rendezvous.cc:423] Local rendezvous recv item cancelled. Key hash: 8469731028185146937\n",
      "2024-07-24 11:51:25.953090: I tensorflow/core/framework/local_rendezvous.cc:423] Local rendezvous recv item cancelled. Key hash: 11538265683497572899\n",
      "2024-07-24 11:51:25.953094: I tensorflow/core/framework/local_rendezvous.cc:423] Local rendezvous recv item cancelled. Key hash: 13464291270602971939\n",
      "2024-07-24 11:51:25.953097: I tensorflow/core/framework/local_rendezvous.cc:423] Local rendezvous recv item cancelled. Key hash: 16092320404970843963\n",
      "2024-07-24 11:51:25.977336: I tensorflow/core/framework/local_rendezvous.cc:423] Local rendezvous recv item cancelled. Key hash: 3760928453833737392\n",
      "2024-07-24 11:51:25.977348: I tensorflow/core/framework/local_rendezvous.cc:423] Local rendezvous recv item cancelled. Key hash: 17016518748549149906\n",
      "2024-07-24 11:51:25.977351: I tensorflow/core/framework/local_rendezvous.cc:423] Local rendezvous recv item cancelled. Key hash: 6607121185723691025\n",
      "2024-07-24 11:51:25.977362: I tensorflow/core/framework/local_rendezvous.cc:423] Local rendezvous recv item cancelled. Key hash: 15978958992807019649\n",
      "2024-07-24 11:51:25.977366: I tensorflow/core/framework/local_rendezvous.cc:423] Local rendezvous recv item cancelled. Key hash: 10141221434822991174\n",
      "2024-07-24 11:51:25.977373: I tensorflow/core/framework/local_rendezvous.cc:423] Local rendezvous recv item cancelled. Key hash: 13917000608837317702\n",
      "2024-07-24 11:51:25.977376: I tensorflow/core/framework/local_rendezvous.cc:423] Local rendezvous recv item cancelled. Key hash: 4177715030164683947\n"
     ]
    },
    {
     "name": "stdout",
     "output_type": "stream",
     "text": [
      "\u001b[1m42/42\u001b[0m \u001b[32m━━━━━━━━━━━━━━━━━━━━\u001b[0m\u001b[37m\u001b[0m \u001b[1m5s\u001b[0m 114ms/step - accuracy: 0.9247 - auc: 0.9843 - fn: 13.1628 - fp: 13.1628 - loss: 0.1736 - precision: 0.9247 - recall: 0.9247 - tn: 160.5116 - tp: 160.5116 - val_accuracy: 0.7768 - val_auc: 0.8748 - val_fn: 25.0000 - val_fp: 25.0000 - val_loss: 0.6496 - val_precision: 0.7768 - val_recall: 0.7768 - val_tn: 87.0000 - val_tp: 87.0000\n",
      "Epoch 38/50\n",
      "\u001b[1m42/42\u001b[0m \u001b[32m━━━━━━━━━━━━━━━━━━━━\u001b[0m\u001b[37m\u001b[0m \u001b[1m0s\u001b[0m 1ms/step - accuracy: 0.8750 - auc: 0.9844 - fn: 1.0000 - fp: 1.0000 - loss: 0.1293 - precision: 0.8750 - recall: 0.8750 - tn: 7.0000 - tp: 7.0000 - val_accuracy: 1.0000 - val_auc: 1.0000 - val_fn: 0.0000e+00 - val_fp: 0.0000e+00 - val_loss: 0.0233 - val_precision: 1.0000 - val_recall: 1.0000 - val_tn: 2.0000 - val_tp: 2.0000\n",
      "Epoch 39/50\n",
      "\u001b[1m 1/42\u001b[0m \u001b[37m━━━━━━━━━━━━━━━━━━━━\u001b[0m \u001b[1m4s\u001b[0m 111ms/step - accuracy: 1.0000 - auc: 1.0000 - fn: 0.0000e+00 - fp: 0.0000e+00 - loss: 0.0269 - precision: 1.0000 - recall: 1.0000 - tn: 8.0000 - tp: 8.0000"
     ]
    },
    {
     "name": "stderr",
     "output_type": "stream",
     "text": [
      "2024-07-24 11:51:30.917697: I tensorflow/core/framework/local_rendezvous.cc:423] Local rendezvous recv item cancelled. Key hash: 1383065497949799395\n",
      "2024-07-24 11:51:30.917714: I tensorflow/core/framework/local_rendezvous.cc:423] Local rendezvous recv item cancelled. Key hash: 15768608472279910053\n",
      "2024-07-24 11:51:30.917723: I tensorflow/core/framework/local_rendezvous.cc:423] Local rendezvous recv item cancelled. Key hash: 11952574714831047347\n",
      "2024-07-24 11:51:30.917727: I tensorflow/core/framework/local_rendezvous.cc:423] Local rendezvous recv item cancelled. Key hash: 4281185063899729373\n",
      "2024-07-24 11:51:30.917734: I tensorflow/core/framework/local_rendezvous.cc:423] Local rendezvous recv item cancelled. Key hash: 9143851637127959719\n",
      "2024-07-24 11:51:30.917737: I tensorflow/core/framework/local_rendezvous.cc:423] Local rendezvous recv item cancelled. Key hash: 7802115701858047337\n",
      "2024-07-24 11:51:30.917743: I tensorflow/core/framework/local_rendezvous.cc:423] Local rendezvous recv item cancelled. Key hash: 13173938544141080941\n",
      "2024-07-24 11:51:30.917747: I tensorflow/core/framework/local_rendezvous.cc:423] Local rendezvous recv item cancelled. Key hash: 11538265683497572899\n",
      "2024-07-24 11:51:30.917750: I tensorflow/core/framework/local_rendezvous.cc:423] Local rendezvous recv item cancelled. Key hash: 17657021932063267605\n",
      "2024-07-24 11:51:30.917755: I tensorflow/core/framework/local_rendezvous.cc:423] Local rendezvous recv item cancelled. Key hash: 18255673518761351433\n",
      "2024-07-24 11:51:30.917759: I tensorflow/core/framework/local_rendezvous.cc:423] Local rendezvous recv item cancelled. Key hash: 4709750447546522785\n",
      "2024-07-24 11:51:30.917763: I tensorflow/core/framework/local_rendezvous.cc:423] Local rendezvous recv item cancelled. Key hash: 3893306221038018165\n",
      "2024-07-24 11:51:30.917771: I tensorflow/core/framework/local_rendezvous.cc:423] Local rendezvous recv item cancelled. Key hash: 4536186900066541325\n",
      "2024-07-24 11:51:30.917775: I tensorflow/core/framework/local_rendezvous.cc:423] Local rendezvous recv item cancelled. Key hash: 13464291270602971939\n",
      "2024-07-24 11:51:30.917779: I tensorflow/core/framework/local_rendezvous.cc:423] Local rendezvous recv item cancelled. Key hash: 8716015658963821305\n",
      "2024-07-24 11:51:30.917782: I tensorflow/core/framework/local_rendezvous.cc:423] Local rendezvous recv item cancelled. Key hash: 4739365245678462033\n",
      "2024-07-24 11:51:30.917786: I tensorflow/core/framework/local_rendezvous.cc:423] Local rendezvous recv item cancelled. Key hash: 11684161685995054627\n",
      "2024-07-24 11:51:30.917789: I tensorflow/core/framework/local_rendezvous.cc:423] Local rendezvous recv item cancelled. Key hash: 8469731028185146937\n",
      "2024-07-24 11:51:30.917793: I tensorflow/core/framework/local_rendezvous.cc:423] Local rendezvous recv item cancelled. Key hash: 6544545264921141537\n",
      "2024-07-24 11:51:30.917798: I tensorflow/core/framework/local_rendezvous.cc:423] Local rendezvous recv item cancelled. Key hash: 3898680181337681583\n",
      "2024-07-24 11:51:30.917802: I tensorflow/core/framework/local_rendezvous.cc:423] Local rendezvous recv item cancelled. Key hash: 16092320404970843963\n",
      "2024-07-24 11:51:30.917806: I tensorflow/core/framework/local_rendezvous.cc:423] Local rendezvous recv item cancelled. Key hash: 7297141620674244705\n",
      "2024-07-24 11:51:30.917809: I tensorflow/core/framework/local_rendezvous.cc:423] Local rendezvous recv item cancelled. Key hash: 2265985148321886681\n",
      "2024-07-24 11:51:30.917813: I tensorflow/core/framework/local_rendezvous.cc:423] Local rendezvous recv item cancelled. Key hash: 2349617577263575655\n",
      "2024-07-24 11:51:30.917817: I tensorflow/core/framework/local_rendezvous.cc:423] Local rendezvous recv item cancelled. Key hash: 444809279914062789\n",
      "2024-07-24 11:51:30.917820: I tensorflow/core/framework/local_rendezvous.cc:423] Local rendezvous recv item cancelled. Key hash: 8063543133116231471\n",
      "2024-07-24 11:51:30.917824: I tensorflow/core/framework/local_rendezvous.cc:423] Local rendezvous recv item cancelled. Key hash: 859836513747203897\n",
      "2024-07-24 11:51:30.917827: I tensorflow/core/framework/local_rendezvous.cc:423] Local rendezvous recv item cancelled. Key hash: 10733042269836195989\n",
      "2024-07-24 11:51:30.917831: I tensorflow/core/framework/local_rendezvous.cc:423] Local rendezvous recv item cancelled. Key hash: 1087108310457809581\n",
      "2024-07-24 11:51:30.917834: I tensorflow/core/framework/local_rendezvous.cc:423] Local rendezvous recv item cancelled. Key hash: 16317458952785476389\n",
      "2024-07-24 11:51:30.917839: I tensorflow/core/framework/local_rendezvous.cc:423] Local rendezvous recv item cancelled. Key hash: 7883339172097817469\n",
      "2024-07-24 11:51:30.917842: I tensorflow/core/framework/local_rendezvous.cc:423] Local rendezvous recv item cancelled. Key hash: 6800600665730497323\n",
      "2024-07-24 11:51:30.917851: I tensorflow/core/framework/local_rendezvous.cc:423] Local rendezvous recv item cancelled. Key hash: 7735001053712973906\n",
      "2024-07-24 11:51:30.917854: I tensorflow/core/framework/local_rendezvous.cc:423] Local rendezvous recv item cancelled. Key hash: 1880315956935049566\n",
      "2024-07-24 11:51:30.917859: I tensorflow/core/framework/local_rendezvous.cc:423] Local rendezvous recv item cancelled. Key hash: 7016282629459583218\n",
      "2024-07-24 11:51:30.917862: I tensorflow/core/framework/local_rendezvous.cc:423] Local rendezvous recv item cancelled. Key hash: 15380519210499254842\n",
      "2024-07-24 11:51:30.917866: I tensorflow/core/framework/local_rendezvous.cc:423] Local rendezvous recv item cancelled. Key hash: 2930600443816971478\n",
      "2024-07-24 11:51:30.917871: I tensorflow/core/framework/local_rendezvous.cc:423] Local rendezvous recv item cancelled. Key hash: 12260003450537799090\n",
      "2024-07-24 11:51:30.917874: I tensorflow/core/framework/local_rendezvous.cc:423] Local rendezvous recv item cancelled. Key hash: 15546760133480648130\n",
      "2024-07-24 11:51:30.917877: I tensorflow/core/framework/local_rendezvous.cc:423] Local rendezvous recv item cancelled. Key hash: 15319518697530224520\n",
      "2024-07-24 11:51:30.917880: I tensorflow/core/framework/local_rendezvous.cc:423] Local rendezvous recv item cancelled. Key hash: 15198039565944991606\n",
      "2024-07-24 11:51:30.917883: I tensorflow/core/framework/local_rendezvous.cc:423] Local rendezvous recv item cancelled. Key hash: 3596561802965554440\n",
      "2024-07-24 11:51:30.917887: I tensorflow/core/framework/local_rendezvous.cc:423] Local rendezvous recv item cancelled. Key hash: 4879958333095786416\n",
      "2024-07-24 11:51:30.917890: I tensorflow/core/framework/local_rendezvous.cc:423] Local rendezvous recv item cancelled. Key hash: 14805946176245020548\n",
      "2024-07-24 11:51:30.917894: I tensorflow/core/framework/local_rendezvous.cc:423] Local rendezvous recv item cancelled. Key hash: 2841459043334593302\n",
      "2024-07-24 11:51:30.917898: I tensorflow/core/framework/local_rendezvous.cc:423] Local rendezvous recv item cancelled. Key hash: 18358648176830536558\n",
      "2024-07-24 11:51:30.917902: I tensorflow/core/framework/local_rendezvous.cc:423] Local rendezvous recv item cancelled. Key hash: 5960441218906963302\n",
      "2024-07-24 11:51:30.917905: I tensorflow/core/framework/local_rendezvous.cc:423] Local rendezvous recv item cancelled. Key hash: 3244677876467179166\n",
      "2024-07-24 11:51:30.941520: I tensorflow/core/framework/local_rendezvous.cc:423] Local rendezvous recv item cancelled. Key hash: 6607121185723691025\n",
      "2024-07-24 11:51:30.941532: I tensorflow/core/framework/local_rendezvous.cc:423] Local rendezvous recv item cancelled. Key hash: 4631733359777217515\n",
      "2024-07-24 11:51:30.941536: I tensorflow/core/framework/local_rendezvous.cc:423] Local rendezvous recv item cancelled. Key hash: 15978958992807019649\n",
      "2024-07-24 11:51:30.941541: I tensorflow/core/framework/local_rendezvous.cc:423] Local rendezvous recv item cancelled. Key hash: 4177715030164683947\n",
      "2024-07-24 11:51:30.941547: I tensorflow/core/framework/local_rendezvous.cc:423] Local rendezvous recv item cancelled. Key hash: 2676786092006941010\n",
      "2024-07-24 11:51:30.941550: I tensorflow/core/framework/local_rendezvous.cc:423] Local rendezvous recv item cancelled. Key hash: 13917000608837317702\n",
      "2024-07-24 11:51:30.941553: I tensorflow/core/framework/local_rendezvous.cc:423] Local rendezvous recv item cancelled. Key hash: 3760928453833737392\n",
      "2024-07-24 11:51:30.941557: I tensorflow/core/framework/local_rendezvous.cc:423] Local rendezvous recv item cancelled. Key hash: 17016518748549149906\n",
      "2024-07-24 11:51:30.941560: I tensorflow/core/framework/local_rendezvous.cc:423] Local rendezvous recv item cancelled. Key hash: 8004857405651504014\n",
      "2024-07-24 11:51:30.941572: I tensorflow/core/framework/local_rendezvous.cc:423] Local rendezvous recv item cancelled. Key hash: 10141221434822991174\n",
      "2024-07-24 11:51:30.941580: I tensorflow/core/framework/local_rendezvous.cc:423] Local rendezvous recv item cancelled. Key hash: 3202418254770757024\n"
     ]
    },
    {
     "name": "stdout",
     "output_type": "stream",
     "text": [
      "\u001b[1m42/42\u001b[0m \u001b[32m━━━━━━━━━━━━━━━━━━━━\u001b[0m\u001b[37m\u001b[0m \u001b[1m5s\u001b[0m 114ms/step - accuracy: 0.9263 - auc: 0.9831 - fn: 12.6279 - fp: 12.6279 - loss: 0.1648 - precision: 0.9263 - recall: 0.9263 - tn: 159.5581 - tp: 159.5581 - val_accuracy: 0.9196 - val_auc: 0.9701 - val_fn: 9.0000 - val_fp: 9.0000 - val_loss: 0.2279 - val_precision: 0.9196 - val_recall: 0.9196 - val_tn: 103.0000 - val_tp: 103.0000\n",
      "Epoch 40/50\n",
      "\u001b[1m42/42\u001b[0m \u001b[32m━━━━━━━━━━━━━━━━━━━━\u001b[0m\u001b[37m\u001b[0m \u001b[1m0s\u001b[0m 1ms/step - accuracy: 0.7500 - auc: 0.9375 - fn: 2.0000 - fp: 2.0000 - loss: 0.4983 - precision: 0.7500 - recall: 0.7500 - tn: 6.0000 - tp: 6.0000 - val_accuracy: 1.0000 - val_auc: 1.0000 - val_fn: 0.0000e+00 - val_fp: 0.0000e+00 - val_loss: 0.2714 - val_precision: 1.0000 - val_recall: 1.0000 - val_tn: 2.0000 - val_tp: 2.0000\n",
      "Epoch 41/50\n",
      "\u001b[1m 1/42\u001b[0m \u001b[37m━━━━━━━━━━━━━━━━━━━━\u001b[0m \u001b[1m4s\u001b[0m 108ms/step - accuracy: 1.0000 - auc: 1.0000 - fn: 0.0000e+00 - fp: 0.0000e+00 - loss: 0.0279 - precision: 1.0000 - recall: 1.0000 - tn: 8.0000 - tp: 8.0000"
     ]
    },
    {
     "name": "stderr",
     "output_type": "stream",
     "text": [
      "2024-07-24 11:51:35.882182: I tensorflow/core/framework/local_rendezvous.cc:423] Local rendezvous recv item cancelled. Key hash: 6771233482863263613\n",
      "2024-07-24 11:51:35.882192: I tensorflow/core/framework/local_rendezvous.cc:423] Local rendezvous recv item cancelled. Key hash: 1383065497949799395\n",
      "2024-07-24 11:51:35.882197: I tensorflow/core/framework/local_rendezvous.cc:423] Local rendezvous recv item cancelled. Key hash: 15768608472279910053\n",
      "2024-07-24 11:51:35.882201: I tensorflow/core/framework/local_rendezvous.cc:423] Local rendezvous recv item cancelled. Key hash: 11952574714831047347\n",
      "2024-07-24 11:51:35.882204: I tensorflow/core/framework/local_rendezvous.cc:423] Local rendezvous recv item cancelled. Key hash: 4281185063899729373\n",
      "2024-07-24 11:51:35.882209: I tensorflow/core/framework/local_rendezvous.cc:423] Local rendezvous recv item cancelled. Key hash: 9143851637127959719\n",
      "2024-07-24 11:51:35.882212: I tensorflow/core/framework/local_rendezvous.cc:423] Local rendezvous recv item cancelled. Key hash: 7802115701858047337\n",
      "2024-07-24 11:51:35.882216: I tensorflow/core/framework/local_rendezvous.cc:423] Local rendezvous recv item cancelled. Key hash: 13173938544141080941\n",
      "2024-07-24 11:51:35.882220: I tensorflow/core/framework/local_rendezvous.cc:423] Local rendezvous recv item cancelled. Key hash: 11538265683497572899\n",
      "2024-07-24 11:51:35.882224: I tensorflow/core/framework/local_rendezvous.cc:423] Local rendezvous recv item cancelled. Key hash: 13464291270602971939\n",
      "2024-07-24 11:51:35.882228: I tensorflow/core/framework/local_rendezvous.cc:423] Local rendezvous recv item cancelled. Key hash: 17657021932063267605\n",
      "2024-07-24 11:51:35.882231: I tensorflow/core/framework/local_rendezvous.cc:423] Local rendezvous recv item cancelled. Key hash: 4709750447546522785\n",
      "2024-07-24 11:51:35.882236: I tensorflow/core/framework/local_rendezvous.cc:423] Local rendezvous recv item cancelled. Key hash: 3893306221038018165\n",
      "2024-07-24 11:51:35.882240: I tensorflow/core/framework/local_rendezvous.cc:423] Local rendezvous recv item cancelled. Key hash: 18255673518761351433\n",
      "2024-07-24 11:51:35.882244: I tensorflow/core/framework/local_rendezvous.cc:423] Local rendezvous recv item cancelled. Key hash: 4536186900066541325\n",
      "2024-07-24 11:51:35.882248: I tensorflow/core/framework/local_rendezvous.cc:423] Local rendezvous recv item cancelled. Key hash: 6544545264921141537\n",
      "2024-07-24 11:51:35.882252: I tensorflow/core/framework/local_rendezvous.cc:423] Local rendezvous recv item cancelled. Key hash: 13227134449558905445\n",
      "2024-07-24 11:51:35.882256: I tensorflow/core/framework/local_rendezvous.cc:423] Local rendezvous recv item cancelled. Key hash: 8716015658963821305\n",
      "2024-07-24 11:51:35.882260: I tensorflow/core/framework/local_rendezvous.cc:423] Local rendezvous recv item cancelled. Key hash: 4739365245678462033\n",
      "2024-07-24 11:51:35.882264: I tensorflow/core/framework/local_rendezvous.cc:423] Local rendezvous recv item cancelled. Key hash: 11684161685995054627\n",
      "2024-07-24 11:51:35.882268: I tensorflow/core/framework/local_rendezvous.cc:423] Local rendezvous recv item cancelled. Key hash: 8469731028185146937\n",
      "2024-07-24 11:51:35.882272: I tensorflow/core/framework/local_rendezvous.cc:423] Local rendezvous recv item cancelled. Key hash: 2690217201294355223\n",
      "2024-07-24 11:51:35.882275: I tensorflow/core/framework/local_rendezvous.cc:423] Local rendezvous recv item cancelled. Key hash: 3898680181337681583\n",
      "2024-07-24 11:51:35.882279: I tensorflow/core/framework/local_rendezvous.cc:423] Local rendezvous recv item cancelled. Key hash: 8063543133116231471\n",
      "2024-07-24 11:51:35.882283: I tensorflow/core/framework/local_rendezvous.cc:423] Local rendezvous recv item cancelled. Key hash: 7297141620674244705\n",
      "2024-07-24 11:51:35.882286: I tensorflow/core/framework/local_rendezvous.cc:423] Local rendezvous recv item cancelled. Key hash: 2265985148321886681\n",
      "2024-07-24 11:51:35.882289: I tensorflow/core/framework/local_rendezvous.cc:423] Local rendezvous recv item cancelled. Key hash: 2349617577263575655\n",
      "2024-07-24 11:51:35.882292: I tensorflow/core/framework/local_rendezvous.cc:423] Local rendezvous recv item cancelled. Key hash: 444809279914062789\n",
      "2024-07-24 11:51:35.882295: I tensorflow/core/framework/local_rendezvous.cc:423] Local rendezvous recv item cancelled. Key hash: 16092320404970843963\n",
      "2024-07-24 11:51:35.882298: I tensorflow/core/framework/local_rendezvous.cc:423] Local rendezvous recv item cancelled. Key hash: 10520248598898357819\n",
      "2024-07-24 11:51:35.882301: I tensorflow/core/framework/local_rendezvous.cc:423] Local rendezvous recv item cancelled. Key hash: 17646930667787712373\n",
      "2024-07-24 11:51:35.882304: I tensorflow/core/framework/local_rendezvous.cc:423] Local rendezvous recv item cancelled. Key hash: 859836513747203897\n",
      "2024-07-24 11:51:35.882307: I tensorflow/core/framework/local_rendezvous.cc:423] Local rendezvous recv item cancelled. Key hash: 10733042269836195989\n",
      "2024-07-24 11:51:35.882310: I tensorflow/core/framework/local_rendezvous.cc:423] Local rendezvous recv item cancelled. Key hash: 1087108310457809581\n",
      "2024-07-24 11:51:35.882313: I tensorflow/core/framework/local_rendezvous.cc:423] Local rendezvous recv item cancelled. Key hash: 16317458952785476389\n",
      "2024-07-24 11:51:35.882316: I tensorflow/core/framework/local_rendezvous.cc:423] Local rendezvous recv item cancelled. Key hash: 7883339172097817469\n",
      "2024-07-24 11:51:35.882319: I tensorflow/core/framework/local_rendezvous.cc:423] Local rendezvous recv item cancelled. Key hash: 6800600665730497323\n",
      "2024-07-24 11:51:35.882322: I tensorflow/core/framework/local_rendezvous.cc:423] Local rendezvous recv item cancelled. Key hash: 17914613602436512017\n",
      "2024-07-24 11:51:35.882329: I tensorflow/core/framework/local_rendezvous.cc:423] Local rendezvous recv item cancelled. Key hash: 7735001053712973906\n",
      "2024-07-24 11:51:35.882333: I tensorflow/core/framework/local_rendezvous.cc:423] Local rendezvous recv item cancelled. Key hash: 7016282629459583218\n",
      "2024-07-24 11:51:35.882336: I tensorflow/core/framework/local_rendezvous.cc:423] Local rendezvous recv item cancelled. Key hash: 1880315956935049566\n",
      "2024-07-24 11:51:35.882339: I tensorflow/core/framework/local_rendezvous.cc:423] Local rendezvous recv item cancelled. Key hash: 947237233035207760\n",
      "2024-07-24 11:51:35.882342: I tensorflow/core/framework/local_rendezvous.cc:423] Local rendezvous recv item cancelled. Key hash: 9112748500218708278\n",
      "2024-07-24 11:51:35.882345: I tensorflow/core/framework/local_rendezvous.cc:423] Local rendezvous recv item cancelled. Key hash: 15380519210499254842\n",
      "2024-07-24 11:51:35.882348: I tensorflow/core/framework/local_rendezvous.cc:423] Local rendezvous recv item cancelled. Key hash: 2930600443816971478\n",
      "2024-07-24 11:51:35.882351: I tensorflow/core/framework/local_rendezvous.cc:423] Local rendezvous recv item cancelled. Key hash: 12260003450537799090\n",
      "2024-07-24 11:51:35.882354: I tensorflow/core/framework/local_rendezvous.cc:423] Local rendezvous recv item cancelled. Key hash: 15546760133480648130\n",
      "2024-07-24 11:51:35.882357: I tensorflow/core/framework/local_rendezvous.cc:423] Local rendezvous recv item cancelled. Key hash: 15319518697530224520\n",
      "2024-07-24 11:51:35.882360: I tensorflow/core/framework/local_rendezvous.cc:423] Local rendezvous recv item cancelled. Key hash: 7471080692649586480\n",
      "2024-07-24 11:51:35.882363: I tensorflow/core/framework/local_rendezvous.cc:423] Local rendezvous recv item cancelled. Key hash: 15546636043995320706\n",
      "2024-07-24 11:51:35.882369: I tensorflow/core/framework/local_rendezvous.cc:423] Local rendezvous recv item cancelled. Key hash: 15198039565944991606\n",
      "2024-07-24 11:51:35.882372: I tensorflow/core/framework/local_rendezvous.cc:423] Local rendezvous recv item cancelled. Key hash: 679328862287852262\n",
      "2024-07-24 11:51:35.882375: I tensorflow/core/framework/local_rendezvous.cc:423] Local rendezvous recv item cancelled. Key hash: 3596561802965554440\n",
      "2024-07-24 11:51:35.882379: I tensorflow/core/framework/local_rendezvous.cc:423] Local rendezvous recv item cancelled. Key hash: 4879958333095786416\n",
      "2024-07-24 11:51:35.882382: I tensorflow/core/framework/local_rendezvous.cc:423] Local rendezvous recv item cancelled. Key hash: 14805946176245020548\n",
      "2024-07-24 11:51:35.882385: I tensorflow/core/framework/local_rendezvous.cc:423] Local rendezvous recv item cancelled. Key hash: 10063160773300312710\n",
      "2024-07-24 11:51:35.882389: I tensorflow/core/framework/local_rendezvous.cc:423] Local rendezvous recv item cancelled. Key hash: 2841459043334593302\n",
      "2024-07-24 11:51:35.882392: I tensorflow/core/framework/local_rendezvous.cc:423] Local rendezvous recv item cancelled. Key hash: 18358648176830536558\n",
      "2024-07-24 11:51:35.882394: I tensorflow/core/framework/local_rendezvous.cc:423] Local rendezvous recv item cancelled. Key hash: 5960441218906963302\n",
      "2024-07-24 11:51:35.882397: I tensorflow/core/framework/local_rendezvous.cc:423] Local rendezvous recv item cancelled. Key hash: 3244677876467179166\n",
      "2024-07-24 11:51:35.882400: I tensorflow/core/framework/local_rendezvous.cc:423] Local rendezvous recv item cancelled. Key hash: 14104454438421348292\n",
      "2024-07-24 11:51:35.906812: I tensorflow/core/framework/local_rendezvous.cc:423] Local rendezvous recv item cancelled. Key hash: 3760928453833737392\n",
      "2024-07-24 11:51:35.906825: I tensorflow/core/framework/local_rendezvous.cc:423] Local rendezvous recv item cancelled. Key hash: 13917000608837317702\n",
      "2024-07-24 11:51:35.906835: I tensorflow/core/framework/local_rendezvous.cc:423] Local rendezvous recv item cancelled. Key hash: 10141221434822991174\n",
      "2024-07-24 11:51:35.906838: I tensorflow/core/framework/local_rendezvous.cc:423] Local rendezvous recv item cancelled. Key hash: 6607121185723691025\n",
      "2024-07-24 11:51:35.906849: I tensorflow/core/framework/local_rendezvous.cc:423] Local rendezvous recv item cancelled. Key hash: 15978958992807019649\n",
      "2024-07-24 11:51:35.906855: I tensorflow/core/framework/local_rendezvous.cc:423] Local rendezvous recv item cancelled. Key hash: 4177715030164683947\n",
      "2024-07-24 11:51:35.906860: I tensorflow/core/framework/local_rendezvous.cc:423] Local rendezvous recv item cancelled. Key hash: 17016518748549149906\n"
     ]
    },
    {
     "name": "stdout",
     "output_type": "stream",
     "text": [
      "\u001b[1m42/42\u001b[0m \u001b[32m━━━━━━━━━━━━━━━━━━━━\u001b[0m\u001b[37m\u001b[0m \u001b[1m5s\u001b[0m 117ms/step - accuracy: 0.9554 - auc: 0.9933 - fn: 9.9070 - fp: 9.9070 - loss: 0.1152 - precision: 0.9554 - recall: 0.9554 - tn: 164.7907 - tp: 164.7907 - val_accuracy: 0.9464 - val_auc: 0.9893 - val_fn: 6.0000 - val_fp: 6.0000 - val_loss: 0.1446 - val_precision: 0.9464 - val_recall: 0.9464 - val_tn: 106.0000 - val_tp: 106.0000\n",
      "Epoch 42/50\n",
      "\u001b[1m42/42\u001b[0m \u001b[32m━━━━━━━━━━━━━━━━━━━━\u001b[0m\u001b[37m\u001b[0m \u001b[1m0s\u001b[0m 1ms/step - accuracy: 1.0000 - auc: 1.0000 - fn: 0.0000e+00 - fp: 0.0000e+00 - loss: 0.0683 - precision: 1.0000 - recall: 1.0000 - tn: 8.0000 - tp: 8.0000 - val_accuracy: 1.0000 - val_auc: 1.0000 - val_fn: 0.0000e+00 - val_fp: 0.0000e+00 - val_loss: 0.1138 - val_precision: 1.0000 - val_recall: 1.0000 - val_tn: 2.0000 - val_tp: 2.0000\n",
      "Epoch 43/50\n",
      "\u001b[1m 1/42\u001b[0m \u001b[37m━━━━━━━━━━━━━━━━━━━━\u001b[0m \u001b[1m4s\u001b[0m 116ms/step - accuracy: 1.0000 - auc: 1.0000 - fn: 0.0000e+00 - fp: 0.0000e+00 - loss: 0.0270 - precision: 1.0000 - recall: 1.0000 - tn: 8.0000 - tp: 8.0000"
     ]
    },
    {
     "name": "stderr",
     "output_type": "stream",
     "text": [
      "2024-07-24 11:51:40.949882: I tensorflow/core/framework/local_rendezvous.cc:423] Local rendezvous recv item cancelled. Key hash: 7016282629459583218\n",
      "2024-07-24 11:51:40.949895: I tensorflow/core/framework/local_rendezvous.cc:423] Local rendezvous recv item cancelled. Key hash: 1880315956935049566\n",
      "2024-07-24 11:51:40.949900: I tensorflow/core/framework/local_rendezvous.cc:423] Local rendezvous recv item cancelled. Key hash: 9112748500218708278\n",
      "2024-07-24 11:51:40.949903: I tensorflow/core/framework/local_rendezvous.cc:423] Local rendezvous recv item cancelled. Key hash: 947237233035207760\n",
      "2024-07-24 11:51:40.949905: I tensorflow/core/framework/local_rendezvous.cc:423] Local rendezvous recv item cancelled. Key hash: 1383065497949799395\n",
      "2024-07-24 11:51:40.949913: I tensorflow/core/framework/local_rendezvous.cc:423] Local rendezvous recv item cancelled. Key hash: 15380519210499254842\n",
      "2024-07-24 11:51:40.949923: I tensorflow/core/framework/local_rendezvous.cc:423] Local rendezvous recv item cancelled. Key hash: 15768608472279910053\n",
      "2024-07-24 11:51:40.949933: I tensorflow/core/framework/local_rendezvous.cc:423] Local rendezvous recv item cancelled. Key hash: 2930600443816971478\n",
      "2024-07-24 11:51:40.949941: I tensorflow/core/framework/local_rendezvous.cc:423] Local rendezvous recv item cancelled. Key hash: 11952574714831047347\n",
      "2024-07-24 11:51:40.949951: I tensorflow/core/framework/local_rendezvous.cc:423] Local rendezvous recv item cancelled. Key hash: 15546760133480648130\n",
      "2024-07-24 11:51:40.949954: I tensorflow/core/framework/local_rendezvous.cc:423] Local rendezvous recv item cancelled. Key hash: 4281185063899729373\n",
      "2024-07-24 11:51:40.949957: I tensorflow/core/framework/local_rendezvous.cc:423] Local rendezvous recv item cancelled. Key hash: 15198039565944991606\n",
      "2024-07-24 11:51:40.949959: I tensorflow/core/framework/local_rendezvous.cc:423] Local rendezvous recv item cancelled. Key hash: 7802115701858047337\n",
      "2024-07-24 11:51:40.949961: I tensorflow/core/framework/local_rendezvous.cc:423] Local rendezvous recv item cancelled. Key hash: 15319518697530224520\n",
      "2024-07-24 11:51:40.949964: I tensorflow/core/framework/local_rendezvous.cc:423] Local rendezvous recv item cancelled. Key hash: 13173938544141080941\n",
      "2024-07-24 11:51:40.949966: I tensorflow/core/framework/local_rendezvous.cc:423] Local rendezvous recv item cancelled. Key hash: 15546636043995320706\n",
      "2024-07-24 11:51:40.949968: I tensorflow/core/framework/local_rendezvous.cc:423] Local rendezvous recv item cancelled. Key hash: 11538265683497572899\n",
      "2024-07-24 11:51:40.949970: I tensorflow/core/framework/local_rendezvous.cc:423] Local rendezvous recv item cancelled. Key hash: 679328862287852262\n",
      "2024-07-24 11:51:40.949975: I tensorflow/core/framework/local_rendezvous.cc:423] Local rendezvous recv item cancelled. Key hash: 17657021932063267605\n",
      "2024-07-24 11:51:40.949981: I tensorflow/core/framework/local_rendezvous.cc:423] Local rendezvous recv item cancelled. Key hash: 3596561802965554440\n",
      "2024-07-24 11:51:40.949987: I tensorflow/core/framework/local_rendezvous.cc:423] Local rendezvous recv item cancelled. Key hash: 18255673518761351433\n",
      "2024-07-24 11:51:40.949991: I tensorflow/core/framework/local_rendezvous.cc:423] Local rendezvous recv item cancelled. Key hash: 4879958333095786416\n",
      "2024-07-24 11:51:40.949996: I tensorflow/core/framework/local_rendezvous.cc:423] Local rendezvous recv item cancelled. Key hash: 4709750447546522785\n",
      "2024-07-24 11:51:40.950000: I tensorflow/core/framework/local_rendezvous.cc:423] Local rendezvous recv item cancelled. Key hash: 14805946176245020548\n",
      "2024-07-24 11:51:40.950004: I tensorflow/core/framework/local_rendezvous.cc:423] Local rendezvous recv item cancelled. Key hash: 3893306221038018165\n",
      "2024-07-24 11:51:40.950008: I tensorflow/core/framework/local_rendezvous.cc:423] Local rendezvous recv item cancelled. Key hash: 10063160773300312710\n",
      "2024-07-24 11:51:40.950017: I tensorflow/core/framework/local_rendezvous.cc:423] Local rendezvous recv item cancelled. Key hash: 18358648176830536558\n",
      "2024-07-24 11:51:40.950021: I tensorflow/core/framework/local_rendezvous.cc:423] Local rendezvous recv item cancelled. Key hash: 4536186900066541325\n",
      "2024-07-24 11:51:40.950029: I tensorflow/core/framework/local_rendezvous.cc:423] Local rendezvous recv item cancelled. Key hash: 6544545264921141537\n",
      "2024-07-24 11:51:40.950032: I tensorflow/core/framework/local_rendezvous.cc:423] Local rendezvous recv item cancelled. Key hash: 2841459043334593302\n",
      "2024-07-24 11:51:40.950038: I tensorflow/core/framework/local_rendezvous.cc:423] Local rendezvous recv item cancelled. Key hash: 4739365245678462033\n",
      "2024-07-24 11:51:40.950042: I tensorflow/core/framework/local_rendezvous.cc:423] Local rendezvous recv item cancelled. Key hash: 3244677876467179166\n",
      "2024-07-24 11:51:40.950046: I tensorflow/core/framework/local_rendezvous.cc:423] Local rendezvous recv item cancelled. Key hash: 13464291270602971939\n",
      "2024-07-24 11:51:40.950051: I tensorflow/core/framework/local_rendezvous.cc:423] Local rendezvous recv item cancelled. Key hash: 14104454438421348292\n",
      "2024-07-24 11:51:40.950056: I tensorflow/core/framework/local_rendezvous.cc:423] Local rendezvous recv item cancelled. Key hash: 7297141620674244705\n",
      "2024-07-24 11:51:40.950058: I tensorflow/core/framework/local_rendezvous.cc:423] Local rendezvous recv item cancelled. Key hash: 11684161685995054627\n",
      "2024-07-24 11:51:40.950063: I tensorflow/core/framework/local_rendezvous.cc:423] Local rendezvous recv item cancelled. Key hash: 8716015658963821305\n",
      "2024-07-24 11:51:40.950066: I tensorflow/core/framework/local_rendezvous.cc:423] Local rendezvous recv item cancelled. Key hash: 2690217201294355223\n",
      "2024-07-24 11:51:40.950070: I tensorflow/core/framework/local_rendezvous.cc:423] Local rendezvous recv item cancelled. Key hash: 9143851637127959719\n",
      "2024-07-24 11:51:40.950074: I tensorflow/core/framework/local_rendezvous.cc:423] Local rendezvous recv item cancelled. Key hash: 3898680181337681583\n",
      "2024-07-24 11:51:40.950077: I tensorflow/core/framework/local_rendezvous.cc:423] Local rendezvous recv item cancelled. Key hash: 6771233482863263613\n",
      "2024-07-24 11:51:40.950080: I tensorflow/core/framework/local_rendezvous.cc:423] Local rendezvous recv item cancelled. Key hash: 8063543133116231471\n",
      "2024-07-24 11:51:40.950085: I tensorflow/core/framework/local_rendezvous.cc:423] Local rendezvous recv item cancelled. Key hash: 2265985148321886681\n",
      "2024-07-24 11:51:40.950091: I tensorflow/core/framework/local_rendezvous.cc:423] Local rendezvous recv item cancelled. Key hash: 2349617577263575655\n",
      "2024-07-24 11:51:40.950093: I tensorflow/core/framework/local_rendezvous.cc:423] Local rendezvous recv item cancelled. Key hash: 8469731028185146937\n",
      "2024-07-24 11:51:40.950096: I tensorflow/core/framework/local_rendezvous.cc:423] Local rendezvous recv item cancelled. Key hash: 444809279914062789\n",
      "2024-07-24 11:51:40.950098: I tensorflow/core/framework/local_rendezvous.cc:423] Local rendezvous recv item cancelled. Key hash: 16092320404970843963\n",
      "2024-07-24 11:51:40.950100: I tensorflow/core/framework/local_rendezvous.cc:423] Local rendezvous recv item cancelled. Key hash: 859836513747203897\n",
      "2024-07-24 11:51:40.950104: I tensorflow/core/framework/local_rendezvous.cc:423] Local rendezvous recv item cancelled. Key hash: 10733042269836195989\n",
      "2024-07-24 11:51:40.950108: I tensorflow/core/framework/local_rendezvous.cc:423] Local rendezvous recv item cancelled. Key hash: 1087108310457809581\n",
      "2024-07-24 11:51:40.950111: I tensorflow/core/framework/local_rendezvous.cc:423] Local rendezvous recv item cancelled. Key hash: 7883339172097817469\n",
      "2024-07-24 11:51:40.950118: I tensorflow/core/framework/local_rendezvous.cc:423] Local rendezvous recv item cancelled. Key hash: 16317458952785476389\n",
      "2024-07-24 11:51:40.973851: I tensorflow/core/framework/local_rendezvous.cc:423] Local rendezvous recv item cancelled. Key hash: 6607121185723691025\n",
      "2024-07-24 11:51:40.973865: I tensorflow/core/framework/local_rendezvous.cc:423] Local rendezvous recv item cancelled. Key hash: 15978958992807019649\n",
      "2024-07-24 11:51:40.973869: I tensorflow/core/framework/local_rendezvous.cc:423] Local rendezvous recv item cancelled. Key hash: 4177715030164683947\n",
      "2024-07-24 11:51:40.973875: I tensorflow/core/framework/local_rendezvous.cc:423] Local rendezvous recv item cancelled. Key hash: 13917000608837317702\n",
      "2024-07-24 11:51:40.973877: I tensorflow/core/framework/local_rendezvous.cc:423] Local rendezvous recv item cancelled. Key hash: 8004857405651504014\n",
      "2024-07-24 11:51:40.973880: I tensorflow/core/framework/local_rendezvous.cc:423] Local rendezvous recv item cancelled. Key hash: 3760928453833737392\n",
      "2024-07-24 11:51:40.973883: I tensorflow/core/framework/local_rendezvous.cc:423] Local rendezvous recv item cancelled. Key hash: 10141221434822991174\n",
      "2024-07-24 11:51:40.973886: I tensorflow/core/framework/local_rendezvous.cc:423] Local rendezvous recv item cancelled. Key hash: 17016518748549149906\n"
     ]
    },
    {
     "name": "stdout",
     "output_type": "stream",
     "text": [
      "\u001b[1m42/42\u001b[0m \u001b[32m━━━━━━━━━━━━━━━━━━━━\u001b[0m\u001b[37m\u001b[0m \u001b[1m5s\u001b[0m 121ms/step - accuracy: 0.9376 - auc: 0.9855 - fn: 12.5116 - fp: 12.5116 - loss: 0.1687 - precision: 0.9376 - recall: 0.9376 - tn: 160.9767 - tp: 160.9767 - val_accuracy: 0.6964 - val_auc: 0.8269 - val_fn: 34.0000 - val_fp: 34.0000 - val_loss: 0.5495 - val_precision: 0.6964 - val_recall: 0.6964 - val_tn: 78.0000 - val_tp: 78.0000\n",
      "Epoch 44/50\n",
      "\u001b[1m42/42\u001b[0m \u001b[32m━━━━━━━━━━━━━━━━━━━━\u001b[0m\u001b[37m\u001b[0m \u001b[1m0s\u001b[0m 1ms/step - accuracy: 0.7500 - auc: 0.8438 - fn: 2.0000 - fp: 2.0000 - loss: 0.4098 - precision: 0.7500 - recall: 0.7500 - tn: 6.0000 - tp: 6.0000 - val_accuracy: 0.5000 - val_auc: 0.7500 - val_fn: 1.0000 - val_fp: 1.0000 - val_loss: 0.4633 - val_precision: 0.5000 - val_recall: 0.5000 - val_tn: 1.0000 - val_tp: 1.0000\n",
      "Epoch 45/50\n",
      "\u001b[1m 1/42\u001b[0m \u001b[37m━━━━━━━━━━━━━━━━━━━━\u001b[0m \u001b[1m4s\u001b[0m 107ms/step - accuracy: 1.0000 - auc: 1.0000 - fn: 0.0000e+00 - fp: 0.0000e+00 - loss: 0.1364 - precision: 1.0000 - recall: 1.0000 - tn: 8.0000 - tp: 8.0000"
     ]
    },
    {
     "name": "stderr",
     "output_type": "stream",
     "text": [
      "2024-07-24 11:51:46.177686: I tensorflow/core/framework/local_rendezvous.cc:423] Local rendezvous recv item cancelled. Key hash: 9112748500218708278\n",
      "2024-07-24 11:51:46.177699: I tensorflow/core/framework/local_rendezvous.cc:423] Local rendezvous recv item cancelled. Key hash: 947237233035207760\n",
      "2024-07-24 11:51:46.177706: I tensorflow/core/framework/local_rendezvous.cc:423] Local rendezvous recv item cancelled. Key hash: 7016282629459583218\n",
      "2024-07-24 11:51:46.177709: I tensorflow/core/framework/local_rendezvous.cc:423] Local rendezvous recv item cancelled. Key hash: 1880315956935049566\n",
      "2024-07-24 11:51:46.177714: I tensorflow/core/framework/local_rendezvous.cc:423] Local rendezvous recv item cancelled. Key hash: 679328862287852262\n",
      "2024-07-24 11:51:46.177718: I tensorflow/core/framework/local_rendezvous.cc:423] Local rendezvous recv item cancelled. Key hash: 2930600443816971478\n",
      "2024-07-24 11:51:46.177722: I tensorflow/core/framework/local_rendezvous.cc:423] Local rendezvous recv item cancelled. Key hash: 1383065497949799395\n",
      "2024-07-24 11:51:46.177726: I tensorflow/core/framework/local_rendezvous.cc:423] Local rendezvous recv item cancelled. Key hash: 15768608472279910053\n",
      "2024-07-24 11:51:46.177730: I tensorflow/core/framework/local_rendezvous.cc:423] Local rendezvous recv item cancelled. Key hash: 11952574714831047347\n",
      "2024-07-24 11:51:46.177734: I tensorflow/core/framework/local_rendezvous.cc:423] Local rendezvous recv item cancelled. Key hash: 4281185063899729373\n",
      "2024-07-24 11:51:46.177738: I tensorflow/core/framework/local_rendezvous.cc:423] Local rendezvous recv item cancelled. Key hash: 9143851637127959719\n",
      "2024-07-24 11:51:46.177742: I tensorflow/core/framework/local_rendezvous.cc:423] Local rendezvous recv item cancelled. Key hash: 7802115701858047337\n",
      "2024-07-24 11:51:46.177745: I tensorflow/core/framework/local_rendezvous.cc:423] Local rendezvous recv item cancelled. Key hash: 13173938544141080941\n",
      "2024-07-24 11:51:46.177749: I tensorflow/core/framework/local_rendezvous.cc:423] Local rendezvous recv item cancelled. Key hash: 11538265683497572899\n",
      "2024-07-24 11:51:46.177753: I tensorflow/core/framework/local_rendezvous.cc:423] Local rendezvous recv item cancelled. Key hash: 17657021932063267605\n",
      "2024-07-24 11:51:46.177758: I tensorflow/core/framework/local_rendezvous.cc:423] Local rendezvous recv item cancelled. Key hash: 18255673518761351433\n",
      "2024-07-24 11:51:46.177762: I tensorflow/core/framework/local_rendezvous.cc:423] Local rendezvous recv item cancelled. Key hash: 4709750447546522785\n",
      "2024-07-24 11:51:46.177765: I tensorflow/core/framework/local_rendezvous.cc:423] Local rendezvous recv item cancelled. Key hash: 3893306221038018165\n",
      "2024-07-24 11:51:46.177769: I tensorflow/core/framework/local_rendezvous.cc:423] Local rendezvous recv item cancelled. Key hash: 4536186900066541325\n",
      "2024-07-24 11:51:46.177772: I tensorflow/core/framework/local_rendezvous.cc:423] Local rendezvous recv item cancelled. Key hash: 6544545264921141537\n",
      "2024-07-24 11:51:46.177776: I tensorflow/core/framework/local_rendezvous.cc:423] Local rendezvous recv item cancelled. Key hash: 8716015658963821305\n",
      "2024-07-24 11:51:46.177778: I tensorflow/core/framework/local_rendezvous.cc:423] Local rendezvous recv item cancelled. Key hash: 4739365245678462033\n",
      "2024-07-24 11:51:46.177781: I tensorflow/core/framework/local_rendezvous.cc:423] Local rendezvous recv item cancelled. Key hash: 13464291270602971939\n",
      "2024-07-24 11:51:46.177784: I tensorflow/core/framework/local_rendezvous.cc:423] Local rendezvous recv item cancelled. Key hash: 11684161685995054627\n",
      "2024-07-24 11:51:46.177787: I tensorflow/core/framework/local_rendezvous.cc:423] Local rendezvous recv item cancelled. Key hash: 8469731028185146937\n",
      "2024-07-24 11:51:46.177791: I tensorflow/core/framework/local_rendezvous.cc:423] Local rendezvous recv item cancelled. Key hash: 2690217201294355223\n",
      "2024-07-24 11:51:46.177795: I tensorflow/core/framework/local_rendezvous.cc:423] Local rendezvous recv item cancelled. Key hash: 3898680181337681583\n",
      "2024-07-24 11:51:46.177800: I tensorflow/core/framework/local_rendezvous.cc:423] Local rendezvous recv item cancelled. Key hash: 16092320404970843963\n",
      "2024-07-24 11:51:46.177806: I tensorflow/core/framework/local_rendezvous.cc:423] Local rendezvous recv item cancelled. Key hash: 8063543133116231471\n",
      "2024-07-24 11:51:46.177810: I tensorflow/core/framework/local_rendezvous.cc:423] Local rendezvous recv item cancelled. Key hash: 2265985148321886681\n",
      "2024-07-24 11:51:46.177814: I tensorflow/core/framework/local_rendezvous.cc:423] Local rendezvous recv item cancelled. Key hash: 2349617577263575655\n",
      "2024-07-24 11:51:46.177819: I tensorflow/core/framework/local_rendezvous.cc:423] Local rendezvous recv item cancelled. Key hash: 7297141620674244705\n",
      "2024-07-24 11:51:46.177823: I tensorflow/core/framework/local_rendezvous.cc:423] Local rendezvous recv item cancelled. Key hash: 444809279914062789\n",
      "2024-07-24 11:51:46.177827: I tensorflow/core/framework/local_rendezvous.cc:423] Local rendezvous recv item cancelled. Key hash: 10733042269836195989\n",
      "2024-07-24 11:51:46.177830: I tensorflow/core/framework/local_rendezvous.cc:423] Local rendezvous recv item cancelled. Key hash: 1087108310457809581\n",
      "2024-07-24 11:51:46.177833: I tensorflow/core/framework/local_rendezvous.cc:423] Local rendezvous recv item cancelled. Key hash: 16317458952785476389\n",
      "2024-07-24 11:51:46.177837: I tensorflow/core/framework/local_rendezvous.cc:423] Local rendezvous recv item cancelled. Key hash: 7883339172097817469\n",
      "2024-07-24 11:51:46.177840: I tensorflow/core/framework/local_rendezvous.cc:423] Local rendezvous recv item cancelled. Key hash: 6771233482863263613\n",
      "2024-07-24 11:51:46.177854: I tensorflow/core/framework/local_rendezvous.cc:423] Local rendezvous recv item cancelled. Key hash: 15380519210499254842\n",
      "2024-07-24 11:51:46.177858: I tensorflow/core/framework/local_rendezvous.cc:423] Local rendezvous recv item cancelled. Key hash: 15546760133480648130\n",
      "2024-07-24 11:51:46.177862: I tensorflow/core/framework/local_rendezvous.cc:423] Local rendezvous recv item cancelled. Key hash: 15198039565944991606\n",
      "2024-07-24 11:51:46.177866: I tensorflow/core/framework/local_rendezvous.cc:423] Local rendezvous recv item cancelled. Key hash: 15319518697530224520\n",
      "2024-07-24 11:51:46.177870: I tensorflow/core/framework/local_rendezvous.cc:423] Local rendezvous recv item cancelled. Key hash: 15546636043995320706\n",
      "2024-07-24 11:51:46.177873: I tensorflow/core/framework/local_rendezvous.cc:423] Local rendezvous recv item cancelled. Key hash: 4879958333095786416\n",
      "2024-07-24 11:51:46.177876: I tensorflow/core/framework/local_rendezvous.cc:423] Local rendezvous recv item cancelled. Key hash: 14805946176245020548\n",
      "2024-07-24 11:51:46.177879: I tensorflow/core/framework/local_rendezvous.cc:423] Local rendezvous recv item cancelled. Key hash: 10063160773300312710\n",
      "2024-07-24 11:51:46.177883: I tensorflow/core/framework/local_rendezvous.cc:423] Local rendezvous recv item cancelled. Key hash: 2841459043334593302\n",
      "2024-07-24 11:51:46.177887: I tensorflow/core/framework/local_rendezvous.cc:423] Local rendezvous recv item cancelled. Key hash: 18358648176830536558\n",
      "2024-07-24 11:51:46.177889: I tensorflow/core/framework/local_rendezvous.cc:423] Local rendezvous recv item cancelled. Key hash: 3244677876467179166\n",
      "2024-07-24 11:51:46.177893: I tensorflow/core/framework/local_rendezvous.cc:423] Local rendezvous recv item cancelled. Key hash: 14104454438421348292\n",
      "2024-07-24 11:51:46.202355: I tensorflow/core/framework/local_rendezvous.cc:423] Local rendezvous recv item cancelled. Key hash: 6607121185723691025\n",
      "2024-07-24 11:51:46.202369: I tensorflow/core/framework/local_rendezvous.cc:423] Local rendezvous recv item cancelled. Key hash: 15978958992807019649\n",
      "2024-07-24 11:51:46.202375: I tensorflow/core/framework/local_rendezvous.cc:423] Local rendezvous recv item cancelled. Key hash: 4177715030164683947\n",
      "2024-07-24 11:51:46.202380: I tensorflow/core/framework/local_rendezvous.cc:423] Local rendezvous recv item cancelled. Key hash: 13917000608837317702\n",
      "2024-07-24 11:51:46.202383: I tensorflow/core/framework/local_rendezvous.cc:423] Local rendezvous recv item cancelled. Key hash: 8004857405651504014\n",
      "2024-07-24 11:51:46.202386: I tensorflow/core/framework/local_rendezvous.cc:423] Local rendezvous recv item cancelled. Key hash: 3760928453833737392\n",
      "2024-07-24 11:51:46.202390: I tensorflow/core/framework/local_rendezvous.cc:423] Local rendezvous recv item cancelled. Key hash: 10141221434822991174\n",
      "2024-07-24 11:51:46.202393: I tensorflow/core/framework/local_rendezvous.cc:423] Local rendezvous recv item cancelled. Key hash: 17016518748549149906\n"
     ]
    },
    {
     "name": "stdout",
     "output_type": "stream",
     "text": [
      "\u001b[1m42/42\u001b[0m \u001b[32m━━━━━━━━━━━━━━━━━━━━\u001b[0m\u001b[37m\u001b[0m \u001b[1m5s\u001b[0m 114ms/step - accuracy: 0.9016 - auc: 0.9756 - fn: 16.2093 - fp: 16.2093 - loss: 0.2056 - precision: 0.9016 - recall: 0.9016 - tn: 156.3488 - tp: 156.3488 - val_accuracy: 0.7500 - val_auc: 0.8369 - val_fn: 28.0000 - val_fp: 28.0000 - val_loss: 0.8758 - val_precision: 0.7500 - val_recall: 0.7500 - val_tn: 84.0000 - val_tp: 84.0000\n",
      "Epoch 46/50\n",
      "\u001b[1m42/42\u001b[0m \u001b[32m━━━━━━━━━━━━━━━━━━━━\u001b[0m\u001b[37m\u001b[0m \u001b[1m0s\u001b[0m 1ms/step - accuracy: 0.7500 - auc: 0.8750 - fn: 2.0000 - fp: 2.0000 - loss: 0.4917 - precision: 0.7500 - recall: 0.7500 - tn: 6.0000 - tp: 6.0000 - val_accuracy: 1.0000 - val_auc: 1.0000 - val_fn: 0.0000e+00 - val_fp: 0.0000e+00 - val_loss: 0.0161 - val_precision: 1.0000 - val_recall: 1.0000 - val_tn: 2.0000 - val_tp: 2.0000\n",
      "Epoch 47/50\n",
      "\u001b[1m 1/42\u001b[0m \u001b[37m━━━━━━━━━━━━━━━━━━━━\u001b[0m \u001b[1m4s\u001b[0m 109ms/step - accuracy: 1.0000 - auc: 1.0000 - fn: 0.0000e+00 - fp: 0.0000e+00 - loss: 0.0666 - precision: 1.0000 - recall: 1.0000 - tn: 8.0000 - tp: 8.0000"
     ]
    },
    {
     "name": "stderr",
     "output_type": "stream",
     "text": [
      "2024-07-24 11:51:51.125459: I tensorflow/core/framework/local_rendezvous.cc:423] Local rendezvous recv item cancelled. Key hash: 7016282629459583218\n",
      "2024-07-24 11:51:51.125473: I tensorflow/core/framework/local_rendezvous.cc:423] Local rendezvous recv item cancelled. Key hash: 1880315956935049566\n",
      "2024-07-24 11:51:51.125477: I tensorflow/core/framework/local_rendezvous.cc:423] Local rendezvous recv item cancelled. Key hash: 947237233035207760\n",
      "2024-07-24 11:51:51.125492: I tensorflow/core/framework/local_rendezvous.cc:423] Local rendezvous recv item cancelled. Key hash: 2930600443816971478\n",
      "2024-07-24 11:51:51.125499: I tensorflow/core/framework/local_rendezvous.cc:423] Local rendezvous recv item cancelled. Key hash: 15546760133480648130\n",
      "2024-07-24 11:51:51.125503: I tensorflow/core/framework/local_rendezvous.cc:423] Local rendezvous recv item cancelled. Key hash: 15198039565944991606\n",
      "2024-07-24 11:51:51.125507: I tensorflow/core/framework/local_rendezvous.cc:423] Local rendezvous recv item cancelled. Key hash: 15319518697530224520\n",
      "2024-07-24 11:51:51.125510: I tensorflow/core/framework/local_rendezvous.cc:423] Local rendezvous recv item cancelled. Key hash: 1383065497949799395\n",
      "2024-07-24 11:51:51.125518: I tensorflow/core/framework/local_rendezvous.cc:423] Local rendezvous recv item cancelled. Key hash: 15768608472279910053\n",
      "2024-07-24 11:51:51.125521: I tensorflow/core/framework/local_rendezvous.cc:423] Local rendezvous recv item cancelled. Key hash: 15546636043995320706\n",
      "2024-07-24 11:51:51.125527: I tensorflow/core/framework/local_rendezvous.cc:423] Local rendezvous recv item cancelled. Key hash: 4281185063899729373\n",
      "2024-07-24 11:51:51.125535: I tensorflow/core/framework/local_rendezvous.cc:423] Local rendezvous recv item cancelled. Key hash: 9143851637127959719\n",
      "2024-07-24 11:51:51.125540: I tensorflow/core/framework/local_rendezvous.cc:423] Local rendezvous recv item cancelled. Key hash: 7802115701858047337\n",
      "2024-07-24 11:51:51.125554: I tensorflow/core/framework/local_rendezvous.cc:423] Local rendezvous recv item cancelled. Key hash: 13173938544141080941\n",
      "2024-07-24 11:51:51.125559: I tensorflow/core/framework/local_rendezvous.cc:423] Local rendezvous recv item cancelled. Key hash: 679328862287852262\n",
      "2024-07-24 11:51:51.125566: I tensorflow/core/framework/local_rendezvous.cc:423] Local rendezvous recv item cancelled. Key hash: 11538265683497572899\n",
      "2024-07-24 11:51:51.125571: I tensorflow/core/framework/local_rendezvous.cc:423] Local rendezvous recv item cancelled. Key hash: 14805946176245020548\n",
      "2024-07-24 11:51:51.125578: I tensorflow/core/framework/local_rendezvous.cc:423] Local rendezvous recv item cancelled. Key hash: 17657021932063267605\n",
      "2024-07-24 11:51:51.125587: I tensorflow/core/framework/local_rendezvous.cc:423] Local rendezvous recv item cancelled. Key hash: 4709750447546522785\n",
      "2024-07-24 11:51:51.125589: I tensorflow/core/framework/local_rendezvous.cc:423] Local rendezvous recv item cancelled. Key hash: 4879958333095786416\n",
      "2024-07-24 11:51:51.125596: I tensorflow/core/framework/local_rendezvous.cc:423] Local rendezvous recv item cancelled. Key hash: 13464291270602971939\n",
      "2024-07-24 11:51:51.125601: I tensorflow/core/framework/local_rendezvous.cc:423] Local rendezvous recv item cancelled. Key hash: 10063160773300312710\n",
      "2024-07-24 11:51:51.125605: I tensorflow/core/framework/local_rendezvous.cc:423] Local rendezvous recv item cancelled. Key hash: 4536186900066541325\n",
      "2024-07-24 11:51:51.125609: I tensorflow/core/framework/local_rendezvous.cc:423] Local rendezvous recv item cancelled. Key hash: 2841459043334593302\n",
      "2024-07-24 11:51:51.125612: I tensorflow/core/framework/local_rendezvous.cc:423] Local rendezvous recv item cancelled. Key hash: 6544545264921141537\n",
      "2024-07-24 11:51:51.125615: I tensorflow/core/framework/local_rendezvous.cc:423] Local rendezvous recv item cancelled. Key hash: 18358648176830536558\n",
      "2024-07-24 11:51:51.125620: I tensorflow/core/framework/local_rendezvous.cc:423] Local rendezvous recv item cancelled. Key hash: 14104454438421348292\n",
      "2024-07-24 11:51:51.125629: I tensorflow/core/framework/local_rendezvous.cc:423] Local rendezvous recv item cancelled. Key hash: 8716015658963821305\n",
      "2024-07-24 11:51:51.125635: I tensorflow/core/framework/local_rendezvous.cc:423] Local rendezvous recv item cancelled. Key hash: 18255673518761351433\n",
      "2024-07-24 11:51:51.125639: I tensorflow/core/framework/local_rendezvous.cc:423] Local rendezvous recv item cancelled. Key hash: 4739365245678462033\n",
      "2024-07-24 11:51:51.125643: I tensorflow/core/framework/local_rendezvous.cc:423] Local rendezvous recv item cancelled. Key hash: 11684161685995054627\n",
      "2024-07-24 11:51:51.125646: I tensorflow/core/framework/local_rendezvous.cc:423] Local rendezvous recv item cancelled. Key hash: 8469731028185146937\n",
      "2024-07-24 11:51:51.125650: I tensorflow/core/framework/local_rendezvous.cc:423] Local rendezvous recv item cancelled. Key hash: 3893306221038018165\n",
      "2024-07-24 11:51:51.125653: I tensorflow/core/framework/local_rendezvous.cc:423] Local rendezvous recv item cancelled. Key hash: 2690217201294355223\n",
      "2024-07-24 11:51:51.125656: I tensorflow/core/framework/local_rendezvous.cc:423] Local rendezvous recv item cancelled. Key hash: 3898680181337681583\n",
      "2024-07-24 11:51:51.125659: I tensorflow/core/framework/local_rendezvous.cc:423] Local rendezvous recv item cancelled. Key hash: 8063543133116231471\n",
      "2024-07-24 11:51:51.125661: I tensorflow/core/framework/local_rendezvous.cc:423] Local rendezvous recv item cancelled. Key hash: 16092320404970843963\n",
      "2024-07-24 11:51:51.125664: I tensorflow/core/framework/local_rendezvous.cc:423] Local rendezvous recv item cancelled. Key hash: 7297141620674244705\n",
      "2024-07-24 11:51:51.125667: I tensorflow/core/framework/local_rendezvous.cc:423] Local rendezvous recv item cancelled. Key hash: 2349617577263575655\n",
      "2024-07-24 11:51:51.125670: I tensorflow/core/framework/local_rendezvous.cc:423] Local rendezvous recv item cancelled. Key hash: 444809279914062789\n",
      "2024-07-24 11:51:51.125673: I tensorflow/core/framework/local_rendezvous.cc:423] Local rendezvous recv item cancelled. Key hash: 2265985148321886681\n",
      "2024-07-24 11:51:51.125676: I tensorflow/core/framework/local_rendezvous.cc:423] Local rendezvous recv item cancelled. Key hash: 10733042269836195989\n",
      "2024-07-24 11:51:51.125679: I tensorflow/core/framework/local_rendezvous.cc:423] Local rendezvous recv item cancelled. Key hash: 1087108310457809581\n",
      "2024-07-24 11:51:51.125682: I tensorflow/core/framework/local_rendezvous.cc:423] Local rendezvous recv item cancelled. Key hash: 16317458952785476389\n",
      "2024-07-24 11:51:51.125685: I tensorflow/core/framework/local_rendezvous.cc:423] Local rendezvous recv item cancelled. Key hash: 7883339172097817469\n",
      "2024-07-24 11:51:51.125690: I tensorflow/core/framework/local_rendezvous.cc:423] Local rendezvous recv item cancelled. Key hash: 6771233482863263613\n",
      "2024-07-24 11:51:51.151499: I tensorflow/core/framework/local_rendezvous.cc:423] Local rendezvous recv item cancelled. Key hash: 6607121185723691025\n",
      "2024-07-24 11:51:51.151508: I tensorflow/core/framework/local_rendezvous.cc:423] Local rendezvous recv item cancelled. Key hash: 15978958992807019649\n",
      "2024-07-24 11:51:51.151512: I tensorflow/core/framework/local_rendezvous.cc:423] Local rendezvous recv item cancelled. Key hash: 4177715030164683947\n",
      "2024-07-24 11:51:51.151517: I tensorflow/core/framework/local_rendezvous.cc:423] Local rendezvous recv item cancelled. Key hash: 8004857405651504014\n",
      "2024-07-24 11:51:51.151519: I tensorflow/core/framework/local_rendezvous.cc:423] Local rendezvous recv item cancelled. Key hash: 3760928453833737392\n",
      "2024-07-24 11:51:51.151522: I tensorflow/core/framework/local_rendezvous.cc:423] Local rendezvous recv item cancelled. Key hash: 17016518748549149906\n",
      "2024-07-24 11:51:51.151525: I tensorflow/core/framework/local_rendezvous.cc:423] Local rendezvous recv item cancelled. Key hash: 10141221434822991174\n",
      "2024-07-24 11:51:51.151527: I tensorflow/core/framework/local_rendezvous.cc:423] Local rendezvous recv item cancelled. Key hash: 13917000608837317702\n"
     ]
    },
    {
     "name": "stdout",
     "output_type": "stream",
     "text": [
      "\u001b[1m42/42\u001b[0m \u001b[32m━━━━━━━━━━━━━━━━━━━━\u001b[0m\u001b[37m\u001b[0m \u001b[1m5s\u001b[0m 114ms/step - accuracy: 0.9465 - auc: 0.9828 - fn: 10.6512 - fp: 10.6512 - loss: 0.1587 - precision: 0.9465 - recall: 0.9465 - tn: 161.7209 - tp: 161.7209 - val_accuracy: 0.6696 - val_auc: 0.7372 - val_fn: 37.0000 - val_fp: 37.0000 - val_loss: 1.3246 - val_precision: 0.6696 - val_recall: 0.6696 - val_tn: 75.0000 - val_tp: 75.0000\n",
      "Epoch 48/50\n",
      "\u001b[1m42/42\u001b[0m \u001b[32m━━━━━━━━━━━━━━━━━━━━\u001b[0m\u001b[37m\u001b[0m \u001b[1m0s\u001b[0m 1ms/step - accuracy: 1.0000 - auc: 1.0000 - fn: 0.0000e+00 - fp: 0.0000e+00 - loss: 0.0569 - precision: 1.0000 - recall: 1.0000 - tn: 8.0000 - tp: 8.0000 - val_accuracy: 1.0000 - val_auc: 1.0000 - val_fn: 0.0000e+00 - val_fp: 0.0000e+00 - val_loss: 0.0147 - val_precision: 1.0000 - val_recall: 1.0000 - val_tn: 2.0000 - val_tp: 2.0000\n",
      "Epoch 49/50\n",
      "\u001b[1m 1/42\u001b[0m \u001b[37m━━━━━━━━━━━━━━━━━━━━\u001b[0m \u001b[1m4s\u001b[0m 110ms/step - accuracy: 1.0000 - auc: 1.0000 - fn: 0.0000e+00 - fp: 0.0000e+00 - loss: 0.0227 - precision: 1.0000 - recall: 1.0000 - tn: 8.0000 - tp: 8.0000"
     ]
    },
    {
     "name": "stderr",
     "output_type": "stream",
     "text": [
      "2024-07-24 11:51:56.083023: I tensorflow/core/framework/local_rendezvous.cc:423] Local rendezvous recv item cancelled. Key hash: 7016282629459583218\n",
      "2024-07-24 11:51:56.083035: I tensorflow/core/framework/local_rendezvous.cc:423] Local rendezvous recv item cancelled. Key hash: 679328862287852262\n",
      "2024-07-24 11:51:56.083039: I tensorflow/core/framework/local_rendezvous.cc:423] Local rendezvous recv item cancelled. Key hash: 2841459043334593302\n",
      "2024-07-24 11:51:56.083047: I tensorflow/core/framework/local_rendezvous.cc:423] Local rendezvous recv item cancelled. Key hash: 2930600443816971478\n",
      "2024-07-24 11:51:56.083051: I tensorflow/core/framework/local_rendezvous.cc:423] Local rendezvous recv item cancelled. Key hash: 15546760133480648130\n",
      "2024-07-24 11:51:56.083054: I tensorflow/core/framework/local_rendezvous.cc:423] Local rendezvous recv item cancelled. Key hash: 4879958333095786416\n",
      "2024-07-24 11:51:56.083059: I tensorflow/core/framework/local_rendezvous.cc:423] Local rendezvous recv item cancelled. Key hash: 1383065497949799395\n",
      "2024-07-24 11:51:56.083062: I tensorflow/core/framework/local_rendezvous.cc:423] Local rendezvous recv item cancelled. Key hash: 4739365245678462033\n",
      "2024-07-24 11:51:56.083064: I tensorflow/core/framework/local_rendezvous.cc:423] Local rendezvous recv item cancelled. Key hash: 3244677876467179166\n",
      "2024-07-24 11:51:56.083073: I tensorflow/core/framework/local_rendezvous.cc:423] Local rendezvous recv item cancelled. Key hash: 15319518697530224520\n",
      "2024-07-24 11:51:56.083085: I tensorflow/core/framework/local_rendezvous.cc:423] Local rendezvous recv item cancelled. Key hash: 15768608472279910053\n",
      "2024-07-24 11:51:56.083100: I tensorflow/core/framework/local_rendezvous.cc:423] Local rendezvous recv item cancelled. Key hash: 11684161685995054627\n",
      "2024-07-24 11:51:56.083104: I tensorflow/core/framework/local_rendezvous.cc:423] Local rendezvous recv item cancelled. Key hash: 4281185063899729373\n",
      "2024-07-24 11:51:56.083108: I tensorflow/core/framework/local_rendezvous.cc:423] Local rendezvous recv item cancelled. Key hash: 16092320404970843963\n",
      "2024-07-24 11:51:56.083111: I tensorflow/core/framework/local_rendezvous.cc:423] Local rendezvous recv item cancelled. Key hash: 2349617577263575655\n",
      "2024-07-24 11:51:56.083114: I tensorflow/core/framework/local_rendezvous.cc:423] Local rendezvous recv item cancelled. Key hash: 9143851637127959719\n",
      "2024-07-24 11:51:56.083117: I tensorflow/core/framework/local_rendezvous.cc:423] Local rendezvous recv item cancelled. Key hash: 10733042269836195989\n",
      "2024-07-24 11:51:56.083121: I tensorflow/core/framework/local_rendezvous.cc:423] Local rendezvous recv item cancelled. Key hash: 13173938544141080941\n",
      "2024-07-24 11:51:56.083124: I tensorflow/core/framework/local_rendezvous.cc:423] Local rendezvous recv item cancelled. Key hash: 17657021932063267605\n",
      "2024-07-24 11:51:56.083126: I tensorflow/core/framework/local_rendezvous.cc:423] Local rendezvous recv item cancelled. Key hash: 16317458952785476389\n",
      "2024-07-24 11:51:56.083129: I tensorflow/core/framework/local_rendezvous.cc:423] Local rendezvous recv item cancelled. Key hash: 6771233482863263613\n",
      "2024-07-24 11:51:56.108575: I tensorflow/core/framework/local_rendezvous.cc:423] Local rendezvous recv item cancelled. Key hash: 2676786092006941010\n",
      "2024-07-24 11:51:56.108587: I tensorflow/core/framework/local_rendezvous.cc:423] Local rendezvous recv item cancelled. Key hash: 13917000608837317702\n",
      "2024-07-24 11:51:56.108589: I tensorflow/core/framework/local_rendezvous.cc:423] Local rendezvous recv item cancelled. Key hash: 6607121185723691025\n",
      "2024-07-24 11:51:56.108601: I tensorflow/core/framework/local_rendezvous.cc:423] Local rendezvous recv item cancelled. Key hash: 15978958992807019649\n",
      "2024-07-24 11:51:56.108606: I tensorflow/core/framework/local_rendezvous.cc:423] Local rendezvous recv item cancelled. Key hash: 4177715030164683947\n",
      "2024-07-24 11:51:56.108609: I tensorflow/core/framework/local_rendezvous.cc:423] Local rendezvous recv item cancelled. Key hash: 8004857405651504014\n",
      "2024-07-24 11:51:56.108617: I tensorflow/core/framework/local_rendezvous.cc:423] Local rendezvous recv item cancelled. Key hash: 3760928453833737392\n",
      "2024-07-24 11:51:56.108622: I tensorflow/core/framework/local_rendezvous.cc:423] Local rendezvous recv item cancelled. Key hash: 10141221434822991174\n",
      "2024-07-24 11:51:56.108625: I tensorflow/core/framework/local_rendezvous.cc:423] Local rendezvous recv item cancelled. Key hash: 17016518748549149906\n"
     ]
    },
    {
     "name": "stdout",
     "output_type": "stream",
     "text": [
      "\u001b[1m42/42\u001b[0m \u001b[32m━━━━━━━━━━━━━━━━━━━━\u001b[0m\u001b[37m\u001b[0m \u001b[1m5s\u001b[0m 114ms/step - accuracy: 0.9404 - auc: 0.9875 - fn: 11.0000 - fp: 11.0000 - loss: 0.1541 - precision: 0.9404 - recall: 0.9404 - tn: 162.0233 - tp: 162.0233 - val_accuracy: 0.7679 - val_auc: 0.8722 - val_fn: 26.0000 - val_fp: 26.0000 - val_loss: 0.7098 - val_precision: 0.7679 - val_recall: 0.7679 - val_tn: 86.0000 - val_tp: 86.0000\n",
      "Epoch 50/50\n",
      "\u001b[1m42/42\u001b[0m \u001b[32m━━━━━━━━━━━━━━━━━━━━\u001b[0m\u001b[37m\u001b[0m \u001b[1m0s\u001b[0m 1ms/step - accuracy: 1.0000 - auc: 1.0000 - fn: 0.0000e+00 - fp: 0.0000e+00 - loss: 0.0787 - precision: 1.0000 - recall: 1.0000 - tn: 8.0000 - tp: 8.0000 - val_accuracy: 1.0000 - val_auc: 1.0000 - val_fn: 0.0000e+00 - val_fp: 0.0000e+00 - val_loss: 0.0235 - val_precision: 1.0000 - val_recall: 1.0000 - val_tn: 2.0000 - val_tp: 2.0000\n"
     ]
    },
    {
     "name": "stderr",
     "output_type": "stream",
     "text": [
      "2024-07-24 11:52:01.070969: I tensorflow/core/framework/local_rendezvous.cc:423] Local rendezvous recv item cancelled. Key hash: 1383065497949799395\n",
      "2024-07-24 11:52:01.070982: I tensorflow/core/framework/local_rendezvous.cc:423] Local rendezvous recv item cancelled. Key hash: 7016282629459583218\n",
      "2024-07-24 11:52:01.070995: I tensorflow/core/framework/local_rendezvous.cc:423] Local rendezvous recv item cancelled. Key hash: 15768608472279910053\n",
      "2024-07-24 11:52:01.071000: I tensorflow/core/framework/local_rendezvous.cc:423] Local rendezvous recv item cancelled. Key hash: 1880315956935049566\n",
      "2024-07-24 11:52:01.071008: I tensorflow/core/framework/local_rendezvous.cc:423] Local rendezvous recv item cancelled. Key hash: 11952574714831047347\n",
      "2024-07-24 11:52:01.071012: I tensorflow/core/framework/local_rendezvous.cc:423] Local rendezvous recv item cancelled. Key hash: 9112748500218708278\n",
      "2024-07-24 11:52:01.071019: I tensorflow/core/framework/local_rendezvous.cc:423] Local rendezvous recv item cancelled. Key hash: 4281185063899729373\n",
      "2024-07-24 11:52:01.071030: I tensorflow/core/framework/local_rendezvous.cc:423] Local rendezvous recv item cancelled. Key hash: 7735001053712973906\n",
      "2024-07-24 11:52:01.071038: I tensorflow/core/framework/local_rendezvous.cc:423] Local rendezvous recv item cancelled. Key hash: 947237233035207760\n",
      "2024-07-24 11:52:01.071042: I tensorflow/core/framework/local_rendezvous.cc:423] Local rendezvous recv item cancelled. Key hash: 15380519210499254842\n",
      "2024-07-24 11:52:01.071045: I tensorflow/core/framework/local_rendezvous.cc:423] Local rendezvous recv item cancelled. Key hash: 2930600443816971478\n",
      "2024-07-24 11:52:01.071049: I tensorflow/core/framework/local_rendezvous.cc:423] Local rendezvous recv item cancelled. Key hash: 15546760133480648130\n",
      "2024-07-24 11:52:01.071053: I tensorflow/core/framework/local_rendezvous.cc:423] Local rendezvous recv item cancelled. Key hash: 12260003450537799090\n",
      "2024-07-24 11:52:01.071057: I tensorflow/core/framework/local_rendezvous.cc:423] Local rendezvous recv item cancelled. Key hash: 9143851637127959719\n",
      "2024-07-24 11:52:01.071067: I tensorflow/core/framework/local_rendezvous.cc:423] Local rendezvous recv item cancelled. Key hash: 7802115701858047337\n",
      "2024-07-24 11:52:01.071069: I tensorflow/core/framework/local_rendezvous.cc:423] Local rendezvous recv item cancelled. Key hash: 15319518697530224520\n",
      "2024-07-24 11:52:01.071081: I tensorflow/core/framework/local_rendezvous.cc:423] Local rendezvous recv item cancelled. Key hash: 15198039565944991606\n",
      "2024-07-24 11:52:01.071087: I tensorflow/core/framework/local_rendezvous.cc:423] Local rendezvous recv item cancelled. Key hash: 15546636043995320706\n",
      "2024-07-24 11:52:01.071093: I tensorflow/core/framework/local_rendezvous.cc:423] Local rendezvous recv item cancelled. Key hash: 679328862287852262\n",
      "2024-07-24 11:52:01.071098: I tensorflow/core/framework/local_rendezvous.cc:423] Local rendezvous recv item cancelled. Key hash: 3596561802965554440\n",
      "2024-07-24 11:52:01.071103: I tensorflow/core/framework/local_rendezvous.cc:423] Local rendezvous recv item cancelled. Key hash: 4879958333095786416\n",
      "2024-07-24 11:52:01.071107: I tensorflow/core/framework/local_rendezvous.cc:423] Local rendezvous recv item cancelled. Key hash: 13173938544141080941\n",
      "2024-07-24 11:52:01.071115: I tensorflow/core/framework/local_rendezvous.cc:423] Local rendezvous recv item cancelled. Key hash: 18255673518761351433\n",
      "2024-07-24 11:52:01.071117: I tensorflow/core/framework/local_rendezvous.cc:423] Local rendezvous recv item cancelled. Key hash: 14805946176245020548\n",
      "2024-07-24 11:52:01.071124: I tensorflow/core/framework/local_rendezvous.cc:423] Local rendezvous recv item cancelled. Key hash: 10063160773300312710\n",
      "2024-07-24 11:52:01.071126: I tensorflow/core/framework/local_rendezvous.cc:423] Local rendezvous recv item cancelled. Key hash: 17657021932063267605\n",
      "2024-07-24 11:52:01.071133: I tensorflow/core/framework/local_rendezvous.cc:423] Local rendezvous recv item cancelled. Key hash: 2841459043334593302\n",
      "2024-07-24 11:52:01.071145: I tensorflow/core/framework/local_rendezvous.cc:423] Local rendezvous recv item cancelled. Key hash: 13464291270602971939\n",
      "2024-07-24 11:52:01.071151: I tensorflow/core/framework/local_rendezvous.cc:423] Local rendezvous recv item cancelled. Key hash: 18358648176830536558\n",
      "2024-07-24 11:52:01.071157: I tensorflow/core/framework/local_rendezvous.cc:423] Local rendezvous recv item cancelled. Key hash: 4536186900066541325\n",
      "2024-07-24 11:52:01.071163: I tensorflow/core/framework/local_rendezvous.cc:423] Local rendezvous recv item cancelled. Key hash: 3244677876467179166\n",
      "2024-07-24 11:52:01.071168: I tensorflow/core/framework/local_rendezvous.cc:423] Local rendezvous recv item cancelled. Key hash: 6544545264921141537\n",
      "2024-07-24 11:52:01.071172: I tensorflow/core/framework/local_rendezvous.cc:423] Local rendezvous recv item cancelled. Key hash: 14104454438421348292\n",
      "2024-07-24 11:52:01.071175: I tensorflow/core/framework/local_rendezvous.cc:423] Local rendezvous recv item cancelled. Key hash: 8716015658963821305\n",
      "2024-07-24 11:52:01.071177: I tensorflow/core/framework/local_rendezvous.cc:423] Local rendezvous recv item cancelled. Key hash: 2690217201294355223\n",
      "2024-07-24 11:52:01.071179: I tensorflow/core/framework/local_rendezvous.cc:423] Local rendezvous recv item cancelled. Key hash: 4739365245678462033\n",
      "2024-07-24 11:52:01.071182: I tensorflow/core/framework/local_rendezvous.cc:423] Local rendezvous recv item cancelled. Key hash: 1087108310457809581\n",
      "2024-07-24 11:52:01.071186: I tensorflow/core/framework/local_rendezvous.cc:423] Local rendezvous recv item cancelled. Key hash: 11684161685995054627\n",
      "2024-07-24 11:52:01.071190: I tensorflow/core/framework/local_rendezvous.cc:423] Local rendezvous recv item cancelled. Key hash: 11538265683497572899\n",
      "2024-07-24 11:52:01.071193: I tensorflow/core/framework/local_rendezvous.cc:423] Local rendezvous recv item cancelled. Key hash: 3898680181337681583\n",
      "2024-07-24 11:52:01.071197: I tensorflow/core/framework/local_rendezvous.cc:423] Local rendezvous recv item cancelled. Key hash: 4709750447546522785\n",
      "2024-07-24 11:52:01.071201: I tensorflow/core/framework/local_rendezvous.cc:423] Local rendezvous recv item cancelled. Key hash: 8063543133116231471\n",
      "2024-07-24 11:52:01.071206: I tensorflow/core/framework/local_rendezvous.cc:423] Local rendezvous recv item cancelled. Key hash: 8469731028185146937\n",
      "2024-07-24 11:52:01.071210: I tensorflow/core/framework/local_rendezvous.cc:423] Local rendezvous recv item cancelled. Key hash: 16092320404970843963\n",
      "2024-07-24 11:52:01.071213: I tensorflow/core/framework/local_rendezvous.cc:423] Local rendezvous recv item cancelled. Key hash: 3893306221038018165\n",
      "2024-07-24 11:52:01.071217: I tensorflow/core/framework/local_rendezvous.cc:423] Local rendezvous recv item cancelled. Key hash: 7297141620674244705\n",
      "2024-07-24 11:52:01.071221: I tensorflow/core/framework/local_rendezvous.cc:423] Local rendezvous recv item cancelled. Key hash: 2265985148321886681\n",
      "2024-07-24 11:52:01.071224: I tensorflow/core/framework/local_rendezvous.cc:423] Local rendezvous recv item cancelled. Key hash: 2349617577263575655\n",
      "2024-07-24 11:52:01.071227: I tensorflow/core/framework/local_rendezvous.cc:423] Local rendezvous recv item cancelled. Key hash: 444809279914062789\n",
      "2024-07-24 11:52:01.071230: I tensorflow/core/framework/local_rendezvous.cc:423] Local rendezvous recv item cancelled. Key hash: 859836513747203897\n",
      "2024-07-24 11:52:01.071233: I tensorflow/core/framework/local_rendezvous.cc:423] Local rendezvous recv item cancelled. Key hash: 10733042269836195989\n",
      "2024-07-24 11:52:01.071236: I tensorflow/core/framework/local_rendezvous.cc:423] Local rendezvous recv item cancelled. Key hash: 7883339172097817469\n",
      "2024-07-24 11:52:01.071239: I tensorflow/core/framework/local_rendezvous.cc:423] Local rendezvous recv item cancelled. Key hash: 16317458952785476389\n",
      "2024-07-24 11:52:01.071243: I tensorflow/core/framework/local_rendezvous.cc:423] Local rendezvous recv item cancelled. Key hash: 6771233482863263613\n",
      "2024-07-24 11:52:01.095063: I tensorflow/core/framework/local_rendezvous.cc:423] Local rendezvous recv item cancelled. Key hash: 3760928453833737392\n",
      "2024-07-24 11:52:01.095094: I tensorflow/core/framework/local_rendezvous.cc:423] Local rendezvous recv item cancelled. Key hash: 6607121185723691025\n",
      "2024-07-24 11:52:01.095100: I tensorflow/core/framework/local_rendezvous.cc:423] Local rendezvous recv item cancelled. Key hash: 15978958992807019649\n",
      "2024-07-24 11:52:01.095105: I tensorflow/core/framework/local_rendezvous.cc:423] Local rendezvous recv item cancelled. Key hash: 13917000608837317702\n",
      "2024-07-24 11:52:01.095108: I tensorflow/core/framework/local_rendezvous.cc:423] Local rendezvous recv item cancelled. Key hash: 10141221434822991174\n",
      "2024-07-24 11:52:01.095111: I tensorflow/core/framework/local_rendezvous.cc:423] Local rendezvous recv item cancelled. Key hash: 17016518748549149906\n"
     ]
    }
   ],
   "source": [
    "modelfitprogress = model.fit(\n",
    "                              train_iter,\n",
    "                              validation_data = valid_iter,\n",
    "                              epochs = epochs,\n",
    "                              steps_per_epoch = df_train.shape[0]//train_iter.batch_size,\n",
    "                              validation_steps = df_val.shape[0]//valid_iter.batch_size\n",
    "                              )"
   ]
  },
  {
   "cell_type": "markdown",
   "metadata": {
    "id": "9R2jytfijpEp"
   },
   "source": [
    "<a id=\"section6\"></a>\n",
    "# <font color=\"#004D7F\" size=6> 6. Results</font>"
   ]
  },
  {
   "cell_type": "markdown",
   "metadata": {
    "id": "a-1vHY9rjpEq"
   },
   "source": [
    "Finally, we can evaluate our CNN with the images created by TINTOlib in any of the ways represented below."
   ]
  },
  {
   "cell_type": "markdown",
   "metadata": {
    "id": "9R2jytfijpEp"
   },
   "source": [
    "---\n",
    "<a id=\"section61\"></a>\n",
    "# <font color=\"#004D7F\" size=5> 6.1. Train/Validation representation</font>"
   ]
  },
  {
   "cell_type": "code",
   "execution_count": 26,
   "metadata": {
    "colab": {
     "base_uri": "https://localhost:8080/",
     "height": 430
    },
    "id": "-Ls6_Vu7pjGL",
    "outputId": "35f21788-cd17-4377-9d88-79118f992164",
    "tags": []
   },
   "outputs": [
    {
     "data": {
      "image/png": "[encoded data removed]",
      "text/plain": [
       "<Figure size 640x480 with 1 Axes>"
      ]
     },
     "metadata": {},
     "output_type": "display_data"
    }
   ],
   "source": [
    "plt.plot(modelfitprogress.history['loss'], color = 'red', label = 'loss')\n",
    "plt.plot(modelfitprogress.history['val_loss'], color = 'green', label = 'val loss')\n",
    "plt.legend(loc = 'upper right')\n",
    "#plt.ylim(0,1)\n",
    "plt.show()"
   ]
  },
  {
   "cell_type": "code",
   "execution_count": 27,
   "metadata": {
    "colab": {
     "base_uri": "https://localhost:8080/",
     "height": 430
    },
    "id": "TWtsezuVpjGM",
    "outputId": "a06dccf3-da2d-4060-f67f-2046b547707b",
    "tags": []
   },
   "outputs": [
    {
     "data": {
      "image/png": "[encoded data removed]",
      "text/plain": [
       "<Figure size 640x480 with 1 Axes>"
      ]
     },
     "metadata": {},
     "output_type": "display_data"
    }
   ],
   "source": [
    "plt.plot(modelfitprogress.history['accuracy'], color = 'red', label = 'accuracy')\n",
    "plt.plot(modelfitprogress.history['val_accuracy'], color = 'green', label = 'val accuracy')\n",
    "plt.legend(loc = 'upper right')\n",
    "\n",
    "plt.show()"
   ]
  },
  {
   "cell_type": "markdown",
   "metadata": {
    "id": "9R2jytfijpEp"
   },
   "source": [
    "---\n",
    "<a id=\"section62\"></a>\n",
    "# <font color=\"#004D7F\" size=5> 6.2. Validation/Test evaluation</font>"
   ]
  },
  {
   "cell_type": "code",
   "execution_count": 28,
   "metadata": {
    "colab": {
     "base_uri": "https://localhost:8080/"
    },
    "execution": {
     "iopub.execute_input": "2022-11-14T19:27:24.254144Z",
     "iopub.status.busy": "2022-11-14T19:27:24.253678Z",
     "iopub.status.idle": "2022-11-14T19:28:06.367196Z",
     "shell.execute_reply": "2022-11-14T19:28:06.366140Z",
     "shell.execute_reply.started": "2022-11-14T19:27:24.254102Z"
    },
    "id": "MtDLUW_QpjGO",
    "outputId": "1e8c02c1-0256-49cf-bd58-12e60bea38c6"
   },
   "outputs": [
    {
     "name": "stdout",
     "output_type": "stream",
     "text": [
      "\u001b[1m14/14\u001b[0m \u001b[32m━━━━━━━━━━━━━━━━━━━━\u001b[0m\u001b[37m\u001b[0m \u001b[1m0s\u001b[0m 16ms/step - accuracy: 0.8536 - auc: 0.9040 - fn: 11.3333 - fp: 11.3333 - loss: 0.4811 - precision: 0.8536 - recall: 0.8536 - tn: 52.1333 - tp: 52.1333\n",
      "Loss in validation: 0.618098795413971 \n",
      "Accuracy in validation: 0.7946428656578064\n"
     ]
    }
   ],
   "source": [
    "score = model.evaluate(valid_iter, steps = df_val.shape[0]//valid_iter.batch_size)\n",
    "print(\"Loss in validation: {} \\nAccuracy in validation: {}\".format(score[0], score[5]))"
   ]
  },
  {
   "cell_type": "code",
   "execution_count": 29,
   "metadata": {
    "colab": {
     "base_uri": "https://localhost:8080/"
    },
    "execution": {
     "iopub.execute_input": "2022-11-14T19:28:06.369726Z",
     "iopub.status.busy": "2022-11-14T19:28:06.369356Z",
     "iopub.status.idle": "2022-11-14T19:28:47.388501Z",
     "shell.execute_reply": "2022-11-14T19:28:47.387465Z",
     "shell.execute_reply.started": "2022-11-14T19:28:06.369687Z"
    },
    "id": "27tFyGE8pjGO",
    "outputId": "51f9d766-3e48-4f24-ea4f-a4e48e380444"
   },
   "outputs": [
    {
     "name": "stdout",
     "output_type": "stream",
     "text": [
      "\u001b[1m14/14\u001b[0m \u001b[32m━━━━━━━━━━━━━━━━━━━━\u001b[0m\u001b[37m\u001b[0m \u001b[1m0s\u001b[0m 15ms/step - accuracy: 0.8295 - auc: 0.9115 - fn: 11.5333 - fp: 11.5333 - loss: 0.5511 - precision: 0.8295 - recall: 0.8295 - tn: 51.9333 - tp: 51.9333\n",
      "Loss in test: 0.4925728738307953 \n",
      "Accuracy in test: 0.8303571343421936\n"
     ]
    }
   ],
   "source": [
    "score_test = model.evaluate(test_iter, steps = df_test.shape[0]//test_iter.batch_size)\n",
    "print(\"Loss in test: {} \\nAccuracy in test: {}\".format(score_test[0], score_test[5]))"
   ]
  },
  {
   "cell_type": "code",
   "execution_count": 28,
   "metadata": {
    "scrolled": false
   },
   "outputs": [
    {
     "data": {
      "text/plain": [
       "0.9017857313156128"
      ]
     },
     "execution_count": 28,
     "metadata": {},
     "output_type": "execute_result"
    }
   ],
   "source": [
    "score_test[6]"
   ]
  },
  {
   "cell_type": "code",
   "execution_count": 29,
   "metadata": {},
   "outputs": [
    {
     "name": "stdout",
     "output_type": "stream",
     "text": [
      "15/15 [==============================] - 0s 3ms/step\n",
      "[[0.9945984  0.00540163]\n",
      " [0.13952635 0.86047363]\n",
      " [0.9948743  0.00512574]\n",
      " [0.99466646 0.0053336 ]\n",
      " [0.99487334 0.00512669]\n",
      " [0.99492645 0.00507349]\n",
      " [0.99490947 0.00509049]\n",
      " [0.99491775 0.00508231]\n",
      " [0.9566251  0.04337495]\n",
      " [0.00960151 0.9903985 ]\n",
      " [0.99466765 0.00533242]\n",
      " [0.00768959 0.9923104 ]\n",
      " [0.99488825 0.00511175]\n",
      " [0.02910934 0.97089064]\n",
      " [0.99488455 0.00511539]\n",
      " [0.9947955  0.00520452]\n",
      " [0.01405836 0.9859416 ]\n",
      " [0.53241616 0.46758384]\n",
      " [0.03335533 0.96664464]\n",
      " [0.01092857 0.9890715 ]\n",
      " [0.99484044 0.0051596 ]\n",
      " [0.00997059 0.9900294 ]\n",
      " [0.99492764 0.0050724 ]\n",
      " [0.01244713 0.9875529 ]\n",
      " [0.00777232 0.9922276 ]\n",
      " [0.01432926 0.98567075]\n",
      " [0.00832343 0.99167657]\n",
      " [0.9933836  0.00661638]\n",
      " [0.9942139  0.00578612]\n",
      " [0.01156589 0.98843414]\n",
      " [0.01353003 0.9864699 ]\n",
      " [0.14499034 0.8550096 ]\n",
      " [0.00960596 0.99039406]\n",
      " [0.99473995 0.00526006]\n",
      " [0.9897855  0.01021452]\n",
      " [0.00819596 0.991804  ]\n",
      " [0.01188884 0.98811114]\n",
      " [0.01748031 0.98251975]\n",
      " [0.01044088 0.98955905]\n",
      " [0.01869151 0.9813085 ]\n",
      " [0.9948101  0.00518994]\n",
      " [0.01157136 0.98842865]\n",
      " [0.9948815  0.00511851]\n",
      " [0.01229956 0.98770046]\n",
      " [0.00884551 0.99115443]\n",
      " [0.01250787 0.9874921 ]\n",
      " [0.99301696 0.00698303]\n",
      " [0.9949065  0.00509346]\n",
      " [0.9948626  0.00513738]\n",
      " [0.0102798  0.98972017]\n",
      " [0.99436104 0.00563893]\n",
      " [0.99371606 0.00628401]\n",
      " [0.9945051  0.00549485]\n",
      " [0.0106867  0.9893133 ]\n",
      " [0.9947277  0.00527235]\n",
      " [0.33286035 0.66713965]\n",
      " [0.99442154 0.00557847]\n",
      " [0.9843656  0.01563436]\n",
      " [0.99492174 0.00507822]\n",
      " [0.9947305  0.00526952]\n",
      " [0.9949334  0.00506655]\n",
      " [0.01175201 0.98824805]\n",
      " [0.00767781 0.99232227]\n",
      " [0.9947961  0.00520388]\n",
      " [0.01033583 0.98966414]\n",
      " [0.01138987 0.98861015]\n",
      " [0.99460936 0.00539064]\n",
      " [0.9949051  0.0050949 ]\n",
      " [0.9947436  0.0052564 ]\n",
      " [0.99431413 0.00568587]\n",
      " [0.9948388  0.00516117]\n",
      " [0.99358255 0.00641738]\n",
      " [0.99484295 0.00515707]\n",
      " [0.00971317 0.9902868 ]\n",
      " [0.00892997 0.99107003]\n",
      " [0.99480695 0.00519302]\n",
      " [0.99492306 0.00507695]\n",
      " [0.994848   0.00515197]\n",
      " [0.9948614  0.00513861]\n",
      " [0.99389815 0.00610182]\n",
      " [0.00834289 0.99165714]\n",
      " [0.00777489 0.99222505]\n",
      " [0.02092144 0.97907853]\n",
      " [0.01076071 0.98923934]\n",
      " [0.99478745 0.00521249]\n",
      " [0.2262046  0.7737954 ]\n",
      " [0.01070195 0.989298  ]\n",
      " [0.9947212  0.00527879]\n",
      " [0.9872361  0.01276388]\n",
      " [0.99485815 0.00514181]\n",
      " [0.00781354 0.9921864 ]\n",
      " [0.9937226  0.00627734]\n",
      " [0.00769714 0.9923029 ]\n",
      " [0.9474121  0.05258797]\n",
      " [0.99492943 0.00507061]\n",
      " [0.00807627 0.99192375]\n",
      " [0.04006166 0.9599383 ]\n",
      " [0.0117612  0.9882388 ]\n",
      " [0.00792492 0.9920751 ]\n",
      " [0.99493116 0.00506879]\n",
      " [0.99439645 0.00560353]\n",
      " [0.01329505 0.9867049 ]\n",
      " [0.99481237 0.00518764]\n",
      " [0.99492997 0.00506999]\n",
      " [0.00993469 0.99006534]\n",
      " [0.9949334  0.0050666 ]\n",
      " [0.00858965 0.9914103 ]\n",
      " [0.03248025 0.96751976]\n",
      " [0.9948584  0.0051416 ]\n",
      " [0.17008005 0.82991993]\n",
      " [0.99445397 0.00554607]\n",
      " [0.9949291  0.00507091]\n",
      " [0.00791591 0.99208415]\n",
      " [0.9947995  0.00520046]]\n"
     ]
    }
   ],
   "source": [
    "#test_images = next(test_iter)[0]\n",
    "prediction = model.predict(test_iter, steps = np.math.ceil(test_iter.samples/test_iter.batch_size))\n",
    "#prediction = model.predict(test_images)\n",
    "print(prediction)"
   ]
  },
  {
   "cell_type": "markdown",
   "metadata": {
    "id": "9R2jytfijpEp"
   },
   "source": [
    "<a id=\"section62\"></a>\n",
    "# <font color=\"#004D7F\" size=5> 6.3. Sklearn metrics evaluation</font>"
   ]
  },
  {
   "cell_type": "code",
   "execution_count": 30,
   "metadata": {},
   "outputs": [
    {
     "name": "stdout",
     "output_type": "stream",
     "text": [
      "Test accuracy: 0.9017857313156128\n",
      "Test AUC: 0.9857301712036133\n",
      "Test precision: 0.9017857313156128\n",
      "Test recall: 0.9017857313156128\n"
     ]
    }
   ],
   "source": [
    "from sklearn.metrics import roc_auc_score,accuracy_score,precision_score, recall_score\n",
    "\n",
    "test_accuracy = score_test[5]\n",
    "test_auc = score_test[8]\n",
    "test_precision = score_test[6]\n",
    "test_recall = score_test[7]\n",
    "\n",
    "print(\"Test accuracy:\",test_accuracy)\n",
    "print(\"Test AUC:\",test_auc)\n",
    "print(\"Test precision:\",test_precision)\n",
    "print(\"Test recall:\",test_recall)"
   ]
  },
  {
   "cell_type": "code",
   "execution_count": 31,
   "metadata": {},
   "outputs": [
    {
     "name": "stdout",
     "output_type": "stream",
     "text": [
      "Train accuracy: 0.9668674468994141\n",
      "Train AUC: 0.9979088306427002\n",
      "Train precision: 0.9668674468994141\n",
      "Train recall: 0.9668674468994141\n",
      "Train loss: 0.06427697837352753\n"
     ]
    }
   ],
   "source": [
    "train_accuracy = modelfitprogress.history[\"accuracy\"][-1]\n",
    "train_auc = modelfitprogress.history[\"auc\"][-1]\n",
    "train_precision = modelfitprogress.history[\"precision\"][-1]\n",
    "train_recall = modelfitprogress.history[\"recall\"][-1]\n",
    "train_loss = modelfitprogress.history[\"loss\"][-1]\n",
    "\n",
    "print(\"Train accuracy:\",train_accuracy)\n",
    "print(\"Train AUC:\",train_auc)\n",
    "print(\"Train precision:\",train_precision)\n",
    "print(\"Train recall:\",train_recall)\n",
    "print(\"Train loss:\",train_loss)"
   ]
  },
  {
   "cell_type": "code",
   "execution_count": 32,
   "metadata": {},
   "outputs": [
    {
     "name": "stdout",
     "output_type": "stream",
     "text": [
      "Validation accuracy: 0.875\n",
      "Validation AUC: 0.9535236358642578\n",
      "Validation precision: 0.875\n",
      "Validation recall: 0.875\n",
      "Validation loss: 0.45336461067199707\n"
     ]
    }
   ],
   "source": [
    "validation_accuracy = modelfitprogress.history[\"val_accuracy\"][-1]\n",
    "validation_auc = modelfitprogress.history[\"val_auc\"][-1]\n",
    "validation_precision = modelfitprogress.history[\"val_precision\"][-1]\n",
    "validation_recall = modelfitprogress.history[\"val_recall\"][-1]\n",
    "validation_loss = modelfitprogress.history[\"val_loss\"][-1]\n",
    "\n",
    "print(\"Validation accuracy:\",validation_accuracy)\n",
    "print(\"Validation AUC:\",validation_auc)\n",
    "print(\"Validation precision:\",validation_precision)\n",
    "print(\"Validation recall:\",validation_recall)\n",
    "print(\"Validation loss:\",validation_loss)"
   ]
  },
  {
   "cell_type": "markdown",
   "metadata": {
    "id": "0ciBS76mpjGU"
   },
   "source": [
    "<div style=\"text-align: right\"> <font size=5> <a href=\"#indice\"><i class=\"fa fa-arrow-circle-up\" aria-hidden=\"true\" style=\"color:#004D7F\"></i></a></font></div>\n",
    "\n",
    "---\n",
    "\n",
    "<div style=\"text-align: right\"> <font size=6><i class=\"fa fa-coffee\" aria-hidden=\"true\" style=\"color:#004D7F\"></i> </font></div>"
   ]
  },
  {
   "cell_type": "markdown",
   "metadata": {},
   "source": []
  }
 ],
 "metadata": {
  "accelerator": "GPU",
  "colab": {
   "gpuType": "T4",
   "provenance": []
  },
  "kernelspec": {
   "display_name": "Python 3 (ipykernel)",
   "language": "python",
   "name": "python3"
  },
  "language_info": {
   "codemirror_mode": {
    "name": "ipython",
    "version": 3
   },
   "file_extension": ".py",
   "mimetype": "text/x-python",
   "name": "python",
   "nbconvert_exporter": "python",
   "pygments_lexer": "ipython3",
   "version": "3.9.6"
  }
 },
 "nbformat": 4,
 "nbformat_minor": 1
}
