{
 "cells": [
  {
   "cell_type": "markdown",
   "metadata": {
    "id": "EybOZ6hSjpCF"
   },
   "source": [
    "<h1><font color=\"#113D68\" size=5>TINTOlib: Converting Tidy Data into Image for Classification with Vision Transformer</font></h1>\n",
    "\n",
    "\n",
    "\n",
    "<h1><font color=\"#113D68\" size=6>How to read TINTO images</font></h1>\n",
    "\n",
    "<br><br>\n",
    "<div style=\"text-align: right\">\n",
    "<font color=\"#113D68\" size=3>Manuel Castillo-Cara</font><br>\n",
    "<font color=\"#113D68\" size=3>Raúl García-Castro</font><br>\n",
    "<font color=\"#113D68\" size=3>Luis Orozco-Barbosa</font><br>\n",
    "</div>"
   ]
  },
  {
   "cell_type": "markdown",
   "metadata": {
    "id": "2l5nFzsdjpCW"
   },
   "source": [
    "---\n",
    "\n",
    "<a id=\"indice\"></a>\n",
    "<h2><font color=\"#004D7F\" size=5>Index</font></h2>\n",
    "\n",
    "* [0. Context](#section0)\n",
    "* [1. Description](#section1)\n",
    "    * [1.1. Main Features](#section12)\n",
    "    * [1.2. Citation](#section12)\n",
    "* [2. Libraries](#section2)\n",
    "* [3. Data processing](#section3)\n",
    "    * [3.1. Read images](#section31)\n",
    "    * [3.2. Data Curation](#section32)\n",
    "* [4. Pre-modelling phase](#section4)\n",
    "    * [4.1. Resize images](#section41)\n",
    "    * [4.2. Iteradores](#section42)\n",
    "* [5. Modelling with CNN](#section5)\n",
    "    * [5.1. CNN](#section51)\n",
    "    * [5.2. Compile and fit](#section52)\n",
    "    * [5.3. Results](#section53)"
   ]
  },
  {
   "cell_type": "markdown",
   "metadata": {
    "id": "SxTpMExHjpCa"
   },
   "source": [
    "---\n",
    "<a id=\"section0\"></a>\n",
    "# <font color=\"#004D7F\" size=6> 0. Context</font>"
   ]
  },
  {
   "cell_type": "markdown",
   "metadata": {
    "id": "JlVYt3MRrl_V"
   },
   "source": [
    "This is a tutorial on how to read the images created by TINTOlib and pass them to a Vision Transformer (ViT). The images must already be created by the TINTOlib software. See the documentation in GITHUB for how to create the images from tabular data."
   ]
  },
  {
   "cell_type": "markdown",
   "metadata": {
    "id": "WaA-_OjsjpCe"
   },
   "source": [
    "<div class=\"alert alert-block alert-info\">\n",
    "    \n",
    "<i class=\"fa fa-info-circle\" aria-hidden=\"true\"></i>\n",
    "See the paper from [Information Fusion Journal](https://doi.org/10.1016/j.inffus.2022.10.011)"
   ]
  },
  {
   "cell_type": "markdown",
   "metadata": {
    "id": "28TFDkl5jpCi"
   },
   "source": [
    "<div class=\"alert alert-block alert-info\">\n",
    "    \n",
    "<i class=\"fa fa-info-circle\" aria-hidden=\"true\"></i>\n",
    "See the paper from [SoftwareX](https://doi.org/10.1016/j.softx.2023.101391)"
   ]
  },
  {
   "cell_type": "markdown",
   "metadata": {
    "id": "i3tgsO0BjpCj"
   },
   "source": [
    "<div class=\"alert alert-block alert-info\">\n",
    "    \n",
    "<i class=\"fa fa-info-circle\" aria-hidden=\"true\"></i>\n",
    "You can see all information about TINTO in [GitHub](https://github.com/oeg-upm/TINTO)"
   ]
  },
  {
   "cell_type": "markdown",
   "metadata": {
    "id": "4RKBgDwzjpCl"
   },
   "source": [
    "---\n",
    "<div style=\"text-align: right\"> <font size=5> <a href=\"#indice\"><i class=\"fa fa-arrow-circle-up\" aria-hidden=\"true\" style=\"color:#004D7F\"></i></a></font></div>\n",
    "\n",
    "---"
   ]
  },
  {
   "cell_type": "markdown",
   "metadata": {
    "id": "kpU7pi6yjpCn"
   },
   "source": [
    "<a id=\"section1\"></a>\n",
    "# <font color=\"#004D7F\" size=6> 1. Description</font>"
   ]
  },
  {
   "cell_type": "markdown",
   "metadata": {
    "id": "NL9RoFkEjpCq"
   },
   "source": [
    "The growing interest in the use of algorithms-based machine learning for predictive tasks has generated a large and diverse development of algorithms. However, it is widely known that not all of these algorithms are adapted to efficient solutions in certain tidy data format datasets. For this reason, novel techniques are currently being developed to convert tidy data into images with the aim of using Convolutional Neural Networks (CNNs)  or Vision Transformer (ViT). TINTO offers the opportunity to convert tidy data into images through the representation of characteristic pixels by implementing two dimensional reduction algorithms: PCA and _t_-SNE. Our proposal also includes a blurring technique, which adds more ordered information to the image and can improve the classification task in CNNs."
   ]
  },
  {
   "cell_type": "markdown",
   "metadata": {
    "id": "HFrF4C89jpCt"
   },
   "source": [
    "---\n",
    "<a id=\"section11\"></a>\n",
    "# <font color=\"#004D7F\" size=5> 1.1. Main Features</font>"
   ]
  },
  {
   "cell_type": "markdown",
   "metadata": {
    "id": "1gruE0_sjpCu"
   },
   "source": [
    "- Supports all CSV data in **[Tidy Data](https://www.jstatsoft.org/article/view/v059i10)** format.\n",
    "- For now, the algorithm converts tabular data for binary and multi-class classification problems into machine learning.\n",
    "- Input data formats:\n",
    "    - **Tabular files**: The input data must be in **[CSV](https://en.wikipedia.org/wiki/Comma-separated_values)**, taking into account the **[Tidy Data](https://www.jstatsoft.org/article/view/v059i10)** format.\n",
    "    - **Tidy Data**: The **target** (variable to be predicted) should be set as the last column of the dataset. Therefore, the first columns will be the features.\n",
    "    - All data must be in numerical form. TINTO does not accept data in string or any other non-numeric format.\n",
    "- Two dimensionality reduction algorithms are used in image creation, **[PCA](https://scikit-learn.org/stable/modules/generated/sklearn.decomposition.PCA.html#sklearn.decomposition.PCA)** and **[*t*-SNE](https://scikit-learn.org/stable/modules/generated/sklearn.manifold.TSNE.html)** from the Scikit-learn Python library.\n",
    "- The synthetic images to be created will be in black and white, i.e. in 1 channel.\n",
    "- The synthetic image **dimensions** can be set as a parameter when creating them.\n",
    "- The synthetic images can be created using **characteristic pixels** or **blurring** painting technique (expressing an overlap of pixels as the **maximum** or **average**).\n",
    "- Runs on **Linux**, **Windows** and **macOS** systems.\n",
    "- Compatible with **[Python](https://www.python.org/)** 3.7 or higher."
   ]
  },
  {
   "cell_type": "markdown",
   "metadata": {
    "id": "Z3EzYcjJjpC6"
   },
   "source": [
    "---\n",
    "<div style=\"text-align: right\"> <font size=5> <a href=\"#indice\"><i class=\"fa fa-arrow-circle-up\" aria-hidden=\"true\" style=\"color:#004D7F\"></i></a></font></div>\n",
    "\n",
    "---"
   ]
  },
  {
   "cell_type": "markdown",
   "metadata": {
    "id": "qwYF5A2njpC8"
   },
   "source": [
    "<a id=\"section2\"></a>\n",
    "# <font color=\"#004D7F\" size=6> 2. Libraries</font>"
   ]
  },
  {
   "cell_type": "markdown",
   "metadata": {},
   "source": [
    "Adding parent directory to import module residing outside this notebook folder"
   ]
  },
  {
   "cell_type": "code",
   "execution_count": 1,
   "metadata": {},
   "outputs": [],
   "source": [
    "import sys\n",
    "sys.path.append('../')"
   ]
  },
  {
   "cell_type": "markdown",
   "metadata": {
    "id": "5AdHKnWYsEq_"
   },
   "source": [
    "The first thing we need to do is to declare the libraries"
   ]
  },
  {
   "cell_type": "code",
   "execution_count": 2,
   "metadata": {
    "id": "PeeBbGxlpjFp",
    "tags": []
   },
   "outputs": [
    {
     "name": "stderr",
     "output_type": "stream",
     "text": [
      "C:\\Users\\jiayu\\AppData\\Local\\Temp\\ipykernel_4244\\1751275948.py:2: DeprecationWarning: \n",
      "Pyarrow will become a required dependency of pandas in the next major release of pandas (pandas 3.0),\n",
      "(to allow more performant data types, such as the Arrow string type, and better interoperability with other libraries)\n",
      "but was not found to be installed on your system.\n",
      "If this would cause problems for you,\n",
      "please provide us feedback at https://github.com/pandas-dev/pandas/issues/54466\n",
      "        \n",
      "  import pandas as pd\n"
     ]
    }
   ],
   "source": [
    "import os\n",
    "import pandas as pd\n",
    "import numpy as np\n",
    "from tqdm import tqdm\n",
    "#import cv2\n",
    "import gc\n",
    "import matplotlib.pyplot as plt\n",
    "#import openslide\n",
    "#from openslide.deepzoom import DeepZoomGenerator\n",
    "import tifffile as tifi\n",
    "import sklearn\n",
    "import tensorflow as tf\n",
    "import seaborn as sns\n",
    "from PIL import Image\n",
    "\n",
    "\n",
    "from sklearn.metrics import mean_absolute_error, mean_squared_error, r2_score,mean_absolute_percentage_error\n",
    "\n",
    "from keras_preprocessing.image import ImageDataGenerator\n",
    "from tensorflow.keras.models import load_model\n",
    "\n",
    "from sklearn.model_selection import train_test_split\n",
    "from tensorflow.keras.applications import vgg16, vgg19, resnet50, mobilenet, inception_resnet_v2, densenet, inception_v3, xception, nasnet, ResNet152V2\n",
    "from tensorflow.keras.models import Sequential, Model, load_model\n",
    "from tensorflow.keras.layers import Dense, Conv2D, MaxPool2D, Flatten, Dropout, BatchNormalization, InputLayer, LayerNormalization\n",
    "from tensorflow.keras.callbacks import ModelCheckpoint, ReduceLROnPlateau, EarlyStopping\n",
    "from tensorflow.keras.optimizers import SGD, Adam, Adadelta, Adamax\n",
    "from tensorflow.keras import layers, models, Model\n",
    "from tensorflow.keras.losses import MeanAbsoluteError, MeanAbsolutePercentageError\n",
    "from tensorflow.keras.layers import Input, Activation,MaxPooling2D, concatenate\n",
    "\n",
    "from torchmetrics import MeanAbsolutePercentageError\n",
    "import torch\n",
    "import torch.nn as nn\n",
    "from torch.utils.data import Dataset, DataLoader, random_split\n",
    "from torchvision import transforms\n",
    "\n",
    "import pytorch_lightning as pl\n",
    "from pytorch_lightning.loggers  import TensorBoardLogger\n",
    "from pytorch_lightning.callbacks.early_stopping import EarlyStopping\n",
    "\n",
    "\n",
    "from imblearn.over_sampling import RandomOverSampler\n",
    "\n",
    "#Models of TINTOlib\n",
    "from TINTOlib.tinto import TINTO\n",
    "from TINTOlib.supertml import SuperTML\n",
    "from TINTOlib.igtd import IGTD\n",
    "from TINTOlib.refined import REFINED\n",
    "from TINTOlib.barGraph import BarGraph\n",
    "from TINTOlib.distanceMatrix import DistanceMatrix\n",
    "from TINTOlib.combination import Combination\n",
    "import TINTOlib.utils"
   ]
  },
  {
   "cell_type": "markdown",
   "metadata": {
    "id": "NwS-cKUxjpDQ"
   },
   "source": [
    "---\n",
    "<div style=\"text-align: right\"> <font size=5> <a href=\"#indice\"><i class=\"fa fa-arrow-circle-up\" aria-hidden=\"true\" style=\"color:#004D7F\"></i></a></font></div>\n",
    "\n",
    "---"
   ]
  },
  {
   "cell_type": "markdown",
   "metadata": {
    "id": "aDL4LARWjpDT"
   },
   "source": [
    "<a id=\"section3\"></a>\n",
    "# <font color=\"#004D7F\" size=6> 3. Data processing</font>"
   ]
  },
  {
   "cell_type": "markdown",
   "metadata": {
    "id": "jXcRw78ljpDU"
   },
   "source": [
    "The first thing to do is to read all the images created by TINTO. TINTO creates a folder which contains subfolders corresponding to each target that has the problem. Each image corresponds to a sample of the original dataset."
   ]
  },
  {
   "cell_type": "markdown",
   "metadata": {},
   "source": [
    "<a id=\"section31\"></a>\n",
    "# <font color=\"#004D7F\" size=5> 3.1. Create images with TINTOlib</font>"
   ]
  },
  {
   "cell_type": "code",
   "execution_count": 3,
   "metadata": {},
   "outputs": [],
   "source": [
    "# Select the model and the parameters\n",
    "problem_type = \"supervised\"\n",
    "size = 20\n",
    "image_model = TINTO(problem=problem_type,verbose=True,blur=True,pixels=size,)\n",
    "\n",
    "# Define the dataset path and the folder where the images will be saved\n",
    "dataset_path = \"../sample_data/iris.csv\"\n",
    "images_folder = \"../HyNNImages/Classification/images_iris_TINTO\""
   ]
  },
  {
   "cell_type": "markdown",
   "metadata": {},
   "source": [
    "Normalize dataset"
   ]
  },
  {
   "cell_type": "code",
   "execution_count": 4,
   "metadata": {},
   "outputs": [
    {
     "data": {
      "text/html": [
       "<div>\n",
       "<style scoped>\n",
       "    .dataframe tbody tr th:only-of-type {\n",
       "        vertical-align: middle;\n",
       "    }\n",
       "\n",
       "    .dataframe tbody tr th {\n",
       "        vertical-align: top;\n",
       "    }\n",
       "\n",
       "    .dataframe thead th {\n",
       "        text-align: right;\n",
       "    }\n",
       "</style>\n",
       "<table border=\"1\" class=\"dataframe\">\n",
       "  <thead>\n",
       "    <tr style=\"text-align: right;\">\n",
       "      <th></th>\n",
       "      <th>SepalLength</th>\n",
       "      <th>SepalWidth</th>\n",
       "      <th>PetalLength</th>\n",
       "      <th>PetalWidth</th>\n",
       "      <th>Species</th>\n",
       "    </tr>\n",
       "  </thead>\n",
       "  <tbody>\n",
       "    <tr>\n",
       "      <th>0</th>\n",
       "      <td>5.1</td>\n",
       "      <td>3.5</td>\n",
       "      <td>1.4</td>\n",
       "      <td>0.2</td>\n",
       "      <td>1</td>\n",
       "    </tr>\n",
       "    <tr>\n",
       "      <th>1</th>\n",
       "      <td>4.9</td>\n",
       "      <td>3.0</td>\n",
       "      <td>1.4</td>\n",
       "      <td>0.2</td>\n",
       "      <td>1</td>\n",
       "    </tr>\n",
       "  </tbody>\n",
       "</table>\n",
       "</div>"
      ],
      "text/plain": [
       "   SepalLength  SepalWidth  PetalLength  PetalWidth  Species\n",
       "0          5.1         3.5          1.4         0.2        1\n",
       "1          4.9         3.0          1.4         0.2        1"
      ]
     },
     "execution_count": 4,
     "metadata": {},
     "output_type": "execute_result"
    }
   ],
   "source": [
    "df = pd.read_csv(dataset_path)\n",
    "df.head(2)"
   ]
  },
  {
   "cell_type": "code",
   "execution_count": 5,
   "metadata": {},
   "outputs": [
    {
     "data": {
      "text/html": [
       "<div>\n",
       "<style scoped>\n",
       "    .dataframe tbody tr th:only-of-type {\n",
       "        vertical-align: middle;\n",
       "    }\n",
       "\n",
       "    .dataframe tbody tr th {\n",
       "        vertical-align: top;\n",
       "    }\n",
       "\n",
       "    .dataframe thead th {\n",
       "        text-align: right;\n",
       "    }\n",
       "</style>\n",
       "<table border=\"1\" class=\"dataframe\">\n",
       "  <thead>\n",
       "    <tr style=\"text-align: right;\">\n",
       "      <th></th>\n",
       "      <th>SepalLength</th>\n",
       "      <th>SepalWidth</th>\n",
       "      <th>PetalLength</th>\n",
       "      <th>PetalWidth</th>\n",
       "      <th>Species</th>\n",
       "    </tr>\n",
       "  </thead>\n",
       "  <tbody>\n",
       "    <tr>\n",
       "      <th>0</th>\n",
       "      <td>0.222222</td>\n",
       "      <td>0.625000</td>\n",
       "      <td>0.067797</td>\n",
       "      <td>0.041667</td>\n",
       "      <td>1</td>\n",
       "    </tr>\n",
       "    <tr>\n",
       "      <th>1</th>\n",
       "      <td>0.166667</td>\n",
       "      <td>0.416667</td>\n",
       "      <td>0.067797</td>\n",
       "      <td>0.041667</td>\n",
       "      <td>1</td>\n",
       "    </tr>\n",
       "  </tbody>\n",
       "</table>\n",
       "</div>"
      ],
      "text/plain": [
       "   SepalLength  SepalWidth  PetalLength  PetalWidth  Species\n",
       "0     0.222222    0.625000     0.067797    0.041667        1\n",
       "1     0.166667    0.416667     0.067797    0.041667        1"
      ]
     },
     "execution_count": 5,
     "metadata": {},
     "output_type": "execute_result"
    }
   ],
   "source": [
    "# Select all the attributes to normalize\n",
    "columns_to_normalize = df.columns[:-1]\n",
    "\n",
    "\n",
    "# Normalize between 0 and 1\n",
    "df_normalized = (df[columns_to_normalize] - df[columns_to_normalize].min()) / (df[columns_to_normalize].max() - df[columns_to_normalize].min())\n",
    "\n",
    "# Combine the attributes and the label\n",
    "df_normalized = pd.concat([df_normalized, df[df.columns[-1]]], axis=1)\n",
    "\n",
    "df_normalized.head(2)\n"
   ]
  },
  {
   "cell_type": "code",
   "execution_count": 6,
   "metadata": {},
   "outputs": [
    {
     "name": "stdout",
     "output_type": "stream",
     "text": [
      "The images are already generated\n",
      "../HyNNImages/Classification/images_iris_TINTO\\supervised.csv\n"
     ]
    }
   ],
   "source": [
    "import os\n",
    "\n",
    "# Generate the images if the folder does not exist\n",
    "if not os.path.exists(images_folder):\n",
    "    #Generate thet images\n",
    "    image_model.generateImages(df, images_folder)\n",
    "else:\n",
    "    print(\"The images are already generated\")\n",
    "\n",
    "img_paths = os.path.join(images_folder,problem_type+\".csv\")\n",
    "\n",
    "print(img_paths)"
   ]
  },
  {
   "cell_type": "markdown",
   "metadata": {},
   "source": [
    "<a id=\"section32\"></a>\n",
    "# <font color=\"#004D7F\" size=5> 3.2. Data Analysis</font>"
   ]
  },
  {
   "cell_type": "code",
   "execution_count": 7,
   "metadata": {},
   "outputs": [
    {
     "data": {
      "image/png": "[encoded data removed]",
      "text/plain": [
       "<Figure size 640x480 with 1 Axes>"
      ]
     },
     "metadata": {},
     "output_type": "display_data"
    }
   ],
   "source": [
    "target_values = df_normalized.iloc[:,-1]\n",
    "class_counts = np.bincount(target_values)\n",
    "class_labels = np.arange(1, len(class_counts) + 1)\n",
    "\n",
    "# Create the bar plot\n",
    "plt.bar(class_labels, class_counts)\n",
    "\n",
    "# Customize the plot\n",
    "plt.xlabel('Class')\n",
    "plt.ylabel('Samples')\n",
    "plt.title('Classes Distribution')\n",
    "\n",
    "# Display the plot\n",
    "plt.show()"
   ]
  },
  {
   "cell_type": "markdown",
   "metadata": {
    "id": "klS9PZsUjpDV"
   },
   "source": [
    "<a id=\"section33\"></a>\n",
    "# <font color=\"#004D7F\" size=5> 3.3. Read images</font>"
   ]
  },
  {
   "cell_type": "code",
   "execution_count": 8,
   "metadata": {},
   "outputs": [
    {
     "data": {
      "text/html": [
       "<div>\n",
       "<style scoped>\n",
       "    .dataframe tbody tr th:only-of-type {\n",
       "        vertical-align: middle;\n",
       "    }\n",
       "\n",
       "    .dataframe tbody tr th {\n",
       "        vertical-align: top;\n",
       "    }\n",
       "\n",
       "    .dataframe thead th {\n",
       "        text-align: right;\n",
       "    }\n",
       "</style>\n",
       "<table border=\"1\" class=\"dataframe\">\n",
       "  <thead>\n",
       "    <tr style=\"text-align: right;\">\n",
       "      <th></th>\n",
       "      <th>images</th>\n",
       "      <th>SepalLength</th>\n",
       "      <th>SepalWidth</th>\n",
       "      <th>PetalLength</th>\n",
       "      <th>PetalWidth</th>\n",
       "    </tr>\n",
       "  </thead>\n",
       "  <tbody>\n",
       "    <tr>\n",
       "      <th>0</th>\n",
       "      <td>../HyNNImages/Classification/images_iris_TINTO...</td>\n",
       "      <td>0.222222</td>\n",
       "      <td>0.625000</td>\n",
       "      <td>0.067797</td>\n",
       "      <td>0.041667</td>\n",
       "    </tr>\n",
       "    <tr>\n",
       "      <th>1</th>\n",
       "      <td>../HyNNImages/Classification/images_iris_TINTO...</td>\n",
       "      <td>0.166667</td>\n",
       "      <td>0.416667</td>\n",
       "      <td>0.067797</td>\n",
       "      <td>0.041667</td>\n",
       "    </tr>\n",
       "  </tbody>\n",
       "</table>\n",
       "</div>"
      ],
      "text/plain": [
       "                                              images  SepalLength  SepalWidth  \\\n",
       "0  ../HyNNImages/Classification/images_iris_TINTO...     0.222222    0.625000   \n",
       "1  ../HyNNImages/Classification/images_iris_TINTO...     0.166667    0.416667   \n",
       "\n",
       "   PetalLength  PetalWidth  \n",
       "0     0.067797    0.041667  \n",
       "1     0.067797    0.041667  "
      ]
     },
     "execution_count": 8,
     "metadata": {},
     "output_type": "execute_result"
    }
   ],
   "source": [
    "imgs = pd.read_csv(img_paths)\n",
    "\n",
    "#imgs[\"images\"]= images_folder + \"\\\\\" + imgs[\"images\"]\n",
    "imgs[\"images\"]= images_folder + \"/\" + imgs[\"images\"]\n",
    "\n",
    "combined_dataset = pd.concat([imgs,df_normalized[columns_to_normalize]],axis=1)\n",
    "combined_dataset\n",
    "\n",
    "df_x = combined_dataset.drop(\"class\",axis=1)\n",
    "df_y = combined_dataset[\"class\"].replace(-1, 0)\n",
    "\n",
    "df_x.head(2)"
   ]
  },
  {
   "cell_type": "markdown",
   "metadata": {
    "id": "_haEKIo7jpD1"
   },
   "source": [
    "---\n",
    "<div style=\"text-align: right\"> <font size=5> <a href=\"#indice\"><i class=\"fa fa-arrow-circle-up\" aria-hidden=\"true\" style=\"color:#004D7F\"></i></a></font></div>\n",
    "\n",
    "---"
   ]
  },
  {
   "cell_type": "markdown",
   "metadata": {
    "id": "uF1lJWbojpD3"
   },
   "source": [
    "<a id=\"section4\"></a>\n",
    "# <font color=\"#004D7F\" size=6> 4. Pre-modelling phase</font>"
   ]
  },
  {
   "cell_type": "code",
   "execution_count": 9,
   "metadata": {},
   "outputs": [
    {
     "name": "stdout",
     "output_type": "stream",
     "text": [
      "Image shape (20, 20, 3)\n",
      "Attributes 4\n",
      "Classes 3\n"
     ]
    }
   ],
   "source": [
    "import cv2\n",
    "X_train, X_val, y_train, y_val = train_test_split(df_x, df_y, test_size = 0.40, random_state = 123,stratify=df_y)\n",
    "X_val, X_test, y_val, y_test = train_test_split(X_val, y_val, test_size = 0.50, random_state = 123, stratify=y_val)\n",
    "\n",
    "X_train_num = X_train.drop(\"images\",axis=1)\n",
    "X_val_num = X_val.drop(\"images\",axis=1)\n",
    "X_test_num = X_test.drop(\"images\",axis=1)\n",
    "\n",
    "X_train_img = np.array([cv2.imread(img) for img in X_train[\"images\"]])\n",
    "X_val_img = np.array([cv2.imread(img) for img in X_val[\"images\"]])\n",
    "X_test_img = np.array([cv2.imread(img) for img in X_test[\"images\"]])\n",
    "\n",
    "\"\"\"X_train_img = np.array([cv2.resize(cv2.imread(img),(60,60)) for img in X_train[\"images\"]])\n",
    "X_val_img = np.array([cv2.resize(cv2.imread(img),(60,60)) for img in X_val[\"images\"]])\n",
    "X_test_img = np.array([cv2.resize(cv2.imread(img),(60,60)) for img in X_test[\"images\"]])\"\"\"\n",
    "\n",
    "imgs_shape = X_train_img[0].shape\n",
    "\n",
    "n_class = df['Species'].value_counts().count()\n",
    "attributes = len(X_train_num.columns)\n",
    "print(\"Image shape\",X_train_img[0].shape)\n",
    "print(\"Attributes\",attributes)\n",
    "print(\"Classes\",n_class)\n"
   ]
  },
  {
   "cell_type": "code",
   "execution_count": 10,
   "metadata": {},
   "outputs": [
    {
     "data": {
      "image/png": "[encoded data removed]",
      "text/plain": [
       "<Figure size 640x480 with 1 Axes>"
      ]
     },
     "metadata": {},
     "output_type": "display_data"
    }
   ],
   "source": [
    "#SPLITS CLASS DISTRIBUTION\n",
    "\n",
    "train_class_counts = np.bincount(y_train)\n",
    "val_class_counts = np.bincount(y_val)\n",
    "test_class_counts = np.bincount(y_test)\n",
    "\n",
    "width = 0.35 \n",
    "#plt.bar(class_labels, train_class_counts, width, label='Train')\n",
    "plt.bar(class_labels + width, val_class_counts, width, label='Validation')\n",
    "plt.bar(class_labels + width*2, test_class_counts, width, label='Test')\n",
    "\n",
    "plt.xlabel('Class')\n",
    "plt.ylabel('Samples')\n",
    "plt.title('Classes distribution')\n",
    "#plt.xticks(class_labels + width / 2, class_labels)\n",
    "plt.legend()\n",
    "\n",
    "# Mostrar el gráfico\n",
    "plt.show()\n"
   ]
  },
  {
   "cell_type": "code",
   "execution_count": 11,
   "metadata": {},
   "outputs": [],
   "source": [
    "#ONE HOT ENCODING FOR MULTICLASS PROBLEMS\n",
    "from tensorflow.keras.utils import to_categorical\n",
    "\n",
    "# y-1 because target is between [1,28] and not [0,27]\n",
    "y_train_oh =  to_categorical(y_train-1,n_class)\n",
    "y_val_oh = to_categorical(y_val-1,n_class)\n",
    "y_test_oh = to_categorical(y_test-1,n_class)"
   ]
  },
  {
   "cell_type": "code",
   "execution_count": 12,
   "metadata": {},
   "outputs": [
    {
     "data": {
      "text/plain": [
       "144    3.0\n",
       "125    3.0\n",
       "100    3.0\n",
       "43     1.0\n",
       "91     2.0\n",
       "72     2.0\n",
       "17     1.0\n",
       "61     2.0\n",
       "63     2.0\n",
       "116    3.0\n",
       "51     2.0\n",
       "32     1.0\n",
       "14     1.0\n",
       "4      1.0\n",
       "38     1.0\n",
       "146    3.0\n",
       "37     1.0\n",
       "129    3.0\n",
       "19     1.0\n",
       "101    3.0\n",
       "56     2.0\n",
       "16     1.0\n",
       "105    3.0\n",
       "70     2.0\n",
       "138    3.0\n",
       "80     2.0\n",
       "74     2.0\n",
       "67     2.0\n",
       "45     1.0\n",
       "117    3.0\n",
       "Name: class, dtype: float64"
      ]
     },
     "execution_count": 12,
     "metadata": {},
     "output_type": "execute_result"
    }
   ],
   "source": [
    "y_val"
   ]
  },
  {
   "cell_type": "code",
   "execution_count": 13,
   "metadata": {},
   "outputs": [
    {
     "data": {
      "text/plain": [
       "array([0., 0., 1.], dtype=float32)"
      ]
     },
     "execution_count": 13,
     "metadata": {},
     "output_type": "execute_result"
    }
   ],
   "source": [
    "y_val_oh[0]"
   ]
  },
  {
   "cell_type": "markdown",
   "metadata": {},
   "source": [
    "<a id=\"section5\"></a>\n",
    "# <font color=\"#004D7F\" size=6> 5. Modeling hybrid network</font>"
   ]
  },
  {
   "cell_type": "markdown",
   "metadata": {},
   "source": [
    "---\n",
    "<a id=\"section51\"></a>\n",
    "# <font color=\"#004D7F\" size=5> 5.1. FFNN for tabular data</font>\n",
    "\n",
    "This is an example of a simple FFNN for tabular data. Note that we are not looking for the optimization of the ViT but to show an example of TINTOlib execution."
   ]
  },
  {
   "cell_type": "code",
   "execution_count": 32,
   "metadata": {},
   "outputs": [],
   "source": [
    "dropout = 0.3"
   ]
  },
  {
   "cell_type": "code",
   "execution_count": 33,
   "metadata": {},
   "outputs": [],
   "source": [
    "filters_ffnn = [64,32,16]\n",
    "\n",
    "ff_model = Sequential()\n",
    "ff_model.add(Input(shape=(attributes,)))\n",
    "\n",
    "for layer in filters_ffnn:\n",
    "    ff_model.add(Dense(layer, activation=\"relu\"))\n",
    "    #ff_model.add(BatchNormalization())\n",
    "    ff_model.add(Dropout(dropout))"
   ]
  },
  {
   "cell_type": "markdown",
   "metadata": {},
   "source": [
    "---\n",
    "<a id=\"section52\"></a>\n",
    "# <font color=\"#004D7F\" size=5> 5.2. ViT for TINTOlib images</font>\n",
    "\n",
    "This is an example of a simple ViT for TINTOlib images. Note that we are not looking for the optimization of the ViT but to show an example of TINTOlib execution.\n",
    "\n",
    "It is crucial to select an appropriate patch size. The patch size should be a divisor of the input image size; for example, an image of 20x20 with a patch size of 5 would result in a total of 16 patches (4x4 grid). Given the high computational cost, the patch size should be carefully chosen based on the dimensions of the image."
   ]
  },
  {
   "cell_type": "code",
   "execution_count": 34,
   "metadata": {},
   "outputs": [],
   "source": [
    "from HyNN.layers import Encoder, TransformerBlock, ResidualBlock\n",
    "from HyNN.HyNNViT import VisionTransformer\n",
    "\n",
    "#Input\n",
    "input_shape = Input(shape=imgs_shape)\n",
    "\n",
    "vit = VisionTransformer(\n",
    "    d_model=256,        # Dimensionality of the model\n",
    "    patch_size=5,       # Size of the patches to be extracted from the input images\n",
    "    in_channels=3,      # Number of input channels\n",
    "    n_heads=4,          # Number of attention heads\n",
    "    n_layers=3,         # Number of transformer layers\n",
    "    bias=True,          # Whether to include bias in the linear layers\n",
    "    dropout=0.1,        # Dropout rate\n",
    ")\n",
    "\n",
    "vit_output = vit(input_shape)\n",
    "\n",
    "vit_model = Model(inputs = input_shape, outputs=vit_output)\n",
    "\n"
   ]
  },
  {
   "cell_type": "markdown",
   "metadata": {},
   "source": [
    "---\n",
    "<a id=\"section53\"></a>\n",
    "# <font color=\"#004D7F\" size=5> 5.3. Concatenate branches</font>\n",
    "\n",
    "Finally, we must concatenate the output of the CNN branch with the output of the FFNN branch in a final FFNN that will give the predictions."
   ]
  },
  {
   "cell_type": "code",
   "execution_count": 35,
   "metadata": {},
   "outputs": [],
   "source": [
    "combinedInput = concatenate([ff_model.output, vit_model.output])\n",
    "x = Dense(32, activation=\"relu\")(combinedInput)\n",
    "#x = BatchNormalization()(x)\n",
    "x = Dense(n_class, activation=\"softmax\")(x)\n",
    "\n",
    "model = Model(inputs=[ff_model.input, vit_model.input], outputs=x)"
   ]
  },
  {
   "cell_type": "markdown",
   "metadata": {},
   "source": [
    "---\n",
    "<a id=\"section54\"></a>\n",
    "# <font color=\"#004D7F\" size=5> 5.4. Metrics</font>\n",
    "\n",
    "Define metrics and some hyperparameters"
   ]
  },
  {
   "cell_type": "code",
   "execution_count": 36,
   "metadata": {},
   "outputs": [],
   "source": [
    "METRICS = [\n",
    "    #tf.keras.metrics.TruePositives(name = 'tp'),\n",
    "    #tf.keras.metrics.FalsePositives(name = 'fp'),\n",
    "    #tf.keras.metrics.TrueNegatives(name = 'tn'),\n",
    "    #tf.keras.metrics.FalseNegatives(name = 'fn'), \n",
    "    tf.keras.metrics.CategoricalAccuracy(name ='accuracy'),\n",
    "    tf.keras.metrics.Precision(name = 'precision'),\n",
    "    tf.keras.metrics.Recall(name = 'recall'),\n",
    "    tf.keras.metrics.AUC(name = 'auc'),\n",
    "]"
   ]
  },
  {
   "cell_type": "markdown",
   "metadata": {},
   "source": [
    "---\n",
    "<a id=\"section55\"></a>\n",
    "# <font color=\"#004D7F\" size=5> 5.5. Compile and fit</font>\n",
    "\n",
    "Note to specify the **loss depending** on whether you have a binary or multiclass classification problem."
   ]
  },
  {
   "cell_type": "code",
   "execution_count": 37,
   "metadata": {},
   "outputs": [],
   "source": [
    "#HYPERPARAMETERS\n",
    "opt = tf.keras.optimizers.legacy.Adam(learning_rate=1e-3)\n",
    "model.compile(\n",
    "    loss=\"categorical_crossentropy\", \n",
    "    optimizer=opt,\n",
    "    metrics = METRICS\n",
    ")\n",
    "epochs = 500"
   ]
  },
  {
   "cell_type": "code",
   "execution_count": 38,
   "metadata": {},
   "outputs": [],
   "source": [
    "# Define EarlyStopping callback\n",
    "early_stopping = tf.keras.callbacks.EarlyStopping(monitor='val_loss', patience=10, mode=\"max\" ,restore_best_weights=True)"
   ]
  },
  {
   "cell_type": "code",
   "execution_count": 21,
   "metadata": {},
   "outputs": [
    {
     "name": "stdout",
     "output_type": "stream",
     "text": [
      "Epoch 1/500\n"
     ]
    },
    {
     "name": "stdout",
     "output_type": "stream",
     "text": [
      "12/12 [==============================] - 4s 85ms/step - loss: 1.1828 - accuracy: 0.2889 - precision: 0.2500 - recall: 0.0333 - auc: 0.4389 - val_loss: 1.1093 - val_accuracy: 0.3333 - val_precision: 0.0000e+00 - val_recall: 0.0000e+00 - val_auc: 0.5650\n",
      "Epoch 2/500\n",
      "12/12 [==============================] - 0s 37ms/step - loss: 1.0712 - accuracy: 0.4667 - precision: 0.5556 - recall: 0.1111 - auc: 0.6055 - val_loss: 1.0702 - val_accuracy: 0.3333 - val_precision: 0.0000e+00 - val_recall: 0.0000e+00 - val_auc: 0.6386\n",
      "Epoch 3/500\n",
      "12/12 [==============================] - 0s 39ms/step - loss: 1.1200 - accuracy: 0.3444 - precision: 0.5882 - recall: 0.1111 - auc: 0.5125 - val_loss: 1.0335 - val_accuracy: 0.6000 - val_precision: 0.0000e+00 - val_recall: 0.0000e+00 - val_auc: 0.7086\n",
      "Epoch 4/500\n",
      "12/12 [==============================] - 0s 39ms/step - loss: 1.0664 - accuracy: 0.4222 - precision: 0.5455 - recall: 0.0667 - auc: 0.6069 - val_loss: 0.9857 - val_accuracy: 0.7333 - val_precision: 0.0000e+00 - val_recall: 0.0000e+00 - val_auc: 0.9058\n",
      "Epoch 5/500\n",
      "12/12 [==============================] - 0s 38ms/step - loss: 1.0760 - accuracy: 0.4111 - precision: 0.4167 - recall: 0.0556 - auc: 0.5971 - val_loss: 0.9643 - val_accuracy: 0.6667 - val_precision: 0.0000e+00 - val_recall: 0.0000e+00 - val_auc: 0.8036\n",
      "Epoch 6/500\n",
      "12/12 [==============================] - 1s 43ms/step - loss: 0.9784 - accuracy: 0.5889 - precision: 0.7500 - recall: 0.1000 - auc: 0.7378 - val_loss: 0.9633 - val_accuracy: 0.6667 - val_precision: 0.0000e+00 - val_recall: 0.0000e+00 - val_auc: 0.7886\n",
      "Epoch 7/500\n",
      "12/12 [==============================] - 0s 40ms/step - loss: 0.9174 - accuracy: 0.6222 - precision: 0.8947 - recall: 0.1889 - auc: 0.8096 - val_loss: 0.8872 - val_accuracy: 0.7667 - val_precision: 1.0000 - val_recall: 0.1667 - val_auc: 0.9461\n",
      "Epoch 8/500\n",
      "12/12 [==============================] - 0s 39ms/step - loss: 0.9005 - accuracy: 0.5889 - precision: 0.8400 - recall: 0.2333 - auc: 0.7888 - val_loss: 0.8152 - val_accuracy: 0.6667 - val_precision: 1.0000 - val_recall: 0.6333 - val_auc: 0.9319\n",
      "Epoch 9/500\n",
      "12/12 [==============================] - 0s 40ms/step - loss: 0.7672 - accuracy: 0.7111 - precision: 0.8864 - recall: 0.4333 - auc: 0.8819 - val_loss: 0.7464 - val_accuracy: 0.6667 - val_precision: 1.0000 - val_recall: 0.5667 - val_auc: 0.9425\n",
      "Epoch 10/500\n",
      "12/12 [==============================] - 0s 39ms/step - loss: 0.7320 - accuracy: 0.7000 - precision: 0.8868 - recall: 0.5222 - auc: 0.8885 - val_loss: 0.6987 - val_accuracy: 0.6667 - val_precision: 0.8696 - val_recall: 0.6667 - val_auc: 0.9369\n",
      "Epoch 11/500\n",
      "12/12 [==============================] - 0s 39ms/step - loss: 0.6788 - accuracy: 0.6778 - precision: 0.7903 - recall: 0.5444 - auc: 0.8899 - val_loss: 0.6317 - val_accuracy: 0.6667 - val_precision: 0.6897 - val_recall: 0.6667 - val_auc: 0.9442\n",
      "Epoch 12/500\n",
      "12/12 [==============================] - 0s 38ms/step - loss: 0.6531 - accuracy: 0.7556 - precision: 0.8167 - recall: 0.5444 - auc: 0.8991 - val_loss: 0.5320 - val_accuracy: 0.8000 - val_precision: 1.0000 - val_recall: 0.6667 - val_auc: 0.9675\n",
      "Epoch 13/500\n",
      "12/12 [==============================] - 0s 38ms/step - loss: 0.5897 - accuracy: 0.7667 - precision: 0.8429 - recall: 0.6556 - auc: 0.9159 - val_loss: 0.4647 - val_accuracy: 0.9333 - val_precision: 0.9545 - val_recall: 0.7000 - val_auc: 0.9867\n",
      "Epoch 14/500\n",
      "12/12 [==============================] - 0s 40ms/step - loss: 0.5920 - accuracy: 0.6889 - precision: 0.6933 - recall: 0.5778 - auc: 0.8906 - val_loss: 0.4311 - val_accuracy: 0.8333 - val_precision: 0.9600 - val_recall: 0.8000 - val_auc: 0.9817\n",
      "Epoch 15/500\n",
      "12/12 [==============================] - 1s 44ms/step - loss: 0.5439 - accuracy: 0.7778 - precision: 0.7838 - recall: 0.6444 - auc: 0.9135 - val_loss: 0.4418 - val_accuracy: 0.8667 - val_precision: 0.9130 - val_recall: 0.7000 - val_auc: 0.9736\n",
      "Epoch 16/500\n",
      "12/12 [==============================] - 0s 39ms/step - loss: 0.5600 - accuracy: 0.7222 - precision: 0.7215 - recall: 0.6333 - auc: 0.9023 - val_loss: 0.4290 - val_accuracy: 0.9333 - val_precision: 1.0000 - val_recall: 0.7667 - val_auc: 0.9911\n",
      "Epoch 17/500\n",
      "12/12 [==============================] - 0s 40ms/step - loss: 0.4859 - accuracy: 0.8000 - precision: 0.8077 - recall: 0.7000 - auc: 0.9333 - val_loss: 0.4167 - val_accuracy: 0.9333 - val_precision: 1.0000 - val_recall: 0.8000 - val_auc: 0.9886\n",
      "Epoch 18/500\n",
      "12/12 [==============================] - 1s 42ms/step - loss: 0.4814 - accuracy: 0.7667 - precision: 0.7778 - recall: 0.7000 - auc: 0.9263 - val_loss: 0.3917 - val_accuracy: 1.0000 - val_precision: 1.0000 - val_recall: 0.9000 - val_auc: 0.9997\n",
      "Epoch 19/500\n",
      "12/12 [==============================] - 0s 40ms/step - loss: 0.4721 - accuracy: 0.7667 - precision: 0.7805 - recall: 0.7111 - auc: 0.9286 - val_loss: 0.3723 - val_accuracy: 0.9333 - val_precision: 0.9333 - val_recall: 0.9333 - val_auc: 0.9964\n",
      "Epoch 20/500\n",
      "12/12 [==============================] - 0s 39ms/step - loss: 0.4744 - accuracy: 0.7222 - precision: 0.7308 - recall: 0.6333 - auc: 0.9246 - val_loss: 0.3495 - val_accuracy: 0.9333 - val_precision: 0.9333 - val_recall: 0.9333 - val_auc: 0.9947\n",
      "Epoch 21/500\n",
      "12/12 [==============================] - 0s 40ms/step - loss: 0.3987 - accuracy: 0.7889 - precision: 0.8375 - recall: 0.7444 - auc: 0.9553 - val_loss: 0.4066 - val_accuracy: 0.6667 - val_precision: 0.6667 - val_recall: 0.6667 - val_auc: 0.9444\n",
      "Epoch 22/500\n",
      "12/12 [==============================] - 0s 42ms/step - loss: 0.3596 - accuracy: 0.9000 - precision: 0.9186 - recall: 0.8778 - auc: 0.9773 - val_loss: 0.4082 - val_accuracy: 0.6667 - val_precision: 0.6667 - val_recall: 0.6667 - val_auc: 0.9444\n",
      "Epoch 23/500\n",
      "12/12 [==============================] - 0s 42ms/step - loss: 0.4607 - accuracy: 0.7778 - precision: 0.7701 - recall: 0.7444 - auc: 0.9267 - val_loss: 0.3238 - val_accuracy: 0.8667 - val_precision: 0.8621 - val_recall: 0.8333 - val_auc: 0.9853\n",
      "Epoch 24/500\n",
      "12/12 [==============================] - 0s 41ms/step - loss: 0.4296 - accuracy: 0.7556 - precision: 0.7614 - recall: 0.7444 - auc: 0.9391 - val_loss: 0.3301 - val_accuracy: 0.8000 - val_precision: 0.8000 - val_recall: 0.8000 - val_auc: 0.9800\n",
      "Epoch 25/500\n",
      "12/12 [==============================] - 0s 42ms/step - loss: 0.4297 - accuracy: 0.7889 - precision: 0.8068 - recall: 0.7889 - auc: 0.9420 - val_loss: 0.3056 - val_accuracy: 0.8667 - val_precision: 0.8667 - val_recall: 0.8667 - val_auc: 0.9836\n",
      "Epoch 26/500\n",
      "12/12 [==============================] - 1s 44ms/step - loss: 0.3980 - accuracy: 0.8333 - precision: 0.8315 - recall: 0.8222 - auc: 0.9518 - val_loss: 0.2841 - val_accuracy: 0.9333 - val_precision: 0.9333 - val_recall: 0.9333 - val_auc: 0.9978\n",
      "Epoch 27/500\n",
      "12/12 [==============================] - 0s 42ms/step - loss: 0.4199 - accuracy: 0.8222 - precision: 0.8161 - recall: 0.7889 - auc: 0.9451 - val_loss: 0.3102 - val_accuracy: 0.9000 - val_precision: 0.9000 - val_recall: 0.9000 - val_auc: 0.9817\n",
      "Epoch 28/500\n",
      "12/12 [==============================] - 0s 41ms/step - loss: 0.3652 - accuracy: 0.8000 - precision: 0.8372 - recall: 0.8000 - auc: 0.9632 - val_loss: 0.3005 - val_accuracy: 0.9333 - val_precision: 0.9310 - val_recall: 0.9000 - val_auc: 0.9828\n",
      "Epoch 29/500\n",
      "12/12 [==============================] - 0s 41ms/step - loss: 0.3398 - accuracy: 0.8444 - precision: 0.8427 - recall: 0.8333 - auc: 0.9667 - val_loss: 0.2663 - val_accuracy: 0.9333 - val_precision: 0.9333 - val_recall: 0.9333 - val_auc: 0.9978\n",
      "Epoch 30/500\n",
      "12/12 [==============================] - 0s 40ms/step - loss: 0.3300 - accuracy: 0.8778 - precision: 0.8941 - recall: 0.8444 - auc: 0.9740 - val_loss: 0.2370 - val_accuracy: 0.9667 - val_precision: 0.9667 - val_recall: 0.9667 - val_auc: 0.9994\n",
      "Epoch 31/500\n",
      "12/12 [==============================] - 1s 47ms/step - loss: 0.3220 - accuracy: 0.8667 - precision: 0.8750 - recall: 0.8556 - auc: 0.9725 - val_loss: 0.2260 - val_accuracy: 0.9667 - val_precision: 0.9667 - val_recall: 0.9667 - val_auc: 0.9986\n",
      "Epoch 32/500\n",
      "12/12 [==============================] - 0s 40ms/step - loss: 0.2828 - accuracy: 0.9111 - precision: 0.9101 - recall: 0.9000 - auc: 0.9826 - val_loss: 0.2015 - val_accuracy: 0.9333 - val_precision: 0.9333 - val_recall: 0.9333 - val_auc: 0.9978\n",
      "Epoch 33/500\n",
      "12/12 [==============================] - 0s 39ms/step - loss: 0.3218 - accuracy: 0.8889 - precision: 0.8889 - recall: 0.8889 - auc: 0.9736 - val_loss: 0.1893 - val_accuracy: 0.9667 - val_precision: 0.9667 - val_recall: 0.9667 - val_auc: 0.9972\n",
      "Epoch 34/500\n",
      "12/12 [==============================] - 0s 40ms/step - loss: 0.3087 - accuracy: 0.8778 - precision: 0.8778 - recall: 0.8778 - auc: 0.9731 - val_loss: 0.2088 - val_accuracy: 0.9333 - val_precision: 0.9333 - val_recall: 0.9333 - val_auc: 0.9933\n",
      "Epoch 35/500\n",
      "12/12 [==============================] - 0s 40ms/step - loss: 0.3165 - accuracy: 0.8444 - precision: 0.8444 - recall: 0.8444 - auc: 0.9713 - val_loss: 0.1917 - val_accuracy: 0.9333 - val_precision: 0.9333 - val_recall: 0.9333 - val_auc: 0.9978\n",
      "Epoch 36/500\n",
      "12/12 [==============================] - 0s 40ms/step - loss: 0.3023 - accuracy: 0.8556 - precision: 0.8539 - recall: 0.8444 - auc: 0.9737 - val_loss: 0.2049 - val_accuracy: 0.9333 - val_precision: 0.9333 - val_recall: 0.9333 - val_auc: 0.9950\n",
      "Epoch 37/500\n",
      "12/12 [==============================] - 0s 40ms/step - loss: 0.2302 - accuracy: 0.9333 - precision: 0.9333 - recall: 0.9333 - auc: 0.9885 - val_loss: 0.1660 - val_accuracy: 1.0000 - val_precision: 1.0000 - val_recall: 1.0000 - val_auc: 1.0000\n",
      "Epoch 38/500\n",
      "12/12 [==============================] - 0s 40ms/step - loss: 0.2633 - accuracy: 0.9222 - precision: 0.9222 - recall: 0.9222 - auc: 0.9818 - val_loss: 0.1534 - val_accuracy: 0.9667 - val_precision: 0.9667 - val_recall: 0.9667 - val_auc: 0.9986\n",
      "Epoch 39/500\n",
      "12/12 [==============================] - 0s 40ms/step - loss: 0.2239 - accuracy: 0.9000 - precision: 0.9101 - recall: 0.9000 - auc: 0.9895 - val_loss: 0.1543 - val_accuracy: 0.9667 - val_precision: 0.9667 - val_recall: 0.9667 - val_auc: 0.9972\n",
      "Epoch 40/500\n",
      "12/12 [==============================] - 0s 42ms/step - loss: 0.1860 - accuracy: 0.9333 - precision: 0.9333 - recall: 0.9333 - auc: 0.9923 - val_loss: 0.1465 - val_accuracy: 0.9333 - val_precision: 0.9333 - val_recall: 0.9333 - val_auc: 0.9967\n",
      "Epoch 41/500\n",
      "12/12 [==============================] - 0s 40ms/step - loss: 0.2184 - accuracy: 0.9111 - precision: 0.9101 - recall: 0.9000 - auc: 0.9873 - val_loss: 0.2035 - val_accuracy: 0.9333 - val_precision: 0.9333 - val_recall: 0.9333 - val_auc: 0.9867\n",
      "Epoch 42/500\n",
      "12/12 [==============================] - 0s 41ms/step - loss: 0.2995 - accuracy: 0.9333 - precision: 0.9333 - recall: 0.9333 - auc: 0.9733 - val_loss: 0.2506 - val_accuracy: 0.9333 - val_precision: 0.9333 - val_recall: 0.9333 - val_auc: 0.9822\n",
      "Epoch 43/500\n",
      "12/12 [==============================] - 1s 44ms/step - loss: 0.1808 - accuracy: 0.9222 - precision: 0.9222 - recall: 0.9222 - auc: 0.9911 - val_loss: 0.1510 - val_accuracy: 0.9667 - val_precision: 0.9667 - val_recall: 0.9667 - val_auc: 0.9997\n",
      "Epoch 44/500\n",
      "12/12 [==============================] - 0s 40ms/step - loss: 0.2699 - accuracy: 0.8889 - precision: 0.8889 - recall: 0.8889 - auc: 0.9797 - val_loss: 0.2041 - val_accuracy: 0.9000 - val_precision: 0.9000 - val_recall: 0.9000 - val_auc: 0.9869\n",
      "Epoch 45/500\n",
      "12/12 [==============================] - 0s 42ms/step - loss: 0.1911 - accuracy: 0.9111 - precision: 0.9111 - recall: 0.9111 - auc: 0.9911 - val_loss: 0.1220 - val_accuracy: 0.9667 - val_precision: 0.9667 - val_recall: 0.9667 - val_auc: 0.9983\n",
      "Epoch 46/500\n",
      "12/12 [==============================] - 0s 41ms/step - loss: 0.2129 - accuracy: 0.9222 - precision: 0.9222 - recall: 0.9222 - auc: 0.9860 - val_loss: 0.1293 - val_accuracy: 0.9333 - val_precision: 0.9333 - val_recall: 0.9333 - val_auc: 0.9978\n",
      "Epoch 47/500\n",
      "12/12 [==============================] - 0s 41ms/step - loss: 0.2014 - accuracy: 0.9111 - precision: 0.9111 - recall: 0.9111 - auc: 0.9886 - val_loss: 0.1089 - val_accuracy: 0.9667 - val_precision: 0.9667 - val_recall: 0.9667 - val_auc: 0.9983\n",
      "Epoch 48/500\n",
      "12/12 [==============================] - 0s 41ms/step - loss: 0.1583 - accuracy: 0.9556 - precision: 0.9556 - recall: 0.9556 - auc: 0.9942 - val_loss: 0.1124 - val_accuracy: 0.9333 - val_precision: 0.9333 - val_recall: 0.9333 - val_auc: 0.9978\n",
      "Epoch 49/500\n",
      "12/12 [==============================] - 0s 40ms/step - loss: 0.1990 - accuracy: 0.9333 - precision: 0.9333 - recall: 0.9333 - auc: 0.9865 - val_loss: 0.1110 - val_accuracy: 0.9667 - val_precision: 0.9667 - val_recall: 0.9667 - val_auc: 0.9994\n",
      "Epoch 50/500\n",
      "12/12 [==============================] - 1s 45ms/step - loss: 0.3124 - accuracy: 0.8444 - precision: 0.8444 - recall: 0.8444 - auc: 0.9730 - val_loss: 0.1846 - val_accuracy: 0.9333 - val_precision: 0.9333 - val_recall: 0.9333 - val_auc: 0.9892\n",
      "Epoch 51/500\n",
      "12/12 [==============================] - 0s 41ms/step - loss: 0.3034 - accuracy: 0.8556 - precision: 0.8652 - recall: 0.8556 - auc: 0.9723 - val_loss: 0.1167 - val_accuracy: 0.9667 - val_precision: 0.9667 - val_recall: 0.9667 - val_auc: 0.9983\n",
      "Epoch 52/500\n",
      "12/12 [==============================] - 0s 40ms/step - loss: 0.2009 - accuracy: 0.9556 - precision: 0.9556 - recall: 0.9556 - auc: 0.9888 - val_loss: 0.1426 - val_accuracy: 0.9333 - val_precision: 0.9333 - val_recall: 0.9333 - val_auc: 0.9978\n",
      "Epoch 53/500\n",
      "12/12 [==============================] - 0s 40ms/step - loss: 0.2084 - accuracy: 0.9222 - precision: 0.9213 - recall: 0.9111 - auc: 0.9881 - val_loss: 0.2081 - val_accuracy: 0.9333 - val_precision: 0.9333 - val_recall: 0.9333 - val_auc: 0.9850\n",
      "Epoch 54/500\n",
      "12/12 [==============================] - 0s 41ms/step - loss: 0.2081 - accuracy: 0.9222 - precision: 0.9326 - recall: 0.9222 - auc: 0.9888 - val_loss: 0.1816 - val_accuracy: 0.9333 - val_precision: 0.9333 - val_recall: 0.9333 - val_auc: 0.9919\n",
      "Epoch 55/500\n",
      "12/12 [==============================] - 0s 41ms/step - loss: 0.2340 - accuracy: 0.9222 - precision: 0.9222 - recall: 0.9222 - auc: 0.9829 - val_loss: 0.1644 - val_accuracy: 0.9333 - val_precision: 0.9333 - val_recall: 0.9333 - val_auc: 0.9978\n",
      "Epoch 56/500\n",
      "12/12 [==============================] - 0s 42ms/step - loss: 0.1588 - accuracy: 0.9444 - precision: 0.9444 - recall: 0.9444 - auc: 0.9946 - val_loss: 0.1932 - val_accuracy: 0.9333 - val_precision: 0.9333 - val_recall: 0.9333 - val_auc: 0.9894\n",
      "Epoch 57/500\n",
      "12/12 [==============================] - 0s 40ms/step - loss: 0.1289 - accuracy: 0.9556 - precision: 0.9551 - recall: 0.9444 - auc: 0.9980 - val_loss: 0.1452 - val_accuracy: 0.9333 - val_precision: 0.9333 - val_recall: 0.9333 - val_auc: 0.9978\n",
      "Epoch 58/500\n",
      "12/12 [==============================] - 1s 43ms/step - loss: 0.1895 - accuracy: 0.9111 - precision: 0.9111 - recall: 0.9111 - auc: 0.9902 - val_loss: 0.1147 - val_accuracy: 0.9333 - val_precision: 0.9333 - val_recall: 0.9333 - val_auc: 0.9978\n",
      "Epoch 59/500\n",
      "12/12 [==============================] - 1s 44ms/step - loss: 0.1450 - accuracy: 0.9556 - precision: 0.9556 - recall: 0.9556 - auc: 0.9949 - val_loss: 0.1025 - val_accuracy: 0.9333 - val_precision: 0.9333 - val_recall: 0.9333 - val_auc: 0.9978\n",
      "Epoch 60/500\n",
      "12/12 [==============================] - 0s 41ms/step - loss: 0.1721 - accuracy: 0.9444 - precision: 0.9444 - recall: 0.9444 - auc: 0.9906 - val_loss: 0.1627 - val_accuracy: 0.9333 - val_precision: 0.9333 - val_recall: 0.9333 - val_auc: 0.9972\n",
      "Epoch 61/500\n",
      "12/12 [==============================] - 1s 42ms/step - loss: 0.1104 - accuracy: 0.9889 - precision: 0.9889 - recall: 0.9889 - auc: 0.9975 - val_loss: 0.1309 - val_accuracy: 0.9333 - val_precision: 0.9333 - val_recall: 0.9333 - val_auc: 0.9978\n",
      "Epoch 62/500\n",
      "12/12 [==============================] - 0s 42ms/step - loss: 0.1958 - accuracy: 0.9444 - precision: 0.9444 - recall: 0.9444 - auc: 0.9879 - val_loss: 0.2085 - val_accuracy: 0.9333 - val_precision: 0.9333 - val_recall: 0.9333 - val_auc: 0.9856\n",
      "Epoch 63/500\n",
      "12/12 [==============================] - 0s 42ms/step - loss: 0.1482 - accuracy: 0.9556 - precision: 0.9556 - recall: 0.9556 - auc: 0.9932 - val_loss: 0.1760 - val_accuracy: 0.9333 - val_precision: 0.9333 - val_recall: 0.9333 - val_auc: 0.9944\n",
      "Epoch 64/500\n",
      "12/12 [==============================] - 1s 44ms/step - loss: 0.1147 - accuracy: 0.9778 - precision: 0.9778 - recall: 0.9778 - auc: 0.9969 - val_loss: 0.2163 - val_accuracy: 0.9333 - val_precision: 0.9333 - val_recall: 0.9333 - val_auc: 0.9819\n",
      "Epoch 65/500\n",
      "12/12 [==============================] - 0s 42ms/step - loss: 0.1497 - accuracy: 0.9667 - precision: 0.9667 - recall: 0.9667 - auc: 0.9928 - val_loss: 0.1037 - val_accuracy: 0.9333 - val_precision: 0.9333 - val_recall: 0.9333 - val_auc: 0.9978\n",
      "Epoch 66/500\n",
      "12/12 [==============================] - 1s 45ms/step - loss: 0.1029 - accuracy: 0.9556 - precision: 0.9556 - recall: 0.9556 - auc: 0.9983 - val_loss: 0.1146 - val_accuracy: 0.9333 - val_precision: 0.9333 - val_recall: 0.9333 - val_auc: 0.9978\n",
      "Epoch 67/500\n",
      "12/12 [==============================] - 0s 42ms/step - loss: 0.0939 - accuracy: 0.9667 - precision: 0.9667 - recall: 0.9667 - auc: 0.9985 - val_loss: 0.0991 - val_accuracy: 0.9333 - val_precision: 0.9333 - val_recall: 0.9333 - val_auc: 0.9978\n",
      "Epoch 68/500\n",
      "12/12 [==============================] - 1s 44ms/step - loss: 0.1632 - accuracy: 0.9222 - precision: 0.9222 - recall: 0.9222 - auc: 0.9930 - val_loss: 0.1173 - val_accuracy: 0.9333 - val_precision: 0.9333 - val_recall: 0.9333 - val_auc: 0.9978\n",
      "Epoch 69/500\n",
      "12/12 [==============================] - 1s 42ms/step - loss: 0.1978 - accuracy: 0.9444 - precision: 0.9444 - recall: 0.9444 - auc: 0.9862 - val_loss: 0.0790 - val_accuracy: 0.9667 - val_precision: 0.9667 - val_recall: 0.9667 - val_auc: 0.9994\n",
      "Epoch 70/500\n",
      "12/12 [==============================] - 0s 42ms/step - loss: 0.1866 - accuracy: 0.9444 - precision: 0.9444 - recall: 0.9444 - auc: 0.9847 - val_loss: 0.0812 - val_accuracy: 1.0000 - val_precision: 1.0000 - val_recall: 1.0000 - val_auc: 1.0000\n",
      "Epoch 71/500\n",
      "12/12 [==============================] - 0s 41ms/step - loss: 0.1573 - accuracy: 0.9444 - precision: 0.9444 - recall: 0.9444 - auc: 0.9911 - val_loss: 0.1442 - val_accuracy: 0.9333 - val_precision: 0.9333 - val_recall: 0.9333 - val_auc: 0.9978\n",
      "Epoch 72/500\n",
      "12/12 [==============================] - 0s 42ms/step - loss: 0.1091 - accuracy: 0.9667 - precision: 0.9667 - recall: 0.9667 - auc: 0.9982 - val_loss: 0.1304 - val_accuracy: 0.9333 - val_precision: 0.9333 - val_recall: 0.9333 - val_auc: 0.9978\n",
      "Epoch 73/500\n",
      "12/12 [==============================] - 0s 41ms/step - loss: 0.1508 - accuracy: 0.9556 - precision: 0.9556 - recall: 0.9556 - auc: 0.9928 - val_loss: 0.0943 - val_accuracy: 0.9333 - val_precision: 0.9333 - val_recall: 0.9333 - val_auc: 0.9978\n",
      "Epoch 74/500\n",
      "12/12 [==============================] - 0s 40ms/step - loss: 0.1299 - accuracy: 0.9444 - precision: 0.9444 - recall: 0.9444 - auc: 0.9950 - val_loss: 0.1020 - val_accuracy: 0.9333 - val_precision: 0.9333 - val_recall: 0.9333 - val_auc: 0.9978\n",
      "Epoch 75/500\n",
      "12/12 [==============================] - 0s 40ms/step - loss: 0.1709 - accuracy: 0.9222 - precision: 0.9222 - recall: 0.9222 - auc: 0.9918 - val_loss: 0.0998 - val_accuracy: 0.9667 - val_precision: 0.9667 - val_recall: 0.9667 - val_auc: 0.9983\n",
      "Epoch 76/500\n",
      "12/12 [==============================] - 0s 41ms/step - loss: 0.0706 - accuracy: 1.0000 - precision: 1.0000 - recall: 0.9889 - auc: 1.0000 - val_loss: 0.1533 - val_accuracy: 0.9333 - val_precision: 0.9333 - val_recall: 0.9333 - val_auc: 0.9956\n",
      "Epoch 77/500\n",
      "12/12 [==============================] - 0s 41ms/step - loss: 0.1904 - accuracy: 0.9111 - precision: 0.9111 - recall: 0.9111 - auc: 0.9899 - val_loss: 0.1045 - val_accuracy: 0.9333 - val_precision: 0.9333 - val_recall: 0.9333 - val_auc: 0.9978\n",
      "Epoch 78/500\n",
      "12/12 [==============================] - 0s 40ms/step - loss: 0.1063 - accuracy: 0.9444 - precision: 0.9444 - recall: 0.9444 - auc: 0.9972 - val_loss: 0.0737 - val_accuracy: 0.9667 - val_precision: 0.9667 - val_recall: 0.9667 - val_auc: 0.9994\n",
      "Epoch 79/500\n",
      "12/12 [==============================] - 0s 41ms/step - loss: 0.1064 - accuracy: 0.9667 - precision: 0.9667 - recall: 0.9667 - auc: 0.9977 - val_loss: 0.0816 - val_accuracy: 0.9333 - val_precision: 0.9333 - val_recall: 0.9333 - val_auc: 0.9978\n",
      "Epoch 80/500\n",
      "12/12 [==============================] - 1s 43ms/step - loss: 0.1341 - accuracy: 0.9556 - precision: 0.9556 - recall: 0.9556 - auc: 0.9944 - val_loss: 0.1060 - val_accuracy: 0.9333 - val_precision: 0.9333 - val_recall: 0.9333 - val_auc: 0.9978\n",
      "Epoch 81/500\n",
      "12/12 [==============================] - 0s 42ms/step - loss: 0.1154 - accuracy: 0.9778 - precision: 0.9778 - recall: 0.9778 - auc: 0.9959 - val_loss: 0.1206 - val_accuracy: 0.9333 - val_precision: 0.9333 - val_recall: 0.9333 - val_auc: 0.9978\n",
      "Epoch 82/500\n",
      "12/12 [==============================] - 0s 42ms/step - loss: 0.1373 - accuracy: 0.9333 - precision: 0.9333 - recall: 0.9333 - auc: 0.9958 - val_loss: 0.2140 - val_accuracy: 0.9333 - val_precision: 0.9333 - val_recall: 0.9333 - val_auc: 0.9892\n",
      "Epoch 83/500\n",
      "12/12 [==============================] - 0s 41ms/step - loss: 0.2042 - accuracy: 0.9333 - precision: 0.9326 - recall: 0.9222 - auc: 0.9861 - val_loss: 0.0796 - val_accuracy: 0.9333 - val_precision: 0.9333 - val_recall: 0.9333 - val_auc: 0.9978\n",
      "Epoch 84/500\n",
      "12/12 [==============================] - 0s 41ms/step - loss: 0.2340 - accuracy: 0.9111 - precision: 0.9111 - recall: 0.9111 - auc: 0.9841 - val_loss: 0.0637 - val_accuracy: 1.0000 - val_precision: 1.0000 - val_recall: 1.0000 - val_auc: 1.0000\n",
      "Epoch 85/500\n",
      "12/12 [==============================] - 0s 41ms/step - loss: 0.1746 - accuracy: 0.9222 - precision: 0.9222 - recall: 0.9222 - auc: 0.9903 - val_loss: 0.0807 - val_accuracy: 0.9333 - val_precision: 0.9333 - val_recall: 0.9333 - val_auc: 0.9978\n",
      "Epoch 86/500\n",
      "12/12 [==============================] - 0s 42ms/step - loss: 0.1078 - accuracy: 0.9889 - precision: 0.9889 - recall: 0.9889 - auc: 0.9944 - val_loss: 0.1055 - val_accuracy: 0.9333 - val_precision: 0.9333 - val_recall: 0.9333 - val_auc: 0.9978\n",
      "Epoch 87/500\n",
      "12/12 [==============================] - 0s 41ms/step - loss: 0.1050 - accuracy: 0.9667 - precision: 0.9667 - recall: 0.9667 - auc: 0.9977 - val_loss: 0.0805 - val_accuracy: 0.9333 - val_precision: 0.9333 - val_recall: 0.9333 - val_auc: 0.9978\n",
      "Epoch 88/500\n",
      "12/12 [==============================] - 0s 40ms/step - loss: 0.1400 - accuracy: 0.9333 - precision: 0.9326 - recall: 0.9222 - auc: 0.9954 - val_loss: 0.0669 - val_accuracy: 1.0000 - val_precision: 1.0000 - val_recall: 1.0000 - val_auc: 1.0000\n",
      "Epoch 89/500\n",
      "12/12 [==============================] - 1s 45ms/step - loss: 0.1218 - accuracy: 0.9778 - precision: 0.9778 - recall: 0.9778 - auc: 0.9879 - val_loss: 0.0910 - val_accuracy: 0.9333 - val_precision: 0.9333 - val_recall: 0.9333 - val_auc: 0.9978\n",
      "Epoch 90/500\n",
      "12/12 [==============================] - 0s 40ms/step - loss: 0.1214 - accuracy: 0.9667 - precision: 0.9667 - recall: 0.9667 - auc: 0.9961 - val_loss: 0.0694 - val_accuracy: 1.0000 - val_precision: 1.0000 - val_recall: 1.0000 - val_auc: 1.0000\n",
      "Epoch 91/500\n",
      "12/12 [==============================] - 0s 40ms/step - loss: 0.1767 - accuracy: 0.9222 - precision: 0.9222 - recall: 0.9222 - auc: 0.9903 - val_loss: 0.3337 - val_accuracy: 0.8000 - val_precision: 0.8000 - val_recall: 0.8000 - val_auc: 0.9783\n",
      "Epoch 92/500\n",
      "12/12 [==============================] - 0s 42ms/step - loss: 0.0917 - accuracy: 0.9556 - precision: 0.9556 - recall: 0.9556 - auc: 0.9974 - val_loss: 0.1724 - val_accuracy: 0.9333 - val_precision: 0.9333 - val_recall: 0.9333 - val_auc: 0.9889\n",
      "Epoch 93/500\n",
      "12/12 [==============================] - 0s 42ms/step - loss: 0.0994 - accuracy: 0.9667 - precision: 0.9667 - recall: 0.9667 - auc: 0.9975 - val_loss: 0.0684 - val_accuracy: 1.0000 - val_precision: 1.0000 - val_recall: 1.0000 - val_auc: 1.0000\n",
      "Epoch 94/500\n",
      "12/12 [==============================] - 1s 43ms/step - loss: 0.1773 - accuracy: 0.9556 - precision: 0.9551 - recall: 0.9444 - auc: 0.9906 - val_loss: 0.0865 - val_accuracy: 0.9333 - val_precision: 0.9333 - val_recall: 0.9333 - val_auc: 0.9978\n",
      "Epoch 95/500\n",
      "12/12 [==============================] - 0s 41ms/step - loss: 0.0987 - accuracy: 0.9667 - precision: 0.9667 - recall: 0.9667 - auc: 0.9976 - val_loss: 0.3746 - val_accuracy: 0.8000 - val_precision: 0.8000 - val_recall: 0.8000 - val_auc: 0.9756\n",
      "Epoch 96/500\n",
      "12/12 [==============================] - 0s 40ms/step - loss: 0.0953 - accuracy: 0.9444 - precision: 0.9444 - recall: 0.9444 - auc: 0.9979 - val_loss: 0.4595 - val_accuracy: 0.8000 - val_precision: 0.8000 - val_recall: 0.8000 - val_auc: 0.9756\n",
      "Epoch 97/500\n",
      "12/12 [==============================] - 0s 40ms/step - loss: 0.0902 - accuracy: 0.9889 - precision: 0.9889 - recall: 0.9889 - auc: 0.9959 - val_loss: 0.4229 - val_accuracy: 0.8000 - val_precision: 0.8000 - val_recall: 0.8000 - val_auc: 0.9756\n",
      "Epoch 98/500\n",
      "12/12 [==============================] - 0s 41ms/step - loss: 0.0837 - accuracy: 0.9778 - precision: 0.9778 - recall: 0.9778 - auc: 0.9969 - val_loss: 0.2116 - val_accuracy: 0.9333 - val_precision: 0.9333 - val_recall: 0.9333 - val_auc: 0.9889\n",
      "Epoch 99/500\n",
      "12/12 [==============================] - 0s 41ms/step - loss: 0.0970 - accuracy: 0.9667 - precision: 0.9667 - recall: 0.9667 - auc: 0.9969 - val_loss: 0.0580 - val_accuracy: 1.0000 - val_precision: 1.0000 - val_recall: 1.0000 - val_auc: 1.0000\n",
      "Epoch 100/500\n",
      "12/12 [==============================] - 0s 41ms/step - loss: 0.0828 - accuracy: 0.9889 - precision: 0.9889 - recall: 0.9889 - auc: 0.9972 - val_loss: 0.0545 - val_accuracy: 1.0000 - val_precision: 1.0000 - val_recall: 1.0000 - val_auc: 1.0000\n",
      "Epoch 101/500\n",
      "12/12 [==============================] - 0s 41ms/step - loss: 0.0556 - accuracy: 0.9889 - precision: 0.9889 - recall: 0.9889 - auc: 0.9997 - val_loss: 0.0692 - val_accuracy: 0.9667 - val_precision: 0.9667 - val_recall: 0.9667 - val_auc: 0.9989\n",
      "Epoch 102/500\n",
      "12/12 [==============================] - 0s 41ms/step - loss: 0.1072 - accuracy: 0.9667 - precision: 0.9667 - recall: 0.9667 - auc: 0.9954 - val_loss: 0.0714 - val_accuracy: 0.9667 - val_precision: 0.9667 - val_recall: 0.9667 - val_auc: 0.9983\n",
      "Epoch 103/500\n",
      "12/12 [==============================] - 0s 42ms/step - loss: 0.1585 - accuracy: 0.9556 - precision: 0.9556 - recall: 0.9556 - auc: 0.9881 - val_loss: 0.0743 - val_accuracy: 0.9667 - val_precision: 0.9667 - val_recall: 0.9667 - val_auc: 0.9983\n",
      "Epoch 104/500\n",
      "12/12 [==============================] - 1s 44ms/step - loss: 0.1444 - accuracy: 0.9333 - precision: 0.9333 - recall: 0.9333 - auc: 0.9945 - val_loss: 0.0802 - val_accuracy: 0.9333 - val_precision: 0.9333 - val_recall: 0.9333 - val_auc: 0.9978\n",
      "Epoch 105/500\n",
      "12/12 [==============================] - 0s 41ms/step - loss: 0.1603 - accuracy: 0.9333 - precision: 0.9333 - recall: 0.9333 - auc: 0.9923 - val_loss: 0.1535 - val_accuracy: 0.9333 - val_precision: 0.9333 - val_recall: 0.9333 - val_auc: 0.9978\n",
      "Epoch 106/500\n",
      "12/12 [==============================] - 1s 47ms/step - loss: 0.1216 - accuracy: 0.9778 - precision: 0.9778 - recall: 0.9778 - auc: 0.9937 - val_loss: 0.0580 - val_accuracy: 1.0000 - val_precision: 1.0000 - val_recall: 1.0000 - val_auc: 1.0000\n",
      "Epoch 107/500\n",
      "12/12 [==============================] - 0s 42ms/step - loss: 0.1147 - accuracy: 0.9778 - precision: 0.9778 - recall: 0.9778 - auc: 0.9936 - val_loss: 0.0517 - val_accuracy: 1.0000 - val_precision: 1.0000 - val_recall: 1.0000 - val_auc: 1.0000\n",
      "Epoch 108/500\n",
      "12/12 [==============================] - 0s 41ms/step - loss: 0.1530 - accuracy: 0.9333 - precision: 0.9333 - recall: 0.9333 - auc: 0.9861 - val_loss: 0.1221 - val_accuracy: 0.9333 - val_precision: 0.9333 - val_recall: 0.9333 - val_auc: 0.9978\n",
      "Epoch 109/500\n",
      "12/12 [==============================] - 0s 41ms/step - loss: 0.1453 - accuracy: 0.9556 - precision: 0.9556 - recall: 0.9556 - auc: 0.9919 - val_loss: 0.0960 - val_accuracy: 0.9333 - val_precision: 0.9333 - val_recall: 0.9333 - val_auc: 0.9978\n",
      "Epoch 110/500\n",
      "12/12 [==============================] - 0s 40ms/step - loss: 0.0762 - accuracy: 0.9778 - precision: 0.9778 - recall: 0.9778 - auc: 0.9981 - val_loss: 0.0880 - val_accuracy: 0.9333 - val_precision: 0.9333 - val_recall: 0.9333 - val_auc: 0.9978\n",
      "Epoch 111/500\n",
      "12/12 [==============================] - 0s 40ms/step - loss: 0.1216 - accuracy: 0.9556 - precision: 0.9556 - recall: 0.9556 - auc: 0.9963 - val_loss: 0.0591 - val_accuracy: 0.9667 - val_precision: 0.9667 - val_recall: 0.9667 - val_auc: 0.9983\n",
      "Epoch 112/500\n",
      "12/12 [==============================] - 0s 42ms/step - loss: 0.0920 - accuracy: 0.9667 - precision: 0.9667 - recall: 0.9667 - auc: 0.9971 - val_loss: 0.0684 - val_accuracy: 0.9667 - val_precision: 0.9667 - val_recall: 0.9667 - val_auc: 0.9983\n",
      "Epoch 113/500\n",
      "12/12 [==============================] - 0s 41ms/step - loss: 0.0840 - accuracy: 0.9778 - precision: 0.9778 - recall: 0.9778 - auc: 0.9981 - val_loss: 0.1272 - val_accuracy: 0.9333 - val_precision: 0.9333 - val_recall: 0.9333 - val_auc: 0.9978\n",
      "Epoch 114/500\n",
      "12/12 [==============================] - 0s 40ms/step - loss: 0.0720 - accuracy: 0.9667 - precision: 0.9667 - recall: 0.9667 - auc: 0.9987 - val_loss: 0.1029 - val_accuracy: 0.9333 - val_precision: 0.9333 - val_recall: 0.9333 - val_auc: 0.9978\n",
      "Epoch 115/500\n",
      "12/12 [==============================] - 1s 43ms/step - loss: 0.1415 - accuracy: 0.9556 - precision: 0.9556 - recall: 0.9556 - auc: 0.9938 - val_loss: 0.0701 - val_accuracy: 0.9667 - val_precision: 0.9667 - val_recall: 0.9667 - val_auc: 0.9983\n",
      "Epoch 116/500\n",
      "12/12 [==============================] - 0s 42ms/step - loss: 0.0884 - accuracy: 0.9778 - precision: 0.9778 - recall: 0.9778 - auc: 0.9962 - val_loss: 0.0830 - val_accuracy: 0.9667 - val_precision: 0.9667 - val_recall: 0.9667 - val_auc: 0.9983\n",
      "Epoch 117/500\n",
      "12/12 [==============================] - 0s 42ms/step - loss: 0.0698 - accuracy: 0.9889 - precision: 0.9889 - recall: 0.9889 - auc: 0.9976 - val_loss: 0.1040 - val_accuracy: 0.9333 - val_precision: 0.9333 - val_recall: 0.9333 - val_auc: 0.9978\n",
      "Epoch 118/500\n",
      "12/12 [==============================] - 0s 41ms/step - loss: 0.0737 - accuracy: 0.9778 - precision: 0.9778 - recall: 0.9778 - auc: 0.9987 - val_loss: 0.1156 - val_accuracy: 0.9333 - val_precision: 0.9333 - val_recall: 0.9333 - val_auc: 0.9978\n",
      "Epoch 119/500\n",
      "12/12 [==============================] - 0s 40ms/step - loss: 0.1801 - accuracy: 0.9556 - precision: 0.9556 - recall: 0.9556 - auc: 0.9849 - val_loss: 0.1130 - val_accuracy: 0.9333 - val_precision: 0.9333 - val_recall: 0.9333 - val_auc: 0.9978\n",
      "Epoch 120/500\n",
      "12/12 [==============================] - 0s 41ms/step - loss: 0.1402 - accuracy: 0.9333 - precision: 0.9333 - recall: 0.9333 - auc: 0.9933 - val_loss: 0.1386 - val_accuracy: 0.9333 - val_precision: 0.9333 - val_recall: 0.9333 - val_auc: 0.9978\n",
      "Epoch 121/500\n",
      "12/12 [==============================] - 1s 43ms/step - loss: 0.0619 - accuracy: 0.9778 - precision: 0.9778 - recall: 0.9778 - auc: 0.9996 - val_loss: 0.1337 - val_accuracy: 0.9333 - val_precision: 0.9333 - val_recall: 0.9333 - val_auc: 0.9978\n",
      "Epoch 122/500\n",
      "12/12 [==============================] - 0s 42ms/step - loss: 0.0820 - accuracy: 0.9444 - precision: 0.9444 - recall: 0.9444 - auc: 0.9982 - val_loss: 0.0956 - val_accuracy: 0.9333 - val_precision: 0.9333 - val_recall: 0.9333 - val_auc: 0.9978\n",
      "Epoch 123/500\n",
      "12/12 [==============================] - 0s 41ms/step - loss: 0.1062 - accuracy: 0.9444 - precision: 0.9551 - recall: 0.9444 - auc: 0.9971 - val_loss: 0.0668 - val_accuracy: 0.9667 - val_precision: 0.9667 - val_recall: 0.9667 - val_auc: 0.9983\n",
      "Epoch 124/500\n",
      "12/12 [==============================] - 0s 40ms/step - loss: 0.0493 - accuracy: 0.9889 - precision: 0.9889 - recall: 0.9889 - auc: 0.9990 - val_loss: 0.0596 - val_accuracy: 0.9667 - val_precision: 0.9667 - val_recall: 0.9667 - val_auc: 0.9994\n",
      "Epoch 125/500\n",
      "12/12 [==============================] - 1s 45ms/step - loss: 0.1968 - accuracy: 0.9444 - precision: 0.9444 - recall: 0.9444 - auc: 0.9845 - val_loss: 0.0713 - val_accuracy: 0.9667 - val_precision: 0.9667 - val_recall: 0.9667 - val_auc: 0.9983\n",
      "Epoch 126/500\n",
      "12/12 [==============================] - 0s 41ms/step - loss: 0.0512 - accuracy: 0.9889 - precision: 0.9889 - recall: 0.9889 - auc: 0.9998 - val_loss: 0.0845 - val_accuracy: 0.9333 - val_precision: 0.9333 - val_recall: 0.9333 - val_auc: 0.9978\n",
      "Epoch 127/500\n",
      "12/12 [==============================] - 1s 44ms/step - loss: 0.0654 - accuracy: 0.9667 - precision: 0.9667 - recall: 0.9667 - auc: 0.9993 - val_loss: 0.1323 - val_accuracy: 0.9333 - val_precision: 0.9333 - val_recall: 0.9333 - val_auc: 0.9978\n",
      "Epoch 128/500\n",
      "12/12 [==============================] - 0s 40ms/step - loss: 0.1311 - accuracy: 0.9556 - precision: 0.9556 - recall: 0.9556 - auc: 0.9880 - val_loss: 0.1030 - val_accuracy: 0.9333 - val_precision: 0.9333 - val_recall: 0.9333 - val_auc: 0.9978\n",
      "Epoch 129/500\n",
      "12/12 [==============================] - 0s 42ms/step - loss: 0.0661 - accuracy: 0.9778 - precision: 0.9778 - recall: 0.9778 - auc: 0.9992 - val_loss: 0.1278 - val_accuracy: 0.9333 - val_precision: 0.9333 - val_recall: 0.9333 - val_auc: 0.9978\n",
      "Epoch 130/500\n",
      "12/12 [==============================] - 0s 41ms/step - loss: 0.1000 - accuracy: 0.9778 - precision: 0.9778 - recall: 0.9778 - auc: 0.9962 - val_loss: 0.1730 - val_accuracy: 0.9333 - val_precision: 0.9333 - val_recall: 0.9333 - val_auc: 0.9978\n",
      "Epoch 131/500\n",
      "12/12 [==============================] - 0s 41ms/step - loss: 0.0784 - accuracy: 0.9556 - precision: 0.9556 - recall: 0.9556 - auc: 0.9984 - val_loss: 0.1764 - val_accuracy: 0.9333 - val_precision: 0.9333 - val_recall: 0.9333 - val_auc: 0.9978\n",
      "Epoch 132/500\n",
      "12/12 [==============================] - 0s 41ms/step - loss: 0.0628 - accuracy: 0.9778 - precision: 0.9778 - recall: 0.9778 - auc: 0.9990 - val_loss: 0.2220 - val_accuracy: 0.9333 - val_precision: 0.9333 - val_recall: 0.9333 - val_auc: 0.9883\n",
      "Epoch 133/500\n",
      "12/12 [==============================] - 0s 40ms/step - loss: 0.1070 - accuracy: 0.9778 - precision: 0.9778 - recall: 0.9778 - auc: 0.9956 - val_loss: 0.1274 - val_accuracy: 0.9333 - val_precision: 0.9333 - val_recall: 0.9333 - val_auc: 0.9978\n",
      "Epoch 134/500\n",
      "12/12 [==============================] - 0s 40ms/step - loss: 0.1002 - accuracy: 0.9778 - precision: 0.9778 - recall: 0.9778 - auc: 0.9963 - val_loss: 0.1354 - val_accuracy: 0.9333 - val_precision: 0.9333 - val_recall: 0.9333 - val_auc: 0.9978\n",
      "Epoch 135/500\n",
      "12/12 [==============================] - 0s 41ms/step - loss: 0.0968 - accuracy: 0.9667 - precision: 0.9667 - recall: 0.9667 - auc: 0.9970 - val_loss: 0.1131 - val_accuracy: 0.9333 - val_precision: 0.9333 - val_recall: 0.9333 - val_auc: 0.9978\n",
      "Epoch 136/500\n",
      "12/12 [==============================] - 0s 40ms/step - loss: 0.1174 - accuracy: 0.9778 - precision: 0.9778 - recall: 0.9778 - auc: 0.9928 - val_loss: 0.1318 - val_accuracy: 0.9333 - val_precision: 0.9333 - val_recall: 0.9333 - val_auc: 0.9978\n",
      "Epoch 137/500\n",
      "12/12 [==============================] - 0s 42ms/step - loss: 0.2307 - accuracy: 0.9556 - precision: 0.9556 - recall: 0.9556 - auc: 0.9822 - val_loss: 0.1606 - val_accuracy: 0.9333 - val_precision: 0.9333 - val_recall: 0.9333 - val_auc: 0.9978\n",
      "Epoch 138/500\n",
      "12/12 [==============================] - 1s 46ms/step - loss: 0.0804 - accuracy: 0.9778 - precision: 0.9778 - recall: 0.9778 - auc: 0.9988 - val_loss: 0.2295 - val_accuracy: 0.9333 - val_precision: 0.9333 - val_recall: 0.9333 - val_auc: 0.9897\n",
      "Epoch 139/500\n",
      "12/12 [==============================] - 0s 42ms/step - loss: 0.0961 - accuracy: 0.9667 - precision: 0.9667 - recall: 0.9667 - auc: 0.9965 - val_loss: 0.1594 - val_accuracy: 0.9333 - val_precision: 0.9333 - val_recall: 0.9333 - val_auc: 0.9978\n",
      "Epoch 140/500\n",
      "12/12 [==============================] - 0s 42ms/step - loss: 0.1303 - accuracy: 0.9667 - precision: 0.9667 - recall: 0.9667 - auc: 0.9939 - val_loss: 0.1351 - val_accuracy: 0.9333 - val_precision: 0.9333 - val_recall: 0.9333 - val_auc: 0.9978\n",
      "Epoch 141/500\n",
      "12/12 [==============================] - 1s 43ms/step - loss: 0.1284 - accuracy: 0.9333 - precision: 0.9333 - recall: 0.9333 - auc: 0.9953 - val_loss: 0.1475 - val_accuracy: 0.9333 - val_precision: 0.9333 - val_recall: 0.9333 - val_auc: 0.9978\n",
      "Epoch 142/500\n",
      "12/12 [==============================] - 1s 44ms/step - loss: 0.0492 - accuracy: 0.9778 - precision: 0.9778 - recall: 0.9778 - auc: 0.9998 - val_loss: 0.1575 - val_accuracy: 0.9333 - val_precision: 0.9333 - val_recall: 0.9333 - val_auc: 0.9978\n",
      "Epoch 143/500\n",
      "12/12 [==============================] - 0s 42ms/step - loss: 0.0372 - accuracy: 0.9889 - precision: 0.9889 - recall: 0.9889 - auc: 0.9998 - val_loss: 0.1816 - val_accuracy: 0.9333 - val_precision: 0.9333 - val_recall: 0.9333 - val_auc: 0.9972\n",
      "Epoch 144/500\n",
      "12/12 [==============================] - 1s 43ms/step - loss: 0.1060 - accuracy: 0.9667 - precision: 0.9667 - recall: 0.9667 - auc: 0.9950 - val_loss: 0.1496 - val_accuracy: 0.9333 - val_precision: 0.9333 - val_recall: 0.9333 - val_auc: 0.9978\n",
      "Epoch 145/500\n",
      "12/12 [==============================] - 1s 43ms/step - loss: 0.0826 - accuracy: 0.9889 - precision: 0.9889 - recall: 0.9889 - auc: 0.9980 - val_loss: 0.2135 - val_accuracy: 0.9333 - val_precision: 0.9333 - val_recall: 0.9333 - val_auc: 0.9961\n",
      "Epoch 146/500\n",
      "12/12 [==============================] - 0s 42ms/step - loss: 0.1041 - accuracy: 0.9667 - precision: 0.9667 - recall: 0.9667 - auc: 0.9945 - val_loss: 0.1282 - val_accuracy: 0.9333 - val_precision: 0.9333 - val_recall: 0.9333 - val_auc: 0.9978\n",
      "Epoch 147/500\n",
      "12/12 [==============================] - 1s 46ms/step - loss: 0.1141 - accuracy: 0.9778 - precision: 0.9778 - recall: 0.9778 - auc: 0.9944 - val_loss: 0.1292 - val_accuracy: 0.9333 - val_precision: 0.9333 - val_recall: 0.9333 - val_auc: 0.9978\n",
      "Epoch 148/500\n",
      "12/12 [==============================] - 1s 46ms/step - loss: 0.0815 - accuracy: 0.9778 - precision: 0.9778 - recall: 0.9778 - auc: 0.9983 - val_loss: 0.1239 - val_accuracy: 0.9333 - val_precision: 0.9333 - val_recall: 0.9333 - val_auc: 0.9978\n",
      "Epoch 149/500\n",
      "12/12 [==============================] - 1s 44ms/step - loss: 0.1032 - accuracy: 0.9444 - precision: 0.9444 - recall: 0.9444 - auc: 0.9974 - val_loss: 0.0461 - val_accuracy: 1.0000 - val_precision: 1.0000 - val_recall: 1.0000 - val_auc: 1.0000\n",
      "Epoch 150/500\n",
      "12/12 [==============================] - 1s 44ms/step - loss: 0.1150 - accuracy: 0.9556 - precision: 0.9556 - recall: 0.9556 - auc: 0.9959 - val_loss: 0.0672 - val_accuracy: 0.9667 - val_precision: 0.9667 - val_recall: 0.9667 - val_auc: 0.9983\n",
      "Epoch 151/500\n",
      "12/12 [==============================] - 1s 43ms/step - loss: 0.0950 - accuracy: 0.9556 - precision: 0.9556 - recall: 0.9556 - auc: 0.9978 - val_loss: 0.0962 - val_accuracy: 0.9333 - val_precision: 0.9333 - val_recall: 0.9333 - val_auc: 0.9978\n",
      "Epoch 152/500\n",
      "12/12 [==============================] - 1s 45ms/step - loss: 0.0870 - accuracy: 0.9778 - precision: 0.9778 - recall: 0.9778 - auc: 0.9976 - val_loss: 0.1218 - val_accuracy: 0.9333 - val_precision: 0.9333 - val_recall: 0.9333 - val_auc: 0.9978\n",
      "Epoch 153/500\n",
      "12/12 [==============================] - 1s 42ms/step - loss: 0.0715 - accuracy: 0.9778 - precision: 0.9778 - recall: 0.9778 - auc: 0.9982 - val_loss: 0.1487 - val_accuracy: 0.9333 - val_precision: 0.9333 - val_recall: 0.9333 - val_auc: 0.9978\n",
      "Epoch 154/500\n",
      "12/12 [==============================] - 1s 42ms/step - loss: 0.0454 - accuracy: 0.9889 - precision: 0.9889 - recall: 0.9889 - auc: 0.9997 - val_loss: 0.1652 - val_accuracy: 0.9333 - val_precision: 0.9333 - val_recall: 0.9333 - val_auc: 0.9978\n",
      "Epoch 155/500\n",
      "12/12 [==============================] - 1s 43ms/step - loss: 0.0879 - accuracy: 0.9889 - precision: 0.9889 - recall: 0.9889 - auc: 0.9955 - val_loss: 0.1238 - val_accuracy: 0.9333 - val_precision: 0.9333 - val_recall: 0.9333 - val_auc: 0.9978\n",
      "Epoch 156/500\n",
      "12/12 [==============================] - 0s 41ms/step - loss: 0.1018 - accuracy: 0.9778 - precision: 0.9778 - recall: 0.9778 - auc: 0.9960 - val_loss: 0.1124 - val_accuracy: 0.9333 - val_precision: 0.9333 - val_recall: 0.9333 - val_auc: 0.9978\n",
      "Epoch 157/500\n",
      "12/12 [==============================] - 0s 41ms/step - loss: 0.0592 - accuracy: 0.9778 - precision: 0.9778 - recall: 0.9778 - auc: 0.9998 - val_loss: 0.1430 - val_accuracy: 0.9333 - val_precision: 0.9333 - val_recall: 0.9333 - val_auc: 0.9978\n",
      "Epoch 158/500\n",
      "12/12 [==============================] - 1s 47ms/step - loss: 0.1822 - accuracy: 0.9444 - precision: 0.9444 - recall: 0.9444 - auc: 0.9876 - val_loss: 0.1196 - val_accuracy: 0.9333 - val_precision: 0.9333 - val_recall: 0.9333 - val_auc: 0.9978\n",
      "Epoch 159/500\n",
      "12/12 [==============================] - 1s 46ms/step - loss: 0.0644 - accuracy: 0.9778 - precision: 0.9778 - recall: 0.9778 - auc: 0.9985 - val_loss: 0.1267 - val_accuracy: 0.9333 - val_precision: 0.9333 - val_recall: 0.9333 - val_auc: 0.9978\n",
      "Epoch 160/500\n",
      "12/12 [==============================] - 1s 45ms/step - loss: 0.0807 - accuracy: 0.9778 - precision: 0.9778 - recall: 0.9778 - auc: 0.9977 - val_loss: 0.1350 - val_accuracy: 0.9333 - val_precision: 0.9333 - val_recall: 0.9333 - val_auc: 0.9978\n",
      "Epoch 161/500\n",
      "12/12 [==============================] - 1s 44ms/step - loss: 0.1352 - accuracy: 0.9667 - precision: 0.9667 - recall: 0.9667 - auc: 0.9941 - val_loss: 0.0971 - val_accuracy: 0.9333 - val_precision: 0.9333 - val_recall: 0.9333 - val_auc: 0.9978\n",
      "Epoch 162/500\n",
      "12/12 [==============================] - 1s 44ms/step - loss: 0.0819 - accuracy: 0.9556 - precision: 0.9556 - recall: 0.9556 - auc: 0.9986 - val_loss: 0.0642 - val_accuracy: 0.9667 - val_precision: 0.9667 - val_recall: 0.9667 - val_auc: 0.9983\n",
      "Epoch 163/500\n",
      "12/12 [==============================] - 1s 45ms/step - loss: 0.0633 - accuracy: 0.9667 - precision: 0.9667 - recall: 0.9667 - auc: 0.9993 - val_loss: 0.0796 - val_accuracy: 0.9667 - val_precision: 0.9667 - val_recall: 0.9667 - val_auc: 0.9983\n",
      "Epoch 164/500\n",
      "12/12 [==============================] - 1s 44ms/step - loss: 0.0793 - accuracy: 0.9889 - precision: 0.9889 - recall: 0.9889 - auc: 0.9969 - val_loss: 0.1374 - val_accuracy: 0.9333 - val_precision: 0.9333 - val_recall: 0.9333 - val_auc: 0.9978\n",
      "Epoch 165/500\n",
      "12/12 [==============================] - 1s 48ms/step - loss: 0.0916 - accuracy: 0.9556 - precision: 0.9556 - recall: 0.9556 - auc: 0.9965 - val_loss: 0.1274 - val_accuracy: 0.9333 - val_precision: 0.9333 - val_recall: 0.9333 - val_auc: 0.9978\n",
      "Epoch 166/500\n",
      "12/12 [==============================] - 0s 40ms/step - loss: 0.0830 - accuracy: 0.9778 - precision: 0.9778 - recall: 0.9778 - auc: 0.9962 - val_loss: 0.1383 - val_accuracy: 0.9333 - val_precision: 0.9333 - val_recall: 0.9333 - val_auc: 0.9978\n",
      "Epoch 167/500\n",
      "12/12 [==============================] - 0s 42ms/step - loss: 0.0846 - accuracy: 0.9556 - precision: 0.9556 - recall: 0.9556 - auc: 0.9985 - val_loss: 0.1352 - val_accuracy: 0.9333 - val_precision: 0.9333 - val_recall: 0.9333 - val_auc: 0.9978\n",
      "Epoch 168/500\n",
      "12/12 [==============================] - 0s 39ms/step - loss: 0.0669 - accuracy: 0.9667 - precision: 0.9667 - recall: 0.9667 - auc: 0.9990 - val_loss: 0.1693 - val_accuracy: 0.9333 - val_precision: 0.9333 - val_recall: 0.9333 - val_auc: 0.9975\n",
      "Epoch 169/500\n",
      "12/12 [==============================] - 0s 40ms/step - loss: 0.0454 - accuracy: 0.9778 - precision: 0.9778 - recall: 0.9778 - auc: 0.9998 - val_loss: 0.1375 - val_accuracy: 0.9333 - val_precision: 0.9333 - val_recall: 0.9333 - val_auc: 0.9978\n",
      "Epoch 170/500\n",
      "12/12 [==============================] - 0s 41ms/step - loss: 0.0672 - accuracy: 0.9778 - precision: 0.9778 - recall: 0.9778 - auc: 0.9986 - val_loss: 0.1189 - val_accuracy: 0.9333 - val_precision: 0.9333 - val_recall: 0.9333 - val_auc: 0.9978\n",
      "Epoch 171/500\n",
      "12/12 [==============================] - 1s 59ms/step - loss: 0.0995 - accuracy: 0.9667 - precision: 0.9667 - recall: 0.9667 - auc: 0.9964 - val_loss: 0.0790 - val_accuracy: 0.9667 - val_precision: 0.9667 - val_recall: 0.9667 - val_auc: 0.9983\n",
      "Epoch 172/500\n",
      "12/12 [==============================] - 1s 77ms/step - loss: 0.0655 - accuracy: 0.9667 - precision: 0.9667 - recall: 0.9667 - auc: 0.9990 - val_loss: 0.0920 - val_accuracy: 0.9667 - val_precision: 0.9667 - val_recall: 0.9667 - val_auc: 0.9983\n",
      "Epoch 173/500\n",
      "12/12 [==============================] - 1s 56ms/step - loss: 0.0608 - accuracy: 0.9778 - precision: 0.9778 - recall: 0.9778 - auc: 0.9989 - val_loss: 0.0939 - val_accuracy: 0.9667 - val_precision: 0.9667 - val_recall: 0.9667 - val_auc: 0.9981\n",
      "Epoch 174/500\n",
      "12/12 [==============================] - 0s 41ms/step - loss: 0.0844 - accuracy: 0.9667 - precision: 0.9667 - recall: 0.9667 - auc: 0.9982 - val_loss: 0.1320 - val_accuracy: 0.9333 - val_precision: 0.9333 - val_recall: 0.9333 - val_auc: 0.9978\n",
      "Epoch 175/500\n",
      "12/12 [==============================] - 1s 45ms/step - loss: 0.0267 - accuracy: 1.0000 - precision: 1.0000 - recall: 1.0000 - auc: 1.0000 - val_loss: 0.1601 - val_accuracy: 0.9333 - val_precision: 0.9333 - val_recall: 0.9333 - val_auc: 0.9978\n",
      "Epoch 176/500\n",
      "12/12 [==============================] - 1s 47ms/step - loss: 0.0813 - accuracy: 0.9778 - precision: 0.9888 - recall: 0.9778 - auc: 0.9975 - val_loss: 0.1092 - val_accuracy: 0.9333 - val_precision: 0.9333 - val_recall: 0.9333 - val_auc: 0.9978\n",
      "Epoch 177/500\n",
      "12/12 [==============================] - 1s 46ms/step - loss: 0.0657 - accuracy: 0.9667 - precision: 0.9667 - recall: 0.9667 - auc: 0.9991 - val_loss: 0.1521 - val_accuracy: 0.9333 - val_precision: 0.9333 - val_recall: 0.9333 - val_auc: 0.9978\n",
      "Epoch 178/500\n",
      "12/12 [==============================] - 1s 44ms/step - loss: 0.0951 - accuracy: 0.9778 - precision: 0.9778 - recall: 0.9778 - auc: 0.9894 - val_loss: 0.1261 - val_accuracy: 0.9333 - val_precision: 0.9333 - val_recall: 0.9333 - val_auc: 0.9978\n",
      "Epoch 179/500\n",
      "12/12 [==============================] - 1s 44ms/step - loss: 0.0875 - accuracy: 0.9889 - precision: 0.9889 - recall: 0.9889 - auc: 0.9965 - val_loss: 0.1083 - val_accuracy: 0.9333 - val_precision: 0.9333 - val_recall: 0.9333 - val_auc: 0.9978\n",
      "Epoch 180/500\n",
      "12/12 [==============================] - 1s 46ms/step - loss: 0.0962 - accuracy: 0.9667 - precision: 0.9667 - recall: 0.9667 - auc: 0.9967 - val_loss: 0.1002 - val_accuracy: 0.9333 - val_precision: 0.9333 - val_recall: 0.9333 - val_auc: 0.9978\n",
      "Epoch 181/500\n",
      "12/12 [==============================] - 1s 47ms/step - loss: 0.0715 - accuracy: 0.9889 - precision: 0.9889 - recall: 0.9889 - auc: 0.9960 - val_loss: 0.0834 - val_accuracy: 0.9333 - val_precision: 0.9333 - val_recall: 0.9333 - val_auc: 0.9981\n",
      "Epoch 182/500\n",
      "12/12 [==============================] - 1s 53ms/step - loss: 0.0758 - accuracy: 0.9778 - precision: 0.9778 - recall: 0.9778 - auc: 0.9984 - val_loss: 0.0698 - val_accuracy: 0.9667 - val_precision: 0.9667 - val_recall: 0.9667 - val_auc: 0.9983\n",
      "Epoch 183/500\n",
      "12/12 [==============================] - 1s 54ms/step - loss: 0.0345 - accuracy: 0.9889 - precision: 0.9889 - recall: 0.9889 - auc: 0.9999 - val_loss: 0.0928 - val_accuracy: 0.9667 - val_precision: 0.9667 - val_recall: 0.9667 - val_auc: 0.9983\n",
      "Epoch 184/500\n",
      "12/12 [==============================] - 1s 47ms/step - loss: 0.0578 - accuracy: 0.9889 - precision: 0.9889 - recall: 0.9889 - auc: 0.9992 - val_loss: 0.0569 - val_accuracy: 0.9667 - val_precision: 0.9667 - val_recall: 0.9667 - val_auc: 0.9994\n",
      "Epoch 185/500\n",
      "12/12 [==============================] - 1s 44ms/step - loss: 0.0583 - accuracy: 0.9778 - precision: 0.9778 - recall: 0.9778 - auc: 0.9993 - val_loss: 0.0628 - val_accuracy: 0.9667 - val_precision: 0.9667 - val_recall: 0.9667 - val_auc: 0.9994\n",
      "Epoch 186/500\n",
      "12/12 [==============================] - 1s 44ms/step - loss: 0.0846 - accuracy: 0.9889 - precision: 0.9889 - recall: 0.9889 - auc: 0.9899 - val_loss: 0.2099 - val_accuracy: 0.9333 - val_precision: 0.9333 - val_recall: 0.9333 - val_auc: 0.9894\n",
      "Epoch 187/500\n",
      "12/12 [==============================] - 0s 41ms/step - loss: 0.0566 - accuracy: 0.9889 - precision: 0.9889 - recall: 0.9889 - auc: 0.9975 - val_loss: 0.1647 - val_accuracy: 0.9333 - val_precision: 0.9333 - val_recall: 0.9333 - val_auc: 0.9975\n",
      "Epoch 188/500\n",
      "12/12 [==============================] - 0s 40ms/step - loss: 0.0925 - accuracy: 0.9556 - precision: 0.9556 - recall: 0.9556 - auc: 0.9979 - val_loss: 0.1699 - val_accuracy: 0.9333 - val_precision: 0.9333 - val_recall: 0.9333 - val_auc: 0.9975\n",
      "Epoch 189/500\n",
      "12/12 [==============================] - 1s 44ms/step - loss: 0.0488 - accuracy: 0.9889 - precision: 0.9889 - recall: 0.9889 - auc: 0.9993 - val_loss: 0.1613 - val_accuracy: 0.9333 - val_precision: 0.9333 - val_recall: 0.9333 - val_auc: 0.9978\n",
      "Epoch 190/500\n",
      "12/12 [==============================] - 0s 41ms/step - loss: 0.0717 - accuracy: 0.9778 - precision: 0.9778 - recall: 0.9778 - auc: 0.9987 - val_loss: 0.1690 - val_accuracy: 0.9333 - val_precision: 0.9333 - val_recall: 0.9333 - val_auc: 0.9978\n",
      "Epoch 191/500\n",
      "12/12 [==============================] - 1s 42ms/step - loss: 0.0650 - accuracy: 0.9778 - precision: 0.9778 - recall: 0.9778 - auc: 0.9989 - val_loss: 0.1750 - val_accuracy: 0.9333 - val_precision: 0.9333 - val_recall: 0.9333 - val_auc: 0.9978\n",
      "Epoch 192/500\n",
      "12/12 [==============================] - 0s 40ms/step - loss: 0.0245 - accuracy: 1.0000 - precision: 1.0000 - recall: 1.0000 - auc: 1.0000 - val_loss: 0.1356 - val_accuracy: 0.9333 - val_precision: 0.9333 - val_recall: 0.9333 - val_auc: 0.9978\n",
      "Epoch 193/500\n",
      "12/12 [==============================] - 0s 41ms/step - loss: 0.0358 - accuracy: 0.9889 - precision: 0.9889 - recall: 0.9889 - auc: 0.9999 - val_loss: 0.1565 - val_accuracy: 0.9333 - val_precision: 0.9333 - val_recall: 0.9333 - val_auc: 0.9978\n",
      "Epoch 194/500\n",
      "12/12 [==============================] - 1s 48ms/step - loss: 0.0454 - accuracy: 0.9889 - precision: 0.9889 - recall: 0.9889 - auc: 0.9997 - val_loss: 0.1555 - val_accuracy: 0.9333 - val_precision: 0.9333 - val_recall: 0.9333 - val_auc: 0.9978\n",
      "Epoch 195/500\n",
      "12/12 [==============================] - 1s 45ms/step - loss: 0.1355 - accuracy: 0.9667 - precision: 0.9667 - recall: 0.9667 - auc: 0.9915 - val_loss: 0.1393 - val_accuracy: 0.9333 - val_precision: 0.9333 - val_recall: 0.9333 - val_auc: 0.9978\n",
      "Epoch 196/500\n",
      "12/12 [==============================] - 1s 43ms/step - loss: 0.0659 - accuracy: 0.9778 - precision: 0.9778 - recall: 0.9778 - auc: 0.9990 - val_loss: 0.1464 - val_accuracy: 0.9333 - val_precision: 0.9333 - val_recall: 0.9333 - val_auc: 0.9978\n",
      "Epoch 197/500\n",
      "12/12 [==============================] - 0s 40ms/step - loss: 0.0385 - accuracy: 0.9889 - precision: 0.9889 - recall: 0.9889 - auc: 0.9997 - val_loss: 0.1454 - val_accuracy: 0.9333 - val_precision: 0.9333 - val_recall: 0.9333 - val_auc: 0.9978\n",
      "Epoch 198/500\n",
      "12/12 [==============================] - 1s 43ms/step - loss: 0.1090 - accuracy: 0.9667 - precision: 0.9667 - recall: 0.9667 - auc: 0.9896 - val_loss: 0.1053 - val_accuracy: 0.9667 - val_precision: 0.9667 - val_recall: 0.9667 - val_auc: 0.9983\n",
      "Epoch 199/500\n",
      "12/12 [==============================] - 1s 51ms/step - loss: 0.1017 - accuracy: 0.9667 - precision: 0.9667 - recall: 0.9667 - auc: 0.9894 - val_loss: 0.1667 - val_accuracy: 0.9333 - val_precision: 0.9333 - val_recall: 0.9333 - val_auc: 0.9978\n",
      "Epoch 200/500\n",
      "12/12 [==============================] - 1s 51ms/step - loss: 0.0463 - accuracy: 0.9889 - precision: 0.9889 - recall: 0.9889 - auc: 0.9996 - val_loss: 0.1165 - val_accuracy: 0.9333 - val_precision: 0.9333 - val_recall: 0.9333 - val_auc: 0.9978\n",
      "Epoch 201/500\n",
      "12/12 [==============================] - 1s 42ms/step - loss: 0.0676 - accuracy: 0.9889 - precision: 0.9889 - recall: 0.9889 - auc: 0.9973 - val_loss: 0.0615 - val_accuracy: 0.9667 - val_precision: 0.9667 - val_recall: 0.9667 - val_auc: 0.9994\n",
      "Epoch 202/500\n",
      "12/12 [==============================] - 0s 40ms/step - loss: 0.1078 - accuracy: 0.9667 - precision: 0.9667 - recall: 0.9667 - auc: 0.9969 - val_loss: 0.1149 - val_accuracy: 0.9333 - val_precision: 0.9333 - val_recall: 0.9333 - val_auc: 0.9978\n",
      "Epoch 203/500\n",
      "12/12 [==============================] - 0s 40ms/step - loss: 0.0287 - accuracy: 1.0000 - precision: 1.0000 - recall: 1.0000 - auc: 1.0000 - val_loss: 0.1032 - val_accuracy: 0.9667 - val_precision: 0.9667 - val_recall: 0.9667 - val_auc: 0.9983\n",
      "Epoch 204/500\n",
      "12/12 [==============================] - 0s 42ms/step - loss: 0.0466 - accuracy: 0.9889 - precision: 0.9889 - recall: 0.9889 - auc: 0.9996 - val_loss: 0.0692 - val_accuracy: 0.9667 - val_precision: 0.9667 - val_recall: 0.9667 - val_auc: 0.9983\n",
      "Epoch 205/500\n",
      "12/12 [==============================] - 1s 44ms/step - loss: 0.0471 - accuracy: 0.9778 - precision: 0.9778 - recall: 0.9778 - auc: 0.9996 - val_loss: 0.0881 - val_accuracy: 0.9667 - val_precision: 0.9667 - val_recall: 0.9667 - val_auc: 0.9983\n",
      "Epoch 206/500\n",
      "12/12 [==============================] - 1s 46ms/step - loss: 0.0700 - accuracy: 0.9667 - precision: 0.9667 - recall: 0.9667 - auc: 0.9986 - val_loss: 0.1278 - val_accuracy: 0.9333 - val_precision: 0.9333 - val_recall: 0.9333 - val_auc: 0.9978\n",
      "Epoch 207/500\n",
      "12/12 [==============================] - 0s 42ms/step - loss: 0.0760 - accuracy: 0.9667 - precision: 0.9667 - recall: 0.9667 - auc: 0.9975 - val_loss: 0.1118 - val_accuracy: 0.9333 - val_precision: 0.9333 - val_recall: 0.9333 - val_auc: 0.9978\n",
      "Epoch 208/500\n",
      "12/12 [==============================] - 1s 43ms/step - loss: 0.0646 - accuracy: 0.9889 - precision: 0.9889 - recall: 0.9889 - auc: 0.9976 - val_loss: 0.0665 - val_accuracy: 0.9667 - val_precision: 0.9667 - val_recall: 0.9667 - val_auc: 0.9983\n",
      "Epoch 209/500\n",
      "12/12 [==============================] - 0s 41ms/step - loss: 0.0914 - accuracy: 0.9556 - precision: 0.9556 - recall: 0.9556 - auc: 0.9978 - val_loss: 0.0291 - val_accuracy: 1.0000 - val_precision: 1.0000 - val_recall: 1.0000 - val_auc: 1.0000\n",
      "Epoch 210/500\n",
      "12/12 [==============================] - 1s 45ms/step - loss: 0.0325 - accuracy: 0.9889 - precision: 0.9889 - recall: 0.9889 - auc: 0.9998 - val_loss: 0.1221 - val_accuracy: 0.9333 - val_precision: 0.9333 - val_recall: 0.9333 - val_auc: 0.9978\n",
      "Epoch 211/500\n",
      "12/12 [==============================] - 1s 47ms/step - loss: 0.0885 - accuracy: 0.9778 - precision: 0.9778 - recall: 0.9778 - auc: 0.9969 - val_loss: 0.0623 - val_accuracy: 0.9667 - val_precision: 0.9667 - val_recall: 0.9667 - val_auc: 0.9983\n",
      "Epoch 212/500\n",
      "12/12 [==============================] - 1s 45ms/step - loss: 0.1238 - accuracy: 0.9667 - precision: 0.9667 - recall: 0.9667 - auc: 0.9909 - val_loss: 0.2720 - val_accuracy: 0.9000 - val_precision: 0.9000 - val_recall: 0.9000 - val_auc: 0.9883\n",
      "Epoch 213/500\n",
      "12/12 [==============================] - 1s 43ms/step - loss: 0.1014 - accuracy: 0.9556 - precision: 0.9556 - recall: 0.9556 - auc: 0.9969 - val_loss: 0.0811 - val_accuracy: 0.9667 - val_precision: 0.9667 - val_recall: 0.9667 - val_auc: 0.9983\n",
      "Epoch 214/500\n",
      "12/12 [==============================] - 1s 44ms/step - loss: 0.0666 - accuracy: 0.9889 - precision: 0.9889 - recall: 0.9889 - auc: 0.9983 - val_loss: 0.1254 - val_accuracy: 0.9333 - val_precision: 0.9333 - val_recall: 0.9333 - val_auc: 0.9978\n",
      "Epoch 215/500\n",
      "12/12 [==============================] - 1s 43ms/step - loss: 0.0532 - accuracy: 0.9778 - precision: 0.9778 - recall: 0.9778 - auc: 0.9998 - val_loss: 0.1183 - val_accuracy: 0.9333 - val_precision: 0.9333 - val_recall: 0.9333 - val_auc: 0.9978\n",
      "Epoch 216/500\n",
      "12/12 [==============================] - 1s 43ms/step - loss: 0.0953 - accuracy: 0.9778 - precision: 0.9778 - recall: 0.9778 - auc: 0.9964 - val_loss: 0.0834 - val_accuracy: 0.9667 - val_precision: 0.9667 - val_recall: 0.9667 - val_auc: 0.9983\n",
      "Epoch 217/500\n",
      "12/12 [==============================] - 1s 45ms/step - loss: 0.0453 - accuracy: 0.9778 - precision: 0.9778 - recall: 0.9778 - auc: 0.9995 - val_loss: 0.0733 - val_accuracy: 0.9667 - val_precision: 0.9667 - val_recall: 0.9667 - val_auc: 0.9983\n",
      "Epoch 218/500\n",
      "12/12 [==============================] - 0s 40ms/step - loss: 0.0450 - accuracy: 0.9889 - precision: 0.9889 - recall: 0.9889 - auc: 0.9998 - val_loss: 0.0877 - val_accuracy: 0.9667 - val_precision: 0.9667 - val_recall: 0.9667 - val_auc: 0.9983\n",
      "Epoch 219/500\n",
      "12/12 [==============================] - 1s 47ms/step - loss: 0.0588 - accuracy: 0.9778 - precision: 0.9778 - recall: 0.9778 - auc: 0.9990 - val_loss: 0.1130 - val_accuracy: 0.9667 - val_precision: 0.9667 - val_recall: 0.9667 - val_auc: 0.9983\n",
      "Epoch 220/500\n",
      "12/12 [==============================] - 1s 44ms/step - loss: 0.0613 - accuracy: 0.9778 - precision: 0.9778 - recall: 0.9778 - auc: 0.9990 - val_loss: 0.1563 - val_accuracy: 0.9333 - val_precision: 0.9333 - val_recall: 0.9333 - val_auc: 0.9978\n",
      "Epoch 221/500\n",
      "12/12 [==============================] - 1s 44ms/step - loss: 0.1002 - accuracy: 0.9778 - precision: 0.9778 - recall: 0.9778 - auc: 0.9892 - val_loss: 0.2066 - val_accuracy: 0.9333 - val_precision: 0.9333 - val_recall: 0.9333 - val_auc: 0.9978\n",
      "Epoch 222/500\n",
      "12/12 [==============================] - 1s 45ms/step - loss: 0.0593 - accuracy: 0.9889 - precision: 0.9889 - recall: 0.9889 - auc: 0.9983 - val_loss: 0.0637 - val_accuracy: 0.9667 - val_precision: 0.9667 - val_recall: 0.9667 - val_auc: 0.9983\n",
      "Epoch 223/500\n",
      "12/12 [==============================] - 0s 41ms/step - loss: 0.0629 - accuracy: 0.9889 - precision: 0.9889 - recall: 0.9889 - auc: 0.9990 - val_loss: 0.0476 - val_accuracy: 0.9667 - val_precision: 0.9667 - val_recall: 0.9667 - val_auc: 0.9994\n",
      "Epoch 224/500\n",
      "12/12 [==============================] - 0s 40ms/step - loss: 0.0769 - accuracy: 0.9667 - precision: 0.9667 - recall: 0.9667 - auc: 0.9985 - val_loss: 0.0994 - val_accuracy: 0.9667 - val_precision: 0.9667 - val_recall: 0.9667 - val_auc: 0.9983\n",
      "Epoch 225/500\n",
      "12/12 [==============================] - 0s 40ms/step - loss: 0.0442 - accuracy: 0.9889 - precision: 0.9889 - recall: 0.9889 - auc: 0.9993 - val_loss: 0.1376 - val_accuracy: 0.9333 - val_precision: 0.9333 - val_recall: 0.9333 - val_auc: 0.9978\n",
      "Epoch 226/500\n",
      "12/12 [==============================] - 0s 41ms/step - loss: 0.0368 - accuracy: 0.9889 - precision: 0.9889 - recall: 0.9889 - auc: 0.9998 - val_loss: 0.1049 - val_accuracy: 0.9333 - val_precision: 0.9333 - val_recall: 0.9333 - val_auc: 0.9978\n",
      "Epoch 227/500\n",
      "12/12 [==============================] - 0s 41ms/step - loss: 0.0918 - accuracy: 0.9778 - precision: 0.9778 - recall: 0.9778 - auc: 0.9962 - val_loss: 0.0914 - val_accuracy: 0.9667 - val_precision: 0.9667 - val_recall: 0.9667 - val_auc: 0.9983\n",
      "Epoch 228/500\n",
      "12/12 [==============================] - 0s 41ms/step - loss: 0.0260 - accuracy: 0.9889 - precision: 0.9889 - recall: 0.9889 - auc: 1.0000 - val_loss: 0.1124 - val_accuracy: 0.9333 - val_precision: 0.9333 - val_recall: 0.9333 - val_auc: 0.9978\n",
      "Epoch 229/500\n",
      "12/12 [==============================] - 0s 42ms/step - loss: 0.0484 - accuracy: 0.9667 - precision: 0.9667 - recall: 0.9667 - auc: 0.9991 - val_loss: 0.0703 - val_accuracy: 0.9667 - val_precision: 0.9667 - val_recall: 0.9667 - val_auc: 0.9983\n",
      "Epoch 230/500\n",
      "12/12 [==============================] - 0s 41ms/step - loss: 0.0473 - accuracy: 0.9778 - precision: 0.9778 - recall: 0.9778 - auc: 0.9994 - val_loss: 0.1491 - val_accuracy: 0.9333 - val_precision: 0.9333 - val_recall: 0.9333 - val_auc: 0.9978\n",
      "Epoch 231/500\n",
      "12/12 [==============================] - 0s 41ms/step - loss: 0.0519 - accuracy: 0.9889 - precision: 0.9889 - recall: 0.9889 - auc: 0.9992 - val_loss: 0.1237 - val_accuracy: 0.9333 - val_precision: 0.9333 - val_recall: 0.9333 - val_auc: 0.9978\n",
      "Epoch 232/500\n",
      "12/12 [==============================] - 1s 45ms/step - loss: 0.0329 - accuracy: 0.9889 - precision: 0.9889 - recall: 0.9889 - auc: 0.9997 - val_loss: 0.1248 - val_accuracy: 0.9333 - val_precision: 0.9333 - val_recall: 0.9333 - val_auc: 0.9978\n",
      "Epoch 233/500\n",
      "12/12 [==============================] - 1s 44ms/step - loss: 0.0421 - accuracy: 0.9778 - precision: 0.9778 - recall: 0.9778 - auc: 0.9995 - val_loss: 0.1122 - val_accuracy: 0.9333 - val_precision: 0.9333 - val_recall: 0.9333 - val_auc: 0.9978\n",
      "Epoch 234/500\n",
      "12/12 [==============================] - 1s 48ms/step - loss: 0.0271 - accuracy: 0.9889 - precision: 0.9889 - recall: 0.9889 - auc: 0.9998 - val_loss: 0.0737 - val_accuracy: 0.9333 - val_precision: 0.9333 - val_recall: 0.9333 - val_auc: 0.9978\n",
      "Epoch 235/500\n",
      "12/12 [==============================] - 1s 44ms/step - loss: 0.0816 - accuracy: 0.9667 - precision: 0.9667 - recall: 0.9667 - auc: 0.9983 - val_loss: 0.0718 - val_accuracy: 0.9667 - val_precision: 0.9667 - val_recall: 0.9667 - val_auc: 0.9983\n",
      "Epoch 236/500\n",
      "12/12 [==============================] - 1s 62ms/step - loss: 0.1020 - accuracy: 0.9556 - precision: 0.9556 - recall: 0.9556 - auc: 0.9979 - val_loss: 0.1667 - val_accuracy: 0.9333 - val_precision: 0.9333 - val_recall: 0.9333 - val_auc: 0.9978\n",
      "Epoch 237/500\n",
      "12/12 [==============================] - 1s 58ms/step - loss: 0.1041 - accuracy: 0.9667 - precision: 0.9667 - recall: 0.9667 - auc: 0.9957 - val_loss: 0.1856 - val_accuracy: 0.9333 - val_precision: 0.9333 - val_recall: 0.9333 - val_auc: 0.9975\n",
      "Epoch 238/500\n",
      "12/12 [==============================] - 1s 56ms/step - loss: 0.0795 - accuracy: 0.9778 - precision: 0.9778 - recall: 0.9778 - auc: 0.9978 - val_loss: 0.1670 - val_accuracy: 0.9333 - val_precision: 0.9333 - val_recall: 0.9333 - val_auc: 0.9978\n",
      "Epoch 239/500\n",
      "12/12 [==============================] - 1s 53ms/step - loss: 0.0717 - accuracy: 0.9889 - precision: 0.9889 - recall: 0.9889 - auc: 0.9966 - val_loss: 0.0929 - val_accuracy: 0.9333 - val_precision: 0.9333 - val_recall: 0.9333 - val_auc: 0.9978\n",
      "Epoch 240/500\n",
      "12/12 [==============================] - 1s 57ms/step - loss: 0.0564 - accuracy: 0.9667 - precision: 0.9667 - recall: 0.9667 - auc: 0.9993 - val_loss: 0.0891 - val_accuracy: 0.9333 - val_precision: 0.9333 - val_recall: 0.9333 - val_auc: 0.9978\n",
      "Epoch 241/500\n",
      "12/12 [==============================] - 1s 43ms/step - loss: 0.0379 - accuracy: 0.9889 - precision: 0.9889 - recall: 0.9889 - auc: 0.9996 - val_loss: 0.1025 - val_accuracy: 0.9333 - val_precision: 0.9333 - val_recall: 0.9333 - val_auc: 0.9978\n",
      "Epoch 242/500\n",
      "12/12 [==============================] - 1s 49ms/step - loss: 0.0683 - accuracy: 0.9778 - precision: 0.9778 - recall: 0.9778 - auc: 0.9987 - val_loss: 0.1172 - val_accuracy: 0.9333 - val_precision: 0.9333 - val_recall: 0.9333 - val_auc: 0.9978\n",
      "Epoch 243/500\n",
      "12/12 [==============================] - 1s 42ms/step - loss: 0.1050 - accuracy: 0.9778 - precision: 0.9778 - recall: 0.9778 - auc: 0.9956 - val_loss: 0.1321 - val_accuracy: 0.9333 - val_precision: 0.9333 - val_recall: 0.9333 - val_auc: 0.9978\n",
      "Epoch 244/500\n",
      "12/12 [==============================] - 1s 46ms/step - loss: 0.0410 - accuracy: 0.9889 - precision: 0.9889 - recall: 0.9889 - auc: 0.9997 - val_loss: 0.1568 - val_accuracy: 0.9333 - val_precision: 0.9333 - val_recall: 0.9333 - val_auc: 0.9978\n",
      "Epoch 245/500\n",
      "12/12 [==============================] - 1s 44ms/step - loss: 0.0224 - accuracy: 1.0000 - precision: 1.0000 - recall: 1.0000 - auc: 1.0000 - val_loss: 0.1556 - val_accuracy: 0.9333 - val_precision: 0.9333 - val_recall: 0.9333 - val_auc: 0.9978\n",
      "Epoch 246/500\n",
      "12/12 [==============================] - 1s 43ms/step - loss: 0.0509 - accuracy: 0.9778 - precision: 0.9778 - recall: 0.9778 - auc: 0.9995 - val_loss: 0.1836 - val_accuracy: 0.9333 - val_precision: 0.9333 - val_recall: 0.9333 - val_auc: 0.9978\n",
      "Epoch 247/500\n",
      "12/12 [==============================] - 1s 43ms/step - loss: 0.1123 - accuracy: 0.9778 - precision: 0.9778 - recall: 0.9778 - auc: 0.9890 - val_loss: 0.1661 - val_accuracy: 0.9333 - val_precision: 0.9333 - val_recall: 0.9333 - val_auc: 0.9978\n",
      "Epoch 248/500\n",
      "12/12 [==============================] - 1s 42ms/step - loss: 0.0463 - accuracy: 0.9889 - precision: 0.9889 - recall: 0.9889 - auc: 0.9994 - val_loss: 0.1402 - val_accuracy: 0.9333 - val_precision: 0.9333 - val_recall: 0.9333 - val_auc: 0.9978\n",
      "Epoch 249/500\n",
      "12/12 [==============================] - 1s 46ms/step - loss: 0.0277 - accuracy: 1.0000 - precision: 1.0000 - recall: 1.0000 - auc: 1.0000 - val_loss: 0.1527 - val_accuracy: 0.9333 - val_precision: 0.9333 - val_recall: 0.9333 - val_auc: 0.9978\n",
      "Epoch 250/500\n",
      "12/12 [==============================] - 0s 42ms/step - loss: 0.0644 - accuracy: 0.9667 - precision: 0.9667 - recall: 0.9667 - auc: 0.9989 - val_loss: 0.1721 - val_accuracy: 0.9333 - val_precision: 0.9333 - val_recall: 0.9333 - val_auc: 0.9978\n",
      "Epoch 251/500\n",
      "12/12 [==============================] - 0s 42ms/step - loss: 0.0532 - accuracy: 0.9778 - precision: 0.9778 - recall: 0.9778 - auc: 0.9995 - val_loss: 0.1471 - val_accuracy: 0.9333 - val_precision: 0.9333 - val_recall: 0.9333 - val_auc: 0.9978\n",
      "Epoch 252/500\n",
      "12/12 [==============================] - 0s 41ms/step - loss: 0.0380 - accuracy: 0.9889 - precision: 0.9889 - recall: 0.9889 - auc: 0.9997 - val_loss: 0.1414 - val_accuracy: 0.9333 - val_precision: 0.9333 - val_recall: 0.9333 - val_auc: 0.9978\n",
      "Epoch 253/500\n",
      "12/12 [==============================] - 1s 44ms/step - loss: 0.0409 - accuracy: 0.9889 - precision: 0.9889 - recall: 0.9889 - auc: 0.9996 - val_loss: 0.1239 - val_accuracy: 0.9333 - val_precision: 0.9333 - val_recall: 0.9333 - val_auc: 0.9978\n",
      "Epoch 254/500\n",
      "12/12 [==============================] - 1s 46ms/step - loss: 0.0733 - accuracy: 0.9889 - precision: 0.9889 - recall: 0.9889 - auc: 0.9969 - val_loss: 0.1076 - val_accuracy: 0.9333 - val_precision: 0.9333 - val_recall: 0.9333 - val_auc: 0.9978\n",
      "Epoch 255/500\n",
      "12/12 [==============================] - 1s 45ms/step - loss: 0.0916 - accuracy: 0.9667 - precision: 0.9667 - recall: 0.9667 - auc: 0.9977 - val_loss: 0.0286 - val_accuracy: 1.0000 - val_precision: 1.0000 - val_recall: 1.0000 - val_auc: 1.0000\n",
      "Epoch 256/500\n",
      "12/12 [==============================] - 1s 48ms/step - loss: 0.0707 - accuracy: 0.9778 - precision: 0.9778 - recall: 0.9778 - auc: 0.9988 - val_loss: 0.1130 - val_accuracy: 0.9667 - val_precision: 0.9667 - val_recall: 0.9667 - val_auc: 0.9983\n",
      "Epoch 257/500\n",
      "12/12 [==============================] - 1s 49ms/step - loss: 0.0518 - accuracy: 1.0000 - precision: 1.0000 - recall: 1.0000 - auc: 1.0000 - val_loss: 0.2258 - val_accuracy: 0.9333 - val_precision: 0.9333 - val_recall: 0.9333 - val_auc: 0.9942\n",
      "Epoch 258/500\n",
      "12/12 [==============================] - 1s 43ms/step - loss: 0.0395 - accuracy: 0.9778 - precision: 0.9778 - recall: 0.9778 - auc: 0.9998 - val_loss: 0.1460 - val_accuracy: 0.9333 - val_precision: 0.9333 - val_recall: 0.9333 - val_auc: 0.9978\n",
      "Epoch 259/500\n",
      "12/12 [==============================] - 0s 42ms/step - loss: 0.0908 - accuracy: 0.9667 - precision: 0.9667 - recall: 0.9667 - auc: 0.9978 - val_loss: 0.1133 - val_accuracy: 0.9333 - val_precision: 0.9333 - val_recall: 0.9333 - val_auc: 0.9978\n",
      "Epoch 260/500\n",
      "12/12 [==============================] - 1s 43ms/step - loss: 0.0660 - accuracy: 0.9778 - precision: 0.9778 - recall: 0.9778 - auc: 0.9990 - val_loss: 0.1292 - val_accuracy: 0.9333 - val_precision: 0.9333 - val_recall: 0.9333 - val_auc: 0.9978\n",
      "Epoch 261/500\n",
      "12/12 [==============================] - 1s 47ms/step - loss: 0.0608 - accuracy: 0.9778 - precision: 0.9778 - recall: 0.9778 - auc: 0.9990 - val_loss: 0.1699 - val_accuracy: 0.9333 - val_precision: 0.9333 - val_recall: 0.9333 - val_auc: 0.9978\n",
      "Epoch 262/500\n",
      "12/12 [==============================] - 1s 44ms/step - loss: 0.0673 - accuracy: 0.9889 - precision: 0.9889 - recall: 0.9889 - auc: 0.9974 - val_loss: 0.1160 - val_accuracy: 0.9333 - val_precision: 0.9333 - val_recall: 0.9333 - val_auc: 0.9978\n",
      "Epoch 263/500\n",
      "12/12 [==============================] - 0s 42ms/step - loss: 0.0535 - accuracy: 0.9889 - precision: 0.9889 - recall: 0.9889 - auc: 0.9990 - val_loss: 0.1254 - val_accuracy: 0.9333 - val_precision: 0.9333 - val_recall: 0.9333 - val_auc: 0.9978\n",
      "Epoch 264/500\n",
      "12/12 [==============================] - 1s 45ms/step - loss: 0.0838 - accuracy: 0.9667 - precision: 0.9667 - recall: 0.9667 - auc: 0.9978 - val_loss: 0.1388 - val_accuracy: 0.9333 - val_precision: 0.9333 - val_recall: 0.9333 - val_auc: 0.9978\n",
      "Epoch 265/500\n",
      "12/12 [==============================] - 1s 46ms/step - loss: 0.0710 - accuracy: 0.9778 - precision: 0.9778 - recall: 0.9778 - auc: 0.9985 - val_loss: 0.1368 - val_accuracy: 0.9333 - val_precision: 0.9333 - val_recall: 0.9333 - val_auc: 0.9978\n",
      "Epoch 266/500\n",
      "12/12 [==============================] - 1s 49ms/step - loss: 0.0366 - accuracy: 0.9889 - precision: 0.9889 - recall: 0.9889 - auc: 0.9997 - val_loss: 0.1223 - val_accuracy: 0.9333 - val_precision: 0.9333 - val_recall: 0.9333 - val_auc: 0.9978\n",
      "Epoch 267/500\n",
      "12/12 [==============================] - 1s 43ms/step - loss: 0.0885 - accuracy: 0.9667 - precision: 0.9667 - recall: 0.9667 - auc: 0.9973 - val_loss: 0.2057 - val_accuracy: 0.9333 - val_precision: 0.9333 - val_recall: 0.9333 - val_auc: 0.9978\n",
      "Epoch 268/500\n",
      "12/12 [==============================] - 1s 45ms/step - loss: 0.0848 - accuracy: 0.9889 - precision: 0.9889 - recall: 0.9889 - auc: 0.9964 - val_loss: 0.1575 - val_accuracy: 0.9333 - val_precision: 0.9333 - val_recall: 0.9333 - val_auc: 0.9978\n",
      "Epoch 269/500\n",
      "12/12 [==============================] - 1s 45ms/step - loss: 0.0740 - accuracy: 0.9667 - precision: 0.9667 - recall: 0.9667 - auc: 0.9987 - val_loss: 0.0979 - val_accuracy: 0.9667 - val_precision: 0.9667 - val_recall: 0.9667 - val_auc: 0.9983\n",
      "Epoch 270/500\n",
      "12/12 [==============================] - 1s 44ms/step - loss: 0.0438 - accuracy: 0.9778 - precision: 0.9778 - recall: 0.9778 - auc: 0.9996 - val_loss: 0.0880 - val_accuracy: 0.9667 - val_precision: 0.9667 - val_recall: 0.9667 - val_auc: 0.9983\n",
      "Epoch 271/500\n",
      "12/12 [==============================] - 1s 42ms/step - loss: 0.0612 - accuracy: 0.9778 - precision: 0.9778 - recall: 0.9778 - auc: 0.9990 - val_loss: 0.0861 - val_accuracy: 0.9667 - val_precision: 0.9667 - val_recall: 0.9667 - val_auc: 0.9983\n",
      "Epoch 272/500\n",
      "12/12 [==============================] - 1s 46ms/step - loss: 0.0205 - accuracy: 1.0000 - precision: 1.0000 - recall: 1.0000 - auc: 1.0000 - val_loss: 0.1287 - val_accuracy: 0.9333 - val_precision: 0.9333 - val_recall: 0.9333 - val_auc: 0.9978\n",
      "Epoch 273/500\n",
      "12/12 [==============================] - 1s 47ms/step - loss: 0.0724 - accuracy: 0.9889 - precision: 0.9889 - recall: 0.9889 - auc: 0.9977 - val_loss: 0.1451 - val_accuracy: 0.9333 - val_precision: 0.9333 - val_recall: 0.9333 - val_auc: 0.9978\n",
      "Epoch 274/500\n",
      "12/12 [==============================] - 1s 44ms/step - loss: 0.0809 - accuracy: 0.9556 - precision: 0.9663 - recall: 0.9556 - auc: 0.9985 - val_loss: 0.1349 - val_accuracy: 0.9333 - val_precision: 0.9333 - val_recall: 0.9333 - val_auc: 0.9978\n",
      "Epoch 275/500\n",
      "12/12 [==============================] - 1s 43ms/step - loss: 0.0593 - accuracy: 0.9778 - precision: 0.9778 - recall: 0.9778 - auc: 0.9988 - val_loss: 0.1008 - val_accuracy: 0.9333 - val_precision: 0.9333 - val_recall: 0.9333 - val_auc: 0.9978\n",
      "Epoch 276/500\n",
      "12/12 [==============================] - 1s 44ms/step - loss: 0.0575 - accuracy: 0.9667 - precision: 0.9667 - recall: 0.9667 - auc: 0.9991 - val_loss: 0.1004 - val_accuracy: 0.9667 - val_precision: 0.9667 - val_recall: 0.9667 - val_auc: 0.9983\n",
      "Epoch 277/500\n",
      "12/12 [==============================] - 1s 45ms/step - loss: 0.0973 - accuracy: 0.9667 - precision: 0.9667 - recall: 0.9667 - auc: 0.9973 - val_loss: 0.1728 - val_accuracy: 0.9333 - val_precision: 0.9333 - val_recall: 0.9333 - val_auc: 0.9978\n",
      "Epoch 278/500\n",
      "12/12 [==============================] - 1s 44ms/step - loss: 0.0532 - accuracy: 0.9889 - precision: 0.9889 - recall: 0.9889 - auc: 0.9991 - val_loss: 0.1054 - val_accuracy: 0.9667 - val_precision: 0.9667 - val_recall: 0.9667 - val_auc: 0.9983\n",
      "Epoch 279/500\n",
      "12/12 [==============================] - 1s 48ms/step - loss: 0.0949 - accuracy: 0.9778 - precision: 0.9778 - recall: 0.9778 - auc: 0.9961 - val_loss: 0.1198 - val_accuracy: 0.9667 - val_precision: 0.9667 - val_recall: 0.9667 - val_auc: 0.9983\n",
      "Epoch 280/500\n",
      "12/12 [==============================] - 1s 44ms/step - loss: 0.0515 - accuracy: 0.9778 - precision: 0.9778 - recall: 0.9778 - auc: 0.9998 - val_loss: 0.1768 - val_accuracy: 0.9333 - val_precision: 0.9333 - val_recall: 0.9333 - val_auc: 0.9978\n",
      "Epoch 281/500\n",
      "12/12 [==============================] - 1s 46ms/step - loss: 0.0778 - accuracy: 0.9778 - precision: 0.9778 - recall: 0.9778 - auc: 0.9973 - val_loss: 0.1622 - val_accuracy: 0.9333 - val_precision: 0.9333 - val_recall: 0.9333 - val_auc: 0.9978\n",
      "Epoch 282/500\n",
      "12/12 [==============================] - 1s 44ms/step - loss: 0.0749 - accuracy: 0.9778 - precision: 0.9778 - recall: 0.9778 - auc: 0.9988 - val_loss: 0.1396 - val_accuracy: 0.9333 - val_precision: 0.9333 - val_recall: 0.9333 - val_auc: 0.9978\n",
      "Epoch 283/500\n",
      "12/12 [==============================] - 1s 42ms/step - loss: 0.0428 - accuracy: 0.9778 - precision: 0.9778 - recall: 0.9778 - auc: 0.9998 - val_loss: 0.1072 - val_accuracy: 0.9667 - val_precision: 0.9667 - val_recall: 0.9667 - val_auc: 0.9983\n",
      "Epoch 284/500\n",
      "12/12 [==============================] - 1s 43ms/step - loss: 0.0590 - accuracy: 0.9889 - precision: 0.9889 - recall: 0.9889 - auc: 0.9991 - val_loss: 0.0428 - val_accuracy: 0.9667 - val_precision: 0.9667 - val_recall: 0.9667 - val_auc: 0.9994\n",
      "Epoch 285/500\n",
      "12/12 [==============================] - 1s 45ms/step - loss: 0.0552 - accuracy: 0.9778 - precision: 0.9778 - recall: 0.9778 - auc: 0.9994 - val_loss: 0.1112 - val_accuracy: 0.9333 - val_precision: 0.9333 - val_recall: 0.9333 - val_auc: 0.9978\n",
      "Epoch 286/500\n",
      "12/12 [==============================] - 1s 43ms/step - loss: 0.0628 - accuracy: 0.9778 - precision: 0.9778 - recall: 0.9778 - auc: 0.9990 - val_loss: 0.2695 - val_accuracy: 0.9333 - val_precision: 0.9333 - val_recall: 0.9333 - val_auc: 0.9692\n",
      "Epoch 287/500\n",
      "12/12 [==============================] - 1s 45ms/step - loss: 0.0669 - accuracy: 0.9889 - precision: 0.9889 - recall: 0.9889 - auc: 0.9982 - val_loss: 0.1349 - val_accuracy: 0.9667 - val_precision: 0.9667 - val_recall: 0.9667 - val_auc: 0.9978\n",
      "Epoch 288/500\n",
      "12/12 [==============================] - 1s 43ms/step - loss: 0.0484 - accuracy: 0.9889 - precision: 0.9889 - recall: 0.9889 - auc: 0.9994 - val_loss: 0.1345 - val_accuracy: 0.9667 - val_precision: 0.9667 - val_recall: 0.9667 - val_auc: 0.9972\n",
      "Epoch 289/500\n",
      "12/12 [==============================] - 1s 44ms/step - loss: 0.0461 - accuracy: 0.9778 - precision: 0.9778 - recall: 0.9778 - auc: 0.9994 - val_loss: 0.2084 - val_accuracy: 0.9333 - val_precision: 0.9333 - val_recall: 0.9333 - val_auc: 0.9928\n",
      "Epoch 290/500\n",
      "12/12 [==============================] - 1s 43ms/step - loss: 0.0716 - accuracy: 0.9889 - precision: 0.9889 - recall: 0.9889 - auc: 0.9991 - val_loss: 0.1212 - val_accuracy: 0.9333 - val_precision: 0.9333 - val_recall: 0.9333 - val_auc: 0.9978\n",
      "Epoch 291/500\n",
      "12/12 [==============================] - 1s 43ms/step - loss: 0.0453 - accuracy: 0.9889 - precision: 0.9889 - recall: 0.9889 - auc: 0.9995 - val_loss: 0.1931 - val_accuracy: 0.9333 - val_precision: 0.9333 - val_recall: 0.9333 - val_auc: 0.9978\n",
      "Epoch 292/500\n",
      "12/12 [==============================] - 1s 45ms/step - loss: 0.0372 - accuracy: 0.9889 - precision: 0.9889 - recall: 0.9889 - auc: 0.9997 - val_loss: 0.2737 - val_accuracy: 0.9333 - val_precision: 0.9333 - val_recall: 0.9333 - val_auc: 0.9914\n",
      "Epoch 293/500\n",
      "12/12 [==============================] - 1s 46ms/step - loss: 0.0861 - accuracy: 0.9778 - precision: 0.9778 - recall: 0.9778 - auc: 0.9975 - val_loss: 0.1734 - val_accuracy: 0.9333 - val_precision: 0.9333 - val_recall: 0.9333 - val_auc: 0.9978\n",
      "Epoch 294/500\n",
      "12/12 [==============================] - 1s 43ms/step - loss: 0.0627 - accuracy: 0.9778 - precision: 0.9778 - recall: 0.9778 - auc: 0.9990 - val_loss: 0.1188 - val_accuracy: 0.9333 - val_precision: 0.9333 - val_recall: 0.9333 - val_auc: 0.9967\n",
      "Epoch 295/500\n",
      "12/12 [==============================] - 1s 50ms/step - loss: 0.0614 - accuracy: 0.9778 - precision: 0.9778 - recall: 0.9778 - auc: 0.9990 - val_loss: 0.1514 - val_accuracy: 0.9333 - val_precision: 0.9333 - val_recall: 0.9333 - val_auc: 0.9978\n",
      "Epoch 296/500\n",
      "12/12 [==============================] - 1s 47ms/step - loss: 0.0660 - accuracy: 0.9778 - precision: 0.9778 - recall: 0.9778 - auc: 0.9985 - val_loss: 0.1478 - val_accuracy: 0.9333 - val_precision: 0.9333 - val_recall: 0.9333 - val_auc: 0.9978\n",
      "Epoch 297/500\n",
      "12/12 [==============================] - 1s 44ms/step - loss: 0.0993 - accuracy: 0.9333 - precision: 0.9333 - recall: 0.9333 - auc: 0.9970 - val_loss: 0.1231 - val_accuracy: 0.9667 - val_precision: 0.9667 - val_recall: 0.9667 - val_auc: 0.9983\n",
      "Epoch 298/500\n",
      "12/12 [==============================] - 1s 49ms/step - loss: 0.0460 - accuracy: 0.9889 - precision: 0.9889 - recall: 0.9889 - auc: 0.9992 - val_loss: 0.2035 - val_accuracy: 0.9333 - val_precision: 0.9333 - val_recall: 0.9333 - val_auc: 0.9978\n",
      "Epoch 299/500\n",
      "12/12 [==============================] - 1s 47ms/step - loss: 0.0929 - accuracy: 0.9778 - precision: 0.9778 - recall: 0.9778 - auc: 0.9972 - val_loss: 0.2091 - val_accuracy: 0.9333 - val_precision: 0.9333 - val_recall: 0.9333 - val_auc: 0.9978\n",
      "Epoch 300/500\n",
      "12/12 [==============================] - 1s 45ms/step - loss: 0.0340 - accuracy: 0.9778 - precision: 0.9778 - recall: 0.9778 - auc: 0.9998 - val_loss: 0.1656 - val_accuracy: 0.9333 - val_precision: 0.9333 - val_recall: 0.9333 - val_auc: 0.9978\n",
      "Epoch 301/500\n",
      "12/12 [==============================] - 1s 47ms/step - loss: 0.0758 - accuracy: 0.9778 - precision: 0.9778 - recall: 0.9778 - auc: 0.9985 - val_loss: 0.2728 - val_accuracy: 0.9333 - val_precision: 0.9333 - val_recall: 0.9333 - val_auc: 0.9950\n",
      "Epoch 302/500\n",
      "12/12 [==============================] - 1s 46ms/step - loss: 0.0902 - accuracy: 0.9889 - precision: 0.9889 - recall: 0.9889 - auc: 0.9896 - val_loss: 0.2323 - val_accuracy: 0.9333 - val_precision: 0.9333 - val_recall: 0.9333 - val_auc: 0.9967\n",
      "Epoch 303/500\n",
      "12/12 [==============================] - 1s 47ms/step - loss: 0.0307 - accuracy: 0.9889 - precision: 0.9889 - recall: 0.9889 - auc: 0.9999 - val_loss: 0.1718 - val_accuracy: 0.9333 - val_precision: 0.9333 - val_recall: 0.9333 - val_auc: 0.9978\n",
      "Epoch 304/500\n",
      "12/12 [==============================] - 1s 44ms/step - loss: 0.0346 - accuracy: 0.9889 - precision: 0.9889 - recall: 0.9889 - auc: 0.9998 - val_loss: 0.1292 - val_accuracy: 0.9333 - val_precision: 0.9333 - val_recall: 0.9333 - val_auc: 0.9978\n",
      "Epoch 305/500\n",
      "12/12 [==============================] - 1s 43ms/step - loss: 0.0684 - accuracy: 0.9778 - precision: 0.9778 - recall: 0.9778 - auc: 0.9990 - val_loss: 0.1267 - val_accuracy: 0.9333 - val_precision: 0.9333 - val_recall: 0.9333 - val_auc: 0.9978\n",
      "Epoch 306/500\n",
      "12/12 [==============================] - 1s 42ms/step - loss: 0.0729 - accuracy: 0.9889 - precision: 0.9889 - recall: 0.9889 - auc: 0.9980 - val_loss: 0.1979 - val_accuracy: 0.9333 - val_precision: 0.9333 - val_recall: 0.9333 - val_auc: 0.9978\n",
      "Epoch 307/500\n",
      "12/12 [==============================] - 1s 43ms/step - loss: 0.0776 - accuracy: 0.9889 - precision: 0.9889 - recall: 0.9889 - auc: 0.9900 - val_loss: 0.1770 - val_accuracy: 0.9333 - val_precision: 0.9333 - val_recall: 0.9333 - val_auc: 0.9978\n",
      "Epoch 308/500\n",
      "12/12 [==============================] - 1s 44ms/step - loss: 0.1026 - accuracy: 0.9667 - precision: 0.9663 - recall: 0.9556 - auc: 0.9961 - val_loss: 0.1367 - val_accuracy: 0.9333 - val_precision: 0.9333 - val_recall: 0.9333 - val_auc: 0.9978\n",
      "Epoch 309/500\n",
      "12/12 [==============================] - 0s 41ms/step - loss: 0.0497 - accuracy: 0.9778 - precision: 0.9778 - recall: 0.9778 - auc: 0.9996 - val_loss: 0.1547 - val_accuracy: 0.9333 - val_precision: 0.9333 - val_recall: 0.9333 - val_auc: 0.9978\n",
      "Epoch 310/500\n",
      "12/12 [==============================] - 0s 42ms/step - loss: 0.0873 - accuracy: 0.9667 - precision: 0.9667 - recall: 0.9667 - auc: 0.9963 - val_loss: 0.2012 - val_accuracy: 0.9333 - val_precision: 0.9333 - val_recall: 0.9333 - val_auc: 0.9978\n",
      "Epoch 311/500\n",
      "12/12 [==============================] - 0s 42ms/step - loss: 0.0562 - accuracy: 0.9889 - precision: 0.9889 - recall: 0.9889 - auc: 0.9991 - val_loss: 0.1398 - val_accuracy: 0.9333 - val_precision: 0.9333 - val_recall: 0.9333 - val_auc: 0.9978\n",
      "Epoch 312/500\n",
      "12/12 [==============================] - 1s 44ms/step - loss: 0.0435 - accuracy: 0.9778 - precision: 0.9778 - recall: 0.9778 - auc: 0.9996 - val_loss: 0.1318 - val_accuracy: 0.9333 - val_precision: 0.9333 - val_recall: 0.9333 - val_auc: 0.9978\n",
      "Epoch 313/500\n",
      "12/12 [==============================] - 1s 49ms/step - loss: 0.0365 - accuracy: 0.9889 - precision: 0.9889 - recall: 0.9889 - auc: 0.9999 - val_loss: 0.1702 - val_accuracy: 0.9333 - val_precision: 0.9333 - val_recall: 0.9333 - val_auc: 0.9978\n",
      "Epoch 314/500\n",
      "12/12 [==============================] - 1s 44ms/step - loss: 0.0448 - accuracy: 0.9778 - precision: 0.9778 - recall: 0.9778 - auc: 0.9995 - val_loss: 0.1443 - val_accuracy: 0.9333 - val_precision: 0.9333 - val_recall: 0.9333 - val_auc: 0.9978\n",
      "Epoch 315/500\n",
      "12/12 [==============================] - 1s 45ms/step - loss: 0.0475 - accuracy: 0.9778 - precision: 0.9778 - recall: 0.9778 - auc: 0.9995 - val_loss: 0.1623 - val_accuracy: 0.9333 - val_precision: 0.9333 - val_recall: 0.9333 - val_auc: 0.9978\n",
      "Epoch 316/500\n",
      "12/12 [==============================] - 1s 45ms/step - loss: 0.0374 - accuracy: 0.9778 - precision: 0.9778 - recall: 0.9778 - auc: 0.9998 - val_loss: 0.1766 - val_accuracy: 0.9333 - val_precision: 0.9333 - val_recall: 0.9333 - val_auc: 0.9978\n",
      "Epoch 317/500\n",
      "12/12 [==============================] - 1s 45ms/step - loss: 0.0428 - accuracy: 0.9889 - precision: 0.9889 - recall: 0.9889 - auc: 0.9992 - val_loss: 0.1290 - val_accuracy: 0.9333 - val_precision: 0.9333 - val_recall: 0.9333 - val_auc: 0.9978\n",
      "Epoch 318/500\n",
      "12/12 [==============================] - 1s 44ms/step - loss: 0.0583 - accuracy: 0.9889 - precision: 0.9889 - recall: 0.9889 - auc: 0.9992 - val_loss: 0.1362 - val_accuracy: 0.9333 - val_precision: 0.9333 - val_recall: 0.9333 - val_auc: 0.9978\n",
      "Epoch 319/500\n",
      "12/12 [==============================] - 1s 43ms/step - loss: 0.0646 - accuracy: 0.9778 - precision: 0.9778 - recall: 0.9778 - auc: 0.9989 - val_loss: 0.1231 - val_accuracy: 0.9333 - val_precision: 0.9333 - val_recall: 0.9333 - val_auc: 0.9978\n",
      "Epoch 320/500\n",
      "12/12 [==============================] - 1s 47ms/step - loss: 0.0515 - accuracy: 0.9889 - precision: 0.9889 - recall: 0.9889 - auc: 0.9991 - val_loss: 0.1130 - val_accuracy: 0.9333 - val_precision: 0.9333 - val_recall: 0.9333 - val_auc: 0.9978\n",
      "Epoch 321/500\n",
      "12/12 [==============================] - 1s 43ms/step - loss: 0.0354 - accuracy: 0.9889 - precision: 0.9889 - recall: 0.9889 - auc: 0.9997 - val_loss: 0.1341 - val_accuracy: 0.9333 - val_precision: 0.9333 - val_recall: 0.9333 - val_auc: 0.9978\n",
      "Epoch 322/500\n",
      "12/12 [==============================] - 1s 48ms/step - loss: 0.0615 - accuracy: 0.9778 - precision: 0.9778 - recall: 0.9778 - auc: 0.9988 - val_loss: 0.1303 - val_accuracy: 0.9333 - val_precision: 0.9333 - val_recall: 0.9333 - val_auc: 0.9978\n",
      "Epoch 323/500\n",
      "12/12 [==============================] - 1s 50ms/step - loss: 0.0437 - accuracy: 0.9889 - precision: 0.9889 - recall: 0.9889 - auc: 0.9994 - val_loss: 0.1200 - val_accuracy: 0.9333 - val_precision: 0.9333 - val_recall: 0.9333 - val_auc: 0.9978\n",
      "Epoch 324/500\n",
      "12/12 [==============================] - 1s 44ms/step - loss: 0.0584 - accuracy: 0.9778 - precision: 0.9778 - recall: 0.9778 - auc: 0.9995 - val_loss: 0.1225 - val_accuracy: 0.9333 - val_precision: 0.9333 - val_recall: 0.9333 - val_auc: 0.9978\n",
      "Epoch 325/500\n",
      "12/12 [==============================] - 1s 50ms/step - loss: 0.0249 - accuracy: 0.9889 - precision: 0.9889 - recall: 0.9889 - auc: 0.9999 - val_loss: 0.1173 - val_accuracy: 0.9333 - val_precision: 0.9333 - val_recall: 0.9333 - val_auc: 0.9978\n",
      "Epoch 326/500\n",
      "12/12 [==============================] - 1s 44ms/step - loss: 0.0909 - accuracy: 0.9667 - precision: 0.9667 - recall: 0.9667 - auc: 0.9982 - val_loss: 0.1493 - val_accuracy: 0.9333 - val_precision: 0.9333 - val_recall: 0.9333 - val_auc: 0.9978\n",
      "Epoch 327/500\n",
      "12/12 [==============================] - 1s 48ms/step - loss: 0.0520 - accuracy: 0.9778 - precision: 0.9778 - recall: 0.9778 - auc: 0.9991 - val_loss: 0.1447 - val_accuracy: 0.9333 - val_precision: 0.9333 - val_recall: 0.9333 - val_auc: 0.9978\n",
      "Epoch 328/500\n",
      "12/12 [==============================] - 1s 45ms/step - loss: 0.0354 - accuracy: 0.9778 - precision: 0.9778 - recall: 0.9778 - auc: 0.9998 - val_loss: 0.0947 - val_accuracy: 0.9333 - val_precision: 0.9333 - val_recall: 0.9333 - val_auc: 0.9978\n",
      "Epoch 329/500\n",
      "12/12 [==============================] - 1s 49ms/step - loss: 0.0711 - accuracy: 0.9889 - precision: 0.9889 - recall: 0.9889 - auc: 0.9976 - val_loss: 0.0659 - val_accuracy: 0.9333 - val_precision: 0.9333 - val_recall: 0.9333 - val_auc: 0.9978\n",
      "Epoch 330/500\n",
      "12/12 [==============================] - 1s 43ms/step - loss: 0.0700 - accuracy: 0.9667 - precision: 0.9667 - recall: 0.9667 - auc: 0.9988 - val_loss: 0.0289 - val_accuracy: 1.0000 - val_precision: 1.0000 - val_recall: 1.0000 - val_auc: 1.0000\n",
      "Epoch 331/500\n",
      "12/12 [==============================] - 1s 43ms/step - loss: 0.0251 - accuracy: 0.9889 - precision: 0.9889 - recall: 0.9889 - auc: 0.9999 - val_loss: 0.0732 - val_accuracy: 0.9667 - val_precision: 0.9667 - val_recall: 0.9667 - val_auc: 0.9983\n",
      "Epoch 332/500\n",
      "12/12 [==============================] - 1s 42ms/step - loss: 0.0601 - accuracy: 0.9667 - precision: 0.9667 - recall: 0.9667 - auc: 0.9990 - val_loss: 0.1307 - val_accuracy: 0.9333 - val_precision: 0.9333 - val_recall: 0.9333 - val_auc: 0.9978\n",
      "Epoch 333/500\n",
      "12/12 [==============================] - 1s 43ms/step - loss: 0.0494 - accuracy: 0.9778 - precision: 0.9778 - recall: 0.9778 - auc: 0.9994 - val_loss: 0.1420 - val_accuracy: 0.9333 - val_precision: 0.9333 - val_recall: 0.9333 - val_auc: 0.9978\n",
      "Epoch 334/500\n",
      "12/12 [==============================] - 1s 47ms/step - loss: 0.0301 - accuracy: 1.0000 - precision: 1.0000 - recall: 1.0000 - auc: 1.0000 - val_loss: 0.0808 - val_accuracy: 0.9667 - val_precision: 0.9667 - val_recall: 0.9667 - val_auc: 0.9983\n",
      "Epoch 335/500\n",
      "12/12 [==============================] - 1s 47ms/step - loss: 0.0800 - accuracy: 0.9889 - precision: 0.9889 - recall: 0.9889 - auc: 0.9931 - val_loss: 0.0843 - val_accuracy: 0.9667 - val_precision: 0.9667 - val_recall: 0.9667 - val_auc: 0.9983\n",
      "Epoch 336/500\n",
      "12/12 [==============================] - 1s 43ms/step - loss: 0.0479 - accuracy: 0.9889 - precision: 0.9889 - recall: 0.9889 - auc: 0.9993 - val_loss: 0.1169 - val_accuracy: 0.9333 - val_precision: 0.9333 - val_recall: 0.9333 - val_auc: 0.9978\n",
      "Epoch 337/500\n",
      "12/12 [==============================] - 1s 44ms/step - loss: 0.0475 - accuracy: 0.9889 - precision: 0.9889 - recall: 0.9889 - auc: 0.9993 - val_loss: 0.1299 - val_accuracy: 0.9333 - val_precision: 0.9333 - val_recall: 0.9333 - val_auc: 0.9978\n",
      "Epoch 338/500\n",
      "12/12 [==============================] - 1s 42ms/step - loss: 0.0839 - accuracy: 0.9889 - precision: 0.9889 - recall: 0.9889 - auc: 0.9889 - val_loss: 0.1095 - val_accuracy: 0.9333 - val_precision: 0.9333 - val_recall: 0.9333 - val_auc: 0.9978\n",
      "Epoch 339/500\n",
      "12/12 [==============================] - 1s 49ms/step - loss: 0.0627 - accuracy: 0.9889 - precision: 0.9889 - recall: 0.9889 - auc: 0.9976 - val_loss: 0.1190 - val_accuracy: 0.9333 - val_precision: 0.9333 - val_recall: 0.9333 - val_auc: 0.9978\n",
      "Epoch 340/500\n",
      "12/12 [==============================] - 1s 49ms/step - loss: 0.0625 - accuracy: 0.9889 - precision: 0.9889 - recall: 0.9889 - auc: 0.9980 - val_loss: 0.1460 - val_accuracy: 0.9333 - val_precision: 0.9333 - val_recall: 0.9333 - val_auc: 0.9978\n",
      "Epoch 341/500\n",
      "12/12 [==============================] - 1s 57ms/step - loss: 0.1716 - accuracy: 0.9667 - precision: 0.9667 - recall: 0.9667 - auc: 0.9881 - val_loss: 0.1555 - val_accuracy: 0.9333 - val_precision: 0.9333 - val_recall: 0.9333 - val_auc: 0.9978\n",
      "Epoch 342/500\n",
      "12/12 [==============================] - 1s 63ms/step - loss: 0.0646 - accuracy: 0.9889 - precision: 0.9889 - recall: 0.9889 - auc: 0.9974 - val_loss: 0.1291 - val_accuracy: 0.9333 - val_precision: 0.9333 - val_recall: 0.9333 - val_auc: 0.9978\n",
      "Epoch 343/500\n",
      "12/12 [==============================] - 1s 52ms/step - loss: 0.0610 - accuracy: 0.9889 - precision: 0.9889 - recall: 0.9889 - auc: 0.9986 - val_loss: 0.1494 - val_accuracy: 0.9333 - val_precision: 0.9333 - val_recall: 0.9333 - val_auc: 0.9978\n",
      "Epoch 344/500\n",
      "12/12 [==============================] - 1s 44ms/step - loss: 0.0164 - accuracy: 1.0000 - precision: 1.0000 - recall: 1.0000 - auc: 1.0000 - val_loss: 0.1587 - val_accuracy: 0.9333 - val_precision: 0.9333 - val_recall: 0.9333 - val_auc: 0.9978\n",
      "Epoch 345/500\n",
      "12/12 [==============================] - 1s 44ms/step - loss: 0.0308 - accuracy: 0.9889 - precision: 0.9889 - recall: 0.9889 - auc: 0.9999 - val_loss: 0.1438 - val_accuracy: 0.9333 - val_precision: 0.9333 - val_recall: 0.9333 - val_auc: 0.9978\n",
      "Epoch 346/500\n",
      "12/12 [==============================] - 1s 51ms/step - loss: 0.0255 - accuracy: 0.9889 - precision: 0.9889 - recall: 0.9889 - auc: 0.9999 - val_loss: 0.1425 - val_accuracy: 0.9333 - val_precision: 0.9333 - val_recall: 0.9333 - val_auc: 0.9978\n",
      "Epoch 347/500\n",
      "12/12 [==============================] - 1s 47ms/step - loss: 0.0481 - accuracy: 0.9778 - precision: 0.9778 - recall: 0.9778 - auc: 0.9995 - val_loss: 0.1211 - val_accuracy: 0.9333 - val_precision: 0.9333 - val_recall: 0.9333 - val_auc: 0.9978\n",
      "Epoch 348/500\n",
      "12/12 [==============================] - 1s 49ms/step - loss: 0.0344 - accuracy: 0.9889 - precision: 0.9889 - recall: 0.9889 - auc: 0.9998 - val_loss: 0.1365 - val_accuracy: 0.9333 - val_precision: 0.9333 - val_recall: 0.9333 - val_auc: 0.9978\n",
      "Epoch 349/500\n",
      "12/12 [==============================] - 1s 49ms/step - loss: 0.0567 - accuracy: 0.9778 - precision: 0.9778 - recall: 0.9778 - auc: 0.9990 - val_loss: 0.1161 - val_accuracy: 0.9333 - val_precision: 0.9333 - val_recall: 0.9333 - val_auc: 0.9978\n",
      "Epoch 350/500\n",
      "12/12 [==============================] - 1s 54ms/step - loss: 0.0567 - accuracy: 0.9667 - precision: 0.9667 - recall: 0.9667 - auc: 0.9991 - val_loss: 0.1545 - val_accuracy: 0.9333 - val_precision: 0.9333 - val_recall: 0.9333 - val_auc: 0.9978\n",
      "Epoch 351/500\n",
      "12/12 [==============================] - 1s 57ms/step - loss: 0.0697 - accuracy: 0.9778 - precision: 0.9888 - recall: 0.9778 - auc: 0.9991 - val_loss: 0.1761 - val_accuracy: 0.9333 - val_precision: 0.9333 - val_recall: 0.9333 - val_auc: 0.9978\n",
      "Epoch 352/500\n",
      "12/12 [==============================] - 1s 53ms/step - loss: 0.0538 - accuracy: 0.9889 - precision: 0.9889 - recall: 0.9889 - auc: 0.9989 - val_loss: 0.1616 - val_accuracy: 0.9333 - val_precision: 0.9333 - val_recall: 0.9333 - val_auc: 0.9978\n",
      "Epoch 353/500\n",
      "12/12 [==============================] - 1s 49ms/step - loss: 0.0603 - accuracy: 0.9667 - precision: 0.9667 - recall: 0.9667 - auc: 0.9990 - val_loss: 0.1614 - val_accuracy: 0.9333 - val_precision: 0.9333 - val_recall: 0.9333 - val_auc: 0.9978\n",
      "Epoch 354/500\n",
      "12/12 [==============================] - 1s 49ms/step - loss: 0.0398 - accuracy: 0.9889 - precision: 0.9889 - recall: 0.9889 - auc: 0.9996 - val_loss: 0.1622 - val_accuracy: 0.9333 - val_precision: 0.9333 - val_recall: 0.9333 - val_auc: 0.9978\n",
      "Epoch 355/500\n",
      "12/12 [==============================] - 1s 49ms/step - loss: 0.0558 - accuracy: 0.9778 - precision: 0.9778 - recall: 0.9778 - auc: 0.9990 - val_loss: 0.1653 - val_accuracy: 0.9333 - val_precision: 0.9333 - val_recall: 0.9333 - val_auc: 0.9978\n",
      "Epoch 356/500\n",
      "12/12 [==============================] - 1s 51ms/step - loss: 0.0365 - accuracy: 0.9889 - precision: 0.9889 - recall: 0.9889 - auc: 0.9997 - val_loss: 0.1408 - val_accuracy: 0.9333 - val_precision: 0.9333 - val_recall: 0.9333 - val_auc: 0.9978\n",
      "Epoch 357/500\n",
      "12/12 [==============================] - 0s 42ms/step - loss: 0.0333 - accuracy: 0.9889 - precision: 0.9889 - recall: 0.9889 - auc: 0.9998 - val_loss: 0.0393 - val_accuracy: 1.0000 - val_precision: 1.0000 - val_recall: 1.0000 - val_auc: 1.0000\n",
      "Epoch 358/500\n",
      "12/12 [==============================] - 1s 47ms/step - loss: 0.0485 - accuracy: 0.9778 - precision: 0.9778 - recall: 0.9778 - auc: 0.9996 - val_loss: 0.0476 - val_accuracy: 1.0000 - val_precision: 1.0000 - val_recall: 1.0000 - val_auc: 1.0000\n",
      "Epoch 359/500\n",
      "12/12 [==============================] - 1s 44ms/step - loss: 0.0724 - accuracy: 0.9778 - precision: 0.9778 - recall: 0.9778 - auc: 0.9988 - val_loss: 0.0694 - val_accuracy: 0.9333 - val_precision: 0.9333 - val_recall: 0.9333 - val_auc: 0.9978\n",
      "Epoch 360/500\n",
      "12/12 [==============================] - 1s 53ms/step - loss: 0.0455 - accuracy: 0.9778 - precision: 0.9778 - recall: 0.9778 - auc: 0.9996 - val_loss: 0.0902 - val_accuracy: 0.9333 - val_precision: 0.9333 - val_recall: 0.9333 - val_auc: 0.9978\n",
      "Epoch 361/500\n",
      "12/12 [==============================] - 1s 48ms/step - loss: 0.0218 - accuracy: 0.9889 - precision: 0.9889 - recall: 0.9889 - auc: 0.9999 - val_loss: 0.1205 - val_accuracy: 0.9333 - val_precision: 0.9333 - val_recall: 0.9333 - val_auc: 0.9978\n",
      "Epoch 362/500\n",
      "12/12 [==============================] - 1s 44ms/step - loss: 0.0642 - accuracy: 0.9889 - precision: 0.9889 - recall: 0.9889 - auc: 0.9986 - val_loss: 0.1127 - val_accuracy: 0.9333 - val_precision: 0.9333 - val_recall: 0.9333 - val_auc: 0.9978\n",
      "Epoch 363/500\n",
      "12/12 [==============================] - 1s 46ms/step - loss: 0.0367 - accuracy: 0.9889 - precision: 0.9889 - recall: 0.9889 - auc: 0.9996 - val_loss: 0.0337 - val_accuracy: 1.0000 - val_precision: 1.0000 - val_recall: 1.0000 - val_auc: 1.0000\n",
      "Epoch 364/500\n",
      "12/12 [==============================] - 1s 46ms/step - loss: 0.0715 - accuracy: 0.9778 - precision: 0.9778 - recall: 0.9778 - auc: 0.9988 - val_loss: 0.0385 - val_accuracy: 1.0000 - val_precision: 1.0000 - val_recall: 1.0000 - val_auc: 1.0000\n",
      "Epoch 365/500\n",
      "12/12 [==============================] - 1s 43ms/step - loss: 0.0306 - accuracy: 0.9889 - precision: 0.9889 - recall: 0.9889 - auc: 0.9997 - val_loss: 0.0628 - val_accuracy: 0.9667 - val_precision: 0.9667 - val_recall: 0.9667 - val_auc: 0.9983\n",
      "Epoch 366/500\n",
      "12/12 [==============================] - 1s 44ms/step - loss: 0.0375 - accuracy: 0.9889 - precision: 0.9889 - recall: 0.9889 - auc: 0.9997 - val_loss: 0.0664 - val_accuracy: 0.9667 - val_precision: 0.9667 - val_recall: 0.9667 - val_auc: 0.9983\n",
      "Epoch 367/500\n",
      "12/12 [==============================] - 1s 63ms/step - loss: 0.0500 - accuracy: 0.9889 - precision: 0.9889 - recall: 0.9889 - auc: 0.9993 - val_loss: 0.0816 - val_accuracy: 0.9333 - val_precision: 0.9333 - val_recall: 0.9333 - val_auc: 0.9978\n",
      "Epoch 368/500\n",
      "12/12 [==============================] - 1s 49ms/step - loss: 0.0380 - accuracy: 0.9889 - precision: 0.9889 - recall: 0.9889 - auc: 0.9996 - val_loss: 0.0288 - val_accuracy: 1.0000 - val_precision: 1.0000 - val_recall: 1.0000 - val_auc: 1.0000\n",
      "Epoch 369/500\n",
      "12/12 [==============================] - 1s 61ms/step - loss: 0.0517 - accuracy: 0.9778 - precision: 0.9778 - recall: 0.9778 - auc: 0.9994 - val_loss: 0.0479 - val_accuracy: 0.9667 - val_precision: 0.9667 - val_recall: 0.9667 - val_auc: 0.9994\n",
      "Epoch 370/500\n",
      "12/12 [==============================] - 1s 66ms/step - loss: 0.0387 - accuracy: 0.9889 - precision: 0.9889 - recall: 0.9889 - auc: 0.9996 - val_loss: 0.1502 - val_accuracy: 0.9333 - val_precision: 0.9333 - val_recall: 0.9333 - val_auc: 0.9978\n",
      "Epoch 371/500\n",
      "12/12 [==============================] - 1s 51ms/step - loss: 0.0419 - accuracy: 0.9889 - precision: 0.9889 - recall: 0.9889 - auc: 0.9997 - val_loss: 0.1314 - val_accuracy: 0.9333 - val_precision: 0.9333 - val_recall: 0.9333 - val_auc: 0.9978\n",
      "Epoch 372/500\n",
      "12/12 [==============================] - 1s 49ms/step - loss: 0.0288 - accuracy: 0.9889 - precision: 0.9889 - recall: 0.9889 - auc: 0.9999 - val_loss: 0.1299 - val_accuracy: 0.9333 - val_precision: 0.9333 - val_recall: 0.9333 - val_auc: 0.9978\n",
      "Epoch 373/500\n",
      "12/12 [==============================] - 1s 48ms/step - loss: 0.0370 - accuracy: 0.9889 - precision: 0.9889 - recall: 0.9889 - auc: 0.9997 - val_loss: 0.0854 - val_accuracy: 0.9333 - val_precision: 0.9333 - val_recall: 0.9333 - val_auc: 0.9978\n",
      "Epoch 374/500\n",
      "12/12 [==============================] - 1s 45ms/step - loss: 0.0164 - accuracy: 1.0000 - precision: 1.0000 - recall: 1.0000 - auc: 1.0000 - val_loss: 0.0521 - val_accuracy: 0.9667 - val_precision: 0.9667 - val_recall: 0.9667 - val_auc: 0.9983\n",
      "Epoch 375/500\n",
      "12/12 [==============================] - 1s 48ms/step - loss: 0.0303 - accuracy: 0.9889 - precision: 0.9889 - recall: 0.9889 - auc: 0.9998 - val_loss: 0.0500 - val_accuracy: 0.9667 - val_precision: 0.9667 - val_recall: 0.9667 - val_auc: 0.9994\n",
      "Epoch 376/500\n",
      "12/12 [==============================] - 1s 45ms/step - loss: 0.0467 - accuracy: 0.9778 - precision: 0.9778 - recall: 0.9778 - auc: 0.9993 - val_loss: 0.0802 - val_accuracy: 0.9667 - val_precision: 0.9667 - val_recall: 0.9667 - val_auc: 0.9983\n",
      "Epoch 377/500\n",
      "12/12 [==============================] - 1s 46ms/step - loss: 0.0667 - accuracy: 0.9667 - precision: 0.9667 - recall: 0.9667 - auc: 0.9988 - val_loss: 0.1450 - val_accuracy: 0.9333 - val_precision: 0.9333 - val_recall: 0.9333 - val_auc: 0.9978\n",
      "Epoch 378/500\n",
      "12/12 [==============================] - 1s 58ms/step - loss: 0.0712 - accuracy: 0.9778 - precision: 0.9778 - recall: 0.9778 - auc: 0.9989 - val_loss: 0.1117 - val_accuracy: 0.9667 - val_precision: 0.9667 - val_recall: 0.9667 - val_auc: 0.9983\n",
      "Epoch 379/500\n",
      "12/12 [==============================] - 1s 45ms/step - loss: 0.0258 - accuracy: 0.9889 - precision: 0.9889 - recall: 0.9889 - auc: 0.9999 - val_loss: 0.1272 - val_accuracy: 0.9333 - val_precision: 0.9333 - val_recall: 0.9333 - val_auc: 0.9978\n",
      "Epoch 380/500\n",
      "12/12 [==============================] - 1s 46ms/step - loss: 0.0564 - accuracy: 0.9778 - precision: 0.9778 - recall: 0.9778 - auc: 0.9990 - val_loss: 0.1301 - val_accuracy: 0.9333 - val_precision: 0.9333 - val_recall: 0.9333 - val_auc: 0.9978\n",
      "Epoch 381/500\n",
      "12/12 [==============================] - 1s 46ms/step - loss: 0.0308 - accuracy: 0.9889 - precision: 0.9889 - recall: 0.9889 - auc: 0.9999 - val_loss: 0.1418 - val_accuracy: 0.9333 - val_precision: 0.9333 - val_recall: 0.9333 - val_auc: 0.9978\n",
      "Epoch 382/500\n",
      "12/12 [==============================] - 1s 47ms/step - loss: 0.0281 - accuracy: 0.9889 - precision: 0.9889 - recall: 0.9889 - auc: 0.9999 - val_loss: 0.0969 - val_accuracy: 0.9667 - val_precision: 0.9667 - val_recall: 0.9667 - val_auc: 0.9983\n",
      "Epoch 383/500\n",
      "12/12 [==============================] - 1s 44ms/step - loss: 0.0458 - accuracy: 0.9889 - precision: 0.9889 - recall: 0.9889 - auc: 0.9992 - val_loss: 0.1335 - val_accuracy: 0.9333 - val_precision: 0.9333 - val_recall: 0.9333 - val_auc: 0.9978\n",
      "Epoch 384/500\n",
      "12/12 [==============================] - 1s 48ms/step - loss: 0.0637 - accuracy: 0.9667 - precision: 0.9667 - recall: 0.9667 - auc: 0.9990 - val_loss: 0.1364 - val_accuracy: 0.9333 - val_precision: 0.9333 - val_recall: 0.9333 - val_auc: 0.9978\n",
      "Epoch 385/500\n",
      "12/12 [==============================] - 1s 44ms/step - loss: 0.0742 - accuracy: 0.9556 - precision: 0.9556 - recall: 0.9556 - auc: 0.9984 - val_loss: 0.0700 - val_accuracy: 0.9667 - val_precision: 0.9667 - val_recall: 0.9667 - val_auc: 0.9983\n",
      "Epoch 386/500\n",
      "12/12 [==============================] - 1s 44ms/step - loss: 0.0732 - accuracy: 0.9556 - precision: 0.9556 - recall: 0.9556 - auc: 0.9989 - val_loss: 0.1734 - val_accuracy: 0.9333 - val_precision: 0.9333 - val_recall: 0.9333 - val_auc: 0.9978\n",
      "Epoch 387/500\n",
      "12/12 [==============================] - 1s 46ms/step - loss: 0.0802 - accuracy: 0.9444 - precision: 0.9444 - recall: 0.9444 - auc: 0.9982 - val_loss: 0.0849 - val_accuracy: 0.9333 - val_precision: 0.9333 - val_recall: 0.9333 - val_auc: 0.9978\n",
      "Epoch 388/500\n",
      "12/12 [==============================] - 1s 43ms/step - loss: 0.0543 - accuracy: 0.9778 - precision: 0.9778 - recall: 0.9778 - auc: 0.9995 - val_loss: 0.0764 - val_accuracy: 0.9333 - val_precision: 0.9333 - val_recall: 0.9333 - val_auc: 0.9978\n",
      "Epoch 389/500\n",
      "12/12 [==============================] - 1s 53ms/step - loss: 0.0759 - accuracy: 0.9667 - precision: 0.9775 - recall: 0.9667 - auc: 0.9986 - val_loss: 0.1382 - val_accuracy: 0.9333 - val_precision: 0.9333 - val_recall: 0.9333 - val_auc: 0.9978\n",
      "Epoch 390/500\n",
      "12/12 [==============================] - 1s 44ms/step - loss: 0.0722 - accuracy: 0.9667 - precision: 0.9667 - recall: 0.9667 - auc: 0.9989 - val_loss: 0.0965 - val_accuracy: 0.9333 - val_precision: 0.9333 - val_recall: 0.9333 - val_auc: 0.9978\n",
      "Epoch 391/500\n",
      "12/12 [==============================] - 1s 43ms/step - loss: 0.0241 - accuracy: 0.9889 - precision: 0.9889 - recall: 0.9889 - auc: 0.9999 - val_loss: 0.0867 - val_accuracy: 0.9333 - val_precision: 0.9333 - val_recall: 0.9333 - val_auc: 0.9978\n",
      "Epoch 392/500\n",
      "12/12 [==============================] - 1s 44ms/step - loss: 0.0716 - accuracy: 0.9667 - precision: 0.9667 - recall: 0.9667 - auc: 0.9991 - val_loss: 0.1028 - val_accuracy: 0.9333 - val_precision: 0.9333 - val_recall: 0.9333 - val_auc: 0.9978\n",
      "Epoch 393/500\n",
      "12/12 [==============================] - 1s 45ms/step - loss: 0.0475 - accuracy: 0.9889 - precision: 0.9889 - recall: 0.9889 - auc: 0.9994 - val_loss: 0.1117 - val_accuracy: 0.9333 - val_precision: 0.9333 - val_recall: 0.9333 - val_auc: 0.9978\n",
      "Epoch 394/500\n",
      "12/12 [==============================] - 1s 43ms/step - loss: 0.0408 - accuracy: 0.9778 - precision: 0.9778 - recall: 0.9778 - auc: 0.9995 - val_loss: 0.1042 - val_accuracy: 0.9333 - val_precision: 0.9333 - val_recall: 0.9333 - val_auc: 0.9978\n",
      "Epoch 395/500\n",
      "12/12 [==============================] - 1s 45ms/step - loss: 0.0354 - accuracy: 0.9889 - precision: 0.9889 - recall: 0.9889 - auc: 0.9998 - val_loss: 0.1126 - val_accuracy: 0.9333 - val_precision: 0.9333 - val_recall: 0.9333 - val_auc: 0.9978\n",
      "Epoch 396/500\n",
      "12/12 [==============================] - 1s 44ms/step - loss: 0.0467 - accuracy: 0.9667 - precision: 0.9667 - recall: 0.9667 - auc: 0.9994 - val_loss: 0.1640 - val_accuracy: 0.9333 - val_precision: 0.9333 - val_recall: 0.9333 - val_auc: 0.9978\n",
      "Epoch 397/500\n",
      "12/12 [==============================] - 1s 42ms/step - loss: 0.0517 - accuracy: 0.9889 - precision: 0.9889 - recall: 0.9889 - auc: 0.9990 - val_loss: 0.1343 - val_accuracy: 0.9333 - val_precision: 0.9333 - val_recall: 0.9333 - val_auc: 0.9978\n",
      "Epoch 398/500\n",
      "12/12 [==============================] - 1s 43ms/step - loss: 0.0398 - accuracy: 0.9889 - precision: 0.9889 - recall: 0.9889 - auc: 0.9997 - val_loss: 0.1027 - val_accuracy: 0.9333 - val_precision: 0.9333 - val_recall: 0.9333 - val_auc: 0.9978\n",
      "Epoch 399/500\n",
      "12/12 [==============================] - 1s 53ms/step - loss: 0.0591 - accuracy: 0.9778 - precision: 0.9778 - recall: 0.9778 - auc: 0.9994 - val_loss: 0.1023 - val_accuracy: 0.9333 - val_precision: 0.9333 - val_recall: 0.9333 - val_auc: 0.9978\n",
      "Epoch 400/500\n",
      "12/12 [==============================] - 1s 45ms/step - loss: 0.0177 - accuracy: 1.0000 - precision: 1.0000 - recall: 1.0000 - auc: 1.0000 - val_loss: 0.1074 - val_accuracy: 0.9333 - val_precision: 0.9333 - val_recall: 0.9333 - val_auc: 0.9978\n",
      "Epoch 401/500\n",
      "12/12 [==============================] - 1s 43ms/step - loss: 0.0440 - accuracy: 0.9778 - precision: 0.9778 - recall: 0.9778 - auc: 0.9995 - val_loss: 0.0946 - val_accuracy: 0.9333 - val_precision: 0.9333 - val_recall: 0.9333 - val_auc: 0.9978\n",
      "Epoch 402/500\n",
      "12/12 [==============================] - 1s 43ms/step - loss: 0.0308 - accuracy: 0.9889 - precision: 0.9889 - recall: 0.9889 - auc: 0.9998 - val_loss: 0.1109 - val_accuracy: 0.9333 - val_precision: 0.9333 - val_recall: 0.9333 - val_auc: 0.9978\n",
      "Epoch 403/500\n",
      "12/12 [==============================] - 1s 46ms/step - loss: 0.0382 - accuracy: 0.9778 - precision: 0.9778 - recall: 0.9778 - auc: 0.9998 - val_loss: 0.1530 - val_accuracy: 0.9333 - val_precision: 0.9333 - val_recall: 0.9333 - val_auc: 0.9978\n",
      "Epoch 404/500\n",
      "12/12 [==============================] - 1s 45ms/step - loss: 0.0307 - accuracy: 0.9889 - precision: 0.9889 - recall: 0.9889 - auc: 0.9998 - val_loss: 0.1373 - val_accuracy: 0.9333 - val_precision: 0.9333 - val_recall: 0.9333 - val_auc: 0.9978\n",
      "Epoch 405/500\n",
      "12/12 [==============================] - 1s 43ms/step - loss: 0.0503 - accuracy: 0.9778 - precision: 0.9778 - recall: 0.9778 - auc: 0.9991 - val_loss: 0.1181 - val_accuracy: 0.9333 - val_precision: 0.9333 - val_recall: 0.9333 - val_auc: 0.9978\n",
      "Epoch 406/500\n",
      "12/12 [==============================] - 1s 48ms/step - loss: 0.0193 - accuracy: 1.0000 - precision: 1.0000 - recall: 1.0000 - auc: 1.0000 - val_loss: 0.1203 - val_accuracy: 0.9333 - val_precision: 0.9333 - val_recall: 0.9333 - val_auc: 0.9978\n",
      "Epoch 407/500\n",
      "12/12 [==============================] - 1s 46ms/step - loss: 0.0955 - accuracy: 0.9778 - precision: 0.9778 - recall: 0.9778 - auc: 0.9972 - val_loss: 0.1034 - val_accuracy: 0.9333 - val_precision: 0.9333 - val_recall: 0.9333 - val_auc: 0.9978\n",
      "Epoch 408/500\n",
      "12/12 [==============================] - 1s 46ms/step - loss: 0.0420 - accuracy: 0.9778 - precision: 0.9778 - recall: 0.9778 - auc: 0.9995 - val_loss: 0.0360 - val_accuracy: 1.0000 - val_precision: 1.0000 - val_recall: 1.0000 - val_auc: 1.0000\n",
      "Epoch 409/500\n",
      "12/12 [==============================] - 1s 44ms/step - loss: 0.0492 - accuracy: 0.9889 - precision: 0.9889 - recall: 0.9889 - auc: 0.9993 - val_loss: 0.0943 - val_accuracy: 0.9333 - val_precision: 0.9333 - val_recall: 0.9333 - val_auc: 0.9978\n",
      "Epoch 410/500\n",
      "12/12 [==============================] - 1s 51ms/step - loss: 0.0482 - accuracy: 0.9778 - precision: 0.9778 - recall: 0.9778 - auc: 0.9995 - val_loss: 0.1438 - val_accuracy: 0.9333 - val_precision: 0.9333 - val_recall: 0.9333 - val_auc: 0.9978\n",
      "Epoch 411/500\n",
      "12/12 [==============================] - 1s 50ms/step - loss: 0.0504 - accuracy: 0.9778 - precision: 0.9778 - recall: 0.9778 - auc: 0.9993 - val_loss: 0.1038 - val_accuracy: 0.9333 - val_precision: 0.9333 - val_recall: 0.9333 - val_auc: 0.9978\n",
      "Epoch 412/500\n",
      "12/12 [==============================] - 1s 45ms/step - loss: 0.0501 - accuracy: 0.9667 - precision: 0.9667 - recall: 0.9667 - auc: 0.9992 - val_loss: 0.0438 - val_accuracy: 0.9667 - val_precision: 0.9667 - val_recall: 0.9667 - val_auc: 0.9994\n",
      "Epoch 413/500\n",
      "12/12 [==============================] - 1s 49ms/step - loss: 0.0438 - accuracy: 0.9778 - precision: 0.9778 - recall: 0.9778 - auc: 0.9995 - val_loss: 0.0675 - val_accuracy: 0.9667 - val_precision: 0.9667 - val_recall: 0.9667 - val_auc: 0.9983\n",
      "Epoch 414/500\n",
      "12/12 [==============================] - 1s 46ms/step - loss: 0.0538 - accuracy: 0.9778 - precision: 0.9778 - recall: 0.9778 - auc: 0.9994 - val_loss: 0.0778 - val_accuracy: 0.9667 - val_precision: 0.9667 - val_recall: 0.9667 - val_auc: 0.9983\n",
      "Epoch 415/500\n",
      "12/12 [==============================] - 1s 47ms/step - loss: 0.0624 - accuracy: 0.9889 - precision: 0.9889 - recall: 0.9889 - auc: 0.9985 - val_loss: 0.0958 - val_accuracy: 0.9333 - val_precision: 0.9333 - val_recall: 0.9333 - val_auc: 0.9978\n",
      "Epoch 416/500\n",
      "12/12 [==============================] - 1s 45ms/step - loss: 0.0404 - accuracy: 0.9778 - precision: 0.9778 - recall: 0.9778 - auc: 0.9998 - val_loss: 0.1518 - val_accuracy: 0.9333 - val_precision: 0.9333 - val_recall: 0.9333 - val_auc: 0.9978\n",
      "Epoch 417/500\n",
      "12/12 [==============================] - 1s 45ms/step - loss: 0.0192 - accuracy: 0.9889 - precision: 0.9889 - recall: 0.9889 - auc: 0.9999 - val_loss: 0.1273 - val_accuracy: 0.9333 - val_precision: 0.9333 - val_recall: 0.9333 - val_auc: 0.9978\n",
      "Epoch 418/500\n",
      "12/12 [==============================] - 1s 47ms/step - loss: 0.0888 - accuracy: 0.9778 - precision: 0.9778 - recall: 0.9778 - auc: 0.9898 - val_loss: 0.0674 - val_accuracy: 0.9333 - val_precision: 0.9333 - val_recall: 0.9333 - val_auc: 0.9978\n",
      "Epoch 419/500\n",
      "12/12 [==============================] - 1s 47ms/step - loss: 0.0497 - accuracy: 0.9889 - precision: 0.9889 - recall: 0.9889 - auc: 0.9993 - val_loss: 0.1116 - val_accuracy: 0.9333 - val_precision: 0.9333 - val_recall: 0.9333 - val_auc: 0.9978\n",
      "Epoch 420/500\n",
      "12/12 [==============================] - 1s 51ms/step - loss: 0.0478 - accuracy: 0.9889 - precision: 0.9889 - recall: 0.9889 - auc: 0.9993 - val_loss: 0.1490 - val_accuracy: 0.9333 - val_precision: 0.9333 - val_recall: 0.9333 - val_auc: 0.9978\n",
      "Epoch 421/500\n",
      "12/12 [==============================] - 1s 53ms/step - loss: 0.0346 - accuracy: 0.9889 - precision: 0.9889 - recall: 0.9889 - auc: 0.9998 - val_loss: 0.1534 - val_accuracy: 0.9333 - val_precision: 0.9333 - val_recall: 0.9333 - val_auc: 0.9978\n",
      "Epoch 422/500\n",
      "12/12 [==============================] - 1s 47ms/step - loss: 0.0296 - accuracy: 0.9889 - precision: 0.9889 - recall: 0.9889 - auc: 0.9998 - val_loss: 0.1948 - val_accuracy: 0.9333 - val_precision: 0.9333 - val_recall: 0.9333 - val_auc: 0.9978\n",
      "Epoch 423/500\n",
      "12/12 [==============================] - 1s 45ms/step - loss: 0.0621 - accuracy: 0.9889 - precision: 0.9889 - recall: 0.9889 - auc: 0.9985 - val_loss: 0.1095 - val_accuracy: 0.9333 - val_precision: 0.9333 - val_recall: 0.9333 - val_auc: 0.9978\n",
      "Epoch 424/500\n",
      "12/12 [==============================] - 1s 52ms/step - loss: 0.0394 - accuracy: 0.9778 - precision: 0.9778 - recall: 0.9778 - auc: 0.9996 - val_loss: 0.1187 - val_accuracy: 0.9333 - val_precision: 0.9333 - val_recall: 0.9333 - val_auc: 0.9978\n",
      "Epoch 425/500\n",
      "12/12 [==============================] - 1s 49ms/step - loss: 0.0465 - accuracy: 0.9889 - precision: 0.9889 - recall: 0.9889 - auc: 0.9992 - val_loss: 0.1148 - val_accuracy: 0.9333 - val_precision: 0.9333 - val_recall: 0.9333 - val_auc: 0.9978\n",
      "Epoch 426/500\n",
      "12/12 [==============================] - 1s 53ms/step - loss: 0.0938 - accuracy: 0.9889 - precision: 0.9889 - recall: 0.9889 - auc: 0.9902 - val_loss: 0.0542 - val_accuracy: 0.9667 - val_precision: 0.9667 - val_recall: 0.9667 - val_auc: 0.9994\n",
      "Epoch 427/500\n",
      "12/12 [==============================] - 1s 45ms/step - loss: 0.0569 - accuracy: 0.9778 - precision: 0.9778 - recall: 0.9778 - auc: 0.9993 - val_loss: 0.1872 - val_accuracy: 0.9333 - val_precision: 0.9333 - val_recall: 0.9333 - val_auc: 0.9978\n",
      "Epoch 428/500\n",
      "12/12 [==============================] - 1s 46ms/step - loss: 0.0537 - accuracy: 0.9778 - precision: 0.9778 - recall: 0.9778 - auc: 0.9993 - val_loss: 0.1722 - val_accuracy: 0.9333 - val_precision: 0.9333 - val_recall: 0.9333 - val_auc: 0.9978\n",
      "Epoch 429/500\n",
      "12/12 [==============================] - 1s 47ms/step - loss: 0.0411 - accuracy: 0.9889 - precision: 0.9889 - recall: 0.9889 - auc: 0.9996 - val_loss: 0.1471 - val_accuracy: 0.9333 - val_precision: 0.9333 - val_recall: 0.9333 - val_auc: 0.9978\n",
      "Epoch 430/500\n",
      "12/12 [==============================] - 1s 45ms/step - loss: 0.0249 - accuracy: 0.9889 - precision: 0.9889 - recall: 0.9889 - auc: 0.9999 - val_loss: 0.1132 - val_accuracy: 0.9667 - val_precision: 0.9667 - val_recall: 0.9667 - val_auc: 0.9983\n",
      "Epoch 431/500\n",
      "12/12 [==============================] - 1s 49ms/step - loss: 0.0279 - accuracy: 1.0000 - precision: 1.0000 - recall: 1.0000 - auc: 1.0000 - val_loss: 0.0766 - val_accuracy: 0.9667 - val_precision: 0.9667 - val_recall: 0.9667 - val_auc: 0.9994\n",
      "Epoch 432/500\n",
      "12/12 [==============================] - 1s 44ms/step - loss: 0.0343 - accuracy: 0.9778 - precision: 0.9778 - recall: 0.9778 - auc: 0.9998 - val_loss: 0.1246 - val_accuracy: 0.9667 - val_precision: 0.9667 - val_recall: 0.9667 - val_auc: 0.9983\n",
      "Epoch 433/500\n",
      "12/12 [==============================] - 1s 45ms/step - loss: 0.0198 - accuracy: 0.9889 - precision: 0.9889 - recall: 0.9889 - auc: 0.9999 - val_loss: 0.2087 - val_accuracy: 0.9667 - val_precision: 0.9667 - val_recall: 0.9667 - val_auc: 0.9736\n",
      "Epoch 434/500\n",
      "12/12 [==============================] - 1s 48ms/step - loss: 0.0499 - accuracy: 0.9889 - precision: 0.9889 - recall: 0.9889 - auc: 0.9991 - val_loss: 0.2860 - val_accuracy: 0.9333 - val_precision: 0.9333 - val_recall: 0.9333 - val_auc: 0.9731\n",
      "Epoch 435/500\n",
      "12/12 [==============================] - 1s 45ms/step - loss: 0.1669 - accuracy: 0.9556 - precision: 0.9556 - recall: 0.9556 - auc: 0.9886 - val_loss: 0.2079 - val_accuracy: 0.9333 - val_precision: 0.9333 - val_recall: 0.9333 - val_auc: 0.9978\n",
      "Epoch 436/500\n",
      "12/12 [==============================] - 1s 47ms/step - loss: 0.0197 - accuracy: 0.9889 - precision: 0.9889 - recall: 0.9889 - auc: 0.9999 - val_loss: 0.0623 - val_accuracy: 0.9333 - val_precision: 0.9333 - val_recall: 0.9333 - val_auc: 0.9978\n",
      "Epoch 437/500\n",
      "12/12 [==============================] - 1s 48ms/step - loss: 0.0494 - accuracy: 0.9778 - precision: 0.9778 - recall: 0.9778 - auc: 0.9993 - val_loss: 0.0341 - val_accuracy: 1.0000 - val_precision: 1.0000 - val_recall: 1.0000 - val_auc: 1.0000\n",
      "Epoch 438/500\n",
      "12/12 [==============================] - 1s 49ms/step - loss: 0.0699 - accuracy: 0.9778 - precision: 0.9778 - recall: 0.9778 - auc: 0.9990 - val_loss: 0.1109 - val_accuracy: 0.9333 - val_precision: 0.9333 - val_recall: 0.9333 - val_auc: 0.9978\n",
      "Epoch 439/500\n",
      "12/12 [==============================] - 1s 52ms/step - loss: 0.0459 - accuracy: 0.9778 - precision: 0.9778 - recall: 0.9778 - auc: 0.9995 - val_loss: 0.1400 - val_accuracy: 0.9333 - val_precision: 0.9333 - val_recall: 0.9333 - val_auc: 0.9978\n",
      "Epoch 440/500\n",
      "12/12 [==============================] - 1s 48ms/step - loss: 0.0541 - accuracy: 0.9667 - precision: 0.9667 - recall: 0.9667 - auc: 0.9991 - val_loss: 0.0379 - val_accuracy: 0.9667 - val_precision: 0.9667 - val_recall: 0.9667 - val_auc: 0.9994\n",
      "Epoch 441/500\n",
      "12/12 [==============================] - 1s 45ms/step - loss: 0.0378 - accuracy: 0.9889 - precision: 0.9889 - recall: 0.9889 - auc: 0.9996 - val_loss: 0.0716 - val_accuracy: 0.9667 - val_precision: 0.9667 - val_recall: 0.9667 - val_auc: 0.9994\n",
      "Epoch 442/500\n",
      "12/12 [==============================] - 1s 44ms/step - loss: 0.0468 - accuracy: 0.9778 - precision: 0.9778 - recall: 0.9778 - auc: 0.9995 - val_loss: 0.1239 - val_accuracy: 0.9667 - val_precision: 0.9667 - val_recall: 0.9667 - val_auc: 0.9983\n",
      "Epoch 443/500\n",
      "12/12 [==============================] - 1s 46ms/step - loss: 0.0233 - accuracy: 1.0000 - precision: 1.0000 - recall: 1.0000 - auc: 1.0000 - val_loss: 0.1327 - val_accuracy: 0.9667 - val_precision: 0.9667 - val_recall: 0.9667 - val_auc: 0.9983\n",
      "Epoch 444/500\n",
      "12/12 [==============================] - 1s 46ms/step - loss: 0.0353 - accuracy: 0.9778 - precision: 0.9778 - recall: 0.9778 - auc: 0.9996 - val_loss: 0.1802 - val_accuracy: 0.9333 - val_precision: 0.9333 - val_recall: 0.9333 - val_auc: 0.9978\n",
      "Epoch 445/500\n",
      "12/12 [==============================] - 1s 45ms/step - loss: 0.0420 - accuracy: 0.9889 - precision: 0.9889 - recall: 0.9889 - auc: 0.9992 - val_loss: 0.1568 - val_accuracy: 0.9333 - val_precision: 0.9333 - val_recall: 0.9333 - val_auc: 0.9978\n",
      "Epoch 446/500\n",
      "12/12 [==============================] - 1s 46ms/step - loss: 0.0524 - accuracy: 0.9778 - precision: 0.9778 - recall: 0.9778 - auc: 0.9994 - val_loss: 0.0926 - val_accuracy: 0.9667 - val_precision: 0.9667 - val_recall: 0.9667 - val_auc: 0.9983\n",
      "Epoch 447/500\n",
      "12/12 [==============================] - 1s 49ms/step - loss: 0.0219 - accuracy: 0.9889 - precision: 0.9889 - recall: 0.9889 - auc: 0.9999 - val_loss: 0.0966 - val_accuracy: 0.9333 - val_precision: 0.9333 - val_recall: 0.9333 - val_auc: 0.9978\n",
      "Epoch 448/500\n",
      "12/12 [==============================] - 1s 45ms/step - loss: 0.0331 - accuracy: 1.0000 - precision: 1.0000 - recall: 1.0000 - auc: 1.0000 - val_loss: 0.1222 - val_accuracy: 0.9333 - val_precision: 0.9333 - val_recall: 0.9333 - val_auc: 0.9978\n",
      "Epoch 449/500\n",
      "12/12 [==============================] - 1s 46ms/step - loss: 0.0352 - accuracy: 0.9889 - precision: 0.9889 - recall: 0.9889 - auc: 0.9997 - val_loss: 0.1549 - val_accuracy: 0.9333 - val_precision: 0.9333 - val_recall: 0.9333 - val_auc: 0.9978\n",
      "Epoch 450/500\n",
      "12/12 [==============================] - 1s 44ms/step - loss: 0.0312 - accuracy: 0.9889 - precision: 0.9889 - recall: 0.9889 - auc: 0.9998 - val_loss: 0.1419 - val_accuracy: 0.9333 - val_precision: 0.9333 - val_recall: 0.9333 - val_auc: 0.9978\n",
      "Epoch 451/500\n",
      "12/12 [==============================] - 1s 45ms/step - loss: 0.0439 - accuracy: 0.9778 - precision: 0.9778 - recall: 0.9778 - auc: 0.9995 - val_loss: 0.1416 - val_accuracy: 0.9333 - val_precision: 0.9333 - val_recall: 0.9333 - val_auc: 0.9978\n",
      "Epoch 452/500\n",
      "12/12 [==============================] - 1s 46ms/step - loss: 0.0706 - accuracy: 0.9667 - precision: 0.9667 - recall: 0.9667 - auc: 0.9988 - val_loss: 0.1223 - val_accuracy: 0.9333 - val_precision: 0.9333 - val_recall: 0.9333 - val_auc: 0.9978\n",
      "Epoch 453/500\n",
      "12/12 [==============================] - 1s 44ms/step - loss: 0.0169 - accuracy: 0.9889 - precision: 0.9889 - recall: 0.9889 - auc: 0.9999 - val_loss: 0.1289 - val_accuracy: 0.9333 - val_precision: 0.9333 - val_recall: 0.9333 - val_auc: 0.9978\n",
      "Epoch 454/500\n",
      "12/12 [==============================] - 1s 45ms/step - loss: 0.0326 - accuracy: 0.9889 - precision: 0.9889 - recall: 0.9889 - auc: 0.9998 - val_loss: 0.1290 - val_accuracy: 0.9333 - val_precision: 0.9333 - val_recall: 0.9333 - val_auc: 0.9978\n",
      "Epoch 455/500\n",
      "12/12 [==============================] - 1s 43ms/step - loss: 0.0283 - accuracy: 0.9889 - precision: 0.9889 - recall: 0.9889 - auc: 0.9998 - val_loss: 0.0833 - val_accuracy: 0.9667 - val_precision: 0.9667 - val_recall: 0.9667 - val_auc: 0.9983\n",
      "Epoch 456/500\n",
      "12/12 [==============================] - 1s 46ms/step - loss: 0.0233 - accuracy: 0.9889 - precision: 0.9889 - recall: 0.9889 - auc: 0.9999 - val_loss: 0.0956 - val_accuracy: 0.9667 - val_precision: 0.9667 - val_recall: 0.9667 - val_auc: 0.9983\n",
      "Epoch 457/500\n",
      "12/12 [==============================] - 1s 48ms/step - loss: 0.0485 - accuracy: 0.9889 - precision: 0.9889 - recall: 0.9889 - auc: 0.9991 - val_loss: 0.1196 - val_accuracy: 0.9667 - val_precision: 0.9667 - val_recall: 0.9667 - val_auc: 0.9983\n",
      "Epoch 458/500\n",
      "12/12 [==============================] - 1s 46ms/step - loss: 0.0617 - accuracy: 0.9778 - precision: 0.9778 - recall: 0.9778 - auc: 0.9992 - val_loss: 0.1133 - val_accuracy: 0.9333 - val_precision: 0.9333 - val_recall: 0.9333 - val_auc: 0.9978\n",
      "Epoch 459/500\n",
      "12/12 [==============================] - 1s 46ms/step - loss: 0.0530 - accuracy: 0.9778 - precision: 0.9778 - recall: 0.9778 - auc: 0.9993 - val_loss: 0.1250 - val_accuracy: 0.9333 - val_precision: 0.9333 - val_recall: 0.9333 - val_auc: 0.9978\n",
      "Epoch 460/500\n",
      "12/12 [==============================] - 1s 46ms/step - loss: 0.0289 - accuracy: 0.9889 - precision: 0.9889 - recall: 0.9889 - auc: 0.9997 - val_loss: 0.1325 - val_accuracy: 0.9333 - val_precision: 0.9333 - val_recall: 0.9333 - val_auc: 0.9978\n",
      "Epoch 461/500\n",
      "12/12 [==============================] - 1s 44ms/step - loss: 0.0191 - accuracy: 1.0000 - precision: 1.0000 - recall: 1.0000 - auc: 1.0000 - val_loss: 0.1445 - val_accuracy: 0.9333 - val_precision: 0.9333 - val_recall: 0.9333 - val_auc: 0.9978\n",
      "Epoch 462/500\n",
      "12/12 [==============================] - 1s 46ms/step - loss: 0.0968 - accuracy: 0.9778 - precision: 0.9778 - recall: 0.9778 - auc: 0.9972 - val_loss: 0.1360 - val_accuracy: 0.9333 - val_precision: 0.9333 - val_recall: 0.9333 - val_auc: 0.9978\n",
      "Epoch 463/500\n",
      "12/12 [==============================] - 1s 45ms/step - loss: 0.0466 - accuracy: 0.9889 - precision: 0.9889 - recall: 0.9889 - auc: 0.9996 - val_loss: 0.1415 - val_accuracy: 0.9333 - val_precision: 0.9333 - val_recall: 0.9333 - val_auc: 0.9978\n",
      "Epoch 464/500\n",
      "12/12 [==============================] - 1s 47ms/step - loss: 0.0371 - accuracy: 0.9889 - precision: 0.9889 - recall: 0.9889 - auc: 0.9997 - val_loss: 0.1332 - val_accuracy: 0.9333 - val_precision: 0.9333 - val_recall: 0.9333 - val_auc: 0.9978\n",
      "Epoch 465/500\n",
      "12/12 [==============================] - 1s 45ms/step - loss: 0.0470 - accuracy: 0.9889 - precision: 0.9889 - recall: 0.9889 - auc: 0.9994 - val_loss: 0.1107 - val_accuracy: 0.9333 - val_precision: 0.9333 - val_recall: 0.9333 - val_auc: 0.9978\n",
      "Epoch 466/500\n",
      "12/12 [==============================] - 1s 46ms/step - loss: 0.0228 - accuracy: 1.0000 - precision: 1.0000 - recall: 1.0000 - auc: 1.0000 - val_loss: 0.0175 - val_accuracy: 1.0000 - val_precision: 1.0000 - val_recall: 1.0000 - val_auc: 1.0000\n",
      "Epoch 467/500\n",
      "12/12 [==============================] - 1s 45ms/step - loss: 0.0423 - accuracy: 0.9778 - precision: 0.9778 - recall: 0.9778 - auc: 0.9995 - val_loss: 0.1864 - val_accuracy: 0.9333 - val_precision: 0.9333 - val_recall: 0.9333 - val_auc: 0.9978\n",
      "Epoch 468/500\n",
      "12/12 [==============================] - 1s 45ms/step - loss: 0.0489 - accuracy: 0.9889 - precision: 0.9889 - recall: 0.9889 - auc: 0.9991 - val_loss: 0.2254 - val_accuracy: 0.9333 - val_precision: 0.9333 - val_recall: 0.9333 - val_auc: 0.9978\n",
      "Epoch 469/500\n",
      "12/12 [==============================] - 1s 47ms/step - loss: 0.0487 - accuracy: 0.9889 - precision: 0.9889 - recall: 0.9889 - auc: 0.9994 - val_loss: 0.1345 - val_accuracy: 0.9333 - val_precision: 0.9333 - val_recall: 0.9333 - val_auc: 0.9978\n",
      "Epoch 470/500\n",
      "12/12 [==============================] - 1s 45ms/step - loss: 0.0384 - accuracy: 0.9778 - precision: 0.9778 - recall: 0.9778 - auc: 0.9996 - val_loss: 0.1006 - val_accuracy: 0.9667 - val_precision: 0.9667 - val_recall: 0.9667 - val_auc: 0.9983\n",
      "Epoch 471/500\n",
      "12/12 [==============================] - 1s 45ms/step - loss: 0.0595 - accuracy: 0.9778 - precision: 0.9778 - recall: 0.9778 - auc: 0.9991 - val_loss: 0.0884 - val_accuracy: 0.9667 - val_precision: 0.9667 - val_recall: 0.9667 - val_auc: 0.9983\n",
      "Epoch 472/500\n",
      "12/12 [==============================] - 1s 46ms/step - loss: 0.0207 - accuracy: 1.0000 - precision: 1.0000 - recall: 1.0000 - auc: 1.0000 - val_loss: 0.1220 - val_accuracy: 0.9333 - val_precision: 0.9333 - val_recall: 0.9333 - val_auc: 0.9978\n",
      "Epoch 473/500\n",
      "12/12 [==============================] - 1s 47ms/step - loss: 0.0187 - accuracy: 0.9889 - precision: 0.9889 - recall: 0.9889 - auc: 0.9999 - val_loss: 0.1196 - val_accuracy: 0.9333 - val_precision: 0.9333 - val_recall: 0.9333 - val_auc: 0.9978\n",
      "Epoch 474/500\n",
      "12/12 [==============================] - 1s 46ms/step - loss: 0.0401 - accuracy: 0.9778 - precision: 0.9778 - recall: 0.9778 - auc: 0.9995 - val_loss: 0.1567 - val_accuracy: 0.9333 - val_precision: 0.9333 - val_recall: 0.9333 - val_auc: 0.9978\n",
      "Epoch 475/500\n",
      "12/12 [==============================] - 1s 45ms/step - loss: 0.0352 - accuracy: 0.9778 - precision: 0.9778 - recall: 0.9778 - auc: 0.9998 - val_loss: 0.1585 - val_accuracy: 0.9333 - val_precision: 0.9333 - val_recall: 0.9333 - val_auc: 0.9978\n",
      "Epoch 476/500\n",
      "12/12 [==============================] - 1s 46ms/step - loss: 0.0536 - accuracy: 0.9667 - precision: 0.9667 - recall: 0.9667 - auc: 0.9993 - val_loss: 0.1532 - val_accuracy: 0.9333 - val_precision: 0.9333 - val_recall: 0.9333 - val_auc: 0.9978\n",
      "Epoch 477/500\n",
      "12/12 [==============================] - 1s 50ms/step - loss: 0.0475 - accuracy: 0.9778 - precision: 0.9778 - recall: 0.9778 - auc: 0.9993 - val_loss: 0.0936 - val_accuracy: 0.9333 - val_precision: 0.9333 - val_recall: 0.9333 - val_auc: 0.9978\n",
      "Epoch 478/500\n",
      "12/12 [==============================] - 1s 46ms/step - loss: 0.0585 - accuracy: 0.9778 - precision: 0.9778 - recall: 0.9778 - auc: 0.9992 - val_loss: 0.0704 - val_accuracy: 0.9667 - val_precision: 0.9667 - val_recall: 0.9667 - val_auc: 0.9983\n",
      "Epoch 479/500\n",
      "12/12 [==============================] - 1s 47ms/step - loss: 0.0612 - accuracy: 0.9667 - precision: 0.9667 - recall: 0.9667 - auc: 0.9994 - val_loss: 0.1239 - val_accuracy: 0.9333 - val_precision: 0.9333 - val_recall: 0.9333 - val_auc: 0.9978\n",
      "Epoch 480/500\n",
      "12/12 [==============================] - 1s 45ms/step - loss: 0.0418 - accuracy: 0.9889 - precision: 0.9889 - recall: 0.9889 - auc: 0.9994 - val_loss: 0.1600 - val_accuracy: 0.9333 - val_precision: 0.9333 - val_recall: 0.9333 - val_auc: 0.9978\n",
      "Epoch 481/500\n",
      "12/12 [==============================] - 1s 47ms/step - loss: 0.0224 - accuracy: 0.9889 - precision: 0.9889 - recall: 0.9889 - auc: 0.9999 - val_loss: 0.0657 - val_accuracy: 0.9333 - val_precision: 0.9333 - val_recall: 0.9333 - val_auc: 0.9978\n",
      "Epoch 482/500\n",
      "12/12 [==============================] - 1s 45ms/step - loss: 0.0589 - accuracy: 0.9778 - precision: 0.9778 - recall: 0.9778 - auc: 0.9990 - val_loss: 0.0677 - val_accuracy: 0.9333 - val_precision: 0.9333 - val_recall: 0.9333 - val_auc: 0.9978\n",
      "Epoch 483/500\n",
      "12/12 [==============================] - 1s 43ms/step - loss: 0.0291 - accuracy: 0.9889 - precision: 0.9889 - recall: 0.9889 - auc: 0.9998 - val_loss: 0.0961 - val_accuracy: 0.9333 - val_precision: 0.9333 - val_recall: 0.9333 - val_auc: 0.9978\n",
      "Epoch 484/500\n",
      "12/12 [==============================] - 1s 47ms/step - loss: 0.0216 - accuracy: 1.0000 - precision: 1.0000 - recall: 1.0000 - auc: 1.0000 - val_loss: 0.1583 - val_accuracy: 0.9333 - val_precision: 0.9333 - val_recall: 0.9333 - val_auc: 0.9978\n",
      "Epoch 485/500\n",
      "12/12 [==============================] - 1s 48ms/step - loss: 0.0731 - accuracy: 0.9556 - precision: 0.9556 - recall: 0.9556 - auc: 0.9986 - val_loss: 0.1084 - val_accuracy: 0.9667 - val_precision: 0.9667 - val_recall: 0.9667 - val_auc: 0.9983\n",
      "Epoch 486/500\n",
      "12/12 [==============================] - 1s 46ms/step - loss: 0.0293 - accuracy: 0.9889 - precision: 0.9889 - recall: 0.9889 - auc: 0.9997 - val_loss: 0.0663 - val_accuracy: 0.9667 - val_precision: 0.9667 - val_recall: 0.9667 - val_auc: 0.9994\n",
      "Epoch 487/500\n",
      "12/12 [==============================] - 1s 47ms/step - loss: 0.0626 - accuracy: 0.9778 - precision: 0.9778 - recall: 0.9778 - auc: 0.9991 - val_loss: 0.1894 - val_accuracy: 0.9333 - val_precision: 0.9333 - val_recall: 0.9333 - val_auc: 0.9978\n",
      "Epoch 488/500\n",
      "12/12 [==============================] - 1s 45ms/step - loss: 0.0355 - accuracy: 0.9778 - precision: 0.9778 - recall: 0.9778 - auc: 0.9998 - val_loss: 0.2143 - val_accuracy: 0.9333 - val_precision: 0.9333 - val_recall: 0.9333 - val_auc: 0.9972\n",
      "Epoch 489/500\n",
      "12/12 [==============================] - 1s 46ms/step - loss: 0.0225 - accuracy: 0.9889 - precision: 0.9889 - recall: 0.9889 - auc: 0.9999 - val_loss: 0.1857 - val_accuracy: 0.9333 - val_precision: 0.9333 - val_recall: 0.9333 - val_auc: 0.9978\n",
      "Epoch 490/500\n",
      "12/12 [==============================] - 1s 47ms/step - loss: 0.0536 - accuracy: 0.9889 - precision: 0.9889 - recall: 0.9889 - auc: 0.9991 - val_loss: 0.1301 - val_accuracy: 0.9667 - val_precision: 0.9667 - val_recall: 0.9667 - val_auc: 0.9983\n",
      "Epoch 491/500\n",
      "12/12 [==============================] - 1s 47ms/step - loss: 0.0636 - accuracy: 0.9778 - precision: 0.9778 - recall: 0.9778 - auc: 0.9991 - val_loss: 0.1767 - val_accuracy: 0.9333 - val_precision: 0.9333 - val_recall: 0.9333 - val_auc: 0.9978\n",
      "Epoch 492/500\n",
      "12/12 [==============================] - 1s 44ms/step - loss: 0.0302 - accuracy: 0.9889 - precision: 0.9889 - recall: 0.9889 - auc: 0.9999 - val_loss: 0.1035 - val_accuracy: 0.9333 - val_precision: 0.9333 - val_recall: 0.9333 - val_auc: 0.9978\n",
      "Epoch 493/500\n",
      "12/12 [==============================] - 1s 44ms/step - loss: 0.0736 - accuracy: 0.9667 - precision: 0.9667 - recall: 0.9667 - auc: 0.9987 - val_loss: 0.0544 - val_accuracy: 0.9667 - val_precision: 0.9667 - val_recall: 0.9667 - val_auc: 0.9994\n",
      "Epoch 494/500\n",
      "12/12 [==============================] - 1s 47ms/step - loss: 0.0491 - accuracy: 0.9778 - precision: 0.9778 - recall: 0.9778 - auc: 0.9993 - val_loss: 0.0730 - val_accuracy: 0.9667 - val_precision: 0.9667 - val_recall: 0.9667 - val_auc: 0.9983\n",
      "Epoch 495/500\n",
      "12/12 [==============================] - 1s 46ms/step - loss: 0.0396 - accuracy: 0.9889 - precision: 0.9889 - recall: 0.9889 - auc: 0.9994 - val_loss: 0.1606 - val_accuracy: 0.9333 - val_precision: 0.9333 - val_recall: 0.9333 - val_auc: 0.9978\n",
      "Epoch 496/500\n",
      "12/12 [==============================] - 1s 46ms/step - loss: 0.1049 - accuracy: 0.9667 - precision: 0.9667 - recall: 0.9667 - auc: 0.9968 - val_loss: 0.1282 - val_accuracy: 0.9333 - val_precision: 0.9333 - val_recall: 0.9333 - val_auc: 0.9978\n",
      "Epoch 497/500\n",
      "12/12 [==============================] - 1s 46ms/step - loss: 0.0322 - accuracy: 0.9778 - precision: 0.9778 - recall: 0.9778 - auc: 0.9998 - val_loss: 0.1328 - val_accuracy: 0.9333 - val_precision: 0.9333 - val_recall: 0.9333 - val_auc: 0.9978\n",
      "Epoch 498/500\n",
      "12/12 [==============================] - 1s 47ms/step - loss: 0.0554 - accuracy: 0.9667 - precision: 0.9667 - recall: 0.9667 - auc: 0.9992 - val_loss: 0.0838 - val_accuracy: 0.9667 - val_precision: 0.9667 - val_recall: 0.9667 - val_auc: 0.9983\n",
      "Epoch 499/500\n",
      "12/12 [==============================] - 1s 44ms/step - loss: 0.0153 - accuracy: 1.0000 - precision: 1.0000 - recall: 1.0000 - auc: 1.0000 - val_loss: 0.0309 - val_accuracy: 1.0000 - val_precision: 1.0000 - val_recall: 1.0000 - val_auc: 1.0000\n",
      "Epoch 500/500\n",
      "12/12 [==============================] - 1s 44ms/step - loss: 0.0164 - accuracy: 1.0000 - precision: 1.0000 - recall: 1.0000 - auc: 1.0000 - val_loss: 0.0307 - val_accuracy: 1.0000 - val_precision: 1.0000 - val_recall: 1.0000 - val_auc: 1.0000\n"
     ]
    }
   ],
   "source": [
    "model_history=model.fit(\n",
    "    x=[X_train_num, X_train_img/255], y=y_train_oh,\n",
    "    validation_data=([X_val_num, X_val_img/255], y_val_oh),\n",
    "    epochs=epochs , \n",
    "    batch_size=8,\n",
    "    #steps_per_epoch = X_train_num.shape[0]//batch_size,\n",
    "    #validation_steps = X_train_num.shape[0]//batch_size,\n",
    "    #callbacks=[early_stopping]\n",
    ")"
   ]
  },
  {
   "cell_type": "code",
   "execution_count": 22,
   "metadata": {},
   "outputs": [
    {
     "name": "stdout",
     "output_type": "stream",
     "text": [
      "dict_keys(['loss', 'accuracy', 'precision', 'recall', 'auc', 'val_loss', 'val_accuracy', 'val_precision', 'val_recall', 'val_auc'])\n"
     ]
    }
   ],
   "source": [
    "print(model_history.history.keys())"
   ]
  },
  {
   "cell_type": "markdown",
   "metadata": {},
   "source": [
    "<a id=\"section6\"></a>\n",
    "# <font color=\"#004D7F\" size=6> 6. Results</font>"
   ]
  },
  {
   "cell_type": "code",
   "execution_count": 23,
   "metadata": {},
   "outputs": [
    {
     "data": {
      "image/png": "[encoded data removed]",
      "text/plain": [
       "<Figure size 640x480 with 1 Axes>"
      ]
     },
     "metadata": {},
     "output_type": "display_data"
    }
   ],
   "source": [
    "#print(model_history.history['loss'])\n",
    "plt.plot(model_history.history['loss'], color = 'red', label = 'loss')\n",
    "plt.plot(model_history.history['val_loss'], color = 'green', label = 'val loss')\n",
    "plt.legend(loc = 'upper right')\n",
    "plt.ylim(0,5)\n",
    "plt.show()"
   ]
  },
  {
   "cell_type": "code",
   "execution_count": 24,
   "metadata": {},
   "outputs": [
    {
     "data": {
      "image/png": "[encoded data removed]",
      "text/plain": [
       "<Figure size 640x480 with 1 Axes>"
      ]
     },
     "metadata": {},
     "output_type": "display_data"
    }
   ],
   "source": [
    "plt.plot(model_history.history['accuracy'], color = 'red', label = 'accuracy')\n",
    "plt.plot(model_history.history['val_accuracy'], color = 'green', label = 'val accuracy')\n",
    "plt.legend(loc = 'upper right')\n",
    "plt.show()"
   ]
  },
  {
   "cell_type": "code",
   "execution_count": 25,
   "metadata": {},
   "outputs": [
    {
     "name": "stdout",
     "output_type": "stream",
     "text": [
      "1/1 [==============================] - 0s 425ms/step\n",
      "[[0, 0.0], [0, 0.0], [1, 1.0], [0, 0.0], [1, 1.0], [2, 2.0], [0, 0.0], [0, 0.0], [1, 1.0], [1, 1.0], [1, 1.0], [1, 1.0], [1, 1.0], [2, 2.0], [1, 1.0], [2, 2.0], [2, 2.0], [0, 0.0], [1, 2.0], [2, 2.0], [2, 2.0], [0, 0.0], [0, 0.0], [0, 0.0], [2, 2.0], [1, 1.0], [2, 2.0], [0, 0.0], [2, 2.0], [2, 1.0]]\n"
     ]
    }
   ],
   "source": [
    "prediction = model.predict([X_test_num,X_test_img/255],)\n",
    "real_values= y_test.values-1\n",
    "predicted_classes = np.argmax(prediction, axis = 1)\n",
    "\n",
    "result = [list(t) for t in zip(predicted_classes, real_values)]\n",
    "#print(np.round(prediction))\n",
    "print(result)"
   ]
  },
  {
   "cell_type": "code",
   "execution_count": 26,
   "metadata": {},
   "outputs": [
    {
     "data": {
      "text/plain": [
       "<sklearn.metrics._plot.confusion_matrix.ConfusionMatrixDisplay at 0x272d5f01f90>"
      ]
     },
     "execution_count": 26,
     "metadata": {},
     "output_type": "execute_result"
    },
    {
     "data": {
      "image/png": "[encoded data removed]",
      "text/plain": [
       "<Figure size 640x480 with 2 Axes>"
      ]
     },
     "metadata": {},
     "output_type": "display_data"
    }
   ],
   "source": [
    "from sklearn.metrics import confusion_matrix\n",
    "true_classes = real_values\n",
    "\n",
    "cm = confusion_matrix(true_classes, predicted_classes)\n",
    "disp = sklearn.metrics.ConfusionMatrixDisplay(confusion_matrix = cm)\n",
    "disp.plot()\n",
    "\n",
    "\n"
   ]
  },
  {
   "cell_type": "code",
   "execution_count": 27,
   "metadata": {},
   "outputs": [
    {
     "name": "stdout",
     "output_type": "stream",
     "text": [
      "              precision    recall  f1-score   support\n",
      "\n",
      "         0.0       1.00      1.00      1.00        10\n",
      "         1.0       0.90      0.90      0.90        10\n",
      "         2.0       0.90      0.90      0.90        10\n",
      "\n",
      "    accuracy                           0.93        30\n",
      "   macro avg       0.93      0.93      0.93        30\n",
      "weighted avg       0.93      0.93      0.93        30\n",
      "\n"
     ]
    }
   ],
   "source": [
    "report = sklearn.metrics.classification_report(true_classes, \n",
    "                                               predicted_classes)\n",
    "print(report) "
   ]
  },
  {
   "cell_type": "code",
   "execution_count": 28,
   "metadata": {},
   "outputs": [
    {
     "name": "stdout",
     "output_type": "stream",
     "text": [
      "Test accuracy: 0.9333333333333333\n"
     ]
    }
   ],
   "source": [
    "from sklearn.metrics import roc_auc_score,accuracy_score,precision_score, recall_score\n",
    "\n",
    "test_accuracy = accuracy_score(true_classes, predicted_classes)\n",
    "#test_auc = roc_auc_score(true_classes, predicted_classes)\n",
    "#test_precision = precision_score(true_classes, predicted_classes)\n",
    "#test_recall = recall_score(true_classes, predicted_classes)\n",
    "\n",
    "print(\"Test accuracy:\",test_accuracy)\n",
    "#print(\"Test AUC:\",test_auc)\n",
    "#print(\"Test precision:\",test_precision)\n",
    "#print(\"Test recall:\",test_recall)"
   ]
  },
  {
   "cell_type": "code",
   "execution_count": 29,
   "metadata": {},
   "outputs": [
    {
     "name": "stdout",
     "output_type": "stream",
     "text": [
      "Train accuracy: 1.0\n",
      "Train AUC: 1.0\n",
      "Train precision: 1.0\n",
      "Train recall: 1.0\n",
      "Train loss: 0.01638835482299328\n"
     ]
    }
   ],
   "source": [
    "train_accuracy = model_history.history[\"accuracy\"][-1]\n",
    "train_auc = model_history.history[\"auc\"][-1]\n",
    "train_precision = model_history.history[\"precision\"][-1]\n",
    "train_recall = model_history.history[\"recall\"][-1]\n",
    "train_loss = model_history.history[\"loss\"][-1]\n",
    "\n",
    "print(\"Train accuracy:\",train_accuracy)\n",
    "print(\"Train AUC:\",train_auc)\n",
    "print(\"Train precision:\",train_precision)\n",
    "print(\"Train recall:\",train_recall)\n",
    "print(\"Train loss:\",train_loss)"
   ]
  },
  {
   "cell_type": "code",
   "execution_count": 30,
   "metadata": {},
   "outputs": [
    {
     "name": "stdout",
     "output_type": "stream",
     "text": [
      "Validation accuracy: 1.0\n",
      "Validation AUC: 1.0\n",
      "Validation precision: 1.0\n",
      "Validation recall: 1.0\n",
      "Validation loss: 0.03073650598526001\n"
     ]
    }
   ],
   "source": [
    "validation_accuracy = model_history.history[\"val_accuracy\"][-1]\n",
    "validation_auc = model_history.history[\"val_auc\"][-1]\n",
    "validation_precision = model_history.history[\"val_precision\"][-1]\n",
    "validation_recall = model_history.history[\"val_recall\"][-1]\n",
    "validation_loss = model_history.history[\"val_loss\"][-1]\n",
    "\n",
    "print(\"Validation accuracy:\",validation_accuracy)\n",
    "print(\"Validation AUC:\",validation_auc)\n",
    "print(\"Validation precision:\",validation_precision)\n",
    "print(\"Validation recall:\",validation_recall)\n",
    "print(\"Validation loss:\",validation_loss)"
   ]
  },
  {
   "cell_type": "code",
   "execution_count": 31,
   "metadata": {},
   "outputs": [
    {
     "ename": "NameError",
     "evalue": "name 'filters_cnn' is not defined",
     "output_type": "error",
     "traceback": [
      "\u001b[1;31m---------------------------------------------------------------------------\u001b[0m",
      "\u001b[1;31mNameError\u001b[0m                                 Traceback (most recent call last)",
      "Cell \u001b[1;32mIn[31], line 9\u001b[0m\n\u001b[0;32m      6\u001b[0m preprocess \u001b[38;5;241m=\u001b[39m \u001b[38;5;124m\"\u001b[39m\u001b[38;5;124mTINTO\u001b[39m\u001b[38;5;124m\"\u001b[39m\n\u001b[0;32m      8\u001b[0m FFNN \u001b[38;5;241m=\u001b[39m \u001b[38;5;28mstr\u001b[39m(filters_ffnn)\n\u001b[1;32m----> 9\u001b[0m CNN \u001b[38;5;241m=\u001b[39m \u001b[38;5;28mstr\u001b[39m(\u001b[43mfilters_cnn\u001b[49m)\n\u001b[0;32m     10\u001b[0m BIAS \u001b[38;5;241m=\u001b[39m (\u001b[38;5;241m1\u001b[39m\u001b[38;5;241m-\u001b[39mtrain_accuracy\u001b[38;5;241m-\u001b[39m\u001b[38;5;241m0.05\u001b[39m)\n\u001b[0;32m     11\u001b[0m VARIANCE \u001b[38;5;241m=\u001b[39m (\u001b[38;5;241m1\u001b[39m\u001b[38;5;241m-\u001b[39mtrain_accuracy)\u001b[38;5;241m-\u001b[39m(\u001b[38;5;241m1\u001b[39m\u001b[38;5;241m-\u001b[39mvalidation_accuracy)\n",
      "\u001b[1;31mNameError\u001b[0m: name 'filters_cnn' is not defined"
     ]
    }
   ],
   "source": [
    "################ ????? ################\n",
    "import csv\n",
    "\n",
    "experiments_csv = \"C:\\\\Users\\\\Borja\\\\EXP_TINTOLIB\\\\Classification\\\\Classification_Cancer.csv\"\n",
    "model_name = \"TINTO1000\"\n",
    "preprocess = \"TINTO\"\n",
    "\n",
    "FFNN = str(filters_ffnn)\n",
    "CNN = str(filters_cnn)\n",
    "BIAS = (1-train_accuracy-0.05)\n",
    "VARIANCE = (1-train_accuracy)-(1-validation_accuracy)\n",
    "metrics = [model_name,preprocess,epochs,FFNN,CNN,test_accuracy,test_auc,test_precision,test_recall,BIAS,VARIANCE,\n",
    "           train_accuracy,train_auc,train_precision,train_recall,train_loss,\n",
    "           validation_accuracy,validation_auc,validation_precision,validation_recall,validation_loss]\n",
    "print(metrics)\n"
   ]
  },
  {
   "cell_type": "code",
   "execution_count": null,
   "metadata": {},
   "outputs": [],
   "source": [
    "with open(experiments_csv, 'a', newline='') as archivo:\n",
    "    escritor_csv = csv.writer(archivo)\n",
    "    escritor_csv.writerow(metrics)"
   ]
  },
  {
   "cell_type": "code",
   "execution_count": null,
   "metadata": {},
   "outputs": [],
   "source": []
  }
 ],
 "metadata": {
  "colab": {
   "provenance": [
    {
     "file_id": "1plFq1CpEXIdc9LankaLPiOObRg0_y5l2",
     "timestamp": 1684250343977
    }
   ]
  },
  "kernelspec": {
   "display_name": "Python 3 (ipykernel)",
   "language": "python",
   "name": "python3"
  },
  "language_info": {
   "codemirror_mode": {
    "name": "ipython",
    "version": 3
   },
   "file_extension": ".py",
   "mimetype": "text/x-python",
   "name": "python",
   "nbconvert_exporter": "python",
   "pygments_lexer": "ipython3",
   "version": "3.11.7"
  }
 },
 "nbformat": 4,
 "nbformat_minor": 1
}
