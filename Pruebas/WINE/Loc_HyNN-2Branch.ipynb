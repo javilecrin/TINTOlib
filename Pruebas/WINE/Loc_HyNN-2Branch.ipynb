{
  "cells": [
    {
      "cell_type": "markdown",
      "metadata": {
        "id": "EybOZ6hSjpCF"
      },
      "source": [
        "<h1><font color=\"#113D68\" size=6>TINTOlib: Converting Tidy Data into Image for Hybrid Neural Networks (HyNN)</font></h1>\n",
        "\n",
        "<h1><font color=\"#113D68\" size=5>Template Classification Machine Learning problem with a Hybrid Neural Networks (CNN+MLP)</font></h1>\n",
        "\n",
        "<br><br>\n",
        "<div style=\"text-align: right\">\n",
        "<font color=\"#113D68\" size=3>Manuel Castillo-Cara</font><br>\n",
        "<font color=\"#113D68\" size=3>Raúl García-Castro</font><br>\n",
        "\n",
        "</div>\n",
        "\n",
        "---"
      ]
    },
    {
      "cell_type": "markdown",
      "metadata": {
        "id": "T0YRay_Zl0Hj"
      },
      "source": [
        "<div class=\"alert alert-block alert-info\">\n",
        "    \n",
        "<i class=\"fa fa-info-circle\" aria-hidden=\"true\"></i>\n",
        "More information about [Manuel Castillo-Cara](https://www.manuelcastillo.eu/)\n",
        "\n",
        "<i class=\"fa fa-info-circle\" aria-hidden=\"true\"></i>\n",
        "More information about [Raúl García-Castro](http://www.garcia-castro.com/)"
      ]
    },
    {
      "cell_type": "markdown",
      "metadata": {
        "id": "2l5nFzsdjpCW"
      },
      "source": [
        "---\n",
        "\n",
        "<a id=\"indice\"></a>\n",
        "<h2><font color=\"#004D7F\" size=5>Index</font></h2>\n",
        "\n",
        "* [0. Context](#section0)\n",
        "* [1. Description](#section1)\n",
        "    * [1.1. Main Features](#section11)\n",
        "    * [1.2. Citation](#section12)\n",
        "    * [1.3. Documentation and License](#section13)\n",
        "* [2. Libraries](#section2)\n",
        "    * [2.1. System setup](#section21)\n",
        "    * [2.2. Invoke the libraries](#section22)\n",
        "* [3. Data processing](#section3)\n",
        "    * [3.1. TINTOlib methods](#section31)\n",
        "    * [3.2. Read the dataset](#section32)\n",
        "    * [3.3. Generate images](#section33)\n",
        "    * [3.4. Read images](#section34)\n",
        "    * [3.5. Mix images and tidy data](#section35)\n",
        "* [4. Pre-modelling phase](#section4)\n",
        "    * [4.1. Data curation](#section41)\n",
        "    * [4.2. One-hot encoding](#section42)\n",
        "* [5. Modelling hybrid network](#section5)\n",
        "    * [5.1. FFNN for tabular data](#section51)\n",
        "    * [5.2. CNN for TINTOlib images](#section52)\n",
        "    * [5.3. Concatenate branches](#section53)\n",
        "    * [5.4. Metrics](#section54)\n",
        "    * [5.5. Compile and fit](#section55)\n",
        "* [6. Results](#section6)\n",
        "    * [6.1. Train/Validation representation](#section61)\n",
        "    * [6.2. Validation/Test evaluation](#section62)"
      ]
    },
    {
      "cell_type": "markdown",
      "metadata": {
        "id": "SxTpMExHjpCa"
      },
      "source": [
        "---\n",
        "<a id=\"section0\"></a>\n",
        "# <font color=\"#004D7F\" size=6> 0. Context</font>"
      ]
    },
    {
      "cell_type": "markdown",
      "metadata": {
        "id": "JlVYt3MRrl_V"
      },
      "source": [
        "This is a tutorial on how to read the images created by TINTOlib and pass them to a very simple pretrained Convolutional Neural Network (CNN). The images must already be created by the TINTOlib software. See the documentation in GITHUB for how to create the images from tabular data.\n",
        "\n",
        "Remember that when using CNN you can set the training to be done with GPUs to improve performance."
      ]
    },
    {
      "cell_type": "markdown",
      "metadata": {
        "id": "i3tgsO0BjpCj"
      },
      "source": [
        "<div class=\"alert alert-block alert-info\">\n",
        "\n",
        "<i class=\"fa fa-info-circle\" aria-hidden=\"true\"></i>\n",
        "You can see all information about TINTOlib code in [GitHub](https://github.com/oeg-upm/TINTOlib)"
      ]
    },
    {
      "cell_type": "markdown",
      "metadata": {
        "id": "lNOjd8zQirOi"
      },
      "source": [
        "<div class=\"alert alert-block alert-info\">\n",
        "\n",
        "<i class=\"fa fa-info-circle\" aria-hidden=\"true\"></i>\n",
        "You can see all information about TINTOlib documentation in [PyPI](https://tintolib.readthedocs.io/en/latest/installation.html)"
      ]
    },
    {
      "cell_type": "markdown",
      "metadata": {
        "id": "4RKBgDwzjpCl"
      },
      "source": [
        "---\n",
        "<div style=\"text-align: right\"> <font size=5> <a href=\"#indice\"><i class=\"fa fa-arrow-circle-up\" aria-hidden=\"true\" style=\"color:#004D7F\"></i></a></font></div>\n",
        "\n",
        "---"
      ]
    },
    {
      "cell_type": "markdown",
      "metadata": {
        "id": "kpU7pi6yjpCn"
      },
      "source": [
        "<a id=\"section1\"></a>\n",
        "# <font color=\"#004D7F\" size=6> 1. Description</font>"
      ]
    },
    {
      "cell_type": "markdown",
      "metadata": {
        "id": "NL9RoFkEjpCq"
      },
      "source": [
        "The growing interest in the use of algorithms-based machine learning for predictive tasks has generated a large and diverse development of algorithms. However, it is widely known that not all of these algorithms are adapted to efficient solutions in certain tidy data format datasets. For this reason, novel techniques are currently being developed to convert tidy data into images with the aim of using Convolutional Neural Networks (CNNs). TINTOlib offers the opportunity to convert tidy data into images through several techniques: TINTO, IGTD, REFINED, SuperTML, BarGraph, DistanceMatrix and Combination."
      ]
    },
    {
      "cell_type": "markdown",
      "metadata": {
        "id": "HFrF4C89jpCt"
      },
      "source": [
        "---\n",
        "<a id=\"section11\"></a>\n",
        "# <font color=\"#004D7F\" size=5> 1.1. Main Features</font>"
      ]
    },
    {
      "cell_type": "markdown",
      "metadata": {
        "id": "1gruE0_sjpCu"
      },
      "source": [
        "- Supports all CSV data in **[Tidy Data](https://www.jstatsoft.org/article/view/v059i10)** format.\n",
        "- For now, the algorithm converts tabular data for binary and multi-class classification problems into machine learning.\n",
        "- Input data formats:\n",
        "    - **Tabular files**: The input data could be in **[CSV](https://en.wikipedia.org/wiki/Comma-separated_values)**, taking into account the **[Tidy Data](https://www.jstatsoft.org/article/view/v059i10)** format.\n",
        "    - **Dataframe***: The input data could be in **[Pandas Dataframe](https://pandas.pydata.org/docs/reference/api/pandas.DataFrame.html)**, taking into account the **[Tidy Data](https://www.jstatsoft.org/article/view/v059i10)** format.\n",
        "    - **Tidy Data**: The **target** (variable to be predicted) should be set as the last column of the dataset. Therefore, the first columns will be the features.\n",
        "    - All data must be in numerical form. TINTOlib does not accept data in string or any other non-numeric format.\n",
        "- Runs on **Linux**, **Windows** and **macOS** systems.\n",
        "- Compatible with **[Python](https://www.python.org/)** 3.7 or higher."
      ]
    },
    {
      "cell_type": "markdown",
      "metadata": {
        "id": "EH-bBWfAirPC"
      },
      "source": [
        "---\n",
        "<a id=\"section12\"></a>\n",
        "# <font color=\"#004D7F\" size=5> 1.2. Citation</font>"
      ]
    },
    {
      "cell_type": "markdown",
      "metadata": {
        "id": "ytnkI7kmirPE"
      },
      "source": [
        "**TINTOlib** is an python library that makes **Synthetic Images** from [Tidy Data](https://www.jstatsoft.org/article/view/v059i10) (also knows as **Tabular Data**).\n",
        "\n",
        "**Citing TINTO**: If you used TINTO in your work, please cite the **[SoftwareX](https://doi.org/10.1016/j.softx.2023.101391)**:\n",
        "\n",
        "```bib\n",
        "@article{softwarex_TINTO,\n",
        "    title = {TINTO: Converting Tidy Data into Image for Classification\n",
        "            with 2-Dimensional Convolutional Neural Networks},\n",
        "    journal = {SoftwareX},\n",
        "    author = {Manuel Castillo-Cara and Reewos Talla-Chumpitaz and\n",
        "              Raúl García-Castro and Luis Orozco-Barbosa},\n",
        "    year = {2023},\n",
        "    pages = {101391},\n",
        "    issn = {2352-7110},\n",
        "    doi = {https://doi.org/10.1016/j.softx.2023.101391}\n",
        "}\n",
        "```\n",
        "\n",
        "And use-case developed in **[INFFUS Paper](https://doi.org/10.1016/j.inffus.2022.10.011)**\n",
        "\n",
        "```bib\n",
        "@article{inffus_TINTO,\n",
        "    title = {A novel deep learning approach using blurring image\n",
        "            techniques for Bluetooth-based indoor localisation},\n",
        "    journal = {Information Fusion},\n",
        "    author = {Reewos Talla-Chumpitaz and Manuel Castillo-Cara and\n",
        "              Luis Orozco-Barbosa and Raúl García-Castro},\n",
        "    volume = {91},\n",
        "    pages = {173-186},\n",
        "    year = {2023},\n",
        "    issn = {1566-2535},\n",
        "    doi = {https://doi.org/10.1016/j.inffus.2022.10.011}\n",
        "}\n",
        "```"
      ]
    },
    {
      "cell_type": "markdown",
      "metadata": {
        "id": "5N0lR3QPirPH"
      },
      "source": [
        "---\n",
        "<a id=\"section13\"></a>\n",
        "# <font color=\"#004D7F\" size=5> 1.3. Documentation and License</font>"
      ]
    },
    {
      "cell_type": "markdown",
      "metadata": {
        "id": "WsuZ3b1HirPJ"
      },
      "source": [
        "TINTOlib has a wide range of documentation on both GitHub and PiPY.\n",
        "\n",
        "Moreover, TINTOlib is free and open software with Apache 2.0 license."
      ]
    },
    {
      "cell_type": "markdown",
      "metadata": {
        "id": "vpwnbUfnirPL"
      },
      "source": [
        "<div class=\"alert alert-block alert-info\">\n",
        "\n",
        "<i class=\"fa fa-info-circle\" aria-hidden=\"true\"></i>\n",
        "You can see all information about TINTOlib code in [GitHub](https://github.com/oeg-upm/TINTOlib)"
      ]
    },
    {
      "cell_type": "markdown",
      "metadata": {
        "id": "OYR2VA8EirPN"
      },
      "source": [
        "<div class=\"alert alert-block alert-info\">\n",
        "\n",
        "<i class=\"fa fa-info-circle\" aria-hidden=\"true\"></i>\n",
        "You can see all information about TINTOlib documentation in [PyPI](https://tintolib.readthedocs.io/en/latest/installation.html)"
      ]
    },
    {
      "cell_type": "markdown",
      "metadata": {
        "id": "Z3EzYcjJjpC6"
      },
      "source": [
        "---\n",
        "<div style=\"text-align: right\"> <font size=5> <a href=\"#indice\"><i class=\"fa fa-arrow-circle-up\" aria-hidden=\"true\" style=\"color:#004D7F\"></i></a></font></div>\n",
        "\n",
        "---"
      ]
    },
    {
      "cell_type": "markdown",
      "metadata": {
        "id": "qwYF5A2njpC8"
      },
      "source": [
        "<a id=\"section2\"></a>\n",
        "# <font color=\"#004D7F\" size=6> 2. Libraries</font>"
      ]
    },
    {
      "cell_type": "markdown",
      "metadata": {
        "id": "DnhXxXGmirPQ"
      },
      "source": [
        "---\n",
        "<a id=\"section21\"></a>\n",
        "# <font color=\"#004D7F\" size=5> 2.1. System setup</font>"
      ]
    },
    {
      "cell_type": "markdown",
      "metadata": {
        "id": "eVVeujT5irPS"
      },
      "source": [
        "Before installing the libraries you must have the `mpi4py` package installed on the native (Linux) system. This link shows how to install it:\n",
        "- Link: [`mpi4py` in Linux](https://www.geeksforgeeks.org/how-to-install-python3-mpi4py-package-on-linux/)\n",
        "\n",
        "For example, in Linux:\n",
        "\n",
        "```\n",
        "    sudo apt-get install python3\n",
        "    sudo apt install python3-pip\n",
        "    sudo apt install python3-mpi4py\n",
        "```\n",
        "\n",
        "If you are in Windows, Mac or, also, Linux, you can install from PyPI if you want:\n",
        "```\n",
        "    sudo pip3 install mpi4py\n",
        "```"
      ]
    },
    {
      "cell_type": "markdown",
      "metadata": {
        "id": "Lmb8xcXcirPU"
      },
      "source": [
        "<div class=\"alert alert-block alert-info\">\n",
        "    \n",
        "<i class=\"fa fa-info-circle\" aria-hidden=\"true\"></i>\n",
        "Note that you must **restart the kernel or the system** so that it can load the libraries."
      ]
    },
    {
      "cell_type": "markdown",
      "metadata": {
        "id": "pf-7hbsmirPW"
      },
      "source": [
        "Now, once you have installed `mpi4py` you can install the PyPI libraries and dependences."
      ]
    },
    {
      "cell_type": "code",
      "execution_count": 1,
      "metadata": {
        "colab": {
          "base_uri": "https://localhost:8080/"
        },
        "id": "6BWn0gbVirPY",
        "outputId": "b14e7ce1-8f32-4d20-8a1f-81edb74f7e2b"
      },
      "outputs": [
        {
          "name": "stdout",
          "output_type": "stream",
          "text": [
            "Defaulting to user installation because normal site-packages is not writeable\n",
            "Collecting torchmetrics\n",
            "  Using cached torchmetrics-1.3.0.post0-py3-none-any.whl.metadata (20 kB)\n",
            "Collecting pytorch_lightning\n",
            "  Downloading pytorch_lightning-2.1.4-py3-none-any.whl.metadata (21 kB)\n",
            "Collecting TINTOlib\n",
            "  Using cached tintolib-0.0.14-py3-none-any.whl.metadata (18 kB)\n",
            "Collecting imblearn\n",
            "  Using cached imblearn-0.0-py2.py3-none-any.whl (1.9 kB)\n",
            "Collecting keras_preprocessing\n",
            "  Using cached Keras_Preprocessing-1.1.2-py2.py3-none-any.whl (42 kB)\n",
            "Collecting mpi4py\n",
            "  Using cached mpi4py-3.1.5.tar.gz (2.5 MB)\n",
            "  Installing build dependencies ... \u001b[?25ldone\n",
            "\u001b[?25h  Getting requirements to build wheel ... \u001b[?25ldone\n",
            "\u001b[?25h  Preparing metadata (pyproject.toml) ... \u001b[?25ldone\n",
            "\u001b[?25hCollecting numpy>1.20.0 (from torchmetrics)\n",
            "  Downloading numpy-1.26.3-cp39-cp39-macosx_11_0_arm64.whl.metadata (61 kB)\n",
            "\u001b[2K     \u001b[90m━━━━━━━━━━━━━━━━━━━━━━━━━━━━━━━━━━━━━━━\u001b[0m \u001b[32m61.2/61.2 kB\u001b[0m \u001b[31m808.8 kB/s\u001b[0m eta \u001b[36m0:00:00\u001b[0ma \u001b[36m0:00:01\u001b[0m\n",
            "\u001b[?25hRequirement already satisfied: packaging>17.1 in /Users/manwest/Library/Python/3.9/lib/python/site-packages (from torchmetrics) (23.2)\n",
            "Collecting torch>=1.10.0 (from torchmetrics)\n",
            "  Downloading torch-2.2.0-cp39-none-macosx_11_0_arm64.whl.metadata (25 kB)\n",
            "Collecting lightning-utilities>=0.8.0 (from torchmetrics)\n",
            "  Using cached lightning_utilities-0.10.1-py3-none-any.whl.metadata (4.8 kB)\n",
            "Collecting tqdm>=4.57.0 (from pytorch_lightning)\n",
            "  Downloading tqdm-4.66.1-py3-none-any.whl.metadata (57 kB)\n",
            "\u001b[2K     \u001b[90m━━━━━━━━━━━━━━━━━━━━━━━━━━━━━━━━━━━━━━━\u001b[0m \u001b[32m57.6/57.6 kB\u001b[0m \u001b[31m639.6 kB/s\u001b[0m eta \u001b[36m0:00:00\u001b[0m \u001b[36m0:00:01\u001b[0m\n",
            "\u001b[?25hCollecting PyYAML>=5.4 (from pytorch_lightning)\n",
            "  Downloading PyYAML-6.0.1-cp39-cp39-macosx_11_0_arm64.whl.metadata (2.1 kB)\n",
            "Collecting fsspec>=2022.5.0 (from fsspec[http]>=2022.5.0->pytorch_lightning)\n",
            "  Downloading fsspec-2023.12.2-py3-none-any.whl.metadata (6.8 kB)\n",
            "Requirement already satisfied: typing-extensions>=4.0.0 in /Users/manwest/Library/Python/3.9/lib/python/site-packages (from pytorch_lightning) (4.9.0)\n",
            "Collecting imbalanced-learn (from imblearn)\n",
            "  Downloading imbalanced_learn-0.12.0-py3-none-any.whl.metadata (8.2 kB)\n",
            "Requirement already satisfied: six>=1.9.0 in /Library/Developer/CommandLineTools/Library/Frameworks/Python3.framework/Versions/3.9/lib/python3.9/site-packages (from keras_preprocessing) (1.15.0)\n",
            "Collecting requests (from fsspec[http]>=2022.5.0->pytorch_lightning)\n",
            "  Downloading requests-2.31.0-py3-none-any.whl.metadata (4.6 kB)\n",
            "Collecting aiohttp!=4.0.0a0,!=4.0.0a1 (from fsspec[http]>=2022.5.0->pytorch_lightning)\n",
            "  Downloading aiohttp-3.9.3-cp39-cp39-macosx_11_0_arm64.whl.metadata (7.4 kB)\n",
            "Requirement already satisfied: setuptools in /Library/Developer/CommandLineTools/Library/Frameworks/Python3.framework/Versions/3.9/lib/python3.9/site-packages (from lightning-utilities>=0.8.0->torchmetrics) (58.0.4)\n",
            "Collecting filelock (from torch>=1.10.0->torchmetrics)\n",
            "  Downloading filelock-3.13.1-py3-none-any.whl.metadata (2.8 kB)\n",
            "Collecting sympy (from torch>=1.10.0->torchmetrics)\n",
            "  Downloading sympy-1.12-py3-none-any.whl (5.7 MB)\n",
            "\u001b[2K     \u001b[90m━━━━━━━━━━━━━━━━━━━━━━━━━━━━━━━━━━━━━━━━\u001b[0m \u001b[32m5.7/5.7 MB\u001b[0m \u001b[31m1.8 MB/s\u001b[0m eta \u001b[36m0:00:00\u001b[0ma \u001b[36m0:00:01\u001b[0m\n",
            "\u001b[?25hCollecting networkx (from torch>=1.10.0->torchmetrics)\n",
            "  Downloading networkx-3.2.1-py3-none-any.whl.metadata (5.2 kB)\n",
            "Collecting jinja2 (from torch>=1.10.0->torchmetrics)\n",
            "  Downloading Jinja2-3.1.3-py3-none-any.whl.metadata (3.3 kB)\n",
            "Collecting scipy>=1.5.0 (from imbalanced-learn->imblearn)\n",
            "  Downloading scipy-1.12.0-cp39-cp39-macosx_12_0_arm64.whl.metadata (60 kB)\n",
            "\u001b[2K     \u001b[90m━━━━━━━━━━━━━━━━━━━━━━━━━━━━━━━━━━━━━━━\u001b[0m \u001b[32m60.4/60.4 kB\u001b[0m \u001b[31m869.7 kB/s\u001b[0m eta \u001b[36m0:00:00\u001b[0m \u001b[36m0:00:01\u001b[0m\n",
            "\u001b[?25hCollecting scikit-learn>=1.0.2 (from imbalanced-learn->imblearn)\n",
            "  Downloading scikit_learn-1.4.0-1-cp39-cp39-macosx_12_0_arm64.whl.metadata (11 kB)\n",
            "Collecting joblib>=1.1.1 (from imbalanced-learn->imblearn)\n",
            "  Downloading joblib-1.3.2-py3-none-any.whl.metadata (5.4 kB)\n",
            "Collecting threadpoolctl>=2.0.0 (from imbalanced-learn->imblearn)\n",
            "  Downloading threadpoolctl-3.2.0-py3-none-any.whl.metadata (10.0 kB)\n",
            "Collecting aiosignal>=1.1.2 (from aiohttp!=4.0.0a0,!=4.0.0a1->fsspec[http]>=2022.5.0->pytorch_lightning)\n",
            "  Downloading aiosignal-1.3.1-py3-none-any.whl (7.6 kB)\n",
            "Collecting attrs>=17.3.0 (from aiohttp!=4.0.0a0,!=4.0.0a1->fsspec[http]>=2022.5.0->pytorch_lightning)\n",
            "  Downloading attrs-23.2.0-py3-none-any.whl.metadata (9.5 kB)\n",
            "Collecting frozenlist>=1.1.1 (from aiohttp!=4.0.0a0,!=4.0.0a1->fsspec[http]>=2022.5.0->pytorch_lightning)\n",
            "  Downloading frozenlist-1.4.1-cp39-cp39-macosx_11_0_arm64.whl.metadata (12 kB)\n",
            "Collecting multidict<7.0,>=4.5 (from aiohttp!=4.0.0a0,!=4.0.0a1->fsspec[http]>=2022.5.0->pytorch_lightning)\n",
            "  Downloading multidict-6.0.5-cp39-cp39-macosx_11_0_arm64.whl.metadata (4.2 kB)\n",
            "Collecting yarl<2.0,>=1.0 (from aiohttp!=4.0.0a0,!=4.0.0a1->fsspec[http]>=2022.5.0->pytorch_lightning)\n",
            "  Downloading yarl-1.9.4-cp39-cp39-macosx_11_0_arm64.whl.metadata (31 kB)\n",
            "Collecting async-timeout<5.0,>=4.0 (from aiohttp!=4.0.0a0,!=4.0.0a1->fsspec[http]>=2022.5.0->pytorch_lightning)\n",
            "  Downloading async_timeout-4.0.3-py3-none-any.whl.metadata (4.2 kB)\n",
            "Collecting MarkupSafe>=2.0 (from jinja2->torch>=1.10.0->torchmetrics)\n",
            "  Downloading MarkupSafe-2.1.4-cp39-cp39-macosx_10_9_universal2.whl.metadata (3.0 kB)\n",
            "Collecting charset-normalizer<4,>=2 (from requests->fsspec[http]>=2022.5.0->pytorch_lightning)\n",
            "  Downloading charset_normalizer-3.3.2-cp39-cp39-macosx_11_0_arm64.whl.metadata (33 kB)\n",
            "Collecting idna<4,>=2.5 (from requests->fsspec[http]>=2022.5.0->pytorch_lightning)\n",
            "  Downloading idna-3.6-py3-none-any.whl.metadata (9.9 kB)\n",
            "Collecting urllib3<3,>=1.21.1 (from requests->fsspec[http]>=2022.5.0->pytorch_lightning)\n",
            "  Downloading urllib3-2.2.0-py3-none-any.whl.metadata (6.4 kB)\n",
            "Collecting certifi>=2017.4.17 (from requests->fsspec[http]>=2022.5.0->pytorch_lightning)\n",
            "  Downloading certifi-2024.2.2-py3-none-any.whl.metadata (2.2 kB)\n",
            "Collecting mpmath>=0.19 (from sympy->torch>=1.10.0->torchmetrics)\n",
            "  Downloading mpmath-1.3.0-py3-none-any.whl (536 kB)\n",
            "\u001b[2K     \u001b[90m━━━━━━━━━━━━━━━━━━━━━━━━━━━━━━━━━━━━━━━\u001b[0m \u001b[32m536.2/536.2 kB\u001b[0m \u001b[31m2.4 MB/s\u001b[0m eta \u001b[36m0:00:00\u001b[0ma \u001b[36m0:00:01\u001b[0m\n",
            "\u001b[?25hUsing cached torchmetrics-1.3.0.post0-py3-none-any.whl (840 kB)\n",
            "Downloading pytorch_lightning-2.1.4-py3-none-any.whl (778 kB)\n",
            "\u001b[2K   \u001b[90m━━━━━━━━━━━━━━━━━━━━━━━━━━━━━━━━━━━━━━━━\u001b[0m \u001b[32m778.1/778.1 kB\u001b[0m \u001b[31m2.0 MB/s\u001b[0m eta \u001b[36m0:00:00\u001b[0m00:01\u001b[0m00:01\u001b[0m\n",
            "\u001b[?25hUsing cached tintolib-0.0.14-py3-none-any.whl (5.2 MB)\n",
            "Downloading fsspec-2023.12.2-py3-none-any.whl (168 kB)\n",
            "\u001b[2K   \u001b[90m━━━━━━━━━━━━━━━━━━━━━━━━━━━━━━━━━━━━━━━━\u001b[0m \u001b[32m169.0/169.0 kB\u001b[0m \u001b[31m1.8 MB/s\u001b[0m eta \u001b[36m0:00:00\u001b[0ma \u001b[36m0:00:01\u001b[0m\n",
            "\u001b[?25hUsing cached lightning_utilities-0.10.1-py3-none-any.whl (24 kB)\n",
            "Downloading numpy-1.26.3-cp39-cp39-macosx_11_0_arm64.whl (14.0 MB)\n",
            "\u001b[2K   \u001b[90m━━━━━━━━━━━━━━━━━━━━━━━━━━━━━━━━━━━━━━━━\u001b[0m \u001b[32m14.0/14.0 MB\u001b[0m \u001b[31m2.2 MB/s\u001b[0m eta \u001b[36m0:00:00\u001b[0m00:01\u001b[0m00:01\u001b[0m\n",
            "\u001b[?25hDownloading PyYAML-6.0.1-cp39-cp39-macosx_11_0_arm64.whl (174 kB)\n",
            "\u001b[2K   \u001b[90m━━━━━━━━━━━━━━━━━━━━━━━━━━━━━━━━━━━━━━━━\u001b[0m \u001b[32m174.4/174.4 kB\u001b[0m \u001b[31m2.1 MB/s\u001b[0m eta \u001b[36m0:00:00\u001b[0m00:01\u001b[0m00:01\u001b[0m\n",
            "\u001b[?25hDownloading torch-2.2.0-cp39-none-macosx_11_0_arm64.whl (59.7 MB)\n",
            "\u001b[2K   \u001b[90m━━━━━━━━━━━━━━━━━━━━━━━━━━━━━━━━━━━━━━━━\u001b[0m \u001b[32m59.7/59.7 MB\u001b[0m \u001b[31m2.1 MB/s\u001b[0m eta \u001b[36m0:00:00\u001b[0m00:01\u001b[0m00:01\u001b[0m\n",
            "\u001b[?25hDownloading tqdm-4.66.1-py3-none-any.whl (78 kB)\n",
            "\u001b[2K   \u001b[90m━━━━━━━━━━━━━━━━━━━━━━━━━━━━━━━━━━━━━━━━\u001b[0m \u001b[32m78.3/78.3 kB\u001b[0m \u001b[31m2.9 MB/s\u001b[0m eta \u001b[36m0:00:00\u001b[0m\n",
            "\u001b[?25hDownloading imbalanced_learn-0.12.0-py3-none-any.whl (257 kB)\n",
            "\u001b[2K   \u001b[90m━━━━━━━━━━━━━━━━━━━━━━━━━━━━━━━━━━━━━━━━\u001b[0m \u001b[32m257.7/257.7 kB\u001b[0m \u001b[31m2.8 MB/s\u001b[0m eta \u001b[36m0:00:00\u001b[0ma \u001b[36m0:00:01\u001b[0m\n",
            "\u001b[?25hDownloading aiohttp-3.9.3-cp39-cp39-macosx_11_0_arm64.whl (388 kB)\n",
            "\u001b[2K   \u001b[90m━━━━━━━━━━━━━━━━━━━━━━━━━━━━━━━━━━━━━━━━\u001b[0m \u001b[32m388.2/388.2 kB\u001b[0m \u001b[31m2.2 MB/s\u001b[0m eta \u001b[36m0:00:00\u001b[0ma \u001b[36m0:00:01\u001b[0m\n",
            "\u001b[?25hDownloading joblib-1.3.2-py3-none-any.whl (302 kB)\n",
            "\u001b[2K   \u001b[90m━━━━━━━━━━━━━━━━━━━━━━━━━━━━━━━━━━━━━━━━\u001b[0m \u001b[32m302.2/302.2 kB\u001b[0m \u001b[31m2.6 MB/s\u001b[0m eta \u001b[36m0:00:00\u001b[0m00:01\u001b[0m00:01\u001b[0m\n",
            "\u001b[?25hDownloading scikit_learn-1.4.0-1-cp39-cp39-macosx_12_0_arm64.whl (10.7 MB)\n",
            "\u001b[2K   \u001b[90m━━━━━━━━━━━━━━━━━━━━━━━━━━━━━━━━━━━━━━━━\u001b[0m \u001b[32m10.7/10.7 MB\u001b[0m \u001b[31m2.2 MB/s\u001b[0m eta \u001b[36m0:00:00\u001b[0m00:01\u001b[0m00:01\u001b[0m\n",
            "\u001b[?25hDownloading scipy-1.12.0-cp39-cp39-macosx_12_0_arm64.whl (31.4 MB)\n",
            "\u001b[2K   \u001b[90m━━━━━━━━━━━━━━━━━━━━━━━━━━━━━━━━━━━━━━━━\u001b[0m \u001b[32m31.4/31.4 MB\u001b[0m \u001b[31m2.2 MB/s\u001b[0m eta \u001b[36m0:00:00\u001b[0m00:01\u001b[0m00:01\u001b[0m\n",
            "\u001b[?25hDownloading threadpoolctl-3.2.0-py3-none-any.whl (15 kB)\n",
            "Downloading filelock-3.13.1-py3-none-any.whl (11 kB)\n",
            "Downloading Jinja2-3.1.3-py3-none-any.whl (133 kB)\n",
            "\u001b[2K   \u001b[90m━━━━━━━━━━━━━━━━━━━━━━━━━━━━━━━━━━━━━━━━\u001b[0m \u001b[32m133.2/133.2 kB\u001b[0m \u001b[31m5.4 MB/s\u001b[0m eta \u001b[36m0:00:00\u001b[0m\n",
            "\u001b[?25hDownloading networkx-3.2.1-py3-none-any.whl (1.6 MB)\n",
            "\u001b[2K   \u001b[90m━━━━━━━━━━━━━━━━━━━━━━━━━━━━━━━━━━━━━━━━\u001b[0m \u001b[32m1.6/1.6 MB\u001b[0m \u001b[31m2.0 MB/s\u001b[0m eta \u001b[36m0:00:00\u001b[0ma \u001b[36m0:00:01\u001b[0m\n",
            "\u001b[?25hDownloading requests-2.31.0-py3-none-any.whl (62 kB)\n",
            "\u001b[2K   \u001b[90m━━━━━━━━━━━━━━━━━━━━━━━━━━━━━━━━━━━━━━━━\u001b[0m \u001b[32m62.6/62.6 kB\u001b[0m \u001b[31m4.9 MB/s\u001b[0m eta \u001b[36m0:00:00\u001b[0m\n",
            "\u001b[?25hDownloading async_timeout-4.0.3-py3-none-any.whl (5.7 kB)\n",
            "Downloading attrs-23.2.0-py3-none-any.whl (60 kB)\n",
            "\u001b[2K   \u001b[90m━━━━━━━━━━━━━━━━━━━━━━━━━━━━━━━━━━━━━━━━\u001b[0m \u001b[32m60.8/60.8 kB\u001b[0m \u001b[31m6.3 MB/s\u001b[0m eta \u001b[36m0:00:00\u001b[0m\n",
            "\u001b[?25hDownloading certifi-2024.2.2-py3-none-any.whl (163 kB)\n",
            "\u001b[2K   \u001b[90m━━━━━━━━━━━━━━━━━━━━━━━━━━━━━━━━━━━━━━━━\u001b[0m \u001b[32m163.8/163.8 kB\u001b[0m \u001b[31m2.0 MB/s\u001b[0m eta \u001b[36m0:00:00\u001b[0ma \u001b[36m0:00:01\u001b[0m\n",
            "\u001b[?25hDownloading charset_normalizer-3.3.2-cp39-cp39-macosx_11_0_arm64.whl (120 kB)\n",
            "\u001b[2K   \u001b[90m━━━━━━━━━━━━━━━━━━━━━━━━━━━━━━━━━━━━━━━━\u001b[0m \u001b[32m120.4/120.4 kB\u001b[0m \u001b[31m3.9 MB/s\u001b[0m eta \u001b[36m0:00:00\u001b[0m\n",
            "\u001b[?25hDownloading frozenlist-1.4.1-cp39-cp39-macosx_11_0_arm64.whl (53 kB)\n",
            "\u001b[2K   \u001b[90m━━━━━━━━━━━━━━━━━━━━━━━━━━━━━━━━━━━━━━━━\u001b[0m \u001b[32m53.7/53.7 kB\u001b[0m \u001b[31m4.6 MB/s\u001b[0m eta \u001b[36m0:00:00\u001b[0m\n",
            "\u001b[?25hDownloading idna-3.6-py3-none-any.whl (61 kB)\n",
            "\u001b[2K   \u001b[90m━━━━━━━━━━━━━━━━━━━━━━━━━━━━━━━━━━━━━━━━\u001b[0m \u001b[32m61.6/61.6 kB\u001b[0m \u001b[31m933.6 kB/s\u001b[0m eta \u001b[36m0:00:00\u001b[0m--:--\u001b[0m\n",
            "\u001b[?25hDownloading MarkupSafe-2.1.4-cp39-cp39-macosx_10_9_universal2.whl (17 kB)\n",
            "Downloading multidict-6.0.5-cp39-cp39-macosx_11_0_arm64.whl (30 kB)\n",
            "Downloading urllib3-2.2.0-py3-none-any.whl (120 kB)\n",
            "\u001b[2K   \u001b[90m━━━━━━━━━━━━━━━━━━━━━━━━━━━━━━━━━━━━━━━━\u001b[0m \u001b[32m120.9/120.9 kB\u001b[0m \u001b[31m2.7 MB/s\u001b[0m eta \u001b[36m0:00:00\u001b[0ma \u001b[36m0:00:01\u001b[0m\n",
            "\u001b[?25hDownloading yarl-1.9.4-cp39-cp39-macosx_11_0_arm64.whl (81 kB)\n",
            "\u001b[2K   \u001b[90m━━━━━━━━━━━━━━━━━━━━━━━━━━━━━━━━━━━━━━━━\u001b[0m \u001b[32m81.8/81.8 kB\u001b[0m \u001b[31m4.0 MB/s\u001b[0m eta \u001b[36m0:00:00\u001b[0m\n",
            "\u001b[?25hBuilding wheels for collected packages: mpi4py\n",
            "  Building wheel for mpi4py (pyproject.toml) ... \u001b[?25ldone\n",
            "\u001b[?25h  Created wheel for mpi4py: filename=mpi4py-3.1.5-cp39-cp39-macosx_10_9_universal2.whl size=1018128 sha256=eee46755dcbaf48517a9cec7aaedf727eac2954a44bd8ec4a0b67bf3dde97b61\n",
            "  Stored in directory: /Users/manwest/Library/Caches/pip/wheels/17/26/3e/a5512b087666ce03512d7eb1b16782e8b104577c3649b68633\n",
            "Successfully built mpi4py\n",
            "Installing collected packages: mpmath, urllib3, tqdm, TINTOlib, threadpoolctl, sympy, PyYAML, numpy, networkx, multidict, mpi4py, MarkupSafe, lightning-utilities, joblib, idna, fsspec, frozenlist, filelock, charset-normalizer, certifi, attrs, async-timeout, yarl, scipy, requests, keras_preprocessing, jinja2, aiosignal, torch, scikit-learn, aiohttp, torchmetrics, imbalanced-learn, pytorch_lightning, imblearn\n",
            "Successfully installed MarkupSafe-2.1.4 PyYAML-6.0.1 TINTOlib-0.0.14 aiohttp-3.9.3 aiosignal-1.3.1 async-timeout-4.0.3 attrs-23.2.0 certifi-2024.2.2 charset-normalizer-3.3.2 filelock-3.13.1 frozenlist-1.4.1 fsspec-2023.12.2 idna-3.6 imbalanced-learn-0.12.0 imblearn-0.0 jinja2-3.1.3 joblib-1.3.2 keras_preprocessing-1.1.2 lightning-utilities-0.10.1 mpi4py-3.1.5 mpmath-1.3.0 multidict-6.0.5 networkx-3.2.1 numpy-1.26.3 pytorch_lightning-2.1.4 requests-2.31.0 scikit-learn-1.4.0 scipy-1.12.0 sympy-1.12 threadpoolctl-3.2.0 torch-2.2.0 torchmetrics-1.3.0.post0 tqdm-4.66.1 urllib3-2.2.0 yarl-1.9.4\n",
            "Note: you may need to restart the kernel to use updated packages.\n"
          ]
        }
      ],
      "source": [
        "%pip install torchmetrics pytorch_lightning TINTOlib imblearn keras_preprocessing mpi4py"
      ]
    },
    {
      "cell_type": "markdown",
      "metadata": {
        "id": "P4eqVxSEirPe"
      },
      "source": [
        "<div class=\"alert alert-block alert-info\">\n",
        "    \n",
        "<i class=\"fa fa-info-circle\" aria-hidden=\"true\"></i>\n",
        "Note that you must **restart the kernel** so that it can load the libraries."
      ]
    },
    {
      "cell_type": "markdown",
      "metadata": {
        "id": "9p4ZKyimirPg"
      },
      "source": [
        "---\n",
        "<a id=\"section22\"></a>\n",
        "# <font color=\"#004D7F\" size=5> 2.2. Invoke the libraries</font>"
      ]
    },
    {
      "cell_type": "markdown",
      "metadata": {
        "id": "5AdHKnWYsEq_"
      },
      "source": [
        "The first thing we need to do is to declare the libraries"
      ]
    },
    {
      "cell_type": "code",
      "execution_count": 2,
      "metadata": {},
      "outputs": [
        {
          "name": "stdout",
          "output_type": "stream",
          "text": [
            "Defaulting to user installation because normal site-packages is not writeable\n",
            "Collecting opencv-python\n",
            "  Using cached opencv_python-4.9.0.80-cp37-abi3-macosx_11_0_arm64.whl.metadata (20 kB)\n",
            "Requirement already satisfied: numpy>=1.21.0 in /Users/manwest/Library/Python/3.9/lib/python/site-packages (from opencv-python) (1.26.3)\n",
            "Using cached opencv_python-4.9.0.80-cp37-abi3-macosx_11_0_arm64.whl (35.4 MB)\n",
            "Installing collected packages: opencv-python\n",
            "Successfully installed opencv-python-4.9.0.80\n",
            "Note: you may need to restart the kernel to use updated packages.\n"
          ]
        }
      ],
      "source": [
        "%pip install opencv-python"
      ]
    },
    {
      "cell_type": "code",
      "execution_count": 2,
      "metadata": {
        "id": "PeeBbGxlpjFp",
        "tags": []
      },
      "outputs": [
        {
          "name": "stderr",
          "output_type": "stream",
          "text": [
            "/var/folders/9h/d3b8zc6j5019cyvmb_h929xm0000gn/T/ipykernel_5539/2101216585.py:2: DeprecationWarning: \n",
            "Pyarrow will become a required dependency of pandas in the next major release of pandas (pandas 3.0),\n",
            "(to allow more performant data types, such as the Arrow string type, and better interoperability with other libraries)\n",
            "but was not found to be installed on your system.\n",
            "If this would cause problems for you,\n",
            "please provide us feedback at https://github.com/pandas-dev/pandas/issues/54466\n",
            "        \n",
            "  import pandas as pd\n",
            "/Users/manwest/Library/Python/3.9/lib/python/site-packages/urllib3/__init__.py:35: NotOpenSSLWarning: urllib3 v2 only supports OpenSSL 1.1.1+, currently the 'ssl' module is compiled with 'LibreSSL 2.8.3'. See: https://github.com/urllib3/urllib3/issues/3020\n",
            "  warnings.warn(\n"
          ]
        }
      ],
      "source": [
        "import os\n",
        "import pandas as pd\n",
        "import numpy as np\n",
        "from tqdm import tqdm\n",
        "import cv2\n",
        "import gc\n",
        "import matplotlib.pyplot as plt\n",
        "#import openslide\n",
        "#from openslide.deepzoom import DeepZoomGenerator\n",
        "import tifffile as tifi\n",
        "import sklearn\n",
        "import tensorflow as tf\n",
        "import seaborn as sns\n",
        "from PIL import Image\n",
        "\n",
        "\n",
        "from sklearn.metrics import mean_absolute_error, mean_squared_error, r2_score,mean_absolute_percentage_error\n",
        "\n",
        "from keras_preprocessing.image import ImageDataGenerator\n",
        "from tensorflow.keras.models import load_model\n",
        "\n",
        "from sklearn.model_selection import train_test_split\n",
        "from tensorflow.keras.applications import vgg16, vgg19, resnet50, mobilenet, inception_resnet_v2, densenet, inception_v3, xception, nasnet, ResNet152V2\n",
        "from tensorflow.keras.models import Sequential, Model, load_model\n",
        "from tensorflow.keras.layers import Dense, Conv2D, MaxPool2D, Flatten, Dropout, BatchNormalization, InputLayer, LayerNormalization\n",
        "from tensorflow.keras.callbacks import ModelCheckpoint, ReduceLROnPlateau, EarlyStopping\n",
        "from tensorflow.keras.optimizers import SGD, Adam, Adadelta, Adamax\n",
        "from tensorflow.keras import layers, models, Model\n",
        "from tensorflow.keras.losses import MeanAbsoluteError, MeanAbsolutePercentageError\n",
        "from tensorflow.keras.layers import AveragePooling2D,Concatenate,Input, Activation,MaxPooling2D, concatenate\n",
        "from tensorflow.keras.utils import to_categorical\n",
        "\n",
        "#from imblearn.over_sampling import RandomOverSampler\n",
        "\n",
        "#Models of TINTOlib\n",
        "from TINTOlib.tinto import TINTO\n",
        "from TINTOlib.supertml import SuperTML\n",
        "from TINTOlib.igtd import IGTD\n",
        "from TINTOlib.refined import REFINED\n",
        "from TINTOlib.barGraph import BarGraph\n",
        "from TINTOlib.distanceMatrix import DistanceMatrix\n",
        "from TINTOlib.combination import Combination\n",
        "import TINTOlib.utils"
      ]
    },
    {
      "cell_type": "code",
      "execution_count": 3,
      "metadata": {},
      "outputs": [
        {
          "name": "stdout",
          "output_type": "stream",
          "text": [
            "GPU is available\n"
          ]
        }
      ],
      "source": [
        "gpu = len(tf.config.list_physical_devices('GPU'))>0\n",
        "print(\"GPU is\", \"available\" if gpu else \"NOT AVAILABLE\")"
      ]
    },
    {
      "cell_type": "markdown",
      "metadata": {
        "id": "NwS-cKUxjpDQ"
      },
      "source": [
        "---\n",
        "<div style=\"text-align: right\"> <font size=5> <a href=\"#indice\"><i class=\"fa fa-arrow-circle-up\" aria-hidden=\"true\" style=\"color:#004D7F\"></i></a></font></div>\n",
        "\n",
        "---"
      ]
    },
    {
      "cell_type": "markdown",
      "metadata": {
        "id": "aDL4LARWjpDT"
      },
      "source": [
        "<a id=\"section3\"></a>\n",
        "# <font color=\"#004D7F\" size=6> 3. Data processing</font>"
      ]
    },
    {
      "cell_type": "markdown",
      "metadata": {
        "id": "jXcRw78ljpDU"
      },
      "source": [
        "The first thing to do is to read all the images created by TINTO. TINTO creates a folder which contains subfolders corresponding to each target that has the problem. Each image corresponds to a sample of the original dataset."
      ]
    },
    {
      "cell_type": "markdown",
      "metadata": {
        "id": "DfjDTe2airPn"
      },
      "source": [
        "---\n",
        "<a id=\"section31\"></a>\n",
        "# <font color=\"#004D7F\" size=5> 3.1. TINTOlib methods</font>"
      ]
    },
    {
      "cell_type": "markdown",
      "metadata": {
        "id": "kX6zHJREirPo"
      },
      "source": [
        "We prepare the declaration of the classes with the TINTOlib method we want to transform. Note that TINTOlib has several methods and we will have to choose one of them since each method generates different images.\n",
        "\n",
        "In addition, we establish the paths where the dataset is located and also the folder where the images will be created."
      ]
    },
    {
      "cell_type": "code",
      "execution_count": 4,
      "metadata": {
        "id": "5KdXoj_dirPp"
      },
      "outputs": [],
      "source": [
        "#Select the model and the parameters\n",
        "problem_type = \"supervised\"\n",
        "#image_model = REFINED(problem= problem_type,hcIterations=5)\n",
        "image_model = TINTO(problem= problem_type,blur=True)\n",
        "#image_model = IGTD(problem= problem_type)\n",
        "#image_model = BarGraph(problem= problem_type)\n",
        "#image_model = DistanceMatrix(problem= problem_type)\n",
        "#image_model = Combination(problem= problem_type)\n",
        "\n",
        "#Define the dataset path and the folder where the images will be saved\n",
        "dataset_path = \"/Users/manwest/Git/TINTOlib/Pruebas/Datasets/winequality-red.csv\"\n",
        "images_folder = \"hybridclassification\""
      ]
    },
    {
      "cell_type": "markdown",
      "metadata": {
        "id": "mxdy8Q8iirPs"
      },
      "source": [
        "<div class=\"alert alert-block alert-info\">\n",
        "\n",
        "<i class=\"fa fa-info-circle\" aria-hidden=\"true\"></i>\n",
        "You can see all TINTOlib method in the [PyPI documentation](https://tintolib.readthedocs.io/en/latest/installation.html)"
      ]
    },
    {
      "cell_type": "markdown",
      "metadata": {
        "id": "JcBBvRa1irPu"
      },
      "source": [
        "---\n",
        "<a id=\"section32\"></a>\n",
        "# <font color=\"#004D7F\" size=5> 3.2. Read the dataset</font>"
      ]
    },
    {
      "cell_type": "markdown",
      "metadata": {
        "id": "jpp1j_UQirPv"
      },
      "source": [
        "In this part, we proceed to read the dataset according to the path specified above and also standardize the name that the target will have, in this case, it will be called `class`."
      ]
    },
    {
      "cell_type": "code",
      "execution_count": 5,
      "metadata": {
        "colab": {
          "base_uri": "https://localhost:8080/",
          "height": 112
        },
        "id": "K6FnnM69irPx",
        "outputId": "133d4a93-bb95-42ed-8d4d-7aab19f47f90",
        "scrolled": true
      },
      "outputs": [
        {
          "data": {
            "text/html": [
              "<div>\n",
              "<style scoped>\n",
              "    .dataframe tbody tr th:only-of-type {\n",
              "        vertical-align: middle;\n",
              "    }\n",
              "\n",
              "    .dataframe tbody tr th {\n",
              "        vertical-align: top;\n",
              "    }\n",
              "\n",
              "    .dataframe thead th {\n",
              "        text-align: right;\n",
              "    }\n",
              "</style>\n",
              "<table border=\"1\" class=\"dataframe\">\n",
              "  <thead>\n",
              "    <tr style=\"text-align: right;\">\n",
              "      <th></th>\n",
              "      <th>fixed acidity</th>\n",
              "      <th>volatile acidity</th>\n",
              "      <th>citric acid</th>\n",
              "      <th>residual sugar</th>\n",
              "      <th>chlorides</th>\n",
              "      <th>free sulfur dioxide</th>\n",
              "      <th>total sulfur dioxide</th>\n",
              "      <th>density</th>\n",
              "      <th>pH</th>\n",
              "      <th>sulphates</th>\n",
              "      <th>alcohol</th>\n",
              "      <th>quality</th>\n",
              "    </tr>\n",
              "  </thead>\n",
              "  <tbody>\n",
              "    <tr>\n",
              "      <th>0</th>\n",
              "      <td>7.4</td>\n",
              "      <td>0.70</td>\n",
              "      <td>0.0</td>\n",
              "      <td>1.9</td>\n",
              "      <td>0.076</td>\n",
              "      <td>11.0</td>\n",
              "      <td>34.0</td>\n",
              "      <td>0.9978</td>\n",
              "      <td>3.51</td>\n",
              "      <td>0.56</td>\n",
              "      <td>9.4</td>\n",
              "      <td>5</td>\n",
              "    </tr>\n",
              "    <tr>\n",
              "      <th>1</th>\n",
              "      <td>7.8</td>\n",
              "      <td>0.88</td>\n",
              "      <td>0.0</td>\n",
              "      <td>2.6</td>\n",
              "      <td>0.098</td>\n",
              "      <td>25.0</td>\n",
              "      <td>67.0</td>\n",
              "      <td>0.9968</td>\n",
              "      <td>3.20</td>\n",
              "      <td>0.68</td>\n",
              "      <td>9.8</td>\n",
              "      <td>5</td>\n",
              "    </tr>\n",
              "  </tbody>\n",
              "</table>\n",
              "</div>"
            ],
            "text/plain": [
              "   fixed acidity  volatile acidity  citric acid  residual sugar  chlorides  \\\n",
              "0            7.4              0.70          0.0             1.9      0.076   \n",
              "1            7.8              0.88          0.0             2.6      0.098   \n",
              "\n",
              "   free sulfur dioxide  total sulfur dioxide  density    pH  sulphates  \\\n",
              "0                 11.0                  34.0   0.9978  3.51       0.56   \n",
              "1                 25.0                  67.0   0.9968  3.20       0.68   \n",
              "\n",
              "   alcohol  quality  \n",
              "0      9.4        5  \n",
              "1      9.8        5  "
            ]
          },
          "execution_count": 5,
          "metadata": {},
          "output_type": "execute_result"
        }
      ],
      "source": [
        "#Read CSV\n",
        "df = pd.read_csv(dataset_path, sep=';')\n",
        "df.head(2)"
      ]
    },
    {
      "cell_type": "markdown",
      "metadata": {
        "id": "2U3avkaTirPy"
      },
      "source": [
        "---\n",
        "<a id=\"section33\"></a>\n",
        "# <font color=\"#004D7F\" size=5> 3.3. Generate images</font>"
      ]
    },
    {
      "cell_type": "markdown",
      "metadata": {
        "id": "LMpkkjcdirQJ"
      },
      "source": [
        "Now we can generate the images with the `generateImages()` generic function. Likewise, we create a dataset that will have the path of each of the samples with the corresponding image created for it.\n",
        "\n",
        "Note that each image is created based on a row, therefore, each numerical sample of the dataset will correspond to a particular image. In other words, we will have the same number of images as samples/rows."
      ]
    },
    {
      "cell_type": "code",
      "execution_count": 6,
      "metadata": {
        "colab": {
          "base_uri": "https://localhost:8080/"
        },
        "id": "QFTuO8CgirQM",
        "outputId": "2d84c8b3-b8e8-4992-a49f-421e9d8d3726"
      },
      "outputs": [
        {
          "name": "stdout",
          "output_type": "stream",
          "text": [
            "hybridclassification/supervised.csv\n"
          ]
        }
      ],
      "source": [
        "#Generate the images\n",
        "#image_model.generateImages(df, images_folder)\n",
        "img_paths = os.path.join(images_folder,problem_type+\".csv\")\n",
        "\n",
        "print(img_paths)"
      ]
    },
    {
      "cell_type": "markdown",
      "metadata": {
        "id": "_mjeqrT_irQP"
      },
      "source": [
        "---\n",
        "<a id=\"section34\"></a>\n",
        "# <font color=\"#004D7F\" size=5> 3.4. Read Images</font>"
      ]
    },
    {
      "cell_type": "markdown",
      "metadata": {
        "id": "8d_H77jgirQR"
      },
      "source": [
        "Now, we read the created images"
      ]
    },
    {
      "cell_type": "code",
      "execution_count": 7,
      "metadata": {
        "id": "w1vH17B0irQS"
      },
      "outputs": [],
      "source": [
        "imgs = pd.read_csv(img_paths)\n",
        "\n",
        "#imgs[\"images\"]= images_folder + \"\\\\\" + imgs[\"images\"]\n",
        "imgs[\"images\"]= images_folder + \"/\" + imgs[\"images\"]"
      ]
    },
    {
      "cell_type": "markdown",
      "metadata": {
        "id": "5PsGkQ5CirQU"
      },
      "source": [
        "---\n",
        "<a id=\"section35\"></a>\n",
        "# <font color=\"#004D7F\" size=5> 3.5. Mix images and tidy data</font>"
      ]
    },
    {
      "cell_type": "markdown",
      "metadata": {
        "id": "JO8IqFoWirQV"
      },
      "source": [
        "Since we are going to use hybrid networks, i.e. create a model in which we join a CNN for the images and a MLP for the tabular data, we are going to join it in order to integrate all the data in our hybrid model.\n"
      ]
    },
    {
      "cell_type": "code",
      "execution_count": 8,
      "metadata": {
        "colab": {
          "base_uri": "https://localhost:8080/",
          "height": 112
        },
        "id": "okEuH3uCirQX",
        "outputId": "417ce7a6-60fe-4b20-e6c5-640a60e551f9"
      },
      "outputs": [
        {
          "data": {
            "text/html": [
              "<div>\n",
              "<style scoped>\n",
              "    .dataframe tbody tr th:only-of-type {\n",
              "        vertical-align: middle;\n",
              "    }\n",
              "\n",
              "    .dataframe tbody tr th {\n",
              "        vertical-align: top;\n",
              "    }\n",
              "\n",
              "    .dataframe thead th {\n",
              "        text-align: right;\n",
              "    }\n",
              "</style>\n",
              "<table border=\"1\" class=\"dataframe\">\n",
              "  <thead>\n",
              "    <tr style=\"text-align: right;\">\n",
              "      <th></th>\n",
              "      <th>fixed acidity</th>\n",
              "      <th>volatile acidity</th>\n",
              "      <th>citric acid</th>\n",
              "      <th>residual sugar</th>\n",
              "      <th>chlorides</th>\n",
              "      <th>free sulfur dioxide</th>\n",
              "      <th>total sulfur dioxide</th>\n",
              "      <th>density</th>\n",
              "      <th>pH</th>\n",
              "      <th>sulphates</th>\n",
              "      <th>alcohol</th>\n",
              "      <th>quality</th>\n",
              "    </tr>\n",
              "  </thead>\n",
              "  <tbody>\n",
              "    <tr>\n",
              "      <th>0</th>\n",
              "      <td>0.247788</td>\n",
              "      <td>0.397260</td>\n",
              "      <td>0.0</td>\n",
              "      <td>0.068493</td>\n",
              "      <td>0.106845</td>\n",
              "      <td>0.140845</td>\n",
              "      <td>0.098940</td>\n",
              "      <td>0.567548</td>\n",
              "      <td>0.606299</td>\n",
              "      <td>0.137725</td>\n",
              "      <td>0.153846</td>\n",
              "      <td>5</td>\n",
              "    </tr>\n",
              "    <tr>\n",
              "      <th>1</th>\n",
              "      <td>0.283186</td>\n",
              "      <td>0.520548</td>\n",
              "      <td>0.0</td>\n",
              "      <td>0.116438</td>\n",
              "      <td>0.143573</td>\n",
              "      <td>0.338028</td>\n",
              "      <td>0.215548</td>\n",
              "      <td>0.494126</td>\n",
              "      <td>0.362205</td>\n",
              "      <td>0.209581</td>\n",
              "      <td>0.215385</td>\n",
              "      <td>5</td>\n",
              "    </tr>\n",
              "  </tbody>\n",
              "</table>\n",
              "</div>"
            ],
            "text/plain": [
              "   fixed acidity  volatile acidity  citric acid  residual sugar  chlorides  \\\n",
              "0       0.247788          0.397260          0.0        0.068493   0.106845   \n",
              "1       0.283186          0.520548          0.0        0.116438   0.143573   \n",
              "\n",
              "   free sulfur dioxide  total sulfur dioxide   density        pH  sulphates  \\\n",
              "0             0.140845              0.098940  0.567548  0.606299   0.137725   \n",
              "1             0.338028              0.215548  0.494126  0.362205   0.209581   \n",
              "\n",
              "    alcohol  quality  \n",
              "0  0.153846        5  \n",
              "1  0.215385        5  "
            ]
          },
          "execution_count": 8,
          "metadata": {},
          "output_type": "execute_result"
        }
      ],
      "source": [
        "# Select all the attributes to normalize\n",
        "columns_to_normalize = df.columns[:-1]\n",
        "\n",
        "# Normalize between 0 and 1\n",
        "df_normalized = (df[columns_to_normalize] - df[columns_to_normalize].min()) / (df[columns_to_normalize].max() - df[columns_to_normalize].min())\n",
        "\n",
        "# Combine the attributes and the label\n",
        "df_normalized = pd.concat([df_normalized, df[df.columns[-1]]], axis=1)\n",
        "\n",
        "df_normalized.head(2)"
      ]
    },
    {
      "cell_type": "markdown",
      "metadata": {
        "id": "Sas6XP3virQZ"
      },
      "source": [
        "Combine the images and tidy data in the same dataframe, split attributes and objective value"
      ]
    },
    {
      "cell_type": "code",
      "execution_count": 9,
      "metadata": {
        "colab": {
          "base_uri": "https://localhost:8080/"
        },
        "id": "t-Z1SDZiirQa",
        "outputId": "38387e19-0328-45c5-bd4e-9cab1ec60042"
      },
      "outputs": [
        {
          "data": {
            "text/html": [
              "<div>\n",
              "<style scoped>\n",
              "    .dataframe tbody tr th:only-of-type {\n",
              "        vertical-align: middle;\n",
              "    }\n",
              "\n",
              "    .dataframe tbody tr th {\n",
              "        vertical-align: top;\n",
              "    }\n",
              "\n",
              "    .dataframe thead th {\n",
              "        text-align: right;\n",
              "    }\n",
              "</style>\n",
              "<table border=\"1\" class=\"dataframe\">\n",
              "  <thead>\n",
              "    <tr style=\"text-align: right;\">\n",
              "      <th></th>\n",
              "      <th>images</th>\n",
              "      <th>class</th>\n",
              "      <th>fixed acidity</th>\n",
              "      <th>volatile acidity</th>\n",
              "      <th>citric acid</th>\n",
              "      <th>residual sugar</th>\n",
              "      <th>chlorides</th>\n",
              "      <th>free sulfur dioxide</th>\n",
              "      <th>total sulfur dioxide</th>\n",
              "      <th>density</th>\n",
              "      <th>pH</th>\n",
              "      <th>sulphates</th>\n",
              "      <th>alcohol</th>\n",
              "      <th>quality</th>\n",
              "    </tr>\n",
              "  </thead>\n",
              "  <tbody>\n",
              "    <tr>\n",
              "      <th>0</th>\n",
              "      <td>hybridclassification/5.0/000000.png</td>\n",
              "      <td>5.0</td>\n",
              "      <td>0.247788</td>\n",
              "      <td>0.397260</td>\n",
              "      <td>0.00</td>\n",
              "      <td>0.068493</td>\n",
              "      <td>0.106845</td>\n",
              "      <td>0.140845</td>\n",
              "      <td>0.098940</td>\n",
              "      <td>0.567548</td>\n",
              "      <td>0.606299</td>\n",
              "      <td>0.137725</td>\n",
              "      <td>0.153846</td>\n",
              "      <td>5</td>\n",
              "    </tr>\n",
              "    <tr>\n",
              "      <th>1</th>\n",
              "      <td>hybridclassification/5.0/000001.png</td>\n",
              "      <td>5.0</td>\n",
              "      <td>0.283186</td>\n",
              "      <td>0.520548</td>\n",
              "      <td>0.00</td>\n",
              "      <td>0.116438</td>\n",
              "      <td>0.143573</td>\n",
              "      <td>0.338028</td>\n",
              "      <td>0.215548</td>\n",
              "      <td>0.494126</td>\n",
              "      <td>0.362205</td>\n",
              "      <td>0.209581</td>\n",
              "      <td>0.215385</td>\n",
              "      <td>5</td>\n",
              "    </tr>\n",
              "    <tr>\n",
              "      <th>2</th>\n",
              "      <td>hybridclassification/5.0/000002.png</td>\n",
              "      <td>5.0</td>\n",
              "      <td>0.283186</td>\n",
              "      <td>0.438356</td>\n",
              "      <td>0.04</td>\n",
              "      <td>0.095890</td>\n",
              "      <td>0.133556</td>\n",
              "      <td>0.197183</td>\n",
              "      <td>0.169611</td>\n",
              "      <td>0.508811</td>\n",
              "      <td>0.409449</td>\n",
              "      <td>0.191617</td>\n",
              "      <td>0.215385</td>\n",
              "      <td>5</td>\n",
              "    </tr>\n",
              "    <tr>\n",
              "      <th>3</th>\n",
              "      <td>hybridclassification/6.0/000003.png</td>\n",
              "      <td>6.0</td>\n",
              "      <td>0.584071</td>\n",
              "      <td>0.109589</td>\n",
              "      <td>0.56</td>\n",
              "      <td>0.068493</td>\n",
              "      <td>0.105175</td>\n",
              "      <td>0.225352</td>\n",
              "      <td>0.190813</td>\n",
              "      <td>0.582232</td>\n",
              "      <td>0.330709</td>\n",
              "      <td>0.149701</td>\n",
              "      <td>0.215385</td>\n",
              "      <td>6</td>\n",
              "    </tr>\n",
              "    <tr>\n",
              "      <th>4</th>\n",
              "      <td>hybridclassification/5.0/000004.png</td>\n",
              "      <td>5.0</td>\n",
              "      <td>0.247788</td>\n",
              "      <td>0.397260</td>\n",
              "      <td>0.00</td>\n",
              "      <td>0.068493</td>\n",
              "      <td>0.106845</td>\n",
              "      <td>0.140845</td>\n",
              "      <td>0.098940</td>\n",
              "      <td>0.567548</td>\n",
              "      <td>0.606299</td>\n",
              "      <td>0.137725</td>\n",
              "      <td>0.153846</td>\n",
              "      <td>5</td>\n",
              "    </tr>\n",
              "    <tr>\n",
              "      <th>...</th>\n",
              "      <td>...</td>\n",
              "      <td>...</td>\n",
              "      <td>...</td>\n",
              "      <td>...</td>\n",
              "      <td>...</td>\n",
              "      <td>...</td>\n",
              "      <td>...</td>\n",
              "      <td>...</td>\n",
              "      <td>...</td>\n",
              "      <td>...</td>\n",
              "      <td>...</td>\n",
              "      <td>...</td>\n",
              "      <td>...</td>\n",
              "      <td>...</td>\n",
              "    </tr>\n",
              "    <tr>\n",
              "      <th>1594</th>\n",
              "      <td>hybridclassification/5.0/001594.png</td>\n",
              "      <td>5.0</td>\n",
              "      <td>0.141593</td>\n",
              "      <td>0.328767</td>\n",
              "      <td>0.08</td>\n",
              "      <td>0.075342</td>\n",
              "      <td>0.130217</td>\n",
              "      <td>0.436620</td>\n",
              "      <td>0.134276</td>\n",
              "      <td>0.354626</td>\n",
              "      <td>0.559055</td>\n",
              "      <td>0.149701</td>\n",
              "      <td>0.323077</td>\n",
              "      <td>5</td>\n",
              "    </tr>\n",
              "    <tr>\n",
              "      <th>1595</th>\n",
              "      <td>hybridclassification/6.0/001595.png</td>\n",
              "      <td>6.0</td>\n",
              "      <td>0.115044</td>\n",
              "      <td>0.294521</td>\n",
              "      <td>0.10</td>\n",
              "      <td>0.089041</td>\n",
              "      <td>0.083472</td>\n",
              "      <td>0.535211</td>\n",
              "      <td>0.159011</td>\n",
              "      <td>0.370778</td>\n",
              "      <td>0.614173</td>\n",
              "      <td>0.257485</td>\n",
              "      <td>0.430769</td>\n",
              "      <td>6</td>\n",
              "    </tr>\n",
              "    <tr>\n",
              "      <th>1596</th>\n",
              "      <td>hybridclassification/6.0/001596.png</td>\n",
              "      <td>6.0</td>\n",
              "      <td>0.150442</td>\n",
              "      <td>0.267123</td>\n",
              "      <td>0.13</td>\n",
              "      <td>0.095890</td>\n",
              "      <td>0.106845</td>\n",
              "      <td>0.394366</td>\n",
              "      <td>0.120141</td>\n",
              "      <td>0.416300</td>\n",
              "      <td>0.535433</td>\n",
              "      <td>0.251497</td>\n",
              "      <td>0.400000</td>\n",
              "      <td>6</td>\n",
              "    </tr>\n",
              "    <tr>\n",
              "      <th>1597</th>\n",
              "      <td>hybridclassification/5.0/001597.png</td>\n",
              "      <td>5.0</td>\n",
              "      <td>0.115044</td>\n",
              "      <td>0.359589</td>\n",
              "      <td>0.12</td>\n",
              "      <td>0.075342</td>\n",
              "      <td>0.105175</td>\n",
              "      <td>0.436620</td>\n",
              "      <td>0.134276</td>\n",
              "      <td>0.396476</td>\n",
              "      <td>0.653543</td>\n",
              "      <td>0.227545</td>\n",
              "      <td>0.276923</td>\n",
              "      <td>5</td>\n",
              "    </tr>\n",
              "    <tr>\n",
              "      <th>1598</th>\n",
              "      <td>hybridclassification/6.0/001598.png</td>\n",
              "      <td>6.0</td>\n",
              "      <td>0.123894</td>\n",
              "      <td>0.130137</td>\n",
              "      <td>0.47</td>\n",
              "      <td>0.184932</td>\n",
              "      <td>0.091820</td>\n",
              "      <td>0.239437</td>\n",
              "      <td>0.127208</td>\n",
              "      <td>0.397944</td>\n",
              "      <td>0.511811</td>\n",
              "      <td>0.197605</td>\n",
              "      <td>0.400000</td>\n",
              "      <td>6</td>\n",
              "    </tr>\n",
              "  </tbody>\n",
              "</table>\n",
              "<p>1599 rows × 14 columns</p>\n",
              "</div>"
            ],
            "text/plain": [
              "                                   images  class  fixed acidity  \\\n",
              "0     hybridclassification/5.0/000000.png    5.0       0.247788   \n",
              "1     hybridclassification/5.0/000001.png    5.0       0.283186   \n",
              "2     hybridclassification/5.0/000002.png    5.0       0.283186   \n",
              "3     hybridclassification/6.0/000003.png    6.0       0.584071   \n",
              "4     hybridclassification/5.0/000004.png    5.0       0.247788   \n",
              "...                                   ...    ...            ...   \n",
              "1594  hybridclassification/5.0/001594.png    5.0       0.141593   \n",
              "1595  hybridclassification/6.0/001595.png    6.0       0.115044   \n",
              "1596  hybridclassification/6.0/001596.png    6.0       0.150442   \n",
              "1597  hybridclassification/5.0/001597.png    5.0       0.115044   \n",
              "1598  hybridclassification/6.0/001598.png    6.0       0.123894   \n",
              "\n",
              "      volatile acidity  citric acid  residual sugar  chlorides  \\\n",
              "0             0.397260         0.00        0.068493   0.106845   \n",
              "1             0.520548         0.00        0.116438   0.143573   \n",
              "2             0.438356         0.04        0.095890   0.133556   \n",
              "3             0.109589         0.56        0.068493   0.105175   \n",
              "4             0.397260         0.00        0.068493   0.106845   \n",
              "...                ...          ...             ...        ...   \n",
              "1594          0.328767         0.08        0.075342   0.130217   \n",
              "1595          0.294521         0.10        0.089041   0.083472   \n",
              "1596          0.267123         0.13        0.095890   0.106845   \n",
              "1597          0.359589         0.12        0.075342   0.105175   \n",
              "1598          0.130137         0.47        0.184932   0.091820   \n",
              "\n",
              "      free sulfur dioxide  total sulfur dioxide   density        pH  \\\n",
              "0                0.140845              0.098940  0.567548  0.606299   \n",
              "1                0.338028              0.215548  0.494126  0.362205   \n",
              "2                0.197183              0.169611  0.508811  0.409449   \n",
              "3                0.225352              0.190813  0.582232  0.330709   \n",
              "4                0.140845              0.098940  0.567548  0.606299   \n",
              "...                   ...                   ...       ...       ...   \n",
              "1594             0.436620              0.134276  0.354626  0.559055   \n",
              "1595             0.535211              0.159011  0.370778  0.614173   \n",
              "1596             0.394366              0.120141  0.416300  0.535433   \n",
              "1597             0.436620              0.134276  0.396476  0.653543   \n",
              "1598             0.239437              0.127208  0.397944  0.511811   \n",
              "\n",
              "      sulphates   alcohol  quality  \n",
              "0      0.137725  0.153846        5  \n",
              "1      0.209581  0.215385        5  \n",
              "2      0.191617  0.215385        5  \n",
              "3      0.149701  0.215385        6  \n",
              "4      0.137725  0.153846        5  \n",
              "...         ...       ...      ...  \n",
              "1594   0.149701  0.323077        5  \n",
              "1595   0.257485  0.430769        6  \n",
              "1596   0.251497  0.400000        6  \n",
              "1597   0.227545  0.276923        5  \n",
              "1598   0.197605  0.400000        6  \n",
              "\n",
              "[1599 rows x 14 columns]"
            ]
          },
          "execution_count": 9,
          "metadata": {},
          "output_type": "execute_result"
        }
      ],
      "source": [
        "combined_dataset = pd.concat([imgs,df_normalized],axis=1)\n",
        "combined_dataset"
      ]
    },
    {
      "cell_type": "code",
      "execution_count": 10,
      "metadata": {},
      "outputs": [
        {
          "name": "stdout",
          "output_type": "stream",
          "text": [
            "0       5.0\n",
            "1       5.0\n",
            "2       5.0\n",
            "3       6.0\n",
            "4       5.0\n",
            "       ... \n",
            "1594    5.0\n",
            "1595    6.0\n",
            "1596    6.0\n",
            "1597    5.0\n",
            "1598    6.0\n",
            "Name: class, Length: 1599, dtype: float64\n"
          ]
        }
      ],
      "source": [
        "\n",
        "df_x = combined_dataset.drop(\"class\",axis=1).drop(\"quality\", axis=1)\n",
        "df_y = combined_dataset[\"class\"]\n",
        "\n",
        "print(df_y)"
      ]
    },
    {
      "cell_type": "code",
      "execution_count": 11,
      "metadata": {},
      "outputs": [
        {
          "data": {
            "text/html": [
              "<div>\n",
              "<style scoped>\n",
              "    .dataframe tbody tr th:only-of-type {\n",
              "        vertical-align: middle;\n",
              "    }\n",
              "\n",
              "    .dataframe tbody tr th {\n",
              "        vertical-align: top;\n",
              "    }\n",
              "\n",
              "    .dataframe thead th {\n",
              "        text-align: right;\n",
              "    }\n",
              "</style>\n",
              "<table border=\"1\" class=\"dataframe\">\n",
              "  <thead>\n",
              "    <tr style=\"text-align: right;\">\n",
              "      <th></th>\n",
              "      <th>images</th>\n",
              "      <th>fixed acidity</th>\n",
              "      <th>volatile acidity</th>\n",
              "      <th>citric acid</th>\n",
              "      <th>residual sugar</th>\n",
              "      <th>chlorides</th>\n",
              "      <th>free sulfur dioxide</th>\n",
              "      <th>total sulfur dioxide</th>\n",
              "      <th>density</th>\n",
              "      <th>pH</th>\n",
              "      <th>sulphates</th>\n",
              "      <th>alcohol</th>\n",
              "    </tr>\n",
              "  </thead>\n",
              "  <tbody>\n",
              "    <tr>\n",
              "      <th>0</th>\n",
              "      <td>hybridclassification/5.0/000000.png</td>\n",
              "      <td>0.247788</td>\n",
              "      <td>0.397260</td>\n",
              "      <td>0.00</td>\n",
              "      <td>0.068493</td>\n",
              "      <td>0.106845</td>\n",
              "      <td>0.140845</td>\n",
              "      <td>0.098940</td>\n",
              "      <td>0.567548</td>\n",
              "      <td>0.606299</td>\n",
              "      <td>0.137725</td>\n",
              "      <td>0.153846</td>\n",
              "    </tr>\n",
              "    <tr>\n",
              "      <th>1</th>\n",
              "      <td>hybridclassification/5.0/000001.png</td>\n",
              "      <td>0.283186</td>\n",
              "      <td>0.520548</td>\n",
              "      <td>0.00</td>\n",
              "      <td>0.116438</td>\n",
              "      <td>0.143573</td>\n",
              "      <td>0.338028</td>\n",
              "      <td>0.215548</td>\n",
              "      <td>0.494126</td>\n",
              "      <td>0.362205</td>\n",
              "      <td>0.209581</td>\n",
              "      <td>0.215385</td>\n",
              "    </tr>\n",
              "    <tr>\n",
              "      <th>2</th>\n",
              "      <td>hybridclassification/5.0/000002.png</td>\n",
              "      <td>0.283186</td>\n",
              "      <td>0.438356</td>\n",
              "      <td>0.04</td>\n",
              "      <td>0.095890</td>\n",
              "      <td>0.133556</td>\n",
              "      <td>0.197183</td>\n",
              "      <td>0.169611</td>\n",
              "      <td>0.508811</td>\n",
              "      <td>0.409449</td>\n",
              "      <td>0.191617</td>\n",
              "      <td>0.215385</td>\n",
              "    </tr>\n",
              "    <tr>\n",
              "      <th>3</th>\n",
              "      <td>hybridclassification/6.0/000003.png</td>\n",
              "      <td>0.584071</td>\n",
              "      <td>0.109589</td>\n",
              "      <td>0.56</td>\n",
              "      <td>0.068493</td>\n",
              "      <td>0.105175</td>\n",
              "      <td>0.225352</td>\n",
              "      <td>0.190813</td>\n",
              "      <td>0.582232</td>\n",
              "      <td>0.330709</td>\n",
              "      <td>0.149701</td>\n",
              "      <td>0.215385</td>\n",
              "    </tr>\n",
              "    <tr>\n",
              "      <th>4</th>\n",
              "      <td>hybridclassification/5.0/000004.png</td>\n",
              "      <td>0.247788</td>\n",
              "      <td>0.397260</td>\n",
              "      <td>0.00</td>\n",
              "      <td>0.068493</td>\n",
              "      <td>0.106845</td>\n",
              "      <td>0.140845</td>\n",
              "      <td>0.098940</td>\n",
              "      <td>0.567548</td>\n",
              "      <td>0.606299</td>\n",
              "      <td>0.137725</td>\n",
              "      <td>0.153846</td>\n",
              "    </tr>\n",
              "    <tr>\n",
              "      <th>...</th>\n",
              "      <td>...</td>\n",
              "      <td>...</td>\n",
              "      <td>...</td>\n",
              "      <td>...</td>\n",
              "      <td>...</td>\n",
              "      <td>...</td>\n",
              "      <td>...</td>\n",
              "      <td>...</td>\n",
              "      <td>...</td>\n",
              "      <td>...</td>\n",
              "      <td>...</td>\n",
              "      <td>...</td>\n",
              "    </tr>\n",
              "    <tr>\n",
              "      <th>1594</th>\n",
              "      <td>hybridclassification/5.0/001594.png</td>\n",
              "      <td>0.141593</td>\n",
              "      <td>0.328767</td>\n",
              "      <td>0.08</td>\n",
              "      <td>0.075342</td>\n",
              "      <td>0.130217</td>\n",
              "      <td>0.436620</td>\n",
              "      <td>0.134276</td>\n",
              "      <td>0.354626</td>\n",
              "      <td>0.559055</td>\n",
              "      <td>0.149701</td>\n",
              "      <td>0.323077</td>\n",
              "    </tr>\n",
              "    <tr>\n",
              "      <th>1595</th>\n",
              "      <td>hybridclassification/6.0/001595.png</td>\n",
              "      <td>0.115044</td>\n",
              "      <td>0.294521</td>\n",
              "      <td>0.10</td>\n",
              "      <td>0.089041</td>\n",
              "      <td>0.083472</td>\n",
              "      <td>0.535211</td>\n",
              "      <td>0.159011</td>\n",
              "      <td>0.370778</td>\n",
              "      <td>0.614173</td>\n",
              "      <td>0.257485</td>\n",
              "      <td>0.430769</td>\n",
              "    </tr>\n",
              "    <tr>\n",
              "      <th>1596</th>\n",
              "      <td>hybridclassification/6.0/001596.png</td>\n",
              "      <td>0.150442</td>\n",
              "      <td>0.267123</td>\n",
              "      <td>0.13</td>\n",
              "      <td>0.095890</td>\n",
              "      <td>0.106845</td>\n",
              "      <td>0.394366</td>\n",
              "      <td>0.120141</td>\n",
              "      <td>0.416300</td>\n",
              "      <td>0.535433</td>\n",
              "      <td>0.251497</td>\n",
              "      <td>0.400000</td>\n",
              "    </tr>\n",
              "    <tr>\n",
              "      <th>1597</th>\n",
              "      <td>hybridclassification/5.0/001597.png</td>\n",
              "      <td>0.115044</td>\n",
              "      <td>0.359589</td>\n",
              "      <td>0.12</td>\n",
              "      <td>0.075342</td>\n",
              "      <td>0.105175</td>\n",
              "      <td>0.436620</td>\n",
              "      <td>0.134276</td>\n",
              "      <td>0.396476</td>\n",
              "      <td>0.653543</td>\n",
              "      <td>0.227545</td>\n",
              "      <td>0.276923</td>\n",
              "    </tr>\n",
              "    <tr>\n",
              "      <th>1598</th>\n",
              "      <td>hybridclassification/6.0/001598.png</td>\n",
              "      <td>0.123894</td>\n",
              "      <td>0.130137</td>\n",
              "      <td>0.47</td>\n",
              "      <td>0.184932</td>\n",
              "      <td>0.091820</td>\n",
              "      <td>0.239437</td>\n",
              "      <td>0.127208</td>\n",
              "      <td>0.397944</td>\n",
              "      <td>0.511811</td>\n",
              "      <td>0.197605</td>\n",
              "      <td>0.400000</td>\n",
              "    </tr>\n",
              "  </tbody>\n",
              "</table>\n",
              "<p>1599 rows × 12 columns</p>\n",
              "</div>"
            ],
            "text/plain": [
              "                                   images  fixed acidity  volatile acidity  \\\n",
              "0     hybridclassification/5.0/000000.png       0.247788          0.397260   \n",
              "1     hybridclassification/5.0/000001.png       0.283186          0.520548   \n",
              "2     hybridclassification/5.0/000002.png       0.283186          0.438356   \n",
              "3     hybridclassification/6.0/000003.png       0.584071          0.109589   \n",
              "4     hybridclassification/5.0/000004.png       0.247788          0.397260   \n",
              "...                                   ...            ...               ...   \n",
              "1594  hybridclassification/5.0/001594.png       0.141593          0.328767   \n",
              "1595  hybridclassification/6.0/001595.png       0.115044          0.294521   \n",
              "1596  hybridclassification/6.0/001596.png       0.150442          0.267123   \n",
              "1597  hybridclassification/5.0/001597.png       0.115044          0.359589   \n",
              "1598  hybridclassification/6.0/001598.png       0.123894          0.130137   \n",
              "\n",
              "      citric acid  residual sugar  chlorides  free sulfur dioxide  \\\n",
              "0            0.00        0.068493   0.106845             0.140845   \n",
              "1            0.00        0.116438   0.143573             0.338028   \n",
              "2            0.04        0.095890   0.133556             0.197183   \n",
              "3            0.56        0.068493   0.105175             0.225352   \n",
              "4            0.00        0.068493   0.106845             0.140845   \n",
              "...           ...             ...        ...                  ...   \n",
              "1594         0.08        0.075342   0.130217             0.436620   \n",
              "1595         0.10        0.089041   0.083472             0.535211   \n",
              "1596         0.13        0.095890   0.106845             0.394366   \n",
              "1597         0.12        0.075342   0.105175             0.436620   \n",
              "1598         0.47        0.184932   0.091820             0.239437   \n",
              "\n",
              "      total sulfur dioxide   density        pH  sulphates   alcohol  \n",
              "0                 0.098940  0.567548  0.606299   0.137725  0.153846  \n",
              "1                 0.215548  0.494126  0.362205   0.209581  0.215385  \n",
              "2                 0.169611  0.508811  0.409449   0.191617  0.215385  \n",
              "3                 0.190813  0.582232  0.330709   0.149701  0.215385  \n",
              "4                 0.098940  0.567548  0.606299   0.137725  0.153846  \n",
              "...                    ...       ...       ...        ...       ...  \n",
              "1594              0.134276  0.354626  0.559055   0.149701  0.323077  \n",
              "1595              0.159011  0.370778  0.614173   0.257485  0.430769  \n",
              "1596              0.120141  0.416300  0.535433   0.251497  0.400000  \n",
              "1597              0.134276  0.396476  0.653543   0.227545  0.276923  \n",
              "1598              0.127208  0.397944  0.511811   0.197605  0.400000  \n",
              "\n",
              "[1599 rows x 12 columns]"
            ]
          },
          "execution_count": 11,
          "metadata": {},
          "output_type": "execute_result"
        }
      ],
      "source": [
        "df_x"
      ]
    },
    {
      "cell_type": "markdown",
      "metadata": {
        "id": "_haEKIo7jpD1"
      },
      "source": [
        "---\n",
        "<div style=\"text-align: right\"> <font size=5> <a href=\"#indice\"><i class=\"fa fa-arrow-circle-up\" aria-hidden=\"true\" style=\"color:#004D7F\"></i></a></font></div>\n",
        "\n",
        "---"
      ]
    },
    {
      "cell_type": "markdown",
      "metadata": {
        "id": "uF1lJWbojpD3"
      },
      "source": [
        "<a id=\"section4\"></a>\n",
        "# <font color=\"#004D7F\" size=6> 4. Pre-modelling phase</font>"
      ]
    },
    {
      "cell_type": "markdown",
      "metadata": {
        "id": "pUeqaEMzirQd"
      },
      "source": [
        "Once the data is ready, we load it into memory with an iterator in order to pass it to the CNN."
      ]
    },
    {
      "cell_type": "markdown",
      "metadata": {
        "id": "JFfXy0fdirQe"
      },
      "source": [
        "---\n",
        "<a id=\"section41\"></a>\n",
        "# <font color=\"#004D7F\" size=5> 4.1. Data curation</font>"
      ]
    },
    {
      "cell_type": "markdown",
      "metadata": {
        "id": "-EdSt2KRirQf"
      },
      "source": [
        "Note that each method generates images of **different pixel size**. For example:\n",
        "- `TINTO` method has a parameter that you can specify the size in pixels which by default is 20.\n",
        "- Other parameters such as `Combined` generates the size automatically and you must obtain them from the _shape_ of the images."
      ]
    },
    {
      "cell_type": "markdown",
      "metadata": {
        "id": "v0c-H9DkirQg"
      },
      "source": [
        "<div class=\"alert alert-block alert-info\">\n",
        "\n",
        "<i class=\"fa fa-info-circle\" aria-hidden=\"true\"></i>\n",
        "You can see all information about TINTOlib documentation in [PyPI](https://tintolib.readthedocs.io/en/latest/installation.html)"
      ]
    },
    {
      "cell_type": "code",
      "execution_count": 12,
      "metadata": {
        "id": "xp2bH17BirQh"
      },
      "outputs": [],
      "source": [
        "pixels = 20"
      ]
    },
    {
      "cell_type": "markdown",
      "metadata": {
        "id": "DOcvlpM1irQj"
      },
      "source": [
        "Split in train/test/validation.\n",
        "\n",
        "Note that the partitioning of the images is also performed, in addition to the tabular data."
      ]
    },
    {
      "cell_type": "code",
      "execution_count": 13,
      "metadata": {
        "colab": {
          "base_uri": "https://localhost:8080/"
        },
        "id": "7HWwtl4uirQk",
        "outputId": "43dae21c-e072-4bfd-e8c4-9fdba2c0fdb2"
      },
      "outputs": [
        {
          "name": "stdout",
          "output_type": "stream",
          "text": [
            "Image shape (20, 20, 3)\n",
            "Attributes 11\n",
            "Classes 6\n",
            "Image size (pixels): 20\n"
          ]
        }
      ],
      "source": [
        "import cv2\n",
        "X_train, X_val, y_train, y_val = train_test_split(df_x, df_y, test_size = 0.40, random_state = 123,stratify=df_y)\n",
        "X_val, X_test, y_val, y_test = train_test_split(X_val, y_val, test_size = 0.50, random_state = 123, shuffle=False)\n",
        "\n",
        "X_train_num = X_train.drop(\"images\",axis=1)\n",
        "X_val_num = X_val.drop(\"images\",axis=1)\n",
        "X_test_num = X_test.drop(\"images\",axis=1)\n",
        "\n",
        "\"\"\"X_train_img = np.array([cv2.imread(img) for img in X_train[\"images\"]])\n",
        "X_val_img = np.array([cv2.imread(img) for img in X_val[\"images\"]])\n",
        "X_test_img = np.array([cv2.imread(img) for img in X_test[\"images\"]])\"\"\"\n",
        "\n",
        "X_train_img = np.array([cv2.resize(cv2.imread(img),(pixels,pixels)) for img in X_train[\"images\"]])\n",
        "X_val_img = np.array([cv2.resize(cv2.imread(img),(pixels,pixels)) for img in X_val[\"images\"]])\n",
        "X_test_img = np.array([cv2.resize(cv2.imread(img),(pixels,pixels)) for img in X_test[\"images\"]])\n",
        "\n",
        "n_class = df.iloc[:,-1].value_counts().count()\n",
        "attributes = len(X_train_num.columns)\n",
        "\n",
        "print(\"Image shape\",X_train_img[0].shape)\n",
        "print(\"Attributes\",attributes)\n",
        "print(\"Classes\",n_class)\n",
        "size=X_train_img[0].shape[0]\n",
        "print(\"Image size (pixels):\", pixels)"
      ]
    },
    {
      "cell_type": "markdown",
      "metadata": {
        "id": "DQbyBiFBirQn"
      },
      "source": [
        "---\n",
        "<a id=\"section42\"></a>\n",
        "# <font color=\"#004D7F\" size=5> 4.2. One-hot encoding</font>"
      ]
    },
    {
      "cell_type": "markdown",
      "metadata": {
        "id": "9uRU7F1hirQo"
      },
      "source": [
        "One-hot encoding **only** for multiclass machine learning problems"
      ]
    },
    {
      "cell_type": "code",
      "execution_count": 14,
      "metadata": {
        "id": "DN7owA6mirQp"
      },
      "outputs": [],
      "source": [
        "# y-1 because target is between [1,28] and not [0,27]\n",
        "y_train_oh =  to_categorical(y_train-3,n_class)\n",
        "y_val_oh = to_categorical(y_val-3,n_class)\n",
        "y_test_oh = to_categorical(y_test-3,n_class)"
      ]
    },
    {
      "cell_type": "code",
      "execution_count": 15,
      "metadata": {},
      "outputs": [
        {
          "data": {
            "text/plain": [
              "array([[0., 0., 0., 1., 0., 0.],\n",
              "       [1., 0., 0., 0., 0., 0.],\n",
              "       [0., 0., 1., 0., 0., 0.],\n",
              "       ...,\n",
              "       [0., 0., 1., 0., 0., 0.],\n",
              "       [0., 0., 0., 0., 1., 0.],\n",
              "       [0., 0., 1., 0., 0., 0.]], dtype=float32)"
            ]
          },
          "execution_count": 15,
          "metadata": {},
          "output_type": "execute_result"
        }
      ],
      "source": [
        "y_test_oh"
      ]
    },
    {
      "cell_type": "markdown",
      "metadata": {
        "id": "3HmI59qQirQr"
      },
      "source": [
        "<a id=\"section5\"></a>\n",
        "# <font color=\"#004D7F\" size=6> 5. Modeling hybrid network</font>"
      ]
    },
    {
      "cell_type": "markdown",
      "metadata": {
        "id": "fkZ3SatMirQt"
      },
      "source": [
        "Now we can start the CNN+MLP training. Before that we prepare the algorithm for reading data.\n",
        "\n",
        "In this example, 2 branch networks is created\n",
        "- 1º branch: FFNN for tabular data\n",
        "- 2º branch: CNN for TINTOlib images"
      ]
    },
    {
      "cell_type": "markdown",
      "metadata": {
        "id": "SW4yh2dairQv"
      },
      "source": [
        "---\n",
        "<a id=\"section51\"></a>\n",
        "# <font color=\"#004D7F\" size=5> 5.1. FFNN for tabular data</font>\n",
        "\n",
        "This is an example of a simple FFNN for tabular data. Note that we are not looking for the optimization of the CNN but to show an example of TINTOlib execution."
      ]
    },
    {
      "cell_type": "code",
      "execution_count": 31,
      "metadata": {
        "id": "EU1E3VujirQx"
      },
      "outputs": [],
      "source": [
        "dropout = 0.3"
      ]
    },
    {
      "cell_type": "code",
      "execution_count": 32,
      "metadata": {
        "id": "00wjB4suirQz"
      },
      "outputs": [],
      "source": [
        "#filters_ffnn = [128,64,32]\n",
        "\n",
        "#ff_model = Sequential()\n",
        "#ff_model.add(Input(shape=(attributes,)))\n",
        "#for layer in filters_ffnn:\n",
        "#    ff_model.add(Dense(layer, activation=\"relu\"))\n",
        "    #ff_model.add(BatchNormalization())\n",
        "    #ff_model.add(Dropout(dropout))\n",
        "\n",
        "filters_ffnn = [1024,512,256,128,64,32,16] #CAMBIO\n",
        "\n",
        "ff_inputs = Input(shape = (attributes,))\n",
        "\n",
        "# * INCIO RAMA 1\n",
        "mlp_1 = Dense(1024, activation='relu')(ff_inputs)\n",
        "#mlp_1 = BatchNormalization()(mlp_1)\n",
        "mlp_1 = Dropout(dropout)(mlp_1)\n",
        "\n",
        "mlp_1 = Dense(512, activation='relu')(mlp_1)\n",
        "#mlp_1 = BatchNormalization()(mlp_1)\n",
        "mlp_1 = Dropout(dropout)(mlp_1)\n",
        "\n",
        "mlp_1 = Dense(256, activation='relu')(mlp_1)\n",
        "#mlp_1 = BatchNormalization()(mlp_1)\n",
        "mlp_1 = Dropout(dropout)(mlp_1)\n",
        "\n",
        "mlp_1 = Dense(128, activation='relu')(mlp_1)\n",
        "#mlp_1 = BatchNormalization()(mlp_1)\n",
        "mlp_1 = Dropout(dropout)(mlp_1)\n",
        "\n",
        "mlp_1 = Dense(64, activation='relu')(mlp_1)\n",
        "#mlp_1 = BatchNormalization()(mlp_1)\n",
        "mlp_1 = Dropout(dropout)(mlp_1)\n",
        "\n",
        "mlp_1 = Dense(32, activation='relu')(mlp_1)\n",
        "#mlp_1 = BatchNormalization()(mlp_1)\n",
        "mlp_1 = Dropout(dropout)(mlp_1)\n",
        "\n",
        "mlp_1 = Dense(16, activation='relu')(mlp_1)\n",
        "mlp_1 = BatchNormalization()(mlp_1)\n",
        "mlp_1 = Dropout(dropout)(mlp_1)\n",
        "\n",
        "# * INICIO RAMA 2\n",
        "mlp_2 = Dense(1024, activation='relu')(ff_inputs)\n",
        "mlp_2 = BatchNormalization()(mlp_2)\n",
        "mlp_2 = Dropout(dropout)(mlp_2)\n",
        "\n",
        "mlp_2 = Dense(512, activation='relu')(mlp_2)\n",
        "#mlp_2 = BatchNormalization()(mlp_2)\n",
        "mlp_2 = Dropout(dropout)(mlp_2)\n",
        "\n",
        "mlp_2 = Dense(256, activation='relu')(mlp_2)\n",
        "#mlp_2 = BatchNormalization()(mlp_2)\n",
        "mlp_2 = Dropout(dropout)(mlp_2)\n",
        "\n",
        "mlp_2 = Dense(128, activation='relu')(mlp_2)\n",
        "#mlp_2 = BatchNormalization()(mlp_2)\n",
        "mlp_2 = Dropout(dropout)(mlp_2)\n",
        "\n",
        "mlp_2 = Dense(64, activation='relu')(mlp_2)\n",
        "#mlp_2 = BatchNormalization()(mlp_2)\n",
        "mlp_2 = Dropout(dropout)(mlp_2)\n",
        "\n",
        "mlp_2 = Dense(32, activation='relu')(mlp_2)\n",
        "#mlp_2 = BatchNormalization()(mlp_2)\n",
        "mlp_2 = Dropout(dropout)(mlp_2)\n",
        "\n",
        "mlp_2 = Dense(16, activation='relu')(mlp_2)\n",
        "#mlp_2 = BatchNormalization()(mlp_2)\n",
        "mlp_2 = Dropout(dropout)(mlp_2)\n",
        "\n",
        "merged_tabular = Concatenate(axis=1)([mlp_1, mlp_2])\n",
        "\n",
        "ff_model = Model(inputs = ff_inputs, outputs = merged_tabular)"
      ]
    },
    {
      "cell_type": "markdown",
      "metadata": {
        "id": "_0cUvrArirQ0"
      },
      "source": [
        "---\n",
        "<a id=\"section52\"></a>\n",
        "# <font color=\"#004D7F\" size=5> 5.2. CNN for TINTOlib images</font>\n",
        "\n",
        "This is an example of a simple CNN for TINTOlib images. Note that we are not looking for the optimization of the CNN but to show an example of TINTOlib execution."
      ]
    },
    {
      "cell_type": "markdown",
      "metadata": {},
      "source": [
        "NUEVO"
      ]
    },
    {
      "cell_type": "code",
      "execution_count": 33,
      "metadata": {},
      "outputs": [],
      "source": [
        "input_shape = Input(shape=(pixels, pixels, 3))\n",
        "\n",
        "#Inicio de rama 1\n",
        "tower_1 = Conv2D(16, (3,3), activation='relu',padding=\"same\")(input_shape)\n",
        "#tower_1 = BatchNormalization()(tower_1)\n",
        "tower_1 = Activation('relu')(tower_1)\n",
        "tower_1 = MaxPooling2D(2,2)(tower_1)\n",
        "tower_1 = Dropout(dropout)(tower_1)\n",
        "\n",
        "tower_1 = Conv2D(32, (3,3), activation='relu',padding=\"same\")(tower_1)\n",
        "#tower_1 = BatchNormalization()(tower_1)\n",
        "tower_1 = Activation('relu')(tower_1)\n",
        "tower_1 = MaxPooling2D(2,2)(tower_1)\n",
        "tower_1 = Dropout(dropout)(tower_1)\n",
        "\n",
        "tower_1 = Conv2D(64, (3,3), activation='relu',padding=\"same\")(tower_1)\n",
        "#tower_1 = BatchNormalization()(tower_1)\n",
        "tower_1 = Activation('relu')(tower_1)\n",
        "tower_1 = MaxPooling2D(2,2)(tower_1)\n",
        "tower_1 = Dropout(dropout)(tower_1)\n",
        "\n",
        "tower_1 = Conv2D(64, (3,3), activation='relu',padding=\"same\")(tower_1)\n",
        "#tower_1 = BatchNormalization()(tower_1)\n",
        "tower_1 = Activation('relu')(tower_1)\n",
        "tower_1 = MaxPooling2D(2,2)(tower_1)\n",
        "tower_1 = Dropout(dropout)(tower_1)\n",
        "#Fin de rama 1\n",
        "\n",
        "#Inicio de rama 2\n",
        "tower_2 = Conv2D(16, (5,5), activation='relu',padding=\"same\")(input_shape)\n",
        "#tower_2 = BatchNormalization()(tower_2)\n",
        "tower_2 = Activation('relu')(tower_2)\n",
        "tower_2 = AveragePooling2D(2,2)(tower_2)\n",
        "tower_2 = Dropout(dropout)(tower_2)\n",
        "\n",
        "tower_2 = Conv2D(32, (5,5), activation='relu',padding=\"same\")(tower_2)\n",
        "#tower_2 = BatchNormalization()(tower_2)\n",
        "tower_2 = Activation('relu')(tower_2)\n",
        "tower_2 = AveragePooling2D(2,2)(tower_2)\n",
        "tower_2 = Dropout(dropout)(tower_2)\n",
        "\n",
        "tower_2 = Conv2D(64, (5,5), activation='relu',padding=\"same\")(tower_2)\n",
        "#tower_2 = BatchNormalization()(tower_2)\n",
        "tower_2 = Activation('relu')(tower_2)\n",
        "tower_2 = AveragePooling2D(2,2)(tower_2)\n",
        "tower_2 = Dropout(dropout)(tower_2)\n",
        "\n",
        "tower_2 = Conv2D(64, (5,5), activation='relu',padding=\"same\")(tower_2)\n",
        "#tower_2 = BatchNormalization()(tower_2)\n",
        "tower_2 = Activation('relu')(tower_2)\n",
        "tower_2 = AveragePooling2D(2,2)(tower_2)\n",
        "tower_2 = Dropout(dropout)(tower_2)\n",
        "#Fin de rama 2\n",
        "\n",
        "#Concatenación de las 2 ramas\n",
        "merged = Concatenate(axis=1)([tower_1, tower_2])\n",
        "\n",
        "#Aplanamiento\n",
        "merged = Flatten()(merged)\n",
        "\n",
        "#Capas adicionales\n",
        "out = Dense(512, activation='relu')(merged)\n",
        "out = Dropout(dropout)(merged)\n",
        "out = Dense(256, activation='sigmoid')(out)\n",
        "out = Dropout(dropout)(out)\n",
        "out = Dense(128, activation='sigmoid')(out)\n",
        "out = Dropout(dropout)(out)\n",
        "out = Dense(64, activation='sigmoid')(out)\n",
        "out = Dropout(dropout)(out)\n",
        "out = Dense(32, activation='sigmoid')(out)\n",
        "out = Dropout(dropout)(out)\n",
        "\n",
        "#Capa final de clasificación\n",
        "#out = Dense(n_class, activation='softmax')(out)\n",
        "\n",
        "cnn_model = Model(input_shape, out)"
      ]
    },
    {
      "cell_type": "markdown",
      "metadata": {
        "id": "CjP2zh9XirQ3"
      },
      "source": [
        "---\n",
        "<a id=\"section53\"></a>\n",
        "# <font color=\"#004D7F\" size=5> 5.3. Concatenate branches</font>\n",
        "\n",
        "Finally, we must concatenate the output of the CNN branch with the output of the FFNN branch in a final FFNN that will give the predictions."
      ]
    },
    {
      "cell_type": "code",
      "execution_count": 34,
      "metadata": {
        "id": "6IlnT88OirQ4"
      },
      "outputs": [],
      "source": [
        "combinedInput = concatenate([ff_model.output, cnn_model.output])\n",
        "x = Dense(128, activation=\"relu\")(combinedInput)\n",
        "#x = BatchNormalization()(x)\n",
        "x = Dropout(dropout)(x)\n",
        "x = Dense(64, activation=\"relu\")(x)\n",
        "#x = BatchNormalization()(x)\n",
        "x = Dropout(dropout)(x)\n",
        "x = Dense(32, activation=\"relu\")(x)\n",
        "#x = BatchNormalization()(x)\n",
        "x = Dropout(dropout)(x)\n",
        "x = Dense(n_class, activation=\"softmax\")(x)\n",
        "\n",
        "model = Model(inputs=[ff_model.input, cnn_model.input], outputs=x)"
      ]
    },
    {
      "cell_type": "markdown",
      "metadata": {
        "id": "zQ3iSfjeirQ6"
      },
      "source": [
        "---\n",
        "<a id=\"section54\"></a>\n",
        "# <font color=\"#004D7F\" size=5> 5.4. Metrics</font>\n",
        "\n",
        "Define metrics and some hyperparameters"
      ]
    },
    {
      "cell_type": "code",
      "execution_count": 35,
      "metadata": {
        "id": "kBKDQTogirQ7"
      },
      "outputs": [],
      "source": [
        "METRICS = [\n",
        "    #tf.keras.metrics.TruePositives(name = 'tp'),\n",
        "    #tf.keras.metrics.FalsePositives(name = 'fp'),\n",
        "    #tf.keras.metrics.TrueNegatives(name = 'tn'),\n",
        "    #tf.keras.metrics.FalseNegatives(name = 'fn'),\n",
        "    tf.keras.metrics.CategoricalAccuracy(name ='accuracy'),\n",
        "    tf.keras.metrics.Precision(name = 'precision'),\n",
        "    tf.keras.metrics.Recall(name = 'recall'),\n",
        "    tf.keras.metrics.AUC(name = 'auc')\n",
        "]"
      ]
    },
    {
      "cell_type": "markdown",
      "metadata": {
        "id": "WX8NZIJfirQ9"
      },
      "source": [
        "Print the model"
      ]
    },
    {
      "cell_type": "code",
      "execution_count": 36,
      "metadata": {
        "id": "Vi7IC1ZRirQ-"
      },
      "outputs": [],
      "source": [
        "#from keras.utils import plot_model\n",
        "#model.summary()\n",
        "#plot_model(model)"
      ]
    },
    {
      "cell_type": "markdown",
      "metadata": {
        "id": "p3L8stWEirQ_"
      },
      "source": [
        "---\n",
        "<a id=\"section55\"></a>\n",
        "# <font color=\"#004D7F\" size=5> 5.5. Compile and fit</font>\n",
        "\n",
        "Note to specify the **loss depending** on whether you have a binary or multiclass classification problem."
      ]
    },
    {
      "cell_type": "code",
      "execution_count": 37,
      "metadata": {
        "id": "QMD6JdBDirRB"
      },
      "outputs": [
        {
          "name": "stderr",
          "output_type": "stream",
          "text": [
            "WARNING:absl:At this time, the v2.11+ optimizer `tf.keras.optimizers.Adam` runs slowly on M1/M2 Macs, please use the legacy Keras optimizer instead, located at `tf.keras.optimizers.legacy.Adam`.\n"
          ]
        }
      ],
      "source": [
        "#HYPERPARAMETERS\n",
        "opt = tf.keras.optimizers.Adam()\n",
        "#opt=SGD(learning_rate=1e-4, momentum=0.9)"
      ]
    },
    {
      "cell_type": "code",
      "execution_count": 38,
      "metadata": {
        "id": "7AqBg019irRC"
      },
      "outputs": [],
      "source": [
        "model.compile(\n",
        "    loss=\"categorical_crossentropy\",\n",
        "    optimizer=opt,\n",
        "    metrics = METRICS\n",
        ")\n",
        "epochs = 100"
      ]
    },
    {
      "cell_type": "code",
      "execution_count": 39,
      "metadata": {
        "colab": {
          "base_uri": "https://localhost:8080/"
        },
        "id": "d3u1-zZbirRD",
        "outputId": "6a22b0fe-267c-4684-8dcd-52b1ad0bc8a9",
        "scrolled": true
      },
      "outputs": [
        {
          "name": "stdout",
          "output_type": "stream",
          "text": [
            "Epoch 1/100\n"
          ]
        },
        {
          "name": "stderr",
          "output_type": "stream",
          "text": [
            "2024-02-02 17:29:16.178057: E tensorflow/core/grappler/optimizers/meta_optimizer.cc:961] model_pruner failed: INVALID_ARGUMENT: Graph does not contain terminal node Adam/AssignAddVariableOp.\n"
          ]
        },
        {
          "name": "stdout",
          "output_type": "stream",
          "text": [
            "120/120 [==============================] - 11s 63ms/step - loss: 1624.3545 - accuracy: 0.2054 - precision: 0.2044 - recall: 0.2023 - auc: 0.5265 - val_loss: 506.0440 - val_accuracy: 0.2750 - val_precision: 0.2750 - val_recall: 0.2750 - val_auc: 0.5674\n",
            "Epoch 2/100\n",
            "120/120 [==============================] - 6s 46ms/step - loss: 905435968.0000 - accuracy: 0.2054 - precision: 0.2054 - recall: 0.2054 - auc: 0.5233 - val_loss: 1056849024.0000 - val_accuracy: 0.2937 - val_precision: 0.2937 - val_recall: 0.2937 - val_auc: 0.5763\n",
            "Epoch 3/100\n",
            "120/120 [==============================] - 5s 45ms/step - loss: 1530183811072.0000 - accuracy: 0.2669 - precision: 0.2669 - recall: 0.2669 - auc: 0.5602 - val_loss: 3189300264960.0000 - val_accuracy: 0.0375 - val_precision: 0.0375 - val_recall: 0.0375 - val_auc: 0.4225\n",
            "Epoch 4/100\n",
            "120/120 [==============================] - 6s 46ms/step - loss: 113863726989312.0000 - accuracy: 0.2263 - precision: 0.2263 - recall: 0.2263 - auc: 0.5358 - val_loss: 299587256451072.0000 - val_accuracy: 0.2250 - val_precision: 0.2250 - val_recall: 0.2250 - val_auc: 0.5350\n",
            "Epoch 5/100\n",
            "120/120 [==============================] - 5s 46ms/step - loss: 2690856603615232.0000 - accuracy: 0.2325 - precision: 0.2325 - recall: 0.2325 - auc: 0.5395 - val_loss: 4510791013236736.0000 - val_accuracy: 0.3031 - val_precision: 0.3031 - val_recall: 0.3031 - val_auc: 0.5819\n",
            "Epoch 6/100\n",
            "120/120 [==============================] - 6s 46ms/step - loss: 25038639280947200.0000 - accuracy: 0.2357 - precision: 0.2357 - recall: 0.2357 - auc: 0.5414 - val_loss: 64971336086192128.0000 - val_accuracy: 0.0375 - val_precision: 0.0375 - val_recall: 0.0375 - val_auc: 0.4225\n",
            "Epoch 7/100\n",
            " 89/120 [=====================>........] - ETA: 1s - loss: 113598363106017280.0000 - accuracy: 0.2346 - precision: 0.2346 - recall: 0.2346 - auc: 0.5407"
          ]
        },
        {
          "ename": "KeyboardInterrupt",
          "evalue": "",
          "output_type": "error",
          "traceback": [
            "\u001b[0;31m---------------------------------------------------------------------------\u001b[0m",
            "\u001b[0;31mKeyboardInterrupt\u001b[0m                         Traceback (most recent call last)",
            "Cell \u001b[0;32mIn[39], line 3\u001b[0m\n\u001b[1;32m      1\u001b[0m early_stopping \u001b[38;5;241m=\u001b[39m tf\u001b[38;5;241m.\u001b[39mkeras\u001b[38;5;241m.\u001b[39mcallbacks\u001b[38;5;241m.\u001b[39mEarlyStopping(monitor\u001b[38;5;241m=\u001b[39m\u001b[38;5;124m'\u001b[39m\u001b[38;5;124mval_accuracy\u001b[39m\u001b[38;5;124m'\u001b[39m, patience\u001b[38;5;241m=\u001b[39m\u001b[38;5;241m5\u001b[39m, mode\u001b[38;5;241m=\u001b[39m\u001b[38;5;124m\"\u001b[39m\u001b[38;5;124mmax\u001b[39m\u001b[38;5;124m\"\u001b[39m ,restore_best_weights\u001b[38;5;241m=\u001b[39m\u001b[38;5;28;01mTrue\u001b[39;00m)\n\u001b[0;32m----> 3\u001b[0m model_history\u001b[38;5;241m=\u001b[39m\u001b[43mmodel\u001b[49m\u001b[38;5;241;43m.\u001b[39;49m\u001b[43mfit\u001b[49m\u001b[43m(\u001b[49m\n\u001b[1;32m      4\u001b[0m \u001b[43m    \u001b[49m\u001b[43mx\u001b[49m\u001b[38;5;241;43m=\u001b[39;49m\u001b[43m[\u001b[49m\u001b[43mX_train_num\u001b[49m\u001b[43m,\u001b[49m\u001b[43m \u001b[49m\u001b[43mX_train_img\u001b[49m\u001b[43m]\u001b[49m\u001b[43m,\u001b[49m\u001b[43m \u001b[49m\u001b[43my\u001b[49m\u001b[38;5;241;43m=\u001b[39;49m\u001b[43my_train_oh\u001b[49m\u001b[43m,\u001b[49m\n\u001b[1;32m      5\u001b[0m \u001b[43m    \u001b[49m\u001b[43mvalidation_data\u001b[49m\u001b[38;5;241;43m=\u001b[39;49m\u001b[43m(\u001b[49m\u001b[43m[\u001b[49m\u001b[43mX_val_num\u001b[49m\u001b[43m,\u001b[49m\u001b[43m \u001b[49m\u001b[43mX_val_img\u001b[49m\u001b[43m]\u001b[49m\u001b[43m,\u001b[49m\u001b[43m \u001b[49m\u001b[43my_val_oh\u001b[49m\u001b[43m)\u001b[49m\u001b[43m,\u001b[49m\n\u001b[1;32m      6\u001b[0m \u001b[43m    \u001b[49m\u001b[43mepochs\u001b[49m\u001b[38;5;241;43m=\u001b[39;49m\u001b[43mepochs\u001b[49m\u001b[43m \u001b[49m\u001b[43m,\u001b[49m\n\u001b[1;32m      7\u001b[0m \u001b[43m    \u001b[49m\u001b[43mbatch_size\u001b[49m\u001b[38;5;241;43m=\u001b[39;49m\u001b[38;5;241;43m8\u001b[39;49m\u001b[43m,\u001b[49m\n\u001b[1;32m      8\u001b[0m \u001b[43m    \u001b[49m\u001b[43mcallbacks\u001b[49m\u001b[38;5;241;43m=\u001b[39;49m\u001b[43m[\u001b[49m\u001b[43mearly_stopping\u001b[49m\u001b[43m]\u001b[49m\n\u001b[1;32m      9\u001b[0m \u001b[43m)\u001b[49m\n",
            "File \u001b[0;32m~/Library/Python/3.9/lib/python/site-packages/keras/src/utils/traceback_utils.py:65\u001b[0m, in \u001b[0;36mfilter_traceback.<locals>.error_handler\u001b[0;34m(*args, **kwargs)\u001b[0m\n\u001b[1;32m     63\u001b[0m filtered_tb \u001b[38;5;241m=\u001b[39m \u001b[38;5;28;01mNone\u001b[39;00m\n\u001b[1;32m     64\u001b[0m \u001b[38;5;28;01mtry\u001b[39;00m:\n\u001b[0;32m---> 65\u001b[0m     \u001b[38;5;28;01mreturn\u001b[39;00m \u001b[43mfn\u001b[49m\u001b[43m(\u001b[49m\u001b[38;5;241;43m*\u001b[39;49m\u001b[43margs\u001b[49m\u001b[43m,\u001b[49m\u001b[43m \u001b[49m\u001b[38;5;241;43m*\u001b[39;49m\u001b[38;5;241;43m*\u001b[39;49m\u001b[43mkwargs\u001b[49m\u001b[43m)\u001b[49m\n\u001b[1;32m     66\u001b[0m \u001b[38;5;28;01mexcept\u001b[39;00m \u001b[38;5;167;01mException\u001b[39;00m \u001b[38;5;28;01mas\u001b[39;00m e:\n\u001b[1;32m     67\u001b[0m     filtered_tb \u001b[38;5;241m=\u001b[39m _process_traceback_frames(e\u001b[38;5;241m.\u001b[39m__traceback__)\n",
            "File \u001b[0;32m~/Library/Python/3.9/lib/python/site-packages/keras/src/engine/training.py:1807\u001b[0m, in \u001b[0;36mModel.fit\u001b[0;34m(self, x, y, batch_size, epochs, verbose, callbacks, validation_split, validation_data, shuffle, class_weight, sample_weight, initial_epoch, steps_per_epoch, validation_steps, validation_batch_size, validation_freq, max_queue_size, workers, use_multiprocessing)\u001b[0m\n\u001b[1;32m   1799\u001b[0m \u001b[38;5;28;01mwith\u001b[39;00m tf\u001b[38;5;241m.\u001b[39mprofiler\u001b[38;5;241m.\u001b[39mexperimental\u001b[38;5;241m.\u001b[39mTrace(\n\u001b[1;32m   1800\u001b[0m     \u001b[38;5;124m\"\u001b[39m\u001b[38;5;124mtrain\u001b[39m\u001b[38;5;124m\"\u001b[39m,\n\u001b[1;32m   1801\u001b[0m     epoch_num\u001b[38;5;241m=\u001b[39mepoch,\n\u001b[0;32m   (...)\u001b[0m\n\u001b[1;32m   1804\u001b[0m     _r\u001b[38;5;241m=\u001b[39m\u001b[38;5;241m1\u001b[39m,\n\u001b[1;32m   1805\u001b[0m ):\n\u001b[1;32m   1806\u001b[0m     callbacks\u001b[38;5;241m.\u001b[39mon_train_batch_begin(step)\n\u001b[0;32m-> 1807\u001b[0m     tmp_logs \u001b[38;5;241m=\u001b[39m \u001b[38;5;28;43mself\u001b[39;49m\u001b[38;5;241;43m.\u001b[39;49m\u001b[43mtrain_function\u001b[49m\u001b[43m(\u001b[49m\u001b[43miterator\u001b[49m\u001b[43m)\u001b[49m\n\u001b[1;32m   1808\u001b[0m     \u001b[38;5;28;01mif\u001b[39;00m data_handler\u001b[38;5;241m.\u001b[39mshould_sync:\n\u001b[1;32m   1809\u001b[0m         context\u001b[38;5;241m.\u001b[39masync_wait()\n",
            "File \u001b[0;32m~/Library/Python/3.9/lib/python/site-packages/tensorflow/python/util/traceback_utils.py:150\u001b[0m, in \u001b[0;36mfilter_traceback.<locals>.error_handler\u001b[0;34m(*args, **kwargs)\u001b[0m\n\u001b[1;32m    148\u001b[0m filtered_tb \u001b[38;5;241m=\u001b[39m \u001b[38;5;28;01mNone\u001b[39;00m\n\u001b[1;32m    149\u001b[0m \u001b[38;5;28;01mtry\u001b[39;00m:\n\u001b[0;32m--> 150\u001b[0m   \u001b[38;5;28;01mreturn\u001b[39;00m \u001b[43mfn\u001b[49m\u001b[43m(\u001b[49m\u001b[38;5;241;43m*\u001b[39;49m\u001b[43margs\u001b[49m\u001b[43m,\u001b[49m\u001b[43m \u001b[49m\u001b[38;5;241;43m*\u001b[39;49m\u001b[38;5;241;43m*\u001b[39;49m\u001b[43mkwargs\u001b[49m\u001b[43m)\u001b[49m\n\u001b[1;32m    151\u001b[0m \u001b[38;5;28;01mexcept\u001b[39;00m \u001b[38;5;167;01mException\u001b[39;00m \u001b[38;5;28;01mas\u001b[39;00m e:\n\u001b[1;32m    152\u001b[0m   filtered_tb \u001b[38;5;241m=\u001b[39m _process_traceback_frames(e\u001b[38;5;241m.\u001b[39m__traceback__)\n",
            "File \u001b[0;32m~/Library/Python/3.9/lib/python/site-packages/tensorflow/python/eager/polymorphic_function/polymorphic_function.py:832\u001b[0m, in \u001b[0;36mFunction.__call__\u001b[0;34m(self, *args, **kwds)\u001b[0m\n\u001b[1;32m    829\u001b[0m compiler \u001b[38;5;241m=\u001b[39m \u001b[38;5;124m\"\u001b[39m\u001b[38;5;124mxla\u001b[39m\u001b[38;5;124m\"\u001b[39m \u001b[38;5;28;01mif\u001b[39;00m \u001b[38;5;28mself\u001b[39m\u001b[38;5;241m.\u001b[39m_jit_compile \u001b[38;5;28;01melse\u001b[39;00m \u001b[38;5;124m\"\u001b[39m\u001b[38;5;124mnonXla\u001b[39m\u001b[38;5;124m\"\u001b[39m\n\u001b[1;32m    831\u001b[0m \u001b[38;5;28;01mwith\u001b[39;00m OptionalXlaContext(\u001b[38;5;28mself\u001b[39m\u001b[38;5;241m.\u001b[39m_jit_compile):\n\u001b[0;32m--> 832\u001b[0m   result \u001b[38;5;241m=\u001b[39m \u001b[38;5;28;43mself\u001b[39;49m\u001b[38;5;241;43m.\u001b[39;49m\u001b[43m_call\u001b[49m\u001b[43m(\u001b[49m\u001b[38;5;241;43m*\u001b[39;49m\u001b[43margs\u001b[49m\u001b[43m,\u001b[49m\u001b[43m \u001b[49m\u001b[38;5;241;43m*\u001b[39;49m\u001b[38;5;241;43m*\u001b[39;49m\u001b[43mkwds\u001b[49m\u001b[43m)\u001b[49m\n\u001b[1;32m    834\u001b[0m new_tracing_count \u001b[38;5;241m=\u001b[39m \u001b[38;5;28mself\u001b[39m\u001b[38;5;241m.\u001b[39mexperimental_get_tracing_count()\n\u001b[1;32m    835\u001b[0m without_tracing \u001b[38;5;241m=\u001b[39m (tracing_count \u001b[38;5;241m==\u001b[39m new_tracing_count)\n",
            "File \u001b[0;32m~/Library/Python/3.9/lib/python/site-packages/tensorflow/python/eager/polymorphic_function/polymorphic_function.py:868\u001b[0m, in \u001b[0;36mFunction._call\u001b[0;34m(self, *args, **kwds)\u001b[0m\n\u001b[1;32m    865\u001b[0m   \u001b[38;5;28mself\u001b[39m\u001b[38;5;241m.\u001b[39m_lock\u001b[38;5;241m.\u001b[39mrelease()\n\u001b[1;32m    866\u001b[0m   \u001b[38;5;66;03m# In this case we have created variables on the first call, so we run the\u001b[39;00m\n\u001b[1;32m    867\u001b[0m   \u001b[38;5;66;03m# defunned version which is guaranteed to never create variables.\u001b[39;00m\n\u001b[0;32m--> 868\u001b[0m   \u001b[38;5;28;01mreturn\u001b[39;00m \u001b[43mtracing_compilation\u001b[49m\u001b[38;5;241;43m.\u001b[39;49m\u001b[43mcall_function\u001b[49m\u001b[43m(\u001b[49m\n\u001b[1;32m    869\u001b[0m \u001b[43m      \u001b[49m\u001b[43margs\u001b[49m\u001b[43m,\u001b[49m\u001b[43m \u001b[49m\u001b[43mkwds\u001b[49m\u001b[43m,\u001b[49m\u001b[43m \u001b[49m\u001b[38;5;28;43mself\u001b[39;49m\u001b[38;5;241;43m.\u001b[39;49m\u001b[43m_no_variable_creation_config\u001b[49m\n\u001b[1;32m    870\u001b[0m \u001b[43m  \u001b[49m\u001b[43m)\u001b[49m\n\u001b[1;32m    871\u001b[0m \u001b[38;5;28;01melif\u001b[39;00m \u001b[38;5;28mself\u001b[39m\u001b[38;5;241m.\u001b[39m_variable_creation_config \u001b[38;5;129;01mis\u001b[39;00m \u001b[38;5;129;01mnot\u001b[39;00m \u001b[38;5;28;01mNone\u001b[39;00m:\n\u001b[1;32m    872\u001b[0m   \u001b[38;5;66;03m# Release the lock early so that multiple threads can perform the call\u001b[39;00m\n\u001b[1;32m    873\u001b[0m   \u001b[38;5;66;03m# in parallel.\u001b[39;00m\n\u001b[1;32m    874\u001b[0m   \u001b[38;5;28mself\u001b[39m\u001b[38;5;241m.\u001b[39m_lock\u001b[38;5;241m.\u001b[39mrelease()\n",
            "File \u001b[0;32m~/Library/Python/3.9/lib/python/site-packages/tensorflow/python/eager/polymorphic_function/tracing_compilation.py:139\u001b[0m, in \u001b[0;36mcall_function\u001b[0;34m(args, kwargs, tracing_options)\u001b[0m\n\u001b[1;32m    137\u001b[0m bound_args \u001b[38;5;241m=\u001b[39m function\u001b[38;5;241m.\u001b[39mfunction_type\u001b[38;5;241m.\u001b[39mbind(\u001b[38;5;241m*\u001b[39margs, \u001b[38;5;241m*\u001b[39m\u001b[38;5;241m*\u001b[39mkwargs)\n\u001b[1;32m    138\u001b[0m flat_inputs \u001b[38;5;241m=\u001b[39m function\u001b[38;5;241m.\u001b[39mfunction_type\u001b[38;5;241m.\u001b[39munpack_inputs(bound_args)\n\u001b[0;32m--> 139\u001b[0m \u001b[38;5;28;01mreturn\u001b[39;00m \u001b[43mfunction\u001b[49m\u001b[38;5;241;43m.\u001b[39;49m\u001b[43m_call_flat\u001b[49m\u001b[43m(\u001b[49m\u001b[43m  \u001b[49m\u001b[38;5;66;43;03m# pylint: disable=protected-access\u001b[39;49;00m\n\u001b[1;32m    140\u001b[0m \u001b[43m    \u001b[49m\u001b[43mflat_inputs\u001b[49m\u001b[43m,\u001b[49m\u001b[43m \u001b[49m\u001b[43mcaptured_inputs\u001b[49m\u001b[38;5;241;43m=\u001b[39;49m\u001b[43mfunction\u001b[49m\u001b[38;5;241;43m.\u001b[39;49m\u001b[43mcaptured_inputs\u001b[49m\n\u001b[1;32m    141\u001b[0m \u001b[43m\u001b[49m\u001b[43m)\u001b[49m\n",
            "File \u001b[0;32m~/Library/Python/3.9/lib/python/site-packages/tensorflow/python/eager/polymorphic_function/concrete_function.py:1323\u001b[0m, in \u001b[0;36mConcreteFunction._call_flat\u001b[0;34m(self, tensor_inputs, captured_inputs)\u001b[0m\n\u001b[1;32m   1319\u001b[0m possible_gradient_type \u001b[38;5;241m=\u001b[39m gradients_util\u001b[38;5;241m.\u001b[39mPossibleTapeGradientTypes(args)\n\u001b[1;32m   1320\u001b[0m \u001b[38;5;28;01mif\u001b[39;00m (possible_gradient_type \u001b[38;5;241m==\u001b[39m gradients_util\u001b[38;5;241m.\u001b[39mPOSSIBLE_GRADIENT_TYPES_NONE\n\u001b[1;32m   1321\u001b[0m     \u001b[38;5;129;01mand\u001b[39;00m executing_eagerly):\n\u001b[1;32m   1322\u001b[0m   \u001b[38;5;66;03m# No tape is watching; skip to running the function.\u001b[39;00m\n\u001b[0;32m-> 1323\u001b[0m   \u001b[38;5;28;01mreturn\u001b[39;00m \u001b[38;5;28;43mself\u001b[39;49m\u001b[38;5;241;43m.\u001b[39;49m\u001b[43m_inference_function\u001b[49m\u001b[38;5;241;43m.\u001b[39;49m\u001b[43mcall_preflattened\u001b[49m\u001b[43m(\u001b[49m\u001b[43margs\u001b[49m\u001b[43m)\u001b[49m\n\u001b[1;32m   1324\u001b[0m forward_backward \u001b[38;5;241m=\u001b[39m \u001b[38;5;28mself\u001b[39m\u001b[38;5;241m.\u001b[39m_select_forward_and_backward_functions(\n\u001b[1;32m   1325\u001b[0m     args,\n\u001b[1;32m   1326\u001b[0m     possible_gradient_type,\n\u001b[1;32m   1327\u001b[0m     executing_eagerly)\n\u001b[1;32m   1328\u001b[0m forward_function, args_with_tangents \u001b[38;5;241m=\u001b[39m forward_backward\u001b[38;5;241m.\u001b[39mforward()\n",
            "File \u001b[0;32m~/Library/Python/3.9/lib/python/site-packages/tensorflow/python/eager/polymorphic_function/atomic_function.py:216\u001b[0m, in \u001b[0;36mAtomicFunction.call_preflattened\u001b[0;34m(self, args)\u001b[0m\n\u001b[1;32m    214\u001b[0m \u001b[38;5;28;01mdef\u001b[39;00m \u001b[38;5;21mcall_preflattened\u001b[39m(\u001b[38;5;28mself\u001b[39m, args: Sequence[core\u001b[38;5;241m.\u001b[39mTensor]) \u001b[38;5;241m-\u001b[39m\u001b[38;5;241m>\u001b[39m Any:\n\u001b[1;32m    215\u001b[0m \u001b[38;5;250m  \u001b[39m\u001b[38;5;124;03m\"\"\"Calls with flattened tensor inputs and returns the structured output.\"\"\"\u001b[39;00m\n\u001b[0;32m--> 216\u001b[0m   flat_outputs \u001b[38;5;241m=\u001b[39m \u001b[38;5;28;43mself\u001b[39;49m\u001b[38;5;241;43m.\u001b[39;49m\u001b[43mcall_flat\u001b[49m\u001b[43m(\u001b[49m\u001b[38;5;241;43m*\u001b[39;49m\u001b[43margs\u001b[49m\u001b[43m)\u001b[49m\n\u001b[1;32m    217\u001b[0m   \u001b[38;5;28;01mreturn\u001b[39;00m \u001b[38;5;28mself\u001b[39m\u001b[38;5;241m.\u001b[39mfunction_type\u001b[38;5;241m.\u001b[39mpack_output(flat_outputs)\n",
            "File \u001b[0;32m~/Library/Python/3.9/lib/python/site-packages/tensorflow/python/eager/polymorphic_function/atomic_function.py:251\u001b[0m, in \u001b[0;36mAtomicFunction.call_flat\u001b[0;34m(self, *args)\u001b[0m\n\u001b[1;32m    249\u001b[0m \u001b[38;5;28;01mwith\u001b[39;00m record\u001b[38;5;241m.\u001b[39mstop_recording():\n\u001b[1;32m    250\u001b[0m   \u001b[38;5;28;01mif\u001b[39;00m \u001b[38;5;28mself\u001b[39m\u001b[38;5;241m.\u001b[39m_bound_context\u001b[38;5;241m.\u001b[39mexecuting_eagerly():\n\u001b[0;32m--> 251\u001b[0m     outputs \u001b[38;5;241m=\u001b[39m \u001b[38;5;28;43mself\u001b[39;49m\u001b[38;5;241;43m.\u001b[39;49m\u001b[43m_bound_context\u001b[49m\u001b[38;5;241;43m.\u001b[39;49m\u001b[43mcall_function\u001b[49m\u001b[43m(\u001b[49m\n\u001b[1;32m    252\u001b[0m \u001b[43m        \u001b[49m\u001b[38;5;28;43mself\u001b[39;49m\u001b[38;5;241;43m.\u001b[39;49m\u001b[43mname\u001b[49m\u001b[43m,\u001b[49m\n\u001b[1;32m    253\u001b[0m \u001b[43m        \u001b[49m\u001b[38;5;28;43mlist\u001b[39;49m\u001b[43m(\u001b[49m\u001b[43margs\u001b[49m\u001b[43m)\u001b[49m\u001b[43m,\u001b[49m\n\u001b[1;32m    254\u001b[0m \u001b[43m        \u001b[49m\u001b[38;5;28;43mlen\u001b[39;49m\u001b[43m(\u001b[49m\u001b[38;5;28;43mself\u001b[39;49m\u001b[38;5;241;43m.\u001b[39;49m\u001b[43mfunction_type\u001b[49m\u001b[38;5;241;43m.\u001b[39;49m\u001b[43mflat_outputs\u001b[49m\u001b[43m)\u001b[49m\u001b[43m,\u001b[49m\n\u001b[1;32m    255\u001b[0m \u001b[43m    \u001b[49m\u001b[43m)\u001b[49m\n\u001b[1;32m    256\u001b[0m   \u001b[38;5;28;01melse\u001b[39;00m:\n\u001b[1;32m    257\u001b[0m     outputs \u001b[38;5;241m=\u001b[39m make_call_op_in_graph(\n\u001b[1;32m    258\u001b[0m         \u001b[38;5;28mself\u001b[39m,\n\u001b[1;32m    259\u001b[0m         \u001b[38;5;28mlist\u001b[39m(args),\n\u001b[1;32m    260\u001b[0m         \u001b[38;5;28mself\u001b[39m\u001b[38;5;241m.\u001b[39m_bound_context\u001b[38;5;241m.\u001b[39mfunction_call_options\u001b[38;5;241m.\u001b[39mas_attrs(),\n\u001b[1;32m    261\u001b[0m     )\n",
            "File \u001b[0;32m~/Library/Python/3.9/lib/python/site-packages/tensorflow/python/eager/context.py:1486\u001b[0m, in \u001b[0;36mContext.call_function\u001b[0;34m(self, name, tensor_inputs, num_outputs)\u001b[0m\n\u001b[1;32m   1484\u001b[0m cancellation_context \u001b[38;5;241m=\u001b[39m cancellation\u001b[38;5;241m.\u001b[39mcontext()\n\u001b[1;32m   1485\u001b[0m \u001b[38;5;28;01mif\u001b[39;00m cancellation_context \u001b[38;5;129;01mis\u001b[39;00m \u001b[38;5;28;01mNone\u001b[39;00m:\n\u001b[0;32m-> 1486\u001b[0m   outputs \u001b[38;5;241m=\u001b[39m \u001b[43mexecute\u001b[49m\u001b[38;5;241;43m.\u001b[39;49m\u001b[43mexecute\u001b[49m\u001b[43m(\u001b[49m\n\u001b[1;32m   1487\u001b[0m \u001b[43m      \u001b[49m\u001b[43mname\u001b[49m\u001b[38;5;241;43m.\u001b[39;49m\u001b[43mdecode\u001b[49m\u001b[43m(\u001b[49m\u001b[38;5;124;43m\"\u001b[39;49m\u001b[38;5;124;43mutf-8\u001b[39;49m\u001b[38;5;124;43m\"\u001b[39;49m\u001b[43m)\u001b[49m\u001b[43m,\u001b[49m\n\u001b[1;32m   1488\u001b[0m \u001b[43m      \u001b[49m\u001b[43mnum_outputs\u001b[49m\u001b[38;5;241;43m=\u001b[39;49m\u001b[43mnum_outputs\u001b[49m\u001b[43m,\u001b[49m\n\u001b[1;32m   1489\u001b[0m \u001b[43m      \u001b[49m\u001b[43minputs\u001b[49m\u001b[38;5;241;43m=\u001b[39;49m\u001b[43mtensor_inputs\u001b[49m\u001b[43m,\u001b[49m\n\u001b[1;32m   1490\u001b[0m \u001b[43m      \u001b[49m\u001b[43mattrs\u001b[49m\u001b[38;5;241;43m=\u001b[39;49m\u001b[43mattrs\u001b[49m\u001b[43m,\u001b[49m\n\u001b[1;32m   1491\u001b[0m \u001b[43m      \u001b[49m\u001b[43mctx\u001b[49m\u001b[38;5;241;43m=\u001b[39;49m\u001b[38;5;28;43mself\u001b[39;49m\u001b[43m,\u001b[49m\n\u001b[1;32m   1492\u001b[0m \u001b[43m  \u001b[49m\u001b[43m)\u001b[49m\n\u001b[1;32m   1493\u001b[0m \u001b[38;5;28;01melse\u001b[39;00m:\n\u001b[1;32m   1494\u001b[0m   outputs \u001b[38;5;241m=\u001b[39m execute\u001b[38;5;241m.\u001b[39mexecute_with_cancellation(\n\u001b[1;32m   1495\u001b[0m       name\u001b[38;5;241m.\u001b[39mdecode(\u001b[38;5;124m\"\u001b[39m\u001b[38;5;124mutf-8\u001b[39m\u001b[38;5;124m\"\u001b[39m),\n\u001b[1;32m   1496\u001b[0m       num_outputs\u001b[38;5;241m=\u001b[39mnum_outputs,\n\u001b[0;32m   (...)\u001b[0m\n\u001b[1;32m   1500\u001b[0m       cancellation_manager\u001b[38;5;241m=\u001b[39mcancellation_context,\n\u001b[1;32m   1501\u001b[0m   )\n",
            "File \u001b[0;32m~/Library/Python/3.9/lib/python/site-packages/tensorflow/python/eager/execute.py:53\u001b[0m, in \u001b[0;36mquick_execute\u001b[0;34m(op_name, num_outputs, inputs, attrs, ctx, name)\u001b[0m\n\u001b[1;32m     51\u001b[0m \u001b[38;5;28;01mtry\u001b[39;00m:\n\u001b[1;32m     52\u001b[0m   ctx\u001b[38;5;241m.\u001b[39mensure_initialized()\n\u001b[0;32m---> 53\u001b[0m   tensors \u001b[38;5;241m=\u001b[39m \u001b[43mpywrap_tfe\u001b[49m\u001b[38;5;241;43m.\u001b[39;49m\u001b[43mTFE_Py_Execute\u001b[49m\u001b[43m(\u001b[49m\u001b[43mctx\u001b[49m\u001b[38;5;241;43m.\u001b[39;49m\u001b[43m_handle\u001b[49m\u001b[43m,\u001b[49m\u001b[43m \u001b[49m\u001b[43mdevice_name\u001b[49m\u001b[43m,\u001b[49m\u001b[43m \u001b[49m\u001b[43mop_name\u001b[49m\u001b[43m,\u001b[49m\n\u001b[1;32m     54\u001b[0m \u001b[43m                                      \u001b[49m\u001b[43minputs\u001b[49m\u001b[43m,\u001b[49m\u001b[43m \u001b[49m\u001b[43mattrs\u001b[49m\u001b[43m,\u001b[49m\u001b[43m \u001b[49m\u001b[43mnum_outputs\u001b[49m\u001b[43m)\u001b[49m\n\u001b[1;32m     55\u001b[0m \u001b[38;5;28;01mexcept\u001b[39;00m core\u001b[38;5;241m.\u001b[39m_NotOkStatusException \u001b[38;5;28;01mas\u001b[39;00m e:\n\u001b[1;32m     56\u001b[0m   \u001b[38;5;28;01mif\u001b[39;00m name \u001b[38;5;129;01mis\u001b[39;00m \u001b[38;5;129;01mnot\u001b[39;00m \u001b[38;5;28;01mNone\u001b[39;00m:\n",
            "\u001b[0;31mKeyboardInterrupt\u001b[0m: "
          ]
        }
      ],
      "source": [
        "early_stopping = tf.keras.callbacks.EarlyStopping(monitor='val_accuracy', patience=5, mode=\"max\" ,restore_best_weights=True)\n",
        "\n",
        "model_history=model.fit(\n",
        "    x=[X_train_num, X_train_img], y=y_train_oh,\n",
        "    validation_data=([X_val_num, X_val_img], y_val_oh),\n",
        "    epochs=epochs ,\n",
        "    batch_size=8,\n",
        "    callbacks=[early_stopping]\n",
        ")"
      ]
    },
    {
      "cell_type": "code",
      "execution_count": 27,
      "metadata": {
        "colab": {
          "base_uri": "https://localhost:8080/"
        },
        "id": "e4D_DzabirRE",
        "outputId": "2536aa39-2e1e-45bd-b1e3-c4e2924fe5d9"
      },
      "outputs": [
        {
          "name": "stdout",
          "output_type": "stream",
          "text": [
            "dict_keys(['loss', 'accuracy', 'precision', 'recall', 'auc', 'val_loss', 'val_accuracy', 'val_precision', 'val_recall', 'val_auc'])\n"
          ]
        }
      ],
      "source": [
        "print(model_history.history.keys())"
      ]
    },
    {
      "cell_type": "markdown",
      "metadata": {
        "id": "kWVFFeHbirRF"
      },
      "source": [
        "<a id=\"section6\"></a>\n",
        "# <font color=\"#004D7F\" size=6> 6. Results</font>\n",
        "\n",
        "Finally, we can evaluate our hybrid model with the images created by TINTOlib in any of the ways represented below."
      ]
    },
    {
      "cell_type": "markdown",
      "metadata": {
        "id": "4Pnis2cGirRG"
      },
      "source": [
        "---\n",
        "<a id=\"section61\"></a>\n",
        "# <font color=\"#004D7F\" size=5> 6.1. Train/Validation representation</font>"
      ]
    },
    {
      "cell_type": "code",
      "execution_count": 29,
      "metadata": {
        "colab": {
          "base_uri": "https://localhost:8080/",
          "height": 430
        },
        "id": "oEpiuy0kirRH",
        "outputId": "95befd75-6620-4023-90b2-733ceba08121"
      },
      "outputs": [
        {
          "data": {
            "image/png": "[encoded data removed]",
            "text/plain": [
              "<Figure size 640x480 with 1 Axes>"
            ]
          },
          "metadata": {},
          "output_type": "display_data"
        }
      ],
      "source": [
        "#print(model_history.history['loss'])\n",
        "plt.plot(model_history.history['loss'], color = 'red', label = 'loss')\n",
        "plt.plot(model_history.history['val_loss'], color = 'green', label = 'val loss')\n",
        "plt.legend(loc = 'upper right')\n",
        "\n",
        "plt.show()"
      ]
    },
    {
      "cell_type": "code",
      "execution_count": 31,
      "metadata": {
        "colab": {
          "base_uri": "https://localhost:8080/",
          "height": 430
        },
        "id": "kfGdG7zeirRJ",
        "outputId": "96483dbf-f757-40d2-f34b-7223c5ea93cf"
      },
      "outputs": [
        {
          "data": {
            "image/png": "[encoded data removed]",
            "text/plain": [
              "<Figure size 640x480 with 1 Axes>"
            ]
          },
          "metadata": {},
          "output_type": "display_data"
        }
      ],
      "source": [
        "plt.plot(model_history.history['accuracy'], color = 'red', label = 'accuracy')\n",
        "plt.plot(model_history.history['val_accuracy'], color = 'green', label = 'val accuracy')\n",
        "plt.legend(loc = 'upper right')\n",
        "plt.show()"
      ]
    },
    {
      "cell_type": "markdown",
      "metadata": {
        "id": "izOY_1nGirRK"
      },
      "source": [
        "---\n",
        "<a id=\"section62\"></a>\n",
        "# <font color=\"#004D7F\" size=5> 6.2. Validation/Test evaluation</font>"
      ]
    },
    {
      "cell_type": "code",
      "execution_count": 32,
      "metadata": {
        "colab": {
          "base_uri": "https://localhost:8080/"
        },
        "id": "ve9gcL8dirRK",
        "outputId": "2cb42b37-8795-4533-d4a0-8ca4c1039adc"
      },
      "outputs": [
        {
          "name": "stdout",
          "output_type": "stream",
          "text": [
            "10/10 [==============================] - 1s 23ms/step - loss: 69504044042009610027008.0000 - accuracy: 0.6969 - precision: 0.0906 - recall: 0.0906 - auc: 0.4544\n"
          ]
        }
      ],
      "source": [
        "score_test= model.evaluate([X_test_num, X_test_img], y_test_oh)"
      ]
    },
    {
      "cell_type": "code",
      "execution_count": 39,
      "metadata": {
        "colab": {
          "base_uri": "https://localhost:8080/"
        },
        "id": "0Zdf0gcsirRL",
        "outputId": "c648a4fb-7996-4173-838d-9c11e1934cac"
      },
      "outputs": [
        {
          "name": "stdout",
          "output_type": "stream",
          "text": [
            "10/10 [==============================] - 0s 7ms/step\n"
          ]
        }
      ],
      "source": [
        "prediction = model.predict([X_test_num,X_test_img],)\n",
        "real_values= y_test.values-3\n",
        "predicted_classes = np.argmax(prediction, axis = 1)\n",
        "\n",
        "result = [list(t) for t in zip(predicted_classes, real_values)]\n",
        "#print(np.round(prediction))\n"
      ]
    },
    {
      "cell_type": "code",
      "execution_count": 40,
      "metadata": {
        "id": "n0lJ4oY2m8YE"
      },
      "outputs": [],
      "source": [
        "from sklearn.metrics import confusion_matrix\n",
        "cf_matrix = confusion_matrix(real_values, predicted_classes)\n"
      ]
    },
    {
      "cell_type": "code",
      "execution_count": 41,
      "metadata": {
        "colab": {
          "base_uri": "https://localhost:8080/",
          "height": 448
        },
        "id": "iYg-Ct5rnmMc",
        "outputId": "6f7e4de9-bfbd-41ec-8db9-f0c8cb429174"
      },
      "outputs": [
        {
          "data": {
            "text/plain": [
              "<Axes: >"
            ]
          },
          "execution_count": 41,
          "metadata": {},
          "output_type": "execute_result"
        },
        {
          "data": {
            "image/png": "[encoded data removed]",
            "text/plain": [
              "<Figure size 640x480 with 2 Axes>"
            ]
          },
          "metadata": {},
          "output_type": "display_data"
        }
      ],
      "source": [
        "import seaborn as sns\n",
        "sns.heatmap(cf_matrix, annot=True)"
      ]
    },
    {
      "cell_type": "code",
      "execution_count": 35,
      "metadata": {
        "colab": {
          "base_uri": "https://localhost:8080/"
        },
        "id": "rK14dErSirRN",
        "outputId": "3a0d149d-c899-417c-b56c-9aa5949fcccd"
      },
      "outputs": [
        {
          "name": "stdout",
          "output_type": "stream",
          "text": [
            "Test accuracy: 0.9642857313156128\n",
            "Test AUC: 0.5150391459465027\n",
            "Test precision: 0.0\n",
            "Test recall: 0.0\n"
          ]
        }
      ],
      "source": [
        "test_accuracy = score_test[1]\n",
        "test_auc = score_test[4]\n",
        "test_precision = score_test[2]\n",
        "test_recall = score_test[3]\n",
        "\n",
        "print(\"Test accuracy:\",test_accuracy)\n",
        "print(\"Test AUC:\",test_auc)\n",
        "print(\"Test precision:\",test_precision)\n",
        "print(\"Test recall:\",test_recall)"
      ]
    },
    {
      "cell_type": "code",
      "execution_count": 36,
      "metadata": {
        "id": "kQi3qLfNirRd"
      },
      "outputs": [
        {
          "name": "stdout",
          "output_type": "stream",
          "text": [
            "Train accuracy: 0.9643069505691528\n",
            "Train AUC: 0.7288088798522949\n",
            "Train precision: 1.0\n",
            "Train recall: 0.0005952381179668009\n",
            "Train loss: 2.99509859085083\n"
          ]
        }
      ],
      "source": [
        "train_accuracy = model_history.history[\"accuracy\"][-1]\n",
        "train_auc = model_history.history[\"auc\"][-1]\n",
        "train_precision = model_history.history[\"precision\"][-1]\n",
        "train_recall = model_history.history[\"recall\"][-1]\n",
        "train_loss = model_history.history[\"loss\"][-1]\n",
        "\n",
        "print(\"Train accuracy:\",train_accuracy)\n",
        "print(\"Train AUC:\",train_auc)\n",
        "print(\"Train precision:\",train_precision)\n",
        "print(\"Train recall:\",train_recall)\n",
        "print(\"Train loss:\",train_loss)"
      ]
    },
    {
      "cell_type": "code",
      "execution_count": 37,
      "metadata": {
        "id": "4MVspt_qirRf"
      },
      "outputs": [
        {
          "name": "stdout",
          "output_type": "stream",
          "text": [
            "Validation accuracy: 0.9642857313156128\n",
            "Validation AUC: 0.7787288427352905\n",
            "Validation precision: 0.0\n",
            "Validation recall: 0.0\n",
            "Validation loss: 2.844846725463867\n"
          ]
        }
      ],
      "source": [
        "validation_accuracy = model_history.history[\"val_accuracy\"][-1]\n",
        "validation_auc = model_history.history[\"val_auc\"][-1]\n",
        "validation_precision = model_history.history[\"val_precision\"][-1]\n",
        "validation_recall = model_history.history[\"val_recall\"][-1]\n",
        "validation_loss = model_history.history[\"val_loss\"][-1]\n",
        "\n",
        "print(\"Validation accuracy:\",validation_accuracy)\n",
        "print(\"Validation AUC:\",validation_auc)\n",
        "print(\"Validation precision:\",validation_precision)\n",
        "print(\"Validation recall:\",validation_recall)\n",
        "print(\"Validation loss:\",validation_loss)"
      ]
    },
    {
      "cell_type": "markdown",
      "metadata": {
        "id": "9o27OTX-irRg"
      },
      "source": [
        "<div style=\"text-align: right\"> <font size=5> <a href=\"#indice\"><i class=\"fa fa-arrow-circle-up\" aria-hidden=\"true\" style=\"color:#004D7F\"></i></a></font></div>\n",
        "\n",
        "---\n",
        "\n",
        "<div style=\"text-align: right\"> <font size=6><i class=\"fa fa-coffee\" aria-hidden=\"true\" style=\"color:#004D7F\"></i> </font></div>"
      ]
    }
  ],
  "metadata": {
    "accelerator": "GPU",
    "colab": {
      "gpuType": "T4",
      "provenance": []
    },
    "kernelspec": {
      "display_name": "Python 3",
      "name": "python3"
    },
    "language_info": {
      "codemirror_mode": {
        "name": "ipython",
        "version": 3
      },
      "file_extension": ".py",
      "mimetype": "text/x-python",
      "name": "python",
      "nbconvert_exporter": "python",
      "pygments_lexer": "ipython3",
      "version": "3.9.6"
    }
  },
  "nbformat": 4,
  "nbformat_minor": 0
}
