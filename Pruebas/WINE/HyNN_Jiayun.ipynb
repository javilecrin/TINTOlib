{
 "cells": [
  {
   "cell_type": "markdown",
   "metadata": {},
   "source": [
    "# TINTO Hybrid Network with CNN classification"
   ]
  },
  {
   "cell_type": "markdown",
   "metadata": {},
   "source": [
    "## Setup and Configuration (Run First)"
   ]
  },
  {
   "cell_type": "code",
   "execution_count": 1,
   "metadata": {},
   "outputs": [
    {
     "name": "stderr",
     "output_type": "stream",
     "text": [
      "/var/folders/9h/d3b8zc6j5019cyvmb_h929xm0000gn/T/ipykernel_6840/2723279260.py:2: DeprecationWarning: \n",
      "Pyarrow will become a required dependency of pandas in the next major release of pandas (pandas 3.0),\n",
      "(to allow more performant data types, such as the Arrow string type, and better interoperability with other libraries)\n",
      "but was not found to be installed on your system.\n",
      "If this would cause problems for you,\n",
      "please provide us feedback at https://github.com/pandas-dev/pandas/issues/54466\n",
      "        \n",
      "  import pandas as pd\n",
      "/Users/manwest/Library/Python/3.9/lib/python/site-packages/urllib3/__init__.py:35: NotOpenSSLWarning: urllib3 v2 only supports OpenSSL 1.1.1+, currently the 'ssl' module is compiled with 'LibreSSL 2.8.3'. See: https://github.com/urllib3/urllib3/issues/3020\n",
      "  warnings.warn(\n"
     ]
    }
   ],
   "source": [
    "import os\n",
    "import pandas as pd\n",
    "import numpy as np\n",
    "from tqdm import tqdm\n",
    "#import cv2\n",
    "import gc\n",
    "import matplotlib.pyplot as plt\n",
    "#import openslide\n",
    "#from openslide.deepzoom import DeepZoomGenerator\n",
    "import tifffile as tifi\n",
    "import sklearn\n",
    "import tensorflow as tf\n",
    "import seaborn as sns\n",
    "from PIL import Image\n",
    "\n",
    "\n",
    "from sklearn.metrics import mean_absolute_error, mean_squared_error, r2_score,mean_absolute_percentage_error\n",
    "\n",
    "from keras_preprocessing.image import ImageDataGenerator\n",
    "from tensorflow.keras.models import load_model\n",
    "\n",
    "from sklearn.model_selection import train_test_split\n",
    "from tensorflow.keras.applications import vgg16, vgg19, resnet50, mobilenet, inception_resnet_v2, densenet, inception_v3, xception, nasnet, ResNet152V2\n",
    "from tensorflow.keras.models import Sequential, Model, load_model\n",
    "from tensorflow.keras.layers import Dense, Conv2D, MaxPool2D, Flatten, Dropout, BatchNormalization, InputLayer, LayerNormalization\n",
    "from tensorflow.keras.callbacks import ModelCheckpoint, ReduceLROnPlateau, EarlyStopping\n",
    "from tensorflow.keras.optimizers import SGD, Adam, Adadelta, Adamax\n",
    "from tensorflow.keras import layers, models, Model\n",
    "from tensorflow.keras.losses import MeanAbsoluteError, MeanAbsolutePercentageError\n",
    "from tensorflow.keras.layers import Input, Activation,MaxPooling2D, concatenate\n",
    "\n",
    "#from imblearn.over_sampling import RandomOverSampler\n",
    "\n",
    "#Models of TINTOlib\n",
    "from TINTOlib.tinto import TINTO\n",
    "from TINTOlib.supertml import SuperTML\n",
    "from TINTOlib.igtd import IGTD\n",
    "from TINTOlib.refined import REFINED\n",
    "from TINTOlib.barGraph import BarGraph\n",
    "from TINTOlib.distanceMatrix import DistanceMatrix\n",
    "from TINTOlib.combination import Combination"
   ]
  },
  {
   "cell_type": "markdown",
   "metadata": {},
   "source": [
    "## Model Building (Run First)"
   ]
  },
  {
   "cell_type": "markdown",
   "metadata": {},
   "source": [
    "(Base_line model + Vision model (Synthetic data)) -> MLP"
   ]
  },
  {
   "cell_type": "markdown",
   "metadata": {},
   "source": [
    "### FFNN"
   ]
  },
  {
   "cell_type": "code",
   "execution_count": 34,
   "metadata": {},
   "outputs": [],
   "source": [
    "class FFNNComponent:\n",
    "    def __init__(\n",
    "        self,\n",
    "        filters_ffnn: [int],\n",
    "        dropout_rate: float,\n",
    "    ):\n",
    "        self.filters_ffnn = filters_ffnn\n",
    "        self.dropout_rate = dropout_rate\n",
    "        self.ffnn = tf.keras.Sequential()\n",
    "        for filters in self.filters_ffnn:\n",
    "            self.ffnn.add(Dense(filters, activation='relu'))\n",
    "            self.ffnn.add(BatchNormalization())\n",
    "            self.ffnn.add(Dropout(self.dropout_rate))\n",
    "\n",
    "    def __call__(\n",
    "        self,\n",
    "        x: tf.Tensor,\n",
    "    ):\n",
    "        x = self.ffnn(x)\n",
    "        return x"
   ]
  },
  {
   "cell_type": "markdown",
   "metadata": {},
   "source": [
    "### Transformer Encoder"
   ]
  },
  {
   "cell_type": "code",
   "execution_count": 35,
   "metadata": {},
   "outputs": [],
   "source": [
    "class AddNorm(layers.Layer):\n",
    "    \"\"\"Layer normalization and dropout applied to the sum of inputs (residual connection).\"\"\"\n",
    "    def __init__(\n",
    "        self,\n",
    "        dropout_rate: float = 0.1, \n",
    "        epsilon: float = 1e-12,\n",
    "        **kwargs,\n",
    "    ):\n",
    "        super(AddNorm, self).__init__(**kwargs)\n",
    "        self.dropout = layers.Dropout(dropout_rate)\n",
    "        self.layer_norm = layers.LayerNormalization(epsilon=epsilon)\n",
    "\n",
    "    def call(\n",
    "        self,\n",
    "        x: tf.Tensor,\n",
    "        y: tf.Tensor,\n",
    "    ):\n",
    "        y = self.dropout(y)\n",
    "        # Add & Norm (residual connection followed by layer normalization)\n",
    "        return self.layer_norm(x + y)\n",
    "    "
   ]
  },
  {
   "cell_type": "code",
   "execution_count": 36,
   "metadata": {},
   "outputs": [],
   "source": [
    "class PositionWiseFFN(layers.Layer):\n",
    "    \"\"\"Position-wise feed-forward network.\"\"\"\n",
    "    def __init__(\n",
    "        self,\n",
    "        input_size: int,\n",
    "        hidden_size: int,\n",
    "        **kwargs,\n",
    "    ):\n",
    "        super(PositionWiseFFN, self).__init__(**kwargs)\n",
    "        # First dense layer increases dimensionality from input_size to hidden_size and relu activation\n",
    "        self.dense1 = layers.Dense(hidden_size, activation='relu')\n",
    "        # Second dense layer projects back to input_size dimensions\n",
    "        self.dense2 = layers.Dense(input_size)\n",
    "\n",
    "    def call(\n",
    "        self,\n",
    "        x: tf.Tensor,\n",
    "    ):\n",
    "        x = self.dense1(x)\n",
    "        x = self.dense2(x)\n",
    "        return x\n"
   ]
  },
  {
   "cell_type": "code",
   "execution_count": 37,
   "metadata": {},
   "outputs": [],
   "source": [
    "import time"
   ]
  },
  {
   "cell_type": "code",
   "execution_count": 38,
   "metadata": {},
   "outputs": [],
   "source": [
    "import tensorflow as tf\n",
    "\n",
    "class TransformerBlock(layers.Layer):\n",
    "    \"\"\"Encoder block of the Transformer model\"\"\"\n",
    "    def __init__(\n",
    "        self,\n",
    "        num_heads: int,\n",
    "        key_dim: int,\n",
    "        value_dim: int,\n",
    "        output_dim: int,\n",
    "        dropout: float,\n",
    "        ffn_hidden_size: int,\n",
    "        use_bias: bool =False,\n",
    "    ):\n",
    "        super(TransformerBlock, self).__init__()\n",
    "        self.attention_head = layers.MultiHeadAttention(\n",
    "            num_heads=num_heads,\n",
    "            key_dim=key_dim,\n",
    "            value_dim=value_dim,\n",
    "            output_shape=output_dim,\n",
    "            dropout=dropout,\n",
    "            use_bias=use_bias,\n",
    "        )\n",
    "        self.add_norm_1 = AddNorm(dropout)\n",
    "        self.feed_forward = PositionWiseFFN(key_dim, ffn_hidden_size)\n",
    "        self.add_norm_2 = AddNorm(dropout)\n",
    "\n",
    "    def call(\n",
    "        self,\n",
    "        x: tf.Tensor,\n",
    "    ):\n",
    "        # Define the model's forward pass\n",
    "        attention = self.attention_head(x, x, x)\n",
    "        x = self.add_norm_1(x, attention)\n",
    "        x = self.add_norm_2(x, self.feed_forward(x))\n",
    "            \n",
    "        return x\n"
   ]
  },
  {
   "cell_type": "code",
   "execution_count": 39,
   "metadata": {},
   "outputs": [],
   "source": [
    "class Encoder(layers.Layer):\n",
    "    \"\"\"Transformer block of the Transformer model\"\"\"\n",
    "    def __init__(\n",
    "        self,\n",
    "        attention_num_heads: int,\n",
    "        attention_key_dim: int,\n",
    "        attention_value_dim: int,\n",
    "        attention_output_dim: int,\n",
    "        attention_dropout: float,\n",
    "        ffn_hidden_size: int,\n",
    "        num_layers: int,\n",
    "        attention_use_bias: bool = False,\n",
    "    ):\n",
    "        super(Encoder, self).__init__()\n",
    "        \n",
    "        # Create a Sequential model to hold the encoder blocks\n",
    "        self.encoder_blocks = tf.keras.Sequential()\n",
    "        self.transformer_block = TransformerBlock\n",
    "\n",
    "        for i in range(num_layers):\n",
    "            # Add an EncoderBlock as a layer to the Sequential model\n",
    "            self.encoder_blocks.add(\n",
    "                self.transformer_block(\n",
    "                    num_heads=attention_num_heads,\n",
    "                    key_dim=attention_key_dim,\n",
    "                    value_dim=attention_value_dim,\n",
    "                    output_dim=attention_output_dim,\n",
    "                    dropout=attention_dropout,\n",
    "                    use_bias=attention_use_bias,\n",
    "                    ffn_hidden_size=ffn_hidden_size,\n",
    "                )\n",
    "            )\n",
    "\n",
    "    def call(\n",
    "        self,\n",
    "        x: tf.Tensor,\n",
    "    ):\n",
    "        # Define the model's forward pass\n",
    "        x = self.encoder_blocks(x)\n",
    "        return x"
   ]
  },
  {
   "cell_type": "code",
   "execution_count": 40,
   "metadata": {},
   "outputs": [],
   "source": [
    "class ResidualBlock(layers.Layer):\n",
    "    \"\"\"ResNet Residual block\"\"\"\n",
    "    def __init__(\n",
    "        self,\n",
    "        filters: int,\n",
    "        use_1x1conv=False,\n",
    "        strides: int = 1,\n",
    "        use_bias: bool = False,\n",
    "    ):\n",
    "        super(ResidualBlock, self).__init__()\n",
    "        self.conv1 = layers.Conv2D(filters, kernel_size=3, strides=strides, padding=\"same\", use_bias=use_bias)\n",
    "        self.bn1 = layers.BatchNormalization()\n",
    "        self.relu = layers.Activation('relu')\n",
    "        self.conv2 = layers.Conv2D(filters, kernel_size=3, strides=strides, padding=\"same\", use_bias=use_bias)\n",
    "        self.bn2 = layers.BatchNormalization()\n",
    "        if use_1x1conv:\n",
    "            self.conv3 = layers.Conv2D(filters, kernel_size=1, strides=3)\n",
    "        else:\n",
    "            self.conv3 = None\n",
    "    def call(\n",
    "        self,\n",
    "        x: tf.Tensor,\n",
    "    ):\n",
    "        # Define the model's forward pass\n",
    "        y = self.conv1(x)\n",
    "        y = self.bn1(y)\n",
    "        y = self.relu(y)\n",
    "        y = self.conv2(y)\n",
    "        y = self.bn2(y)\n",
    "        if self.conv3:\n",
    "            x = self.conv3(x)\n",
    "        return self.relu(x + y)\n"
   ]
  },
  {
   "cell_type": "markdown",
   "metadata": {},
   "source": [
    "### Encoder With Restnet"
   ]
  },
  {
   "cell_type": "code",
   "execution_count": 41,
   "metadata": {},
   "outputs": [],
   "source": [
    "class ResNet(layers.Layer):\n",
    "    \"\"\"ResNet model\"\"\"\n",
    "    def __init__(\n",
    "        self,\n",
    "    ):\n",
    "        super(ResNet, self).__init__()\n",
    "        \n",
    "        self.b1 = tf.keras.Sequential([\n",
    "            layers.Conv2D(filters=128, kernel_size=5, strides=2, padding=\"same\"),\n",
    "            layers.BatchNormalization(),\n",
    "            layers.ReLU(),\n",
    "            layers.MaxPooling2D(pool_size=(2, 2), strides=(2, 2), padding='same')\n",
    "        ])\n",
    "        self.b2 = tf.keras.Sequential(self.ResNetBlock(num_filters=128, num_blocks=2, first_block=True))\n",
    "        self.b3 = tf.keras.Sequential(self.ResNetBlock(num_filters=64, num_blocks=2))\n",
    "        self.avg_pool = tf.keras.layers.GlobalAveragePooling2D()\n",
    "        self.dense = tf.keras.layers.Dense(16, activation='relu')\n",
    "        self.activation = tf.keras.layers.Activation('relu')\n",
    "        self.flatten = tf.keras.layers.Flatten()\n",
    "\n",
    "    def call(\n",
    "        self,\n",
    "        x: tf.Tensor,\n",
    "        num_classes: int=None,\n",
    "    ):\n",
    "        # Define the model's forward pass\n",
    "        x = self.b1(x)\n",
    "        x = self.b2(x)\n",
    "        x = self.b3(x)\n",
    "        x = self.avg_pool(x)\n",
    "        x = self.flatten(x)\n",
    "        x = self.dense(x)\n",
    "        x = self.activation(x)\n",
    "        if num_classes:\n",
    "            x = layers.Dense(num_classes, activation='softmax')(x)\n",
    "        return x\n",
    "    \n",
    "    # Define the ResNet blocks\n",
    "    def ResNetBlock(\n",
    "        self,\n",
    "        num_filters: int,\n",
    "        num_blocks: int,\n",
    "        first_block=False\n",
    "    ):\n",
    "        blocks = []\n",
    "        for i in range(num_blocks):\n",
    "            if i == 0 and not first_block:\n",
    "                blocks.append(ResidualBlock(num_filters, use_1x1conv=True, strides=2))\n",
    "            else:\n",
    "                blocks.append(ResidualBlock(num_filters))\n",
    "        return blocks"
   ]
  },
  {
   "cell_type": "code",
   "execution_count": 42,
   "metadata": {},
   "outputs": [],
   "source": [
    "class EncoderWithResNet(layers.Layer):\n",
    "    \"\"\"Custom layer that combines the Encoder block with a ResNet\"\"\"\n",
    "    def __init__(\n",
    "        self,\n",
    "        num_heads: int,\n",
    "        key_dim: int,\n",
    "        value_dim:  int,\n",
    "        output_dim: int,\n",
    "        ffn_hidden_size: int,\n",
    "        dropout: float,\n",
    "        num_layers: int,\n",
    "        bias: bool = False,\n",
    "    ):\n",
    "        super(EncoderWithResNet, self).__init__()\n",
    "        self.encoder = Encoder(\n",
    "            attention_num_heads=num_heads,\n",
    "            attention_key_dim=key_dim,\n",
    "            attention_value_dim=value_dim,\n",
    "            attention_output_dim=output_dim,\n",
    "            attention_dropout=dropout,\n",
    "            ffn_hidden_size=ffn_hidden_size,\n",
    "            num_layers=num_layers,\n",
    "            attention_use_bias=bias,\n",
    "        )\n",
    "\n",
    "        self.resnet = ResNet(\n",
    "        )\n",
    "\n",
    "    def call(\n",
    "        self,\n",
    "        x: tf.Tensor,\n",
    "        num_classes: int=None,\n",
    "    ):\n",
    "        # Define the model's forward pass\n",
    "        x_ffnn = []\n",
    "        for i in range(x[1].shape[-1]):\n",
    "            x_ffnn.append(self.encoder(x[1][:,:,:,i]))\n",
    "        x = tf.stack(x_ffnn, axis=-1)\n",
    "\n",
    "        x = self.resnet(x, num_classes)\n",
    "        return x"
   ]
  },
  {
   "cell_type": "code",
   "execution_count": 43,
   "metadata": {},
   "outputs": [],
   "source": [
    "class HNNRestNetModel(Model):\n",
    "    \"\"\"Hybrid Model that combines the FFNNComponent and the EncoderWithResNet\"\"\"\n",
    "    def __init__(\n",
    "        self,\n",
    "        filters_ffnn: [int],\n",
    "        dropout_rate: float,\n",
    "        attention_num_heads: int,\n",
    "        attention_key_dim: int,\n",
    "        attention_value_dim: int,\n",
    "        attention_output_dim: int,\n",
    "        attention_dropout: float,\n",
    "        ffn_hidden_size: int,\n",
    "        encoder_num_layers: int,\n",
    "        num_classes: int,\n",
    "        attention_use_bias: bool = False,\n",
    "    ):\n",
    "        super(HNNRestNetModel, self).__init__()\n",
    "\n",
    "        self.encoder_with_resnet = EncoderWithResNet(\n",
    "            num_heads=attention_num_heads,\n",
    "            key_dim=attention_key_dim,\n",
    "            value_dim=attention_value_dim,\n",
    "            output_dim=attention_output_dim,\n",
    "            ffn_hidden_size=ffn_hidden_size,\n",
    "            dropout=attention_dropout,\n",
    "            num_layers=encoder_num_layers,\n",
    "            bias=attention_use_bias,\n",
    "        )\n",
    "\n",
    "        self.ffnn = FFNNComponent(\n",
    "            filters_ffnn=filters_ffnn,\n",
    "            dropout_rate=dropout_rate,\n",
    "        )\n",
    "\n",
    "        self.fc = tf.keras.Sequential([\n",
    "            layers.Dense(16, activation='relu'),\n",
    "            layers.Dense(num_classes, activation='softmax')\n",
    "        ])\n",
    "\n",
    "    def call(\n",
    "        self,\n",
    "        x: tf.Tensor,\n",
    "    ):\n",
    "        # Define the model's forward pass\n",
    "        x_attention = self.encoder_with_resnet(x)\n",
    "        x_ffnn = self.ffnn(x[0])\n",
    "        merged = layers.Concatenate(axis=-1)([x_ffnn, x_attention])\n",
    "        x = self.fc(merged)\n",
    "        return x"
   ]
  },
  {
   "cell_type": "markdown",
   "metadata": {},
   "source": [
    "### Encoder with CNN"
   ]
  },
  {
   "cell_type": "code",
   "execution_count": 44,
   "metadata": {},
   "outputs": [],
   "source": [
    "class FFNNComponent:\n",
    "    def __init__(\n",
    "        self,\n",
    "        filters_ffnn: [int],\n",
    "        dropout_rate: float,\n",
    "    ):\n",
    "        self.filters_ffnn = filters_ffnn\n",
    "        self.dropout_rate = dropout_rate\n",
    "        self.ffnn = tf.keras.Sequential()\n",
    "        for filters in self.filters_ffnn:\n",
    "            self.ffnn.add(Dense(filters, activation='relu'))\n",
    "            self.ffnn.add(BatchNormalization())\n",
    "            self.ffnn.add(Dropout(self.dropout_rate))\n",
    "\n",
    "    def __call__(\n",
    "        self,\n",
    "        x: tf.Tensor,\n",
    "    ):\n",
    "        x = self.ffnn(x)\n",
    "        return x"
   ]
  },
  {
   "cell_type": "code",
   "execution_count": 45,
   "metadata": {},
   "outputs": [],
   "source": [
    "class CNN(layers.Layer):\n",
    "    \"\"\"CNN model for images\"\"\"\n",
    "    def __init__(\n",
    "        self,\n",
    "        filters_cnn: [int],\n",
    "    ):\n",
    "        super(CNN, self).__init__()\n",
    "        self.cnn_model = tf.keras.Sequential()\n",
    "        self.filters_cnn = filters_cnn\n",
    "        \n",
    "        for layer in self.filters_cnn:\n",
    "            self.cnn_model.add(layers.Conv2D(layer, (3, 3), padding=\"same\"))\n",
    "            self.cnn_model.add(layers.Activation(\"relu\"))\n",
    "            self.cnn_model.add(layers.MaxPooling2D(pool_size=(2, 2)))\n",
    "\n",
    "        self.Dense1 = layers.Dense(128, activation='relu')\n",
    "        self.Dense2 = layers.Dense(64, activation='relu')\n",
    "        self.Dense3 = layers.Dense(32, activation='relu')\n",
    "        self.flatten = tf.keras.layers.Flatten()\n",
    "\n",
    "        \n",
    "\n",
    "    def call(\n",
    "        self,\n",
    "        x: tf.Tensor,\n",
    "        ):\n",
    "        x = self.cnn_model(x)\n",
    "        x = self.flatten(x)\n",
    "        x = self.Dense1(x)\n",
    "        x = self.Dense2(x)\n",
    "        x = self.Dense3(x)\n",
    "        return x\n",
    "\n",
    "\n",
    "class EncoderWithCNN(layers.Layer):\n",
    "    \"\"\"Custom layer that combines the Encoder block with a CNN\"\"\"\n",
    "    def __init__(\n",
    "        self,\n",
    "        num_heads: int,\n",
    "        key_dim: int,\n",
    "        value_dim:  int,\n",
    "        output_dim: int,\n",
    "        ffn_hidden_size: int,\n",
    "        dropout: float,\n",
    "        num_layers: int,\n",
    "        filters_cnn: [int],\n",
    "        bias: bool = False,\n",
    "    ):\n",
    "        super(EncoderWithCNN, self).__init__()\n",
    "        self.encoder = Encoder(\n",
    "            attention_num_heads=num_heads,\n",
    "            attention_key_dim=key_dim,\n",
    "            attention_value_dim=value_dim,\n",
    "            attention_output_dim=output_dim,\n",
    "            attention_dropout=dropout,\n",
    "            ffn_hidden_size=ffn_hidden_size,\n",
    "            num_layers=num_layers,\n",
    "            attention_use_bias=bias,\n",
    "        )\n",
    "\n",
    "        self.cnn = CNN(\n",
    "            filters_cnn=filters_cnn,\n",
    "        )\n",
    "\n",
    "    def call(\n",
    "        self,\n",
    "        x: tf.Tensor,\n",
    "        num_classes: int=None,\n",
    "    ):\n",
    "        # Define the model's forward pass\n",
    "        x_ffnn = []\n",
    "        for i in range(x[1].shape[-1]):\n",
    "            x_ffnn.append(self.encoder(x[1][:,:,:,i]))\n",
    "        x = tf.stack(x_ffnn, axis=-1)\n",
    "        x = self.cnn(x)\n",
    "        return x\n",
    "    "
   ]
  },
  {
   "cell_type": "code",
   "execution_count": 46,
   "metadata": {},
   "outputs": [],
   "source": [
    "class HNNCNNModel(Model):\n",
    "    \"\"\"Hybrid Model that combines the FFNNComponent and the EncoderWithResNet\"\"\"\n",
    "    def __init__(\n",
    "        self,\n",
    "        filters_ffnn: [int],\n",
    "        dropout_rate: float,\n",
    "        attention_num_heads: int,\n",
    "        attention_key_dim: int,\n",
    "        attention_value_dim: int,\n",
    "        attention_output_dim: int,\n",
    "        attention_dropout: float,\n",
    "        ffn_hidden_size: int,\n",
    "        encoder_num_layers: int,\n",
    "        filters_cnn: [int],\n",
    "        num_classes: int,\n",
    "        attention_use_bias: bool = False,\n",
    "    ):\n",
    "        super(HNNCNNModel, self).__init__()\n",
    "\n",
    "        self.encoder_cnn = EncoderWithCNN(\n",
    "            num_heads=attention_num_heads,\n",
    "            key_dim=attention_key_dim,\n",
    "            value_dim=attention_value_dim,\n",
    "            output_dim=attention_output_dim,\n",
    "            ffn_hidden_size=ffn_hidden_size,\n",
    "            dropout=attention_dropout,\n",
    "            num_layers=encoder_num_layers,\n",
    "            filters_cnn=filters_cnn,\n",
    "            bias=attention_use_bias,\n",
    "        ) \n",
    "\n",
    "        self.ffnn = FFNNComponent(\n",
    "            filters_ffnn=filters_ffnn,\n",
    "            dropout_rate=dropout_rate,\n",
    "        )\n",
    "\n",
    "        self.fc = tf.keras.Sequential([\n",
    "            layers.Dense(64, activation='relu'),\n",
    "            layers.Dense(64, activation='relu'),\n",
    "            layers.Dense(64, activation='relu'),\n",
    "            layers.Dense(num_classes, activation='softmax')\n",
    "        ])\n",
    "\n",
    "\n",
    "    def call(\n",
    "        self,\n",
    "        x: tf.Tensor,\n",
    "    ):\n",
    "        # Define the model's forward pass\n",
    "        x_attention = self.encoder_cnn(x)\n",
    "        x_ffnn = self.ffnn(x[0])\n",
    "        merged = layers.Concatenate(axis=-1)([x_ffnn, x_attention])\n",
    "        x = self.fc(merged)\n",
    "        return x"
   ]
  },
  {
   "cell_type": "markdown",
   "metadata": {},
   "source": [
    "### CNN Only "
   ]
  },
  {
   "cell_type": "code",
   "execution_count": 47,
   "metadata": {},
   "outputs": [],
   "source": [
    "class HNNCNNOnlyModel(Model):\n",
    "    \"\"\"Hybrid Model that combines the FFNNComponent and the EncoderWithResNet\"\"\"\n",
    "    def __init__(\n",
    "        self,\n",
    "        filters_ffnn: [int],\n",
    "        dropout_rate: float,\n",
    "        filters_cnn: [int],\n",
    "        num_classes: int,\n",
    "    ):\n",
    "        super(HNNCNNOnlyModel, self).__init__()\n",
    "\n",
    "        self.cnn = CNN(\n",
    "            filters_cnn=filters_cnn,\n",
    "        )\n",
    "\n",
    "        self.ffnn = FFNNComponent(\n",
    "            filters_ffnn=filters_ffnn,\n",
    "            dropout_rate=dropout_rate,\n",
    "        )\n",
    "\n",
    "        self.fc = tf.keras.Sequential([\n",
    "            layers.Dense(64, activation='relu'),\n",
    "            layers.Dense(64, activation='relu'),\n",
    "            layers.Dense(64, activation='relu'),\n",
    "            layers.Dense(num_classes, activation='softmax')\n",
    "        ])\n",
    "\n",
    "    def call(\n",
    "        self,\n",
    "        x: tf.Tensor,\n",
    "    ):\n",
    "        # Define the model's forward pass\n",
    "        x_attention = self.cnn(x[1])\n",
    "        x_ffnn = self.ffnn(x[0])\n",
    "        merged = layers.Concatenate(axis=-1)([x_ffnn, x_attention])\n",
    "        x = self.fc(merged)\n",
    "        return x"
   ]
  },
  {
   "cell_type": "markdown",
   "metadata": {},
   "source": [
    "## Full Training Example"
   ]
  },
  {
   "cell_type": "markdown",
   "metadata": {},
   "source": [
    "### Data Loading"
   ]
  },
  {
   "cell_type": "code",
   "execution_count": 48,
   "metadata": {},
   "outputs": [],
   "source": [
    "#Select the model and the parameters\n",
    "# problem_type: supervised, unsupervised or regeression\n",
    "problem_type = \"supervised\"\n",
    "# default TINTO image 20x20\n",
    "image_model = TINTO(problem= problem_type,blur=True)\n",
    "pixel_size = 20\n",
    "\n",
    "#Define the dataset path and the folder where the images will be saved\n",
    "dataset_path = \"/Users/manwest/Git/TINTOlib/Pruebas/Datasets/winequality-red.csv\"\n",
    "images_folder = \"Wine_Images\""
   ]
  },
  {
   "cell_type": "code",
   "execution_count": 49,
   "metadata": {},
   "outputs": [
    {
     "data": {
      "text/html": [
       "<div>\n",
       "<style scoped>\n",
       "    .dataframe tbody tr th:only-of-type {\n",
       "        vertical-align: middle;\n",
       "    }\n",
       "\n",
       "    .dataframe tbody tr th {\n",
       "        vertical-align: top;\n",
       "    }\n",
       "\n",
       "    .dataframe thead th {\n",
       "        text-align: right;\n",
       "    }\n",
       "</style>\n",
       "<table border=\"1\" class=\"dataframe\">\n",
       "  <thead>\n",
       "    <tr style=\"text-align: right;\">\n",
       "      <th></th>\n",
       "      <th>fixed acidity</th>\n",
       "      <th>volatile acidity</th>\n",
       "      <th>citric acid</th>\n",
       "      <th>residual sugar</th>\n",
       "      <th>chlorides</th>\n",
       "      <th>free sulfur dioxide</th>\n",
       "      <th>total sulfur dioxide</th>\n",
       "      <th>density</th>\n",
       "      <th>pH</th>\n",
       "      <th>sulphates</th>\n",
       "      <th>alcohol</th>\n",
       "      <th>quality</th>\n",
       "    </tr>\n",
       "  </thead>\n",
       "  <tbody>\n",
       "    <tr>\n",
       "      <th>0</th>\n",
       "      <td>7.4</td>\n",
       "      <td>0.70</td>\n",
       "      <td>0.0</td>\n",
       "      <td>1.9</td>\n",
       "      <td>0.076</td>\n",
       "      <td>11.0</td>\n",
       "      <td>34.0</td>\n",
       "      <td>0.9978</td>\n",
       "      <td>3.51</td>\n",
       "      <td>0.56</td>\n",
       "      <td>9.4</td>\n",
       "      <td>5</td>\n",
       "    </tr>\n",
       "    <tr>\n",
       "      <th>1</th>\n",
       "      <td>7.8</td>\n",
       "      <td>0.88</td>\n",
       "      <td>0.0</td>\n",
       "      <td>2.6</td>\n",
       "      <td>0.098</td>\n",
       "      <td>25.0</td>\n",
       "      <td>67.0</td>\n",
       "      <td>0.9968</td>\n",
       "      <td>3.20</td>\n",
       "      <td>0.68</td>\n",
       "      <td>9.8</td>\n",
       "      <td>5</td>\n",
       "    </tr>\n",
       "  </tbody>\n",
       "</table>\n",
       "</div>"
      ],
      "text/plain": [
       "   fixed acidity  volatile acidity  citric acid  residual sugar  chlorides  \\\n",
       "0            7.4              0.70          0.0             1.9      0.076   \n",
       "1            7.8              0.88          0.0             2.6      0.098   \n",
       "\n",
       "   free sulfur dioxide  total sulfur dioxide  density    pH  sulphates  \\\n",
       "0                 11.0                  34.0   0.9978  3.51       0.56   \n",
       "1                 25.0                  67.0   0.9968  3.20       0.68   \n",
       "\n",
       "   alcohol  quality  \n",
       "0      9.4        5  \n",
       "1      9.8        5  "
      ]
     },
     "execution_count": 49,
     "metadata": {},
     "output_type": "execute_result"
    }
   ],
   "source": [
    "#Read CSV\n",
    "df = pd.read_csv(dataset_path, sep=';')\n",
    "df.head(2)"
   ]
  },
  {
   "cell_type": "code",
   "execution_count": 50,
   "metadata": {},
   "outputs": [
    {
     "name": "stdout",
     "output_type": "stream",
     "text": [
      "Wine_Images/supervised.csv\n"
     ]
    }
   ],
   "source": [
    "#Generate thet images\n",
    "image_model.generateImages(df, images_folder)\n",
    "img_paths = os.path.join(images_folder,problem_type+\".csv\")\n",
    "print(img_paths)"
   ]
  },
  {
   "cell_type": "code",
   "execution_count": 51,
   "metadata": {},
   "outputs": [],
   "source": [
    "# Read images\n",
    "imgs = pd.read_csv(img_paths)\n",
    "\n",
    "imgs[\"images\"]= images_folder + \"/\" + imgs[\"images\"]"
   ]
  },
  {
   "cell_type": "code",
   "execution_count": 52,
   "metadata": {},
   "outputs": [
    {
     "data": {
      "text/html": [
       "<div>\n",
       "<style scoped>\n",
       "    .dataframe tbody tr th:only-of-type {\n",
       "        vertical-align: middle;\n",
       "    }\n",
       "\n",
       "    .dataframe tbody tr th {\n",
       "        vertical-align: top;\n",
       "    }\n",
       "\n",
       "    .dataframe thead th {\n",
       "        text-align: right;\n",
       "    }\n",
       "</style>\n",
       "<table border=\"1\" class=\"dataframe\">\n",
       "  <thead>\n",
       "    <tr style=\"text-align: right;\">\n",
       "      <th></th>\n",
       "      <th>images</th>\n",
       "      <th>class</th>\n",
       "    </tr>\n",
       "  </thead>\n",
       "  <tbody>\n",
       "    <tr>\n",
       "      <th>0</th>\n",
       "      <td>Wine_Images/5.0/000000.png</td>\n",
       "      <td>5.0</td>\n",
       "    </tr>\n",
       "    <tr>\n",
       "      <th>1</th>\n",
       "      <td>Wine_Images/5.0/000001.png</td>\n",
       "      <td>5.0</td>\n",
       "    </tr>\n",
       "  </tbody>\n",
       "</table>\n",
       "</div>"
      ],
      "text/plain": [
       "                       images  class\n",
       "0  Wine_Images/5.0/000000.png    5.0\n",
       "1  Wine_Images/5.0/000001.png    5.0"
      ]
     },
     "execution_count": 52,
     "metadata": {},
     "output_type": "execute_result"
    }
   ],
   "source": [
    "imgs.head(2)"
   ]
  },
  {
   "cell_type": "code",
   "execution_count": 53,
   "metadata": {},
   "outputs": [
    {
     "data": {
      "text/html": [
       "<div>\n",
       "<style scoped>\n",
       "    .dataframe tbody tr th:only-of-type {\n",
       "        vertical-align: middle;\n",
       "    }\n",
       "\n",
       "    .dataframe tbody tr th {\n",
       "        vertical-align: top;\n",
       "    }\n",
       "\n",
       "    .dataframe thead th {\n",
       "        text-align: right;\n",
       "    }\n",
       "</style>\n",
       "<table border=\"1\" class=\"dataframe\">\n",
       "  <thead>\n",
       "    <tr style=\"text-align: right;\">\n",
       "      <th></th>\n",
       "      <th>fixed acidity</th>\n",
       "      <th>volatile acidity</th>\n",
       "      <th>citric acid</th>\n",
       "      <th>residual sugar</th>\n",
       "      <th>chlorides</th>\n",
       "      <th>free sulfur dioxide</th>\n",
       "      <th>total sulfur dioxide</th>\n",
       "      <th>density</th>\n",
       "      <th>pH</th>\n",
       "      <th>sulphates</th>\n",
       "      <th>alcohol</th>\n",
       "      <th>quality</th>\n",
       "    </tr>\n",
       "  </thead>\n",
       "  <tbody>\n",
       "    <tr>\n",
       "      <th>0</th>\n",
       "      <td>0.247788</td>\n",
       "      <td>0.397260</td>\n",
       "      <td>0.0</td>\n",
       "      <td>0.068493</td>\n",
       "      <td>0.106845</td>\n",
       "      <td>0.140845</td>\n",
       "      <td>0.098940</td>\n",
       "      <td>0.567548</td>\n",
       "      <td>0.606299</td>\n",
       "      <td>0.137725</td>\n",
       "      <td>0.153846</td>\n",
       "      <td>5</td>\n",
       "    </tr>\n",
       "    <tr>\n",
       "      <th>1</th>\n",
       "      <td>0.283186</td>\n",
       "      <td>0.520548</td>\n",
       "      <td>0.0</td>\n",
       "      <td>0.116438</td>\n",
       "      <td>0.143573</td>\n",
       "      <td>0.338028</td>\n",
       "      <td>0.215548</td>\n",
       "      <td>0.494126</td>\n",
       "      <td>0.362205</td>\n",
       "      <td>0.209581</td>\n",
       "      <td>0.215385</td>\n",
       "      <td>5</td>\n",
       "    </tr>\n",
       "  </tbody>\n",
       "</table>\n",
       "</div>"
      ],
      "text/plain": [
       "   fixed acidity  volatile acidity  citric acid  residual sugar  chlorides  \\\n",
       "0       0.247788          0.397260          0.0        0.068493   0.106845   \n",
       "1       0.283186          0.520548          0.0        0.116438   0.143573   \n",
       "\n",
       "   free sulfur dioxide  total sulfur dioxide   density        pH  sulphates  \\\n",
       "0             0.140845              0.098940  0.567548  0.606299   0.137725   \n",
       "1             0.338028              0.215548  0.494126  0.362205   0.209581   \n",
       "\n",
       "    alcohol  quality  \n",
       "0  0.153846        5  \n",
       "1  0.215385        5  "
      ]
     },
     "execution_count": 53,
     "metadata": {},
     "output_type": "execute_result"
    }
   ],
   "source": [
    "# Select all the attributes to normalize\n",
    "columns_to_normalize = df.columns[:-1]\n",
    "\n",
    "# Normalize between 0 and 1\n",
    "df_normalized = (df[columns_to_normalize] - df[columns_to_normalize].min()) / (df[columns_to_normalize].max() - df[columns_to_normalize].min())\n",
    "\n",
    "# Combine the attributes and the label\n",
    "df_normalized = pd.concat([df_normalized, df[df.columns[-1]]], axis=1)\n",
    "\n",
    "df_normalized.head(2)"
   ]
  },
  {
   "cell_type": "code",
   "execution_count": 54,
   "metadata": {},
   "outputs": [],
   "source": [
    "combined_dataset = pd.concat([imgs,df_normalized],axis=1)"
   ]
  },
  {
   "cell_type": "code",
   "execution_count": 55,
   "metadata": {},
   "outputs": [
    {
     "data": {
      "text/html": [
       "<div>\n",
       "<style scoped>\n",
       "    .dataframe tbody tr th:only-of-type {\n",
       "        vertical-align: middle;\n",
       "    }\n",
       "\n",
       "    .dataframe tbody tr th {\n",
       "        vertical-align: top;\n",
       "    }\n",
       "\n",
       "    .dataframe thead th {\n",
       "        text-align: right;\n",
       "    }\n",
       "</style>\n",
       "<table border=\"1\" class=\"dataframe\">\n",
       "  <thead>\n",
       "    <tr style=\"text-align: right;\">\n",
       "      <th></th>\n",
       "      <th>images</th>\n",
       "      <th>class</th>\n",
       "      <th>fixed acidity</th>\n",
       "      <th>volatile acidity</th>\n",
       "      <th>citric acid</th>\n",
       "      <th>residual sugar</th>\n",
       "      <th>chlorides</th>\n",
       "      <th>free sulfur dioxide</th>\n",
       "      <th>total sulfur dioxide</th>\n",
       "      <th>density</th>\n",
       "      <th>pH</th>\n",
       "      <th>sulphates</th>\n",
       "      <th>alcohol</th>\n",
       "      <th>quality</th>\n",
       "    </tr>\n",
       "  </thead>\n",
       "  <tbody>\n",
       "    <tr>\n",
       "      <th>0</th>\n",
       "      <td>Wine_Images/5.0/000000.png</td>\n",
       "      <td>5.0</td>\n",
       "      <td>0.247788</td>\n",
       "      <td>0.397260</td>\n",
       "      <td>0.0</td>\n",
       "      <td>0.068493</td>\n",
       "      <td>0.106845</td>\n",
       "      <td>0.140845</td>\n",
       "      <td>0.098940</td>\n",
       "      <td>0.567548</td>\n",
       "      <td>0.606299</td>\n",
       "      <td>0.137725</td>\n",
       "      <td>0.153846</td>\n",
       "      <td>5</td>\n",
       "    </tr>\n",
       "    <tr>\n",
       "      <th>1</th>\n",
       "      <td>Wine_Images/5.0/000001.png</td>\n",
       "      <td>5.0</td>\n",
       "      <td>0.283186</td>\n",
       "      <td>0.520548</td>\n",
       "      <td>0.0</td>\n",
       "      <td>0.116438</td>\n",
       "      <td>0.143573</td>\n",
       "      <td>0.338028</td>\n",
       "      <td>0.215548</td>\n",
       "      <td>0.494126</td>\n",
       "      <td>0.362205</td>\n",
       "      <td>0.209581</td>\n",
       "      <td>0.215385</td>\n",
       "      <td>5</td>\n",
       "    </tr>\n",
       "  </tbody>\n",
       "</table>\n",
       "</div>"
      ],
      "text/plain": [
       "                       images  class  fixed acidity  volatile acidity  \\\n",
       "0  Wine_Images/5.0/000000.png    5.0       0.247788          0.397260   \n",
       "1  Wine_Images/5.0/000001.png    5.0       0.283186          0.520548   \n",
       "\n",
       "   citric acid  residual sugar  chlorides  free sulfur dioxide  \\\n",
       "0          0.0        0.068493   0.106845             0.140845   \n",
       "1          0.0        0.116438   0.143573             0.338028   \n",
       "\n",
       "   total sulfur dioxide   density        pH  sulphates   alcohol  quality  \n",
       "0              0.098940  0.567548  0.606299   0.137725  0.153846        5  \n",
       "1              0.215548  0.494126  0.362205   0.209581  0.215385        5  "
      ]
     },
     "execution_count": 55,
     "metadata": {},
     "output_type": "execute_result"
    }
   ],
   "source": [
    "combined_dataset.head(2)"
   ]
  },
  {
   "cell_type": "code",
   "execution_count": 56,
   "metadata": {},
   "outputs": [
    {
     "name": "stdout",
     "output_type": "stream",
     "text": [
      "0       5.0\n",
      "1       5.0\n",
      "2       5.0\n",
      "3       6.0\n",
      "4       5.0\n",
      "       ... \n",
      "1594    5.0\n",
      "1595    6.0\n",
      "1596    6.0\n",
      "1597    5.0\n",
      "1598    6.0\n",
      "Name: class, Length: 1599, dtype: float64\n"
     ]
    }
   ],
   "source": [
    "combined_dataset = pd.concat([imgs,df_normalized],axis=1)\n",
    "# df_x drop the class and label columns\n",
    "df_x = combined_dataset.drop(\"class\",axis=1).drop(\"quality\",axis=1)\n",
    "# df_y get class column\n",
    "df_y = combined_dataset[\"class\"]\n",
    "\n",
    "print(df_y)"
   ]
  },
  {
   "cell_type": "code",
   "execution_count": 57,
   "metadata": {},
   "outputs": [],
   "source": [
    "# Encode class values as integers, when multi-class classification problem\n",
    "from tensorflow.keras.utils import to_categorical\n",
    "\n",
    "encoder = sklearn.preprocessing.LabelEncoder()\n",
    "df_y_int = encoder.fit_transform(df_y)\n",
    "\n",
    "# Now convert integer-encoded labels to one-hot encoding\n",
    "df_y_onehot = to_categorical(df_y_int)"
   ]
  },
  {
   "cell_type": "code",
   "execution_count": 58,
   "metadata": {},
   "outputs": [
    {
     "data": {
      "text/plain": [
       "array([[0., 0., 1., 0., 0., 0.],\n",
       "       [0., 0., 1., 0., 0., 0.],\n",
       "       [0., 0., 1., 0., 0., 0.],\n",
       "       ...,\n",
       "       [0., 0., 0., 1., 0., 0.],\n",
       "       [0., 0., 1., 0., 0., 0.],\n",
       "       [0., 0., 0., 1., 0., 0.]], dtype=float32)"
      ]
     },
     "execution_count": 58,
     "metadata": {},
     "output_type": "execute_result"
    }
   ],
   "source": [
    "df_y_onehot"
   ]
  },
  {
   "cell_type": "markdown",
   "metadata": {},
   "source": [
    "### Data Splitting"
   ]
  },
  {
   "cell_type": "code",
   "execution_count": 59,
   "metadata": {},
   "outputs": [
    {
     "name": "stdout",
     "output_type": "stream",
     "text": [
      "Images shape:  (20, 20, 3)\n",
      "Attributes:  11\n",
      "Image size (pixels): 20\n"
     ]
    }
   ],
   "source": [
    "import cv2\n",
    "X_train, X_val, y_train, y_val = train_test_split(df_x, df_y_onehot, test_size = 0.40, random_state = 123)\n",
    "X_val, X_test, y_val, y_test = train_test_split(X_val, y_val, test_size = 0.50, random_state = 123)\n",
    "\n",
    "#TIDY DATA SPLITTED\n",
    "X_train_num = X_train.drop(\"images\",axis=1)\n",
    "X_val_num = X_val.drop(\"images\",axis=1)\n",
    "X_test_num = X_test.drop(\"images\",axis=1)\n",
    "\n",
    "#IMAGES\n",
    "# For 3 canal (RGB)\n",
    "X_train_img = np.array([cv2.resize(cv2.imread(img),(pixel_size,pixel_size)) for img in X_train[\"images\"]])\n",
    "X_val_img = np.array([cv2.resize(cv2.imread(img),(pixel_size,pixel_size)) for img in X_val[\"images\"]])\n",
    "X_test_img = np.array([cv2.resize(cv2.imread(img),(pixel_size,pixel_size)) for img in X_test[\"images\"]])\n",
    "\n",
    "# For 1 canal (GRAY SCALE)\n",
    "\"\"\"X_train_img = np.array([cv2.imread(img,cv2.IMREAD_GRAYSCALE) for img in X_train[\"images\"]])\n",
    "X_val_img = np.array([cv2.imread(img,cv2.IMREAD_GRAYSCALE) for img in X_val[\"images\"]])\n",
    "X_test_img = np.array([cv2.imread(img,cv2.IMREAD_GRAYSCALE) for img in X_test[\"images\"]])\"\"\"\n",
    "\n",
    "attributes = len(X_train_num.columns)\n",
    "imgs_shape = X_train_img[0].shape\n",
    "\n",
    "print(\"Images shape: \",imgs_shape)\n",
    "print(\"Attributes: \",attributes)\n",
    "pixels=X_train_img[0].shape[0]\n",
    "print(\"Image size (pixels):\", pixels)"
   ]
  },
  {
   "cell_type": "markdown",
   "metadata": {},
   "source": [
    "### Training"
   ]
  },
  {
   "cell_type": "code",
   "execution_count": 60,
   "metadata": {},
   "outputs": [
    {
     "data": {
      "text/plain": [
       "(959, 11)"
      ]
     },
     "execution_count": 60,
     "metadata": {},
     "output_type": "execute_result"
    }
   ],
   "source": [
    "X_train_num.shape"
   ]
  },
  {
   "cell_type": "code",
   "execution_count": 61,
   "metadata": {},
   "outputs": [],
   "source": [
    "# CPU only\n",
    "X_train_img = tf.cast(X_train_img, tf.float32)"
   ]
  },
  {
   "cell_type": "code",
   "execution_count": 62,
   "metadata": {},
   "outputs": [
    {
     "data": {
      "text/plain": [
       "TensorShape([959, 20, 20, 3])"
      ]
     },
     "execution_count": 62,
     "metadata": {},
     "output_type": "execute_result"
    }
   ],
   "source": [
    "X_train_img.shape"
   ]
  },
  {
   "cell_type": "code",
   "execution_count": 63,
   "metadata": {},
   "outputs": [],
   "source": [
    "num_classes = y_train.shape[1]"
   ]
  },
  {
   "cell_type": "code",
   "execution_count": 65,
   "metadata": {},
   "outputs": [],
   "source": [
    "model = HNNRestNetModel(\n",
    "    filters_ffnn=[128,64,32],\n",
    "    dropout_rate=0.1,\n",
    "    attention_num_heads=10,\n",
    "    attention_key_dim=20,\n",
    "    attention_value_dim=20,\n",
    "    attention_output_dim=20,\n",
    "    attention_dropout=0.1,\n",
    "    ffn_hidden_size=512,\n",
    "    encoder_num_layers=2,\n",
    "    num_classes= num_classes,\n",
    "    attention_use_bias=False,\n",
    ")"
   ]
  },
  {
   "cell_type": "code",
   "execution_count": 66,
   "metadata": {},
   "outputs": [],
   "source": [
    "METRICS = [\n",
    "    #tf.keras.metrics.TruePositives(name = 'tp'),\n",
    "    #tf.keras.metrics.FalsePositives(name = 'fp'),\n",
    "    #tf.keras.metrics.TrueNegatives(name = 'tn'),\n",
    "    #tf.keras.metrics.FalseNegatives(name = 'fn'),\n",
    "    tf.keras.metrics.CategoricalAccuracy(),\n",
    "    tf.keras.metrics.Precision(name = 'precision'),\n",
    "    tf.keras.metrics.Recall(name = 'recall'),\n",
    "    tf.keras.metrics.AUC(name = 'auc'),\n",
    "]"
   ]
  },
  {
   "cell_type": "code",
   "execution_count": 67,
   "metadata": {},
   "outputs": [],
   "source": [
    "#HYPERPARAMETERS\n",
    "opt = tf.keras.optimizers.legacy.Adam()\n",
    "#opt=SGD(learning_rate=1e-4, momentum=0.9)"
   ]
  },
  {
   "cell_type": "code",
   "execution_count": 68,
   "metadata": {},
   "outputs": [],
   "source": [
    "model.compile(\n",
    "    loss=\"categorical_crossentropy\",\n",
    "    optimizer=opt,\n",
    "    metrics = METRICS\n",
    ")\n",
    "epochs = 100"
   ]
  },
  {
   "cell_type": "code",
   "execution_count": 77,
   "metadata": {},
   "outputs": [
    {
     "name": "stdout",
     "output_type": "stream",
     "text": [
      "Epoch 1/100\n",
      "120/120 [==============================] - 11s 91ms/step - loss: 1.1458 - categorical_accuracy: 0.5182 - precision: 0.5423 - recall: 0.3806 - auc: 0.8653 - val_loss: 1.0429 - val_categorical_accuracy: 0.5250 - val_precision: 0.5392 - val_recall: 0.5156 - val_auc: 0.8894\n",
      "Epoch 2/100\n",
      "120/120 [==============================] - 10s 87ms/step - loss: 1.0769 - categorical_accuracy: 0.5443 - precision: 0.5883 - recall: 0.3889 - auc: 0.8780 - val_loss: 0.9745 - val_categorical_accuracy: 0.5844 - val_precision: 0.5965 - val_recall: 0.5312 - val_auc: 0.8983\n",
      "Epoch 3/100\n",
      "120/120 [==============================] - 11s 88ms/step - loss: 1.0819 - categorical_accuracy: 0.5308 - precision: 0.5611 - recall: 0.3973 - auc: 0.8768 - val_loss: 0.9623 - val_categorical_accuracy: 0.5656 - val_precision: 0.5864 - val_recall: 0.5406 - val_auc: 0.8989\n",
      "Epoch 4/100\n",
      "120/120 [==============================] - 11s 88ms/step - loss: 1.0628 - categorical_accuracy: 0.5370 - precision: 0.5960 - recall: 0.4046 - auc: 0.8809 - val_loss: 0.9485 - val_categorical_accuracy: 0.5969 - val_precision: 0.6364 - val_recall: 0.4375 - val_auc: 0.9035\n",
      "Epoch 5/100\n",
      "120/120 [==============================] - 11s 90ms/step - loss: 1.0760 - categorical_accuracy: 0.5120 - precision: 0.5417 - recall: 0.3660 - auc: 0.8759 - val_loss: 0.9339 - val_categorical_accuracy: 0.5813 - val_precision: 0.6067 - val_recall: 0.5063 - val_auc: 0.9041\n",
      "Epoch 6/100\n",
      "120/120 [==============================] - 11s 90ms/step - loss: 1.0652 - categorical_accuracy: 0.5527 - precision: 0.5942 - recall: 0.4046 - auc: 0.8815 - val_loss: 0.9285 - val_categorical_accuracy: 0.6094 - val_precision: 0.6000 - val_recall: 0.4500 - val_auc: 0.9064\n",
      "Epoch 7/100\n",
      "120/120 [==============================] - 11s 89ms/step - loss: 1.0543 - categorical_accuracy: 0.5506 - precision: 0.6158 - recall: 0.3994 - auc: 0.8831 - val_loss: 0.9446 - val_categorical_accuracy: 0.6031 - val_precision: 0.6287 - val_recall: 0.3969 - val_auc: 0.9065\n",
      "Epoch 8/100\n",
      "120/120 [==============================] - 11s 91ms/step - loss: 1.0313 - categorical_accuracy: 0.5662 - precision: 0.6033 - recall: 0.4171 - auc: 0.8878 - val_loss: 0.9304 - val_categorical_accuracy: 0.6031 - val_precision: 0.6490 - val_recall: 0.4219 - val_auc: 0.9091\n",
      "Epoch 9/100\n",
      "120/120 [==============================] - 11s 92ms/step - loss: 1.0500 - categorical_accuracy: 0.5328 - precision: 0.5576 - recall: 0.4140 - auc: 0.8829 - val_loss: 0.9460 - val_categorical_accuracy: 0.5562 - val_precision: 0.6327 - val_recall: 0.4469 - val_auc: 0.9048\n",
      "Epoch 10/100\n",
      "120/120 [==============================] - 11s 94ms/step - loss: 1.0320 - categorical_accuracy: 0.5620 - precision: 0.5997 - recall: 0.4171 - auc: 0.8882 - val_loss: 0.9355 - val_categorical_accuracy: 0.5844 - val_precision: 0.6340 - val_recall: 0.4656 - val_auc: 0.9064\n",
      "Epoch 11/100\n",
      "120/120 [==============================] - 11s 92ms/step - loss: 1.0606 - categorical_accuracy: 0.5683 - precision: 0.6000 - recall: 0.4192 - auc: 0.8831 - val_loss: 0.9285 - val_categorical_accuracy: 0.6031 - val_precision: 0.6094 - val_recall: 0.4875 - val_auc: 0.9071\n",
      "Epoch 12/100\n",
      "120/120 [==============================] - 12s 96ms/step - loss: 1.0375 - categorical_accuracy: 0.5579 - precision: 0.5820 - recall: 0.4327 - auc: 0.8865 - val_loss: 0.9350 - val_categorical_accuracy: 0.6031 - val_precision: 0.6337 - val_recall: 0.4000 - val_auc: 0.9069\n",
      "Epoch 13/100\n",
      "120/120 [==============================] - 11s 95ms/step - loss: 1.0399 - categorical_accuracy: 0.5600 - precision: 0.5962 - recall: 0.4265 - auc: 0.8865 - val_loss: 0.9418 - val_categorical_accuracy: 0.5938 - val_precision: 0.6294 - val_recall: 0.3875 - val_auc: 0.9080\n",
      "Epoch 14/100\n",
      "120/120 [==============================] - 12s 96ms/step - loss: 1.0482 - categorical_accuracy: 0.5454 - precision: 0.5938 - recall: 0.3994 - auc: 0.8838 - val_loss: 0.9275 - val_categorical_accuracy: 0.5906 - val_precision: 0.6125 - val_recall: 0.4594 - val_auc: 0.9064\n",
      "Epoch 15/100\n",
      "120/120 [==============================] - 11s 93ms/step - loss: 1.0234 - categorical_accuracy: 0.5495 - precision: 0.6072 - recall: 0.4223 - auc: 0.8894 - val_loss: 0.9361 - val_categorical_accuracy: 0.5719 - val_precision: 0.6166 - val_recall: 0.4875 - val_auc: 0.9034\n",
      "Epoch 16/100\n",
      "120/120 [==============================] - 11s 93ms/step - loss: 1.0184 - categorical_accuracy: 0.5746 - precision: 0.6209 - recall: 0.4526 - auc: 0.8918 - val_loss: 0.9310 - val_categorical_accuracy: 0.5969 - val_precision: 0.6286 - val_recall: 0.4125 - val_auc: 0.9099\n",
      "Epoch 17/100\n",
      "120/120 [==============================] - 11s 93ms/step - loss: 1.0106 - categorical_accuracy: 0.5725 - precision: 0.5944 - recall: 0.4202 - auc: 0.8926 - val_loss: 0.9233 - val_categorical_accuracy: 0.5938 - val_precision: 0.6179 - val_recall: 0.4750 - val_auc: 0.9080\n",
      "Epoch 18/100\n",
      "120/120 [==============================] - 11s 95ms/step - loss: 1.0358 - categorical_accuracy: 0.5631 - precision: 0.6072 - recall: 0.4223 - auc: 0.8877 - val_loss: 0.9132 - val_categorical_accuracy: 0.6000 - val_precision: 0.6286 - val_recall: 0.4812 - val_auc: 0.9098\n",
      "Epoch 19/100\n",
      "120/120 [==============================] - 11s 94ms/step - loss: 1.0326 - categorical_accuracy: 0.5276 - precision: 0.5740 - recall: 0.3962 - auc: 0.8857 - val_loss: 0.9373 - val_categorical_accuracy: 0.5969 - val_precision: 0.6576 - val_recall: 0.3781 - val_auc: 0.9097\n",
      "Epoch 20/100\n",
      "120/120 [==============================] - 11s 94ms/step - loss: 1.0378 - categorical_accuracy: 0.5579 - precision: 0.5917 - recall: 0.4004 - auc: 0.8858 - val_loss: 0.9209 - val_categorical_accuracy: 0.6062 - val_precision: 0.6450 - val_recall: 0.4656 - val_auc: 0.9107\n",
      "Epoch 21/100\n",
      "120/120 [==============================] - 12s 96ms/step - loss: 1.0322 - categorical_accuracy: 0.5568 - precision: 0.5910 - recall: 0.4265 - auc: 0.8875 - val_loss: 0.9177 - val_categorical_accuracy: 0.5906 - val_precision: 0.6367 - val_recall: 0.4875 - val_auc: 0.9086\n",
      "Epoch 22/100\n",
      "120/120 [==============================] - 11s 93ms/step - loss: 1.0266 - categorical_accuracy: 0.5537 - precision: 0.5910 - recall: 0.4098 - auc: 0.8878 - val_loss: 0.9280 - val_categorical_accuracy: 0.6000 - val_precision: 0.5962 - val_recall: 0.4938 - val_auc: 0.9072\n",
      "Epoch 23/100\n",
      "120/120 [==============================] - 11s 95ms/step - loss: 1.0506 - categorical_accuracy: 0.5360 - precision: 0.5954 - recall: 0.4359 - auc: 0.8839 - val_loss: 0.9183 - val_categorical_accuracy: 0.6187 - val_precision: 0.6635 - val_recall: 0.4313 - val_auc: 0.9118\n"
     ]
    }
   ],
   "source": [
    "early_stopping = tf.keras.callbacks.EarlyStopping(monitor='val_recall', patience=20, mode=\"max\" ,restore_best_weights=True)\n",
    "\n",
    "model_history=model.fit(\n",
    "    x=[X_train_num, X_train_img], y=y_train,\n",
    "    validation_data=([X_val_num, X_val_img], y_val),\n",
    "    epochs=epochs ,\n",
    "    batch_size=8,\n",
    "    callbacks=[early_stopping]\n",
    ")"
   ]
  },
  {
   "cell_type": "code",
   "execution_count": 70,
   "metadata": {},
   "outputs": [
    {
     "name": "stdout",
     "output_type": "stream",
     "text": [
      "dict_keys(['loss', 'categorical_accuracy', 'precision', 'recall', 'auc', 'val_loss', 'val_categorical_accuracy', 'val_precision', 'val_recall', 'val_auc'])\n"
     ]
    }
   ],
   "source": [
    "print(model_history.history.keys())"
   ]
  },
  {
   "cell_type": "markdown",
   "metadata": {},
   "source": [
    "### Test & Val"
   ]
  },
  {
   "cell_type": "code",
   "execution_count": 71,
   "metadata": {},
   "outputs": [
    {
     "data": {
      "image/png": "[encoded data removed]",
      "text/plain": [
       "<Figure size 640x480 with 1 Axes>"
      ]
     },
     "metadata": {},
     "output_type": "display_data"
    }
   ],
   "source": [
    "#print(model_history.history['loss'])\n",
    "plt.plot(model_history.history['loss'], color = 'red', label = 'loss')\n",
    "plt.plot(model_history.history['val_loss'], color = 'green', label = 'val loss')\n",
    "plt.legend(loc = 'upper right')\n",
    "\n",
    "plt.show()"
   ]
  },
  {
   "cell_type": "code",
   "execution_count": 72,
   "metadata": {},
   "outputs": [
    {
     "data": {
      "image/png": "[encoded data removed]",
      "text/plain": [
       "<Figure size 640x480 with 1 Axes>"
      ]
     },
     "metadata": {},
     "output_type": "display_data"
    }
   ],
   "source": [
    "plt.plot(model_history.history['categorical_accuracy'], color = 'red', label = 'accuracy')\n",
    "plt.plot(model_history.history['val_categorical_accuracy'], color = 'green', label = 'val accuracy')\n",
    "plt.legend(loc = 'upper right')\n",
    "plt.show()"
   ]
  },
  {
   "cell_type": "code",
   "execution_count": 73,
   "metadata": {},
   "outputs": [
    {
     "name": "stdout",
     "output_type": "stream",
     "text": [
      "10/10 [==============================] - 2s 68ms/step - loss: 2.5369 - categorical_accuracy: 0.4906 - precision: 0.4906 - recall: 0.4906 - auc: 0.7967\n"
     ]
    }
   ],
   "source": [
    "score_test= model.evaluate([X_test_num, X_test_img], y_test)"
   ]
  },
  {
   "cell_type": "code",
   "execution_count": 74,
   "metadata": {},
   "outputs": [
    {
     "name": "stdout",
     "output_type": "stream",
     "text": [
      "10/10 [==============================] - 1s 43ms/step\n"
     ]
    }
   ],
   "source": [
    "prediction = model.predict([X_test_num,X_test_img],)\n",
    "real_values= np.argmax(y_test, axis = 1)\n",
    "predicted_classes = np.argmax(prediction, axis = 1)\n",
    "\n",
    "result = [list(t) for t in zip(predicted_classes, real_values)]\n",
    "#print(np.round(prediction))\n"
   ]
  },
  {
   "cell_type": "code",
   "execution_count": 75,
   "metadata": {},
   "outputs": [],
   "source": [
    "from sklearn.metrics import confusion_matrix\n",
    "cf_matrix = confusion_matrix(real_values, predicted_classes)\n"
   ]
  },
  {
   "cell_type": "code",
   "execution_count": 76,
   "metadata": {},
   "outputs": [
    {
     "data": {
      "text/plain": [
       "<Axes: >"
      ]
     },
     "execution_count": 76,
     "metadata": {},
     "output_type": "execute_result"
    },
    {
     "data": {
      "image/png": "[encoded data removed]",
      "text/plain": [
       "<Figure size 640x480 with 2 Axes>"
      ]
     },
     "metadata": {},
     "output_type": "display_data"
    }
   ],
   "source": [
    "import seaborn as sns\n",
    "sns.heatmap(cf_matrix, annot=True)"
   ]
  },
  {
   "cell_type": "code",
   "execution_count": 353,
   "metadata": {},
   "outputs": [
    {
     "name": "stdout",
     "output_type": "stream",
     "text": [
      "Test accuracy: 0.9666666388511658\n",
      "Test AUC: 0.9897221922874451\n",
      "Test precision: 0.9655172228813171\n",
      "Test recall: 0.9333333373069763\n"
     ]
    }
   ],
   "source": [
    "test_accuracy = score_test[1]\n",
    "test_auc = score_test[4]\n",
    "test_precision = score_test[2]\n",
    "test_recall = score_test[3]\n",
    "\n",
    "print(\"Test accuracy:\",test_accuracy)\n",
    "print(\"Test AUC:\",test_auc)\n",
    "print(\"Test precision:\",test_precision)\n",
    "print(\"Test recall:\",test_recall)"
   ]
  },
  {
   "cell_type": "code",
   "execution_count": 355,
   "metadata": {},
   "outputs": [
    {
     "name": "stdout",
     "output_type": "stream",
     "text": [
      "Train accuracy: 0.8651685118675232\n",
      "Train AUC: 0.9656293988227844\n",
      "Train precision: 0.8735632300376892\n",
      "Train recall: 0.8539325594902039\n",
      "Train loss: 0.348810076713562\n"
     ]
    }
   ],
   "source": [
    "train_accuracy = model_history.history[\"categorical_accuracy\"][-1]\n",
    "train_auc = model_history.history[\"auc\"][-1]\n",
    "train_precision = model_history.history[\"precision\"][-1]\n",
    "train_recall = model_history.history[\"recall\"][-1]\n",
    "train_loss = model_history.history[\"loss\"][-1]\n",
    "\n",
    "print(\"Train accuracy:\",train_accuracy)\n",
    "print(\"Train AUC:\",train_auc)\n",
    "print(\"Train precision:\",train_precision)\n",
    "print(\"Train recall:\",train_recall)\n",
    "print(\"Train loss:\",train_loss)"
   ]
  },
  {
   "cell_type": "code",
   "execution_count": 356,
   "metadata": {},
   "outputs": [
    {
     "name": "stdout",
     "output_type": "stream",
     "text": [
      "Validation accuracy: 0.7333333492279053\n",
      "Validation AUC: 0.9027777910232544\n",
      "Validation precision: 0.7333333492279053\n",
      "Validation recall: 0.7333333492279053\n",
      "Validation loss: 1.2811261415481567\n"
     ]
    }
   ],
   "source": [
    "validation_accuracy = model_history.history[\"val_categorical_accuracy\"][-1]\n",
    "validation_auc = model_history.history[\"val_auc\"][-1]\n",
    "validation_precision = model_history.history[\"val_precision\"][-1]\n",
    "validation_recall = model_history.history[\"val_recall\"][-1]\n",
    "validation_loss = model_history.history[\"val_loss\"][-1]\n",
    "\n",
    "print(\"Validation accuracy:\",validation_accuracy)\n",
    "print(\"Validation AUC:\",validation_auc)\n",
    "print(\"Validation precision:\",validation_precision)\n",
    "print(\"Validation recall:\",validation_recall)\n",
    "print(\"Validation loss:\",validation_loss)"
   ]
  },
  {
   "cell_type": "markdown",
   "metadata": {},
   "source": [
    "## Tx4 Dataset"
   ]
  },
  {
   "cell_type": "markdown",
   "metadata": {},
   "source": [
    "### Data Loading"
   ]
  },
  {
   "cell_type": "code",
   "execution_count": 357,
   "metadata": {},
   "outputs": [],
   "source": [
    "#Select the model and the parameters\n",
    "# problem_type: supervised, unsupervised or regeression\n",
    "problem_type = \"supervised\"\n",
    "# default TINTO image 20x20\n",
    "image_model = TINTO(problem= problem_type,blur=True)\n",
    "pixel_size = 20\n",
    "\n",
    "#Define the dataset path and the folder where the images will be saved\n",
    "dataset_path = \"./data_files/Tx_4.csv\"\n",
    "images_folder = \"HyNNImages/Classification/TX_4Classification\""
   ]
  },
  {
   "cell_type": "code",
   "execution_count": 358,
   "metadata": {},
   "outputs": [
    {
     "data": {
      "text/html": [
       "<div>\n",
       "<style scoped>\n",
       "    .dataframe tbody tr th:only-of-type {\n",
       "        vertical-align: middle;\n",
       "    }\n",
       "\n",
       "    .dataframe tbody tr th {\n",
       "        vertical-align: top;\n",
       "    }\n",
       "\n",
       "    .dataframe thead th {\n",
       "        text-align: right;\n",
       "    }\n",
       "</style>\n",
       "<table border=\"1\" class=\"dataframe\">\n",
       "  <thead>\n",
       "    <tr style=\"text-align: right;\">\n",
       "      <th></th>\n",
       "      <th>B1</th>\n",
       "      <th>B2</th>\n",
       "      <th>B3</th>\n",
       "      <th>B4</th>\n",
       "      <th>B5</th>\n",
       "      <th>B6</th>\n",
       "      <th>Sector</th>\n",
       "    </tr>\n",
       "  </thead>\n",
       "  <tbody>\n",
       "    <tr>\n",
       "      <th>0</th>\n",
       "      <td>-60</td>\n",
       "      <td>-88</td>\n",
       "      <td>-78</td>\n",
       "      <td>-76</td>\n",
       "      <td>-91</td>\n",
       "      <td>-76</td>\n",
       "      <td>1</td>\n",
       "    </tr>\n",
       "    <tr>\n",
       "      <th>1</th>\n",
       "      <td>-60</td>\n",
       "      <td>-75</td>\n",
       "      <td>-76</td>\n",
       "      <td>-74</td>\n",
       "      <td>-88</td>\n",
       "      <td>-74</td>\n",
       "      <td>1</td>\n",
       "    </tr>\n",
       "  </tbody>\n",
       "</table>\n",
       "</div>"
      ],
      "text/plain": [
       "   B1  B2  B3  B4  B5  B6  Sector\n",
       "0 -60 -88 -78 -76 -91 -76       1\n",
       "1 -60 -75 -76 -74 -88 -74       1"
      ]
     },
     "execution_count": 358,
     "metadata": {},
     "output_type": "execute_result"
    }
   ],
   "source": [
    "#Read CSV\n",
    "df = pd.read_csv(dataset_path)\n",
    "df.head(2)"
   ]
  },
  {
   "cell_type": "code",
   "execution_count": 359,
   "metadata": {},
   "outputs": [
    {
     "name": "stdout",
     "output_type": "stream",
     "text": [
      "HyNNImages/Classification/TX_4Classification\\supervised.csv\n"
     ]
    }
   ],
   "source": [
    "#Generate thet images\n",
    "image_model.generateImages(df, images_folder)\n",
    "img_paths = os.path.join(images_folder,problem_type+\".csv\")\n",
    "print(img_paths)"
   ]
  },
  {
   "cell_type": "code",
   "execution_count": 360,
   "metadata": {},
   "outputs": [],
   "source": [
    "# Read images\n",
    "imgs = pd.read_csv(img_paths)\n",
    "\n",
    "imgs[\"images\"]= images_folder + \"/\" + imgs[\"images\"]"
   ]
  },
  {
   "cell_type": "code",
   "execution_count": 361,
   "metadata": {},
   "outputs": [
    {
     "data": {
      "text/html": [
       "<div>\n",
       "<style scoped>\n",
       "    .dataframe tbody tr th:only-of-type {\n",
       "        vertical-align: middle;\n",
       "    }\n",
       "\n",
       "    .dataframe tbody tr th {\n",
       "        vertical-align: top;\n",
       "    }\n",
       "\n",
       "    .dataframe thead th {\n",
       "        text-align: right;\n",
       "    }\n",
       "</style>\n",
       "<table border=\"1\" class=\"dataframe\">\n",
       "  <thead>\n",
       "    <tr style=\"text-align: right;\">\n",
       "      <th></th>\n",
       "      <th>images</th>\n",
       "      <th>class</th>\n",
       "    </tr>\n",
       "  </thead>\n",
       "  <tbody>\n",
       "    <tr>\n",
       "      <th>0</th>\n",
       "      <td>HyNNImages/Classification/TX_4Classification/0...</td>\n",
       "      <td>1</td>\n",
       "    </tr>\n",
       "    <tr>\n",
       "      <th>1</th>\n",
       "      <td>HyNNImages/Classification/TX_4Classification/0...</td>\n",
       "      <td>1</td>\n",
       "    </tr>\n",
       "  </tbody>\n",
       "</table>\n",
       "</div>"
      ],
      "text/plain": [
       "                                              images  class\n",
       "0  HyNNImages/Classification/TX_4Classification/0...      1\n",
       "1  HyNNImages/Classification/TX_4Classification/0...      1"
      ]
     },
     "execution_count": 361,
     "metadata": {},
     "output_type": "execute_result"
    }
   ],
   "source": [
    "imgs.head(2)"
   ]
  },
  {
   "cell_type": "code",
   "execution_count": 362,
   "metadata": {},
   "outputs": [
    {
     "data": {
      "text/html": [
       "<div>\n",
       "<style scoped>\n",
       "    .dataframe tbody tr th:only-of-type {\n",
       "        vertical-align: middle;\n",
       "    }\n",
       "\n",
       "    .dataframe tbody tr th {\n",
       "        vertical-align: top;\n",
       "    }\n",
       "\n",
       "    .dataframe thead th {\n",
       "        text-align: right;\n",
       "    }\n",
       "</style>\n",
       "<table border=\"1\" class=\"dataframe\">\n",
       "  <thead>\n",
       "    <tr style=\"text-align: right;\">\n",
       "      <th></th>\n",
       "      <th>B1</th>\n",
       "      <th>B2</th>\n",
       "      <th>B3</th>\n",
       "      <th>B4</th>\n",
       "      <th>B5</th>\n",
       "      <th>B6</th>\n",
       "      <th>Sector</th>\n",
       "    </tr>\n",
       "  </thead>\n",
       "  <tbody>\n",
       "    <tr>\n",
       "      <th>0</th>\n",
       "      <td>0.913043</td>\n",
       "      <td>0.304348</td>\n",
       "      <td>0.468085</td>\n",
       "      <td>0.562500</td>\n",
       "      <td>0.244444</td>\n",
       "      <td>0.56</td>\n",
       "      <td>1</td>\n",
       "    </tr>\n",
       "    <tr>\n",
       "      <th>1</th>\n",
       "      <td>0.913043</td>\n",
       "      <td>0.586957</td>\n",
       "      <td>0.510638</td>\n",
       "      <td>0.604167</td>\n",
       "      <td>0.311111</td>\n",
       "      <td>0.60</td>\n",
       "      <td>1</td>\n",
       "    </tr>\n",
       "  </tbody>\n",
       "</table>\n",
       "</div>"
      ],
      "text/plain": [
       "         B1        B2        B3        B4        B5    B6  Sector\n",
       "0  0.913043  0.304348  0.468085  0.562500  0.244444  0.56       1\n",
       "1  0.913043  0.586957  0.510638  0.604167  0.311111  0.60       1"
      ]
     },
     "execution_count": 362,
     "metadata": {},
     "output_type": "execute_result"
    }
   ],
   "source": [
    "# Select all the attributes to normalize\n",
    "columns_to_normalize = df.columns[:-1]\n",
    "\n",
    "# Normalize between 0 and 1\n",
    "df_normalized = (df[columns_to_normalize] - df[columns_to_normalize].min()) / (df[columns_to_normalize].max() - df[columns_to_normalize].min())\n",
    "\n",
    "# Combine the attributes and the label\n",
    "df_normalized = pd.concat([df_normalized, df[df.columns[-1]]], axis=1)\n",
    "\n",
    "df_normalized.head(2)"
   ]
  },
  {
   "cell_type": "code",
   "execution_count": 363,
   "metadata": {},
   "outputs": [],
   "source": [
    "combined_dataset = pd.concat([imgs,df_normalized],axis=1)"
   ]
  },
  {
   "cell_type": "code",
   "execution_count": 364,
   "metadata": {},
   "outputs": [
    {
     "data": {
      "text/html": [
       "<div>\n",
       "<style scoped>\n",
       "    .dataframe tbody tr th:only-of-type {\n",
       "        vertical-align: middle;\n",
       "    }\n",
       "\n",
       "    .dataframe tbody tr th {\n",
       "        vertical-align: top;\n",
       "    }\n",
       "\n",
       "    .dataframe thead th {\n",
       "        text-align: right;\n",
       "    }\n",
       "</style>\n",
       "<table border=\"1\" class=\"dataframe\">\n",
       "  <thead>\n",
       "    <tr style=\"text-align: right;\">\n",
       "      <th></th>\n",
       "      <th>images</th>\n",
       "      <th>class</th>\n",
       "      <th>B1</th>\n",
       "      <th>B2</th>\n",
       "      <th>B3</th>\n",
       "      <th>B4</th>\n",
       "      <th>B5</th>\n",
       "      <th>B6</th>\n",
       "      <th>Sector</th>\n",
       "    </tr>\n",
       "  </thead>\n",
       "  <tbody>\n",
       "    <tr>\n",
       "      <th>0</th>\n",
       "      <td>HyNNImages/Classification/TX_4Classification/0...</td>\n",
       "      <td>1</td>\n",
       "      <td>0.913043</td>\n",
       "      <td>0.304348</td>\n",
       "      <td>0.468085</td>\n",
       "      <td>0.562500</td>\n",
       "      <td>0.244444</td>\n",
       "      <td>0.56</td>\n",
       "      <td>1</td>\n",
       "    </tr>\n",
       "    <tr>\n",
       "      <th>1</th>\n",
       "      <td>HyNNImages/Classification/TX_4Classification/0...</td>\n",
       "      <td>1</td>\n",
       "      <td>0.913043</td>\n",
       "      <td>0.586957</td>\n",
       "      <td>0.510638</td>\n",
       "      <td>0.604167</td>\n",
       "      <td>0.311111</td>\n",
       "      <td>0.60</td>\n",
       "      <td>1</td>\n",
       "    </tr>\n",
       "  </tbody>\n",
       "</table>\n",
       "</div>"
      ],
      "text/plain": [
       "                                              images  class        B1  \\\n",
       "0  HyNNImages/Classification/TX_4Classification/0...      1  0.913043   \n",
       "1  HyNNImages/Classification/TX_4Classification/0...      1  0.913043   \n",
       "\n",
       "         B2        B3        B4        B5    B6  Sector  \n",
       "0  0.304348  0.468085  0.562500  0.244444  0.56       1  \n",
       "1  0.586957  0.510638  0.604167  0.311111  0.60       1  "
      ]
     },
     "execution_count": 364,
     "metadata": {},
     "output_type": "execute_result"
    }
   ],
   "source": [
    "combined_dataset.head(2)"
   ]
  },
  {
   "cell_type": "code",
   "execution_count": 365,
   "metadata": {},
   "outputs": [
    {
     "name": "stdout",
     "output_type": "stream",
     "text": [
      "0        1\n",
      "1        1\n",
      "2        1\n",
      "3        1\n",
      "4        1\n",
      "        ..\n",
      "2795    28\n",
      "2796    28\n",
      "2797    28\n",
      "2798    28\n",
      "2799    28\n",
      "Name: class, Length: 2800, dtype: int64\n"
     ]
    }
   ],
   "source": [
    "combined_dataset = pd.concat([imgs,df_normalized],axis=1)\n",
    "# df_x drop the class and label columns\n",
    "df_x = combined_dataset.drop(\"class\",axis=1).drop(\"Sector\",axis=1)\n",
    "# df_y get class column\n",
    "df_y = combined_dataset[\"class\"]\n",
    "\n",
    "print(df_y)"
   ]
  },
  {
   "cell_type": "code",
   "execution_count": 366,
   "metadata": {},
   "outputs": [],
   "source": [
    "# Encode class values as integers, when multi-class classification problem\n",
    "from tensorflow.keras.utils import to_categorical\n",
    "\n",
    "encoder = sklearn.preprocessing.LabelEncoder()\n",
    "df_y_int = encoder.fit_transform(df_y)\n",
    "\n",
    "# Now convert integer-encoded labels to one-hot encoding\n",
    "df_y_onehot = to_categorical(df_y_int)"
   ]
  },
  {
   "cell_type": "markdown",
   "metadata": {},
   "source": [
    "### Data Splitting"
   ]
  },
  {
   "cell_type": "code",
   "execution_count": 367,
   "metadata": {},
   "outputs": [
    {
     "name": "stdout",
     "output_type": "stream",
     "text": [
      "Images shape:  (20, 20, 3)\n",
      "Attributes:  6\n",
      "Image size (pixels): 20\n"
     ]
    }
   ],
   "source": [
    "import cv2\n",
    "X_train, X_val, y_train, y_val = train_test_split(df_x, df_y_onehot, test_size = 0.40, random_state = 123)\n",
    "X_val, X_test, y_val, y_test = train_test_split(X_val, y_val, test_size = 0.50, random_state = 123)\n",
    "\n",
    "#TIDY DATA SPLITTED\n",
    "X_train_num = X_train.drop(\"images\",axis=1)\n",
    "X_val_num = X_val.drop(\"images\",axis=1)\n",
    "X_test_num = X_test.drop(\"images\",axis=1)\n",
    "\n",
    "#IMAGES\n",
    "# For 3 canal (RGB)\n",
    "X_train_img = np.array([cv2.resize(cv2.imread(img),(pixel_size,pixel_size)) for img in X_train[\"images\"]])\n",
    "X_val_img = np.array([cv2.resize(cv2.imread(img),(pixel_size,pixel_size)) for img in X_val[\"images\"]])\n",
    "X_test_img = np.array([cv2.resize(cv2.imread(img),(pixel_size,pixel_size)) for img in X_test[\"images\"]])\n",
    "\n",
    "# For 1 canal (GRAY SCALE)\n",
    "\"\"\"X_train_img = np.array([cv2.imread(img,cv2.IMREAD_GRAYSCALE) for img in X_train[\"images\"]])\n",
    "X_val_img = np.array([cv2.imread(img,cv2.IMREAD_GRAYSCALE) for img in X_val[\"images\"]])\n",
    "X_test_img = np.array([cv2.imread(img,cv2.IMREAD_GRAYSCALE) for img in X_test[\"images\"]])\"\"\"\n",
    "\n",
    "attributes = len(X_train_num.columns)\n",
    "imgs_shape = X_train_img[0].shape\n",
    "\n",
    "print(\"Images shape: \",imgs_shape)\n",
    "print(\"Attributes: \",attributes)\n",
    "pixels=X_train_img[0].shape[0]\n",
    "print(\"Image size (pixels):\", pixels)"
   ]
  },
  {
   "cell_type": "markdown",
   "metadata": {},
   "source": [
    "### Training"
   ]
  },
  {
   "cell_type": "code",
   "execution_count": 368,
   "metadata": {},
   "outputs": [
    {
     "data": {
      "text/plain": [
       "(1680, 6)"
      ]
     },
     "execution_count": 368,
     "metadata": {},
     "output_type": "execute_result"
    }
   ],
   "source": [
    "X_train_num.shape"
   ]
  },
  {
   "cell_type": "code",
   "execution_count": 369,
   "metadata": {},
   "outputs": [],
   "source": [
    "# CPU only\n",
    "X_train_img = tf.cast(X_train_img, tf.float32)"
   ]
  },
  {
   "cell_type": "code",
   "execution_count": 370,
   "metadata": {},
   "outputs": [
    {
     "data": {
      "text/plain": [
       "TensorShape([1680, 20, 20, 3])"
      ]
     },
     "execution_count": 370,
     "metadata": {},
     "output_type": "execute_result"
    }
   ],
   "source": [
    "X_train_img.shape"
   ]
  },
  {
   "cell_type": "code",
   "execution_count": 371,
   "metadata": {},
   "outputs": [],
   "source": [
    "num_classes = y_train.shape[1]"
   ]
  },
  {
   "cell_type": "code",
   "execution_count": 372,
   "metadata": {},
   "outputs": [
    {
     "data": {
      "text/plain": [
       "(1680, 28)"
      ]
     },
     "execution_count": 372,
     "metadata": {},
     "output_type": "execute_result"
    }
   ],
   "source": [
    "y_train.shape"
   ]
  },
  {
   "cell_type": "code",
   "execution_count": 373,
   "metadata": {},
   "outputs": [],
   "source": [
    "model = HNNRestNetModel(\n",
    "    filters_ffnn=[128,64,32],\n",
    "    dropout_rate=0.1,\n",
    "    attention_num_heads=10,\n",
    "    attention_key_dim=20,\n",
    "    attention_value_dim=20,\n",
    "    attention_output_dim=20,\n",
    "    attention_dropout=0.1,\n",
    "    ffn_hidden_size=512,\n",
    "    encoder_num_layers=3,\n",
    "    num_classes=num_classes,\n",
    "    attention_use_bias=False,\n",
    ")"
   ]
  },
  {
   "cell_type": "code",
   "execution_count": 374,
   "metadata": {},
   "outputs": [],
   "source": [
    "METRICS = [\n",
    "    #tf.keras.metrics.TruePositives(name = 'tp'),\n",
    "    #tf.keras.metrics.FalsePositives(name = 'fp'),\n",
    "    #tf.keras.metrics.TrueNegatives(name = 'tn'),\n",
    "    #tf.keras.metrics.FalseNegatives(name = 'fn'),\n",
    "    tf.keras.metrics.CategoricalAccuracy(),\n",
    "    tf.keras.metrics.Precision(name = 'precision'),\n",
    "    tf.keras.metrics.Recall(name = 'recall'),\n",
    "    tf.keras.metrics.AUC(name = 'auc'),\n",
    "]"
   ]
  },
  {
   "cell_type": "code",
   "execution_count": 375,
   "metadata": {},
   "outputs": [],
   "source": [
    "#HYPERPARAMETERS\n",
    "opt = Adam()\n",
    "#opt=SGD(learning_rate=1e-4, momentum=0.9)"
   ]
  },
  {
   "cell_type": "code",
   "execution_count": 376,
   "metadata": {},
   "outputs": [],
   "source": [
    "model.compile(\n",
    "    loss=\"categorical_crossentropy\",\n",
    "    optimizer=opt,\n",
    "    metrics = METRICS\n",
    ")\n",
    "epochs = 100"
   ]
  },
  {
   "cell_type": "code",
   "execution_count": 377,
   "metadata": {},
   "outputs": [
    {
     "name": "stdout",
     "output_type": "stream",
     "text": [
      "Epoch 1/100\n"
     ]
    },
    {
     "name": "stdout",
     "output_type": "stream",
     "text": [
      "210/210 [==============================] - 18s 47ms/step - loss: 3.4253 - categorical_accuracy: 0.0405 - precision: 0.0000e+00 - recall: 0.0000e+00 - auc: 0.5179 - val_loss: 3.3550 - val_categorical_accuracy: 0.0321 - val_precision: 0.0000e+00 - val_recall: 0.0000e+00 - val_auc: 0.5037\n",
      "Epoch 2/100\n",
      "210/210 [==============================] - 8s 39ms/step - loss: 3.2553 - categorical_accuracy: 0.0863 - precision: 0.0000e+00 - recall: 0.0000e+00 - auc: 0.6112 - val_loss: 3.2641 - val_categorical_accuracy: 0.1071 - val_precision: 0.0000e+00 - val_recall: 0.0000e+00 - val_auc: 0.6008\n",
      "Epoch 3/100\n",
      "210/210 [==============================] - 8s 40ms/step - loss: 3.1232 - categorical_accuracy: 0.1208 - precision: 0.0000e+00 - recall: 0.0000e+00 - auc: 0.6783 - val_loss: 3.0028 - val_categorical_accuracy: 0.1768 - val_precision: 0.0000e+00 - val_recall: 0.0000e+00 - val_auc: 0.7391\n",
      "Epoch 4/100\n",
      "210/210 [==============================] - 9s 42ms/step - loss: 2.9759 - categorical_accuracy: 0.1470 - precision: 1.0000 - recall: 0.0036 - auc: 0.7361 - val_loss: 2.7997 - val_categorical_accuracy: 0.1875 - val_precision: 1.0000 - val_recall: 0.0161 - val_auc: 0.7912\n",
      "Epoch 5/100\n",
      "210/210 [==============================] - 9s 41ms/step - loss: 2.8487 - categorical_accuracy: 0.1673 - precision: 0.6111 - recall: 0.0065 - auc: 0.7803 - val_loss: 2.6290 - val_categorical_accuracy: 0.2125 - val_precision: 0.9231 - val_recall: 0.0214 - val_auc: 0.8274\n",
      "Epoch 6/100\n",
      "210/210 [==============================] - 8s 40ms/step - loss: 2.7651 - categorical_accuracy: 0.1869 - precision: 0.7895 - recall: 0.0089 - auc: 0.7946 - val_loss: 2.5031 - val_categorical_accuracy: 0.2429 - val_precision: 0.9091 - val_recall: 0.0357 - val_auc: 0.8524\n",
      "Epoch 7/100\n",
      "210/210 [==============================] - 8s 40ms/step - loss: 2.6749 - categorical_accuracy: 0.2012 - precision: 0.6667 - recall: 0.0119 - auc: 0.8140 - val_loss: 2.3956 - val_categorical_accuracy: 0.2554 - val_precision: 0.8286 - val_recall: 0.0518 - val_auc: 0.8684\n",
      "Epoch 8/100\n",
      "210/210 [==============================] - 8s 40ms/step - loss: 2.6257 - categorical_accuracy: 0.2185 - precision: 0.7143 - recall: 0.0179 - auc: 0.8232 - val_loss: 2.3335 - val_categorical_accuracy: 0.2839 - val_precision: 0.7500 - val_recall: 0.0429 - val_auc: 0.8778\n",
      "Epoch 9/100\n",
      "210/210 [==============================] - 9s 41ms/step - loss: 2.6111 - categorical_accuracy: 0.2155 - precision: 0.6939 - recall: 0.0202 - auc: 0.8252 - val_loss: 2.2831 - val_categorical_accuracy: 0.3018 - val_precision: 0.7442 - val_recall: 0.0571 - val_auc: 0.8854\n",
      "Epoch 10/100\n",
      "210/210 [==============================] - 9s 42ms/step - loss: 2.5875 - categorical_accuracy: 0.1982 - precision: 0.6250 - recall: 0.0179 - auc: 0.8309 - val_loss: 2.2863 - val_categorical_accuracy: 0.2893 - val_precision: 0.7255 - val_recall: 0.0661 - val_auc: 0.8863\n",
      "Epoch 11/100\n",
      "210/210 [==============================] - 8s 40ms/step - loss: 2.5445 - categorical_accuracy: 0.2173 - precision: 0.7143 - recall: 0.0327 - auc: 0.8389 - val_loss: 2.2064 - val_categorical_accuracy: 0.3214 - val_precision: 0.7273 - val_recall: 0.0571 - val_auc: 0.8966\n",
      "Epoch 12/100\n",
      "210/210 [==============================] - 9s 41ms/step - loss: 2.5568 - categorical_accuracy: 0.2173 - precision: 0.6250 - recall: 0.0238 - auc: 0.8356 - val_loss: 2.1829 - val_categorical_accuracy: 0.3196 - val_precision: 0.7308 - val_recall: 0.0679 - val_auc: 0.8977\n",
      "Epoch 13/100\n",
      "210/210 [==============================] - 9s 42ms/step - loss: 2.5371 - categorical_accuracy: 0.2393 - precision: 0.5352 - recall: 0.0226 - auc: 0.8390 - val_loss: 2.1784 - val_categorical_accuracy: 0.3143 - val_precision: 0.6552 - val_recall: 0.0679 - val_auc: 0.9012\n",
      "Epoch 14/100\n",
      "210/210 [==============================] - 8s 40ms/step - loss: 2.5111 - categorical_accuracy: 0.2381 - precision: 0.6212 - recall: 0.0244 - auc: 0.8436 - val_loss: 2.1334 - val_categorical_accuracy: 0.3232 - val_precision: 0.6154 - val_recall: 0.0714 - val_auc: 0.9057\n",
      "Epoch 15/100\n",
      "210/210 [==============================] - 8s 40ms/step - loss: 2.5128 - categorical_accuracy: 0.2292 - precision: 0.6216 - recall: 0.0274 - auc: 0.8442 - val_loss: 2.1348 - val_categorical_accuracy: 0.3214 - val_precision: 0.6567 - val_recall: 0.0786 - val_auc: 0.9070\n",
      "Epoch 16/100\n",
      "210/210 [==============================] - 8s 39ms/step - loss: 2.4852 - categorical_accuracy: 0.2357 - precision: 0.6061 - recall: 0.0238 - auc: 0.8489 - val_loss: 2.1231 - val_categorical_accuracy: 0.3107 - val_precision: 0.6716 - val_recall: 0.0804 - val_auc: 0.9072\n",
      "Epoch 17/100\n",
      "210/210 [==============================] - 8s 40ms/step - loss: 2.4581 - categorical_accuracy: 0.2387 - precision: 0.6265 - recall: 0.0310 - auc: 0.8528 - val_loss: 2.1053 - val_categorical_accuracy: 0.3268 - val_precision: 0.6716 - val_recall: 0.0804 - val_auc: 0.9090\n",
      "Epoch 18/100\n",
      "210/210 [==============================] - 8s 39ms/step - loss: 2.4479 - categorical_accuracy: 0.2220 - precision: 0.6316 - recall: 0.0286 - auc: 0.8565 - val_loss: 2.0891 - val_categorical_accuracy: 0.3357 - val_precision: 0.6719 - val_recall: 0.0768 - val_auc: 0.9112\n",
      "Epoch 19/100\n",
      "210/210 [==============================] - 8s 40ms/step - loss: 2.4550 - categorical_accuracy: 0.2381 - precision: 0.6190 - recall: 0.0310 - auc: 0.8533 - val_loss: 2.1023 - val_categorical_accuracy: 0.3214 - val_precision: 0.6769 - val_recall: 0.0786 - val_auc: 0.9086\n",
      "Epoch 20/100\n",
      "210/210 [==============================] - 8s 40ms/step - loss: 2.4298 - categorical_accuracy: 0.2506 - precision: 0.5914 - recall: 0.0327 - auc: 0.8584 - val_loss: 2.0625 - val_categorical_accuracy: 0.3304 - val_precision: 0.6406 - val_recall: 0.0732 - val_auc: 0.9140\n",
      "Epoch 21/100\n",
      "210/210 [==============================] - 8s 39ms/step - loss: 2.4729 - categorical_accuracy: 0.2476 - precision: 0.5960 - recall: 0.0351 - auc: 0.8507 - val_loss: 2.0529 - val_categorical_accuracy: 0.3625 - val_precision: 0.6500 - val_recall: 0.0696 - val_auc: 0.9158\n",
      "Epoch 22/100\n",
      "210/210 [==============================] - 8s 40ms/step - loss: 2.4342 - categorical_accuracy: 0.2381 - precision: 0.7333 - recall: 0.0327 - auc: 0.8567 - val_loss: 2.0642 - val_categorical_accuracy: 0.3500 - val_precision: 0.6271 - val_recall: 0.0661 - val_auc: 0.9150\n",
      "Epoch 23/100\n",
      "210/210 [==============================] - 8s 40ms/step - loss: 2.4640 - categorical_accuracy: 0.2429 - precision: 0.5474 - recall: 0.0310 - auc: 0.8515 - val_loss: 2.0580 - val_categorical_accuracy: 0.3411 - val_precision: 0.6379 - val_recall: 0.0661 - val_auc: 0.9163\n",
      "Epoch 24/100\n",
      "210/210 [==============================] - 8s 39ms/step - loss: 2.3714 - categorical_accuracy: 0.2613 - precision: 0.6180 - recall: 0.0327 - auc: 0.8678 - val_loss: 2.0160 - val_categorical_accuracy: 0.3500 - val_precision: 0.6418 - val_recall: 0.0768 - val_auc: 0.9192\n",
      "Epoch 25/100\n",
      "210/210 [==============================] - 8s 39ms/step - loss: 2.3829 - categorical_accuracy: 0.2500 - precision: 0.5556 - recall: 0.0298 - auc: 0.8649 - val_loss: 2.0145 - val_categorical_accuracy: 0.3571 - val_precision: 0.6184 - val_recall: 0.0839 - val_auc: 0.9194\n",
      "Epoch 26/100\n",
      "210/210 [==============================] - 9s 41ms/step - loss: 2.4060 - categorical_accuracy: 0.2637 - precision: 0.6064 - recall: 0.0339 - auc: 0.8602 - val_loss: 2.0294 - val_categorical_accuracy: 0.3500 - val_precision: 0.6034 - val_recall: 0.0625 - val_auc: 0.9191\n",
      "Epoch 27/100\n",
      "210/210 [==============================] - 8s 40ms/step - loss: 2.3924 - categorical_accuracy: 0.2536 - precision: 0.6111 - recall: 0.0393 - auc: 0.8636 - val_loss: 2.0337 - val_categorical_accuracy: 0.3411 - val_precision: 0.6429 - val_recall: 0.0643 - val_auc: 0.9189\n",
      "Epoch 28/100\n",
      "210/210 [==============================] - 8s 39ms/step - loss: 2.4177 - categorical_accuracy: 0.2565 - precision: 0.4752 - recall: 0.0286 - auc: 0.8584 - val_loss: 2.0101 - val_categorical_accuracy: 0.3536 - val_precision: 0.6667 - val_recall: 0.0821 - val_auc: 0.9212\n",
      "Epoch 29/100\n",
      "210/210 [==============================] - 8s 38ms/step - loss: 2.3962 - categorical_accuracy: 0.2619 - precision: 0.5726 - recall: 0.0399 - auc: 0.8629 - val_loss: 2.0066 - val_categorical_accuracy: 0.3500 - val_precision: 0.6190 - val_recall: 0.0696 - val_auc: 0.9200\n",
      "Epoch 30/100\n",
      "210/210 [==============================] - 8s 40ms/step - loss: 2.4388 - categorical_accuracy: 0.2464 - precision: 0.5745 - recall: 0.0321 - auc: 0.8546 - val_loss: 2.0004 - val_categorical_accuracy: 0.3518 - val_precision: 0.6462 - val_recall: 0.0750 - val_auc: 0.9218\n",
      "Epoch 31/100\n",
      "210/210 [==============================] - 8s 40ms/step - loss: 2.3821 - categorical_accuracy: 0.2607 - precision: 0.5818 - recall: 0.0381 - auc: 0.8647 - val_loss: 1.9974 - val_categorical_accuracy: 0.3500 - val_precision: 0.6364 - val_recall: 0.0875 - val_auc: 0.9209\n",
      "Epoch 32/100\n",
      "210/210 [==============================] - 8s 38ms/step - loss: 2.3844 - categorical_accuracy: 0.2643 - precision: 0.6667 - recall: 0.0393 - auc: 0.8648 - val_loss: 1.9905 - val_categorical_accuracy: 0.3554 - val_precision: 0.6575 - val_recall: 0.0857 - val_auc: 0.9226\n",
      "Epoch 33/100\n",
      "210/210 [==============================] - 8s 38ms/step - loss: 2.3836 - categorical_accuracy: 0.2625 - precision: 0.5667 - recall: 0.0405 - auc: 0.8642 - val_loss: 1.9829 - val_categorical_accuracy: 0.3679 - val_precision: 0.6393 - val_recall: 0.0696 - val_auc: 0.9237\n",
      "Epoch 34/100\n",
      "210/210 [==============================] - 8s 38ms/step - loss: 2.3738 - categorical_accuracy: 0.2637 - precision: 0.5918 - recall: 0.0345 - auc: 0.8664 - val_loss: 1.9844 - val_categorical_accuracy: 0.3589 - val_precision: 0.6406 - val_recall: 0.0732 - val_auc: 0.9242\n",
      "Epoch 35/100\n",
      "210/210 [==============================] - 8s 39ms/step - loss: 2.3891 - categorical_accuracy: 0.2518 - precision: 0.6265 - recall: 0.0310 - auc: 0.8633 - val_loss: 1.9887 - val_categorical_accuracy: 0.3589 - val_precision: 0.6567 - val_recall: 0.0786 - val_auc: 0.9226\n",
      "Epoch 36/100\n",
      "210/210 [==============================] - 11s 53ms/step - loss: 2.3686 - categorical_accuracy: 0.2494 - precision: 0.5941 - recall: 0.0357 - auc: 0.8677 - val_loss: 1.9714 - val_categorical_accuracy: 0.3625 - val_precision: 0.6250 - val_recall: 0.0714 - val_auc: 0.9239\n",
      "Epoch 37/100\n",
      "210/210 [==============================] - 10s 50ms/step - loss: 2.3856 - categorical_accuracy: 0.2655 - precision: 0.5851 - recall: 0.0327 - auc: 0.8633 - val_loss: 1.9625 - val_categorical_accuracy: 0.3750 - val_precision: 0.6286 - val_recall: 0.0786 - val_auc: 0.9251\n",
      "Epoch 38/100\n",
      "210/210 [==============================] - 14s 66ms/step - loss: 2.3917 - categorical_accuracy: 0.2500 - precision: 0.5795 - recall: 0.0304 - auc: 0.8632 - val_loss: 1.9550 - val_categorical_accuracy: 0.3554 - val_precision: 0.6567 - val_recall: 0.0786 - val_auc: 0.9251\n",
      "Epoch 39/100\n",
      "210/210 [==============================] - 13s 61ms/step - loss: 2.3553 - categorical_accuracy: 0.2595 - precision: 0.5893 - recall: 0.0393 - auc: 0.8688 - val_loss: 1.9546 - val_categorical_accuracy: 0.3768 - val_precision: 0.6140 - val_recall: 0.0625 - val_auc: 0.9253\n",
      "Epoch 40/100\n",
      "210/210 [==============================] - 13s 60ms/step - loss: 2.3630 - categorical_accuracy: 0.2518 - precision: 0.5444 - recall: 0.0292 - auc: 0.8693 - val_loss: 1.9639 - val_categorical_accuracy: 0.3786 - val_precision: 0.6538 - val_recall: 0.0607 - val_auc: 0.9253\n",
      "Epoch 41/100\n",
      "210/210 [==============================] - 12s 55ms/step - loss: 2.3463 - categorical_accuracy: 0.2786 - precision: 0.5464 - recall: 0.0315 - auc: 0.8702 - val_loss: 1.9442 - val_categorical_accuracy: 0.3732 - val_precision: 0.6620 - val_recall: 0.0839 - val_auc: 0.9261\n",
      "Epoch 42/100\n",
      "210/210 [==============================] - 11s 52ms/step - loss: 2.3571 - categorical_accuracy: 0.2827 - precision: 0.5872 - recall: 0.0381 - auc: 0.8663 - val_loss: 1.9603 - val_categorical_accuracy: 0.3679 - val_precision: 0.6786 - val_recall: 0.0679 - val_auc: 0.9243\n",
      "Epoch 43/100\n",
      "210/210 [==============================] - 9s 43ms/step - loss: 2.3485 - categorical_accuracy: 0.2762 - precision: 0.6441 - recall: 0.0452 - auc: 0.8689 - val_loss: 1.9416 - val_categorical_accuracy: 0.3929 - val_precision: 0.6154 - val_recall: 0.0714 - val_auc: 0.9247\n",
      "Epoch 44/100\n",
      "210/210 [==============================] - 9s 43ms/step - loss: 2.3838 - categorical_accuracy: 0.2702 - precision: 0.5849 - recall: 0.0369 - auc: 0.8646 - val_loss: 1.9485 - val_categorical_accuracy: 0.3696 - val_precision: 0.7097 - val_recall: 0.0786 - val_auc: 0.9254\n",
      "Epoch 45/100\n",
      "210/210 [==============================] - 9s 42ms/step - loss: 2.3448 - categorical_accuracy: 0.2673 - precision: 0.5842 - recall: 0.0351 - auc: 0.8714 - val_loss: 1.9430 - val_categorical_accuracy: 0.3750 - val_precision: 0.6667 - val_recall: 0.0857 - val_auc: 0.9261\n",
      "Epoch 46/100\n",
      "210/210 [==============================] - 9s 42ms/step - loss: 2.3916 - categorical_accuracy: 0.2512 - precision: 0.6330 - recall: 0.0411 - auc: 0.8623 - val_loss: 1.9519 - val_categorical_accuracy: 0.3661 - val_precision: 0.6119 - val_recall: 0.0732 - val_auc: 0.9253\n",
      "Epoch 47/100\n",
      "210/210 [==============================] - 9s 42ms/step - loss: 2.3795 - categorical_accuracy: 0.2607 - precision: 0.5351 - recall: 0.0363 - auc: 0.8657 - val_loss: 1.9353 - val_categorical_accuracy: 0.3946 - val_precision: 0.6230 - val_recall: 0.0679 - val_auc: 0.9276\n",
      "Epoch 48/100\n",
      "210/210 [==============================] - 9s 43ms/step - loss: 2.3737 - categorical_accuracy: 0.2685 - precision: 0.5755 - recall: 0.0363 - auc: 0.8657 - val_loss: 1.9533 - val_categorical_accuracy: 0.3786 - val_precision: 0.6000 - val_recall: 0.0589 - val_auc: 0.9264\n",
      "Epoch 49/100\n",
      "210/210 [==============================] - 9s 42ms/step - loss: 2.3485 - categorical_accuracy: 0.2625 - precision: 0.6400 - recall: 0.0381 - auc: 0.8701 - val_loss: 1.9261 - val_categorical_accuracy: 0.3804 - val_precision: 0.6508 - val_recall: 0.0732 - val_auc: 0.9265\n",
      "Epoch 50/100\n",
      "210/210 [==============================] - 9s 41ms/step - loss: 2.3646 - categorical_accuracy: 0.2690 - precision: 0.5943 - recall: 0.0375 - auc: 0.8663 - val_loss: 1.9149 - val_categorical_accuracy: 0.3804 - val_precision: 0.6349 - val_recall: 0.0714 - val_auc: 0.9286\n",
      "Epoch 51/100\n",
      "210/210 [==============================] - 8s 40ms/step - loss: 2.3633 - categorical_accuracy: 0.2679 - precision: 0.6000 - recall: 0.0393 - auc: 0.8675 - val_loss: 1.9236 - val_categorical_accuracy: 0.3875 - val_precision: 0.6066 - val_recall: 0.0661 - val_auc: 0.9282\n"
     ]
    }
   ],
   "source": [
    "early_stopping = tf.keras.callbacks.EarlyStopping(monitor='val_recall', patience=20, mode=\"max\" ,restore_best_weights=True)\n",
    "\n",
    "model_history=model.fit(\n",
    "    x=[X_train_num, X_train_img], y=y_train,\n",
    "    validation_data=([X_val_num, X_val_img], y_val),\n",
    "    epochs=epochs ,\n",
    "    batch_size=8,\n",
    "    callbacks=[early_stopping]\n",
    ")"
   ]
  },
  {
   "cell_type": "code",
   "execution_count": 380,
   "metadata": {},
   "outputs": [
    {
     "name": "stdout",
     "output_type": "stream",
     "text": [
      "dict_keys(['loss', 'categorical_accuracy', 'precision', 'recall', 'auc', 'val_loss', 'val_categorical_accuracy', 'val_precision', 'val_recall', 'val_auc'])\n"
     ]
    }
   ],
   "source": [
    "print(model_history.history.keys())"
   ]
  },
  {
   "cell_type": "markdown",
   "metadata": {},
   "source": [
    "### Test & Val"
   ]
  },
  {
   "cell_type": "code",
   "execution_count": 381,
   "metadata": {},
   "outputs": [
    {
     "data": {
      "image/png": "[encoded data removed]",
      "text/plain": [
       "<Figure size 640x480 with 1 Axes>"
      ]
     },
     "metadata": {},
     "output_type": "display_data"
    }
   ],
   "source": [
    "#print(model_history.history['loss'])\n",
    "plt.plot(model_history.history['loss'], color = 'red', label = 'loss')\n",
    "plt.plot(model_history.history['val_loss'], color = 'green', label = 'val loss')\n",
    "plt.legend(loc = 'upper right')\n",
    "\n",
    "plt.show()"
   ]
  },
  {
   "cell_type": "code",
   "execution_count": 382,
   "metadata": {},
   "outputs": [
    {
     "data": {
      "image/png": "[encoded data removed]",
      "text/plain": [
       "<Figure size 640x480 with 1 Axes>"
      ]
     },
     "metadata": {},
     "output_type": "display_data"
    }
   ],
   "source": [
    "plt.plot(model_history.history['categorical_accuracy'], color = 'red', label = 'accuracy')\n",
    "plt.plot(model_history.history['val_categorical_accuracy'], color = 'green', label = 'val accuracy')\n",
    "plt.legend(loc = 'upper right')\n",
    "plt.show()"
   ]
  },
  {
   "cell_type": "code",
   "execution_count": 383,
   "metadata": {},
   "outputs": [
    {
     "name": "stdout",
     "output_type": "stream",
     "text": [
      "18/18 [==============================] - 2s 32ms/step - loss: 1.9608 - categorical_accuracy: 0.3607 - precision: 0.7455 - recall: 0.0732 - auc: 0.9246\n"
     ]
    }
   ],
   "source": [
    "score_test= model.evaluate([X_test_num, X_test_img], y_test)"
   ]
  },
  {
   "cell_type": "code",
   "execution_count": 384,
   "metadata": {},
   "outputs": [
    {
     "name": "stdout",
     "output_type": "stream",
     "text": [
      "18/18 [==============================] - 1s 31ms/step\n"
     ]
    }
   ],
   "source": [
    "prediction = model.predict([X_test_num,X_test_img],)\n",
    "real_values= np.argmax(y_test, axis = 1)\n",
    "predicted_classes = np.argmax(prediction, axis = 1)\n",
    "\n",
    "result = [list(t) for t in zip(predicted_classes, real_values)]\n",
    "#print(np.round(prediction))\n"
   ]
  },
  {
   "cell_type": "code",
   "execution_count": 385,
   "metadata": {},
   "outputs": [
    {
     "name": "stdout",
     "output_type": "stream",
     "text": [
      "Accuracy: 36.07%\n"
     ]
    }
   ],
   "source": [
    "from sklearn.metrics import accuracy_score\n",
    "# Calculate the accuracy\n",
    "accuracy = accuracy_score(real_values, predicted_classes)\n",
    "\n",
    "print(f'Accuracy: {accuracy * 100:.2f}%')"
   ]
  },
  {
   "cell_type": "code",
   "execution_count": 386,
   "metadata": {},
   "outputs": [],
   "source": [
    "from sklearn.metrics import confusion_matrix\n",
    "cf_matrix = confusion_matrix(real_values, predicted_classes)\n"
   ]
  },
  {
   "cell_type": "code",
   "execution_count": 387,
   "metadata": {},
   "outputs": [
    {
     "data": {
      "text/plain": [
       "<Axes: >"
      ]
     },
     "execution_count": 387,
     "metadata": {},
     "output_type": "execute_result"
    },
    {
     "data": {
      "image/png": "[encoded data removed]",
      "text/plain": [
       "<Figure size 640x480 with 2 Axes>"
      ]
     },
     "metadata": {},
     "output_type": "display_data"
    }
   ],
   "source": [
    "import seaborn as sns\n",
    "sns.heatmap(cf_matrix, annot=True)"
   ]
  },
  {
   "cell_type": "code",
   "execution_count": 388,
   "metadata": {},
   "outputs": [
    {
     "name": "stdout",
     "output_type": "stream",
     "text": [
      "Test accuracy: 0.36071428656578064\n",
      "Test AUC: 0.9245873689651489\n",
      "Test precision: 0.7454545497894287\n",
      "Test recall: 0.07321428507566452\n"
     ]
    }
   ],
   "source": [
    "test_accuracy = score_test[1]\n",
    "test_auc = score_test[4]\n",
    "test_precision = score_test[2]\n",
    "test_recall = score_test[3]\n",
    "\n",
    "print(\"Test accuracy:\",test_accuracy)\n",
    "print(\"Test AUC:\",test_auc)\n",
    "print(\"Test precision:\",test_precision)\n",
    "print(\"Test recall:\",test_recall)"
   ]
  },
  {
   "cell_type": "code",
   "execution_count": 390,
   "metadata": {},
   "outputs": [
    {
     "name": "stdout",
     "output_type": "stream",
     "text": [
      "Train accuracy: 0.2678571343421936\n",
      "Train AUC: 0.8674831390380859\n",
      "Train precision: 0.6000000238418579\n",
      "Train recall: 0.03928571566939354\n",
      "Train loss: 2.363319158554077\n"
     ]
    }
   ],
   "source": [
    "train_accuracy = model_history.history[\"categorical_accuracy\"][-1]\n",
    "train_auc = model_history.history[\"auc\"][-1]\n",
    "train_precision = model_history.history[\"precision\"][-1]\n",
    "train_recall = model_history.history[\"recall\"][-1]\n",
    "train_loss = model_history.history[\"loss\"][-1]\n",
    "\n",
    "print(\"Train accuracy:\",train_accuracy)\n",
    "print(\"Train AUC:\",train_auc)\n",
    "print(\"Train precision:\",train_precision)\n",
    "print(\"Train recall:\",train_recall)\n",
    "print(\"Train loss:\",train_loss)"
   ]
  },
  {
   "cell_type": "code",
   "execution_count": 391,
   "metadata": {},
   "outputs": [
    {
     "name": "stdout",
     "output_type": "stream",
     "text": [
      "Validation accuracy: 0.38749998807907104\n",
      "Validation AUC: 0.9281799793243408\n",
      "Validation precision: 0.6065573692321777\n",
      "Validation recall: 0.06607142835855484\n",
      "Validation loss: 1.923590064048767\n"
     ]
    }
   ],
   "source": [
    "validation_accuracy = model_history.history[\"val_categorical_accuracy\"][-1]\n",
    "validation_auc = model_history.history[\"val_auc\"][-1]\n",
    "validation_precision = model_history.history[\"val_precision\"][-1]\n",
    "validation_recall = model_history.history[\"val_recall\"][-1]\n",
    "validation_loss = model_history.history[\"val_loss\"][-1]\n",
    "\n",
    "print(\"Validation accuracy:\",validation_accuracy)\n",
    "print(\"Validation AUC:\",validation_auc)\n",
    "print(\"Validation precision:\",validation_precision)\n",
    "print(\"Validation recall:\",validation_recall)\n",
    "print(\"Validation loss:\",validation_loss)"
   ]
  }
 ],
 "metadata": {
  "kernelspec": {
   "display_name": "HNNTinto",
   "language": "python",
   "name": "python3"
  },
  "language_info": {
   "codemirror_mode": {
    "name": "ipython",
    "version": 3
   },
   "file_extension": ".py",
   "mimetype": "text/x-python",
   "name": "python",
   "nbconvert_exporter": "python",
   "pygments_lexer": "ipython3",
   "version": "3.9.6"
  }
 },
 "nbformat": 4,
 "nbformat_minor": 2
}
