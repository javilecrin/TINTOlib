{
 "cells": [
  {
   "cell_type": "markdown",
   "metadata": {
    "id": "EybOZ6hSjpCF"
   },
   "source": [
    "<h1><font color=\"#113D68\" size=5>TINTOlib: Converting Tidy Data into Image for Classification with 2-Dimensional Convolutional Neural Networks</font></h1>\n",
    "\n",
    "\n",
    "\n",
    "<h1><font color=\"#113D68\" size=6>How to read TINTO images</font></h1>\n",
    "\n",
    "<br><br>\n",
    "<div style=\"text-align: right\">\n",
    "<font color=\"#113D68\" size=3>Manuel Castillo-Cara</font><br>\n",
    "<font color=\"#113D68\" size=3>Raúl García-Castro</font><br>\n",
    "<font color=\"#113D68\" size=3>Luis Orozco-Barbosa</font><br>\n",
    "</div>"
   ]
  },
  {
   "cell_type": "markdown",
   "metadata": {
    "id": "2l5nFzsdjpCW"
   },
   "source": [
    "---\n",
    "\n",
    "<a id=\"indice\"></a>\n",
    "<h2><font color=\"#004D7F\" size=5>Index</font></h2>\n",
    "\n",
    "* [0. Context](#section0)\n",
    "* [1. Description](#section1)\n",
    "    * [1.1. Main Features](#section12)\n",
    "    * [1.2. Citation](#section12)\n",
    "* [2. Libraries](#section2)\n",
    "* [3. Data processing](#section3)\n",
    "    * [3.1. Read images](#section31)\n",
    "    * [3.2. Data Curation](#section32)\n",
    "* [4. Pre-modelling phase](#section4)\n",
    "    * [4.1. Resize images](#section41)\n",
    "    * [4.2. Iteradores](#section42)\n",
    "* [5. Modelling with CNN](#section5)\n",
    "    * [5.1. CNN](#section51)\n",
    "    * [5.2. Compile and fit](#section52)\n",
    "    * [5.3. Results](#section53)"
   ]
  },
  {
   "cell_type": "markdown",
   "metadata": {
    "id": "SxTpMExHjpCa"
   },
   "source": [
    "---\n",
    "<a id=\"section0\"></a>\n",
    "# <font color=\"#004D7F\" size=6> 0. Context</font>"
   ]
  },
  {
   "cell_type": "markdown",
   "metadata": {
    "id": "JlVYt3MRrl_V"
   },
   "source": [
    "This is a tutorial on how to read the images created by TINTO and pass them to a very simple pretrained Convolutional Neural Network (CNN). The images must already be created by the TINTO software. See the documentation in GITHUB for how to create the images from tabular data.\n",
    "\n",
    "Remember that when using CNN you can set the training to be done with GPUs to improve performance."
   ]
  },
  {
   "cell_type": "markdown",
   "metadata": {
    "id": "WaA-_OjsjpCe"
   },
   "source": [
    "<div class=\"alert alert-block alert-info\">\n",
    "    \n",
    "<i class=\"fa fa-info-circle\" aria-hidden=\"true\"></i>\n",
    "See the paper from [Information Fusion Journal](https://doi.org/10.1016/j.inffus.2022.10.011)"
   ]
  },
  {
   "cell_type": "markdown",
   "metadata": {
    "id": "28TFDkl5jpCi"
   },
   "source": [
    "<div class=\"alert alert-block alert-info\">\n",
    "    \n",
    "<i class=\"fa fa-info-circle\" aria-hidden=\"true\"></i>\n",
    "See the paper from [SoftwareX](https://doi.org/10.1016/j.softx.2023.101391)"
   ]
  },
  {
   "cell_type": "markdown",
   "metadata": {
    "id": "i3tgsO0BjpCj"
   },
   "source": [
    "<div class=\"alert alert-block alert-info\">\n",
    "    \n",
    "<i class=\"fa fa-info-circle\" aria-hidden=\"true\"></i>\n",
    "You can see all information about TINTO in [GitHub](https://github.com/oeg-upm/TINTO)"
   ]
  },
  {
   "cell_type": "markdown",
   "metadata": {
    "id": "4RKBgDwzjpCl"
   },
   "source": [
    "---\n",
    "<div style=\"text-align: right\"> <font size=5> <a href=\"#indice\"><i class=\"fa fa-arrow-circle-up\" aria-hidden=\"true\" style=\"color:#004D7F\"></i></a></font></div>\n",
    "\n",
    "---"
   ]
  },
  {
   "cell_type": "markdown",
   "metadata": {
    "id": "kpU7pi6yjpCn"
   },
   "source": [
    "<a id=\"section1\"></a>\n",
    "# <font color=\"#004D7F\" size=6> 1. Description</font>"
   ]
  },
  {
   "cell_type": "markdown",
   "metadata": {
    "id": "NL9RoFkEjpCq"
   },
   "source": [
    "The growing interest in the use of algorithms-based machine learning for predictive tasks has generated a large and diverse development of algorithms. However, it is widely known that not all of these algorithms are adapted to efficient solutions in certain tidy data format datasets. For this reason, novel techniques are currently being developed to convert tidy data into images with the aim of using Convolutional Neural Networks (CNNs). TINTO offers the opportunity to convert tidy data into images through the representation of characteristic pixels by implementing two dimensional reduction algorithms: PCA and _t_-SNE. Our proposal also includes a blurring technique, which adds more ordered information to the image and can improve the classification task in CNNs."
   ]
  },
  {
   "cell_type": "markdown",
   "metadata": {
    "id": "HFrF4C89jpCt"
   },
   "source": [
    "---\n",
    "<a id=\"section11\"></a>\n",
    "# <font color=\"#004D7F\" size=5> 1.1. Main Features</font>"
   ]
  },
  {
   "cell_type": "markdown",
   "metadata": {
    "id": "1gruE0_sjpCu"
   },
   "source": [
    "- Supports all CSV data in **[Tidy Data](https://www.jstatsoft.org/article/view/v059i10)** format.\n",
    "- For now, the algorithm converts tabular data for binary and multi-class classification problems into machine learning.\n",
    "- Input data formats:\n",
    "    - **Tabular files**: The input data must be in **[CSV](https://en.wikipedia.org/wiki/Comma-separated_values)**, taking into account the **[Tidy Data](https://www.jstatsoft.org/article/view/v059i10)** format.\n",
    "    - **Tidy Data**: The **target** (variable to be predicted) should be set as the last column of the dataset. Therefore, the first columns will be the features.\n",
    "    - All data must be in numerical form. TINTO does not accept data in string or any other non-numeric format.\n",
    "- Two dimensionality reduction algorithms are used in image creation, **[PCA](https://scikit-learn.org/stable/modules/generated/sklearn.decomposition.PCA.html#sklearn.decomposition.PCA)** and **[*t*-SNE](https://scikit-learn.org/stable/modules/generated/sklearn.manifold.TSNE.html)** from the Scikit-learn Python library.\n",
    "- The synthetic images to be created will be in black and white, i.e. in 1 channel.\n",
    "- The synthetic image **dimensions** can be set as a parameter when creating them.\n",
    "- The synthetic images can be created using **characteristic pixels** or **blurring** painting technique (expressing an overlap of pixels as the **maximum** or **average**).\n",
    "- Runs on **Linux**, **Windows** and **macOS** systems.\n",
    "- Compatible with **[Python](https://www.python.org/)** 3.7 or higher."
   ]
  },
  {
   "cell_type": "markdown",
   "metadata": {
    "id": "Z3EzYcjJjpC6"
   },
   "source": [
    "---\n",
    "<div style=\"text-align: right\"> <font size=5> <a href=\"#indice\"><i class=\"fa fa-arrow-circle-up\" aria-hidden=\"true\" style=\"color:#004D7F\"></i></a></font></div>\n",
    "\n",
    "---"
   ]
  },
  {
   "cell_type": "markdown",
   "metadata": {
    "id": "qwYF5A2njpC8"
   },
   "source": [
    "<a id=\"section2\"></a>\n",
    "# <font color=\"#004D7F\" size=6> 2. Libraries</font>"
   ]
  },
  {
   "cell_type": "markdown",
   "metadata": {
    "id": "5AdHKnWYsEq_"
   },
   "source": [
    "The first thing we need to do is to declare the libraries"
   ]
  },
  {
   "cell_type": "code",
   "execution_count": 1,
   "metadata": {
    "id": "PeeBbGxlpjFp",
    "tags": []
   },
   "outputs": [
    {
     "name": "stderr",
     "output_type": "stream",
     "text": [
      "/var/folders/9h/d3b8zc6j5019cyvmb_h929xm0000gn/T/ipykernel_2864/10279189.py:2: DeprecationWarning: \n",
      "Pyarrow will become a required dependency of pandas in the next major release of pandas (pandas 3.0),\n",
      "(to allow more performant data types, such as the Arrow string type, and better interoperability with other libraries)\n",
      "but was not found to be installed on your system.\n",
      "If this would cause problems for you,\n",
      "please provide us feedback at https://github.com/pandas-dev/pandas/issues/54466\n",
      "        \n",
      "  import pandas as pd\n",
      "/Users/manwest/Library/Python/3.9/lib/python/site-packages/urllib3/__init__.py:35: NotOpenSSLWarning: urllib3 v2 only supports OpenSSL 1.1.1+, currently the 'ssl' module is compiled with 'LibreSSL 2.8.3'. See: https://github.com/urllib3/urllib3/issues/3020\n",
      "  warnings.warn(\n"
     ]
    }
   ],
   "source": [
    "import os\n",
    "import pandas as pd\n",
    "import numpy as np\n",
    "from tqdm import tqdm\n",
    "#import cv2\n",
    "import gc\n",
    "import matplotlib.pyplot as plt\n",
    "#import openslide\n",
    "#from openslide.deepzoom import DeepZoomGenerator\n",
    "import tifffile as tifi\n",
    "import sklearn\n",
    "import tensorflow as tf\n",
    "import seaborn as sns\n",
    "from PIL import Image\n",
    "\n",
    "\n",
    "from sklearn.metrics import mean_absolute_error, mean_squared_error, r2_score,mean_absolute_percentage_error\n",
    "\n",
    "from keras_preprocessing.image import ImageDataGenerator\n",
    "from tensorflow.keras.models import load_model\n",
    "\n",
    "from sklearn.model_selection import train_test_split\n",
    "from tensorflow.keras.applications import vgg16, vgg19, resnet50, mobilenet, inception_resnet_v2, densenet, inception_v3, xception, nasnet, ResNet152V2\n",
    "from tensorflow.keras.models import Sequential, Model, load_model\n",
    "from tensorflow.keras.layers import Dense, Conv2D, MaxPool2D, Flatten, Dropout, BatchNormalization, InputLayer, LayerNormalization \n",
    "from tensorflow.keras.callbacks import ModelCheckpoint, ReduceLROnPlateau, EarlyStopping\n",
    "from tensorflow.keras.optimizers import SGD, Adam, Adadelta, Adamax\n",
    "from tensorflow.keras import layers, models, Model\n",
    "from tensorflow.keras.losses import MeanAbsoluteError, MeanAbsolutePercentageError\n",
    "from tensorflow.keras.layers import Input, Activation,MaxPooling2D, concatenate, Concatenate, AveragePooling2D\n",
    "\n",
    "\n",
    "from torchmetrics import MeanAbsolutePercentageError\n",
    "import torch\n",
    "import torch.nn as nn\n",
    "from torch.utils.data import Dataset, DataLoader, random_split\n",
    "from torchvision import transforms\n",
    "\n",
    "import pytorch_lightning as pl\n",
    "from pytorch_lightning.loggers  import TensorBoardLogger\n",
    "from pytorch_lightning.callbacks.early_stopping import EarlyStopping\n",
    "\n",
    "\n",
    "from imblearn.over_sampling import RandomOverSampler\n",
    "\n",
    "#Models of TINTOlib\n",
    "from TINTOlib.tinto import TINTO\n",
    "from TINTOlib.supertml import SuperTML\n",
    "from TINTOlib.igtd import IGTD\n",
    "from TINTOlib.refined import REFINED\n",
    "from TINTOlib.barGraph import BarGraph\n",
    "from TINTOlib.distanceMatrix import DistanceMatrix\n",
    "from TINTOlib.combination import Combination\n",
    "import TINTOlib.utils"
   ]
  },
  {
   "cell_type": "markdown",
   "metadata": {
    "id": "NwS-cKUxjpDQ"
   },
   "source": [
    "---\n",
    "<div style=\"text-align: right\"> <font size=5> <a href=\"#indice\"><i class=\"fa fa-arrow-circle-up\" aria-hidden=\"true\" style=\"color:#004D7F\"></i></a></font></div>\n",
    "\n",
    "---"
   ]
  },
  {
   "cell_type": "markdown",
   "metadata": {
    "id": "aDL4LARWjpDT"
   },
   "source": [
    "<a id=\"section3\"></a>\n",
    "# <font color=\"#004D7F\" size=6> 3. Data processing</font>"
   ]
  },
  {
   "cell_type": "markdown",
   "metadata": {
    "id": "jXcRw78ljpDU"
   },
   "source": [
    "The first thing to do is to read all the images created by TINTO. TINTO creates a folder which contains subfolders corresponding to each target that has the problem. Each image corresponds to a sample of the original dataset."
   ]
  },
  {
   "cell_type": "markdown",
   "metadata": {},
   "source": [
    "<a id=\"section31\"></a>\n",
    "# <font color=\"#004D7F\" size=5> 3.1. Create images with TINTOlib</font>"
   ]
  },
  {
   "cell_type": "code",
   "execution_count": 5,
   "metadata": {},
   "outputs": [],
   "source": [
    "#Select the model and the parameters\n",
    "problem_type = \"supervised\"\n",
    "pixels = 20\n",
    "image_model = TINTO(problem=problem_type,verbose=True,blur=True,pixels=pixels,)\n",
    "\n",
    "#Define the dataset path and the folder where the images will be saved\n",
    "dataset_path = \"/Users/manwest/Git/TINTOlib/Pruebas/Datasets/winequality-red.csv\"\n",
    "images_folder = \"hybridclassification\"\n",
    "\n",
    "\n"
   ]
  },
  {
   "cell_type": "markdown",
   "metadata": {},
   "source": [
    "Normalize dataset"
   ]
  },
  {
   "cell_type": "code",
   "execution_count": 6,
   "metadata": {},
   "outputs": [
    {
     "data": {
      "text/html": [
       "<div>\n",
       "<style scoped>\n",
       "    .dataframe tbody tr th:only-of-type {\n",
       "        vertical-align: middle;\n",
       "    }\n",
       "\n",
       "    .dataframe tbody tr th {\n",
       "        vertical-align: top;\n",
       "    }\n",
       "\n",
       "    .dataframe thead th {\n",
       "        text-align: right;\n",
       "    }\n",
       "</style>\n",
       "<table border=\"1\" class=\"dataframe\">\n",
       "  <thead>\n",
       "    <tr style=\"text-align: right;\">\n",
       "      <th></th>\n",
       "      <th>fixed acidity</th>\n",
       "      <th>volatile acidity</th>\n",
       "      <th>citric acid</th>\n",
       "      <th>residual sugar</th>\n",
       "      <th>chlorides</th>\n",
       "      <th>free sulfur dioxide</th>\n",
       "      <th>total sulfur dioxide</th>\n",
       "      <th>density</th>\n",
       "      <th>pH</th>\n",
       "      <th>sulphates</th>\n",
       "      <th>alcohol</th>\n",
       "      <th>quality</th>\n",
       "    </tr>\n",
       "  </thead>\n",
       "  <tbody>\n",
       "    <tr>\n",
       "      <th>0</th>\n",
       "      <td>7.4</td>\n",
       "      <td>0.70</td>\n",
       "      <td>0.0</td>\n",
       "      <td>1.9</td>\n",
       "      <td>0.076</td>\n",
       "      <td>11.0</td>\n",
       "      <td>34.0</td>\n",
       "      <td>0.9978</td>\n",
       "      <td>3.51</td>\n",
       "      <td>0.56</td>\n",
       "      <td>9.4</td>\n",
       "      <td>5</td>\n",
       "    </tr>\n",
       "    <tr>\n",
       "      <th>1</th>\n",
       "      <td>7.8</td>\n",
       "      <td>0.88</td>\n",
       "      <td>0.0</td>\n",
       "      <td>2.6</td>\n",
       "      <td>0.098</td>\n",
       "      <td>25.0</td>\n",
       "      <td>67.0</td>\n",
       "      <td>0.9968</td>\n",
       "      <td>3.20</td>\n",
       "      <td>0.68</td>\n",
       "      <td>9.8</td>\n",
       "      <td>5</td>\n",
       "    </tr>\n",
       "  </tbody>\n",
       "</table>\n",
       "</div>"
      ],
      "text/plain": [
       "   fixed acidity  volatile acidity  citric acid  residual sugar  chlorides  \\\n",
       "0            7.4              0.70          0.0             1.9      0.076   \n",
       "1            7.8              0.88          0.0             2.6      0.098   \n",
       "\n",
       "   free sulfur dioxide  total sulfur dioxide  density    pH  sulphates  \\\n",
       "0                 11.0                  34.0   0.9978  3.51       0.56   \n",
       "1                 25.0                  67.0   0.9968  3.20       0.68   \n",
       "\n",
       "   alcohol  quality  \n",
       "0      9.4        5  \n",
       "1      9.8        5  "
      ]
     },
     "execution_count": 6,
     "metadata": {},
     "output_type": "execute_result"
    }
   ],
   "source": [
    "df = pd.read_csv(dataset_path, sep=';')\n",
    "df.head(2)"
   ]
  },
  {
   "cell_type": "code",
   "execution_count": 7,
   "metadata": {},
   "outputs": [
    {
     "data": {
      "text/html": [
       "<div>\n",
       "<style scoped>\n",
       "    .dataframe tbody tr th:only-of-type {\n",
       "        vertical-align: middle;\n",
       "    }\n",
       "\n",
       "    .dataframe tbody tr th {\n",
       "        vertical-align: top;\n",
       "    }\n",
       "\n",
       "    .dataframe thead th {\n",
       "        text-align: right;\n",
       "    }\n",
       "</style>\n",
       "<table border=\"1\" class=\"dataframe\">\n",
       "  <thead>\n",
       "    <tr style=\"text-align: right;\">\n",
       "      <th></th>\n",
       "      <th>fixed acidity</th>\n",
       "      <th>volatile acidity</th>\n",
       "      <th>citric acid</th>\n",
       "      <th>residual sugar</th>\n",
       "      <th>chlorides</th>\n",
       "      <th>free sulfur dioxide</th>\n",
       "      <th>total sulfur dioxide</th>\n",
       "      <th>density</th>\n",
       "      <th>pH</th>\n",
       "      <th>sulphates</th>\n",
       "      <th>alcohol</th>\n",
       "      <th>quality</th>\n",
       "    </tr>\n",
       "  </thead>\n",
       "  <tbody>\n",
       "    <tr>\n",
       "      <th>0</th>\n",
       "      <td>0.247788</td>\n",
       "      <td>0.397260</td>\n",
       "      <td>0.0</td>\n",
       "      <td>0.068493</td>\n",
       "      <td>0.106845</td>\n",
       "      <td>0.140845</td>\n",
       "      <td>0.098940</td>\n",
       "      <td>0.567548</td>\n",
       "      <td>0.606299</td>\n",
       "      <td>0.137725</td>\n",
       "      <td>0.153846</td>\n",
       "      <td>5</td>\n",
       "    </tr>\n",
       "    <tr>\n",
       "      <th>1</th>\n",
       "      <td>0.283186</td>\n",
       "      <td>0.520548</td>\n",
       "      <td>0.0</td>\n",
       "      <td>0.116438</td>\n",
       "      <td>0.143573</td>\n",
       "      <td>0.338028</td>\n",
       "      <td>0.215548</td>\n",
       "      <td>0.494126</td>\n",
       "      <td>0.362205</td>\n",
       "      <td>0.209581</td>\n",
       "      <td>0.215385</td>\n",
       "      <td>5</td>\n",
       "    </tr>\n",
       "  </tbody>\n",
       "</table>\n",
       "</div>"
      ],
      "text/plain": [
       "   fixed acidity  volatile acidity  citric acid  residual sugar  chlorides  \\\n",
       "0       0.247788          0.397260          0.0        0.068493   0.106845   \n",
       "1       0.283186          0.520548          0.0        0.116438   0.143573   \n",
       "\n",
       "   free sulfur dioxide  total sulfur dioxide   density        pH  sulphates  \\\n",
       "0             0.140845              0.098940  0.567548  0.606299   0.137725   \n",
       "1             0.338028              0.215548  0.494126  0.362205   0.209581   \n",
       "\n",
       "    alcohol  quality  \n",
       "0  0.153846        5  \n",
       "1  0.215385        5  "
      ]
     },
     "execution_count": 7,
     "metadata": {},
     "output_type": "execute_result"
    }
   ],
   "source": [
    "# Select all the attributes to normalize\n",
    "columns_to_normalize = df.columns[:-1]\n",
    "\n",
    "\n",
    "# Normalize between 0 and 1\n",
    "df_normalized = (df[columns_to_normalize] - df[columns_to_normalize].min()) / (df[columns_to_normalize].max() - df[columns_to_normalize].min())\n",
    "\n",
    "# Combine the attributes and the label\n",
    "df_normalized = pd.concat([df_normalized, df[df.columns[-1]]], axis=1)\n",
    "\n",
    "df_normalized.head(2)\n"
   ]
  },
  {
   "cell_type": "code",
   "execution_count": null,
   "metadata": {},
   "outputs": [],
   "source": [
    "#Generate thet images\n",
    "image_model.generateImages(df, images_folder)"
   ]
  },
  {
   "cell_type": "code",
   "execution_count": 9,
   "metadata": {},
   "outputs": [
    {
     "name": "stdout",
     "output_type": "stream",
     "text": [
      "hybridclassification/supervised.csv\n"
     ]
    }
   ],
   "source": [
    "img_paths = os.path.join(images_folder,problem_type+\".csv\")\n",
    "print(img_paths)"
   ]
  },
  {
   "cell_type": "markdown",
   "metadata": {},
   "source": [
    "<a id=\"section32\"></a>\n",
    "# <font color=\"#004D7F\" size=5> 3.2. Data Analysis</font>"
   ]
  },
  {
   "cell_type": "code",
   "execution_count": 10,
   "metadata": {},
   "outputs": [
    {
     "data": {
      "image/png": "[encoded data removed]",
      "text/plain": [
       "<Figure size 640x480 with 1 Axes>"
      ]
     },
     "metadata": {},
     "output_type": "display_data"
    }
   ],
   "source": [
    "target_values = df.iloc[:,-1]\n",
    "class_counts = np.bincount(target_values)\n",
    "class_labels = np.arange(1, len(class_counts) + 1)\n",
    "\n",
    "# Crea el gráfico de barras\n",
    "plt.bar(class_labels, class_counts)\n",
    "\n",
    "# Personaliza el gráfico\n",
    "plt.xlabel('Class')\n",
    "plt.ylabel('Samples')\n",
    "plt.title('Classes Distribution')\n",
    "\n",
    "# Muestra el gráfico\n",
    "plt.show()"
   ]
  },
  {
   "cell_type": "markdown",
   "metadata": {
    "id": "klS9PZsUjpDV"
   },
   "source": [
    "<a id=\"section33\"></a>\n",
    "# <font color=\"#004D7F\" size=5> 3.3. Read images</font>"
   ]
  },
  {
   "cell_type": "code",
   "execution_count": 11,
   "metadata": {},
   "outputs": [
    {
     "data": {
      "text/html": [
       "<div>\n",
       "<style scoped>\n",
       "    .dataframe tbody tr th:only-of-type {\n",
       "        vertical-align: middle;\n",
       "    }\n",
       "\n",
       "    .dataframe tbody tr th {\n",
       "        vertical-align: top;\n",
       "    }\n",
       "\n",
       "    .dataframe thead th {\n",
       "        text-align: right;\n",
       "    }\n",
       "</style>\n",
       "<table border=\"1\" class=\"dataframe\">\n",
       "  <thead>\n",
       "    <tr style=\"text-align: right;\">\n",
       "      <th></th>\n",
       "      <th>images</th>\n",
       "      <th>fixed acidity</th>\n",
       "      <th>volatile acidity</th>\n",
       "      <th>citric acid</th>\n",
       "      <th>residual sugar</th>\n",
       "      <th>chlorides</th>\n",
       "      <th>free sulfur dioxide</th>\n",
       "      <th>total sulfur dioxide</th>\n",
       "      <th>density</th>\n",
       "      <th>pH</th>\n",
       "      <th>sulphates</th>\n",
       "      <th>alcohol</th>\n",
       "    </tr>\n",
       "  </thead>\n",
       "  <tbody>\n",
       "    <tr>\n",
       "      <th>0</th>\n",
       "      <td>hybridclassification/5.0/000000.png</td>\n",
       "      <td>0.247788</td>\n",
       "      <td>0.397260</td>\n",
       "      <td>0.0</td>\n",
       "      <td>0.068493</td>\n",
       "      <td>0.106845</td>\n",
       "      <td>0.140845</td>\n",
       "      <td>0.098940</td>\n",
       "      <td>0.567548</td>\n",
       "      <td>0.606299</td>\n",
       "      <td>0.137725</td>\n",
       "      <td>0.153846</td>\n",
       "    </tr>\n",
       "    <tr>\n",
       "      <th>1</th>\n",
       "      <td>hybridclassification/5.0/000001.png</td>\n",
       "      <td>0.283186</td>\n",
       "      <td>0.520548</td>\n",
       "      <td>0.0</td>\n",
       "      <td>0.116438</td>\n",
       "      <td>0.143573</td>\n",
       "      <td>0.338028</td>\n",
       "      <td>0.215548</td>\n",
       "      <td>0.494126</td>\n",
       "      <td>0.362205</td>\n",
       "      <td>0.209581</td>\n",
       "      <td>0.215385</td>\n",
       "    </tr>\n",
       "  </tbody>\n",
       "</table>\n",
       "</div>"
      ],
      "text/plain": [
       "                                images  fixed acidity  volatile acidity  \\\n",
       "0  hybridclassification/5.0/000000.png       0.247788          0.397260   \n",
       "1  hybridclassification/5.0/000001.png       0.283186          0.520548   \n",
       "\n",
       "   citric acid  residual sugar  chlorides  free sulfur dioxide  \\\n",
       "0          0.0        0.068493   0.106845             0.140845   \n",
       "1          0.0        0.116438   0.143573             0.338028   \n",
       "\n",
       "   total sulfur dioxide   density        pH  sulphates   alcohol  \n",
       "0              0.098940  0.567548  0.606299   0.137725  0.153846  \n",
       "1              0.215548  0.494126  0.362205   0.209581  0.215385  "
      ]
     },
     "execution_count": 11,
     "metadata": {},
     "output_type": "execute_result"
    }
   ],
   "source": [
    "imgs = pd.read_csv(img_paths)\n",
    "\n",
    "#imgs[\"images\"]= images_folder + \"\\\\\" + imgs[\"images\"]\n",
    "imgs[\"images\"]= images_folder + \"/\" + imgs[\"images\"]\n",
    "\n",
    "combined_dataset = pd.concat([imgs,df_normalized[columns_to_normalize]],axis=1)\n",
    "combined_dataset\n",
    "\n",
    "df_x = combined_dataset.drop(\"class\",axis=1)\n",
    "df_y = combined_dataset[\"class\"].replace(-1, 0)\n",
    "\n",
    "df_x.head(2)"
   ]
  },
  {
   "cell_type": "markdown",
   "metadata": {
    "id": "_haEKIo7jpD1"
   },
   "source": [
    "---\n",
    "<div style=\"text-align: right\"> <font size=5> <a href=\"#indice\"><i class=\"fa fa-arrow-circle-up\" aria-hidden=\"true\" style=\"color:#004D7F\"></i></a></font></div>\n",
    "\n",
    "---"
   ]
  },
  {
   "cell_type": "markdown",
   "metadata": {
    "id": "uF1lJWbojpD3"
   },
   "source": [
    "<a id=\"section4\"></a>\n",
    "# <font color=\"#004D7F\" size=6> 4. Pre-modelling phase</font>"
   ]
  },
  {
   "cell_type": "code",
   "execution_count": 13,
   "metadata": {},
   "outputs": [
    {
     "name": "stdout",
     "output_type": "stream",
     "text": [
      "Image shape (20, 20, 3)\n",
      "Attributes 11\n",
      "Classes 6\n"
     ]
    }
   ],
   "source": [
    "import cv2\n",
    "X_train, X_val, y_train, y_val = train_test_split(df_x, df_y, test_size = 0.40, random_state = 123,stratify=df_y)\n",
    "X_val, X_test, y_val, y_test = train_test_split(X_val, y_val, test_size = 0.50, random_state = 123, stratify=y_val)\n",
    "\n",
    "X_train_num = X_train.drop(\"images\",axis=1)\n",
    "X_val_num = X_val.drop(\"images\",axis=1)\n",
    "X_test_num = X_test.drop(\"images\",axis=1)\n",
    "\n",
    "X_train_img = np.array([cv2.imread(img) for img in X_train[\"images\"]])\n",
    "X_val_img = np.array([cv2.imread(img) for img in X_val[\"images\"]])\n",
    "X_test_img = np.array([cv2.imread(img) for img in X_test[\"images\"]])\n",
    "\n",
    "\"\"\"X_train_img = np.array([cv2.resize(cv2.imread(img),(60,60)) for img in X_train[\"images\"]])\n",
    "X_val_img = np.array([cv2.resize(cv2.imread(img),(60,60)) for img in X_val[\"images\"]])\n",
    "X_test_img = np.array([cv2.resize(cv2.imread(img),(60,60)) for img in X_test[\"images\"]])\"\"\"\n",
    "\n",
    "n_class = df['quality'].value_counts().count()\n",
    "attributes = len(X_train_num.columns)\n",
    "print(\"Image shape\",X_train_img[0].shape)\n",
    "print(\"Attributes\",attributes)\n",
    "print(\"Classes\",n_class)\n"
   ]
  },
  {
   "cell_type": "code",
   "execution_count": 14,
   "metadata": {},
   "outputs": [
    {
     "data": {
      "image/png": "[encoded data removed]",
      "text/plain": [
       "<Figure size 640x480 with 1 Axes>"
      ]
     },
     "metadata": {},
     "output_type": "display_data"
    }
   ],
   "source": [
    "#SPLITS CLASS DISTRIBUTION\n",
    "\n",
    "train_class_counts = np.bincount(y_train)\n",
    "val_class_counts = np.bincount(y_val)\n",
    "test_class_counts = np.bincount(y_test)\n",
    "\n",
    "width = 0.35 \n",
    "#plt.bar(class_labels, train_class_counts, width, label='Train')\n",
    "plt.bar(class_labels + width, val_class_counts, width, label='Validation')\n",
    "plt.bar(class_labels + width*2, test_class_counts, width, label='Test')\n",
    "\n",
    "plt.xlabel('Class')\n",
    "plt.ylabel('Samples')\n",
    "plt.title('Classes distribution')\n",
    "#plt.xticks(class_labels + width / 2, class_labels)\n",
    "plt.legend()\n",
    "\n",
    "# Mostrar el gráfico\n",
    "plt.show()\n"
   ]
  },
  {
   "cell_type": "code",
   "execution_count": 17,
   "metadata": {},
   "outputs": [],
   "source": [
    "#ONE HOT ENCODING FOR MULTICLASS PROBLEMS\n",
    "from tensorflow.keras.utils import to_categorical\n",
    "\n",
    "# IMPORTANTE ----> y-1 because target is between [1,28] and not [0,27]\n",
    "y_train_oh =  to_categorical(y_train-3,n_class)\n",
    "y_val_oh = to_categorical(y_val-3,n_class)\n",
    "y_test_oh = to_categorical(y_test-3,n_class)"
   ]
  },
  {
   "cell_type": "markdown",
   "metadata": {},
   "source": [
    "<a id=\"section5\"></a>\n",
    "# <font color=\"#004D7F\" size=6> 5. Modeling hybrid network</font>"
   ]
  },
  {
   "cell_type": "code",
   "execution_count": 18,
   "metadata": {},
   "outputs": [],
   "source": [
    "dropout = 0.1"
   ]
  },
  {
   "cell_type": "code",
   "execution_count": 19,
   "metadata": {},
   "outputs": [
    {
     "name": "stderr",
     "output_type": "stream",
     "text": [
      "2024-02-03 10:23:21.441669: I metal_plugin/src/device/metal_device.cc:1154] Metal device set to: Apple M3 Pro\n",
      "2024-02-03 10:23:21.441692: I metal_plugin/src/device/metal_device.cc:296] systemMemory: 36.00 GB\n",
      "2024-02-03 10:23:21.441710: I metal_plugin/src/device/metal_device.cc:313] maxCacheSize: 13.50 GB\n",
      "2024-02-03 10:23:21.441738: I tensorflow/core/common_runtime/pluggable_device/pluggable_device_factory.cc:306] Could not identify NUMA node of platform GPU ID 0, defaulting to 0. Your kernel may not have been built with NUMA support.\n",
      "2024-02-03 10:23:21.441755: I tensorflow/core/common_runtime/pluggable_device/pluggable_device_factory.cc:272] Created TensorFlow device (/job:localhost/replica:0/task:0/device:GPU:0 with 0 MB memory) -> physical PluggableDevice (device: 0, name: METAL, pci bus id: <undefined>)\n"
     ]
    }
   ],
   "source": [
    "####################  ONE BRANCH #####################\n",
    "\n",
    "#filters_ffnn = [64,32,16]\n",
    "\n",
    "#ff_model = Sequential()\n",
    "#ff_model.add(Input(shape=(attributes,)))\n",
    "\n",
    "#for layer in filters_ffnn:\n",
    "#    ff_model.add(Dense(layer, activation=\"relu\"))\n",
    "#    #ff_model.add(BatchNormalization())\n",
    "#    ff_model.add(Dropout(dropout))\n",
    "\n",
    "####################  TWO BRANCH #####################\n",
    "filters_ffnn = [512,256,128,64,32] #CAMBIO\n",
    "\n",
    "ff_inputs = Input(shape = (attributes,))\n",
    "\n",
    "# * INCIO RAMA 1\n",
    "#mlp_1 = Dense(1024, activation='relu')(ff_inputs)\n",
    "#mlp_1 = BatchNormalization()(mlp_1)\n",
    "#mlp_1 = Dropout(dropout)(mlp_1)\n",
    "\n",
    "mlp_1 = Dense(512, activation='relu')(ff_inputs)\n",
    "#mlp_1 = BatchNormalization()(mlp_1)\n",
    "mlp_1 = Dropout(dropout)(mlp_1)\n",
    "\n",
    "mlp_1 = Dense(256, activation='relu')(mlp_1)\n",
    "#mlp_1 = BatchNormalization()(mlp_1)\n",
    "mlp_1 = Dropout(dropout)(mlp_1)\n",
    "\n",
    "mlp_1 = Dense(128, activation='relu')(mlp_1)\n",
    "#mlp_1 = BatchNormalization()(mlp_1)\n",
    "mlp_1 = Dropout(dropout)(mlp_1)\n",
    "\n",
    "mlp_1 = Dense(64, activation='relu')(mlp_1)\n",
    "#mlp_1 = BatchNormalization()(mlp_1)\n",
    "mlp_1 = Dropout(dropout)(mlp_1)\n",
    "\n",
    "mlp_1 = Dense(32, activation='relu')(mlp_1)\n",
    "#mlp_1 = BatchNormalization()(mlp_1)\n",
    "mlp_1 = Dropout(dropout)(mlp_1)\n",
    "\n",
    "#mlp_1 = Dense(16, activation='relu')(mlp_1)\n",
    "#mlp_1 = BatchNormalization()(mlp_1)\n",
    "#mlp_1 = Dropout(dropout)(mlp_1)\n",
    "\n",
    "# * INICIO RAMA 2\n",
    "#mlp_2 = Dense(1024, activation='relu')(ff_inputs)\n",
    "#mlp_2 = BatchNormalization()(mlp_2)\n",
    "#mlp_2 = Dropout(dropout)(mlp_2)\n",
    "\n",
    "mlp_2 = Dense(512, activation='relu')(ff_inputs)\n",
    "#mlp_2 = BatchNormalization()(mlp_2)\n",
    "mlp_2 = Dropout(dropout)(mlp_2)\n",
    "\n",
    "mlp_2 = Dense(256, activation='relu')(mlp_2)\n",
    "#mlp_2 = BatchNormalization()(mlp_2)\n",
    "mlp_2 = Dropout(dropout)(mlp_2)\n",
    "\n",
    "mlp_2 = Dense(128, activation='relu')(mlp_2)\n",
    "#mlp_2 = BatchNormalization()(mlp_2)\n",
    "mlp_2 = Dropout(dropout)(mlp_2)\n",
    "\n",
    "mlp_2 = Dense(64, activation='relu')(mlp_2)\n",
    "#mlp_2 = BatchNormalization()(mlp_2)\n",
    "mlp_2 = Dropout(dropout)(mlp_2)\n",
    "\n",
    "mlp_2 = Dense(32, activation='relu')(mlp_2)\n",
    "#mlp_2 = BatchNormalization()(mlp_2)\n",
    "mlp_2 = Dropout(dropout)(mlp_2)\n",
    "\n",
    "#mlp_2 = Dense(16, activation='relu')(mlp_2)\n",
    "#mlp_2 = BatchNormalization()(mlp_2)\n",
    "#mlp_2 = Dropout(dropout)(mlp_2)\n",
    "\n",
    "merged_tabular = Concatenate(axis=1)([mlp_1, mlp_2])\n",
    "\n",
    "ff_model = Model(inputs = ff_inputs, outputs = merged_tabular)"
   ]
  },
  {
   "cell_type": "code",
   "execution_count": 20,
   "metadata": {},
   "outputs": [],
   "source": [
    "####################  ONE BRANCH #####################\n",
    "#filters_cnn =  [16,32, 64]\n",
    "\n",
    "#cnn_model = Sequential()\n",
    "#cnn_model.add(Input(shape=(size,size, 3)))\n",
    "\n",
    "#for layer in filters_cnn:\n",
    "#    cnn_model.add(Conv2D(layer, (3, 3), padding=\"same\"))\n",
    "#    cnn_model.add(Activation(\"relu\"))\n",
    "    #cnn_model.add(BatchNormalization())\n",
    "#    cnn_model.add(MaxPooling2D(pool_size=(2, 2)))\n",
    "\n",
    "# flatten the volume, then FC => RELU => BN => DROPOUT\n",
    "#cnn_model.add(Flatten())\n",
    "#cnn_model.add(Dense(128))\n",
    "#cnn_model.add(Activation(\"relu\"))\n",
    "#cnn_model.add(BatchNormalization())\n",
    "#cnn_model.add(Dropout(dropout))\n",
    "\n",
    "# apply another FC layer, this one to match the number of nodes\n",
    "# coming out of the MLP\n",
    "#cnn_model.add(Dense(64))\n",
    "#cnn_model.add(Activation(\"relu\"))\n",
    "#cnn_model.add(Dropout(dropout))\n",
    "\n",
    "####################  ONE BRANCH #####################\n",
    "\n",
    "input_shape = Input(shape=(pixels, pixels, 3))\n",
    "\n",
    "#Inicio de rama 1\n",
    "tower_1 = Conv2D(16, (3,3), activation='relu',padding=\"same\")(input_shape)\n",
    "#tower_1 = BatchNormalization()(tower_1)\n",
    "tower_1 = Activation('relu')(tower_1)\n",
    "tower_1 = MaxPooling2D(2,2)(tower_1)\n",
    "tower_1 = Dropout(dropout)(tower_1)\n",
    "\n",
    "tower_1 = Conv2D(32, (3,3), activation='relu',padding=\"same\")(tower_1)\n",
    "#tower_1 = BatchNormalization()(tower_1)\n",
    "tower_1 = Activation('relu')(tower_1)\n",
    "tower_1 = MaxPooling2D(2,2)(tower_1)\n",
    "tower_1 = Dropout(dropout)(tower_1)\n",
    "\n",
    "tower_1 = Conv2D(64, (3,3), activation='relu',padding=\"same\")(tower_1)\n",
    "#tower_1 = BatchNormalization()(tower_1)\n",
    "tower_1 = Activation('relu')(tower_1)\n",
    "tower_1 = MaxPooling2D(2,2)(tower_1)\n",
    "tower_1 = Dropout(dropout)(tower_1)\n",
    "\n",
    "tower_1 = Conv2D(64, (3,3), activation='relu',padding=\"same\")(tower_1)\n",
    "#tower_1 = BatchNormalization()(tower_1)\n",
    "tower_1 = Activation('relu')(tower_1)\n",
    "tower_1 = MaxPooling2D(2,2)(tower_1)\n",
    "tower_1 = Dropout(dropout)(tower_1)\n",
    "#Fin de rama 1\n",
    "\n",
    "#Inicio de rama 2\n",
    "tower_2 = Conv2D(16, (5,5), activation='relu',padding=\"same\")(input_shape)\n",
    "#tower_2 = BatchNormalization()(tower_2)\n",
    "tower_2 = Activation('relu')(tower_2)\n",
    "tower_2 = AveragePooling2D(2,2)(tower_2)\n",
    "tower_2 = Dropout(dropout)(tower_2)\n",
    "\n",
    "tower_2 = Conv2D(32, (5,5), activation='relu',padding=\"same\")(tower_2)\n",
    "#tower_2 = BatchNormalization()(tower_2)\n",
    "tower_2 = Activation('relu')(tower_2)\n",
    "tower_2 = AveragePooling2D(2,2)(tower_2)\n",
    "tower_2 = Dropout(dropout)(tower_2)\n",
    "\n",
    "tower_2 = Conv2D(64, (5,5), activation='relu',padding=\"same\")(tower_2)\n",
    "#tower_2 = BatchNormalization()(tower_2)\n",
    "tower_2 = Activation('relu')(tower_2)\n",
    "tower_2 = AveragePooling2D(2,2)(tower_2)\n",
    "tower_2 = Dropout(dropout)(tower_2)\n",
    "\n",
    "tower_2 = Conv2D(64, (5,5), activation='relu',padding=\"same\")(tower_2)\n",
    "#tower_2 = BatchNormalization()(tower_2)\n",
    "tower_2 = Activation('relu')(tower_2)\n",
    "tower_2 = AveragePooling2D(2,2)(tower_2)\n",
    "tower_2 = Dropout(dropout)(tower_2)\n",
    "#Fin de rama 2\n",
    "\n",
    "#Concatenación de las 2 ramas\n",
    "merged = Concatenate(axis=1)([tower_1, tower_2])\n",
    "\n",
    "#Aplanamiento\n",
    "merged = Flatten()(merged)\n",
    "\n",
    "#Capas adicionales\n",
    "out = Dense(512, activation='relu')(merged)\n",
    "out = Dropout(dropout)(merged)\n",
    "out = Dense(256, activation='sigmoid')(out)\n",
    "out = Dropout(dropout)(out)\n",
    "out = Dense(128, activation='sigmoid')(out)\n",
    "out = Dropout(dropout)(out)\n",
    "out = Dense(64, activation='sigmoid')(out)\n",
    "out = Dropout(dropout)(out)\n",
    "out = Dense(32, activation='sigmoid')(out)\n",
    "out = Dropout(dropout)(out)\n",
    "\n",
    "#Capa final de clasificación\n",
    "#out = Dense(n_class, activation='softmax')(out)\n",
    "\n",
    "cnn_model = Model(input_shape, out)"
   ]
  },
  {
   "cell_type": "code",
   "execution_count": 21,
   "metadata": {},
   "outputs": [],
   "source": [
    "####################  Concatenación final #####################\n",
    "combinedInput = concatenate([ff_model.output, cnn_model.output])\n",
    "x = Dense(128, activation=\"relu\")(combinedInput)\n",
    "#x = BatchNormalization()(x)\n",
    "x = Dropout(dropout)(x)\n",
    "x = Dense(64, activation=\"relu\")(x)\n",
    "#x = BatchNormalization()(x)\n",
    "x = Dropout(dropout)(x)\n",
    "x = Dense(32, activation=\"relu\")(x)\n",
    "#x = BatchNormalization()(x)\n",
    "x = Dropout(dropout)(x)\n",
    "x = Dense(n_class, activation=\"softmax\")(x)\n",
    "\n",
    "model = Model(inputs=[ff_model.input, cnn_model.input], outputs=x)"
   ]
  },
  {
   "cell_type": "code",
   "execution_count": 22,
   "metadata": {},
   "outputs": [],
   "source": [
    "METRICS = [\n",
    "    #tf.keras.metrics.TruePositives(name = 'tp'),\n",
    "    #tf.keras.metrics.FalsePositives(name = 'fp'),\n",
    "    #tf.keras.metrics.TrueNegatives(name = 'tn'),\n",
    "    #tf.keras.metrics.FalseNegatives(name = 'fn'), \n",
    "    tf.keras.metrics.CategoricalAccuracy(name ='accuracy'),\n",
    "    tf.keras.metrics.Precision(name = 'precision'),\n",
    "    tf.keras.metrics.Recall(name = 'recall'),\n",
    "    tf.keras.metrics.AUC(name = 'auc'),\n",
    "]"
   ]
  },
  {
   "cell_type": "code",
   "execution_count": 23,
   "metadata": {},
   "outputs": [],
   "source": [
    "#HYPERPARAMETERS\n",
    "opt = tf.keras.optimizers.legacy.Adam()\n",
    "model.compile(\n",
    "    loss=\"categorical_crossentropy\", \n",
    "    optimizer=opt,\n",
    "    metrics = METRICS\n",
    ")\n",
    "epochs = 500"
   ]
  },
  {
   "cell_type": "code",
   "execution_count": 26,
   "metadata": {},
   "outputs": [],
   "source": [
    "# Define EarlyStopping callback\n",
    "early_stopping = tf.keras.callbacks.EarlyStopping(monitor='val_recall', patience=10, mode=\"max\" ,restore_best_weights=True)"
   ]
  },
  {
   "cell_type": "code",
   "execution_count": 27,
   "metadata": {},
   "outputs": [
    {
     "name": "stdout",
     "output_type": "stream",
     "text": [
      "Epoch 1/500\n",
      "  1/120 [..............................] - ETA: 4s - loss: 54.0158 - accuracy: 0.6250 - precision: 0.6250 - recall: 0.6250 - auc: 0.7750"
     ]
    },
    {
     "name": "stdout",
     "output_type": "stream",
     "text": [
      "120/120 [==============================] - 5s 41ms/step - loss: 56.7416 - accuracy: 0.4651 - precision: 0.4651 - recall: 0.4651 - auc: 0.6868 - val_loss: 307.6024 - val_accuracy: 0.0125 - val_precision: 0.0125 - val_recall: 0.0125 - val_auc: 0.4075\n",
      "Epoch 2/500\n",
      "120/120 [==============================] - 5s 40ms/step - loss: 47.1682 - accuracy: 0.4818 - precision: 0.4818 - recall: 0.4818 - auc: 0.6965 - val_loss: 127.8962 - val_accuracy: 0.3969 - val_precision: 0.3969 - val_recall: 0.3969 - val_auc: 0.6425\n",
      "Epoch 3/500\n",
      "120/120 [==============================] - 5s 40ms/step - loss: 58.3331 - accuracy: 0.4703 - precision: 0.4703 - recall: 0.4703 - auc: 0.6913 - val_loss: 255.6894 - val_accuracy: 0.1469 - val_precision: 0.1469 - val_recall: 0.1469 - val_auc: 0.4889\n",
      "Epoch 4/500\n",
      "120/120 [==============================] - 5s 41ms/step - loss: 48.3704 - accuracy: 0.4901 - precision: 0.4901 - recall: 0.4901 - auc: 0.7013 - val_loss: 307.7616 - val_accuracy: 0.0156 - val_precision: 0.0156 - val_recall: 0.0156 - val_auc: 0.4088\n",
      "Epoch 5/500\n",
      "120/120 [==============================] - 5s 40ms/step - loss: 48.1544 - accuracy: 0.4828 - precision: 0.4828 - recall: 0.4828 - auc: 0.6986 - val_loss: 98.3333 - val_accuracy: 0.4375 - val_precision: 0.4375 - val_recall: 0.4375 - val_auc: 0.6654\n",
      "Epoch 6/500\n",
      "120/120 [==============================] - 5s 40ms/step - loss: 41.3347 - accuracy: 0.5162 - precision: 0.5162 - recall: 0.5162 - auc: 0.7245 - val_loss: 139.5763 - val_accuracy: 0.2594 - val_precision: 0.2594 - val_recall: 0.2594 - val_auc: 0.5592\n",
      "Epoch 7/500\n",
      "120/120 [==============================] - 5s 40ms/step - loss: 50.9040 - accuracy: 0.4692 - precision: 0.4692 - recall: 0.4692 - auc: 0.6883 - val_loss: 83.3991 - val_accuracy: 0.3562 - val_precision: 0.3562 - val_recall: 0.3562 - val_auc: 0.6207\n",
      "Epoch 8/500\n",
      "120/120 [==============================] - 5s 40ms/step - loss: 53.8731 - accuracy: 0.4818 - precision: 0.4818 - recall: 0.4818 - auc: 0.6971 - val_loss: 90.5208 - val_accuracy: 0.3281 - val_precision: 0.3281 - val_recall: 0.3281 - val_auc: 0.5960\n",
      "Epoch 9/500\n",
      "120/120 [==============================] - 5s 40ms/step - loss: 52.4132 - accuracy: 0.4922 - precision: 0.4922 - recall: 0.4922 - auc: 0.7035 - val_loss: 126.2211 - val_accuracy: 0.3406 - val_precision: 0.3406 - val_recall: 0.3406 - val_auc: 0.6064\n",
      "Epoch 10/500\n",
      "120/120 [==============================] - 5s 40ms/step - loss: 47.4112 - accuracy: 0.4745 - precision: 0.4745 - recall: 0.4745 - auc: 0.6960 - val_loss: 159.7423 - val_accuracy: 0.2969 - val_precision: 0.2969 - val_recall: 0.2969 - val_auc: 0.5799\n",
      "Epoch 11/500\n",
      "120/120 [==============================] - 5s 40ms/step - loss: 59.1676 - accuracy: 0.4797 - precision: 0.4797 - recall: 0.4797 - auc: 0.6988 - val_loss: 224.7894 - val_accuracy: 0.0125 - val_precision: 0.0125 - val_recall: 0.0125 - val_auc: 0.4075\n",
      "Epoch 12/500\n",
      "120/120 [==============================] - 5s 40ms/step - loss: 57.3472 - accuracy: 0.4619 - precision: 0.4624 - recall: 0.4619 - auc: 0.6861 - val_loss: 340.9911 - val_accuracy: 0.0125 - val_precision: 0.0125 - val_recall: 0.0125 - val_auc: 0.4075\n",
      "Epoch 13/500\n",
      "120/120 [==============================] - 5s 40ms/step - loss: 49.2901 - accuracy: 0.4661 - precision: 0.4661 - recall: 0.4661 - auc: 0.6907 - val_loss: 56.6889 - val_accuracy: 0.5375 - val_precision: 0.5375 - val_recall: 0.5375 - val_auc: 0.7276\n",
      "Epoch 14/500\n",
      "120/120 [==============================] - 5s 40ms/step - loss: 49.0555 - accuracy: 0.4880 - precision: 0.4880 - recall: 0.4880 - auc: 0.7022 - val_loss: 85.8987 - val_accuracy: 0.4094 - val_precision: 0.4094 - val_recall: 0.4094 - val_auc: 0.6447\n",
      "Epoch 15/500\n",
      "120/120 [==============================] - 5s 40ms/step - loss: 47.5865 - accuracy: 0.4943 - precision: 0.4943 - recall: 0.4943 - auc: 0.7036 - val_loss: 336.2090 - val_accuracy: 0.0125 - val_precision: 0.0125 - val_recall: 0.0125 - val_auc: 0.4075\n",
      "Epoch 16/500\n",
      "120/120 [==============================] - 5s 40ms/step - loss: 56.7340 - accuracy: 0.4828 - precision: 0.4828 - recall: 0.4828 - auc: 0.6968 - val_loss: 146.0077 - val_accuracy: 0.3281 - val_precision: 0.3281 - val_recall: 0.3281 - val_auc: 0.5964\n",
      "Epoch 17/500\n",
      "120/120 [==============================] - 5s 40ms/step - loss: 53.9445 - accuracy: 0.4546 - precision: 0.4546 - recall: 0.4546 - auc: 0.6802 - val_loss: 117.3084 - val_accuracy: 0.2906 - val_precision: 0.2906 - val_recall: 0.2906 - val_auc: 0.5727\n",
      "Epoch 18/500\n",
      "120/120 [==============================] - 5s 40ms/step - loss: 47.8067 - accuracy: 0.4619 - precision: 0.4624 - recall: 0.4619 - auc: 0.6886 - val_loss: 188.0060 - val_accuracy: 0.2188 - val_precision: 0.2188 - val_recall: 0.2188 - val_auc: 0.5297\n",
      "Epoch 19/500\n",
      "120/120 [==============================] - 5s 40ms/step - loss: 62.6371 - accuracy: 0.4672 - precision: 0.4672 - recall: 0.4672 - auc: 0.6883 - val_loss: 114.9200 - val_accuracy: 0.3906 - val_precision: 0.3906 - val_recall: 0.3906 - val_auc: 0.6351\n",
      "Epoch 20/500\n",
      "120/120 [==============================] - 5s 40ms/step - loss: 57.7546 - accuracy: 0.4932 - precision: 0.4932 - recall: 0.4932 - auc: 0.7048 - val_loss: 86.9674 - val_accuracy: 0.4500 - val_precision: 0.4500 - val_recall: 0.4500 - val_auc: 0.6722\n",
      "Epoch 21/500\n",
      "120/120 [==============================] - 5s 40ms/step - loss: 55.3220 - accuracy: 0.4546 - precision: 0.4546 - recall: 0.4546 - auc: 0.6778 - val_loss: 165.3827 - val_accuracy: 0.3969 - val_precision: 0.3969 - val_recall: 0.3969 - val_auc: 0.6372\n",
      "Epoch 22/500\n",
      "120/120 [==============================] - 5s 40ms/step - loss: 53.6468 - accuracy: 0.5068 - precision: 0.5068 - recall: 0.5068 - auc: 0.7142 - val_loss: 284.9702 - val_accuracy: 0.0156 - val_precision: 0.0156 - val_recall: 0.0156 - val_auc: 0.4106\n",
      "Epoch 23/500\n",
      "120/120 [==============================] - 5s 40ms/step - loss: 44.7509 - accuracy: 0.4713 - precision: 0.4713 - recall: 0.4713 - auc: 0.6936 - val_loss: 202.6387 - val_accuracy: 0.0969 - val_precision: 0.0969 - val_recall: 0.0969 - val_auc: 0.4581\n",
      "Epoch 24/500\n",
      "120/120 [==============================] - 5s 40ms/step - loss: 49.1498 - accuracy: 0.4880 - precision: 0.4880 - recall: 0.4880 - auc: 0.6983 - val_loss: 67.5978 - val_accuracy: 0.4875 - val_precision: 0.4875 - val_recall: 0.4875 - val_auc: 0.6996\n",
      "Epoch 25/500\n",
      "120/120 [==============================] - 5s 40ms/step - loss: 45.5007 - accuracy: 0.4630 - precision: 0.4630 - recall: 0.4630 - auc: 0.6912 - val_loss: 193.1005 - val_accuracy: 0.0437 - val_precision: 0.0437 - val_recall: 0.0437 - val_auc: 0.4324\n",
      "Epoch 26/500\n",
      "120/120 [==============================] - 5s 40ms/step - loss: 49.3859 - accuracy: 0.4849 - precision: 0.4849 - recall: 0.4849 - auc: 0.7024 - val_loss: 143.4405 - val_accuracy: 0.3469 - val_precision: 0.3469 - val_recall: 0.3469 - val_auc: 0.6065\n",
      "Epoch 27/500\n",
      "120/120 [==============================] - 5s 40ms/step - loss: 53.0279 - accuracy: 0.4651 - precision: 0.4651 - recall: 0.4651 - auc: 0.6866 - val_loss: 248.8075 - val_accuracy: 0.0656 - val_precision: 0.0656 - val_recall: 0.0656 - val_auc: 0.4480\n",
      "Epoch 28/500\n",
      "120/120 [==============================] - 5s 40ms/step - loss: 56.8010 - accuracy: 0.4515 - precision: 0.4515 - recall: 0.4515 - auc: 0.6815 - val_loss: 76.3031 - val_accuracy: 0.5656 - val_precision: 0.5656 - val_recall: 0.5656 - val_auc: 0.7508\n",
      "Epoch 29/500\n",
      "120/120 [==============================] - 5s 40ms/step - loss: 58.0254 - accuracy: 0.4442 - precision: 0.4442 - recall: 0.4442 - auc: 0.6784 - val_loss: 299.7491 - val_accuracy: 0.0437 - val_precision: 0.0437 - val_recall: 0.0437 - val_auc: 0.4236\n",
      "Epoch 30/500\n",
      "120/120 [==============================] - 5s 40ms/step - loss: 51.5765 - accuracy: 0.4692 - precision: 0.4692 - recall: 0.4692 - auc: 0.6940 - val_loss: 175.7232 - val_accuracy: 0.2094 - val_precision: 0.2094 - val_recall: 0.2094 - val_auc: 0.5300\n",
      "Epoch 31/500\n",
      "120/120 [==============================] - 5s 40ms/step - loss: 52.4641 - accuracy: 0.4724 - precision: 0.4724 - recall: 0.4724 - auc: 0.6970 - val_loss: 130.1805 - val_accuracy: 0.3625 - val_precision: 0.3625 - val_recall: 0.3625 - val_auc: 0.6207\n",
      "Epoch 32/500\n",
      "120/120 [==============================] - 5s 40ms/step - loss: 48.7249 - accuracy: 0.4557 - precision: 0.4557 - recall: 0.4557 - auc: 0.6808 - val_loss: 443.6539 - val_accuracy: 0.0125 - val_precision: 0.0125 - val_recall: 0.0125 - val_auc: 0.4075\n",
      "Epoch 33/500\n",
      "120/120 [==============================] - 5s 40ms/step - loss: 46.5120 - accuracy: 0.4745 - precision: 0.4749 - recall: 0.4745 - auc: 0.6961 - val_loss: 156.0890 - val_accuracy: 0.3187 - val_precision: 0.3187 - val_recall: 0.3187 - val_auc: 0.5928\n",
      "Epoch 34/500\n",
      "120/120 [==============================] - 5s 40ms/step - loss: 45.8448 - accuracy: 0.4661 - precision: 0.4661 - recall: 0.4661 - auc: 0.6912 - val_loss: 58.5698 - val_accuracy: 0.5500 - val_precision: 0.5500 - val_recall: 0.5500 - val_auc: 0.7394\n",
      "Epoch 35/500\n",
      "120/120 [==============================] - 5s 40ms/step - loss: 49.9486 - accuracy: 0.4692 - precision: 0.4692 - recall: 0.4692 - auc: 0.6916 - val_loss: 267.6394 - val_accuracy: 0.1875 - val_precision: 0.1875 - val_recall: 0.1875 - val_auc: 0.5136\n",
      "Epoch 36/500\n",
      "120/120 [==============================] - 5s 40ms/step - loss: 45.7818 - accuracy: 0.4818 - precision: 0.4818 - recall: 0.4818 - auc: 0.7036 - val_loss: 215.8575 - val_accuracy: 0.1031 - val_precision: 0.1031 - val_recall: 0.1031 - val_auc: 0.4650\n",
      "Epoch 37/500\n",
      "120/120 [==============================] - 5s 40ms/step - loss: 44.4114 - accuracy: 0.5047 - precision: 0.5047 - recall: 0.5047 - auc: 0.7147 - val_loss: 191.7528 - val_accuracy: 0.3031 - val_precision: 0.3031 - val_recall: 0.3031 - val_auc: 0.5867\n",
      "Epoch 38/500\n",
      "120/120 [==============================] - 5s 40ms/step - loss: 48.1963 - accuracy: 0.4713 - precision: 0.4713 - recall: 0.4713 - auc: 0.6903 - val_loss: 213.4217 - val_accuracy: 0.1125 - val_precision: 0.1125 - val_recall: 0.1125 - val_auc: 0.4765\n",
      "Epoch 39/500\n",
      "120/120 [==============================] - 5s 40ms/step - loss: 47.2151 - accuracy: 0.4640 - precision: 0.4640 - recall: 0.4640 - auc: 0.6877 - val_loss: 329.4511 - val_accuracy: 0.0156 - val_precision: 0.0156 - val_recall: 0.0156 - val_auc: 0.4088\n",
      "Epoch 40/500\n",
      "120/120 [==============================] - 5s 40ms/step - loss: 53.8864 - accuracy: 0.4672 - precision: 0.4672 - recall: 0.4672 - auc: 0.6865 - val_loss: 164.3642 - val_accuracy: 0.3344 - val_precision: 0.3344 - val_recall: 0.3344 - val_auc: 0.6023\n",
      "Epoch 41/500\n",
      "120/120 [==============================] - 5s 40ms/step - loss: 60.2583 - accuracy: 0.4630 - precision: 0.4630 - recall: 0.4630 - auc: 0.6822 - val_loss: 249.8825 - val_accuracy: 0.0312 - val_precision: 0.0312 - val_recall: 0.0312 - val_auc: 0.4223\n",
      "Epoch 42/500\n",
      "120/120 [==============================] - 5s 40ms/step - loss: 57.4706 - accuracy: 0.4807 - precision: 0.4807 - recall: 0.4807 - auc: 0.6964 - val_loss: 95.6306 - val_accuracy: 0.4031 - val_precision: 0.4031 - val_recall: 0.4031 - val_auc: 0.6433\n",
      "Epoch 43/500\n",
      "120/120 [==============================] - 5s 40ms/step - loss: 45.9267 - accuracy: 0.4505 - precision: 0.4499 - recall: 0.4494 - auc: 0.6775 - val_loss: 81.1923 - val_accuracy: 0.4031 - val_precision: 0.4031 - val_recall: 0.4031 - val_auc: 0.6415\n",
      "Epoch 44/500\n",
      "120/120 [==============================] - 5s 40ms/step - loss: 49.7317 - accuracy: 0.4651 - precision: 0.4651 - recall: 0.4651 - auc: 0.6870 - val_loss: 77.0152 - val_accuracy: 0.5469 - val_precision: 0.5469 - val_recall: 0.5469 - val_auc: 0.7420\n",
      "Epoch 45/500\n",
      "120/120 [==============================] - 5s 40ms/step - loss: 45.2871 - accuracy: 0.4672 - precision: 0.4672 - recall: 0.4672 - auc: 0.6940 - val_loss: 119.8410 - val_accuracy: 0.2219 - val_precision: 0.2219 - val_recall: 0.2219 - val_auc: 0.5331\n",
      "Epoch 46/500\n",
      "120/120 [==============================] - 5s 40ms/step - loss: 55.0875 - accuracy: 0.4745 - precision: 0.4745 - recall: 0.4745 - auc: 0.6913 - val_loss: 108.0430 - val_accuracy: 0.3969 - val_precision: 0.3969 - val_recall: 0.3969 - val_auc: 0.6376\n",
      "Epoch 47/500\n",
      "120/120 [==============================] - 5s 40ms/step - loss: 39.3331 - accuracy: 0.4922 - precision: 0.4927 - recall: 0.4922 - auc: 0.7099 - val_loss: 206.0098 - val_accuracy: 0.2156 - val_precision: 0.2156 - val_recall: 0.2156 - val_auc: 0.5297\n",
      "Epoch 48/500\n",
      "120/120 [==============================] - 5s 40ms/step - loss: 44.9350 - accuracy: 0.4692 - precision: 0.4692 - recall: 0.4692 - auc: 0.6911 - val_loss: 281.7208 - val_accuracy: 0.0125 - val_precision: 0.0125 - val_recall: 0.0125 - val_auc: 0.4075\n",
      "Epoch 49/500\n",
      "120/120 [==============================] - 5s 40ms/step - loss: 42.3424 - accuracy: 0.4546 - precision: 0.4546 - recall: 0.4546 - auc: 0.6901 - val_loss: 295.3141 - val_accuracy: 0.0188 - val_precision: 0.0188 - val_recall: 0.0188 - val_auc: 0.4106\n",
      "Epoch 50/500\n",
      "120/120 [==============================] - 5s 40ms/step - loss: 47.9784 - accuracy: 0.4859 - precision: 0.4859 - recall: 0.4859 - auc: 0.7023 - val_loss: 232.8381 - val_accuracy: 0.0594 - val_precision: 0.0594 - val_recall: 0.0594 - val_auc: 0.4383\n",
      "Epoch 51/500\n",
      "120/120 [==============================] - 5s 40ms/step - loss: 46.3582 - accuracy: 0.4640 - precision: 0.4640 - recall: 0.4640 - auc: 0.6843 - val_loss: 140.7726 - val_accuracy: 0.2969 - val_precision: 0.2969 - val_recall: 0.2969 - val_auc: 0.5794\n",
      "Epoch 52/500\n",
      "120/120 [==============================] - 5s 40ms/step - loss: 54.5145 - accuracy: 0.4672 - precision: 0.4672 - recall: 0.4672 - auc: 0.6883 - val_loss: 94.3759 - val_accuracy: 0.4781 - val_precision: 0.4781 - val_recall: 0.4781 - val_auc: 0.6874\n",
      "Epoch 53/500\n",
      "120/120 [==============================] - 5s 40ms/step - loss: 50.0363 - accuracy: 0.4546 - precision: 0.4551 - recall: 0.4546 - auc: 0.6849 - val_loss: 214.9060 - val_accuracy: 0.1469 - val_precision: 0.1469 - val_recall: 0.1469 - val_auc: 0.4932\n",
      "Epoch 54/500\n",
      "120/120 [==============================] - 5s 40ms/step - loss: 43.0207 - accuracy: 0.4599 - precision: 0.4599 - recall: 0.4599 - auc: 0.6889 - val_loss: 184.5970 - val_accuracy: 0.2594 - val_precision: 0.2594 - val_recall: 0.2594 - val_auc: 0.5588\n",
      "Epoch 55/500\n",
      "120/120 [==============================] - 5s 40ms/step - loss: 41.6614 - accuracy: 0.4765 - precision: 0.4765 - recall: 0.4765 - auc: 0.7013 - val_loss: 165.0848 - val_accuracy: 0.3344 - val_precision: 0.3344 - val_recall: 0.3344 - val_auc: 0.6028\n",
      "Epoch 56/500\n",
      "120/120 [==============================] - 5s 40ms/step - loss: 46.4982 - accuracy: 0.4734 - precision: 0.4734 - recall: 0.4734 - auc: 0.6917 - val_loss: 120.6541 - val_accuracy: 0.4031 - val_precision: 0.4031 - val_recall: 0.4031 - val_auc: 0.6414\n",
      "Epoch 57/500\n",
      "120/120 [==============================] - 5s 40ms/step - loss: 44.4071 - accuracy: 0.4922 - precision: 0.4922 - recall: 0.4922 - auc: 0.7086 - val_loss: 243.6108 - val_accuracy: 0.0656 - val_precision: 0.0656 - val_recall: 0.0656 - val_auc: 0.4467\n",
      "Epoch 58/500\n",
      "120/120 [==============================] - 5s 40ms/step - loss: 51.6326 - accuracy: 0.4484 - precision: 0.4484 - recall: 0.4484 - auc: 0.6762 - val_loss: 276.1870 - val_accuracy: 0.0437 - val_precision: 0.0437 - val_recall: 0.0437 - val_auc: 0.4306\n",
      "Epoch 59/500\n",
      "120/120 [==============================] - 5s 39ms/step - loss: 54.7002 - accuracy: 0.4734 - precision: 0.4734 - recall: 0.4734 - auc: 0.6923 - val_loss: 66.9783 - val_accuracy: 0.5375 - val_precision: 0.5375 - val_recall: 0.5375 - val_auc: 0.7385\n",
      "Epoch 60/500\n",
      "120/120 [==============================] - 5s 40ms/step - loss: 44.9050 - accuracy: 0.4682 - precision: 0.4676 - recall: 0.4672 - auc: 0.6922 - val_loss: 195.8794 - val_accuracy: 0.2062 - val_precision: 0.2062 - val_recall: 0.2062 - val_auc: 0.5294\n",
      "Epoch 61/500\n",
      "120/120 [==============================] - 5s 40ms/step - loss: 48.7086 - accuracy: 0.4557 - precision: 0.4557 - recall: 0.4557 - auc: 0.6805 - val_loss: 136.7607 - val_accuracy: 0.4219 - val_precision: 0.4219 - val_recall: 0.4219 - val_auc: 0.6531\n",
      "Epoch 62/500\n",
      "120/120 [==============================] - 5s 40ms/step - loss: 41.8003 - accuracy: 0.4599 - precision: 0.4599 - recall: 0.4599 - auc: 0.6869 - val_loss: 204.4891 - val_accuracy: 0.1469 - val_precision: 0.1469 - val_recall: 0.1469 - val_auc: 0.4875\n",
      "Epoch 63/500\n",
      "120/120 [==============================] - 5s 40ms/step - loss: 43.2566 - accuracy: 0.4755 - precision: 0.4760 - recall: 0.4755 - auc: 0.7001 - val_loss: 269.1263 - val_accuracy: 0.1406 - val_precision: 0.1406 - val_recall: 0.1406 - val_auc: 0.4832\n",
      "Epoch 64/500\n",
      "120/120 [==============================] - 5s 39ms/step - loss: 54.6969 - accuracy: 0.4275 - precision: 0.4275 - recall: 0.4275 - auc: 0.6624 - val_loss: 195.2919 - val_accuracy: 0.2594 - val_precision: 0.2594 - val_recall: 0.2594 - val_auc: 0.5621\n",
      "Epoch 65/500\n",
      "120/120 [==============================] - 5s 40ms/step - loss: 43.2525 - accuracy: 0.4765 - precision: 0.4765 - recall: 0.4765 - auc: 0.6953 - val_loss: 241.2277 - val_accuracy: 0.1125 - val_precision: 0.1125 - val_recall: 0.1125 - val_auc: 0.4706\n",
      "Epoch 66/500\n",
      "120/120 [==============================] - 5s 40ms/step - loss: 58.0340 - accuracy: 0.4765 - precision: 0.4765 - recall: 0.4765 - auc: 0.6943 - val_loss: 278.2844 - val_accuracy: 0.0188 - val_precision: 0.0188 - val_recall: 0.0188 - val_auc: 0.4112\n",
      "Epoch 67/500\n",
      "120/120 [==============================] - 5s 40ms/step - loss: 44.6173 - accuracy: 0.4651 - precision: 0.4651 - recall: 0.4651 - auc: 0.6922 - val_loss: 106.2431 - val_accuracy: 0.3969 - val_precision: 0.3969 - val_recall: 0.3969 - val_auc: 0.6381\n",
      "Epoch 68/500\n",
      "120/120 [==============================] - 5s 40ms/step - loss: 42.6323 - accuracy: 0.4943 - precision: 0.4943 - recall: 0.4943 - auc: 0.7101 - val_loss: 219.2479 - val_accuracy: 0.1406 - val_precision: 0.1406 - val_recall: 0.1406 - val_auc: 0.4843\n",
      "Epoch 69/500\n",
      "120/120 [==============================] - 5s 40ms/step - loss: 47.6995 - accuracy: 0.4546 - precision: 0.4551 - recall: 0.4546 - auc: 0.6832 - val_loss: 226.6999 - val_accuracy: 0.1406 - val_precision: 0.1406 - val_recall: 0.1406 - val_auc: 0.4832\n",
      "Epoch 70/500\n",
      "120/120 [==============================] - 5s 40ms/step - loss: 50.4332 - accuracy: 0.4380 - precision: 0.4380 - recall: 0.4380 - auc: 0.6733 - val_loss: 320.6010 - val_accuracy: 0.0125 - val_precision: 0.0125 - val_recall: 0.0125 - val_auc: 0.4075\n",
      "Epoch 71/500\n",
      "120/120 [==============================] - 5s 40ms/step - loss: 48.8811 - accuracy: 0.4578 - precision: 0.4578 - recall: 0.4578 - auc: 0.6846 - val_loss: 126.2171 - val_accuracy: 0.2969 - val_precision: 0.2969 - val_recall: 0.2969 - val_auc: 0.5778\n",
      "Epoch 72/500\n",
      "120/120 [==============================] - 5s 39ms/step - loss: 68.1196 - accuracy: 0.4411 - precision: 0.4411 - recall: 0.4411 - auc: 0.6703 - val_loss: 274.3263 - val_accuracy: 0.0656 - val_precision: 0.0656 - val_recall: 0.0656 - val_auc: 0.4441\n",
      "Epoch 73/500\n",
      "120/120 [==============================] - 5s 39ms/step - loss: 38.9012 - accuracy: 0.4828 - precision: 0.4828 - recall: 0.4828 - auc: 0.6981 - val_loss: 94.4977 - val_accuracy: 0.4313 - val_precision: 0.4313 - val_recall: 0.4313 - val_auc: 0.6636\n",
      "Epoch 74/500\n",
      "120/120 [==============================] - 5s 39ms/step - loss: 46.4165 - accuracy: 0.4745 - precision: 0.4745 - recall: 0.4745 - auc: 0.6945 - val_loss: 288.0077 - val_accuracy: 0.0312 - val_precision: 0.0312 - val_recall: 0.0312 - val_auc: 0.4192\n",
      "Epoch 75/500\n",
      "120/120 [==============================] - 5s 39ms/step - loss: 54.2870 - accuracy: 0.4484 - precision: 0.4484 - recall: 0.4484 - auc: 0.6780 - val_loss: 353.0567 - val_accuracy: 0.0125 - val_precision: 0.0125 - val_recall: 0.0125 - val_auc: 0.4075\n",
      "Epoch 76/500\n",
      "120/120 [==============================] - 5s 40ms/step - loss: 49.1657 - accuracy: 0.4786 - precision: 0.4786 - recall: 0.4786 - auc: 0.6977 - val_loss: 178.1822 - val_accuracy: 0.2594 - val_precision: 0.2594 - val_recall: 0.2594 - val_auc: 0.5564\n",
      "Epoch 77/500\n",
      "120/120 [==============================] - 5s 40ms/step - loss: 41.4525 - accuracy: 0.4880 - precision: 0.4880 - recall: 0.4880 - auc: 0.7031 - val_loss: 65.5941 - val_accuracy: 0.5750 - val_precision: 0.5750 - val_recall: 0.5750 - val_auc: 0.7623\n",
      "Epoch 78/500\n",
      "120/120 [==============================] - 5s 40ms/step - loss: 40.1519 - accuracy: 0.4400 - precision: 0.4400 - recall: 0.4400 - auc: 0.6695 - val_loss: 293.8595 - val_accuracy: 0.0188 - val_precision: 0.0188 - val_recall: 0.0188 - val_auc: 0.4106\n",
      "Epoch 79/500\n",
      "120/120 [==============================] - 5s 40ms/step - loss: 55.6945 - accuracy: 0.4453 - precision: 0.4453 - recall: 0.4453 - auc: 0.6720 - val_loss: 90.0203 - val_accuracy: 0.5562 - val_precision: 0.5562 - val_recall: 0.5562 - val_auc: 0.7484\n",
      "Epoch 80/500\n",
      "120/120 [==============================] - 5s 40ms/step - loss: 50.0120 - accuracy: 0.4891 - precision: 0.4891 - recall: 0.4891 - auc: 0.7092 - val_loss: 94.8026 - val_accuracy: 0.4531 - val_precision: 0.4531 - val_recall: 0.4531 - val_auc: 0.6820\n",
      "Epoch 81/500\n",
      "120/120 [==============================] - 5s 40ms/step - loss: 45.5674 - accuracy: 0.4630 - precision: 0.4630 - recall: 0.4630 - auc: 0.6915 - val_loss: 84.9908 - val_accuracy: 0.5656 - val_precision: 0.5656 - val_recall: 0.5656 - val_auc: 0.7526\n",
      "Epoch 82/500\n",
      "120/120 [==============================] - 5s 40ms/step - loss: 44.7031 - accuracy: 0.4494 - precision: 0.4494 - recall: 0.4494 - auc: 0.6891 - val_loss: 83.5132 - val_accuracy: 0.4219 - val_precision: 0.4219 - val_recall: 0.4219 - val_auc: 0.6524\n",
      "Epoch 83/500\n",
      "120/120 [==============================] - 5s 40ms/step - loss: 48.3272 - accuracy: 0.4640 - precision: 0.4640 - recall: 0.4640 - auc: 0.6863 - val_loss: 97.5976 - val_accuracy: 0.4250 - val_precision: 0.4250 - val_recall: 0.4250 - val_auc: 0.6553\n",
      "Epoch 84/500\n",
      "120/120 [==============================] - 5s 40ms/step - loss: 43.4847 - accuracy: 0.4630 - precision: 0.4630 - recall: 0.4630 - auc: 0.6858 - val_loss: 151.5552 - val_accuracy: 0.3469 - val_precision: 0.3469 - val_recall: 0.3469 - val_auc: 0.6091\n",
      "Epoch 85/500\n",
      "120/120 [==============================] - 5s 40ms/step - loss: 46.1566 - accuracy: 0.4713 - precision: 0.4713 - recall: 0.4713 - auc: 0.6994 - val_loss: 95.1405 - val_accuracy: 0.4219 - val_precision: 0.4219 - val_recall: 0.4219 - val_auc: 0.6526\n",
      "Epoch 86/500\n",
      "120/120 [==============================] - 5s 39ms/step - loss: 43.0805 - accuracy: 0.4567 - precision: 0.4567 - recall: 0.4567 - auc: 0.6857 - val_loss: 77.2974 - val_accuracy: 0.4656 - val_precision: 0.4656 - val_recall: 0.4656 - val_auc: 0.6868\n",
      "Epoch 87/500\n",
      "120/120 [==============================] - 5s 40ms/step - loss: 48.1451 - accuracy: 0.4786 - precision: 0.4786 - recall: 0.4786 - auc: 0.6920 - val_loss: 175.9994 - val_accuracy: 0.1969 - val_precision: 0.1969 - val_recall: 0.1969 - val_auc: 0.5174\n",
      "Epoch 88/500\n",
      "120/120 [==============================] - 5s 40ms/step - loss: 50.0043 - accuracy: 0.4609 - precision: 0.4609 - recall: 0.4609 - auc: 0.6857 - val_loss: 78.3882 - val_accuracy: 0.4125 - val_precision: 0.4125 - val_recall: 0.4125 - val_auc: 0.6682\n",
      "Epoch 89/500\n",
      "120/120 [==============================] - 5s 40ms/step - loss: 50.9458 - accuracy: 0.4588 - precision: 0.4588 - recall: 0.4588 - auc: 0.6866 - val_loss: 74.0100 - val_accuracy: 0.4750 - val_precision: 0.4750 - val_recall: 0.4750 - val_auc: 0.6910\n",
      "Epoch 90/500\n",
      "120/120 [==============================] - 5s 40ms/step - loss: 41.7959 - accuracy: 0.4859 - precision: 0.4859 - recall: 0.4859 - auc: 0.7044 - val_loss: 385.6440 - val_accuracy: 0.0125 - val_precision: 0.0125 - val_recall: 0.0125 - val_auc: 0.4075\n",
      "Epoch 91/500\n",
      "120/120 [==============================] - 5s 40ms/step - loss: 51.2129 - accuracy: 0.4578 - precision: 0.4578 - recall: 0.4578 - auc: 0.6824 - val_loss: 70.5461 - val_accuracy: 0.5406 - val_precision: 0.5406 - val_recall: 0.5406 - val_auc: 0.7322\n",
      "Epoch 92/500\n",
      "120/120 [==============================] - 5s 40ms/step - loss: 49.2028 - accuracy: 0.4557 - precision: 0.4557 - recall: 0.4557 - auc: 0.6883 - val_loss: 216.4917 - val_accuracy: 0.2250 - val_precision: 0.2250 - val_recall: 0.2250 - val_auc: 0.5373\n",
      "Epoch 93/500\n",
      "120/120 [==============================] - 5s 40ms/step - loss: 43.3392 - accuracy: 0.4818 - precision: 0.4818 - recall: 0.4818 - auc: 0.7071 - val_loss: 127.5062 - val_accuracy: 0.3469 - val_precision: 0.3469 - val_recall: 0.3469 - val_auc: 0.6106\n",
      "Epoch 94/500\n",
      "120/120 [==============================] - 5s 40ms/step - loss: 47.4866 - accuracy: 0.4640 - precision: 0.4640 - recall: 0.4640 - auc: 0.6866 - val_loss: 69.7343 - val_accuracy: 0.5219 - val_precision: 0.5219 - val_recall: 0.5219 - val_auc: 0.7212\n",
      "Epoch 95/500\n",
      "120/120 [==============================] - 5s 40ms/step - loss: 41.8859 - accuracy: 0.4672 - precision: 0.4672 - recall: 0.4672 - auc: 0.6953 - val_loss: 111.2146 - val_accuracy: 0.3375 - val_precision: 0.3375 - val_recall: 0.3375 - val_auc: 0.6089\n",
      "Epoch 96/500\n",
      "120/120 [==============================] - 5s 40ms/step - loss: 44.5607 - accuracy: 0.4713 - precision: 0.4713 - recall: 0.4713 - auc: 0.7004 - val_loss: 147.9763 - val_accuracy: 0.3031 - val_precision: 0.3031 - val_recall: 0.3031 - val_auc: 0.5864\n",
      "Epoch 97/500\n",
      "120/120 [==============================] - 5s 39ms/step - loss: 42.3410 - accuracy: 0.4849 - precision: 0.4849 - recall: 0.4849 - auc: 0.7044 - val_loss: 147.4179 - val_accuracy: 0.3094 - val_precision: 0.3094 - val_recall: 0.3094 - val_auc: 0.5866\n",
      "Epoch 98/500\n",
      "120/120 [==============================] - 5s 40ms/step - loss: 51.5839 - accuracy: 0.4672 - precision: 0.4672 - recall: 0.4672 - auc: 0.6879 - val_loss: 196.5316 - val_accuracy: 0.2062 - val_precision: 0.2062 - val_recall: 0.2062 - val_auc: 0.5284\n",
      "Epoch 99/500\n",
      "120/120 [==============================] - 5s 40ms/step - loss: 48.0855 - accuracy: 0.4526 - precision: 0.4530 - recall: 0.4526 - auc: 0.6824 - val_loss: 169.2357 - val_accuracy: 0.2031 - val_precision: 0.2031 - val_recall: 0.2031 - val_auc: 0.5222\n",
      "Epoch 100/500\n",
      "120/120 [==============================] - 5s 40ms/step - loss: 46.6571 - accuracy: 0.4567 - precision: 0.4567 - recall: 0.4567 - auc: 0.6827 - val_loss: 165.2369 - val_accuracy: 0.2594 - val_precision: 0.2594 - val_recall: 0.2594 - val_auc: 0.5569\n",
      "Epoch 101/500\n",
      "120/120 [==============================] - 5s 40ms/step - loss: 50.7417 - accuracy: 0.4745 - precision: 0.4745 - recall: 0.4745 - auc: 0.6966 - val_loss: 169.5852 - val_accuracy: 0.5312 - val_precision: 0.5312 - val_recall: 0.5312 - val_auc: 0.7244\n",
      "Epoch 102/500\n",
      "120/120 [==============================] - 5s 40ms/step - loss: 63.8679 - accuracy: 0.4275 - precision: 0.4269 - recall: 0.4265 - auc: 0.6668 - val_loss: 135.4837 - val_accuracy: 0.3406 - val_precision: 0.3406 - val_recall: 0.3406 - val_auc: 0.6028\n",
      "Epoch 103/500\n",
      "120/120 [==============================] - 5s 40ms/step - loss: 47.6398 - accuracy: 0.4286 - precision: 0.4286 - recall: 0.4286 - auc: 0.6719 - val_loss: 75.7378 - val_accuracy: 0.4031 - val_precision: 0.4031 - val_recall: 0.4031 - val_auc: 0.6547\n",
      "Epoch 104/500\n",
      "120/120 [==============================] - 5s 40ms/step - loss: 45.3940 - accuracy: 0.4964 - precision: 0.4964 - recall: 0.4964 - auc: 0.7069 - val_loss: 102.3844 - val_accuracy: 0.3812 - val_precision: 0.3812 - val_recall: 0.3812 - val_auc: 0.6285\n",
      "Epoch 105/500\n",
      "120/120 [==============================] - 5s 40ms/step - loss: 41.0866 - accuracy: 0.4713 - precision: 0.4718 - recall: 0.4713 - auc: 0.6973 - val_loss: 259.1267 - val_accuracy: 0.0812 - val_precision: 0.0812 - val_recall: 0.0812 - val_auc: 0.4493\n",
      "Epoch 106/500\n",
      "120/120 [==============================] - 5s 40ms/step - loss: 42.5840 - accuracy: 0.4609 - precision: 0.4609 - recall: 0.4609 - auc: 0.6889 - val_loss: 164.2521 - val_accuracy: 0.3812 - val_precision: 0.3812 - val_recall: 0.3812 - val_auc: 0.6272\n",
      "Epoch 107/500\n",
      "120/120 [==============================] - 5s 39ms/step - loss: 44.5580 - accuracy: 0.4567 - precision: 0.4567 - recall: 0.4567 - auc: 0.6886 - val_loss: 245.8771 - val_accuracy: 0.0437 - val_precision: 0.0437 - val_recall: 0.0437 - val_auc: 0.4293\n",
      "Epoch 108/500\n",
      "120/120 [==============================] - 5s 40ms/step - loss: 37.9679 - accuracy: 0.4891 - precision: 0.4891 - recall: 0.4891 - auc: 0.7087 - val_loss: 357.6537 - val_accuracy: 0.0125 - val_precision: 0.0125 - val_recall: 0.0125 - val_auc: 0.4075\n",
      "Epoch 109/500\n",
      "120/120 [==============================] - 5s 40ms/step - loss: 38.3549 - accuracy: 0.4859 - precision: 0.4859 - recall: 0.4859 - auc: 0.7058 - val_loss: 119.7038 - val_accuracy: 0.4313 - val_precision: 0.4313 - val_recall: 0.4313 - val_auc: 0.6587\n",
      "Epoch 110/500\n",
      "120/120 [==============================] - 5s 40ms/step - loss: 55.2007 - accuracy: 0.4463 - precision: 0.4463 - recall: 0.4463 - auc: 0.6773 - val_loss: 98.1403 - val_accuracy: 0.4156 - val_precision: 0.4156 - val_recall: 0.4156 - val_auc: 0.6528\n",
      "Epoch 111/500\n",
      "120/120 [==============================] - 5s 39ms/step - loss: 52.8060 - accuracy: 0.4567 - precision: 0.4567 - recall: 0.4567 - auc: 0.6818 - val_loss: 90.0287 - val_accuracy: 0.4000 - val_precision: 0.4000 - val_recall: 0.4000 - val_auc: 0.6462\n",
      "Epoch 112/500\n",
      "120/120 [==============================] - 5s 40ms/step - loss: 45.2628 - accuracy: 0.4734 - precision: 0.4734 - recall: 0.4734 - auc: 0.7014 - val_loss: 189.5475 - val_accuracy: 0.2531 - val_precision: 0.2531 - val_recall: 0.2531 - val_auc: 0.5508\n",
      "Epoch 113/500\n",
      "120/120 [==============================] - 5s 40ms/step - loss: 60.6898 - accuracy: 0.4526 - precision: 0.4526 - recall: 0.4526 - auc: 0.6821 - val_loss: 97.1039 - val_accuracy: 0.2969 - val_precision: 0.2969 - val_recall: 0.2969 - val_auc: 0.5790\n",
      "Epoch 114/500\n",
      "120/120 [==============================] - 5s 39ms/step - loss: 46.1878 - accuracy: 0.4536 - precision: 0.4536 - recall: 0.4536 - auc: 0.6834 - val_loss: 264.2208 - val_accuracy: 0.0531 - val_precision: 0.0531 - val_recall: 0.0531 - val_auc: 0.4331\n",
      "Epoch 115/500\n",
      "120/120 [==============================] - 5s 40ms/step - loss: 45.1170 - accuracy: 0.4661 - precision: 0.4661 - recall: 0.4661 - auc: 0.6885 - val_loss: 216.4469 - val_accuracy: 0.1000 - val_precision: 0.1000 - val_recall: 0.1000 - val_auc: 0.4608\n",
      "Epoch 116/500\n",
      "120/120 [==============================] - 5s 39ms/step - loss: 41.5472 - accuracy: 0.4578 - precision: 0.4578 - recall: 0.4578 - auc: 0.6887 - val_loss: 274.0305 - val_accuracy: 0.0188 - val_precision: 0.0188 - val_recall: 0.0188 - val_auc: 0.4112\n",
      "Epoch 117/500\n",
      "120/120 [==============================] - 5s 40ms/step - loss: 38.1074 - accuracy: 0.4578 - precision: 0.4578 - recall: 0.4578 - auc: 0.6837 - val_loss: 70.5655 - val_accuracy: 0.4625 - val_precision: 0.4625 - val_recall: 0.4625 - val_auc: 0.6875\n",
      "Epoch 118/500\n",
      "120/120 [==============================] - 5s 40ms/step - loss: 48.1240 - accuracy: 0.4818 - precision: 0.4818 - recall: 0.4818 - auc: 0.6952 - val_loss: 71.4164 - val_accuracy: 0.4719 - val_precision: 0.4719 - val_recall: 0.4719 - val_auc: 0.6939\n",
      "Epoch 119/500\n",
      "120/120 [==============================] - 5s 40ms/step - loss: 44.6356 - accuracy: 0.4703 - precision: 0.4708 - recall: 0.4703 - auc: 0.6895 - val_loss: 283.9683 - val_accuracy: 0.0188 - val_precision: 0.0188 - val_recall: 0.0188 - val_auc: 0.4112\n",
      "Epoch 120/500\n",
      "120/120 [==============================] - 5s 39ms/step - loss: 58.6191 - accuracy: 0.4098 - precision: 0.4098 - recall: 0.4098 - auc: 0.6592 - val_loss: 190.3301 - val_accuracy: 0.2562 - val_precision: 0.2562 - val_recall: 0.2562 - val_auc: 0.5521\n",
      "Epoch 121/500\n",
      "120/120 [==============================] - 5s 40ms/step - loss: 42.8666 - accuracy: 0.4692 - precision: 0.4692 - recall: 0.4692 - auc: 0.6957 - val_loss: 120.4709 - val_accuracy: 0.4094 - val_precision: 0.4094 - val_recall: 0.4094 - val_auc: 0.6466\n",
      "Epoch 122/500\n",
      "120/120 [==============================] - 5s 40ms/step - loss: 42.5226 - accuracy: 0.4473 - precision: 0.4473 - recall: 0.4473 - auc: 0.6820 - val_loss: 181.0032 - val_accuracy: 0.2844 - val_precision: 0.2844 - val_recall: 0.2844 - val_auc: 0.5750\n",
      "Epoch 123/500\n",
      "120/120 [==============================] - 5s 40ms/step - loss: 50.4358 - accuracy: 0.4640 - precision: 0.4640 - recall: 0.4640 - auc: 0.6917 - val_loss: 168.1375 - val_accuracy: 0.3250 - val_precision: 0.3250 - val_recall: 0.3250 - val_auc: 0.5955\n",
      "Epoch 124/500\n",
      "120/120 [==============================] - 5s 40ms/step - loss: 42.5522 - accuracy: 0.4849 - precision: 0.4849 - recall: 0.4849 - auc: 0.7094 - val_loss: 105.7476 - val_accuracy: 0.3812 - val_precision: 0.3812 - val_recall: 0.3812 - val_auc: 0.6338\n",
      "Epoch 125/500\n",
      "120/120 [==============================] - 5s 40ms/step - loss: 44.9738 - accuracy: 0.4588 - precision: 0.4587 - recall: 0.4578 - auc: 0.6856 - val_loss: 93.6151 - val_accuracy: 0.4625 - val_precision: 0.4625 - val_recall: 0.4625 - val_auc: 0.6815\n",
      "Epoch 126/500\n",
      "120/120 [==============================] - 5s 39ms/step - loss: 44.0294 - accuracy: 0.4828 - precision: 0.4828 - recall: 0.4828 - auc: 0.6993 - val_loss: 82.6510 - val_accuracy: 0.4406 - val_precision: 0.4406 - val_recall: 0.4406 - val_auc: 0.6669\n",
      "Epoch 127/500\n",
      "120/120 [==============================] - 5s 39ms/step - loss: 37.7967 - accuracy: 0.4786 - precision: 0.4786 - recall: 0.4786 - auc: 0.7024 - val_loss: 184.3361 - val_accuracy: 0.3000 - val_precision: 0.3000 - val_recall: 0.3000 - val_auc: 0.5801\n",
      "Epoch 128/500\n",
      "120/120 [==============================] - 5s 40ms/step - loss: 53.0646 - accuracy: 0.4254 - precision: 0.4248 - recall: 0.4244 - auc: 0.6631 - val_loss: 175.7001 - val_accuracy: 0.2812 - val_precision: 0.2812 - val_recall: 0.2812 - val_auc: 0.5726\n",
      "Epoch 129/500\n",
      "120/120 [==============================] - 5s 40ms/step - loss: 38.6059 - accuracy: 0.4484 - precision: 0.4484 - recall: 0.4484 - auc: 0.6820 - val_loss: 249.2316 - val_accuracy: 0.0812 - val_precision: 0.0812 - val_recall: 0.0812 - val_auc: 0.4495\n",
      "Epoch 130/500\n",
      "120/120 [==============================] - 5s 40ms/step - loss: 48.4737 - accuracy: 0.4672 - precision: 0.4672 - recall: 0.4672 - auc: 0.6881 - val_loss: 180.3866 - val_accuracy: 0.1719 - val_precision: 0.1719 - val_recall: 0.1719 - val_auc: 0.5048\n",
      "Epoch 131/500\n",
      "120/120 [==============================] - 5s 40ms/step - loss: 56.3038 - accuracy: 0.4317 - precision: 0.4317 - recall: 0.4317 - auc: 0.6696 - val_loss: 98.7008 - val_accuracy: 0.5406 - val_precision: 0.5406 - val_recall: 0.5406 - val_auc: 0.7277\n",
      "Epoch 132/500\n",
      "120/120 [==============================] - 5s 40ms/step - loss: 47.0238 - accuracy: 0.4786 - precision: 0.4786 - recall: 0.4786 - auc: 0.6998 - val_loss: 97.3866 - val_accuracy: 0.4375 - val_precision: 0.4375 - val_recall: 0.4375 - val_auc: 0.6649\n",
      "Epoch 133/500\n",
      "120/120 [==============================] - 5s 40ms/step - loss: 50.0153 - accuracy: 0.4421 - precision: 0.4421 - recall: 0.4421 - auc: 0.6734 - val_loss: 76.4470 - val_accuracy: 0.4062 - val_precision: 0.4062 - val_recall: 0.4062 - val_auc: 0.6539\n",
      "Epoch 134/500\n",
      "120/120 [==============================] - 5s 39ms/step - loss: 46.7687 - accuracy: 0.4828 - precision: 0.4828 - recall: 0.4828 - auc: 0.6977 - val_loss: 339.9888 - val_accuracy: 0.0125 - val_precision: 0.0125 - val_recall: 0.0125 - val_auc: 0.4075\n",
      "Epoch 135/500\n",
      "120/120 [==============================] - 5s 40ms/step - loss: 50.3991 - accuracy: 0.4807 - precision: 0.4807 - recall: 0.4807 - auc: 0.6992 - val_loss: 90.7775 - val_accuracy: 0.5094 - val_precision: 0.5094 - val_recall: 0.5094 - val_auc: 0.7123\n",
      "Epoch 136/500\n",
      "120/120 [==============================] - 5s 40ms/step - loss: 60.6113 - accuracy: 0.4442 - precision: 0.4442 - recall: 0.4442 - auc: 0.6717 - val_loss: 133.1327 - val_accuracy: 0.2281 - val_precision: 0.2281 - val_recall: 0.2281 - val_auc: 0.5379\n",
      "Epoch 137/500\n",
      "120/120 [==============================] - 5s 39ms/step - loss: 41.2970 - accuracy: 0.4640 - precision: 0.4640 - recall: 0.4640 - auc: 0.6922 - val_loss: 319.9822 - val_accuracy: 0.0125 - val_precision: 0.0125 - val_recall: 0.0125 - val_auc: 0.4075\n",
      "Epoch 138/500\n",
      "120/120 [==============================] - 5s 39ms/step - loss: 45.6545 - accuracy: 0.4713 - precision: 0.4713 - recall: 0.4713 - auc: 0.6976 - val_loss: 97.9667 - val_accuracy: 0.3969 - val_precision: 0.3969 - val_recall: 0.3969 - val_auc: 0.6421\n",
      "Epoch 139/500\n",
      "120/120 [==============================] - 5s 39ms/step - loss: 37.9574 - accuracy: 0.4609 - precision: 0.4609 - recall: 0.4609 - auc: 0.6895 - val_loss: 89.7444 - val_accuracy: 0.3844 - val_precision: 0.3844 - val_recall: 0.3844 - val_auc: 0.6302\n",
      "Epoch 140/500\n",
      "120/120 [==============================] - 5s 40ms/step - loss: 40.2808 - accuracy: 0.4838 - precision: 0.4838 - recall: 0.4838 - auc: 0.7011 - val_loss: 77.5636 - val_accuracy: 0.5437 - val_precision: 0.5437 - val_recall: 0.5437 - val_auc: 0.7319\n",
      "Epoch 141/500\n",
      "120/120 [==============================] - 5s 39ms/step - loss: 45.2974 - accuracy: 0.4901 - precision: 0.4901 - recall: 0.4901 - auc: 0.7074 - val_loss: 399.6155 - val_accuracy: 0.0125 - val_precision: 0.0125 - val_recall: 0.0125 - val_auc: 0.4075\n",
      "Epoch 142/500\n",
      "120/120 [==============================] - 5s 40ms/step - loss: 44.3053 - accuracy: 0.4619 - precision: 0.4619 - recall: 0.4619 - auc: 0.6866 - val_loss: 63.9172 - val_accuracy: 0.5031 - val_precision: 0.5031 - val_recall: 0.5031 - val_auc: 0.7123\n",
      "Epoch 143/500\n",
      "120/120 [==============================] - 5s 40ms/step - loss: 37.7388 - accuracy: 0.4859 - precision: 0.4859 - recall: 0.4859 - auc: 0.7039 - val_loss: 64.5523 - val_accuracy: 0.4656 - val_precision: 0.4656 - val_recall: 0.4656 - val_auc: 0.6932\n",
      "Epoch 144/500\n",
      "120/120 [==============================] - 5s 40ms/step - loss: 41.5184 - accuracy: 0.4484 - precision: 0.4484 - recall: 0.4484 - auc: 0.6821 - val_loss: 139.8535 - val_accuracy: 0.3344 - val_precision: 0.3344 - val_recall: 0.3344 - val_auc: 0.6024\n",
      "Epoch 145/500\n",
      "120/120 [==============================] - 5s 40ms/step - loss: 46.4486 - accuracy: 0.4776 - precision: 0.4776 - recall: 0.4776 - auc: 0.7014 - val_loss: 162.8193 - val_accuracy: 0.1500 - val_precision: 0.1500 - val_recall: 0.1500 - val_auc: 0.4963\n",
      "Epoch 146/500\n",
      "120/120 [==============================] - 5s 40ms/step - loss: 49.5501 - accuracy: 0.4682 - precision: 0.4682 - recall: 0.4682 - auc: 0.6864 - val_loss: 180.9671 - val_accuracy: 0.2469 - val_precision: 0.2469 - val_recall: 0.2469 - val_auc: 0.5507\n",
      "Epoch 147/500\n",
      "120/120 [==============================] - 5s 40ms/step - loss: 37.3101 - accuracy: 0.4849 - precision: 0.4854 - recall: 0.4849 - auc: 0.7015 - val_loss: 98.6187 - val_accuracy: 0.4281 - val_precision: 0.4281 - val_recall: 0.4281 - val_auc: 0.6567\n",
      "Epoch 148/500\n",
      "120/120 [==============================] - 5s 40ms/step - loss: 42.7207 - accuracy: 0.4546 - precision: 0.4546 - recall: 0.4546 - auc: 0.6869 - val_loss: 99.7660 - val_accuracy: 0.3938 - val_precision: 0.3938 - val_recall: 0.3938 - val_auc: 0.6379\n",
      "Epoch 149/500\n",
      "120/120 [==============================] - 5s 40ms/step - loss: 40.2290 - accuracy: 0.4619 - precision: 0.4619 - recall: 0.4619 - auc: 0.6877 - val_loss: 203.0916 - val_accuracy: 0.1000 - val_precision: 0.1000 - val_recall: 0.1000 - val_auc: 0.4637\n",
      "Epoch 150/500\n",
      "120/120 [==============================] - 5s 40ms/step - loss: 44.2644 - accuracy: 0.4765 - precision: 0.4765 - recall: 0.4765 - auc: 0.6978 - val_loss: 89.0400 - val_accuracy: 0.4375 - val_precision: 0.4375 - val_recall: 0.4375 - val_auc: 0.6629\n",
      "Epoch 151/500\n",
      "120/120 [==============================] - 5s 40ms/step - loss: 43.5272 - accuracy: 0.4599 - precision: 0.4599 - recall: 0.4599 - auc: 0.6887 - val_loss: 130.8702 - val_accuracy: 0.2781 - val_precision: 0.2781 - val_recall: 0.2781 - val_auc: 0.5816\n",
      "Epoch 152/500\n",
      "120/120 [==============================] - 5s 40ms/step - loss: 46.1018 - accuracy: 0.4661 - precision: 0.4661 - recall: 0.4661 - auc: 0.6876 - val_loss: 268.9233 - val_accuracy: 0.0188 - val_precision: 0.0188 - val_recall: 0.0188 - val_auc: 0.4112\n",
      "Epoch 153/500\n",
      "120/120 [==============================] - 5s 40ms/step - loss: 49.9491 - accuracy: 0.4588 - precision: 0.4598 - recall: 0.4588 - auc: 0.6840 - val_loss: 97.4786 - val_accuracy: 0.4313 - val_precision: 0.4313 - val_recall: 0.4313 - val_auc: 0.6618\n",
      "Epoch 154/500\n",
      "120/120 [==============================] - 5s 40ms/step - loss: 50.8754 - accuracy: 0.4411 - precision: 0.4411 - recall: 0.4411 - auc: 0.6720 - val_loss: 107.3442 - val_accuracy: 0.4187 - val_precision: 0.4187 - val_recall: 0.4187 - val_auc: 0.6507\n",
      "Epoch 155/500\n",
      "120/120 [==============================] - 5s 40ms/step - loss: 44.0564 - accuracy: 0.4713 - precision: 0.4713 - recall: 0.4713 - auc: 0.7010 - val_loss: 111.1579 - val_accuracy: 0.3875 - val_precision: 0.3875 - val_recall: 0.3875 - val_auc: 0.6422\n",
      "Epoch 156/500\n",
      "120/120 [==============================] - 5s 40ms/step - loss: 56.6218 - accuracy: 0.4202 - precision: 0.4202 - recall: 0.4202 - auc: 0.6593 - val_loss: 285.5086 - val_accuracy: 0.0125 - val_precision: 0.0125 - val_recall: 0.0125 - val_auc: 0.4088\n",
      "Epoch 157/500\n",
      "120/120 [==============================] - 5s 40ms/step - loss: 46.4925 - accuracy: 0.4588 - precision: 0.4588 - recall: 0.4588 - auc: 0.6869 - val_loss: 322.0949 - val_accuracy: 0.0125 - val_precision: 0.0125 - val_recall: 0.0125 - val_auc: 0.4075\n",
      "Epoch 158/500\n",
      "120/120 [==============================] - 5s 41ms/step - loss: 45.2294 - accuracy: 0.4682 - precision: 0.4682 - recall: 0.4682 - auc: 0.6944 - val_loss: 304.8561 - val_accuracy: 0.0188 - val_precision: 0.0188 - val_recall: 0.0188 - val_auc: 0.4106\n",
      "Epoch 159/500\n",
      "120/120 [==============================] - 5s 40ms/step - loss: 49.3531 - accuracy: 0.4703 - precision: 0.4708 - recall: 0.4703 - auc: 0.6914 - val_loss: 151.5111 - val_accuracy: 0.3406 - val_precision: 0.3406 - val_recall: 0.3406 - val_auc: 0.6026\n",
      "Epoch 160/500\n",
      "120/120 [==============================] - 5s 40ms/step - loss: 40.3438 - accuracy: 0.4765 - precision: 0.4765 - recall: 0.4765 - auc: 0.6949 - val_loss: 167.2846 - val_accuracy: 0.2219 - val_precision: 0.2219 - val_recall: 0.2219 - val_auc: 0.5316\n",
      "Epoch 161/500\n",
      "120/120 [==============================] - 5s 40ms/step - loss: 47.7067 - accuracy: 0.4661 - precision: 0.4661 - recall: 0.4661 - auc: 0.6878 - val_loss: 213.9274 - val_accuracy: 0.0437 - val_precision: 0.0437 - val_recall: 0.0437 - val_auc: 0.4333\n",
      "Epoch 162/500\n",
      "120/120 [==============================] - 5s 40ms/step - loss: 45.2110 - accuracy: 0.4129 - precision: 0.4129 - recall: 0.4129 - auc: 0.6632 - val_loss: 198.2740 - val_accuracy: 0.0906 - val_precision: 0.0906 - val_recall: 0.0906 - val_auc: 0.4555\n",
      "Epoch 163/500\n",
      "120/120 [==============================] - 5s 40ms/step - loss: 58.5001 - accuracy: 0.4473 - precision: 0.4473 - recall: 0.4473 - auc: 0.6738 - val_loss: 107.1693 - val_accuracy: 0.4281 - val_precision: 0.4281 - val_recall: 0.4281 - val_auc: 0.6684\n",
      "Epoch 164/500\n",
      " 21/120 [====>.........................] - ETA: 3s - loss: 55.9681 - accuracy: 0.4286 - precision: 0.4286 - recall: 0.4286 - auc: 0.6679"
     ]
    }
   ],
   "source": [
    "model_history=model.fit(\n",
    "    x=[X_train_num, X_train_img], y=y_train_oh,\n",
    "    validation_data=([X_val_num, X_val_img], y_val_oh),\n",
    "    epochs=epochs , \n",
    "    batch_size=8,\n",
    "    #steps_per_epoch = X_train_num.shape[0]//batch_size,\n",
    "    #validation_steps = X_train_num.shape[0]//batch_size,\n",
    "    #callbacks=[early_stopping]\n",
    ")"
   ]
  },
  {
   "cell_type": "code",
   "execution_count": 92,
   "metadata": {},
   "outputs": [
    {
     "name": "stdout",
     "output_type": "stream",
     "text": [
      "dict_keys(['loss', 'accuracy', 'precision', 'recall', 'auc', 'val_loss', 'val_accuracy', 'val_precision', 'val_recall', 'val_auc'])\n"
     ]
    }
   ],
   "source": [
    "print(model_history.history.keys())"
   ]
  },
  {
   "cell_type": "markdown",
   "metadata": {},
   "source": [
    "<a id=\"section6\"></a>\n",
    "# <font color=\"#004D7F\" size=6> 6. Results</font>"
   ]
  },
  {
   "cell_type": "code",
   "execution_count": 101,
   "metadata": {},
   "outputs": [
    {
     "data": {
      "image/png": "[encoded data removed]",
      "text/plain": [
       "<Figure size 640x480 with 1 Axes>"
      ]
     },
     "metadata": {},
     "output_type": "display_data"
    }
   ],
   "source": [
    "#print(model_history.history['loss'])\n",
    "plt.plot(model_history.history['loss'], color = 'red', label = 'loss')\n",
    "plt.plot(model_history.history['val_loss'], color = 'green', label = 'val loss')\n",
    "plt.legend(loc = 'upper right')\n",
    "plt.ylim(0,5)\n",
    "plt.show()"
   ]
  },
  {
   "cell_type": "code",
   "execution_count": 99,
   "metadata": {},
   "outputs": [
    {
     "data": {
      "image/png": "[encoded data removed]",
      "text/plain": [
       "<Figure size 640x480 with 1 Axes>"
      ]
     },
     "metadata": {},
     "output_type": "display_data"
    }
   ],
   "source": [
    "plt.plot(model_history.history['accuracy'], color = 'red', label = 'accuracy')\n",
    "plt.plot(model_history.history['val_accuracy'], color = 'green', label = 'val accuracy')\n",
    "plt.legend(loc = 'upper right')\n",
    "plt.show()"
   ]
  },
  {
   "cell_type": "code",
   "execution_count": 123,
   "metadata": {},
   "outputs": [
    {
     "name": "stdout",
     "output_type": "stream",
     "text": [
      "18/18 [==============================] - 0s 4ms/step\n",
      "[[15, 8], [15, 12], [18, 16], [2, 25], [4, 4], [18, 9], [25, 19], [0, 11], [7, 7], [16, 12], [0, 0], [22, 21], [6, 20], [5, 5], [6, 6], [11, 11], [16, 18], [13, 17], [26, 21], [15, 8], [8, 0], [4, 5], [0, 7], [20, 21], [27, 25], [4, 24], [3, 1], [4, 2], [22, 18], [25, 22], [14, 17], [1, 17], [0, 0], [27, 27], [27, 25], [16, 17], [15, 17], [5, 4], [16, 8], [16, 12], [3, 24], [22, 17], [14, 14], [4, 5], [22, 22], [27, 23], [0, 0], [1, 10], [7, 12], [3, 4], [22, 24], [18, 12], [20, 20], [3, 2], [8, 12], [7, 12], [11, 12], [26, 26], [6, 20], [22, 27], [27, 19], [8, 9], [0, 10], [3, 19], [22, 26], [14, 21], [22, 22], [25, 26], [22, 24], [25, 25], [6, 25], [14, 17], [1, 1], [16, 16], [6, 5], [16, 15], [15, 13], [22, 19], [9, 9], [15, 21], [11, 11], [16, 15], [11, 11], [11, 9], [25, 23], [13, 10], [3, 2], [22, 24], [7, 10], [4, 19], [6, 6], [22, 27], [3, 2], [4, 3], [6, 5], [14, 21], [1, 1], [25, 22], [13, 2], [11, 16], [3, 26], [11, 0], [3, 4], [22, 18], [0, 9], [27, 22], [1, 13], [1, 16], [14, 17], [25, 24], [6, 6], [27, 27], [3, 18], [7, 7], [22, 22], [11, 10], [8, 15], [8, 14], [26, 21], [6, 6], [7, 11], [4, 5], [7, 14], [23, 22], [26, 26], [22, 22], [22, 21], [25, 25], [0, 0], [22, 25], [3, 2], [3, 3], [0, 10], [18, 18], [18, 25], [16, 16], [19, 27], [3, 2], [11, 16], [16, 23], [7, 7], [18, 18], [21, 17], [7, 7], [3, 24], [15, 22], [27, 26], [4, 6], [16, 16], [16, 13], [26, 20], [22, 26], [7, 7], [5, 24], [2, 2], [3, 20], [14, 27], [22, 19], [5, 23], [3, 21], [3, 2], [11, 12], [8, 10], [3, 4], [7, 7], [7, 15], [8, 14], [11, 9], [22, 22], [16, 1], [15, 8], [3, 24], [4, 4], [22, 26], [11, 14], [23, 18], [22, 19], [13, 15], [3, 20], [2, 18], [0, 0], [14, 12], [0, 15], [20, 25], [27, 26], [3, 2], [3, 2], [8, 0], [11, 16], [18, 18], [18, 12], [1, 9], [5, 24], [25, 26], [3, 2], [20, 20], [20, 21], [25, 27], [14, 14], [7, 7], [11, 9], [20, 17], [11, 8], [22, 26], [13, 21], [7, 11], [8, 18], [8, 17], [1, 1], [14, 14], [25, 24], [22, 27], [0, 10], [5, 24], [6, 6], [11, 16], [26, 20], [15, 11], [0, 0], [13, 21], [8, 14], [1, 1], [8, 16], [8, 13], [25, 24], [22, 22], [3, 16], [3, 3], [25, 19], [14, 14], [3, 21], [9, 9], [5, 20], [6, 5], [4, 3], [3, 1], [9, 10], [18, 21], [3, 3], [15, 8], [3, 3], [6, 6], [7, 14], [4, 20], [11, 8], [11, 10], [26, 17], [5, 23], [25, 22], [14, 17], [15, 17], [16, 18], [16, 18], [16, 18], [4, 5], [0, 18], [3, 4], [8, 15], [14, 14], [27, 21], [16, 13], [3, 10], [3, 1], [16, 18], [16, 16], [0, 9], [18, 21], [13, 20], [3, 3], [15, 8], [0, 0], [0, 10], [0, 11], [16, 21], [27, 22], [4, 25], [0, 9], [16, 10], [7, 7], [2, 4], [4, 4], [11, 9], [11, 1], [8, 13], [18, 23], [22, 21], [12, 12], [4, 5], [7, 9], [0, 7], [3, 2], [6, 6], [4, 5], [8, 13], [18, 19], [7, 7], [27, 27], [15, 10], [15, 17], [27, 13], [7, 10], [13, 17], [16, 14], [22, 23], [22, 23], [27, 17], [25, 26], [11, 10], [11, 12], [22, 21], [2, 27], [20, 25], [17, 22], [22, 25], [8, 15], [0, 11], [25, 24], [22, 24], [22, 22], [0, 15], [0, 10], [22, 20], [15, 10], [7, 12], [14, 27], [25, 24], [5, 5], [16, 16], [18, 18], [18, 24], [11, 9], [6, 5], [6, 6], [27, 24], [7, 12], [6, 24], [3, 1], [0, 10], [16, 19], [4, 4], [16, 17], [25, 26], [4, 4], [0, 9], [16, 18], [4, 2], [7, 7], [11, 12], [0, 8], [3, 2], [3, 8], [25, 24], [0, 1], [25, 22], [27, 27], [20, 20], [27, 25], [7, 8], [22, 19], [8, 27], [7, 12], [1, 8], [15, 13], [11, 1], [4, 3], [8, 11], [6, 6], [3, 2], [22, 25], [0, 9], [25, 26], [22, 19], [11, 21], [27, 27], [1, 2], [25, 3], [5, 6], [11, 9], [20, 22], [16, 18], [22, 19], [4, 4], [4, 2], [7, 14], [27, 25], [22, 27], [11, 0], [4, 5], [18, 21], [25, 22], [22, 27], [13, 13], [14, 17], [15, 8], [15, 8], [1, 3], [11, 1], [11, 16], [18, 26], [8, 17], [7, 7], [22, 26], [22, 12], [2, 27], [16, 13], [9, 7], [7, 11], [22, 27], [8, 18], [2, 18], [22, 4], [11, 12], [0, 9], [25, 23], [0, 9], [1, 1], [11, 9], [7, 7], [0, 11], [22, 26], [4, 3], [16, 15], [11, 1], [6, 4], [6, 6], [25, 25], [3, 20], [6, 6], [6, 6], [4, 4], [15, 14], [0, 0], [8, 13], [23, 21], [27, 27], [9, 9], [22, 19], [15, 21], [3, 1], [20, 20], [2, 3], [1, 19], [14, 14], [19, 25], [26, 20], [16, 2], [6, 26], [25, 22], [6, 6], [15, 21], [16, 18], [7, 11], [4, 4], [7, 9], [3, 24], [0, 1], [6, 5], [1, 0], [4, 2], [22, 23], [22, 20], [13, 13], [14, 22], [3, 2], [6, 20], [0, 0], [25, 22], [4, 19], [25, 5], [13, 13], [16, 1], [11, 10], [25, 27], [22, 22], [0, 0], [8, 13], [11, 11], [1, 23], [27, 15], [0, 0], [11, 8], [25, 27], [4, 4], [25, 6], [16, 21], [20, 21], [3, 3], [25, 26], [22, 19], [4, 3], [14, 14], [16, 14], [11, 11], [8, 13], [22, 24], [4, 3], [0, 7], [4, 24], [4, 5], [22, 23], [3, 3], [7, 15], [9, 8], [14, 22], [3, 3], [1, 10], [14, 14], [6, 6], [6, 6], [3, 2], [13, 17], [25, 22], [20, 17], [4, 4], [8, 8], [11, 11], [11, 11], [7, 14], [3, 10], [11, 0], [15, 20], [27, 25], [27, 26], [12, 18], [6, 6], [6, 20], [6, 20], [0, 21], [0, 8], [22, 20], [27, 17], [3, 4], [3, 2], [4, 5], [25, 23], [11, 1], [4, 3], [1, 1], [27, 14], [15, 18], [11, 11], [11, 12], [4, 2], [26, 20], [7, 11], [8, 10], [3, 1], [6, 5], [7, 17], [22, 23], [3, 4], [11, 9], [8, 21], [1, 3], [20, 17], [25, 24], [8, 15], [7, 7], [16, 16], [4, 6]]\n"
     ]
    }
   ],
   "source": [
    "prediction = model.predict([X_test_num,X_test_img/255],)\n",
    "real_values= y_test.values-1\n",
    "predicted_classes = np.argmax(prediction, axis = 1)\n",
    "\n",
    "result = [list(t) for t in zip(predicted_classes, real_values)]\n",
    "#print(np.round(prediction))\n",
    "print(result)"
   ]
  },
  {
   "cell_type": "code",
   "execution_count": 125,
   "metadata": {},
   "outputs": [
    {
     "data": {
      "text/plain": [
       "<sklearn.metrics._plot.confusion_matrix.ConfusionMatrixDisplay at 0x230fd1cd270>"
      ]
     },
     "execution_count": 125,
     "metadata": {},
     "output_type": "execute_result"
    },
    {
     "data": {
      "image/png": "[encoded data removed]",
      "text/plain": [
       "<Figure size 640x480 with 2 Axes>"
      ]
     },
     "metadata": {},
     "output_type": "display_data"
    }
   ],
   "source": [
    "from sklearn.metrics import confusion_matrix\n",
    "true_classes = real_values\n",
    "\n",
    "cm = confusion_matrix(true_classes, predicted_classes)\n",
    "disp = sklearn.metrics.ConfusionMatrixDisplay(confusion_matrix = cm)\n",
    "disp.plot()\n",
    "\n",
    "\n"
   ]
  },
  {
   "cell_type": "code",
   "execution_count": 126,
   "metadata": {},
   "outputs": [
    {
     "name": "stdout",
     "output_type": "stream",
     "text": [
      "              precision    recall  f1-score   support\n",
      "\n",
      "           0       0.28      0.65      0.39        17\n",
      "           1       0.32      0.29      0.30        21\n",
      "           2       0.12      0.04      0.06        24\n",
      "           3       0.16      0.42      0.23        19\n",
      "           4       0.26      0.50      0.34        20\n",
      "           5       0.20      0.11      0.14        18\n",
      "           6       0.52      0.80      0.63        20\n",
      "           7       0.37      0.76      0.50        17\n",
      "           8       0.04      0.06      0.04        18\n",
      "           9       0.50      0.13      0.21        23\n",
      "          10       0.00      0.00      0.00        23\n",
      "          11       0.18      0.42      0.25        19\n",
      "          12       0.50      0.05      0.09        20\n",
      "          13       0.25      0.19      0.21        16\n",
      "          14       0.40      0.40      0.40        20\n",
      "          15       0.00      0.00      0.00        13\n",
      "          16       0.17      0.40      0.24        15\n",
      "          17       0.00      0.00      0.00        25\n",
      "          18       0.25      0.17      0.21        23\n",
      "          19       0.00      0.00      0.00        17\n",
      "          20       0.31      0.17      0.22        23\n",
      "          21       0.00      0.00      0.00        28\n",
      "          22       0.15      0.33      0.21        24\n",
      "          23       0.00      0.00      0.00        14\n",
      "          24       0.00      0.00      0.00        24\n",
      "          25       0.09      0.17      0.11        18\n",
      "          26       0.22      0.10      0.14        20\n",
      "          27       0.24      0.29      0.26        21\n",
      "\n",
      "    accuracy                           0.22       560\n",
      "   macro avg       0.20      0.23      0.19       560\n",
      "weighted avg       0.20      0.22      0.18       560\n",
      "\n"
     ]
    },
    {
     "name": "stderr",
     "output_type": "stream",
     "text": [
      "C:\\Users\\Borja\\anaconda3\\lib\\site-packages\\sklearn\\metrics\\_classification.py:1344: UndefinedMetricWarning: Precision and F-score are ill-defined and being set to 0.0 in labels with no predicted samples. Use `zero_division` parameter to control this behavior.\n",
      "  _warn_prf(average, modifier, msg_start, len(result))\n",
      "C:\\Users\\Borja\\anaconda3\\lib\\site-packages\\sklearn\\metrics\\_classification.py:1344: UndefinedMetricWarning: Precision and F-score are ill-defined and being set to 0.0 in labels with no predicted samples. Use `zero_division` parameter to control this behavior.\n",
      "  _warn_prf(average, modifier, msg_start, len(result))\n",
      "C:\\Users\\Borja\\anaconda3\\lib\\site-packages\\sklearn\\metrics\\_classification.py:1344: UndefinedMetricWarning: Precision and F-score are ill-defined and being set to 0.0 in labels with no predicted samples. Use `zero_division` parameter to control this behavior.\n",
      "  _warn_prf(average, modifier, msg_start, len(result))\n"
     ]
    }
   ],
   "source": [
    "report = sklearn.metrics.classification_report(true_classes, \n",
    "                                               predicted_classes)\n",
    "print(report) "
   ]
  },
  {
   "cell_type": "code",
   "execution_count": 131,
   "metadata": {},
   "outputs": [
    {
     "name": "stdout",
     "output_type": "stream",
     "text": [
      "Test accuracy: 0.22142857142857142\n"
     ]
    }
   ],
   "source": [
    "from sklearn.metrics import roc_auc_score,accuracy_score,precision_score, recall_score\n",
    "\n",
    "test_accuracy = accuracy_score(true_classes, predicted_classes)\n",
    "#test_auc = roc_auc_score(true_classes, predicted_classes)\n",
    "#test_precision = precision_score(true_classes, predicted_classes)\n",
    "#test_recall = recall_score(true_classes, predicted_classes)\n",
    "\n",
    "print(\"Test accuracy:\",test_accuracy)\n",
    "#print(\"Test AUC:\",test_auc)\n",
    "#print(\"Test precision:\",test_precision)\n",
    "#print(\"Test recall:\",test_recall)"
   ]
  },
  {
   "cell_type": "code",
   "execution_count": 129,
   "metadata": {},
   "outputs": [
    {
     "name": "stdout",
     "output_type": "stream",
     "text": [
      "Train accuracy: 0.9642219543457031\n",
      "Train AUC: 0.8031144738197327\n",
      "Train precision: 0.2857142984867096\n",
      "Train recall: 0.0011904762359336019\n",
      "Train loss: 2.751965284347534\n"
     ]
    }
   ],
   "source": [
    "train_accuracy = model_history.history[\"accuracy\"][-1]\n",
    "train_auc = model_history.history[\"auc\"][-1]\n",
    "train_precision = model_history.history[\"precision\"][-1]\n",
    "train_recall = model_history.history[\"recall\"][-1]\n",
    "train_loss = model_history.history[\"loss\"][-1]\n",
    "\n",
    "print(\"Train accuracy:\",train_accuracy)\n",
    "print(\"Train AUC:\",train_auc)\n",
    "print(\"Train precision:\",train_precision)\n",
    "print(\"Train recall:\",train_recall)\n",
    "print(\"Train loss:\",train_loss)"
   ]
  },
  {
   "cell_type": "code",
   "execution_count": 130,
   "metadata": {},
   "outputs": [
    {
     "name": "stdout",
     "output_type": "stream",
     "text": [
      "Validation accuracy: 0.9642857313156128\n",
      "Validation AUC: 0.8785466551780701\n",
      "Validation precision: 0.0\n",
      "Validation recall: 0.0\n",
      "Validation loss: 2.4721860885620117\n"
     ]
    }
   ],
   "source": [
    "validation_accuracy = model_history.history[\"val_accuracy\"][-1]\n",
    "validation_auc = model_history.history[\"val_auc\"][-1]\n",
    "validation_precision = model_history.history[\"val_precision\"][-1]\n",
    "validation_recall = model_history.history[\"val_recall\"][-1]\n",
    "validation_loss = model_history.history[\"val_loss\"][-1]\n",
    "\n",
    "print(\"Validation accuracy:\",validation_accuracy)\n",
    "print(\"Validation AUC:\",validation_auc)\n",
    "print(\"Validation precision:\",validation_precision)\n",
    "print(\"Validation recall:\",validation_recall)\n",
    "print(\"Validation loss:\",validation_loss)"
   ]
  },
  {
   "cell_type": "code",
   "execution_count": 83,
   "metadata": {},
   "outputs": [
    {
     "name": "stdout",
     "output_type": "stream",
     "text": [
      "['TINTO1000', 'TINTO', 1000, '[32, 16, 16]', '[32, 16, 16]', 0.8947368421052632, 0.8788077301015396, 0.8974358974358975, 0.813953488372093, 0.041176450252532956, 0.03854489326477051, 0.908823549747467, 0.9624514579772949, 0.875, 0.8677685856819153, 0.2325555980205536, 0.9473684430122375, 0.9680850505828857, 0.9767441749572754, 0.8936170339584351, 0.20427170395851135]\n"
     ]
    }
   ],
   "source": [
    "import csv\n",
    "\n",
    "experiments_csv = \"C:\\\\Users\\\\Borja\\\\EXP_TINTOLIB\\\\Classification\\\\Classification_Cancer.csv\"\n",
    "model_name = \"TINTO1000\"\n",
    "preprocess = \"TINTO\"\n",
    "\n",
    "FFNN = str(filters_ffnn)\n",
    "CNN = str(filters_cnn)\n",
    "BIAS = (1-train_accuracy-0.05)\n",
    "VARIANCE = (1-train_accuracy)-(1-validation_accuracy)\n",
    "metrics = [model_name,preprocess,epochs,FFNN,CNN,test_accuracy,test_auc,test_precision,test_recall,BIAS,VARIANCE,\n",
    "           train_accuracy,train_auc,train_precision,train_recall,train_loss,\n",
    "           validation_accuracy,validation_auc,validation_precision,validation_recall,validation_loss]\n",
    "print(metrics)\n"
   ]
  },
  {
   "cell_type": "code",
   "execution_count": 85,
   "metadata": {},
   "outputs": [],
   "source": [
    "with open(experiments_csv, 'a', newline='') as archivo:\n",
    "    escritor_csv = csv.writer(archivo)\n",
    "    escritor_csv.writerow(metrics)"
   ]
  },
  {
   "cell_type": "code",
   "execution_count": null,
   "metadata": {},
   "outputs": [],
   "source": []
  }
 ],
 "metadata": {
  "colab": {
   "provenance": [
    {
     "file_id": "1plFq1CpEXIdc9LankaLPiOObRg0_y5l2",
     "timestamp": 1684250343977
    }
   ]
  },
  "kernelspec": {
   "display_name": "Python 3 (ipykernel)",
   "language": "python",
   "name": "python3"
  },
  "language_info": {
   "codemirror_mode": {
    "name": "ipython",
    "version": 3
   },
   "file_extension": ".py",
   "mimetype": "text/x-python",
   "name": "python",
   "nbconvert_exporter": "python",
   "pygments_lexer": "ipython3",
   "version": "3.9.6"
  }
 },
 "nbformat": 4,
 "nbformat_minor": 1
}
